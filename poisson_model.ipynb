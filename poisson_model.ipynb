{
 "cells": [
  {
   "cell_type": "markdown",
   "metadata": {},
   "source": [
    "This notebook was inspired by this blog post: https://dashee87.github.io/football/python/predicting-football-results-with-statistical-modelling/\n",
    "The Poisson model essentially follows the initial part of above blog. The rest of the notebook applies the results to estimating Fantasy Premier League Assistant Manager chip expected points for each manager. "
   ]
  },
  {
   "cell_type": "code",
   "execution_count": null,
   "metadata": {},
   "outputs": [],
   "source": [
    "import pandas as pd\n",
    "import numpy as np\n",
    "import datetime as dt\n",
    "import json\n",
    "import requests\n",
    "from tqdm import tqdm\n",
    "\n",
    "from scipy.stats import poisson\n",
    "import statsmodels.api as sm\n",
    "import statsmodels.formula.api as smf\n",
    "from random import choices\n",
    "\n",
    "import matplotlib.pyplot as plt\n",
    "import seaborn as sns\n",
    "import plotly.express as px\n",
    "import plotly.graph_objects as go"
   ]
  },
  {
   "cell_type": "markdown",
   "metadata": {},
   "source": [
    "# Fetch data"
   ]
  },
  {
   "cell_type": "code",
   "execution_count": null,
   "metadata": {},
   "outputs": [],
   "source": [
    "matches24_25 = pd.read_html('https://fbref.com/en/comps/9/schedule/Premier-League-Scores-and-Fixtures')[0]\n",
    "matches23_24 = pd.read_html('https://fbref.com/en/comps/9/2023-2024/schedule/2023-2024-Premier-League-Scores-and-Fixtures')[0]\n",
    "fixtures_fbref = pd.concat([matches23_24, matches24_25], ignore_index=True)\n",
    "fixtures_fbref['Date'] = pd.to_datetime(fixtures_fbref['Date'])\n",
    "display(fixtures_fbref)"
   ]
  },
  {
   "cell_type": "code",
   "execution_count": null,
   "metadata": {},
   "outputs": [],
   "source": [
    "results = fixtures_fbref[fixtures_fbref['Score'].notnull()]\n",
    "results = results.reset_index()\n",
    "results"
   ]
  },
  {
   "cell_type": "markdown",
   "metadata": {},
   "source": [
    "# Process data"
   ]
  },
  {
   "cell_type": "code",
   "execution_count": null,
   "metadata": {},
   "outputs": [],
   "source": [
    "results['home_goals'] = results['Score'].apply(lambda x: x.split('–')[0])\n",
    "results['away_goals'] = results['Score'].apply(lambda x: x.split('–')[1])\n",
    "results"
   ]
  },
  {
   "cell_type": "code",
   "execution_count": null,
   "metadata": {},
   "outputs": [],
   "source": [
    "current_date = dt.datetime.today()\n",
    "results['days_since'] = results['Date'].apply(lambda x: (current_date-x).days)\n",
    "results"
   ]
  },
  {
   "cell_type": "code",
   "execution_count": null,
   "metadata": {},
   "outputs": [],
   "source": [
    "results = results[results.days_since <= 365]\n",
    "results"
   ]
  },
  {
   "cell_type": "markdown",
   "metadata": {},
   "source": [
    "# Model"
   ]
  },
  {
   "cell_type": "code",
   "execution_count": null,
   "metadata": {},
   "outputs": [],
   "source": [
    "def predict_average_goals(foot_model, homeTeam, awayTeam):\n",
    "    home_goals_avg = foot_model.predict(pd.DataFrame(data={'team': homeTeam, \n",
    "                                                            'opponent': awayTeam,'home':1},\n",
    "                                                      index=[1])).values[0]\n",
    "    away_goals_avg = foot_model.predict(pd.DataFrame(data={'team': awayTeam, \n",
    "                                                            'opponent': homeTeam,'home':0},\n",
    "                                                      index=[1])).values[0]\n",
    "    return home_goals_avg, away_goals_avg"
   ]
  },
  {
   "cell_type": "code",
   "execution_count": null,
   "metadata": {},
   "outputs": [],
   "source": [
    "goal_model_data = pd.concat([results[['Home','Away','home_goals']].assign(home=1).rename(\n",
    "            columns={'Home':'team', 'Away':'opponent','home_goals':'goals'}),\n",
    "           results[['Away','Home','away_goals']].assign(home=0).rename(\n",
    "            columns={'Away':'team', 'Home':'opponent','away_goals':'goals'})]).reset_index(drop=True)\n",
    "\n",
    "goal_model_data['goals'] = goal_model_data['goals'].apply(lambda x: int(x))\n",
    "\n",
    "goal_model_data"
   ]
  },
  {
   "cell_type": "code",
   "execution_count": null,
   "metadata": {},
   "outputs": [],
   "source": [
    "poisson_model = smf.glm(formula=\"goals ~ home + team + opponent\", \n",
    "                        data=goal_model_data, \n",
    "                        family=sm.families.Poisson()).fit()\n",
    "\n",
    "print(poisson_model.summary())"
   ]
  },
  {
   "cell_type": "code",
   "execution_count": null,
   "metadata": {},
   "outputs": [],
   "source": [
    "median_attack_value = poisson_model.params.iloc[1:23].median()\n",
    "median_attack_team = (poisson_model.params.iloc[1:23] - median_attack_value).abs().idxmin()\n",
    "median_defense_value = poisson_model.params.iloc[23:45].median()\n",
    "median_defense_team = (poisson_model.params.iloc[23:45] - median_defense_value).abs().idxmin()\n",
    "print(f'Median attack: {median_attack_team}')\n",
    "print(f'Median defense: {median_defense_team}')"
   ]
  },
  {
   "cell_type": "code",
   "execution_count": null,
   "metadata": {},
   "outputs": [],
   "source": [
    "median_attack_team.split('.')[1][:-1]"
   ]
  },
  {
   "cell_type": "code",
   "execution_count": null,
   "metadata": {},
   "outputs": [],
   "source": [
    "teams = \"Arsenal,Aston Villa,Bournemouth,Brentford,Brighton,Chelsea,Crystal Palace,Everton,Fulham,Ipswich Town,Leicester City,Liverpool,Manchester City,Manchester Utd,Newcastle Utd,Nott'ham Forest,Southampton,Tottenham,West Ham,Wolves\" \n",
    "teams = teams.split(',')"
   ]
  },
  {
   "cell_type": "code",
   "execution_count": null,
   "metadata": {},
   "outputs": [],
   "source": [
    "for team in teams:\n",
    "    home_goals_avg, _ = predict_average_goals(poisson_model, team, median_defense_team.split('.')[1][:-1])\n",
    "    _, away_goals_avg = predict_average_goals(poisson_model, median_attack_team.split('.')[1][:-1], team)\n",
    "    print(f'Attack rating for team: {team}')\n",
    "    print(np.round(np.mean((home_goals_avg, away_goals_avg)),2))"
   ]
  },
  {
   "cell_type": "code",
   "execution_count": null,
   "metadata": {},
   "outputs": [],
   "source": [
    "for team in teams:\n",
    "    _, away_goals_avg = predict_average_goals(poisson_model, team, median_defense_team.split('.')[1][:-1])\n",
    "    home_goals_avg,_  = predict_average_goals(poisson_model, median_attack_team.split('.')[1][:-1], team)\n",
    "    print(f'Defense rating for team: {team}')\n",
    "    print(np.round(np.mean((home_goals_avg, away_goals_avg)),2))"
   ]
  },
  {
   "cell_type": "markdown",
   "metadata": {},
   "source": [
    "# Predict fixtures"
   ]
  },
  {
   "cell_type": "code",
   "execution_count": null,
   "metadata": {},
   "outputs": [],
   "source": [
    "def scoreline_probabilities(foot_model, homeTeam, awayTeam, max_goals=10):\n",
    "    home_goals_avg, away_goals_avg = predict_average_goals(foot_model, homeTeam, awayTeam)\n",
    "    team_pred = [[poisson.pmf(i, team_avg) for i in range(0, max_goals+1)] for team_avg in [home_goals_avg, away_goals_avg]]\n",
    "    return(np.outer(np.array(team_pred[0]), np.array(team_pred[1])))"
   ]
  },
  {
   "cell_type": "code",
   "execution_count": null,
   "metadata": {},
   "outputs": [],
   "source": [
    "fixtures = fixtures_fbref[(fixtures_fbref['Score'].isnull()) & (fixtures_fbref['Wk'].notnull())].reset_index()\n",
    "fixtures"
   ]
  },
  {
   "cell_type": "code",
   "execution_count": null,
   "metadata": {},
   "outputs": [],
   "source": [
    "home_team = 'Chelsea'\n",
    "away_team = 'Tottenham'\n",
    "outcome_matrix = scoreline_probabilities(poisson_model, home_team, away_team)"
   ]
  },
  {
   "cell_type": "code",
   "execution_count": null,
   "metadata": {},
   "outputs": [],
   "source": [
    "ax = sns.heatmap(outcome_matrix, annot=True, fmt=\".2f\")\n",
    "ax.set(xlabel=away_team, ylabel=home_team)\n",
    "ax.xaxis.tick_top()\n",
    "ax.xaxis.set_label_position('top')"
   ]
  },
  {
   "cell_type": "code",
   "execution_count": null,
   "metadata": {},
   "outputs": [],
   "source": [
    "poisson_model.predict(pd.DataFrame(data={'team': 'Everton', 'opponent': 'Liverpool', 'home':1},index=[1]))"
   ]
  },
  {
   "cell_type": "code",
   "execution_count": null,
   "metadata": {},
   "outputs": [],
   "source": [
    "poisson_model.predict(pd.DataFrame(data={'team': 'Tottenham', 'opponent': 'Chelsea', 'home':0},index=[1]))"
   ]
  },
  {
   "cell_type": "code",
   "execution_count": null,
   "metadata": {},
   "outputs": [],
   "source": [
    "all_probabilities = []\n",
    "for _, fixture in fixtures.iterrows():\n",
    "    # probability of different scorelines\n",
    "    outcome_matrix = scoreline_probabilities(poisson_model, fixture['Home'], fixture['Away'])\n",
    "    # match outcome probabilities\n",
    "    probability_home_win = outcome_matrix[np.tril_indices_from(outcome_matrix, k=-1)].sum()\n",
    "    probability_draw = np.trace(outcome_matrix)\n",
    "    probability_away_win = outcome_matrix[np.triu_indices_from(outcome_matrix, k=1)].sum()\n",
    "    # add probabilities to list\n",
    "    all_probabilities.append([probability_home_win, probability_draw, probability_away_win])\n",
    "\n",
    "# add all probabilites to fixtures df\n",
    "fixtures[['home_win_probability', 'draw_probability', 'away_win_probability']] = all_probabilities\n",
    "\n",
    "display(fixtures)"
   ]
  },
  {
   "cell_type": "markdown",
   "metadata": {},
   "source": [
    "## Simulate season"
   ]
  },
  {
   "cell_type": "code",
   "execution_count": null,
   "metadata": {},
   "outputs": [],
   "source": [
    "def simulate_match(foot_model, homeTeam, awayTeam):\n",
    "    '''\n",
    "    Simulate the outcome of a single match.\n",
    "    '''\n",
    "    \n",
    "    # simulate scoreline\n",
    "    home_goals_avg_, away_goals_avg_ = predict_average_goals(foot_model, homeTeam, awayTeam)\n",
    "    home_goals = poisson.rvs(home_goals_avg_)\n",
    "    away_goals = poisson.rvs(away_goals_avg_)\n",
    "\n",
    "    if home_goals > away_goals:\n",
    "        outcome = 'home_win'\n",
    "    elif home_goals == away_goals:   \n",
    "        outcome = 'draw'\n",
    "    else:\n",
    "        outcome = 'away_win'\n",
    "\n",
    "    return outcome, home_goals, away_goals\n",
    "    #return choices(['home_win', 'draw', 'away_win'], probabilities)[0]"
   ]
  },
  {
   "cell_type": "code",
   "execution_count": null,
   "metadata": {},
   "outputs": [],
   "source": [
    "def simulate_season(league_table, fixtures, foot_model):\n",
    "    '''Simulate a whole season. ADD GOALS AND GOAL DIFFERENCE'''\n",
    "    for _, fixture in fixtures.iterrows():\n",
    "        home_team_ = fixture.Home\n",
    "        away_team_ = fixture.Away\n",
    "        # simulate match outcome\n",
    "        outcome, home_goals, away_goals = simulate_match(foot_model, home_team_, away_team_)\n",
    "        # update matches played\n",
    "        league_table.loc[league_table['Squad']==home_team_, 'MP'] += 1\n",
    "        league_table.loc[league_table['Squad']==away_team_, 'MP'] += 1\n",
    "        # update league table \n",
    "        league_table.loc[league_table['Squad']==home_team_, 'GF'] += home_goals\n",
    "        league_table.loc[league_table['Squad']==home_team_, 'GA'] += away_goals\n",
    "        league_table.loc[league_table['Squad']==home_team_, 'GD'] += home_goals - away_goals\n",
    "        league_table.loc[league_table['Squad']==away_team_, 'GF'] += away_goals\n",
    "        league_table.loc[league_table['Squad']==away_team_, 'GA'] += home_goals\n",
    "        league_table.loc[league_table['Squad']==away_team_, 'GD'] += away_goals - home_goals\n",
    "        if outcome=='home_win':\n",
    "            league_table.loc[league_table['Squad']==home_team_, 'Pts'] += 3\n",
    "            league_table.loc[league_table['Squad']==home_team_, 'W'] += 1\n",
    "            league_table.loc[league_table['Squad']==away_team_, 'L'] += 1\n",
    "        elif outcome=='draw':\n",
    "            league_table.loc[league_table['Squad']==home_team_, 'Pts'] += 1\n",
    "            league_table.loc[league_table['Squad']==away_team_, 'Pts'] += 1\n",
    "            league_table.loc[league_table['Squad']==home_team_, 'D'] += 1\n",
    "            league_table.loc[league_table['Squad']==away_team_, 'D'] += 1\n",
    "        elif outcome=='away_win':\n",
    "            league_table.loc[league_table['Squad']==away_team_, 'Pts'] += 3\n",
    "            league_table.loc[league_table['Squad']==away_team_, 'W'] += 1\n",
    "            league_table.loc[league_table['Squad']==home_team_, 'L'] += 1\n",
    "        else: \n",
    "            print('No valid result for:')\n",
    "            print(fixture)\n",
    "    \n",
    "    assert np.all(league_table['MP']==38), 'All teams have not played 38 games!'\n",
    "\n",
    "    league_table = league_table.sort_values(by=['Pts', 'GD', 'GF'], ascending=False)\n",
    "    league_table['Rk'] = np.arange(1,21)\n",
    "\n",
    "    return league_table"
   ]
  },
  {
   "cell_type": "code",
   "execution_count": null,
   "metadata": {},
   "outputs": [],
   "source": [
    "league_table = pd.read_html('https://fbref.com/en/comps/9/Premier-League-Stats')[0]\n",
    "league_table"
   ]
  },
  {
   "cell_type": "code",
   "execution_count": null,
   "metadata": {},
   "outputs": [],
   "source": [
    "simulated_table = simulate_season(league_table[['Squad', 'MP', 'W', 'D', 'L', 'GF', 'GA', 'GD', 'Pts']].copy(), fixtures, poisson_model)\n",
    "display(simulated_table)"
   ]
  },
  {
   "cell_type": "code",
   "execution_count": null,
   "metadata": {},
   "outputs": [],
   "source": [
    "nr_simulations = 1000\n",
    "simulation_results = []\n",
    "for i in tqdm(range(nr_simulations), desc='Simulating...'):\n",
    "    simulated_table = simulate_season(league_table[['Squad', 'MP', 'W', 'D', 'L', 'GF', 'GA', 'GD', 'Pts']].copy(), fixtures, poisson_model)\n",
    "    simulated_table['simulation_nr'] = i\n",
    "    simulation_results.append(simulated_table)\n",
    "\n",
    "simulation_results_df = pd.concat(simulation_results).reset_index(drop=True)"
   ]
  },
  {
   "cell_type": "code",
   "execution_count": null,
   "metadata": {},
   "outputs": [],
   "source": [
    "result_matrix = (\n",
    "    simulation_results_df.groupby(['Squad', 'Rk'])\n",
    "    .size()\n",
    "    .unstack(fill_value=0)\n",
    "    .reindex(columns=range(1, 21), fill_value=0)  # Ensure columns go from 1 to 20\n",
    ")\n",
    "\n",
    "# normalize to percentage\n",
    "result_matrix = 100 * (result_matrix / nr_simulations)"
   ]
  },
  {
   "cell_type": "code",
   "execution_count": null,
   "metadata": {},
   "outputs": [],
   "source": [
    "# Determine the most common position for each team (highest count)\n",
    "#dominant_positions = result_matrix.idxmax(axis=1)\n",
    "# Sort teams based on their most common position\n",
    "#sorted_teams = dominant_positions.sort_values().index\n",
    "\n",
    "# Reorder the matrix based on average final league position\n",
    "sorted_teams = simulation_results_df.groupby(['Squad'])['Rk'].mean().sort_values().index\n",
    "sorted_matrix = result_matrix.loc[sorted_teams]\n",
    "\n",
    "# Plot the reordered heatmap\n",
    "plt.figure(figsize=(10, 6))\n",
    "sns.heatmap(sorted_matrix, annot=True, cmap=\"Blues\", linewidths=0.5, cbar_kws={'label': 'Probability'})\n",
    "\n",
    "plt.title(\"Distribution of Final League Positions\")\n",
    "plt.xlabel(\"Final League Position\")\n",
    "plt.ylabel(\"Team\")\n",
    "\n",
    "plt.show()"
   ]
  },
  {
   "cell_type": "markdown",
   "metadata": {},
   "source": [
    "# FPL Assistant Manager Chip"
   ]
  },
  {
   "cell_type": "code",
   "execution_count": null,
   "metadata": {},
   "outputs": [],
   "source": [
    "#teams = \"Arsenal,Aston Villa,Bournemouth,Brentford,Brighton,Chelsea,Crystal Palace,Everton,Fulham,Ipswich Town,Leicester City,Liverpool,Manchester City,Manchester Utd,Newcastle Utd,Nott'ham Forest,Southampton,Tottenham,West Ham,Wolves\" \n",
    "#teams = teams.split(',')\n",
    "#teams"
   ]
  },
  {
   "cell_type": "code",
   "execution_count": null,
   "metadata": {},
   "outputs": [],
   "source": [
    "fpl_fixtures_data = json.loads(requests.get('https://fantasy.premierleague.com/api/fixtures/').text)\n",
    "fpl_fixtures = pd.DataFrame(fpl_fixtures_data)\n",
    "fpl_fixtures['home_team'] = [teams[i] for i in fpl_fixtures['team_h']-1]\n",
    "fpl_fixtures['away_team'] = [teams[i] for i in fpl_fixtures['team_a']-1]\n",
    "fpl_fixtures"
   ]
  },
  {
   "cell_type": "code",
   "execution_count": null,
   "metadata": {},
   "outputs": [],
   "source": [
    "fixtures = fpl_fixtures[fpl_fixtures['team_h_score'].isnull()].reset_index(drop=True)\n",
    "fixtures"
   ]
  },
  {
   "cell_type": "code",
   "execution_count": null,
   "metadata": {},
   "outputs": [],
   "source": [
    "all_probabilities = []\n",
    "for _, fixture in fixtures.iterrows():\n",
    "    # probability of different scorelines\n",
    "    outcome_matrix = scoreline_probabilities(poisson_model, fixture['home_team'], fixture['away_team'])\n",
    "    # match outcome probabilities\n",
    "    probability_home_win = outcome_matrix[np.tril_indices_from(outcome_matrix, k=-1)].sum()\n",
    "    probability_draw = np.trace(outcome_matrix)\n",
    "    probability_away_win = outcome_matrix[np.triu_indices_from(outcome_matrix, k=1)].sum()\n",
    "    # add probabilities to list\n",
    "    all_probabilities.append([probability_home_win, probability_draw, probability_away_win])\n",
    "\n",
    "# add all probabilites to fixtures df\n",
    "fixtures[['home_win_probability', 'draw_probability', 'away_win_probability']] = all_probabilities\n",
    "\n",
    "fixtures"
   ]
  },
  {
   "cell_type": "code",
   "execution_count": null,
   "metadata": {},
   "outputs": [],
   "source": [
    "def table_bonus_check(focal_team, opponent):\n",
    "    focal_team_rank = league_table.loc[league_table.Squad==focal_team, 'Rk'].values[0]\n",
    "    opponent_rank = league_table.loc[league_table.Squad==opponent, 'Rk'].values[0]\n",
    "    if focal_team_rank - opponent_rank >= 5:\n",
    "        return 1.0\n",
    "    else:\n",
    "        return 0.0"
   ]
  },
  {
   "cell_type": "code",
   "execution_count": null,
   "metadata": {},
   "outputs": [],
   "source": [
    "manager_xp = []\n",
    "for _, row in fixtures.iterrows():\n",
    "    if np.isnan(row.event):\n",
    "        continue\n",
    "    else:\n",
    "        # calculate expected goals for both teams\n",
    "        home_team_xg = poisson_model.predict(pd.DataFrame(data={'team': row.home_team, 'opponent': row.away_team, 'home':1},index=[1])).values[0]\n",
    "        away_team_xg = poisson_model.predict(pd.DataFrame(data={'team': row.away_team, 'opponent': row.home_team, 'home':0},index=[1])).values[0]\n",
    "        \n",
    "        # CALCULATE EXPECTED MANAGER POINTS FOR HOME TEAM\n",
    "        new_row1 = [row.event, row.home_team, 0]\n",
    "        table_bonus_coefficient = table_bonus_check(row.home_team, row.away_team) # 1 or 0\n",
    "        # points for win\n",
    "        new_row1[2] += (6 + 10*table_bonus_coefficient)*row.home_win_probability\n",
    "        # points for draw\n",
    "        new_row1[2] += (3 + 5*table_bonus_coefficient)*row.draw_probability\n",
    "        # expected goals scored\n",
    "        new_row1[2] += home_team_xg\n",
    "        # points for clean sheet\n",
    "        new_row1[2] += poisson.pmf(0, away_team_xg)\n",
    "\n",
    "        # CALCULATE EXPECTED MANAGER POINTS FOR AWAY TEAM\n",
    "        new_row2 = [row.event, row.away_team, 0]\n",
    "        table_bonus_coefficient = table_bonus_check(row.away_team, row.home_team) # 1 or 0\n",
    "        # points for win\n",
    "        new_row2[2] += (6 + 10*table_bonus_coefficient)*row.away_win_probability\n",
    "        # points for draw\n",
    "        new_row2[2] += (3 + 5*table_bonus_coefficient)*row.draw_probability\n",
    "        # expected goals scored\n",
    "        new_row2[2] += away_team_xg\n",
    "        # points for clean sheet\n",
    "        new_row2[2] += poisson.pmf(0, home_team_xg)\n",
    "\n",
    "        # add rows to manager_xp\n",
    "        manager_xp.extend([new_row1, new_row2])\n",
    "        \n",
    "manager_df = pd.DataFrame(manager_xp, columns=['gameweek', 'team', 'expected_points'])\n",
    "manager_df"
   ]
  },
  {
   "cell_type": "code",
   "execution_count": null,
   "metadata": {},
   "outputs": [],
   "source": [
    "weekly_scores = manager_df.groupby(['gameweek', 'team']).sum().reset_index()\n",
    "weekly_scores"
   ]
  },
  {
   "cell_type": "code",
   "execution_count": null,
   "metadata": {},
   "outputs": [],
   "source": [
    "fig = px.line(weekly_scores, x='gameweek', y='expected_points', color='team', markers=True,\n",
    "              title=\"Expected Points per Game Week\",\n",
    "              labels={\"expected_points\": \"Expected Points\", \"gameweek\": \"Game Week\"})\n",
    "\n",
    "fig.show()"
   ]
  },
  {
   "cell_type": "code",
   "execution_count": null,
   "metadata": {},
   "outputs": [],
   "source": [
    "# Get unique teams\n",
    "teams = np.sort(weekly_scores['team'].unique())\n",
    "default_team = teams[0]  # Default highlighted team\n",
    "\n",
    "# Create figure\n",
    "fig = go.Figure()\n",
    "\n",
    "for team in teams:\n",
    "    fig.add_trace(go.Scatter(\n",
    "        x=weekly_scores[weekly_scores['team'] == team]['gameweek'],\n",
    "        y=weekly_scores[weekly_scores['team'] == team]['expected_points'],\n",
    "        mode='lines+markers',\n",
    "        name=team,\n",
    "        line=dict(color='blue' if team == default_team else 'gray'),\n",
    "        opacity=1 if team == default_team else 0.3,\n",
    "        visible=True\n",
    "    ))\n",
    "\n",
    "# Create dropdown menu\n",
    "dropdown_buttons = []\n",
    "for selected_team in teams:\n",
    "    button = {\n",
    "        \"label\": selected_team,\n",
    "        \"method\": \"update\",\n",
    "        \"args\": [\n",
    "            {\n",
    "                \"opacity\": [1 if team == selected_team else 0.3 for team in teams],\n",
    "                \"line\": [dict(color=\"blue\" if team == selected_team else \"gray\") for team in teams],\n",
    "            },\n",
    "            {\"title\": f\"Expected Points per Game Week - {selected_team}\"}\n",
    "        ]\n",
    "    }\n",
    "    dropdown_buttons.append(button)\n",
    "\n",
    "# Add dropdown menu\n",
    "fig.update_layout(\n",
    "    title=f\"Expected Points per Game Week - {default_team}\",\n",
    "    xaxis_title=\"Game Week\",\n",
    "    yaxis_title=\"Expected Points\",\n",
    "    updatemenus=[{\n",
    "        \"buttons\": dropdown_buttons,\n",
    "        \"direction\": \"down\",\n",
    "        \"showactive\": True,\n",
    "    }]\n",
    ")\n",
    "\n",
    "fig.show()"
   ]
  },
  {
   "cell_type": "code",
   "execution_count": null,
   "metadata": {},
   "outputs": [],
   "source": [
    "weekly_scores['3_week_rolling_sum_xp'] = weekly_scores.groupby(\"team\")[\"expected_points\"].rolling(3).sum().reset_index(level=0, drop=True)\n",
    "weekly_scores"
   ]
  },
  {
   "cell_type": "code",
   "execution_count": null,
   "metadata": {},
   "outputs": [],
   "source": [
    "# Get unique teams\n",
    "teams = np.sort(weekly_scores['team'].unique())\n",
    "default_team = teams[0]  # Default highlighted team\n",
    "\n",
    "# Create figure\n",
    "fig = go.Figure()\n",
    "\n",
    "for team in teams:\n",
    "    fig.add_trace(go.Scatter(\n",
    "        x=weekly_scores[weekly_scores['team'] == team]['gameweek'],\n",
    "        y=weekly_scores[weekly_scores['team'] == team]['3_week_rolling_sum_xp'],\n",
    "        mode='lines+markers',\n",
    "        name=team,\n",
    "        line=dict(color='blue' if team == default_team else 'gray'),\n",
    "        opacity=1 if team == default_team else 0.3,\n",
    "        visible=True\n",
    "    ))\n",
    "\n",
    "# Create dropdown menu\n",
    "dropdown_buttons = []\n",
    "for selected_team in teams:\n",
    "    button = {\n",
    "        \"label\": selected_team,\n",
    "        \"method\": \"update\",\n",
    "        \"args\": [\n",
    "            {\n",
    "                \"opacity\": [1 if team == selected_team else 0.3 for team in teams],\n",
    "                \"line\": [dict(color=\"blue\" if team == selected_team else \"gray\") for team in teams],\n",
    "            },\n",
    "            {\"title\": f\"3-week Rolling Sum of Expected Points - {selected_team}\"}\n",
    "        ]\n",
    "    }\n",
    "    dropdown_buttons.append(button)\n",
    "\n",
    "# Add dropdown menu\n",
    "fig.update_layout(\n",
    "    title=f\"3-week Rolling Sum of Expected Points - {default_team}\",\n",
    "    xaxis_title=\"Gameweek\",\n",
    "    yaxis_title=\"Expected Points\",\n",
    "    updatemenus=[{\n",
    "        \"buttons\": dropdown_buttons,\n",
    "        \"direction\": \"down\",\n",
    "        \"showactive\": True,\n",
    "    }]\n",
    ")\n",
    "\n",
    "fig.show()"
   ]
  },
  {
   "cell_type": "code",
   "execution_count": null,
   "metadata": {},
   "outputs": [],
   "source": []
  }
 ],
 "metadata": {
  "kernelspec": {
   "display_name": "match_prediction",
   "language": "python",
   "name": "python3"
  },
  "language_info": {
   "codemirror_mode": {
    "name": "ipython",
    "version": 3
   },
   "file_extension": ".py",
   "mimetype": "text/x-python",
   "name": "python",
   "nbconvert_exporter": "python",
   "pygments_lexer": "ipython3",
   "version": "3.12.9"
  }
 },
 "nbformat": 4,
 "nbformat_minor": 2
}
