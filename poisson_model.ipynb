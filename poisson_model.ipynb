{
 "cells": [
  {
   "cell_type": "code",
   "execution_count": 31,
   "metadata": {},
   "outputs": [],
   "source": [
    "import pandas as pd\n",
    "import numpy as np\n",
    "import datetime as dt\n",
    "import json\n",
    "import requests\n",
    "\n",
    "from scipy.stats import poisson\n",
    "import statsmodels.api as sm\n",
    "import statsmodels.formula.api as smf\n",
    "\n",
    "import matplotlib.pyplot as plt\n",
    "import seaborn as sns\n",
    "import plotly.express as px\n",
    "import plotly.graph_objects as go"
   ]
  },
  {
   "cell_type": "markdown",
   "metadata": {},
   "source": [
    "# Fetch data"
   ]
  },
  {
   "cell_type": "code",
   "execution_count": 2,
   "metadata": {},
   "outputs": [
    {
     "data": {
      "text/html": [
       "<div>\n",
       "<style scoped>\n",
       "    .dataframe tbody tr th:only-of-type {\n",
       "        vertical-align: middle;\n",
       "    }\n",
       "\n",
       "    .dataframe tbody tr th {\n",
       "        vertical-align: top;\n",
       "    }\n",
       "\n",
       "    .dataframe thead th {\n",
       "        text-align: right;\n",
       "    }\n",
       "</style>\n",
       "<table border=\"1\" class=\"dataframe\">\n",
       "  <thead>\n",
       "    <tr style=\"text-align: right;\">\n",
       "      <th></th>\n",
       "      <th>Wk</th>\n",
       "      <th>Day</th>\n",
       "      <th>Date</th>\n",
       "      <th>Time</th>\n",
       "      <th>Home</th>\n",
       "      <th>xG</th>\n",
       "      <th>Score</th>\n",
       "      <th>xG.1</th>\n",
       "      <th>Away</th>\n",
       "      <th>Attendance</th>\n",
       "      <th>Venue</th>\n",
       "      <th>Referee</th>\n",
       "      <th>Match Report</th>\n",
       "      <th>Notes</th>\n",
       "    </tr>\n",
       "  </thead>\n",
       "  <tbody>\n",
       "    <tr>\n",
       "      <th>0</th>\n",
       "      <td>1.0</td>\n",
       "      <td>Fri</td>\n",
       "      <td>2023-08-11</td>\n",
       "      <td>20:00</td>\n",
       "      <td>Burnley</td>\n",
       "      <td>0.3</td>\n",
       "      <td>0–3</td>\n",
       "      <td>1.9</td>\n",
       "      <td>Manchester City</td>\n",
       "      <td>21572.0</td>\n",
       "      <td>Turf Moor</td>\n",
       "      <td>Craig Pawson</td>\n",
       "      <td>Match Report</td>\n",
       "      <td>NaN</td>\n",
       "    </tr>\n",
       "    <tr>\n",
       "      <th>1</th>\n",
       "      <td>1.0</td>\n",
       "      <td>Sat</td>\n",
       "      <td>2023-08-12</td>\n",
       "      <td>12:30</td>\n",
       "      <td>Arsenal</td>\n",
       "      <td>0.8</td>\n",
       "      <td>2–1</td>\n",
       "      <td>1.2</td>\n",
       "      <td>Nott'ham Forest</td>\n",
       "      <td>59984.0</td>\n",
       "      <td>Emirates Stadium</td>\n",
       "      <td>Michael Oliver</td>\n",
       "      <td>Match Report</td>\n",
       "      <td>NaN</td>\n",
       "    </tr>\n",
       "    <tr>\n",
       "      <th>2</th>\n",
       "      <td>1.0</td>\n",
       "      <td>Sat</td>\n",
       "      <td>2023-08-12</td>\n",
       "      <td>15:00</td>\n",
       "      <td>Everton</td>\n",
       "      <td>2.7</td>\n",
       "      <td>0–1</td>\n",
       "      <td>1.5</td>\n",
       "      <td>Fulham</td>\n",
       "      <td>39940.0</td>\n",
       "      <td>Goodison Park</td>\n",
       "      <td>Stuart Attwell</td>\n",
       "      <td>Match Report</td>\n",
       "      <td>NaN</td>\n",
       "    </tr>\n",
       "    <tr>\n",
       "      <th>3</th>\n",
       "      <td>1.0</td>\n",
       "      <td>Sat</td>\n",
       "      <td>2023-08-12</td>\n",
       "      <td>15:00</td>\n",
       "      <td>Sheffield Utd</td>\n",
       "      <td>0.5</td>\n",
       "      <td>0–1</td>\n",
       "      <td>1.9</td>\n",
       "      <td>Crystal Palace</td>\n",
       "      <td>31194.0</td>\n",
       "      <td>Bramall Lane</td>\n",
       "      <td>John Brooks</td>\n",
       "      <td>Match Report</td>\n",
       "      <td>NaN</td>\n",
       "    </tr>\n",
       "    <tr>\n",
       "      <th>4</th>\n",
       "      <td>1.0</td>\n",
       "      <td>Sat</td>\n",
       "      <td>2023-08-12</td>\n",
       "      <td>15:00</td>\n",
       "      <td>Brighton</td>\n",
       "      <td>4.0</td>\n",
       "      <td>4–1</td>\n",
       "      <td>1.5</td>\n",
       "      <td>Luton Town</td>\n",
       "      <td>31872.0</td>\n",
       "      <td>The American Express Community Stadium</td>\n",
       "      <td>David Coote</td>\n",
       "      <td>Match Report</td>\n",
       "      <td>NaN</td>\n",
       "    </tr>\n",
       "    <tr>\n",
       "      <th>...</th>\n",
       "      <td>...</td>\n",
       "      <td>...</td>\n",
       "      <td>...</td>\n",
       "      <td>...</td>\n",
       "      <td>...</td>\n",
       "      <td>...</td>\n",
       "      <td>...</td>\n",
       "      <td>...</td>\n",
       "      <td>...</td>\n",
       "      <td>...</td>\n",
       "      <td>...</td>\n",
       "      <td>...</td>\n",
       "      <td>...</td>\n",
       "      <td>...</td>\n",
       "    </tr>\n",
       "    <tr>\n",
       "      <th>837</th>\n",
       "      <td>38.0</td>\n",
       "      <td>Sun</td>\n",
       "      <td>2025-05-25</td>\n",
       "      <td>16:00</td>\n",
       "      <td>Fulham</td>\n",
       "      <td>NaN</td>\n",
       "      <td>NaN</td>\n",
       "      <td>NaN</td>\n",
       "      <td>Manchester City</td>\n",
       "      <td>NaN</td>\n",
       "      <td>Craven Cottage</td>\n",
       "      <td>NaN</td>\n",
       "      <td>Head-to-Head</td>\n",
       "      <td>NaN</td>\n",
       "    </tr>\n",
       "    <tr>\n",
       "      <th>838</th>\n",
       "      <td>38.0</td>\n",
       "      <td>Sun</td>\n",
       "      <td>2025-05-25</td>\n",
       "      <td>16:00</td>\n",
       "      <td>Nott'ham Forest</td>\n",
       "      <td>NaN</td>\n",
       "      <td>NaN</td>\n",
       "      <td>NaN</td>\n",
       "      <td>Chelsea</td>\n",
       "      <td>NaN</td>\n",
       "      <td>The City Ground</td>\n",
       "      <td>NaN</td>\n",
       "      <td>Head-to-Head</td>\n",
       "      <td>NaN</td>\n",
       "    </tr>\n",
       "    <tr>\n",
       "      <th>839</th>\n",
       "      <td>38.0</td>\n",
       "      <td>Sun</td>\n",
       "      <td>2025-05-25</td>\n",
       "      <td>16:00</td>\n",
       "      <td>Manchester Utd</td>\n",
       "      <td>NaN</td>\n",
       "      <td>NaN</td>\n",
       "      <td>NaN</td>\n",
       "      <td>Aston Villa</td>\n",
       "      <td>NaN</td>\n",
       "      <td>Old Trafford</td>\n",
       "      <td>NaN</td>\n",
       "      <td>Head-to-Head</td>\n",
       "      <td>NaN</td>\n",
       "    </tr>\n",
       "    <tr>\n",
       "      <th>840</th>\n",
       "      <td>38.0</td>\n",
       "      <td>Sun</td>\n",
       "      <td>2025-05-25</td>\n",
       "      <td>16:00</td>\n",
       "      <td>Wolves</td>\n",
       "      <td>NaN</td>\n",
       "      <td>NaN</td>\n",
       "      <td>NaN</td>\n",
       "      <td>Brentford</td>\n",
       "      <td>NaN</td>\n",
       "      <td>Molineux Stadium</td>\n",
       "      <td>NaN</td>\n",
       "      <td>Head-to-Head</td>\n",
       "      <td>NaN</td>\n",
       "    </tr>\n",
       "    <tr>\n",
       "      <th>841</th>\n",
       "      <td>38.0</td>\n",
       "      <td>Sun</td>\n",
       "      <td>2025-05-25</td>\n",
       "      <td>16:00</td>\n",
       "      <td>Tottenham</td>\n",
       "      <td>NaN</td>\n",
       "      <td>NaN</td>\n",
       "      <td>NaN</td>\n",
       "      <td>Brighton</td>\n",
       "      <td>NaN</td>\n",
       "      <td>Tottenham Hotspur Stadium</td>\n",
       "      <td>NaN</td>\n",
       "      <td>Head-to-Head</td>\n",
       "      <td>NaN</td>\n",
       "    </tr>\n",
       "  </tbody>\n",
       "</table>\n",
       "<p>842 rows × 14 columns</p>\n",
       "</div>"
      ],
      "text/plain": [
       "       Wk  Day       Date   Time             Home   xG Score  xG.1  \\\n",
       "0     1.0  Fri 2023-08-11  20:00          Burnley  0.3   0–3   1.9   \n",
       "1     1.0  Sat 2023-08-12  12:30          Arsenal  0.8   2–1   1.2   \n",
       "2     1.0  Sat 2023-08-12  15:00          Everton  2.7   0–1   1.5   \n",
       "3     1.0  Sat 2023-08-12  15:00    Sheffield Utd  0.5   0–1   1.9   \n",
       "4     1.0  Sat 2023-08-12  15:00         Brighton  4.0   4–1   1.5   \n",
       "..    ...  ...        ...    ...              ...  ...   ...   ...   \n",
       "837  38.0  Sun 2025-05-25  16:00           Fulham  NaN   NaN   NaN   \n",
       "838  38.0  Sun 2025-05-25  16:00  Nott'ham Forest  NaN   NaN   NaN   \n",
       "839  38.0  Sun 2025-05-25  16:00   Manchester Utd  NaN   NaN   NaN   \n",
       "840  38.0  Sun 2025-05-25  16:00           Wolves  NaN   NaN   NaN   \n",
       "841  38.0  Sun 2025-05-25  16:00        Tottenham  NaN   NaN   NaN   \n",
       "\n",
       "                Away  Attendance                                   Venue  \\\n",
       "0    Manchester City     21572.0                               Turf Moor   \n",
       "1    Nott'ham Forest     59984.0                        Emirates Stadium   \n",
       "2             Fulham     39940.0                           Goodison Park   \n",
       "3     Crystal Palace     31194.0                            Bramall Lane   \n",
       "4         Luton Town     31872.0  The American Express Community Stadium   \n",
       "..               ...         ...                                     ...   \n",
       "837  Manchester City         NaN                          Craven Cottage   \n",
       "838          Chelsea         NaN                         The City Ground   \n",
       "839      Aston Villa         NaN                            Old Trafford   \n",
       "840        Brentford         NaN                        Molineux Stadium   \n",
       "841         Brighton         NaN               Tottenham Hotspur Stadium   \n",
       "\n",
       "            Referee  Match Report Notes  \n",
       "0      Craig Pawson  Match Report   NaN  \n",
       "1    Michael Oliver  Match Report   NaN  \n",
       "2    Stuart Attwell  Match Report   NaN  \n",
       "3       John Brooks  Match Report   NaN  \n",
       "4       David Coote  Match Report   NaN  \n",
       "..              ...           ...   ...  \n",
       "837             NaN  Head-to-Head   NaN  \n",
       "838             NaN  Head-to-Head   NaN  \n",
       "839             NaN  Head-to-Head   NaN  \n",
       "840             NaN  Head-to-Head   NaN  \n",
       "841             NaN  Head-to-Head   NaN  \n",
       "\n",
       "[842 rows x 14 columns]"
      ]
     },
     "metadata": {},
     "output_type": "display_data"
    }
   ],
   "source": [
    "matches24_25 = pd.read_html('https://fbref.com/en/comps/9/schedule/Premier-League-Scores-and-Fixtures')[0]\n",
    "matches23_24 = pd.read_html('https://fbref.com/en/comps/9/2023-2024/schedule/2023-2024-Premier-League-Scores-and-Fixtures')[0]\n",
    "fixtures_fbref = pd.concat([matches23_24, matches24_25], ignore_index=True)\n",
    "fixtures_fbref['Date'] = pd.to_datetime(fixtures_fbref['Date'])\n",
    "display(fixtures_fbref)"
   ]
  },
  {
   "cell_type": "code",
   "execution_count": 3,
   "metadata": {},
   "outputs": [
    {
     "data": {
      "text/html": [
       "<div>\n",
       "<style scoped>\n",
       "    .dataframe tbody tr th:only-of-type {\n",
       "        vertical-align: middle;\n",
       "    }\n",
       "\n",
       "    .dataframe tbody tr th {\n",
       "        vertical-align: top;\n",
       "    }\n",
       "\n",
       "    .dataframe thead th {\n",
       "        text-align: right;\n",
       "    }\n",
       "</style>\n",
       "<table border=\"1\" class=\"dataframe\">\n",
       "  <thead>\n",
       "    <tr style=\"text-align: right;\">\n",
       "      <th></th>\n",
       "      <th>index</th>\n",
       "      <th>Wk</th>\n",
       "      <th>Day</th>\n",
       "      <th>Date</th>\n",
       "      <th>Time</th>\n",
       "      <th>Home</th>\n",
       "      <th>xG</th>\n",
       "      <th>Score</th>\n",
       "      <th>xG.1</th>\n",
       "      <th>Away</th>\n",
       "      <th>Attendance</th>\n",
       "      <th>Venue</th>\n",
       "      <th>Referee</th>\n",
       "      <th>Match Report</th>\n",
       "      <th>Notes</th>\n",
       "    </tr>\n",
       "  </thead>\n",
       "  <tbody>\n",
       "    <tr>\n",
       "      <th>0</th>\n",
       "      <td>0</td>\n",
       "      <td>1.0</td>\n",
       "      <td>Fri</td>\n",
       "      <td>2023-08-11</td>\n",
       "      <td>20:00</td>\n",
       "      <td>Burnley</td>\n",
       "      <td>0.3</td>\n",
       "      <td>0–3</td>\n",
       "      <td>1.9</td>\n",
       "      <td>Manchester City</td>\n",
       "      <td>21572.0</td>\n",
       "      <td>Turf Moor</td>\n",
       "      <td>Craig Pawson</td>\n",
       "      <td>Match Report</td>\n",
       "      <td>NaN</td>\n",
       "    </tr>\n",
       "    <tr>\n",
       "      <th>1</th>\n",
       "      <td>1</td>\n",
       "      <td>1.0</td>\n",
       "      <td>Sat</td>\n",
       "      <td>2023-08-12</td>\n",
       "      <td>12:30</td>\n",
       "      <td>Arsenal</td>\n",
       "      <td>0.8</td>\n",
       "      <td>2–1</td>\n",
       "      <td>1.2</td>\n",
       "      <td>Nott'ham Forest</td>\n",
       "      <td>59984.0</td>\n",
       "      <td>Emirates Stadium</td>\n",
       "      <td>Michael Oliver</td>\n",
       "      <td>Match Report</td>\n",
       "      <td>NaN</td>\n",
       "    </tr>\n",
       "    <tr>\n",
       "      <th>2</th>\n",
       "      <td>2</td>\n",
       "      <td>1.0</td>\n",
       "      <td>Sat</td>\n",
       "      <td>2023-08-12</td>\n",
       "      <td>15:00</td>\n",
       "      <td>Everton</td>\n",
       "      <td>2.7</td>\n",
       "      <td>0–1</td>\n",
       "      <td>1.5</td>\n",
       "      <td>Fulham</td>\n",
       "      <td>39940.0</td>\n",
       "      <td>Goodison Park</td>\n",
       "      <td>Stuart Attwell</td>\n",
       "      <td>Match Report</td>\n",
       "      <td>NaN</td>\n",
       "    </tr>\n",
       "    <tr>\n",
       "      <th>3</th>\n",
       "      <td>3</td>\n",
       "      <td>1.0</td>\n",
       "      <td>Sat</td>\n",
       "      <td>2023-08-12</td>\n",
       "      <td>15:00</td>\n",
       "      <td>Sheffield Utd</td>\n",
       "      <td>0.5</td>\n",
       "      <td>0–1</td>\n",
       "      <td>1.9</td>\n",
       "      <td>Crystal Palace</td>\n",
       "      <td>31194.0</td>\n",
       "      <td>Bramall Lane</td>\n",
       "      <td>John Brooks</td>\n",
       "      <td>Match Report</td>\n",
       "      <td>NaN</td>\n",
       "    </tr>\n",
       "    <tr>\n",
       "      <th>4</th>\n",
       "      <td>4</td>\n",
       "      <td>1.0</td>\n",
       "      <td>Sat</td>\n",
       "      <td>2023-08-12</td>\n",
       "      <td>15:00</td>\n",
       "      <td>Brighton</td>\n",
       "      <td>4.0</td>\n",
       "      <td>4–1</td>\n",
       "      <td>1.5</td>\n",
       "      <td>Luton Town</td>\n",
       "      <td>31872.0</td>\n",
       "      <td>The American Express Community Stadium</td>\n",
       "      <td>David Coote</td>\n",
       "      <td>Match Report</td>\n",
       "      <td>NaN</td>\n",
       "    </tr>\n",
       "    <tr>\n",
       "      <th>...</th>\n",
       "      <td>...</td>\n",
       "      <td>...</td>\n",
       "      <td>...</td>\n",
       "      <td>...</td>\n",
       "      <td>...</td>\n",
       "      <td>...</td>\n",
       "      <td>...</td>\n",
       "      <td>...</td>\n",
       "      <td>...</td>\n",
       "      <td>...</td>\n",
       "      <td>...</td>\n",
       "      <td>...</td>\n",
       "      <td>...</td>\n",
       "      <td>...</td>\n",
       "      <td>...</td>\n",
       "    </tr>\n",
       "    <tr>\n",
       "      <th>614</th>\n",
       "      <td>680</td>\n",
       "      <td>24.0</td>\n",
       "      <td>Sat</td>\n",
       "      <td>2025-02-01</td>\n",
       "      <td>17:30</td>\n",
       "      <td>Wolves</td>\n",
       "      <td>1.6</td>\n",
       "      <td>2–0</td>\n",
       "      <td>0.4</td>\n",
       "      <td>Aston Villa</td>\n",
       "      <td>31385.0</td>\n",
       "      <td>Molineux Stadium</td>\n",
       "      <td>Andy Madley</td>\n",
       "      <td>Match Report</td>\n",
       "      <td>NaN</td>\n",
       "    </tr>\n",
       "    <tr>\n",
       "      <th>615</th>\n",
       "      <td>681</td>\n",
       "      <td>24.0</td>\n",
       "      <td>Sun</td>\n",
       "      <td>2025-02-02</td>\n",
       "      <td>14:00</td>\n",
       "      <td>Brentford</td>\n",
       "      <td>2.1</td>\n",
       "      <td>0–2</td>\n",
       "      <td>0.8</td>\n",
       "      <td>Tottenham</td>\n",
       "      <td>17154.0</td>\n",
       "      <td>Gtech Community Stadium</td>\n",
       "      <td>Jarred Gillett</td>\n",
       "      <td>Match Report</td>\n",
       "      <td>NaN</td>\n",
       "    </tr>\n",
       "    <tr>\n",
       "      <th>616</th>\n",
       "      <td>682</td>\n",
       "      <td>24.0</td>\n",
       "      <td>Sun</td>\n",
       "      <td>2025-02-02</td>\n",
       "      <td>14:00</td>\n",
       "      <td>Manchester Utd</td>\n",
       "      <td>1.1</td>\n",
       "      <td>0–2</td>\n",
       "      <td>2.6</td>\n",
       "      <td>Crystal Palace</td>\n",
       "      <td>73751.0</td>\n",
       "      <td>Old Trafford</td>\n",
       "      <td>John Brooks</td>\n",
       "      <td>Match Report</td>\n",
       "      <td>NaN</td>\n",
       "    </tr>\n",
       "    <tr>\n",
       "      <th>617</th>\n",
       "      <td>683</td>\n",
       "      <td>24.0</td>\n",
       "      <td>Sun</td>\n",
       "      <td>2025-02-02</td>\n",
       "      <td>16:30</td>\n",
       "      <td>Arsenal</td>\n",
       "      <td>1.0</td>\n",
       "      <td>5–1</td>\n",
       "      <td>0.8</td>\n",
       "      <td>Manchester City</td>\n",
       "      <td>60355.0</td>\n",
       "      <td>Emirates Stadium</td>\n",
       "      <td>Peter Bankes</td>\n",
       "      <td>Match Report</td>\n",
       "      <td>NaN</td>\n",
       "    </tr>\n",
       "    <tr>\n",
       "      <th>618</th>\n",
       "      <td>684</td>\n",
       "      <td>24.0</td>\n",
       "      <td>Mon</td>\n",
       "      <td>2025-02-03</td>\n",
       "      <td>20:00</td>\n",
       "      <td>Chelsea</td>\n",
       "      <td>1.6</td>\n",
       "      <td>2–1</td>\n",
       "      <td>1.2</td>\n",
       "      <td>West Ham</td>\n",
       "      <td>39459.0</td>\n",
       "      <td>Stamford Bridge</td>\n",
       "      <td>Stuart Attwell</td>\n",
       "      <td>Match Report</td>\n",
       "      <td>NaN</td>\n",
       "    </tr>\n",
       "  </tbody>\n",
       "</table>\n",
       "<p>619 rows × 15 columns</p>\n",
       "</div>"
      ],
      "text/plain": [
       "     index    Wk  Day       Date   Time            Home   xG Score  xG.1  \\\n",
       "0        0   1.0  Fri 2023-08-11  20:00         Burnley  0.3   0–3   1.9   \n",
       "1        1   1.0  Sat 2023-08-12  12:30         Arsenal  0.8   2–1   1.2   \n",
       "2        2   1.0  Sat 2023-08-12  15:00         Everton  2.7   0–1   1.5   \n",
       "3        3   1.0  Sat 2023-08-12  15:00   Sheffield Utd  0.5   0–1   1.9   \n",
       "4        4   1.0  Sat 2023-08-12  15:00        Brighton  4.0   4–1   1.5   \n",
       "..     ...   ...  ...        ...    ...             ...  ...   ...   ...   \n",
       "614    680  24.0  Sat 2025-02-01  17:30          Wolves  1.6   2–0   0.4   \n",
       "615    681  24.0  Sun 2025-02-02  14:00       Brentford  2.1   0–2   0.8   \n",
       "616    682  24.0  Sun 2025-02-02  14:00  Manchester Utd  1.1   0–2   2.6   \n",
       "617    683  24.0  Sun 2025-02-02  16:30         Arsenal  1.0   5–1   0.8   \n",
       "618    684  24.0  Mon 2025-02-03  20:00         Chelsea  1.6   2–1   1.2   \n",
       "\n",
       "                Away  Attendance                                   Venue  \\\n",
       "0    Manchester City     21572.0                               Turf Moor   \n",
       "1    Nott'ham Forest     59984.0                        Emirates Stadium   \n",
       "2             Fulham     39940.0                           Goodison Park   \n",
       "3     Crystal Palace     31194.0                            Bramall Lane   \n",
       "4         Luton Town     31872.0  The American Express Community Stadium   \n",
       "..               ...         ...                                     ...   \n",
       "614      Aston Villa     31385.0                        Molineux Stadium   \n",
       "615        Tottenham     17154.0                 Gtech Community Stadium   \n",
       "616   Crystal Palace     73751.0                            Old Trafford   \n",
       "617  Manchester City     60355.0                        Emirates Stadium   \n",
       "618         West Ham     39459.0                         Stamford Bridge   \n",
       "\n",
       "            Referee  Match Report Notes  \n",
       "0      Craig Pawson  Match Report   NaN  \n",
       "1    Michael Oliver  Match Report   NaN  \n",
       "2    Stuart Attwell  Match Report   NaN  \n",
       "3       John Brooks  Match Report   NaN  \n",
       "4       David Coote  Match Report   NaN  \n",
       "..              ...           ...   ...  \n",
       "614     Andy Madley  Match Report   NaN  \n",
       "615  Jarred Gillett  Match Report   NaN  \n",
       "616     John Brooks  Match Report   NaN  \n",
       "617    Peter Bankes  Match Report   NaN  \n",
       "618  Stuart Attwell  Match Report   NaN  \n",
       "\n",
       "[619 rows x 15 columns]"
      ]
     },
     "execution_count": 3,
     "metadata": {},
     "output_type": "execute_result"
    }
   ],
   "source": [
    "results = fixtures_fbref[fixtures_fbref['Score'].notnull()]\n",
    "results = results.reset_index()\n",
    "results"
   ]
  },
  {
   "cell_type": "markdown",
   "metadata": {},
   "source": [
    "# Process data"
   ]
  },
  {
   "cell_type": "code",
   "execution_count": 4,
   "metadata": {},
   "outputs": [
    {
     "data": {
      "text/html": [
       "<div>\n",
       "<style scoped>\n",
       "    .dataframe tbody tr th:only-of-type {\n",
       "        vertical-align: middle;\n",
       "    }\n",
       "\n",
       "    .dataframe tbody tr th {\n",
       "        vertical-align: top;\n",
       "    }\n",
       "\n",
       "    .dataframe thead th {\n",
       "        text-align: right;\n",
       "    }\n",
       "</style>\n",
       "<table border=\"1\" class=\"dataframe\">\n",
       "  <thead>\n",
       "    <tr style=\"text-align: right;\">\n",
       "      <th></th>\n",
       "      <th>index</th>\n",
       "      <th>Wk</th>\n",
       "      <th>Day</th>\n",
       "      <th>Date</th>\n",
       "      <th>Time</th>\n",
       "      <th>Home</th>\n",
       "      <th>xG</th>\n",
       "      <th>Score</th>\n",
       "      <th>xG.1</th>\n",
       "      <th>Away</th>\n",
       "      <th>Attendance</th>\n",
       "      <th>Venue</th>\n",
       "      <th>Referee</th>\n",
       "      <th>Match Report</th>\n",
       "      <th>Notes</th>\n",
       "      <th>home_goals</th>\n",
       "      <th>away_goals</th>\n",
       "    </tr>\n",
       "  </thead>\n",
       "  <tbody>\n",
       "    <tr>\n",
       "      <th>0</th>\n",
       "      <td>0</td>\n",
       "      <td>1.0</td>\n",
       "      <td>Fri</td>\n",
       "      <td>2023-08-11</td>\n",
       "      <td>20:00</td>\n",
       "      <td>Burnley</td>\n",
       "      <td>0.3</td>\n",
       "      <td>0–3</td>\n",
       "      <td>1.9</td>\n",
       "      <td>Manchester City</td>\n",
       "      <td>21572.0</td>\n",
       "      <td>Turf Moor</td>\n",
       "      <td>Craig Pawson</td>\n",
       "      <td>Match Report</td>\n",
       "      <td>NaN</td>\n",
       "      <td>0</td>\n",
       "      <td>3</td>\n",
       "    </tr>\n",
       "    <tr>\n",
       "      <th>1</th>\n",
       "      <td>1</td>\n",
       "      <td>1.0</td>\n",
       "      <td>Sat</td>\n",
       "      <td>2023-08-12</td>\n",
       "      <td>12:30</td>\n",
       "      <td>Arsenal</td>\n",
       "      <td>0.8</td>\n",
       "      <td>2–1</td>\n",
       "      <td>1.2</td>\n",
       "      <td>Nott'ham Forest</td>\n",
       "      <td>59984.0</td>\n",
       "      <td>Emirates Stadium</td>\n",
       "      <td>Michael Oliver</td>\n",
       "      <td>Match Report</td>\n",
       "      <td>NaN</td>\n",
       "      <td>2</td>\n",
       "      <td>1</td>\n",
       "    </tr>\n",
       "    <tr>\n",
       "      <th>2</th>\n",
       "      <td>2</td>\n",
       "      <td>1.0</td>\n",
       "      <td>Sat</td>\n",
       "      <td>2023-08-12</td>\n",
       "      <td>15:00</td>\n",
       "      <td>Everton</td>\n",
       "      <td>2.7</td>\n",
       "      <td>0–1</td>\n",
       "      <td>1.5</td>\n",
       "      <td>Fulham</td>\n",
       "      <td>39940.0</td>\n",
       "      <td>Goodison Park</td>\n",
       "      <td>Stuart Attwell</td>\n",
       "      <td>Match Report</td>\n",
       "      <td>NaN</td>\n",
       "      <td>0</td>\n",
       "      <td>1</td>\n",
       "    </tr>\n",
       "    <tr>\n",
       "      <th>3</th>\n",
       "      <td>3</td>\n",
       "      <td>1.0</td>\n",
       "      <td>Sat</td>\n",
       "      <td>2023-08-12</td>\n",
       "      <td>15:00</td>\n",
       "      <td>Sheffield Utd</td>\n",
       "      <td>0.5</td>\n",
       "      <td>0–1</td>\n",
       "      <td>1.9</td>\n",
       "      <td>Crystal Palace</td>\n",
       "      <td>31194.0</td>\n",
       "      <td>Bramall Lane</td>\n",
       "      <td>John Brooks</td>\n",
       "      <td>Match Report</td>\n",
       "      <td>NaN</td>\n",
       "      <td>0</td>\n",
       "      <td>1</td>\n",
       "    </tr>\n",
       "    <tr>\n",
       "      <th>4</th>\n",
       "      <td>4</td>\n",
       "      <td>1.0</td>\n",
       "      <td>Sat</td>\n",
       "      <td>2023-08-12</td>\n",
       "      <td>15:00</td>\n",
       "      <td>Brighton</td>\n",
       "      <td>4.0</td>\n",
       "      <td>4–1</td>\n",
       "      <td>1.5</td>\n",
       "      <td>Luton Town</td>\n",
       "      <td>31872.0</td>\n",
       "      <td>The American Express Community Stadium</td>\n",
       "      <td>David Coote</td>\n",
       "      <td>Match Report</td>\n",
       "      <td>NaN</td>\n",
       "      <td>4</td>\n",
       "      <td>1</td>\n",
       "    </tr>\n",
       "    <tr>\n",
       "      <th>...</th>\n",
       "      <td>...</td>\n",
       "      <td>...</td>\n",
       "      <td>...</td>\n",
       "      <td>...</td>\n",
       "      <td>...</td>\n",
       "      <td>...</td>\n",
       "      <td>...</td>\n",
       "      <td>...</td>\n",
       "      <td>...</td>\n",
       "      <td>...</td>\n",
       "      <td>...</td>\n",
       "      <td>...</td>\n",
       "      <td>...</td>\n",
       "      <td>...</td>\n",
       "      <td>...</td>\n",
       "      <td>...</td>\n",
       "      <td>...</td>\n",
       "    </tr>\n",
       "    <tr>\n",
       "      <th>614</th>\n",
       "      <td>680</td>\n",
       "      <td>24.0</td>\n",
       "      <td>Sat</td>\n",
       "      <td>2025-02-01</td>\n",
       "      <td>17:30</td>\n",
       "      <td>Wolves</td>\n",
       "      <td>1.6</td>\n",
       "      <td>2–0</td>\n",
       "      <td>0.4</td>\n",
       "      <td>Aston Villa</td>\n",
       "      <td>31385.0</td>\n",
       "      <td>Molineux Stadium</td>\n",
       "      <td>Andy Madley</td>\n",
       "      <td>Match Report</td>\n",
       "      <td>NaN</td>\n",
       "      <td>2</td>\n",
       "      <td>0</td>\n",
       "    </tr>\n",
       "    <tr>\n",
       "      <th>615</th>\n",
       "      <td>681</td>\n",
       "      <td>24.0</td>\n",
       "      <td>Sun</td>\n",
       "      <td>2025-02-02</td>\n",
       "      <td>14:00</td>\n",
       "      <td>Brentford</td>\n",
       "      <td>2.1</td>\n",
       "      <td>0–2</td>\n",
       "      <td>0.8</td>\n",
       "      <td>Tottenham</td>\n",
       "      <td>17154.0</td>\n",
       "      <td>Gtech Community Stadium</td>\n",
       "      <td>Jarred Gillett</td>\n",
       "      <td>Match Report</td>\n",
       "      <td>NaN</td>\n",
       "      <td>0</td>\n",
       "      <td>2</td>\n",
       "    </tr>\n",
       "    <tr>\n",
       "      <th>616</th>\n",
       "      <td>682</td>\n",
       "      <td>24.0</td>\n",
       "      <td>Sun</td>\n",
       "      <td>2025-02-02</td>\n",
       "      <td>14:00</td>\n",
       "      <td>Manchester Utd</td>\n",
       "      <td>1.1</td>\n",
       "      <td>0–2</td>\n",
       "      <td>2.6</td>\n",
       "      <td>Crystal Palace</td>\n",
       "      <td>73751.0</td>\n",
       "      <td>Old Trafford</td>\n",
       "      <td>John Brooks</td>\n",
       "      <td>Match Report</td>\n",
       "      <td>NaN</td>\n",
       "      <td>0</td>\n",
       "      <td>2</td>\n",
       "    </tr>\n",
       "    <tr>\n",
       "      <th>617</th>\n",
       "      <td>683</td>\n",
       "      <td>24.0</td>\n",
       "      <td>Sun</td>\n",
       "      <td>2025-02-02</td>\n",
       "      <td>16:30</td>\n",
       "      <td>Arsenal</td>\n",
       "      <td>1.0</td>\n",
       "      <td>5–1</td>\n",
       "      <td>0.8</td>\n",
       "      <td>Manchester City</td>\n",
       "      <td>60355.0</td>\n",
       "      <td>Emirates Stadium</td>\n",
       "      <td>Peter Bankes</td>\n",
       "      <td>Match Report</td>\n",
       "      <td>NaN</td>\n",
       "      <td>5</td>\n",
       "      <td>1</td>\n",
       "    </tr>\n",
       "    <tr>\n",
       "      <th>618</th>\n",
       "      <td>684</td>\n",
       "      <td>24.0</td>\n",
       "      <td>Mon</td>\n",
       "      <td>2025-02-03</td>\n",
       "      <td>20:00</td>\n",
       "      <td>Chelsea</td>\n",
       "      <td>1.6</td>\n",
       "      <td>2–1</td>\n",
       "      <td>1.2</td>\n",
       "      <td>West Ham</td>\n",
       "      <td>39459.0</td>\n",
       "      <td>Stamford Bridge</td>\n",
       "      <td>Stuart Attwell</td>\n",
       "      <td>Match Report</td>\n",
       "      <td>NaN</td>\n",
       "      <td>2</td>\n",
       "      <td>1</td>\n",
       "    </tr>\n",
       "  </tbody>\n",
       "</table>\n",
       "<p>619 rows × 17 columns</p>\n",
       "</div>"
      ],
      "text/plain": [
       "     index    Wk  Day       Date   Time            Home   xG Score  xG.1  \\\n",
       "0        0   1.0  Fri 2023-08-11  20:00         Burnley  0.3   0–3   1.9   \n",
       "1        1   1.0  Sat 2023-08-12  12:30         Arsenal  0.8   2–1   1.2   \n",
       "2        2   1.0  Sat 2023-08-12  15:00         Everton  2.7   0–1   1.5   \n",
       "3        3   1.0  Sat 2023-08-12  15:00   Sheffield Utd  0.5   0–1   1.9   \n",
       "4        4   1.0  Sat 2023-08-12  15:00        Brighton  4.0   4–1   1.5   \n",
       "..     ...   ...  ...        ...    ...             ...  ...   ...   ...   \n",
       "614    680  24.0  Sat 2025-02-01  17:30          Wolves  1.6   2–0   0.4   \n",
       "615    681  24.0  Sun 2025-02-02  14:00       Brentford  2.1   0–2   0.8   \n",
       "616    682  24.0  Sun 2025-02-02  14:00  Manchester Utd  1.1   0–2   2.6   \n",
       "617    683  24.0  Sun 2025-02-02  16:30         Arsenal  1.0   5–1   0.8   \n",
       "618    684  24.0  Mon 2025-02-03  20:00         Chelsea  1.6   2–1   1.2   \n",
       "\n",
       "                Away  Attendance                                   Venue  \\\n",
       "0    Manchester City     21572.0                               Turf Moor   \n",
       "1    Nott'ham Forest     59984.0                        Emirates Stadium   \n",
       "2             Fulham     39940.0                           Goodison Park   \n",
       "3     Crystal Palace     31194.0                            Bramall Lane   \n",
       "4         Luton Town     31872.0  The American Express Community Stadium   \n",
       "..               ...         ...                                     ...   \n",
       "614      Aston Villa     31385.0                        Molineux Stadium   \n",
       "615        Tottenham     17154.0                 Gtech Community Stadium   \n",
       "616   Crystal Palace     73751.0                            Old Trafford   \n",
       "617  Manchester City     60355.0                        Emirates Stadium   \n",
       "618         West Ham     39459.0                         Stamford Bridge   \n",
       "\n",
       "            Referee  Match Report Notes home_goals away_goals  \n",
       "0      Craig Pawson  Match Report   NaN          0          3  \n",
       "1    Michael Oliver  Match Report   NaN          2          1  \n",
       "2    Stuart Attwell  Match Report   NaN          0          1  \n",
       "3       John Brooks  Match Report   NaN          0          1  \n",
       "4       David Coote  Match Report   NaN          4          1  \n",
       "..              ...           ...   ...        ...        ...  \n",
       "614     Andy Madley  Match Report   NaN          2          0  \n",
       "615  Jarred Gillett  Match Report   NaN          0          2  \n",
       "616     John Brooks  Match Report   NaN          0          2  \n",
       "617    Peter Bankes  Match Report   NaN          5          1  \n",
       "618  Stuart Attwell  Match Report   NaN          2          1  \n",
       "\n",
       "[619 rows x 17 columns]"
      ]
     },
     "execution_count": 4,
     "metadata": {},
     "output_type": "execute_result"
    }
   ],
   "source": [
    "results['home_goals'] = results['Score'].apply(lambda x: x.split('–')[0])\n",
    "results['away_goals'] = results['Score'].apply(lambda x: x.split('–')[1])\n",
    "results"
   ]
  },
  {
   "cell_type": "code",
   "execution_count": 5,
   "metadata": {},
   "outputs": [
    {
     "data": {
      "text/html": [
       "<div>\n",
       "<style scoped>\n",
       "    .dataframe tbody tr th:only-of-type {\n",
       "        vertical-align: middle;\n",
       "    }\n",
       "\n",
       "    .dataframe tbody tr th {\n",
       "        vertical-align: top;\n",
       "    }\n",
       "\n",
       "    .dataframe thead th {\n",
       "        text-align: right;\n",
       "    }\n",
       "</style>\n",
       "<table border=\"1\" class=\"dataframe\">\n",
       "  <thead>\n",
       "    <tr style=\"text-align: right;\">\n",
       "      <th></th>\n",
       "      <th>index</th>\n",
       "      <th>Wk</th>\n",
       "      <th>Day</th>\n",
       "      <th>Date</th>\n",
       "      <th>Time</th>\n",
       "      <th>Home</th>\n",
       "      <th>xG</th>\n",
       "      <th>Score</th>\n",
       "      <th>xG.1</th>\n",
       "      <th>Away</th>\n",
       "      <th>Attendance</th>\n",
       "      <th>Venue</th>\n",
       "      <th>Referee</th>\n",
       "      <th>Match Report</th>\n",
       "      <th>Notes</th>\n",
       "      <th>home_goals</th>\n",
       "      <th>away_goals</th>\n",
       "      <th>days_since</th>\n",
       "    </tr>\n",
       "  </thead>\n",
       "  <tbody>\n",
       "    <tr>\n",
       "      <th>0</th>\n",
       "      <td>0</td>\n",
       "      <td>1.0</td>\n",
       "      <td>Fri</td>\n",
       "      <td>2023-08-11</td>\n",
       "      <td>20:00</td>\n",
       "      <td>Burnley</td>\n",
       "      <td>0.3</td>\n",
       "      <td>0–3</td>\n",
       "      <td>1.9</td>\n",
       "      <td>Manchester City</td>\n",
       "      <td>21572.0</td>\n",
       "      <td>Turf Moor</td>\n",
       "      <td>Craig Pawson</td>\n",
       "      <td>Match Report</td>\n",
       "      <td>NaN</td>\n",
       "      <td>0</td>\n",
       "      <td>3</td>\n",
       "      <td>550</td>\n",
       "    </tr>\n",
       "    <tr>\n",
       "      <th>1</th>\n",
       "      <td>1</td>\n",
       "      <td>1.0</td>\n",
       "      <td>Sat</td>\n",
       "      <td>2023-08-12</td>\n",
       "      <td>12:30</td>\n",
       "      <td>Arsenal</td>\n",
       "      <td>0.8</td>\n",
       "      <td>2–1</td>\n",
       "      <td>1.2</td>\n",
       "      <td>Nott'ham Forest</td>\n",
       "      <td>59984.0</td>\n",
       "      <td>Emirates Stadium</td>\n",
       "      <td>Michael Oliver</td>\n",
       "      <td>Match Report</td>\n",
       "      <td>NaN</td>\n",
       "      <td>2</td>\n",
       "      <td>1</td>\n",
       "      <td>549</td>\n",
       "    </tr>\n",
       "    <tr>\n",
       "      <th>2</th>\n",
       "      <td>2</td>\n",
       "      <td>1.0</td>\n",
       "      <td>Sat</td>\n",
       "      <td>2023-08-12</td>\n",
       "      <td>15:00</td>\n",
       "      <td>Everton</td>\n",
       "      <td>2.7</td>\n",
       "      <td>0–1</td>\n",
       "      <td>1.5</td>\n",
       "      <td>Fulham</td>\n",
       "      <td>39940.0</td>\n",
       "      <td>Goodison Park</td>\n",
       "      <td>Stuart Attwell</td>\n",
       "      <td>Match Report</td>\n",
       "      <td>NaN</td>\n",
       "      <td>0</td>\n",
       "      <td>1</td>\n",
       "      <td>549</td>\n",
       "    </tr>\n",
       "    <tr>\n",
       "      <th>3</th>\n",
       "      <td>3</td>\n",
       "      <td>1.0</td>\n",
       "      <td>Sat</td>\n",
       "      <td>2023-08-12</td>\n",
       "      <td>15:00</td>\n",
       "      <td>Sheffield Utd</td>\n",
       "      <td>0.5</td>\n",
       "      <td>0–1</td>\n",
       "      <td>1.9</td>\n",
       "      <td>Crystal Palace</td>\n",
       "      <td>31194.0</td>\n",
       "      <td>Bramall Lane</td>\n",
       "      <td>John Brooks</td>\n",
       "      <td>Match Report</td>\n",
       "      <td>NaN</td>\n",
       "      <td>0</td>\n",
       "      <td>1</td>\n",
       "      <td>549</td>\n",
       "    </tr>\n",
       "    <tr>\n",
       "      <th>4</th>\n",
       "      <td>4</td>\n",
       "      <td>1.0</td>\n",
       "      <td>Sat</td>\n",
       "      <td>2023-08-12</td>\n",
       "      <td>15:00</td>\n",
       "      <td>Brighton</td>\n",
       "      <td>4.0</td>\n",
       "      <td>4–1</td>\n",
       "      <td>1.5</td>\n",
       "      <td>Luton Town</td>\n",
       "      <td>31872.0</td>\n",
       "      <td>The American Express Community Stadium</td>\n",
       "      <td>David Coote</td>\n",
       "      <td>Match Report</td>\n",
       "      <td>NaN</td>\n",
       "      <td>4</td>\n",
       "      <td>1</td>\n",
       "      <td>549</td>\n",
       "    </tr>\n",
       "    <tr>\n",
       "      <th>...</th>\n",
       "      <td>...</td>\n",
       "      <td>...</td>\n",
       "      <td>...</td>\n",
       "      <td>...</td>\n",
       "      <td>...</td>\n",
       "      <td>...</td>\n",
       "      <td>...</td>\n",
       "      <td>...</td>\n",
       "      <td>...</td>\n",
       "      <td>...</td>\n",
       "      <td>...</td>\n",
       "      <td>...</td>\n",
       "      <td>...</td>\n",
       "      <td>...</td>\n",
       "      <td>...</td>\n",
       "      <td>...</td>\n",
       "      <td>...</td>\n",
       "      <td>...</td>\n",
       "    </tr>\n",
       "    <tr>\n",
       "      <th>614</th>\n",
       "      <td>680</td>\n",
       "      <td>24.0</td>\n",
       "      <td>Sat</td>\n",
       "      <td>2025-02-01</td>\n",
       "      <td>17:30</td>\n",
       "      <td>Wolves</td>\n",
       "      <td>1.6</td>\n",
       "      <td>2–0</td>\n",
       "      <td>0.4</td>\n",
       "      <td>Aston Villa</td>\n",
       "      <td>31385.0</td>\n",
       "      <td>Molineux Stadium</td>\n",
       "      <td>Andy Madley</td>\n",
       "      <td>Match Report</td>\n",
       "      <td>NaN</td>\n",
       "      <td>2</td>\n",
       "      <td>0</td>\n",
       "      <td>10</td>\n",
       "    </tr>\n",
       "    <tr>\n",
       "      <th>615</th>\n",
       "      <td>681</td>\n",
       "      <td>24.0</td>\n",
       "      <td>Sun</td>\n",
       "      <td>2025-02-02</td>\n",
       "      <td>14:00</td>\n",
       "      <td>Brentford</td>\n",
       "      <td>2.1</td>\n",
       "      <td>0–2</td>\n",
       "      <td>0.8</td>\n",
       "      <td>Tottenham</td>\n",
       "      <td>17154.0</td>\n",
       "      <td>Gtech Community Stadium</td>\n",
       "      <td>Jarred Gillett</td>\n",
       "      <td>Match Report</td>\n",
       "      <td>NaN</td>\n",
       "      <td>0</td>\n",
       "      <td>2</td>\n",
       "      <td>9</td>\n",
       "    </tr>\n",
       "    <tr>\n",
       "      <th>616</th>\n",
       "      <td>682</td>\n",
       "      <td>24.0</td>\n",
       "      <td>Sun</td>\n",
       "      <td>2025-02-02</td>\n",
       "      <td>14:00</td>\n",
       "      <td>Manchester Utd</td>\n",
       "      <td>1.1</td>\n",
       "      <td>0–2</td>\n",
       "      <td>2.6</td>\n",
       "      <td>Crystal Palace</td>\n",
       "      <td>73751.0</td>\n",
       "      <td>Old Trafford</td>\n",
       "      <td>John Brooks</td>\n",
       "      <td>Match Report</td>\n",
       "      <td>NaN</td>\n",
       "      <td>0</td>\n",
       "      <td>2</td>\n",
       "      <td>9</td>\n",
       "    </tr>\n",
       "    <tr>\n",
       "      <th>617</th>\n",
       "      <td>683</td>\n",
       "      <td>24.0</td>\n",
       "      <td>Sun</td>\n",
       "      <td>2025-02-02</td>\n",
       "      <td>16:30</td>\n",
       "      <td>Arsenal</td>\n",
       "      <td>1.0</td>\n",
       "      <td>5–1</td>\n",
       "      <td>0.8</td>\n",
       "      <td>Manchester City</td>\n",
       "      <td>60355.0</td>\n",
       "      <td>Emirates Stadium</td>\n",
       "      <td>Peter Bankes</td>\n",
       "      <td>Match Report</td>\n",
       "      <td>NaN</td>\n",
       "      <td>5</td>\n",
       "      <td>1</td>\n",
       "      <td>9</td>\n",
       "    </tr>\n",
       "    <tr>\n",
       "      <th>618</th>\n",
       "      <td>684</td>\n",
       "      <td>24.0</td>\n",
       "      <td>Mon</td>\n",
       "      <td>2025-02-03</td>\n",
       "      <td>20:00</td>\n",
       "      <td>Chelsea</td>\n",
       "      <td>1.6</td>\n",
       "      <td>2–1</td>\n",
       "      <td>1.2</td>\n",
       "      <td>West Ham</td>\n",
       "      <td>39459.0</td>\n",
       "      <td>Stamford Bridge</td>\n",
       "      <td>Stuart Attwell</td>\n",
       "      <td>Match Report</td>\n",
       "      <td>NaN</td>\n",
       "      <td>2</td>\n",
       "      <td>1</td>\n",
       "      <td>8</td>\n",
       "    </tr>\n",
       "  </tbody>\n",
       "</table>\n",
       "<p>619 rows × 18 columns</p>\n",
       "</div>"
      ],
      "text/plain": [
       "     index    Wk  Day       Date   Time            Home   xG Score  xG.1  \\\n",
       "0        0   1.0  Fri 2023-08-11  20:00         Burnley  0.3   0–3   1.9   \n",
       "1        1   1.0  Sat 2023-08-12  12:30         Arsenal  0.8   2–1   1.2   \n",
       "2        2   1.0  Sat 2023-08-12  15:00         Everton  2.7   0–1   1.5   \n",
       "3        3   1.0  Sat 2023-08-12  15:00   Sheffield Utd  0.5   0–1   1.9   \n",
       "4        4   1.0  Sat 2023-08-12  15:00        Brighton  4.0   4–1   1.5   \n",
       "..     ...   ...  ...        ...    ...             ...  ...   ...   ...   \n",
       "614    680  24.0  Sat 2025-02-01  17:30          Wolves  1.6   2–0   0.4   \n",
       "615    681  24.0  Sun 2025-02-02  14:00       Brentford  2.1   0–2   0.8   \n",
       "616    682  24.0  Sun 2025-02-02  14:00  Manchester Utd  1.1   0–2   2.6   \n",
       "617    683  24.0  Sun 2025-02-02  16:30         Arsenal  1.0   5–1   0.8   \n",
       "618    684  24.0  Mon 2025-02-03  20:00         Chelsea  1.6   2–1   1.2   \n",
       "\n",
       "                Away  Attendance                                   Venue  \\\n",
       "0    Manchester City     21572.0                               Turf Moor   \n",
       "1    Nott'ham Forest     59984.0                        Emirates Stadium   \n",
       "2             Fulham     39940.0                           Goodison Park   \n",
       "3     Crystal Palace     31194.0                            Bramall Lane   \n",
       "4         Luton Town     31872.0  The American Express Community Stadium   \n",
       "..               ...         ...                                     ...   \n",
       "614      Aston Villa     31385.0                        Molineux Stadium   \n",
       "615        Tottenham     17154.0                 Gtech Community Stadium   \n",
       "616   Crystal Palace     73751.0                            Old Trafford   \n",
       "617  Manchester City     60355.0                        Emirates Stadium   \n",
       "618         West Ham     39459.0                         Stamford Bridge   \n",
       "\n",
       "            Referee  Match Report Notes home_goals away_goals  days_since  \n",
       "0      Craig Pawson  Match Report   NaN          0          3         550  \n",
       "1    Michael Oliver  Match Report   NaN          2          1         549  \n",
       "2    Stuart Attwell  Match Report   NaN          0          1         549  \n",
       "3       John Brooks  Match Report   NaN          0          1         549  \n",
       "4       David Coote  Match Report   NaN          4          1         549  \n",
       "..              ...           ...   ...        ...        ...         ...  \n",
       "614     Andy Madley  Match Report   NaN          2          0          10  \n",
       "615  Jarred Gillett  Match Report   NaN          0          2           9  \n",
       "616     John Brooks  Match Report   NaN          0          2           9  \n",
       "617    Peter Bankes  Match Report   NaN          5          1           9  \n",
       "618  Stuart Attwell  Match Report   NaN          2          1           8  \n",
       "\n",
       "[619 rows x 18 columns]"
      ]
     },
     "execution_count": 5,
     "metadata": {},
     "output_type": "execute_result"
    }
   ],
   "source": [
    "current_date = dt.datetime.today()\n",
    "results['days_since'] = results['Date'].apply(lambda x: (current_date-x).days)\n",
    "results"
   ]
  },
  {
   "cell_type": "code",
   "execution_count": 6,
   "metadata": {},
   "outputs": [
    {
     "data": {
      "text/html": [
       "<div>\n",
       "<style scoped>\n",
       "    .dataframe tbody tr th:only-of-type {\n",
       "        vertical-align: middle;\n",
       "    }\n",
       "\n",
       "    .dataframe tbody tr th {\n",
       "        vertical-align: top;\n",
       "    }\n",
       "\n",
       "    .dataframe thead th {\n",
       "        text-align: right;\n",
       "    }\n",
       "</style>\n",
       "<table border=\"1\" class=\"dataframe\">\n",
       "  <thead>\n",
       "    <tr style=\"text-align: right;\">\n",
       "      <th></th>\n",
       "      <th>index</th>\n",
       "      <th>Wk</th>\n",
       "      <th>Day</th>\n",
       "      <th>Date</th>\n",
       "      <th>Time</th>\n",
       "      <th>Home</th>\n",
       "      <th>xG</th>\n",
       "      <th>Score</th>\n",
       "      <th>xG.1</th>\n",
       "      <th>Away</th>\n",
       "      <th>Attendance</th>\n",
       "      <th>Venue</th>\n",
       "      <th>Referee</th>\n",
       "      <th>Match Report</th>\n",
       "      <th>Notes</th>\n",
       "      <th>home_goals</th>\n",
       "      <th>away_goals</th>\n",
       "      <th>days_since</th>\n",
       "    </tr>\n",
       "  </thead>\n",
       "  <tbody>\n",
       "    <tr>\n",
       "      <th>238</th>\n",
       "      <td>263</td>\n",
       "      <td>25.0</td>\n",
       "      <td>Sat</td>\n",
       "      <td>2024-02-17</td>\n",
       "      <td>12:30</td>\n",
       "      <td>Brentford</td>\n",
       "      <td>1.6</td>\n",
       "      <td>1–4</td>\n",
       "      <td>2.8</td>\n",
       "      <td>Liverpool</td>\n",
       "      <td>17193.0</td>\n",
       "      <td>Gtech Community Stadium</td>\n",
       "      <td>Michael Oliver</td>\n",
       "      <td>Match Report</td>\n",
       "      <td>NaN</td>\n",
       "      <td>1</td>\n",
       "      <td>4</td>\n",
       "      <td>360</td>\n",
       "    </tr>\n",
       "    <tr>\n",
       "      <th>239</th>\n",
       "      <td>264</td>\n",
       "      <td>25.0</td>\n",
       "      <td>Sat</td>\n",
       "      <td>2024-02-17</td>\n",
       "      <td>15:00</td>\n",
       "      <td>Newcastle Utd</td>\n",
       "      <td>2.2</td>\n",
       "      <td>2–2</td>\n",
       "      <td>2.2</td>\n",
       "      <td>Bournemouth</td>\n",
       "      <td>52224.0</td>\n",
       "      <td>St James' Park</td>\n",
       "      <td>Michael Salisbury</td>\n",
       "      <td>Match Report</td>\n",
       "      <td>NaN</td>\n",
       "      <td>2</td>\n",
       "      <td>2</td>\n",
       "      <td>360</td>\n",
       "    </tr>\n",
       "    <tr>\n",
       "      <th>240</th>\n",
       "      <td>265</td>\n",
       "      <td>25.0</td>\n",
       "      <td>Sat</td>\n",
       "      <td>2024-02-17</td>\n",
       "      <td>15:00</td>\n",
       "      <td>Tottenham</td>\n",
       "      <td>1.6</td>\n",
       "      <td>1–2</td>\n",
       "      <td>1.8</td>\n",
       "      <td>Wolves</td>\n",
       "      <td>61532.0</td>\n",
       "      <td>Tottenham Hotspur Stadium</td>\n",
       "      <td>Anthony Taylor</td>\n",
       "      <td>Match Report</td>\n",
       "      <td>NaN</td>\n",
       "      <td>1</td>\n",
       "      <td>2</td>\n",
       "      <td>360</td>\n",
       "    </tr>\n",
       "    <tr>\n",
       "      <th>241</th>\n",
       "      <td>266</td>\n",
       "      <td>25.0</td>\n",
       "      <td>Sat</td>\n",
       "      <td>2024-02-17</td>\n",
       "      <td>15:00</td>\n",
       "      <td>Burnley</td>\n",
       "      <td>0.3</td>\n",
       "      <td>0–5</td>\n",
       "      <td>2.3</td>\n",
       "      <td>Arsenal</td>\n",
       "      <td>21311.0</td>\n",
       "      <td>Turf Moor</td>\n",
       "      <td>Jarred Gillett</td>\n",
       "      <td>Match Report</td>\n",
       "      <td>NaN</td>\n",
       "      <td>0</td>\n",
       "      <td>5</td>\n",
       "      <td>360</td>\n",
       "    </tr>\n",
       "    <tr>\n",
       "      <th>242</th>\n",
       "      <td>267</td>\n",
       "      <td>25.0</td>\n",
       "      <td>Sat</td>\n",
       "      <td>2024-02-17</td>\n",
       "      <td>15:00</td>\n",
       "      <td>Fulham</td>\n",
       "      <td>1.5</td>\n",
       "      <td>1–2</td>\n",
       "      <td>1.5</td>\n",
       "      <td>Aston Villa</td>\n",
       "      <td>24401.0</td>\n",
       "      <td>Craven Cottage</td>\n",
       "      <td>Lewis Smith</td>\n",
       "      <td>Match Report</td>\n",
       "      <td>NaN</td>\n",
       "      <td>1</td>\n",
       "      <td>2</td>\n",
       "      <td>360</td>\n",
       "    </tr>\n",
       "    <tr>\n",
       "      <th>...</th>\n",
       "      <td>...</td>\n",
       "      <td>...</td>\n",
       "      <td>...</td>\n",
       "      <td>...</td>\n",
       "      <td>...</td>\n",
       "      <td>...</td>\n",
       "      <td>...</td>\n",
       "      <td>...</td>\n",
       "      <td>...</td>\n",
       "      <td>...</td>\n",
       "      <td>...</td>\n",
       "      <td>...</td>\n",
       "      <td>...</td>\n",
       "      <td>...</td>\n",
       "      <td>...</td>\n",
       "      <td>...</td>\n",
       "      <td>...</td>\n",
       "      <td>...</td>\n",
       "    </tr>\n",
       "    <tr>\n",
       "      <th>614</th>\n",
       "      <td>680</td>\n",
       "      <td>24.0</td>\n",
       "      <td>Sat</td>\n",
       "      <td>2025-02-01</td>\n",
       "      <td>17:30</td>\n",
       "      <td>Wolves</td>\n",
       "      <td>1.6</td>\n",
       "      <td>2–0</td>\n",
       "      <td>0.4</td>\n",
       "      <td>Aston Villa</td>\n",
       "      <td>31385.0</td>\n",
       "      <td>Molineux Stadium</td>\n",
       "      <td>Andy Madley</td>\n",
       "      <td>Match Report</td>\n",
       "      <td>NaN</td>\n",
       "      <td>2</td>\n",
       "      <td>0</td>\n",
       "      <td>10</td>\n",
       "    </tr>\n",
       "    <tr>\n",
       "      <th>615</th>\n",
       "      <td>681</td>\n",
       "      <td>24.0</td>\n",
       "      <td>Sun</td>\n",
       "      <td>2025-02-02</td>\n",
       "      <td>14:00</td>\n",
       "      <td>Brentford</td>\n",
       "      <td>2.1</td>\n",
       "      <td>0–2</td>\n",
       "      <td>0.8</td>\n",
       "      <td>Tottenham</td>\n",
       "      <td>17154.0</td>\n",
       "      <td>Gtech Community Stadium</td>\n",
       "      <td>Jarred Gillett</td>\n",
       "      <td>Match Report</td>\n",
       "      <td>NaN</td>\n",
       "      <td>0</td>\n",
       "      <td>2</td>\n",
       "      <td>9</td>\n",
       "    </tr>\n",
       "    <tr>\n",
       "      <th>616</th>\n",
       "      <td>682</td>\n",
       "      <td>24.0</td>\n",
       "      <td>Sun</td>\n",
       "      <td>2025-02-02</td>\n",
       "      <td>14:00</td>\n",
       "      <td>Manchester Utd</td>\n",
       "      <td>1.1</td>\n",
       "      <td>0–2</td>\n",
       "      <td>2.6</td>\n",
       "      <td>Crystal Palace</td>\n",
       "      <td>73751.0</td>\n",
       "      <td>Old Trafford</td>\n",
       "      <td>John Brooks</td>\n",
       "      <td>Match Report</td>\n",
       "      <td>NaN</td>\n",
       "      <td>0</td>\n",
       "      <td>2</td>\n",
       "      <td>9</td>\n",
       "    </tr>\n",
       "    <tr>\n",
       "      <th>617</th>\n",
       "      <td>683</td>\n",
       "      <td>24.0</td>\n",
       "      <td>Sun</td>\n",
       "      <td>2025-02-02</td>\n",
       "      <td>16:30</td>\n",
       "      <td>Arsenal</td>\n",
       "      <td>1.0</td>\n",
       "      <td>5–1</td>\n",
       "      <td>0.8</td>\n",
       "      <td>Manchester City</td>\n",
       "      <td>60355.0</td>\n",
       "      <td>Emirates Stadium</td>\n",
       "      <td>Peter Bankes</td>\n",
       "      <td>Match Report</td>\n",
       "      <td>NaN</td>\n",
       "      <td>5</td>\n",
       "      <td>1</td>\n",
       "      <td>9</td>\n",
       "    </tr>\n",
       "    <tr>\n",
       "      <th>618</th>\n",
       "      <td>684</td>\n",
       "      <td>24.0</td>\n",
       "      <td>Mon</td>\n",
       "      <td>2025-02-03</td>\n",
       "      <td>20:00</td>\n",
       "      <td>Chelsea</td>\n",
       "      <td>1.6</td>\n",
       "      <td>2–1</td>\n",
       "      <td>1.2</td>\n",
       "      <td>West Ham</td>\n",
       "      <td>39459.0</td>\n",
       "      <td>Stamford Bridge</td>\n",
       "      <td>Stuart Attwell</td>\n",
       "      <td>Match Report</td>\n",
       "      <td>NaN</td>\n",
       "      <td>2</td>\n",
       "      <td>1</td>\n",
       "      <td>8</td>\n",
       "    </tr>\n",
       "  </tbody>\n",
       "</table>\n",
       "<p>381 rows × 18 columns</p>\n",
       "</div>"
      ],
      "text/plain": [
       "     index    Wk  Day       Date   Time            Home   xG Score  xG.1  \\\n",
       "238    263  25.0  Sat 2024-02-17  12:30       Brentford  1.6   1–4   2.8   \n",
       "239    264  25.0  Sat 2024-02-17  15:00   Newcastle Utd  2.2   2–2   2.2   \n",
       "240    265  25.0  Sat 2024-02-17  15:00       Tottenham  1.6   1–2   1.8   \n",
       "241    266  25.0  Sat 2024-02-17  15:00         Burnley  0.3   0–5   2.3   \n",
       "242    267  25.0  Sat 2024-02-17  15:00          Fulham  1.5   1–2   1.5   \n",
       "..     ...   ...  ...        ...    ...             ...  ...   ...   ...   \n",
       "614    680  24.0  Sat 2025-02-01  17:30          Wolves  1.6   2–0   0.4   \n",
       "615    681  24.0  Sun 2025-02-02  14:00       Brentford  2.1   0–2   0.8   \n",
       "616    682  24.0  Sun 2025-02-02  14:00  Manchester Utd  1.1   0–2   2.6   \n",
       "617    683  24.0  Sun 2025-02-02  16:30         Arsenal  1.0   5–1   0.8   \n",
       "618    684  24.0  Mon 2025-02-03  20:00         Chelsea  1.6   2–1   1.2   \n",
       "\n",
       "                Away  Attendance                      Venue  \\\n",
       "238        Liverpool     17193.0    Gtech Community Stadium   \n",
       "239      Bournemouth     52224.0             St James' Park   \n",
       "240           Wolves     61532.0  Tottenham Hotspur Stadium   \n",
       "241          Arsenal     21311.0                  Turf Moor   \n",
       "242      Aston Villa     24401.0             Craven Cottage   \n",
       "..               ...         ...                        ...   \n",
       "614      Aston Villa     31385.0           Molineux Stadium   \n",
       "615        Tottenham     17154.0    Gtech Community Stadium   \n",
       "616   Crystal Palace     73751.0               Old Trafford   \n",
       "617  Manchester City     60355.0           Emirates Stadium   \n",
       "618         West Ham     39459.0            Stamford Bridge   \n",
       "\n",
       "               Referee  Match Report Notes home_goals away_goals  days_since  \n",
       "238     Michael Oliver  Match Report   NaN          1          4         360  \n",
       "239  Michael Salisbury  Match Report   NaN          2          2         360  \n",
       "240     Anthony Taylor  Match Report   NaN          1          2         360  \n",
       "241     Jarred Gillett  Match Report   NaN          0          5         360  \n",
       "242        Lewis Smith  Match Report   NaN          1          2         360  \n",
       "..                 ...           ...   ...        ...        ...         ...  \n",
       "614        Andy Madley  Match Report   NaN          2          0          10  \n",
       "615     Jarred Gillett  Match Report   NaN          0          2           9  \n",
       "616        John Brooks  Match Report   NaN          0          2           9  \n",
       "617       Peter Bankes  Match Report   NaN          5          1           9  \n",
       "618     Stuart Attwell  Match Report   NaN          2          1           8  \n",
       "\n",
       "[381 rows x 18 columns]"
      ]
     },
     "execution_count": 6,
     "metadata": {},
     "output_type": "execute_result"
    }
   ],
   "source": [
    "results = results[results.days_since < 365]\n",
    "results"
   ]
  },
  {
   "cell_type": "markdown",
   "metadata": {},
   "source": [
    "# Model"
   ]
  },
  {
   "cell_type": "code",
   "execution_count": 7,
   "metadata": {},
   "outputs": [
    {
     "data": {
      "text/html": [
       "<div>\n",
       "<style scoped>\n",
       "    .dataframe tbody tr th:only-of-type {\n",
       "        vertical-align: middle;\n",
       "    }\n",
       "\n",
       "    .dataframe tbody tr th {\n",
       "        vertical-align: top;\n",
       "    }\n",
       "\n",
       "    .dataframe thead th {\n",
       "        text-align: right;\n",
       "    }\n",
       "</style>\n",
       "<table border=\"1\" class=\"dataframe\">\n",
       "  <thead>\n",
       "    <tr style=\"text-align: right;\">\n",
       "      <th></th>\n",
       "      <th>team</th>\n",
       "      <th>opponent</th>\n",
       "      <th>goals</th>\n",
       "      <th>home</th>\n",
       "    </tr>\n",
       "  </thead>\n",
       "  <tbody>\n",
       "    <tr>\n",
       "      <th>0</th>\n",
       "      <td>Brentford</td>\n",
       "      <td>Liverpool</td>\n",
       "      <td>1</td>\n",
       "      <td>1</td>\n",
       "    </tr>\n",
       "    <tr>\n",
       "      <th>1</th>\n",
       "      <td>Newcastle Utd</td>\n",
       "      <td>Bournemouth</td>\n",
       "      <td>2</td>\n",
       "      <td>1</td>\n",
       "    </tr>\n",
       "    <tr>\n",
       "      <th>2</th>\n",
       "      <td>Tottenham</td>\n",
       "      <td>Wolves</td>\n",
       "      <td>1</td>\n",
       "      <td>1</td>\n",
       "    </tr>\n",
       "    <tr>\n",
       "      <th>3</th>\n",
       "      <td>Burnley</td>\n",
       "      <td>Arsenal</td>\n",
       "      <td>0</td>\n",
       "      <td>1</td>\n",
       "    </tr>\n",
       "    <tr>\n",
       "      <th>4</th>\n",
       "      <td>Fulham</td>\n",
       "      <td>Aston Villa</td>\n",
       "      <td>1</td>\n",
       "      <td>1</td>\n",
       "    </tr>\n",
       "    <tr>\n",
       "      <th>...</th>\n",
       "      <td>...</td>\n",
       "      <td>...</td>\n",
       "      <td>...</td>\n",
       "      <td>...</td>\n",
       "    </tr>\n",
       "    <tr>\n",
       "      <th>757</th>\n",
       "      <td>Aston Villa</td>\n",
       "      <td>Wolves</td>\n",
       "      <td>0</td>\n",
       "      <td>0</td>\n",
       "    </tr>\n",
       "    <tr>\n",
       "      <th>758</th>\n",
       "      <td>Tottenham</td>\n",
       "      <td>Brentford</td>\n",
       "      <td>2</td>\n",
       "      <td>0</td>\n",
       "    </tr>\n",
       "    <tr>\n",
       "      <th>759</th>\n",
       "      <td>Crystal Palace</td>\n",
       "      <td>Manchester Utd</td>\n",
       "      <td>2</td>\n",
       "      <td>0</td>\n",
       "    </tr>\n",
       "    <tr>\n",
       "      <th>760</th>\n",
       "      <td>Manchester City</td>\n",
       "      <td>Arsenal</td>\n",
       "      <td>1</td>\n",
       "      <td>0</td>\n",
       "    </tr>\n",
       "    <tr>\n",
       "      <th>761</th>\n",
       "      <td>West Ham</td>\n",
       "      <td>Chelsea</td>\n",
       "      <td>1</td>\n",
       "      <td>0</td>\n",
       "    </tr>\n",
       "  </tbody>\n",
       "</table>\n",
       "<p>762 rows × 4 columns</p>\n",
       "</div>"
      ],
      "text/plain": [
       "                team        opponent  goals  home\n",
       "0          Brentford       Liverpool      1     1\n",
       "1      Newcastle Utd     Bournemouth      2     1\n",
       "2          Tottenham          Wolves      1     1\n",
       "3            Burnley         Arsenal      0     1\n",
       "4             Fulham     Aston Villa      1     1\n",
       "..               ...             ...    ...   ...\n",
       "757      Aston Villa          Wolves      0     0\n",
       "758        Tottenham       Brentford      2     0\n",
       "759   Crystal Palace  Manchester Utd      2     0\n",
       "760  Manchester City         Arsenal      1     0\n",
       "761         West Ham         Chelsea      1     0\n",
       "\n",
       "[762 rows x 4 columns]"
      ]
     },
     "execution_count": 7,
     "metadata": {},
     "output_type": "execute_result"
    }
   ],
   "source": [
    "goal_model_data = pd.concat([results[['Home','Away','home_goals']].assign(home=1).rename(\n",
    "            columns={'Home':'team', 'Away':'opponent','home_goals':'goals'}),\n",
    "           results[['Away','Home','away_goals']].assign(home=0).rename(\n",
    "            columns={'Away':'team', 'Home':'opponent','away_goals':'goals'})]).reset_index(drop=True)\n",
    "\n",
    "goal_model_data['goals'] = goal_model_data['goals'].apply(lambda x: int(x))\n",
    "\n",
    "goal_model_data"
   ]
  },
  {
   "cell_type": "code",
   "execution_count": 8,
   "metadata": {},
   "outputs": [
    {
     "name": "stdout",
     "output_type": "stream",
     "text": [
      "                 Generalized Linear Model Regression Results                  \n",
      "==============================================================================\n",
      "Dep. Variable:                  goals   No. Observations:                  762\n",
      "Model:                            GLM   Df Residuals:                      716\n",
      "Model Family:                 Poisson   Df Model:                           45\n",
      "Link Function:                    Log   Scale:                          1.0000\n",
      "Method:                          IRLS   Log-Likelihood:                -1120.6\n",
      "Date:                Tue, 11 Feb 2025   Deviance:                       746.20\n",
      "Time:                        21:51:33   Pearson chi2:                     643.\n",
      "No. Iterations:                     5   Pseudo R-squ. (CS):             0.2182\n",
      "Covariance Type:            nonrobust                                         \n",
      "===============================================================================================\n",
      "                                  coef    std err          z      P>|z|      [0.025      0.975]\n",
      "-----------------------------------------------------------------------------------------------\n",
      "Intercept                       0.0256      0.219      0.117      0.907      -0.404       0.456\n",
      "team[T.Aston Villa]            -0.3073      0.169     -1.818      0.069      -0.639       0.024\n",
      "team[T.Bournemouth]            -0.3020      0.165     -1.826      0.068      -0.626       0.022\n",
      "team[T.Brentford]              -0.2826      0.165     -1.709      0.088      -0.607       0.042\n",
      "team[T.Brighton]               -0.5311      0.182     -2.915      0.004      -0.888      -0.174\n",
      "team[T.Burnley]                -0.6542      0.273     -2.394      0.017      -1.190      -0.118\n",
      "team[T.Chelsea]                 0.0024      0.154      0.015      0.988      -0.300       0.305\n",
      "team[T.Crystal Palace]         -0.3841      0.170     -2.255      0.024      -0.718      -0.050\n",
      "team[T.Everton]                -0.8175      0.197     -4.152      0.000      -1.203      -0.432\n",
      "team[T.Fulham]                 -0.4063      0.170     -2.385      0.017      -0.740      -0.072\n",
      "team[T.Ipswich Town]           -0.8391      0.240     -3.500      0.000      -1.309      -0.369\n",
      "team[T.Leicester City]         -0.6960      0.228     -3.055      0.002      -1.142      -0.250\n",
      "team[T.Liverpool]               0.0301      0.152      0.197      0.844      -0.269       0.329\n",
      "team[T.Luton Town]             -0.4479      0.255     -1.758      0.079      -0.947       0.051\n",
      "team[T.Manchester City]         0.0336      0.153      0.220      0.826      -0.265       0.333\n",
      "team[T.Manchester Utd]         -0.4588      0.176     -2.602      0.009      -0.804      -0.113\n",
      "team[T.Newcastle Utd]          -0.1133      0.158     -0.717      0.473      -0.423       0.196\n",
      "team[T.Nott'ham Forest]        -0.3761      0.169     -2.223      0.026      -0.708      -0.045\n",
      "team[T.Sheffield Utd]          -0.7883      0.299     -2.640      0.008      -1.374      -0.203\n",
      "team[T.Southampton]            -1.0451      0.260     -4.020      0.000      -1.555      -0.535\n",
      "team[T.Tottenham]              -0.1613      0.161     -1.002      0.316      -0.477       0.154\n",
      "team[T.West Ham]               -0.4189      0.175     -2.393      0.017      -0.762      -0.076\n",
      "team[T.Wolves]                 -0.5482      0.182     -3.011      0.003      -0.905      -0.191\n",
      "opponent[T.Aston Villa]         0.7973      0.224      3.562      0.000       0.359       1.236\n",
      "opponent[T.Bournemouth]         0.5214      0.233      2.235      0.025       0.064       0.979\n",
      "opponent[T.Brentford]           0.7980      0.222      3.587      0.000       0.362       1.234\n",
      "opponent[T.Brighton]            0.7058      0.227      3.105      0.002       0.260       1.151\n",
      "opponent[T.Burnley]             0.9624      0.266      3.614      0.000       0.440       1.484\n",
      "opponent[T.Chelsea]             0.6231      0.231      2.699      0.007       0.171       1.076\n",
      "opponent[T.Crystal Palace]      0.4319      0.239      1.810      0.070      -0.036       0.900\n",
      "opponent[T.Everton]             0.5011      0.237      2.117      0.034       0.037       0.965\n",
      "opponent[T.Fulham]              0.6233      0.231      2.700      0.007       0.171       1.076\n",
      "opponent[T.Ipswich Town]        0.9593      0.235      4.079      0.000       0.498       1.420\n",
      "opponent[T.Leicester City]      1.0563      0.232      4.557      0.000       0.602       1.511\n",
      "opponent[T.Liverpool]           0.3537      0.246      1.439      0.150      -0.128       0.835\n",
      "opponent[T.Luton Town]          1.1888      0.245      4.847      0.000       0.708       1.670\n",
      "opponent[T.Manchester City]     0.3651      0.240      1.519      0.129      -0.106       0.836\n",
      "opponent[T.Manchester Utd]      0.6956      0.228      3.054      0.002       0.249       1.142\n",
      "opponent[T.Newcastle Utd]       0.6150      0.233      2.644      0.008       0.159       1.071\n",
      "opponent[T.Nott'ham Forest]     0.5541      0.234      2.369      0.018       0.096       1.012\n",
      "opponent[T.Sheffield Utd]       1.3715      0.241      5.700      0.000       0.900       1.843\n",
      "opponent[T.Southampton]         1.0604      0.231      4.587      0.000       0.607       1.514\n",
      "opponent[T.Tottenham]           0.7369      0.226      3.261      0.001       0.294       1.180\n",
      "opponent[T.West Ham]            0.9424      0.218      4.321      0.000       0.515       1.370\n",
      "opponent[T.Wolves]              0.9295      0.218      4.254      0.000       0.501       1.358\n",
      "home                            0.0941      0.058      1.627      0.104      -0.019       0.207\n",
      "===============================================================================================\n"
     ]
    }
   ],
   "source": [
    "poisson_model = smf.glm(formula=\"goals ~ home + team + opponent\", \n",
    "                        data=goal_model_data, \n",
    "                        family=sm.families.Poisson()).fit()\n",
    "\n",
    "print(poisson_model.summary())"
   ]
  },
  {
   "cell_type": "code",
   "execution_count": 9,
   "metadata": {},
   "outputs": [
    {
     "data": {
      "text/plain": [
       "1    0.51389\n",
       "dtype: float64"
      ]
     },
     "execution_count": 9,
     "metadata": {},
     "output_type": "execute_result"
    }
   ],
   "source": [
    "poisson_model.predict(pd.DataFrame(data={'team': 'Southampton', 'opponent': 'Liverpool', 'home':0},index=[1]))"
   ]
  },
  {
   "cell_type": "code",
   "execution_count": 10,
   "metadata": {},
   "outputs": [
    {
     "data": {
      "text/plain": [
       "np.float64(1.0955976352520773)"
      ]
     },
     "execution_count": 10,
     "metadata": {},
     "output_type": "execute_result"
    }
   ],
   "source": [
    "np.exp(0.0913)"
   ]
  },
  {
   "cell_type": "markdown",
   "metadata": {},
   "source": [
    "# Predict fixtures"
   ]
  },
  {
   "cell_type": "code",
   "execution_count": 11,
   "metadata": {},
   "outputs": [],
   "source": [
    "def simulate_match(foot_model, homeTeam, awayTeam, max_goals=10):\n",
    "    home_goals_avg = foot_model.predict(pd.DataFrame(data={'team': homeTeam, \n",
    "                                                            'opponent': awayTeam,'home':1},\n",
    "                                                      index=[1])).values[0]\n",
    "    away_goals_avg = foot_model.predict(pd.DataFrame(data={'team': awayTeam, \n",
    "                                                            'opponent': homeTeam,'home':0},\n",
    "                                                      index=[1])).values[0]\n",
    "    team_pred = [[poisson.pmf(i, team_avg) for i in range(0, max_goals+1)] for team_avg in [home_goals_avg, away_goals_avg]]\n",
    "    return(np.outer(np.array(team_pred[0]), np.array(team_pred[1])))"
   ]
  },
  {
   "cell_type": "code",
   "execution_count": 12,
   "metadata": {},
   "outputs": [
    {
     "data": {
      "text/html": [
       "<div>\n",
       "<style scoped>\n",
       "    .dataframe tbody tr th:only-of-type {\n",
       "        vertical-align: middle;\n",
       "    }\n",
       "\n",
       "    .dataframe tbody tr th {\n",
       "        vertical-align: top;\n",
       "    }\n",
       "\n",
       "    .dataframe thead th {\n",
       "        text-align: right;\n",
       "    }\n",
       "</style>\n",
       "<table border=\"1\" class=\"dataframe\">\n",
       "  <thead>\n",
       "    <tr style=\"text-align: right;\">\n",
       "      <th></th>\n",
       "      <th>index</th>\n",
       "      <th>Wk</th>\n",
       "      <th>Day</th>\n",
       "      <th>Date</th>\n",
       "      <th>Time</th>\n",
       "      <th>Home</th>\n",
       "      <th>xG</th>\n",
       "      <th>Score</th>\n",
       "      <th>xG.1</th>\n",
       "      <th>Away</th>\n",
       "      <th>Attendance</th>\n",
       "      <th>Venue</th>\n",
       "      <th>Referee</th>\n",
       "      <th>Match Report</th>\n",
       "      <th>Notes</th>\n",
       "    </tr>\n",
       "  </thead>\n",
       "  <tbody>\n",
       "    <tr>\n",
       "      <th>0</th>\n",
       "      <td>686</td>\n",
       "      <td>15.0</td>\n",
       "      <td>Wed</td>\n",
       "      <td>2025-02-12</td>\n",
       "      <td>19:30</td>\n",
       "      <td>Everton</td>\n",
       "      <td>NaN</td>\n",
       "      <td>NaN</td>\n",
       "      <td>NaN</td>\n",
       "      <td>Liverpool</td>\n",
       "      <td>NaN</td>\n",
       "      <td>Goodison Park</td>\n",
       "      <td>NaN</td>\n",
       "      <td>Head-to-Head</td>\n",
       "      <td>NaN</td>\n",
       "    </tr>\n",
       "    <tr>\n",
       "      <th>1</th>\n",
       "      <td>688</td>\n",
       "      <td>25.0</td>\n",
       "      <td>Fri</td>\n",
       "      <td>2025-02-14</td>\n",
       "      <td>20:00</td>\n",
       "      <td>Brighton</td>\n",
       "      <td>NaN</td>\n",
       "      <td>NaN</td>\n",
       "      <td>NaN</td>\n",
       "      <td>Chelsea</td>\n",
       "      <td>NaN</td>\n",
       "      <td>The American Express Stadium</td>\n",
       "      <td>NaN</td>\n",
       "      <td>Head-to-Head</td>\n",
       "      <td>NaN</td>\n",
       "    </tr>\n",
       "    <tr>\n",
       "      <th>2</th>\n",
       "      <td>689</td>\n",
       "      <td>25.0</td>\n",
       "      <td>Sat</td>\n",
       "      <td>2025-02-15</td>\n",
       "      <td>12:30</td>\n",
       "      <td>Leicester City</td>\n",
       "      <td>NaN</td>\n",
       "      <td>NaN</td>\n",
       "      <td>NaN</td>\n",
       "      <td>Arsenal</td>\n",
       "      <td>NaN</td>\n",
       "      <td>King Power Stadium</td>\n",
       "      <td>NaN</td>\n",
       "      <td>Head-to-Head</td>\n",
       "      <td>NaN</td>\n",
       "    </tr>\n",
       "    <tr>\n",
       "      <th>3</th>\n",
       "      <td>690</td>\n",
       "      <td>25.0</td>\n",
       "      <td>Sat</td>\n",
       "      <td>2025-02-15</td>\n",
       "      <td>15:00</td>\n",
       "      <td>Aston Villa</td>\n",
       "      <td>NaN</td>\n",
       "      <td>NaN</td>\n",
       "      <td>NaN</td>\n",
       "      <td>Ipswich Town</td>\n",
       "      <td>NaN</td>\n",
       "      <td>Villa Park</td>\n",
       "      <td>NaN</td>\n",
       "      <td>Head-to-Head</td>\n",
       "      <td>NaN</td>\n",
       "    </tr>\n",
       "    <tr>\n",
       "      <th>4</th>\n",
       "      <td>691</td>\n",
       "      <td>25.0</td>\n",
       "      <td>Sat</td>\n",
       "      <td>2025-02-15</td>\n",
       "      <td>15:00</td>\n",
       "      <td>Fulham</td>\n",
       "      <td>NaN</td>\n",
       "      <td>NaN</td>\n",
       "      <td>NaN</td>\n",
       "      <td>Nott'ham Forest</td>\n",
       "      <td>NaN</td>\n",
       "      <td>Craven Cottage</td>\n",
       "      <td>NaN</td>\n",
       "      <td>Head-to-Head</td>\n",
       "      <td>NaN</td>\n",
       "    </tr>\n",
       "    <tr>\n",
       "      <th>...</th>\n",
       "      <td>...</td>\n",
       "      <td>...</td>\n",
       "      <td>...</td>\n",
       "      <td>...</td>\n",
       "      <td>...</td>\n",
       "      <td>...</td>\n",
       "      <td>...</td>\n",
       "      <td>...</td>\n",
       "      <td>...</td>\n",
       "      <td>...</td>\n",
       "      <td>...</td>\n",
       "      <td>...</td>\n",
       "      <td>...</td>\n",
       "      <td>...</td>\n",
       "      <td>...</td>\n",
       "    </tr>\n",
       "    <tr>\n",
       "      <th>136</th>\n",
       "      <td>837</td>\n",
       "      <td>38.0</td>\n",
       "      <td>Sun</td>\n",
       "      <td>2025-05-25</td>\n",
       "      <td>16:00</td>\n",
       "      <td>Fulham</td>\n",
       "      <td>NaN</td>\n",
       "      <td>NaN</td>\n",
       "      <td>NaN</td>\n",
       "      <td>Manchester City</td>\n",
       "      <td>NaN</td>\n",
       "      <td>Craven Cottage</td>\n",
       "      <td>NaN</td>\n",
       "      <td>Head-to-Head</td>\n",
       "      <td>NaN</td>\n",
       "    </tr>\n",
       "    <tr>\n",
       "      <th>137</th>\n",
       "      <td>838</td>\n",
       "      <td>38.0</td>\n",
       "      <td>Sun</td>\n",
       "      <td>2025-05-25</td>\n",
       "      <td>16:00</td>\n",
       "      <td>Nott'ham Forest</td>\n",
       "      <td>NaN</td>\n",
       "      <td>NaN</td>\n",
       "      <td>NaN</td>\n",
       "      <td>Chelsea</td>\n",
       "      <td>NaN</td>\n",
       "      <td>The City Ground</td>\n",
       "      <td>NaN</td>\n",
       "      <td>Head-to-Head</td>\n",
       "      <td>NaN</td>\n",
       "    </tr>\n",
       "    <tr>\n",
       "      <th>138</th>\n",
       "      <td>839</td>\n",
       "      <td>38.0</td>\n",
       "      <td>Sun</td>\n",
       "      <td>2025-05-25</td>\n",
       "      <td>16:00</td>\n",
       "      <td>Manchester Utd</td>\n",
       "      <td>NaN</td>\n",
       "      <td>NaN</td>\n",
       "      <td>NaN</td>\n",
       "      <td>Aston Villa</td>\n",
       "      <td>NaN</td>\n",
       "      <td>Old Trafford</td>\n",
       "      <td>NaN</td>\n",
       "      <td>Head-to-Head</td>\n",
       "      <td>NaN</td>\n",
       "    </tr>\n",
       "    <tr>\n",
       "      <th>139</th>\n",
       "      <td>840</td>\n",
       "      <td>38.0</td>\n",
       "      <td>Sun</td>\n",
       "      <td>2025-05-25</td>\n",
       "      <td>16:00</td>\n",
       "      <td>Wolves</td>\n",
       "      <td>NaN</td>\n",
       "      <td>NaN</td>\n",
       "      <td>NaN</td>\n",
       "      <td>Brentford</td>\n",
       "      <td>NaN</td>\n",
       "      <td>Molineux Stadium</td>\n",
       "      <td>NaN</td>\n",
       "      <td>Head-to-Head</td>\n",
       "      <td>NaN</td>\n",
       "    </tr>\n",
       "    <tr>\n",
       "      <th>140</th>\n",
       "      <td>841</td>\n",
       "      <td>38.0</td>\n",
       "      <td>Sun</td>\n",
       "      <td>2025-05-25</td>\n",
       "      <td>16:00</td>\n",
       "      <td>Tottenham</td>\n",
       "      <td>NaN</td>\n",
       "      <td>NaN</td>\n",
       "      <td>NaN</td>\n",
       "      <td>Brighton</td>\n",
       "      <td>NaN</td>\n",
       "      <td>Tottenham Hotspur Stadium</td>\n",
       "      <td>NaN</td>\n",
       "      <td>Head-to-Head</td>\n",
       "      <td>NaN</td>\n",
       "    </tr>\n",
       "  </tbody>\n",
       "</table>\n",
       "<p>141 rows × 15 columns</p>\n",
       "</div>"
      ],
      "text/plain": [
       "     index    Wk  Day       Date   Time             Home  xG Score  xG.1  \\\n",
       "0      686  15.0  Wed 2025-02-12  19:30          Everton NaN   NaN   NaN   \n",
       "1      688  25.0  Fri 2025-02-14  20:00         Brighton NaN   NaN   NaN   \n",
       "2      689  25.0  Sat 2025-02-15  12:30   Leicester City NaN   NaN   NaN   \n",
       "3      690  25.0  Sat 2025-02-15  15:00      Aston Villa NaN   NaN   NaN   \n",
       "4      691  25.0  Sat 2025-02-15  15:00           Fulham NaN   NaN   NaN   \n",
       "..     ...   ...  ...        ...    ...              ...  ..   ...   ...   \n",
       "136    837  38.0  Sun 2025-05-25  16:00           Fulham NaN   NaN   NaN   \n",
       "137    838  38.0  Sun 2025-05-25  16:00  Nott'ham Forest NaN   NaN   NaN   \n",
       "138    839  38.0  Sun 2025-05-25  16:00   Manchester Utd NaN   NaN   NaN   \n",
       "139    840  38.0  Sun 2025-05-25  16:00           Wolves NaN   NaN   NaN   \n",
       "140    841  38.0  Sun 2025-05-25  16:00        Tottenham NaN   NaN   NaN   \n",
       "\n",
       "                Away  Attendance                         Venue Referee  \\\n",
       "0          Liverpool         NaN                 Goodison Park     NaN   \n",
       "1            Chelsea         NaN  The American Express Stadium     NaN   \n",
       "2            Arsenal         NaN            King Power Stadium     NaN   \n",
       "3       Ipswich Town         NaN                    Villa Park     NaN   \n",
       "4    Nott'ham Forest         NaN                Craven Cottage     NaN   \n",
       "..               ...         ...                           ...     ...   \n",
       "136  Manchester City         NaN                Craven Cottage     NaN   \n",
       "137          Chelsea         NaN               The City Ground     NaN   \n",
       "138      Aston Villa         NaN                  Old Trafford     NaN   \n",
       "139        Brentford         NaN              Molineux Stadium     NaN   \n",
       "140         Brighton         NaN     Tottenham Hotspur Stadium     NaN   \n",
       "\n",
       "     Match Report Notes  \n",
       "0    Head-to-Head   NaN  \n",
       "1    Head-to-Head   NaN  \n",
       "2    Head-to-Head   NaN  \n",
       "3    Head-to-Head   NaN  \n",
       "4    Head-to-Head   NaN  \n",
       "..            ...   ...  \n",
       "136  Head-to-Head   NaN  \n",
       "137  Head-to-Head   NaN  \n",
       "138  Head-to-Head   NaN  \n",
       "139  Head-to-Head   NaN  \n",
       "140  Head-to-Head   NaN  \n",
       "\n",
       "[141 rows x 15 columns]"
      ]
     },
     "execution_count": 12,
     "metadata": {},
     "output_type": "execute_result"
    }
   ],
   "source": [
    "fixtures = fixtures_fbref[(fixtures_fbref['Score'].isnull()) & (fixtures_fbref['Wk'].notnull())].reset_index()\n",
    "fixtures"
   ]
  },
  {
   "cell_type": "code",
   "execution_count": 13,
   "metadata": {},
   "outputs": [],
   "source": [
    "i=0\n",
    "outcome_matrix = simulate_match(poisson_model, fixtures.loc[i, 'Home'], fixtures.loc[i, 'Away'])"
   ]
  },
  {
   "cell_type": "code",
   "execution_count": 14,
   "metadata": {},
   "outputs": [
    {
     "data": {
      "image/png": "[encoded data removed]",
      "text/plain": [
       "<Figure size 640x480 with 2 Axes>"
      ]
     },
     "metadata": {},
     "output_type": "display_data"
    }
   ],
   "source": [
    "ax = sns.heatmap(outcome_matrix, annot=True, fmt=\".2f\")\n",
    "ax.set(xlabel=fixtures.loc[i, 'Away'], ylabel=fixtures.loc[i, 'Home'])\n",
    "ax.xaxis.tick_top()\n",
    "ax.xaxis.set_label_position('top')"
   ]
  },
  {
   "cell_type": "code",
   "execution_count": 15,
   "metadata": {},
   "outputs": [
    {
     "data": {
      "text/plain": [
       "1    0.708859\n",
       "dtype: float64"
      ]
     },
     "execution_count": 15,
     "metadata": {},
     "output_type": "execute_result"
    }
   ],
   "source": [
    "poisson_model.predict(pd.DataFrame(data={'team': 'Everton', 'opponent': 'Liverpool', 'home':1},index=[1]))"
   ]
  },
  {
   "cell_type": "code",
   "execution_count": 16,
   "metadata": {},
   "outputs": [
    {
     "data": {
      "text/plain": [
       "1    1.745149\n",
       "dtype: float64"
      ]
     },
     "execution_count": 16,
     "metadata": {},
     "output_type": "execute_result"
    }
   ],
   "source": [
    "poisson_model.predict(pd.DataFrame(data={'team': 'Liverpool', 'opponent': 'Everton', 'home':0},index=[1]))"
   ]
  },
  {
   "cell_type": "code",
   "execution_count": 17,
   "metadata": {},
   "outputs": [
    {
     "data": {
      "text/plain": [
       "np.float64(0.15038322940939658)"
      ]
     },
     "execution_count": 17,
     "metadata": {},
     "output_type": "execute_result"
    }
   ],
   "source": [
    "poisson.pmf(0, 0.704353)*poisson.pmf(1, 1.749606)"
   ]
  },
  {
   "cell_type": "code",
   "execution_count": 18,
   "metadata": {},
   "outputs": [
    {
     "data": {
      "text/plain": [
       "np.float64(0.1474453376893061)"
      ]
     },
     "execution_count": 18,
     "metadata": {},
     "output_type": "execute_result"
    }
   ],
   "source": [
    "outcome_matrix[np.tril_indices_from(outcome_matrix, k=-1)].sum()"
   ]
  },
  {
   "cell_type": "code",
   "execution_count": 19,
   "metadata": {},
   "outputs": [
    {
     "data": {
      "text/plain": [
       "np.float64(0.2300415777820622)"
      ]
     },
     "execution_count": 19,
     "metadata": {},
     "output_type": "execute_result"
    }
   ],
   "source": [
    "np.trace(outcome_matrix)"
   ]
  },
  {
   "cell_type": "code",
   "execution_count": 20,
   "metadata": {},
   "outputs": [
    {
     "data": {
      "text/plain": [
       "np.float64(0.6225107484857755)"
      ]
     },
     "execution_count": 20,
     "metadata": {},
     "output_type": "execute_result"
    }
   ],
   "source": [
    "outcome_matrix[np.triu_indices_from(outcome_matrix, k=1)].sum()"
   ]
  },
  {
   "cell_type": "code",
   "execution_count": 21,
   "metadata": {},
   "outputs": [
    {
     "data": {
      "text/html": [
       "<div>\n",
       "<style scoped>\n",
       "    .dataframe tbody tr th:only-of-type {\n",
       "        vertical-align: middle;\n",
       "    }\n",
       "\n",
       "    .dataframe tbody tr th {\n",
       "        vertical-align: top;\n",
       "    }\n",
       "\n",
       "    .dataframe thead th {\n",
       "        text-align: right;\n",
       "    }\n",
       "</style>\n",
       "<table border=\"1\" class=\"dataframe\">\n",
       "  <thead>\n",
       "    <tr style=\"text-align: right;\">\n",
       "      <th></th>\n",
       "      <th>index</th>\n",
       "      <th>Wk</th>\n",
       "      <th>Day</th>\n",
       "      <th>Date</th>\n",
       "      <th>Time</th>\n",
       "      <th>Home</th>\n",
       "      <th>xG</th>\n",
       "      <th>Score</th>\n",
       "      <th>xG.1</th>\n",
       "      <th>Away</th>\n",
       "      <th>Attendance</th>\n",
       "      <th>Venue</th>\n",
       "      <th>Referee</th>\n",
       "      <th>Match Report</th>\n",
       "      <th>Notes</th>\n",
       "      <th>home_win_probability</th>\n",
       "      <th>draw_probability</th>\n",
       "      <th>away_win_probability</th>\n",
       "    </tr>\n",
       "  </thead>\n",
       "  <tbody>\n",
       "    <tr>\n",
       "      <th>0</th>\n",
       "      <td>686</td>\n",
       "      <td>15.0</td>\n",
       "      <td>Wed</td>\n",
       "      <td>2025-02-12</td>\n",
       "      <td>19:30</td>\n",
       "      <td>Everton</td>\n",
       "      <td>NaN</td>\n",
       "      <td>NaN</td>\n",
       "      <td>NaN</td>\n",
       "      <td>Liverpool</td>\n",
       "      <td>NaN</td>\n",
       "      <td>Goodison Park</td>\n",
       "      <td>NaN</td>\n",
       "      <td>Head-to-Head</td>\n",
       "      <td>NaN</td>\n",
       "      <td>0.147445</td>\n",
       "      <td>0.230042</td>\n",
       "      <td>0.622511</td>\n",
       "    </tr>\n",
       "    <tr>\n",
       "      <th>1</th>\n",
       "      <td>688</td>\n",
       "      <td>25.0</td>\n",
       "      <td>Fri</td>\n",
       "      <td>2025-02-14</td>\n",
       "      <td>20:00</td>\n",
       "      <td>Brighton</td>\n",
       "      <td>NaN</td>\n",
       "      <td>NaN</td>\n",
       "      <td>NaN</td>\n",
       "      <td>Chelsea</td>\n",
       "      <td>NaN</td>\n",
       "      <td>The American Express Stadium</td>\n",
       "      <td>NaN</td>\n",
       "      <td>Head-to-Head</td>\n",
       "      <td>NaN</td>\n",
       "      <td>0.221770</td>\n",
       "      <td>0.209550</td>\n",
       "      <td>0.568668</td>\n",
       "    </tr>\n",
       "    <tr>\n",
       "      <th>2</th>\n",
       "      <td>689</td>\n",
       "      <td>25.0</td>\n",
       "      <td>Sat</td>\n",
       "      <td>2025-02-15</td>\n",
       "      <td>12:30</td>\n",
       "      <td>Leicester City</td>\n",
       "      <td>NaN</td>\n",
       "      <td>NaN</td>\n",
       "      <td>NaN</td>\n",
       "      <td>Arsenal</td>\n",
       "      <td>NaN</td>\n",
       "      <td>King Power Stadium</td>\n",
       "      <td>NaN</td>\n",
       "      <td>Head-to-Head</td>\n",
       "      <td>NaN</td>\n",
       "      <td>0.044504</td>\n",
       "      <td>0.103987</td>\n",
       "      <td>0.851254</td>\n",
       "    </tr>\n",
       "    <tr>\n",
       "      <th>3</th>\n",
       "      <td>690</td>\n",
       "      <td>25.0</td>\n",
       "      <td>Sat</td>\n",
       "      <td>2025-02-15</td>\n",
       "      <td>15:00</td>\n",
       "      <td>Aston Villa</td>\n",
       "      <td>NaN</td>\n",
       "      <td>NaN</td>\n",
       "      <td>NaN</td>\n",
       "      <td>Ipswich Town</td>\n",
       "      <td>NaN</td>\n",
       "      <td>Villa Park</td>\n",
       "      <td>NaN</td>\n",
       "      <td>Head-to-Head</td>\n",
       "      <td>NaN</td>\n",
       "      <td>0.642780</td>\n",
       "      <td>0.196288</td>\n",
       "      <td>0.160915</td>\n",
       "    </tr>\n",
       "    <tr>\n",
       "      <th>4</th>\n",
       "      <td>691</td>\n",
       "      <td>25.0</td>\n",
       "      <td>Sat</td>\n",
       "      <td>2025-02-15</td>\n",
       "      <td>15:00</td>\n",
       "      <td>Fulham</td>\n",
       "      <td>NaN</td>\n",
       "      <td>NaN</td>\n",
       "      <td>NaN</td>\n",
       "      <td>Nott'ham Forest</td>\n",
       "      <td>NaN</td>\n",
       "      <td>Craven Cottage</td>\n",
       "      <td>NaN</td>\n",
       "      <td>Head-to-Head</td>\n",
       "      <td>NaN</td>\n",
       "      <td>0.367025</td>\n",
       "      <td>0.262719</td>\n",
       "      <td>0.370256</td>\n",
       "    </tr>\n",
       "    <tr>\n",
       "      <th>...</th>\n",
       "      <td>...</td>\n",
       "      <td>...</td>\n",
       "      <td>...</td>\n",
       "      <td>...</td>\n",
       "      <td>...</td>\n",
       "      <td>...</td>\n",
       "      <td>...</td>\n",
       "      <td>...</td>\n",
       "      <td>...</td>\n",
       "      <td>...</td>\n",
       "      <td>...</td>\n",
       "      <td>...</td>\n",
       "      <td>...</td>\n",
       "      <td>...</td>\n",
       "      <td>...</td>\n",
       "      <td>...</td>\n",
       "      <td>...</td>\n",
       "      <td>...</td>\n",
       "    </tr>\n",
       "    <tr>\n",
       "      <th>136</th>\n",
       "      <td>837</td>\n",
       "      <td>38.0</td>\n",
       "      <td>Sun</td>\n",
       "      <td>2025-05-25</td>\n",
       "      <td>16:00</td>\n",
       "      <td>Fulham</td>\n",
       "      <td>NaN</td>\n",
       "      <td>NaN</td>\n",
       "      <td>NaN</td>\n",
       "      <td>Manchester City</td>\n",
       "      <td>NaN</td>\n",
       "      <td>Craven Cottage</td>\n",
       "      <td>NaN</td>\n",
       "      <td>Head-to-Head</td>\n",
       "      <td>NaN</td>\n",
       "      <td>0.202658</td>\n",
       "      <td>0.215479</td>\n",
       "      <td>0.581855</td>\n",
       "    </tr>\n",
       "    <tr>\n",
       "      <th>137</th>\n",
       "      <td>838</td>\n",
       "      <td>38.0</td>\n",
       "      <td>Sun</td>\n",
       "      <td>2025-05-25</td>\n",
       "      <td>16:00</td>\n",
       "      <td>Nott'ham Forest</td>\n",
       "      <td>NaN</td>\n",
       "      <td>NaN</td>\n",
       "      <td>NaN</td>\n",
       "      <td>Chelsea</td>\n",
       "      <td>NaN</td>\n",
       "      <td>The City Ground</td>\n",
       "      <td>NaN</td>\n",
       "      <td>Head-to-Head</td>\n",
       "      <td>NaN</td>\n",
       "      <td>0.311865</td>\n",
       "      <td>0.229375</td>\n",
       "      <td>0.458756</td>\n",
       "    </tr>\n",
       "    <tr>\n",
       "      <th>138</th>\n",
       "      <td>839</td>\n",
       "      <td>38.0</td>\n",
       "      <td>Sun</td>\n",
       "      <td>2025-05-25</td>\n",
       "      <td>16:00</td>\n",
       "      <td>Manchester Utd</td>\n",
       "      <td>NaN</td>\n",
       "      <td>NaN</td>\n",
       "      <td>NaN</td>\n",
       "      <td>Aston Villa</td>\n",
       "      <td>NaN</td>\n",
       "      <td>Old Trafford</td>\n",
       "      <td>NaN</td>\n",
       "      <td>Head-to-Head</td>\n",
       "      <td>NaN</td>\n",
       "      <td>0.395552</td>\n",
       "      <td>0.238625</td>\n",
       "      <td>0.365821</td>\n",
       "    </tr>\n",
       "    <tr>\n",
       "      <th>139</th>\n",
       "      <td>840</td>\n",
       "      <td>38.0</td>\n",
       "      <td>Sun</td>\n",
       "      <td>2025-05-25</td>\n",
       "      <td>16:00</td>\n",
       "      <td>Wolves</td>\n",
       "      <td>NaN</td>\n",
       "      <td>NaN</td>\n",
       "      <td>NaN</td>\n",
       "      <td>Brentford</td>\n",
       "      <td>NaN</td>\n",
       "      <td>Molineux Stadium</td>\n",
       "      <td>NaN</td>\n",
       "      <td>Head-to-Head</td>\n",
       "      <td>NaN</td>\n",
       "      <td>0.285166</td>\n",
       "      <td>0.219015</td>\n",
       "      <td>0.495811</td>\n",
       "    </tr>\n",
       "    <tr>\n",
       "      <th>140</th>\n",
       "      <td>841</td>\n",
       "      <td>38.0</td>\n",
       "      <td>Sun</td>\n",
       "      <td>2025-05-25</td>\n",
       "      <td>16:00</td>\n",
       "      <td>Tottenham</td>\n",
       "      <td>NaN</td>\n",
       "      <td>NaN</td>\n",
       "      <td>NaN</td>\n",
       "      <td>Brighton</td>\n",
       "      <td>NaN</td>\n",
       "      <td>Tottenham Hotspur Stadium</td>\n",
       "      <td>NaN</td>\n",
       "      <td>Head-to-Head</td>\n",
       "      <td>NaN</td>\n",
       "      <td>0.533012</td>\n",
       "      <td>0.220405</td>\n",
       "      <td>0.246577</td>\n",
       "    </tr>\n",
       "  </tbody>\n",
       "</table>\n",
       "<p>141 rows × 18 columns</p>\n",
       "</div>"
      ],
      "text/plain": [
       "     index    Wk  Day       Date   Time             Home  xG Score  xG.1  \\\n",
       "0      686  15.0  Wed 2025-02-12  19:30          Everton NaN   NaN   NaN   \n",
       "1      688  25.0  Fri 2025-02-14  20:00         Brighton NaN   NaN   NaN   \n",
       "2      689  25.0  Sat 2025-02-15  12:30   Leicester City NaN   NaN   NaN   \n",
       "3      690  25.0  Sat 2025-02-15  15:00      Aston Villa NaN   NaN   NaN   \n",
       "4      691  25.0  Sat 2025-02-15  15:00           Fulham NaN   NaN   NaN   \n",
       "..     ...   ...  ...        ...    ...              ...  ..   ...   ...   \n",
       "136    837  38.0  Sun 2025-05-25  16:00           Fulham NaN   NaN   NaN   \n",
       "137    838  38.0  Sun 2025-05-25  16:00  Nott'ham Forest NaN   NaN   NaN   \n",
       "138    839  38.0  Sun 2025-05-25  16:00   Manchester Utd NaN   NaN   NaN   \n",
       "139    840  38.0  Sun 2025-05-25  16:00           Wolves NaN   NaN   NaN   \n",
       "140    841  38.0  Sun 2025-05-25  16:00        Tottenham NaN   NaN   NaN   \n",
       "\n",
       "                Away  Attendance                         Venue Referee  \\\n",
       "0          Liverpool         NaN                 Goodison Park     NaN   \n",
       "1            Chelsea         NaN  The American Express Stadium     NaN   \n",
       "2            Arsenal         NaN            King Power Stadium     NaN   \n",
       "3       Ipswich Town         NaN                    Villa Park     NaN   \n",
       "4    Nott'ham Forest         NaN                Craven Cottage     NaN   \n",
       "..               ...         ...                           ...     ...   \n",
       "136  Manchester City         NaN                Craven Cottage     NaN   \n",
       "137          Chelsea         NaN               The City Ground     NaN   \n",
       "138      Aston Villa         NaN                  Old Trafford     NaN   \n",
       "139        Brentford         NaN              Molineux Stadium     NaN   \n",
       "140         Brighton         NaN     Tottenham Hotspur Stadium     NaN   \n",
       "\n",
       "     Match Report Notes  home_win_probability  draw_probability  \\\n",
       "0    Head-to-Head   NaN              0.147445          0.230042   \n",
       "1    Head-to-Head   NaN              0.221770          0.209550   \n",
       "2    Head-to-Head   NaN              0.044504          0.103987   \n",
       "3    Head-to-Head   NaN              0.642780          0.196288   \n",
       "4    Head-to-Head   NaN              0.367025          0.262719   \n",
       "..            ...   ...                   ...               ...   \n",
       "136  Head-to-Head   NaN              0.202658          0.215479   \n",
       "137  Head-to-Head   NaN              0.311865          0.229375   \n",
       "138  Head-to-Head   NaN              0.395552          0.238625   \n",
       "139  Head-to-Head   NaN              0.285166          0.219015   \n",
       "140  Head-to-Head   NaN              0.533012          0.220405   \n",
       "\n",
       "     away_win_probability  \n",
       "0                0.622511  \n",
       "1                0.568668  \n",
       "2                0.851254  \n",
       "3                0.160915  \n",
       "4                0.370256  \n",
       "..                    ...  \n",
       "136              0.581855  \n",
       "137              0.458756  \n",
       "138              0.365821  \n",
       "139              0.495811  \n",
       "140              0.246577  \n",
       "\n",
       "[141 rows x 18 columns]"
      ]
     },
     "metadata": {},
     "output_type": "display_data"
    }
   ],
   "source": [
    "all_probabilities = []\n",
    "for _, fixture in fixtures.iterrows():\n",
    "    # probability of different scorelines\n",
    "    outcome_matrix = simulate_match(poisson_model, fixture['Home'], fixture['Away'])\n",
    "    # match outcome probabilities\n",
    "    probability_home_win = outcome_matrix[np.tril_indices_from(outcome_matrix, k=-1)].sum()\n",
    "    probability_draw = np.trace(outcome_matrix)\n",
    "    probability_away_win = outcome_matrix[np.triu_indices_from(outcome_matrix, k=1)].sum()\n",
    "    # add probabilities to list\n",
    "    all_probabilities.append([probability_home_win, probability_draw, probability_away_win])\n",
    "\n",
    "# add all probabilites to fixtures df\n",
    "fixtures[['home_win_probability', 'draw_probability', 'away_win_probability']] = all_probabilities\n",
    "\n",
    "display(fixtures)"
   ]
  },
  {
   "cell_type": "markdown",
   "metadata": {},
   "source": [
    "# FPL Assistant Manager Chip"
   ]
  },
  {
   "cell_type": "code",
   "execution_count": 22,
   "metadata": {},
   "outputs": [
    {
     "data": {
      "text/html": [
       "<div>\n",
       "<style scoped>\n",
       "    .dataframe tbody tr th:only-of-type {\n",
       "        vertical-align: middle;\n",
       "    }\n",
       "\n",
       "    .dataframe tbody tr th {\n",
       "        vertical-align: top;\n",
       "    }\n",
       "\n",
       "    .dataframe thead th {\n",
       "        text-align: right;\n",
       "    }\n",
       "</style>\n",
       "<table border=\"1\" class=\"dataframe\">\n",
       "  <thead>\n",
       "    <tr style=\"text-align: right;\">\n",
       "      <th></th>\n",
       "      <th>Rk</th>\n",
       "      <th>Squad</th>\n",
       "      <th>MP</th>\n",
       "      <th>W</th>\n",
       "      <th>D</th>\n",
       "      <th>L</th>\n",
       "      <th>GF</th>\n",
       "      <th>GA</th>\n",
       "      <th>GD</th>\n",
       "      <th>Pts</th>\n",
       "      <th>Pts/MP</th>\n",
       "      <th>xG</th>\n",
       "      <th>xGA</th>\n",
       "      <th>xGD</th>\n",
       "      <th>xGD/90</th>\n",
       "      <th>Last 5</th>\n",
       "      <th>Attendance</th>\n",
       "      <th>Top Team Scorer</th>\n",
       "      <th>Goalkeeper</th>\n",
       "      <th>Notes</th>\n",
       "    </tr>\n",
       "  </thead>\n",
       "  <tbody>\n",
       "    <tr>\n",
       "      <th>0</th>\n",
       "      <td>1</td>\n",
       "      <td>Liverpool</td>\n",
       "      <td>23</td>\n",
       "      <td>17</td>\n",
       "      <td>5</td>\n",
       "      <td>1</td>\n",
       "      <td>56</td>\n",
       "      <td>21</td>\n",
       "      <td>35</td>\n",
       "      <td>56</td>\n",
       "      <td>2.43</td>\n",
       "      <td>53.9</td>\n",
       "      <td>20.8</td>\n",
       "      <td>33.1</td>\n",
       "      <td>1.44</td>\n",
       "      <td>D D W W W</td>\n",
       "      <td>60289</td>\n",
       "      <td>Mohamed Salah - 21</td>\n",
       "      <td>Alisson</td>\n",
       "      <td>NaN</td>\n",
       "    </tr>\n",
       "    <tr>\n",
       "      <th>1</th>\n",
       "      <td>2</td>\n",
       "      <td>Arsenal</td>\n",
       "      <td>24</td>\n",
       "      <td>14</td>\n",
       "      <td>8</td>\n",
       "      <td>2</td>\n",
       "      <td>49</td>\n",
       "      <td>22</td>\n",
       "      <td>27</td>\n",
       "      <td>50</td>\n",
       "      <td>2.08</td>\n",
       "      <td>38.6</td>\n",
       "      <td>21.2</td>\n",
       "      <td>17.4</td>\n",
       "      <td>0.73</td>\n",
       "      <td>D W D W W</td>\n",
       "      <td>60276</td>\n",
       "      <td>Kai Havertz - 9</td>\n",
       "      <td>David Raya</td>\n",
       "      <td>NaN</td>\n",
       "    </tr>\n",
       "    <tr>\n",
       "      <th>2</th>\n",
       "      <td>3</td>\n",
       "      <td>Nott'ham Forest</td>\n",
       "      <td>24</td>\n",
       "      <td>14</td>\n",
       "      <td>5</td>\n",
       "      <td>5</td>\n",
       "      <td>40</td>\n",
       "      <td>27</td>\n",
       "      <td>13</td>\n",
       "      <td>47</td>\n",
       "      <td>1.96</td>\n",
       "      <td>31.7</td>\n",
       "      <td>26.7</td>\n",
       "      <td>5.0</td>\n",
       "      <td>0.21</td>\n",
       "      <td>W D W L W</td>\n",
       "      <td>30056</td>\n",
       "      <td>Chris Wood - 17</td>\n",
       "      <td>Matz Sels</td>\n",
       "      <td>NaN</td>\n",
       "    </tr>\n",
       "    <tr>\n",
       "      <th>3</th>\n",
       "      <td>4</td>\n",
       "      <td>Chelsea</td>\n",
       "      <td>24</td>\n",
       "      <td>12</td>\n",
       "      <td>7</td>\n",
       "      <td>5</td>\n",
       "      <td>47</td>\n",
       "      <td>31</td>\n",
       "      <td>16</td>\n",
       "      <td>43</td>\n",
       "      <td>1.79</td>\n",
       "      <td>48.6</td>\n",
       "      <td>34.2</td>\n",
       "      <td>14.4</td>\n",
       "      <td>0.60</td>\n",
       "      <td>D D W L W</td>\n",
       "      <td>39608</td>\n",
       "      <td>Cole Palmer - 14</td>\n",
       "      <td>Robert Sánchez</td>\n",
       "      <td>NaN</td>\n",
       "    </tr>\n",
       "    <tr>\n",
       "      <th>4</th>\n",
       "      <td>5</td>\n",
       "      <td>Manchester City</td>\n",
       "      <td>24</td>\n",
       "      <td>12</td>\n",
       "      <td>5</td>\n",
       "      <td>7</td>\n",
       "      <td>48</td>\n",
       "      <td>35</td>\n",
       "      <td>13</td>\n",
       "      <td>41</td>\n",
       "      <td>1.71</td>\n",
       "      <td>44.2</td>\n",
       "      <td>34.1</td>\n",
       "      <td>10.0</td>\n",
       "      <td>0.42</td>\n",
       "      <td>W D W W L</td>\n",
       "      <td>52944</td>\n",
       "      <td>Erling Haaland - 19</td>\n",
       "      <td>Ederson</td>\n",
       "      <td>NaN</td>\n",
       "    </tr>\n",
       "    <tr>\n",
       "      <th>5</th>\n",
       "      <td>6</td>\n",
       "      <td>Newcastle Utd</td>\n",
       "      <td>24</td>\n",
       "      <td>12</td>\n",
       "      <td>5</td>\n",
       "      <td>7</td>\n",
       "      <td>42</td>\n",
       "      <td>29</td>\n",
       "      <td>13</td>\n",
       "      <td>41</td>\n",
       "      <td>1.71</td>\n",
       "      <td>41.3</td>\n",
       "      <td>29.4</td>\n",
       "      <td>11.9</td>\n",
       "      <td>0.49</td>\n",
       "      <td>W W L W L</td>\n",
       "      <td>52186</td>\n",
       "      <td>Alexander Isak - 17</td>\n",
       "      <td>Nick Pope</td>\n",
       "      <td>NaN</td>\n",
       "    </tr>\n",
       "    <tr>\n",
       "      <th>6</th>\n",
       "      <td>7</td>\n",
       "      <td>Bournemouth</td>\n",
       "      <td>24</td>\n",
       "      <td>11</td>\n",
       "      <td>7</td>\n",
       "      <td>6</td>\n",
       "      <td>41</td>\n",
       "      <td>28</td>\n",
       "      <td>13</td>\n",
       "      <td>40</td>\n",
       "      <td>1.67</td>\n",
       "      <td>45.6</td>\n",
       "      <td>31.2</td>\n",
       "      <td>14.4</td>\n",
       "      <td>0.60</td>\n",
       "      <td>W D W W L</td>\n",
       "      <td>11213</td>\n",
       "      <td>Justin Kluivert - 11</td>\n",
       "      <td>Kepa Arrizabalaga</td>\n",
       "      <td>NaN</td>\n",
       "    </tr>\n",
       "    <tr>\n",
       "      <th>7</th>\n",
       "      <td>8</td>\n",
       "      <td>Aston Villa</td>\n",
       "      <td>24</td>\n",
       "      <td>10</td>\n",
       "      <td>7</td>\n",
       "      <td>7</td>\n",
       "      <td>34</td>\n",
       "      <td>37</td>\n",
       "      <td>-3</td>\n",
       "      <td>37</td>\n",
       "      <td>1.54</td>\n",
       "      <td>34.2</td>\n",
       "      <td>29.8</td>\n",
       "      <td>4.4</td>\n",
       "      <td>0.18</td>\n",
       "      <td>W W D D L</td>\n",
       "      <td>41878</td>\n",
       "      <td>Ollie Watkins - 10</td>\n",
       "      <td>Emiliano Martínez</td>\n",
       "      <td>NaN</td>\n",
       "    </tr>\n",
       "    <tr>\n",
       "      <th>8</th>\n",
       "      <td>9</td>\n",
       "      <td>Fulham</td>\n",
       "      <td>24</td>\n",
       "      <td>9</td>\n",
       "      <td>9</td>\n",
       "      <td>6</td>\n",
       "      <td>36</td>\n",
       "      <td>32</td>\n",
       "      <td>4</td>\n",
       "      <td>36</td>\n",
       "      <td>1.50</td>\n",
       "      <td>33.9</td>\n",
       "      <td>27.6</td>\n",
       "      <td>6.3</td>\n",
       "      <td>0.26</td>\n",
       "      <td>D L W L W</td>\n",
       "      <td>26480</td>\n",
       "      <td>Raúl Jiménez - 9</td>\n",
       "      <td>Bernd Leno</td>\n",
       "      <td>NaN</td>\n",
       "    </tr>\n",
       "    <tr>\n",
       "      <th>9</th>\n",
       "      <td>10</td>\n",
       "      <td>Brighton</td>\n",
       "      <td>24</td>\n",
       "      <td>8</td>\n",
       "      <td>10</td>\n",
       "      <td>6</td>\n",
       "      <td>35</td>\n",
       "      <td>38</td>\n",
       "      <td>-3</td>\n",
       "      <td>34</td>\n",
       "      <td>1.42</td>\n",
       "      <td>32.3</td>\n",
       "      <td>36.3</td>\n",
       "      <td>-4.0</td>\n",
       "      <td>-0.17</td>\n",
       "      <td>D W W L L</td>\n",
       "      <td>32398</td>\n",
       "      <td>Danny Welbeck - 6</td>\n",
       "      <td>Bart Verbruggen</td>\n",
       "      <td>NaN</td>\n",
       "    </tr>\n",
       "    <tr>\n",
       "      <th>10</th>\n",
       "      <td>11</td>\n",
       "      <td>Brentford</td>\n",
       "      <td>24</td>\n",
       "      <td>9</td>\n",
       "      <td>4</td>\n",
       "      <td>11</td>\n",
       "      <td>42</td>\n",
       "      <td>42</td>\n",
       "      <td>0</td>\n",
       "      <td>31</td>\n",
       "      <td>1.29</td>\n",
       "      <td>38.5</td>\n",
       "      <td>39.4</td>\n",
       "      <td>-0.9</td>\n",
       "      <td>-0.04</td>\n",
       "      <td>W D L W L</td>\n",
       "      <td>19349</td>\n",
       "      <td>Bryan Mbeumo - 14</td>\n",
       "      <td>Mark Flekken</td>\n",
       "      <td>NaN</td>\n",
       "    </tr>\n",
       "    <tr>\n",
       "      <th>11</th>\n",
       "      <td>12</td>\n",
       "      <td>Crystal Palace</td>\n",
       "      <td>24</td>\n",
       "      <td>7</td>\n",
       "      <td>9</td>\n",
       "      <td>8</td>\n",
       "      <td>28</td>\n",
       "      <td>30</td>\n",
       "      <td>-2</td>\n",
       "      <td>30</td>\n",
       "      <td>1.25</td>\n",
       "      <td>33.7</td>\n",
       "      <td>32.4</td>\n",
       "      <td>1.4</td>\n",
       "      <td>0.06</td>\n",
       "      <td>D W W L W</td>\n",
       "      <td>25137</td>\n",
       "      <td>Jean-Philippe Mateta - 10</td>\n",
       "      <td>Dean Henderson</td>\n",
       "      <td>NaN</td>\n",
       "    </tr>\n",
       "    <tr>\n",
       "      <th>12</th>\n",
       "      <td>13</td>\n",
       "      <td>Manchester Utd</td>\n",
       "      <td>24</td>\n",
       "      <td>8</td>\n",
       "      <td>5</td>\n",
       "      <td>11</td>\n",
       "      <td>28</td>\n",
       "      <td>34</td>\n",
       "      <td>-6</td>\n",
       "      <td>29</td>\n",
       "      <td>1.21</td>\n",
       "      <td>33.8</td>\n",
       "      <td>36.4</td>\n",
       "      <td>-2.6</td>\n",
       "      <td>-0.11</td>\n",
       "      <td>D W L W L</td>\n",
       "      <td>73720</td>\n",
       "      <td>Amad Diallo - 6</td>\n",
       "      <td>André Onana</td>\n",
       "      <td>NaN</td>\n",
       "    </tr>\n",
       "    <tr>\n",
       "      <th>13</th>\n",
       "      <td>14</td>\n",
       "      <td>Tottenham</td>\n",
       "      <td>24</td>\n",
       "      <td>8</td>\n",
       "      <td>3</td>\n",
       "      <td>13</td>\n",
       "      <td>48</td>\n",
       "      <td>37</td>\n",
       "      <td>11</td>\n",
       "      <td>27</td>\n",
       "      <td>1.13</td>\n",
       "      <td>39.7</td>\n",
       "      <td>40.5</td>\n",
       "      <td>-0.8</td>\n",
       "      <td>-0.03</td>\n",
       "      <td>L L L L W</td>\n",
       "      <td>61335</td>\n",
       "      <td>James Maddison - 8</td>\n",
       "      <td>Guglielmo Vicario</td>\n",
       "      <td>NaN</td>\n",
       "    </tr>\n",
       "    <tr>\n",
       "      <th>14</th>\n",
       "      <td>15</td>\n",
       "      <td>West Ham</td>\n",
       "      <td>24</td>\n",
       "      <td>7</td>\n",
       "      <td>6</td>\n",
       "      <td>11</td>\n",
       "      <td>29</td>\n",
       "      <td>46</td>\n",
       "      <td>-17</td>\n",
       "      <td>27</td>\n",
       "      <td>1.13</td>\n",
       "      <td>31.9</td>\n",
       "      <td>41.5</td>\n",
       "      <td>-9.7</td>\n",
       "      <td>-0.40</td>\n",
       "      <td>L W L D L</td>\n",
       "      <td>62468</td>\n",
       "      <td>Jarrod Bowen - 6</td>\n",
       "      <td>Alphonse Areola</td>\n",
       "      <td>NaN</td>\n",
       "    </tr>\n",
       "    <tr>\n",
       "      <th>15</th>\n",
       "      <td>16</td>\n",
       "      <td>Everton</td>\n",
       "      <td>23</td>\n",
       "      <td>6</td>\n",
       "      <td>8</td>\n",
       "      <td>9</td>\n",
       "      <td>23</td>\n",
       "      <td>28</td>\n",
       "      <td>-5</td>\n",
       "      <td>26</td>\n",
       "      <td>1.13</td>\n",
       "      <td>24.4</td>\n",
       "      <td>30.0</td>\n",
       "      <td>-5.6</td>\n",
       "      <td>-0.24</td>\n",
       "      <td>L L W W W</td>\n",
       "      <td>37940</td>\n",
       "      <td>Iliman Ndiaye - 6</td>\n",
       "      <td>Jordan Pickford</td>\n",
       "      <td>NaN</td>\n",
       "    </tr>\n",
       "    <tr>\n",
       "      <th>16</th>\n",
       "      <td>17</td>\n",
       "      <td>Wolves</td>\n",
       "      <td>24</td>\n",
       "      <td>5</td>\n",
       "      <td>4</td>\n",
       "      <td>15</td>\n",
       "      <td>34</td>\n",
       "      <td>52</td>\n",
       "      <td>-18</td>\n",
       "      <td>19</td>\n",
       "      <td>0.79</td>\n",
       "      <td>25.7</td>\n",
       "      <td>39.4</td>\n",
       "      <td>-13.7</td>\n",
       "      <td>-0.57</td>\n",
       "      <td>L L L L W</td>\n",
       "      <td>30711</td>\n",
       "      <td>Matheus Cunha - 11</td>\n",
       "      <td>José Sá</td>\n",
       "      <td>NaN</td>\n",
       "    </tr>\n",
       "    <tr>\n",
       "      <th>17</th>\n",
       "      <td>18</td>\n",
       "      <td>Leicester City</td>\n",
       "      <td>24</td>\n",
       "      <td>4</td>\n",
       "      <td>5</td>\n",
       "      <td>15</td>\n",
       "      <td>25</td>\n",
       "      <td>53</td>\n",
       "      <td>-28</td>\n",
       "      <td>17</td>\n",
       "      <td>0.71</td>\n",
       "      <td>23.4</td>\n",
       "      <td>46.6</td>\n",
       "      <td>-23.2</td>\n",
       "      <td>-0.97</td>\n",
       "      <td>L L L W L</td>\n",
       "      <td>31556</td>\n",
       "      <td>Jamie Vardy - 7</td>\n",
       "      <td>Mads Hermansen</td>\n",
       "      <td>NaN</td>\n",
       "    </tr>\n",
       "    <tr>\n",
       "      <th>18</th>\n",
       "      <td>19</td>\n",
       "      <td>Ipswich Town</td>\n",
       "      <td>24</td>\n",
       "      <td>3</td>\n",
       "      <td>7</td>\n",
       "      <td>14</td>\n",
       "      <td>22</td>\n",
       "      <td>49</td>\n",
       "      <td>-27</td>\n",
       "      <td>16</td>\n",
       "      <td>0.67</td>\n",
       "      <td>22.3</td>\n",
       "      <td>47.9</td>\n",
       "      <td>-25.6</td>\n",
       "      <td>-1.07</td>\n",
       "      <td>D L L L L</td>\n",
       "      <td>29756</td>\n",
       "      <td>Liam Delap - 9</td>\n",
       "      <td>Arijanet Muric</td>\n",
       "      <td>NaN</td>\n",
       "    </tr>\n",
       "    <tr>\n",
       "      <th>19</th>\n",
       "      <td>20</td>\n",
       "      <td>Southampton</td>\n",
       "      <td>24</td>\n",
       "      <td>2</td>\n",
       "      <td>3</td>\n",
       "      <td>19</td>\n",
       "      <td>18</td>\n",
       "      <td>54</td>\n",
       "      <td>-36</td>\n",
       "      <td>9</td>\n",
       "      <td>0.38</td>\n",
       "      <td>23.7</td>\n",
       "      <td>55.9</td>\n",
       "      <td>-32.2</td>\n",
       "      <td>-1.34</td>\n",
       "      <td>L L L L W</td>\n",
       "      <td>31133</td>\n",
       "      <td>Joe Aribo - 3</td>\n",
       "      <td>Aaron Ramsdale</td>\n",
       "      <td>NaN</td>\n",
       "    </tr>\n",
       "  </tbody>\n",
       "</table>\n",
       "</div>"
      ],
      "text/plain": [
       "    Rk            Squad  MP   W   D   L  GF  GA  GD  Pts  Pts/MP    xG   xGA  \\\n",
       "0    1        Liverpool  23  17   5   1  56  21  35   56    2.43  53.9  20.8   \n",
       "1    2          Arsenal  24  14   8   2  49  22  27   50    2.08  38.6  21.2   \n",
       "2    3  Nott'ham Forest  24  14   5   5  40  27  13   47    1.96  31.7  26.7   \n",
       "3    4          Chelsea  24  12   7   5  47  31  16   43    1.79  48.6  34.2   \n",
       "4    5  Manchester City  24  12   5   7  48  35  13   41    1.71  44.2  34.1   \n",
       "5    6    Newcastle Utd  24  12   5   7  42  29  13   41    1.71  41.3  29.4   \n",
       "6    7      Bournemouth  24  11   7   6  41  28  13   40    1.67  45.6  31.2   \n",
       "7    8      Aston Villa  24  10   7   7  34  37  -3   37    1.54  34.2  29.8   \n",
       "8    9           Fulham  24   9   9   6  36  32   4   36    1.50  33.9  27.6   \n",
       "9   10         Brighton  24   8  10   6  35  38  -3   34    1.42  32.3  36.3   \n",
       "10  11        Brentford  24   9   4  11  42  42   0   31    1.29  38.5  39.4   \n",
       "11  12   Crystal Palace  24   7   9   8  28  30  -2   30    1.25  33.7  32.4   \n",
       "12  13   Manchester Utd  24   8   5  11  28  34  -6   29    1.21  33.8  36.4   \n",
       "13  14        Tottenham  24   8   3  13  48  37  11   27    1.13  39.7  40.5   \n",
       "14  15         West Ham  24   7   6  11  29  46 -17   27    1.13  31.9  41.5   \n",
       "15  16          Everton  23   6   8   9  23  28  -5   26    1.13  24.4  30.0   \n",
       "16  17           Wolves  24   5   4  15  34  52 -18   19    0.79  25.7  39.4   \n",
       "17  18   Leicester City  24   4   5  15  25  53 -28   17    0.71  23.4  46.6   \n",
       "18  19     Ipswich Town  24   3   7  14  22  49 -27   16    0.67  22.3  47.9   \n",
       "19  20      Southampton  24   2   3  19  18  54 -36    9    0.38  23.7  55.9   \n",
       "\n",
       "     xGD  xGD/90     Last 5  Attendance            Top Team Scorer  \\\n",
       "0   33.1    1.44  D D W W W       60289         Mohamed Salah - 21   \n",
       "1   17.4    0.73  D W D W W       60276            Kai Havertz - 9   \n",
       "2    5.0    0.21  W D W L W       30056            Chris Wood - 17   \n",
       "3   14.4    0.60  D D W L W       39608           Cole Palmer - 14   \n",
       "4   10.0    0.42  W D W W L       52944        Erling Haaland - 19   \n",
       "5   11.9    0.49  W W L W L       52186        Alexander Isak - 17   \n",
       "6   14.4    0.60  W D W W L       11213       Justin Kluivert - 11   \n",
       "7    4.4    0.18  W W D D L       41878         Ollie Watkins - 10   \n",
       "8    6.3    0.26  D L W L W       26480           Raúl Jiménez - 9   \n",
       "9   -4.0   -0.17  D W W L L       32398          Danny Welbeck - 6   \n",
       "10  -0.9   -0.04  W D L W L       19349          Bryan Mbeumo - 14   \n",
       "11   1.4    0.06  D W W L W       25137  Jean-Philippe Mateta - 10   \n",
       "12  -2.6   -0.11  D W L W L       73720            Amad Diallo - 6   \n",
       "13  -0.8   -0.03  L L L L W       61335         James Maddison - 8   \n",
       "14  -9.7   -0.40  L W L D L       62468           Jarrod Bowen - 6   \n",
       "15  -5.6   -0.24  L L W W W       37940          Iliman Ndiaye - 6   \n",
       "16 -13.7   -0.57  L L L L W       30711         Matheus Cunha - 11   \n",
       "17 -23.2   -0.97  L L L W L       31556            Jamie Vardy - 7   \n",
       "18 -25.6   -1.07  D L L L L       29756             Liam Delap - 9   \n",
       "19 -32.2   -1.34  L L L L W       31133              Joe Aribo - 3   \n",
       "\n",
       "           Goalkeeper  Notes  \n",
       "0             Alisson    NaN  \n",
       "1          David Raya    NaN  \n",
       "2           Matz Sels    NaN  \n",
       "3      Robert Sánchez    NaN  \n",
       "4             Ederson    NaN  \n",
       "5           Nick Pope    NaN  \n",
       "6   Kepa Arrizabalaga    NaN  \n",
       "7   Emiliano Martínez    NaN  \n",
       "8          Bernd Leno    NaN  \n",
       "9     Bart Verbruggen    NaN  \n",
       "10       Mark Flekken    NaN  \n",
       "11     Dean Henderson    NaN  \n",
       "12        André Onana    NaN  \n",
       "13  Guglielmo Vicario    NaN  \n",
       "14    Alphonse Areola    NaN  \n",
       "15    Jordan Pickford    NaN  \n",
       "16            José Sá    NaN  \n",
       "17     Mads Hermansen    NaN  \n",
       "18     Arijanet Muric    NaN  \n",
       "19     Aaron Ramsdale    NaN  "
      ]
     },
     "execution_count": 22,
     "metadata": {},
     "output_type": "execute_result"
    }
   ],
   "source": [
    "league_table = pd.read_html('https://fbref.com/en/comps/9/Premier-League-Stats')[0]\n",
    "league_table"
   ]
  },
  {
   "cell_type": "code",
   "execution_count": 23,
   "metadata": {},
   "outputs": [
    {
     "data": {
      "text/plain": [
       "['Arsenal',\n",
       " 'Aston Villa',\n",
       " 'Bournemouth',\n",
       " 'Brentford',\n",
       " 'Brighton',\n",
       " 'Chelsea',\n",
       " 'Crystal Palace',\n",
       " 'Everton',\n",
       " 'Fulham',\n",
       " 'Ipswich Town',\n",
       " 'Leicester City',\n",
       " 'Liverpool',\n",
       " 'Manchester City',\n",
       " 'Manchester Utd',\n",
       " 'Newcastle Utd',\n",
       " \"Nott'ham Forest\",\n",
       " 'Southampton',\n",
       " 'Tottenham',\n",
       " 'West Ham',\n",
       " 'Wolves']"
      ]
     },
     "execution_count": 23,
     "metadata": {},
     "output_type": "execute_result"
    }
   ],
   "source": [
    "teams = \"Arsenal,Aston Villa,Bournemouth,Brentford,Brighton,Chelsea,Crystal Palace,Everton,Fulham,Ipswich Town,Leicester City,Liverpool,Manchester City,Manchester Utd,Newcastle Utd,Nott'ham Forest,Southampton,Tottenham,West Ham,Wolves\" \n",
    "teams = teams.split(',')\n",
    "teams"
   ]
  },
  {
   "cell_type": "code",
   "execution_count": 24,
   "metadata": {},
   "outputs": [
    {
     "data": {
      "text/html": [
       "<div>\n",
       "<style scoped>\n",
       "    .dataframe tbody tr th:only-of-type {\n",
       "        vertical-align: middle;\n",
       "    }\n",
       "\n",
       "    .dataframe tbody tr th {\n",
       "        vertical-align: top;\n",
       "    }\n",
       "\n",
       "    .dataframe thead th {\n",
       "        text-align: right;\n",
       "    }\n",
       "</style>\n",
       "<table border=\"1\" class=\"dataframe\">\n",
       "  <thead>\n",
       "    <tr style=\"text-align: right;\">\n",
       "      <th></th>\n",
       "      <th>code</th>\n",
       "      <th>event</th>\n",
       "      <th>finished</th>\n",
       "      <th>finished_provisional</th>\n",
       "      <th>id</th>\n",
       "      <th>kickoff_time</th>\n",
       "      <th>minutes</th>\n",
       "      <th>provisional_start_time</th>\n",
       "      <th>started</th>\n",
       "      <th>team_a</th>\n",
       "      <th>team_a_score</th>\n",
       "      <th>team_h</th>\n",
       "      <th>team_h_score</th>\n",
       "      <th>stats</th>\n",
       "      <th>team_h_difficulty</th>\n",
       "      <th>team_a_difficulty</th>\n",
       "      <th>pulse_id</th>\n",
       "      <th>home_team</th>\n",
       "      <th>away_team</th>\n",
       "    </tr>\n",
       "  </thead>\n",
       "  <tbody>\n",
       "    <tr>\n",
       "      <th>0</th>\n",
       "      <td>2444758</td>\n",
       "      <td>NaN</td>\n",
       "      <td>False</td>\n",
       "      <td>False</td>\n",
       "      <td>289</td>\n",
       "      <td>None</td>\n",
       "      <td>0</td>\n",
       "      <td>True</td>\n",
       "      <td>None</td>\n",
       "      <td>7</td>\n",
       "      <td>NaN</td>\n",
       "      <td>15</td>\n",
       "      <td>NaN</td>\n",
       "      <td>[]</td>\n",
       "      <td>3</td>\n",
       "      <td>4</td>\n",
       "      <td>116115</td>\n",
       "      <td>Newcastle Utd</td>\n",
       "      <td>Crystal Palace</td>\n",
       "    </tr>\n",
       "    <tr>\n",
       "      <th>1</th>\n",
       "      <td>2444470</td>\n",
       "      <td>1.0</td>\n",
       "      <td>True</td>\n",
       "      <td>True</td>\n",
       "      <td>1</td>\n",
       "      <td>2024-08-16T19:00:00Z</td>\n",
       "      <td>90</td>\n",
       "      <td>False</td>\n",
       "      <td>True</td>\n",
       "      <td>9</td>\n",
       "      <td>0.0</td>\n",
       "      <td>14</td>\n",
       "      <td>1.0</td>\n",
       "      <td>[{'identifier': 'goals_scored', 'a': [], 'h': ...</td>\n",
       "      <td>3</td>\n",
       "      <td>3</td>\n",
       "      <td>115827</td>\n",
       "      <td>Manchester Utd</td>\n",
       "      <td>Fulham</td>\n",
       "    </tr>\n",
       "    <tr>\n",
       "      <th>2</th>\n",
       "      <td>2444473</td>\n",
       "      <td>1.0</td>\n",
       "      <td>True</td>\n",
       "      <td>True</td>\n",
       "      <td>4</td>\n",
       "      <td>2024-08-17T11:30:00Z</td>\n",
       "      <td>90</td>\n",
       "      <td>False</td>\n",
       "      <td>True</td>\n",
       "      <td>12</td>\n",
       "      <td>2.0</td>\n",
       "      <td>10</td>\n",
       "      <td>0.0</td>\n",
       "      <td>[{'identifier': 'goals_scored', 'a': [{'value'...</td>\n",
       "      <td>5</td>\n",
       "      <td>2</td>\n",
       "      <td>115830</td>\n",
       "      <td>Ipswich Town</td>\n",
       "      <td>Liverpool</td>\n",
       "    </tr>\n",
       "    <tr>\n",
       "      <th>3</th>\n",
       "      <td>2444471</td>\n",
       "      <td>1.0</td>\n",
       "      <td>True</td>\n",
       "      <td>True</td>\n",
       "      <td>2</td>\n",
       "      <td>2024-08-17T14:00:00Z</td>\n",
       "      <td>90</td>\n",
       "      <td>False</td>\n",
       "      <td>True</td>\n",
       "      <td>20</td>\n",
       "      <td>0.0</td>\n",
       "      <td>1</td>\n",
       "      <td>2.0</td>\n",
       "      <td>[{'identifier': 'goals_scored', 'a': [], 'h': ...</td>\n",
       "      <td>2</td>\n",
       "      <td>4</td>\n",
       "      <td>115828</td>\n",
       "      <td>Arsenal</td>\n",
       "      <td>Wolves</td>\n",
       "    </tr>\n",
       "    <tr>\n",
       "      <th>4</th>\n",
       "      <td>2444472</td>\n",
       "      <td>1.0</td>\n",
       "      <td>True</td>\n",
       "      <td>True</td>\n",
       "      <td>3</td>\n",
       "      <td>2024-08-17T14:00:00Z</td>\n",
       "      <td>90</td>\n",
       "      <td>False</td>\n",
       "      <td>True</td>\n",
       "      <td>5</td>\n",
       "      <td>3.0</td>\n",
       "      <td>8</td>\n",
       "      <td>0.0</td>\n",
       "      <td>[{'identifier': 'goals_scored', 'a': [{'value'...</td>\n",
       "      <td>3</td>\n",
       "      <td>3</td>\n",
       "      <td>115829</td>\n",
       "      <td>Everton</td>\n",
       "      <td>Brighton</td>\n",
       "    </tr>\n",
       "    <tr>\n",
       "      <th>...</th>\n",
       "      <td>...</td>\n",
       "      <td>...</td>\n",
       "      <td>...</td>\n",
       "      <td>...</td>\n",
       "      <td>...</td>\n",
       "      <td>...</td>\n",
       "      <td>...</td>\n",
       "      <td>...</td>\n",
       "      <td>...</td>\n",
       "      <td>...</td>\n",
       "      <td>...</td>\n",
       "      <td>...</td>\n",
       "      <td>...</td>\n",
       "      <td>...</td>\n",
       "      <td>...</td>\n",
       "      <td>...</td>\n",
       "      <td>...</td>\n",
       "      <td>...</td>\n",
       "      <td>...</td>\n",
       "    </tr>\n",
       "    <tr>\n",
       "      <th>375</th>\n",
       "      <td>2444845</td>\n",
       "      <td>38.0</td>\n",
       "      <td>False</td>\n",
       "      <td>False</td>\n",
       "      <td>376</td>\n",
       "      <td>2025-05-25T15:00:00Z</td>\n",
       "      <td>0</td>\n",
       "      <td>False</td>\n",
       "      <td>False</td>\n",
       "      <td>8</td>\n",
       "      <td>NaN</td>\n",
       "      <td>15</td>\n",
       "      <td>NaN</td>\n",
       "      <td>[]</td>\n",
       "      <td>2</td>\n",
       "      <td>4</td>\n",
       "      <td>116202</td>\n",
       "      <td>Newcastle Utd</td>\n",
       "      <td>Everton</td>\n",
       "    </tr>\n",
       "    <tr>\n",
       "      <th>376</th>\n",
       "      <td>2444846</td>\n",
       "      <td>38.0</td>\n",
       "      <td>False</td>\n",
       "      <td>False</td>\n",
       "      <td>377</td>\n",
       "      <td>2025-05-25T15:00:00Z</td>\n",
       "      <td>0</td>\n",
       "      <td>False</td>\n",
       "      <td>False</td>\n",
       "      <td>6</td>\n",
       "      <td>NaN</td>\n",
       "      <td>16</td>\n",
       "      <td>NaN</td>\n",
       "      <td>[]</td>\n",
       "      <td>4</td>\n",
       "      <td>4</td>\n",
       "      <td>116203</td>\n",
       "      <td>Nott'ham Forest</td>\n",
       "      <td>Chelsea</td>\n",
       "    </tr>\n",
       "    <tr>\n",
       "      <th>377</th>\n",
       "      <td>2444847</td>\n",
       "      <td>38.0</td>\n",
       "      <td>False</td>\n",
       "      <td>False</td>\n",
       "      <td>378</td>\n",
       "      <td>2025-05-25T15:00:00Z</td>\n",
       "      <td>0</td>\n",
       "      <td>False</td>\n",
       "      <td>False</td>\n",
       "      <td>1</td>\n",
       "      <td>NaN</td>\n",
       "      <td>17</td>\n",
       "      <td>NaN</td>\n",
       "      <td>[]</td>\n",
       "      <td>4</td>\n",
       "      <td>2</td>\n",
       "      <td>116204</td>\n",
       "      <td>Southampton</td>\n",
       "      <td>Arsenal</td>\n",
       "    </tr>\n",
       "    <tr>\n",
       "      <th>378</th>\n",
       "      <td>2444848</td>\n",
       "      <td>38.0</td>\n",
       "      <td>False</td>\n",
       "      <td>False</td>\n",
       "      <td>379</td>\n",
       "      <td>2025-05-25T15:00:00Z</td>\n",
       "      <td>0</td>\n",
       "      <td>False</td>\n",
       "      <td>False</td>\n",
       "      <td>5</td>\n",
       "      <td>NaN</td>\n",
       "      <td>18</td>\n",
       "      <td>NaN</td>\n",
       "      <td>[]</td>\n",
       "      <td>3</td>\n",
       "      <td>3</td>\n",
       "      <td>116205</td>\n",
       "      <td>Tottenham</td>\n",
       "      <td>Brighton</td>\n",
       "    </tr>\n",
       "    <tr>\n",
       "      <th>379</th>\n",
       "      <td>2444849</td>\n",
       "      <td>38.0</td>\n",
       "      <td>False</td>\n",
       "      <td>False</td>\n",
       "      <td>380</td>\n",
       "      <td>2025-05-25T15:00:00Z</td>\n",
       "      <td>0</td>\n",
       "      <td>False</td>\n",
       "      <td>False</td>\n",
       "      <td>4</td>\n",
       "      <td>NaN</td>\n",
       "      <td>20</td>\n",
       "      <td>NaN</td>\n",
       "      <td>[]</td>\n",
       "      <td>2</td>\n",
       "      <td>2</td>\n",
       "      <td>116206</td>\n",
       "      <td>Wolves</td>\n",
       "      <td>Brentford</td>\n",
       "    </tr>\n",
       "  </tbody>\n",
       "</table>\n",
       "<p>380 rows × 19 columns</p>\n",
       "</div>"
      ],
      "text/plain": [
       "        code  event  finished  finished_provisional   id  \\\n",
       "0    2444758    NaN     False                 False  289   \n",
       "1    2444470    1.0      True                  True    1   \n",
       "2    2444473    1.0      True                  True    4   \n",
       "3    2444471    1.0      True                  True    2   \n",
       "4    2444472    1.0      True                  True    3   \n",
       "..       ...    ...       ...                   ...  ...   \n",
       "375  2444845   38.0     False                 False  376   \n",
       "376  2444846   38.0     False                 False  377   \n",
       "377  2444847   38.0     False                 False  378   \n",
       "378  2444848   38.0     False                 False  379   \n",
       "379  2444849   38.0     False                 False  380   \n",
       "\n",
       "             kickoff_time  minutes  provisional_start_time started  team_a  \\\n",
       "0                    None        0                    True    None       7   \n",
       "1    2024-08-16T19:00:00Z       90                   False    True       9   \n",
       "2    2024-08-17T11:30:00Z       90                   False    True      12   \n",
       "3    2024-08-17T14:00:00Z       90                   False    True      20   \n",
       "4    2024-08-17T14:00:00Z       90                   False    True       5   \n",
       "..                    ...      ...                     ...     ...     ...   \n",
       "375  2025-05-25T15:00:00Z        0                   False   False       8   \n",
       "376  2025-05-25T15:00:00Z        0                   False   False       6   \n",
       "377  2025-05-25T15:00:00Z        0                   False   False       1   \n",
       "378  2025-05-25T15:00:00Z        0                   False   False       5   \n",
       "379  2025-05-25T15:00:00Z        0                   False   False       4   \n",
       "\n",
       "     team_a_score  team_h  team_h_score  \\\n",
       "0             NaN      15           NaN   \n",
       "1             0.0      14           1.0   \n",
       "2             2.0      10           0.0   \n",
       "3             0.0       1           2.0   \n",
       "4             3.0       8           0.0   \n",
       "..            ...     ...           ...   \n",
       "375           NaN      15           NaN   \n",
       "376           NaN      16           NaN   \n",
       "377           NaN      17           NaN   \n",
       "378           NaN      18           NaN   \n",
       "379           NaN      20           NaN   \n",
       "\n",
       "                                                 stats  team_h_difficulty  \\\n",
       "0                                                   []                  3   \n",
       "1    [{'identifier': 'goals_scored', 'a': [], 'h': ...                  3   \n",
       "2    [{'identifier': 'goals_scored', 'a': [{'value'...                  5   \n",
       "3    [{'identifier': 'goals_scored', 'a': [], 'h': ...                  2   \n",
       "4    [{'identifier': 'goals_scored', 'a': [{'value'...                  3   \n",
       "..                                                 ...                ...   \n",
       "375                                                 []                  2   \n",
       "376                                                 []                  4   \n",
       "377                                                 []                  4   \n",
       "378                                                 []                  3   \n",
       "379                                                 []                  2   \n",
       "\n",
       "     team_a_difficulty  pulse_id        home_team       away_team  \n",
       "0                    4    116115    Newcastle Utd  Crystal Palace  \n",
       "1                    3    115827   Manchester Utd          Fulham  \n",
       "2                    2    115830     Ipswich Town       Liverpool  \n",
       "3                    4    115828          Arsenal          Wolves  \n",
       "4                    3    115829          Everton        Brighton  \n",
       "..                 ...       ...              ...             ...  \n",
       "375                  4    116202    Newcastle Utd         Everton  \n",
       "376                  4    116203  Nott'ham Forest         Chelsea  \n",
       "377                  2    116204      Southampton         Arsenal  \n",
       "378                  3    116205        Tottenham        Brighton  \n",
       "379                  2    116206           Wolves       Brentford  \n",
       "\n",
       "[380 rows x 19 columns]"
      ]
     },
     "execution_count": 24,
     "metadata": {},
     "output_type": "execute_result"
    }
   ],
   "source": [
    "fpl_fixtures_data = json.loads(requests.get('https://fantasy.premierleague.com/api/fixtures/').text)\n",
    "fpl_fixtures = pd.DataFrame(fpl_fixtures_data)\n",
    "fpl_fixtures['home_team'] = [teams[i] for i in fpl_fixtures['team_h']-1]\n",
    "fpl_fixtures['away_team'] = [teams[i] for i in fpl_fixtures['team_a']-1]\n",
    "fpl_fixtures"
   ]
  },
  {
   "cell_type": "code",
   "execution_count": 25,
   "metadata": {},
   "outputs": [
    {
     "data": {
      "text/html": [
       "<div>\n",
       "<style scoped>\n",
       "    .dataframe tbody tr th:only-of-type {\n",
       "        vertical-align: middle;\n",
       "    }\n",
       "\n",
       "    .dataframe tbody tr th {\n",
       "        vertical-align: top;\n",
       "    }\n",
       "\n",
       "    .dataframe thead th {\n",
       "        text-align: right;\n",
       "    }\n",
       "</style>\n",
       "<table border=\"1\" class=\"dataframe\">\n",
       "  <thead>\n",
       "    <tr style=\"text-align: right;\">\n",
       "      <th></th>\n",
       "      <th>code</th>\n",
       "      <th>event</th>\n",
       "      <th>finished</th>\n",
       "      <th>finished_provisional</th>\n",
       "      <th>id</th>\n",
       "      <th>kickoff_time</th>\n",
       "      <th>minutes</th>\n",
       "      <th>provisional_start_time</th>\n",
       "      <th>started</th>\n",
       "      <th>team_a</th>\n",
       "      <th>team_a_score</th>\n",
       "      <th>team_h</th>\n",
       "      <th>team_h_score</th>\n",
       "      <th>stats</th>\n",
       "      <th>team_h_difficulty</th>\n",
       "      <th>team_a_difficulty</th>\n",
       "      <th>pulse_id</th>\n",
       "      <th>home_team</th>\n",
       "      <th>away_team</th>\n",
       "    </tr>\n",
       "  </thead>\n",
       "  <tbody>\n",
       "    <tr>\n",
       "      <th>0</th>\n",
       "      <td>2444758</td>\n",
       "      <td>NaN</td>\n",
       "      <td>False</td>\n",
       "      <td>False</td>\n",
       "      <td>289</td>\n",
       "      <td>None</td>\n",
       "      <td>0</td>\n",
       "      <td>True</td>\n",
       "      <td>None</td>\n",
       "      <td>7</td>\n",
       "      <td>NaN</td>\n",
       "      <td>15</td>\n",
       "      <td>NaN</td>\n",
       "      <td>[]</td>\n",
       "      <td>3</td>\n",
       "      <td>4</td>\n",
       "      <td>116115</td>\n",
       "      <td>Newcastle Utd</td>\n",
       "      <td>Crystal Palace</td>\n",
       "    </tr>\n",
       "    <tr>\n",
       "      <th>1</th>\n",
       "      <td>2444613</td>\n",
       "      <td>24.0</td>\n",
       "      <td>False</td>\n",
       "      <td>False</td>\n",
       "      <td>144</td>\n",
       "      <td>2025-02-12T19:30:00Z</td>\n",
       "      <td>0</td>\n",
       "      <td>False</td>\n",
       "      <td>False</td>\n",
       "      <td>12</td>\n",
       "      <td>NaN</td>\n",
       "      <td>8</td>\n",
       "      <td>NaN</td>\n",
       "      <td>[]</td>\n",
       "      <td>5</td>\n",
       "      <td>3</td>\n",
       "      <td>115970</td>\n",
       "      <td>Everton</td>\n",
       "      <td>Liverpool</td>\n",
       "    </tr>\n",
       "    <tr>\n",
       "      <th>2</th>\n",
       "      <td>2444711</td>\n",
       "      <td>25.0</td>\n",
       "      <td>False</td>\n",
       "      <td>False</td>\n",
       "      <td>242</td>\n",
       "      <td>2025-02-14T20:00:00Z</td>\n",
       "      <td>0</td>\n",
       "      <td>False</td>\n",
       "      <td>False</td>\n",
       "      <td>6</td>\n",
       "      <td>NaN</td>\n",
       "      <td>5</td>\n",
       "      <td>NaN</td>\n",
       "      <td>[]</td>\n",
       "      <td>4</td>\n",
       "      <td>3</td>\n",
       "      <td>116068</td>\n",
       "      <td>Brighton</td>\n",
       "      <td>Chelsea</td>\n",
       "    </tr>\n",
       "    <tr>\n",
       "      <th>3</th>\n",
       "      <td>2444714</td>\n",
       "      <td>25.0</td>\n",
       "      <td>False</td>\n",
       "      <td>False</td>\n",
       "      <td>245</td>\n",
       "      <td>2025-02-15T12:30:00Z</td>\n",
       "      <td>0</td>\n",
       "      <td>False</td>\n",
       "      <td>False</td>\n",
       "      <td>1</td>\n",
       "      <td>NaN</td>\n",
       "      <td>11</td>\n",
       "      <td>NaN</td>\n",
       "      <td>[]</td>\n",
       "      <td>4</td>\n",
       "      <td>2</td>\n",
       "      <td>116071</td>\n",
       "      <td>Leicester City</td>\n",
       "      <td>Arsenal</td>\n",
       "    </tr>\n",
       "    <tr>\n",
       "      <th>4</th>\n",
       "      <td>2444710</td>\n",
       "      <td>25.0</td>\n",
       "      <td>False</td>\n",
       "      <td>False</td>\n",
       "      <td>241</td>\n",
       "      <td>2025-02-15T15:00:00Z</td>\n",
       "      <td>0</td>\n",
       "      <td>False</td>\n",
       "      <td>False</td>\n",
       "      <td>10</td>\n",
       "      <td>NaN</td>\n",
       "      <td>2</td>\n",
       "      <td>NaN</td>\n",
       "      <td>[]</td>\n",
       "      <td>2</td>\n",
       "      <td>3</td>\n",
       "      <td>116067</td>\n",
       "      <td>Aston Villa</td>\n",
       "      <td>Ipswich Town</td>\n",
       "    </tr>\n",
       "    <tr>\n",
       "      <th>...</th>\n",
       "      <td>...</td>\n",
       "      <td>...</td>\n",
       "      <td>...</td>\n",
       "      <td>...</td>\n",
       "      <td>...</td>\n",
       "      <td>...</td>\n",
       "      <td>...</td>\n",
       "      <td>...</td>\n",
       "      <td>...</td>\n",
       "      <td>...</td>\n",
       "      <td>...</td>\n",
       "      <td>...</td>\n",
       "      <td>...</td>\n",
       "      <td>...</td>\n",
       "      <td>...</td>\n",
       "      <td>...</td>\n",
       "      <td>...</td>\n",
       "      <td>...</td>\n",
       "      <td>...</td>\n",
       "    </tr>\n",
       "    <tr>\n",
       "      <th>136</th>\n",
       "      <td>2444845</td>\n",
       "      <td>38.0</td>\n",
       "      <td>False</td>\n",
       "      <td>False</td>\n",
       "      <td>376</td>\n",
       "      <td>2025-05-25T15:00:00Z</td>\n",
       "      <td>0</td>\n",
       "      <td>False</td>\n",
       "      <td>False</td>\n",
       "      <td>8</td>\n",
       "      <td>NaN</td>\n",
       "      <td>15</td>\n",
       "      <td>NaN</td>\n",
       "      <td>[]</td>\n",
       "      <td>2</td>\n",
       "      <td>4</td>\n",
       "      <td>116202</td>\n",
       "      <td>Newcastle Utd</td>\n",
       "      <td>Everton</td>\n",
       "    </tr>\n",
       "    <tr>\n",
       "      <th>137</th>\n",
       "      <td>2444846</td>\n",
       "      <td>38.0</td>\n",
       "      <td>False</td>\n",
       "      <td>False</td>\n",
       "      <td>377</td>\n",
       "      <td>2025-05-25T15:00:00Z</td>\n",
       "      <td>0</td>\n",
       "      <td>False</td>\n",
       "      <td>False</td>\n",
       "      <td>6</td>\n",
       "      <td>NaN</td>\n",
       "      <td>16</td>\n",
       "      <td>NaN</td>\n",
       "      <td>[]</td>\n",
       "      <td>4</td>\n",
       "      <td>4</td>\n",
       "      <td>116203</td>\n",
       "      <td>Nott'ham Forest</td>\n",
       "      <td>Chelsea</td>\n",
       "    </tr>\n",
       "    <tr>\n",
       "      <th>138</th>\n",
       "      <td>2444847</td>\n",
       "      <td>38.0</td>\n",
       "      <td>False</td>\n",
       "      <td>False</td>\n",
       "      <td>378</td>\n",
       "      <td>2025-05-25T15:00:00Z</td>\n",
       "      <td>0</td>\n",
       "      <td>False</td>\n",
       "      <td>False</td>\n",
       "      <td>1</td>\n",
       "      <td>NaN</td>\n",
       "      <td>17</td>\n",
       "      <td>NaN</td>\n",
       "      <td>[]</td>\n",
       "      <td>4</td>\n",
       "      <td>2</td>\n",
       "      <td>116204</td>\n",
       "      <td>Southampton</td>\n",
       "      <td>Arsenal</td>\n",
       "    </tr>\n",
       "    <tr>\n",
       "      <th>139</th>\n",
       "      <td>2444848</td>\n",
       "      <td>38.0</td>\n",
       "      <td>False</td>\n",
       "      <td>False</td>\n",
       "      <td>379</td>\n",
       "      <td>2025-05-25T15:00:00Z</td>\n",
       "      <td>0</td>\n",
       "      <td>False</td>\n",
       "      <td>False</td>\n",
       "      <td>5</td>\n",
       "      <td>NaN</td>\n",
       "      <td>18</td>\n",
       "      <td>NaN</td>\n",
       "      <td>[]</td>\n",
       "      <td>3</td>\n",
       "      <td>3</td>\n",
       "      <td>116205</td>\n",
       "      <td>Tottenham</td>\n",
       "      <td>Brighton</td>\n",
       "    </tr>\n",
       "    <tr>\n",
       "      <th>140</th>\n",
       "      <td>2444849</td>\n",
       "      <td>38.0</td>\n",
       "      <td>False</td>\n",
       "      <td>False</td>\n",
       "      <td>380</td>\n",
       "      <td>2025-05-25T15:00:00Z</td>\n",
       "      <td>0</td>\n",
       "      <td>False</td>\n",
       "      <td>False</td>\n",
       "      <td>4</td>\n",
       "      <td>NaN</td>\n",
       "      <td>20</td>\n",
       "      <td>NaN</td>\n",
       "      <td>[]</td>\n",
       "      <td>2</td>\n",
       "      <td>2</td>\n",
       "      <td>116206</td>\n",
       "      <td>Wolves</td>\n",
       "      <td>Brentford</td>\n",
       "    </tr>\n",
       "  </tbody>\n",
       "</table>\n",
       "<p>141 rows × 19 columns</p>\n",
       "</div>"
      ],
      "text/plain": [
       "        code  event  finished  finished_provisional   id  \\\n",
       "0    2444758    NaN     False                 False  289   \n",
       "1    2444613   24.0     False                 False  144   \n",
       "2    2444711   25.0     False                 False  242   \n",
       "3    2444714   25.0     False                 False  245   \n",
       "4    2444710   25.0     False                 False  241   \n",
       "..       ...    ...       ...                   ...  ...   \n",
       "136  2444845   38.0     False                 False  376   \n",
       "137  2444846   38.0     False                 False  377   \n",
       "138  2444847   38.0     False                 False  378   \n",
       "139  2444848   38.0     False                 False  379   \n",
       "140  2444849   38.0     False                 False  380   \n",
       "\n",
       "             kickoff_time  minutes  provisional_start_time started  team_a  \\\n",
       "0                    None        0                    True    None       7   \n",
       "1    2025-02-12T19:30:00Z        0                   False   False      12   \n",
       "2    2025-02-14T20:00:00Z        0                   False   False       6   \n",
       "3    2025-02-15T12:30:00Z        0                   False   False       1   \n",
       "4    2025-02-15T15:00:00Z        0                   False   False      10   \n",
       "..                    ...      ...                     ...     ...     ...   \n",
       "136  2025-05-25T15:00:00Z        0                   False   False       8   \n",
       "137  2025-05-25T15:00:00Z        0                   False   False       6   \n",
       "138  2025-05-25T15:00:00Z        0                   False   False       1   \n",
       "139  2025-05-25T15:00:00Z        0                   False   False       5   \n",
       "140  2025-05-25T15:00:00Z        0                   False   False       4   \n",
       "\n",
       "     team_a_score  team_h  team_h_score stats  team_h_difficulty  \\\n",
       "0             NaN      15           NaN    []                  3   \n",
       "1             NaN       8           NaN    []                  5   \n",
       "2             NaN       5           NaN    []                  4   \n",
       "3             NaN      11           NaN    []                  4   \n",
       "4             NaN       2           NaN    []                  2   \n",
       "..            ...     ...           ...   ...                ...   \n",
       "136           NaN      15           NaN    []                  2   \n",
       "137           NaN      16           NaN    []                  4   \n",
       "138           NaN      17           NaN    []                  4   \n",
       "139           NaN      18           NaN    []                  3   \n",
       "140           NaN      20           NaN    []                  2   \n",
       "\n",
       "     team_a_difficulty  pulse_id        home_team       away_team  \n",
       "0                    4    116115    Newcastle Utd  Crystal Palace  \n",
       "1                    3    115970          Everton       Liverpool  \n",
       "2                    3    116068         Brighton         Chelsea  \n",
       "3                    2    116071   Leicester City         Arsenal  \n",
       "4                    3    116067      Aston Villa    Ipswich Town  \n",
       "..                 ...       ...              ...             ...  \n",
       "136                  4    116202    Newcastle Utd         Everton  \n",
       "137                  4    116203  Nott'ham Forest         Chelsea  \n",
       "138                  2    116204      Southampton         Arsenal  \n",
       "139                  3    116205        Tottenham        Brighton  \n",
       "140                  2    116206           Wolves       Brentford  \n",
       "\n",
       "[141 rows x 19 columns]"
      ]
     },
     "execution_count": 25,
     "metadata": {},
     "output_type": "execute_result"
    }
   ],
   "source": [
    "fixtures = fpl_fixtures[fpl_fixtures['team_h_score'].isnull()].reset_index(drop=True)\n",
    "fixtures"
   ]
  },
  {
   "cell_type": "code",
   "execution_count": 26,
   "metadata": {},
   "outputs": [
    {
     "data": {
      "text/html": [
       "<div>\n",
       "<style scoped>\n",
       "    .dataframe tbody tr th:only-of-type {\n",
       "        vertical-align: middle;\n",
       "    }\n",
       "\n",
       "    .dataframe tbody tr th {\n",
       "        vertical-align: top;\n",
       "    }\n",
       "\n",
       "    .dataframe thead th {\n",
       "        text-align: right;\n",
       "    }\n",
       "</style>\n",
       "<table border=\"1\" class=\"dataframe\">\n",
       "  <thead>\n",
       "    <tr style=\"text-align: right;\">\n",
       "      <th></th>\n",
       "      <th>code</th>\n",
       "      <th>event</th>\n",
       "      <th>finished</th>\n",
       "      <th>finished_provisional</th>\n",
       "      <th>id</th>\n",
       "      <th>kickoff_time</th>\n",
       "      <th>minutes</th>\n",
       "      <th>provisional_start_time</th>\n",
       "      <th>started</th>\n",
       "      <th>team_a</th>\n",
       "      <th>...</th>\n",
       "      <th>team_h_score</th>\n",
       "      <th>stats</th>\n",
       "      <th>team_h_difficulty</th>\n",
       "      <th>team_a_difficulty</th>\n",
       "      <th>pulse_id</th>\n",
       "      <th>home_team</th>\n",
       "      <th>away_team</th>\n",
       "      <th>home_win_probability</th>\n",
       "      <th>draw_probability</th>\n",
       "      <th>away_win_probability</th>\n",
       "    </tr>\n",
       "  </thead>\n",
       "  <tbody>\n",
       "    <tr>\n",
       "      <th>0</th>\n",
       "      <td>2444758</td>\n",
       "      <td>NaN</td>\n",
       "      <td>False</td>\n",
       "      <td>False</td>\n",
       "      <td>289</td>\n",
       "      <td>None</td>\n",
       "      <td>0</td>\n",
       "      <td>True</td>\n",
       "      <td>None</td>\n",
       "      <td>7</td>\n",
       "      <td>...</td>\n",
       "      <td>NaN</td>\n",
       "      <td>[]</td>\n",
       "      <td>3</td>\n",
       "      <td>4</td>\n",
       "      <td>116115</td>\n",
       "      <td>Newcastle Utd</td>\n",
       "      <td>Crystal Palace</td>\n",
       "      <td>0.433745</td>\n",
       "      <td>0.248286</td>\n",
       "      <td>0.317968</td>\n",
       "    </tr>\n",
       "    <tr>\n",
       "      <th>1</th>\n",
       "      <td>2444613</td>\n",
       "      <td>24.0</td>\n",
       "      <td>False</td>\n",
       "      <td>False</td>\n",
       "      <td>144</td>\n",
       "      <td>2025-02-12T19:30:00Z</td>\n",
       "      <td>0</td>\n",
       "      <td>False</td>\n",
       "      <td>False</td>\n",
       "      <td>12</td>\n",
       "      <td>...</td>\n",
       "      <td>NaN</td>\n",
       "      <td>[]</td>\n",
       "      <td>5</td>\n",
       "      <td>3</td>\n",
       "      <td>115970</td>\n",
       "      <td>Everton</td>\n",
       "      <td>Liverpool</td>\n",
       "      <td>0.147445</td>\n",
       "      <td>0.230042</td>\n",
       "      <td>0.622511</td>\n",
       "    </tr>\n",
       "    <tr>\n",
       "      <th>2</th>\n",
       "      <td>2444711</td>\n",
       "      <td>25.0</td>\n",
       "      <td>False</td>\n",
       "      <td>False</td>\n",
       "      <td>242</td>\n",
       "      <td>2025-02-14T20:00:00Z</td>\n",
       "      <td>0</td>\n",
       "      <td>False</td>\n",
       "      <td>False</td>\n",
       "      <td>6</td>\n",
       "      <td>...</td>\n",
       "      <td>NaN</td>\n",
       "      <td>[]</td>\n",
       "      <td>4</td>\n",
       "      <td>3</td>\n",
       "      <td>116068</td>\n",
       "      <td>Brighton</td>\n",
       "      <td>Chelsea</td>\n",
       "      <td>0.221770</td>\n",
       "      <td>0.209550</td>\n",
       "      <td>0.568668</td>\n",
       "    </tr>\n",
       "    <tr>\n",
       "      <th>3</th>\n",
       "      <td>2444714</td>\n",
       "      <td>25.0</td>\n",
       "      <td>False</td>\n",
       "      <td>False</td>\n",
       "      <td>245</td>\n",
       "      <td>2025-02-15T12:30:00Z</td>\n",
       "      <td>0</td>\n",
       "      <td>False</td>\n",
       "      <td>False</td>\n",
       "      <td>1</td>\n",
       "      <td>...</td>\n",
       "      <td>NaN</td>\n",
       "      <td>[]</td>\n",
       "      <td>4</td>\n",
       "      <td>2</td>\n",
       "      <td>116071</td>\n",
       "      <td>Leicester City</td>\n",
       "      <td>Arsenal</td>\n",
       "      <td>0.044504</td>\n",
       "      <td>0.103987</td>\n",
       "      <td>0.851254</td>\n",
       "    </tr>\n",
       "    <tr>\n",
       "      <th>4</th>\n",
       "      <td>2444710</td>\n",
       "      <td>25.0</td>\n",
       "      <td>False</td>\n",
       "      <td>False</td>\n",
       "      <td>241</td>\n",
       "      <td>2025-02-15T15:00:00Z</td>\n",
       "      <td>0</td>\n",
       "      <td>False</td>\n",
       "      <td>False</td>\n",
       "      <td>10</td>\n",
       "      <td>...</td>\n",
       "      <td>NaN</td>\n",
       "      <td>[]</td>\n",
       "      <td>2</td>\n",
       "      <td>3</td>\n",
       "      <td>116067</td>\n",
       "      <td>Aston Villa</td>\n",
       "      <td>Ipswich Town</td>\n",
       "      <td>0.642780</td>\n",
       "      <td>0.196288</td>\n",
       "      <td>0.160915</td>\n",
       "    </tr>\n",
       "    <tr>\n",
       "      <th>...</th>\n",
       "      <td>...</td>\n",
       "      <td>...</td>\n",
       "      <td>...</td>\n",
       "      <td>...</td>\n",
       "      <td>...</td>\n",
       "      <td>...</td>\n",
       "      <td>...</td>\n",
       "      <td>...</td>\n",
       "      <td>...</td>\n",
       "      <td>...</td>\n",
       "      <td>...</td>\n",
       "      <td>...</td>\n",
       "      <td>...</td>\n",
       "      <td>...</td>\n",
       "      <td>...</td>\n",
       "      <td>...</td>\n",
       "      <td>...</td>\n",
       "      <td>...</td>\n",
       "      <td>...</td>\n",
       "      <td>...</td>\n",
       "      <td>...</td>\n",
       "    </tr>\n",
       "    <tr>\n",
       "      <th>136</th>\n",
       "      <td>2444845</td>\n",
       "      <td>38.0</td>\n",
       "      <td>False</td>\n",
       "      <td>False</td>\n",
       "      <td>376</td>\n",
       "      <td>2025-05-25T15:00:00Z</td>\n",
       "      <td>0</td>\n",
       "      <td>False</td>\n",
       "      <td>False</td>\n",
       "      <td>8</td>\n",
       "      <td>...</td>\n",
       "      <td>NaN</td>\n",
       "      <td>[]</td>\n",
       "      <td>2</td>\n",
       "      <td>4</td>\n",
       "      <td>116202</td>\n",
       "      <td>Newcastle Utd</td>\n",
       "      <td>Everton</td>\n",
       "      <td>0.569025</td>\n",
       "      <td>0.243030</td>\n",
       "      <td>0.187943</td>\n",
       "    </tr>\n",
       "    <tr>\n",
       "      <th>137</th>\n",
       "      <td>2444846</td>\n",
       "      <td>38.0</td>\n",
       "      <td>False</td>\n",
       "      <td>False</td>\n",
       "      <td>377</td>\n",
       "      <td>2025-05-25T15:00:00Z</td>\n",
       "      <td>0</td>\n",
       "      <td>False</td>\n",
       "      <td>False</td>\n",
       "      <td>6</td>\n",
       "      <td>...</td>\n",
       "      <td>NaN</td>\n",
       "      <td>[]</td>\n",
       "      <td>4</td>\n",
       "      <td>4</td>\n",
       "      <td>116203</td>\n",
       "      <td>Nott'ham Forest</td>\n",
       "      <td>Chelsea</td>\n",
       "      <td>0.311865</td>\n",
       "      <td>0.229375</td>\n",
       "      <td>0.458756</td>\n",
       "    </tr>\n",
       "    <tr>\n",
       "      <th>138</th>\n",
       "      <td>2444847</td>\n",
       "      <td>38.0</td>\n",
       "      <td>False</td>\n",
       "      <td>False</td>\n",
       "      <td>378</td>\n",
       "      <td>2025-05-25T15:00:00Z</td>\n",
       "      <td>0</td>\n",
       "      <td>False</td>\n",
       "      <td>False</td>\n",
       "      <td>1</td>\n",
       "      <td>...</td>\n",
       "      <td>NaN</td>\n",
       "      <td>[]</td>\n",
       "      <td>4</td>\n",
       "      <td>2</td>\n",
       "      <td>116204</td>\n",
       "      <td>Southampton</td>\n",
       "      <td>Arsenal</td>\n",
       "      <td>0.028125</td>\n",
       "      <td>0.089280</td>\n",
       "      <td>0.882332</td>\n",
       "    </tr>\n",
       "    <tr>\n",
       "      <th>139</th>\n",
       "      <td>2444848</td>\n",
       "      <td>38.0</td>\n",
       "      <td>False</td>\n",
       "      <td>False</td>\n",
       "      <td>379</td>\n",
       "      <td>2025-05-25T15:00:00Z</td>\n",
       "      <td>0</td>\n",
       "      <td>False</td>\n",
       "      <td>False</td>\n",
       "      <td>5</td>\n",
       "      <td>...</td>\n",
       "      <td>NaN</td>\n",
       "      <td>[]</td>\n",
       "      <td>3</td>\n",
       "      <td>3</td>\n",
       "      <td>116205</td>\n",
       "      <td>Tottenham</td>\n",
       "      <td>Brighton</td>\n",
       "      <td>0.533012</td>\n",
       "      <td>0.220405</td>\n",
       "      <td>0.246577</td>\n",
       "    </tr>\n",
       "    <tr>\n",
       "      <th>140</th>\n",
       "      <td>2444849</td>\n",
       "      <td>38.0</td>\n",
       "      <td>False</td>\n",
       "      <td>False</td>\n",
       "      <td>380</td>\n",
       "      <td>2025-05-25T15:00:00Z</td>\n",
       "      <td>0</td>\n",
       "      <td>False</td>\n",
       "      <td>False</td>\n",
       "      <td>4</td>\n",
       "      <td>...</td>\n",
       "      <td>NaN</td>\n",
       "      <td>[]</td>\n",
       "      <td>2</td>\n",
       "      <td>2</td>\n",
       "      <td>116206</td>\n",
       "      <td>Wolves</td>\n",
       "      <td>Brentford</td>\n",
       "      <td>0.285166</td>\n",
       "      <td>0.219015</td>\n",
       "      <td>0.495811</td>\n",
       "    </tr>\n",
       "  </tbody>\n",
       "</table>\n",
       "<p>141 rows × 22 columns</p>\n",
       "</div>"
      ],
      "text/plain": [
       "        code  event  finished  finished_provisional   id  \\\n",
       "0    2444758    NaN     False                 False  289   \n",
       "1    2444613   24.0     False                 False  144   \n",
       "2    2444711   25.0     False                 False  242   \n",
       "3    2444714   25.0     False                 False  245   \n",
       "4    2444710   25.0     False                 False  241   \n",
       "..       ...    ...       ...                   ...  ...   \n",
       "136  2444845   38.0     False                 False  376   \n",
       "137  2444846   38.0     False                 False  377   \n",
       "138  2444847   38.0     False                 False  378   \n",
       "139  2444848   38.0     False                 False  379   \n",
       "140  2444849   38.0     False                 False  380   \n",
       "\n",
       "             kickoff_time  minutes  provisional_start_time started  team_a  \\\n",
       "0                    None        0                    True    None       7   \n",
       "1    2025-02-12T19:30:00Z        0                   False   False      12   \n",
       "2    2025-02-14T20:00:00Z        0                   False   False       6   \n",
       "3    2025-02-15T12:30:00Z        0                   False   False       1   \n",
       "4    2025-02-15T15:00:00Z        0                   False   False      10   \n",
       "..                    ...      ...                     ...     ...     ...   \n",
       "136  2025-05-25T15:00:00Z        0                   False   False       8   \n",
       "137  2025-05-25T15:00:00Z        0                   False   False       6   \n",
       "138  2025-05-25T15:00:00Z        0                   False   False       1   \n",
       "139  2025-05-25T15:00:00Z        0                   False   False       5   \n",
       "140  2025-05-25T15:00:00Z        0                   False   False       4   \n",
       "\n",
       "     ...  team_h_score  stats  team_h_difficulty team_a_difficulty  pulse_id  \\\n",
       "0    ...           NaN     []                  3                 4    116115   \n",
       "1    ...           NaN     []                  5                 3    115970   \n",
       "2    ...           NaN     []                  4                 3    116068   \n",
       "3    ...           NaN     []                  4                 2    116071   \n",
       "4    ...           NaN     []                  2                 3    116067   \n",
       "..   ...           ...    ...                ...               ...       ...   \n",
       "136  ...           NaN     []                  2                 4    116202   \n",
       "137  ...           NaN     []                  4                 4    116203   \n",
       "138  ...           NaN     []                  4                 2    116204   \n",
       "139  ...           NaN     []                  3                 3    116205   \n",
       "140  ...           NaN     []                  2                 2    116206   \n",
       "\n",
       "           home_team       away_team home_win_probability draw_probability  \\\n",
       "0      Newcastle Utd  Crystal Palace             0.433745         0.248286   \n",
       "1            Everton       Liverpool             0.147445         0.230042   \n",
       "2           Brighton         Chelsea             0.221770         0.209550   \n",
       "3     Leicester City         Arsenal             0.044504         0.103987   \n",
       "4        Aston Villa    Ipswich Town             0.642780         0.196288   \n",
       "..               ...             ...                  ...              ...   \n",
       "136    Newcastle Utd         Everton             0.569025         0.243030   \n",
       "137  Nott'ham Forest         Chelsea             0.311865         0.229375   \n",
       "138      Southampton         Arsenal             0.028125         0.089280   \n",
       "139        Tottenham        Brighton             0.533012         0.220405   \n",
       "140           Wolves       Brentford             0.285166         0.219015   \n",
       "\n",
       "     away_win_probability  \n",
       "0                0.317968  \n",
       "1                0.622511  \n",
       "2                0.568668  \n",
       "3                0.851254  \n",
       "4                0.160915  \n",
       "..                    ...  \n",
       "136              0.187943  \n",
       "137              0.458756  \n",
       "138              0.882332  \n",
       "139              0.246577  \n",
       "140              0.495811  \n",
       "\n",
       "[141 rows x 22 columns]"
      ]
     },
     "execution_count": 26,
     "metadata": {},
     "output_type": "execute_result"
    }
   ],
   "source": [
    "all_probabilities = []\n",
    "for _, fixture in fixtures.iterrows():\n",
    "    # probability of different scorelines\n",
    "    outcome_matrix = simulate_match(poisson_model, fixture['home_team'], fixture['away_team'])\n",
    "    # match outcome probabilities\n",
    "    probability_home_win = outcome_matrix[np.tril_indices_from(outcome_matrix, k=-1)].sum()\n",
    "    probability_draw = np.trace(outcome_matrix)\n",
    "    probability_away_win = outcome_matrix[np.triu_indices_from(outcome_matrix, k=1)].sum()\n",
    "    # add probabilities to list\n",
    "    all_probabilities.append([probability_home_win, probability_draw, probability_away_win])\n",
    "\n",
    "# add all probabilites to fixtures df\n",
    "fixtures[['home_win_probability', 'draw_probability', 'away_win_probability']] = all_probabilities\n",
    "\n",
    "fixtures"
   ]
  },
  {
   "cell_type": "code",
   "execution_count": 27,
   "metadata": {},
   "outputs": [],
   "source": [
    "def table_bonus_check(focal_team, opponent):\n",
    "    focal_team_rank = league_table.loc[league_table.Squad==focal_team, 'Rk'].values[0]\n",
    "    opponent_rank = league_table.loc[league_table.Squad==opponent, 'Rk'].values[0]\n",
    "    if focal_team_rank - opponent_rank >= 5:\n",
    "        return 1.0\n",
    "    else:\n",
    "        return 0.0"
   ]
  },
  {
   "cell_type": "code",
   "execution_count": 28,
   "metadata": {},
   "outputs": [
    {
     "data": {
      "text/html": [
       "<div>\n",
       "<style scoped>\n",
       "    .dataframe tbody tr th:only-of-type {\n",
       "        vertical-align: middle;\n",
       "    }\n",
       "\n",
       "    .dataframe tbody tr th {\n",
       "        vertical-align: top;\n",
       "    }\n",
       "\n",
       "    .dataframe thead th {\n",
       "        text-align: right;\n",
       "    }\n",
       "</style>\n",
       "<table border=\"1\" class=\"dataframe\">\n",
       "  <thead>\n",
       "    <tr style=\"text-align: right;\">\n",
       "      <th></th>\n",
       "      <th>gameweek</th>\n",
       "      <th>team</th>\n",
       "      <th>expected_points</th>\n",
       "    </tr>\n",
       "  </thead>\n",
       "  <tbody>\n",
       "    <tr>\n",
       "      <th>0</th>\n",
       "      <td>24.0</td>\n",
       "      <td>Everton</td>\n",
       "      <td>17.458275</td>\n",
       "    </tr>\n",
       "    <tr>\n",
       "      <th>1</th>\n",
       "      <td>24.0</td>\n",
       "      <td>Liverpool</td>\n",
       "      <td>6.662544</td>\n",
       "    </tr>\n",
       "    <tr>\n",
       "      <th>2</th>\n",
       "      <td>25.0</td>\n",
       "      <td>Brighton</td>\n",
       "      <td>18.319528</td>\n",
       "    </tr>\n",
       "    <tr>\n",
       "      <th>3</th>\n",
       "      <td>25.0</td>\n",
       "      <td>Chelsea</td>\n",
       "      <td>6.414253</td>\n",
       "    </tr>\n",
       "    <tr>\n",
       "      <th>4</th>\n",
       "      <td>25.0</td>\n",
       "      <td>Leicester City</td>\n",
       "      <td>16.193305</td>\n",
       "    </tr>\n",
       "    <tr>\n",
       "      <th>...</th>\n",
       "      <td>...</td>\n",
       "      <td>...</td>\n",
       "      <td>...</td>\n",
       "    </tr>\n",
       "    <tr>\n",
       "      <th>275</th>\n",
       "      <td>38.0</td>\n",
       "      <td>Arsenal</td>\n",
       "      <td>9.197103</td>\n",
       "    </tr>\n",
       "    <tr>\n",
       "      <th>276</th>\n",
       "      <td>38.0</td>\n",
       "      <td>Tottenham</td>\n",
       "      <td>6.085708</td>\n",
       "    </tr>\n",
       "    <tr>\n",
       "      <th>277</th>\n",
       "      <td>38.0</td>\n",
       "      <td>Brighton</td>\n",
       "      <td>3.544368</td>\n",
       "    </tr>\n",
       "    <tr>\n",
       "      <th>278</th>\n",
       "      <td>38.0</td>\n",
       "      <td>Wolves</td>\n",
       "      <td>18.956068</td>\n",
       "    </tr>\n",
       "    <tr>\n",
       "      <th>279</th>\n",
       "      <td>38.0</td>\n",
       "      <td>Brentford</td>\n",
       "      <td>5.826184</td>\n",
       "    </tr>\n",
       "  </tbody>\n",
       "</table>\n",
       "<p>280 rows × 3 columns</p>\n",
       "</div>"
      ],
      "text/plain": [
       "     gameweek            team  expected_points\n",
       "0        24.0         Everton        17.458275\n",
       "1        24.0       Liverpool         6.662544\n",
       "2        25.0        Brighton        18.319528\n",
       "3        25.0         Chelsea         6.414253\n",
       "4        25.0  Leicester City        16.193305\n",
       "..        ...             ...              ...\n",
       "275      38.0         Arsenal         9.197103\n",
       "276      38.0       Tottenham         6.085708\n",
       "277      38.0        Brighton         3.544368\n",
       "278      38.0          Wolves        18.956068\n",
       "279      38.0       Brentford         5.826184\n",
       "\n",
       "[280 rows x 3 columns]"
      ]
     },
     "execution_count": 28,
     "metadata": {},
     "output_type": "execute_result"
    }
   ],
   "source": [
    "manager_xp = []\n",
    "for _, row in fixtures.iterrows():\n",
    "    if np.isnan(row.event):\n",
    "        continue\n",
    "    else:\n",
    "        # calculate expected goals for both teams\n",
    "        home_team_xg = poisson_model.predict(pd.DataFrame(data={'team': row.home_team, 'opponent': row.away_team, 'home':1},index=[1])).values[0]\n",
    "        away_team_xg = poisson_model.predict(pd.DataFrame(data={'team': row.away_team, 'opponent': row.home_team, 'home':0},index=[1])).values[0]\n",
    "        \n",
    "        # CALCULATE EXPECTED MANAGER POINTS FOR HOME TEAM\n",
    "        new_row1 = [row.event, row.home_team, 0]\n",
    "        table_bonus_coefficient = table_bonus_check(row.home_team, row.away_team) # 1 or 0\n",
    "        # points for win\n",
    "        new_row1[2] += 6*row.home_win_probability + 10*table_bonus_coefficient\n",
    "        # points for draw\n",
    "        new_row1[2] += 3*row.draw_probability + 5*table_bonus_coefficient\n",
    "        # expected goals scored\n",
    "        new_row1[2] += home_team_xg\n",
    "        # points for clean sheet\n",
    "        new_row1[2] += poisson.pmf(0, away_team_xg)\n",
    "\n",
    "        # CALCULATE EXPECTED MANAGER POINTS FOR AWAY TEAM\n",
    "        new_row2 = [row.event, row.away_team, 0]\n",
    "        table_bonus_coefficient = table_bonus_check(row.away_team, row.home_team) # 1 or 0\n",
    "        # points for win\n",
    "        new_row2[2] += 6*row.away_win_probability + 10*table_bonus_coefficient\n",
    "        # points for draw\n",
    "        new_row2[2] += 3*row.draw_probability + 5*table_bonus_coefficient\n",
    "        # expected goals scored\n",
    "        new_row2[2] += away_team_xg\n",
    "        # points for clean sheet\n",
    "        new_row2[2] += poisson.pmf(0, home_team_xg)\n",
    "\n",
    "        # add rows to manager_xp\n",
    "        manager_xp.extend([new_row1, new_row2])\n",
    "        \n",
    "manager_df = pd.DataFrame(manager_xp, columns=['gameweek', 'team', 'expected_points'])\n",
    "manager_df"
   ]
  },
  {
   "cell_type": "code",
   "execution_count": 29,
   "metadata": {},
   "outputs": [
    {
     "data": {
      "text/html": [
       "<div>\n",
       "<style scoped>\n",
       "    .dataframe tbody tr th:only-of-type {\n",
       "        vertical-align: middle;\n",
       "    }\n",
       "\n",
       "    .dataframe tbody tr th {\n",
       "        vertical-align: top;\n",
       "    }\n",
       "\n",
       "    .dataframe thead th {\n",
       "        text-align: right;\n",
       "    }\n",
       "</style>\n",
       "<table border=\"1\" class=\"dataframe\">\n",
       "  <thead>\n",
       "    <tr style=\"text-align: right;\">\n",
       "      <th></th>\n",
       "      <th>gameweek</th>\n",
       "      <th>team</th>\n",
       "      <th>expected_points</th>\n",
       "    </tr>\n",
       "  </thead>\n",
       "  <tbody>\n",
       "    <tr>\n",
       "      <th>0</th>\n",
       "      <td>24.0</td>\n",
       "      <td>Everton</td>\n",
       "      <td>17.458275</td>\n",
       "    </tr>\n",
       "    <tr>\n",
       "      <th>1</th>\n",
       "      <td>24.0</td>\n",
       "      <td>Liverpool</td>\n",
       "      <td>6.662544</td>\n",
       "    </tr>\n",
       "    <tr>\n",
       "      <th>2</th>\n",
       "      <td>25.0</td>\n",
       "      <td>Arsenal</td>\n",
       "      <td>8.939772</td>\n",
       "    </tr>\n",
       "    <tr>\n",
       "      <th>3</th>\n",
       "      <td>25.0</td>\n",
       "      <td>Aston Villa</td>\n",
       "      <td>24.894871</td>\n",
       "    </tr>\n",
       "    <tr>\n",
       "      <th>4</th>\n",
       "      <td>25.0</td>\n",
       "      <td>Bournemouth</td>\n",
       "      <td>7.575945</td>\n",
       "    </tr>\n",
       "    <tr>\n",
       "      <th>...</th>\n",
       "      <td>...</td>\n",
       "      <td>...</td>\n",
       "      <td>...</td>\n",
       "    </tr>\n",
       "    <tr>\n",
       "      <th>273</th>\n",
       "      <td>38.0</td>\n",
       "      <td>Nott'ham Forest</td>\n",
       "      <td>4.169123</td>\n",
       "    </tr>\n",
       "    <tr>\n",
       "      <th>274</th>\n",
       "      <td>38.0</td>\n",
       "      <td>Southampton</td>\n",
       "      <td>15.884658</td>\n",
       "    </tr>\n",
       "    <tr>\n",
       "      <th>275</th>\n",
       "      <td>38.0</td>\n",
       "      <td>Tottenham</td>\n",
       "      <td>6.085708</td>\n",
       "    </tr>\n",
       "    <tr>\n",
       "      <th>276</th>\n",
       "      <td>38.0</td>\n",
       "      <td>West Ham</td>\n",
       "      <td>5.714851</td>\n",
       "    </tr>\n",
       "    <tr>\n",
       "      <th>277</th>\n",
       "      <td>38.0</td>\n",
       "      <td>Wolves</td>\n",
       "      <td>18.956068</td>\n",
       "    </tr>\n",
       "  </tbody>\n",
       "</table>\n",
       "<p>278 rows × 3 columns</p>\n",
       "</div>"
      ],
      "text/plain": [
       "     gameweek             team  expected_points\n",
       "0        24.0          Everton        17.458275\n",
       "1        24.0        Liverpool         6.662544\n",
       "2        25.0          Arsenal         8.939772\n",
       "3        25.0      Aston Villa        24.894871\n",
       "4        25.0      Bournemouth         7.575945\n",
       "..        ...              ...              ...\n",
       "273      38.0  Nott'ham Forest         4.169123\n",
       "274      38.0      Southampton        15.884658\n",
       "275      38.0        Tottenham         6.085708\n",
       "276      38.0         West Ham         5.714851\n",
       "277      38.0           Wolves        18.956068\n",
       "\n",
       "[278 rows x 3 columns]"
      ]
     },
     "execution_count": 29,
     "metadata": {},
     "output_type": "execute_result"
    }
   ],
   "source": [
    "weekly_scores = manager_df.groupby(['gameweek', 'team']).sum().reset_index()\n",
    "weekly_scores"
   ]
  },
  {
   "cell_type": "code",
   "execution_count": 37,
   "metadata": {},
   "outputs": [
    {
     "data": {
      "application/vnd.plotly.v1+json": {
       "config": {
        "plotlyServerURL": "https://plot.ly"
       },
       "data": [
        {
         "hovertemplate": "team=Everton<br>Game Week=%{x}<br>Expected Points=%{y}<extra></extra>",
         "legendgroup": "Everton",
         "line": {
          "color": "#636efa",
          "dash": "solid"
         },
         "marker": {
          "symbol": "circle"
         },
         "mode": "lines+markers",
         "name": "Everton",
         "orientation": "v",
         "showlegend": true,
         "type": "scatter",
         "x": {
          "bdata": "AAAAAAAAOEAAAAAAAAA5QAAAAAAAADpAAAAAAAAAO0AAAAAAAAA8QAAAAAAAAD1AAAAAAAAAPkAAAAAAAAA/QAAAAAAAAEBAAAAAAACAQEAAAAAAAABBQAAAAAAAgEFAAAAAAAAAQkAAAAAAAIBCQAAAAAAAAENA",
          "dtype": "f8"
         },
         "xaxis": "x",
         "y": {
          "bdata": "GsoVf1F1MUCVvGF1mb0IQGSAokTl6RBA9+UJUzeuMkAFtlbZmWMSQN5xohsjXxNA+XSc48McMUBWFlk7K/0wQAClamFlUTJAWy5jl594MUArCxvUg6YxQPmbkHN3mxZAehPPU5uHMkCr5namzgcZQDaCyVh14jFA",
          "dtype": "f8"
         },
         "yaxis": "y"
        },
        {
         "hovertemplate": "team=Liverpool<br>Game Week=%{x}<br>Expected Points=%{y}<extra></extra>",
         "legendgroup": "Liverpool",
         "line": {
          "color": "#EF553B",
          "dash": "solid"
         },
         "marker": {
          "symbol": "circle"
         },
         "mode": "lines+markers",
         "name": "Liverpool",
         "orientation": "v",
         "showlegend": true,
         "type": "scatter",
         "x": {
          "bdata": "AAAAAAAAOEAAAAAAAAA5QAAAAAAAADpAAAAAAAAAO0AAAAAAAAA8QAAAAAAAAD5AAAAAAAAAP0AAAAAAAABAQAAAAAAAgEBAAAAAAAAAQUAAAAAAAIBBQAAAAAAAAEJAAAAAAACAQkAAAAAAAABDQA==",
          "dtype": "f8"
         },
         "xaxis": "x",
         "y": {
          "bdata": "yDlP1HGmGkB8eC5hzBgvQJLY3CdCJhJAVRpKcwLBGUCb5mwCEBkjQEqZaQiPfBxADZ2WDDrZGUBfPTHFrdwgQDYNLuFceiFAYLjXqgxMHECUc7rcOHEWQC4l0BugzQ9AX/gv0n4IHEDiSKYRRtsYQA==",
          "dtype": "f8"
         },
         "yaxis": "y"
        },
        {
         "hovertemplate": "team=Arsenal<br>Game Week=%{x}<br>Expected Points=%{y}<extra></extra>",
         "legendgroup": "Arsenal",
         "line": {
          "color": "#00cc96",
          "dash": "solid"
         },
         "marker": {
          "symbol": "circle"
         },
         "mode": "lines+markers",
         "name": "Arsenal",
         "orientation": "v",
         "showlegend": true,
         "type": "scatter",
         "x": {
          "bdata": "AAAAAAAAOUAAAAAAAAA6QAAAAAAAADtAAAAAAAAAPEAAAAAAAAA9QAAAAAAAAD5AAAAAAAAAP0AAAAAAAABAQAAAAAAAgEBAAAAAAAAAQUAAAAAAAIBBQAAAAAAAAEJAAAAAAACAQkAAAAAAAABDQA==",
          "dtype": "f8"
         },
         "xaxis": "x",
         "y": {
          "bdata": "lB4ezynhIUAbicSwTmMhQPiore1IeBpATNGJ+RYGHUDKY0zWlSgbQAE/5cJakB1Aq5SXW9b5G0DQWfJdgLwfQKiLIlFPUiFA2OKrVzeoGkBqK2yicXsbQPLcdev8xBRAmY3JA1/KG0DUEIyz6mQiQA==",
          "dtype": "f8"
         },
         "yaxis": "y"
        },
        {
         "hovertemplate": "team=Aston Villa<br>Game Week=%{x}<br>Expected Points=%{y}<extra></extra>",
         "legendgroup": "Aston Villa",
         "line": {
          "color": "#ab63fa",
          "dash": "solid"
         },
         "marker": {
          "symbol": "circle"
         },
         "mode": "lines+markers",
         "name": "Aston Villa",
         "orientation": "v",
         "showlegend": true,
         "type": "scatter",
         "x": {
          "bdata": "AAAAAAAAOUAAAAAAAAA6QAAAAAAAADtAAAAAAAAAPEAAAAAAAAA+QAAAAAAAAD9AAAAAAAAAQEAAAAAAAIBAQAAAAAAAAEFAAAAAAACAQUAAAAAAAABCQAAAAAAAgEJAAAAAAAAAQ0A=",
          "dtype": "f8"
         },
         "xaxis": "x",
         "y": {
          "bdata": "pDFURxblOEB4/BjuIVcOQMJFlR/j+wxAeZXD00JJEkCYMYA4YFUTQOOfz/ErfjNAEO9L1T6/HEAADmtppDwQQFSRVDbM5gNAcp03voE2E0BlbbatqX8NQO/bj8s6gxJATBvWr1mEEkA=",
          "dtype": "f8"
         },
         "yaxis": "y"
        },
        {
         "hovertemplate": "team=Bournemouth<br>Game Week=%{x}<br>Expected Points=%{y}<extra></extra>",
         "legendgroup": "Bournemouth",
         "line": {
          "color": "#FFA15A",
          "dash": "solid"
         },
         "marker": {
          "symbol": "circle"
         },
         "mode": "lines+markers",
         "name": "Bournemouth",
         "orientation": "v",
         "showlegend": true,
         "type": "scatter",
         "x": {
          "bdata": "AAAAAAAAOUAAAAAAAAA6QAAAAAAAADtAAAAAAAAAPEAAAAAAAAA9QAAAAAAAAD5AAAAAAAAAP0AAAAAAAABAQAAAAAAAgEBAAAAAAAAAQUAAAAAAAIBBQAAAAAAAAEJAAAAAAACAQkAAAAAAAABDQA==",
          "dtype": "f8"
         },
         "xaxis": "x",
         "y": {
          "bdata": "PZdfeMRNHkDI5z9omm0bQNVH1zRwxxVAC2gYB9/5EkAIlCfZ0kkXQHN1BPb/oh1AvcVLdl5yGECmDUANkLEVQBO0r4aQDRFAg7KUSA4mF0B/f/1AlGcxQEtsmmHwexdATsOkePgCCUDHBB7UEHAeQA==",
          "dtype": "f8"
         },
         "yaxis": "y"
        },
        {
         "hovertemplate": "team=Brentford<br>Game Week=%{x}<br>Expected Points=%{y}<extra></extra>",
         "legendgroup": "Brentford",
         "line": {
          "color": "#19d3f3",
          "dash": "solid"
         },
         "marker": {
          "symbol": "circle"
         },
         "mode": "lines+markers",
         "name": "Brentford",
         "orientation": "v",
         "showlegend": true,
         "type": "scatter",
         "x": {
          "bdata": "AAAAAAAAOUAAAAAAAAA6QAAAAAAAADtAAAAAAAAAPEAAAAAAAAA9QAAAAAAAAD5AAAAAAAAAP0AAAAAAAABAQAAAAAAAgEBAAAAAAAAAQUAAAAAAAIBBQAAAAAAAAEJAAAAAAACAQkAAAAAAAABDQA==",
          "dtype": "f8"
         },
         "xaxis": "x",
         "y": {
          "bdata": "Kkpl7RVWFkCYswHNPrQaQMBRwEvOWxVAEKo1hd5QFUAJuzH2GhUOQK2f7Oq3ljJAW5UIEV3gMkAv0Plsu+IwQGUOAYCx6RVA+gs3CGEKM0Aaqb7dGh4VQMkxcbzxIxpAF45J36aPE0DCHeI1A04XQA==",
          "dtype": "f8"
         },
         "yaxis": "y"
        },
        {
         "hovertemplate": "team=Brighton<br>Game Week=%{x}<br>Expected Points=%{y}<extra></extra>",
         "legendgroup": "Brighton",
         "line": {
          "color": "#FF6692",
          "dash": "solid"
         },
         "marker": {
          "symbol": "circle"
         },
         "mode": "lines+markers",
         "name": "Brighton",
         "orientation": "v",
         "showlegend": true,
         "type": "scatter",
         "x": {
          "bdata": "AAAAAAAAOUAAAAAAAAA6QAAAAAAAADtAAAAAAAAAPEAAAAAAAAA9QAAAAAAAAD5AAAAAAAAAP0AAAAAAAABAQAAAAAAAgEBAAAAAAAAAQUAAAAAAAIBBQAAAAAAAAEJAAAAAAACAQkAAAAAAAABDQA==",
          "dtype": "f8"
         },
         "xaxis": "x",
         "y": {
          "bdata": "/Zz6l8xRMkAXpXbhL+QZQEwunS31AA5AT8hxlrMdEUCe1TggSTUxQKJ+HxYfcxJAal+lWvwQCkAX4Ro7VIkZQFC45zXSFxBAecGYicyOFUD5AW7X0ZYMQHfzpHc3ThRANr9SjWWVMUA4hXyZ3VoMQA==",
          "dtype": "f8"
         },
         "yaxis": "y"
        },
        {
         "hovertemplate": "team=Chelsea<br>Game Week=%{x}<br>Expected Points=%{y}<extra></extra>",
         "legendgroup": "Chelsea",
         "line": {
          "color": "#B6E880",
          "dash": "solid"
         },
         "marker": {
          "symbol": "circle"
         },
         "mode": "lines+markers",
         "name": "Chelsea",
         "orientation": "v",
         "showlegend": true,
         "type": "scatter",
         "x": {
          "bdata": "AAAAAAAAOUAAAAAAAAA6QAAAAAAAADtAAAAAAAAAPEAAAAAAAAA9QAAAAAAAAD5AAAAAAAAAP0AAAAAAAABAQAAAAAAAgEBAAAAAAAAAQUAAAAAAAIBBQAAAAAAAAEJAAAAAAACAQkAAAAAAAABDQA==",
          "dtype": "f8"
         },
         "xaxis": "x",
         "y": {
          "bdata": "0mXp8zGoGUDMlL2yLmcZQPgRu7G7ciJAzdP5iyWzIUDia1q7vo8GQDUsCmK8kBlA3p85sfkxGUDbciy6WCEhQBCzUIPePhdAxMGQRiOTGkDwrjSRwzwRQP6OlZLeVxRAzSjIwCRFG0AID2ti3t0VQA==",
          "dtype": "f8"
         },
         "yaxis": "y"
        },
        {
         "hovertemplate": "team=Crystal Palace<br>Game Week=%{x}<br>Expected Points=%{y}<extra></extra>",
         "legendgroup": "Crystal Palace",
         "line": {
          "color": "#FF97FF",
          "dash": "solid"
         },
         "marker": {
          "symbol": "circle"
         },
         "mode": "lines+markers",
         "name": "Crystal Palace",
         "orientation": "v",
         "showlegend": true,
         "type": "scatter",
         "x": {
          "bdata": "AAAAAAAAOUAAAAAAAAA6QAAAAAAAADtAAAAAAAAAPEAAAAAAAAA+QAAAAAAAAD9AAAAAAAAAQEAAAAAAAIBAQAAAAAAAAEFAAAAAAACAQUAAAAAAAABCQAAAAAAAgEJAAAAAAAAAQ0A=",
          "dtype": "f8"
         },
         "xaxis": "x",
         "y": {
          "bdata": "e9GMmz2bFkAzoO8Gx1ATQNqW+pGH8xZA4ZVyupjYHEAIuA4HF34dQA1NSdy7UxdAULDP4WkgMkDiY6t0jMgzQP7c6d2lcTFAGDb3UnoJNEAaIk+V46gSQMpq1YGYthpAb7UJol4bMkA=",
          "dtype": "f8"
         },
         "yaxis": "y"
        },
        {
         "hovertemplate": "team=Fulham<br>Game Week=%{x}<br>Expected Points=%{y}<extra></extra>",
         "legendgroup": "Fulham",
         "line": {
          "color": "#FECB52",
          "dash": "solid"
         },
         "marker": {
          "symbol": "circle"
         },
         "mode": "lines+markers",
         "name": "Fulham",
         "orientation": "v",
         "showlegend": true,
         "type": "scatter",
         "x": {
          "bdata": "AAAAAAAAOUAAAAAAAAA6QAAAAAAAADtAAAAAAAAAPEAAAAAAAAA9QAAAAAAAAD5AAAAAAAAAP0AAAAAAAABAQAAAAAAAgEBAAAAAAAAAQUAAAAAAAIBBQAAAAAAAAEJAAAAAAACAQkAAAAAAAABDQA==",
          "dtype": "f8"
         },
         "xaxis": "x",
         "y": {
          "bdata": "feT1vtqQM0A0iP0TPN4QQJP5mKpO1BZA0+9lHXaHE0ATogErJ8ESQH6aHMaIBTFAiP+GIMEPMkCiipNK9HkOQJFnPlJs5jJAQCyjoaMzHED8gzI4ysQSQKOGZBM9GBVAoqczLr6LEkCVGShNk6gIQA==",
          "dtype": "f8"
         },
         "yaxis": "y"
        },
        {
         "hovertemplate": "team=Ipswich Town<br>Game Week=%{x}<br>Expected Points=%{y}<extra></extra>",
         "legendgroup": "Ipswich Town",
         "line": {
          "color": "#636efa",
          "dash": "solid"
         },
         "marker": {
          "symbol": "circle"
         },
         "mode": "lines+markers",
         "name": "Ipswich Town",
         "orientation": "v",
         "showlegend": true,
         "type": "scatter",
         "x": {
          "bdata": "AAAAAAAAOUAAAAAAAAA6QAAAAAAAADtAAAAAAAAAPEAAAAAAAAA9QAAAAAAAAD5AAAAAAAAAP0AAAAAAAABAQAAAAAAAgEBAAAAAAAAAQUAAAAAAAIBBQAAAAAAAAEJAAAAAAACAQkAAAAAAAABDQA==",
          "dtype": "f8"
         },
         "xaxis": "x",
         "y": {
          "bdata": "nhvl4UCnMUAKSEf/WJ0xQLnTSTF9wzFAbUd3LGMdMUCJft6zULAxQEPof5GNGTFA82BXPF8UEEBib+et2LIwQCUBv6a3LzBA8BHvn8jkMEBq0xxO0w8JQKa1MRpwCTJAq0YgBzT4EECGLwAkdAkOQA==",
          "dtype": "f8"
         },
         "yaxis": "y"
        },
        {
         "hovertemplate": "team=Leicester City<br>Game Week=%{x}<br>Expected Points=%{y}<extra></extra>",
         "legendgroup": "Leicester City",
         "line": {
          "color": "#EF553B",
          "dash": "solid"
         },
         "marker": {
          "symbol": "circle"
         },
         "mode": "lines+markers",
         "name": "Leicester City",
         "orientation": "v",
         "showlegend": true,
         "type": "scatter",
         "x": {
          "bdata": "AAAAAAAAOUAAAAAAAAA6QAAAAAAAADtAAAAAAAAAPEAAAAAAAAA9QAAAAAAAAD5AAAAAAAAAP0AAAAAAAABAQAAAAAAAgEBAAAAAAAAAQUAAAAAAAIBBQAAAAAAAAEJAAAAAAACAQkAAAAAAAABDQA==",
          "dtype": "f8"
         },
         "xaxis": "x",
         "y": {
          "bdata": "gL2YcHwxMED7l/5c7jAyQCwEW/bkgwtAgI3+XAbGMEDxB0jOxFMyQNcT+sUKVTBAuFLI/StZMUDRZF0Qqg8yQDhC9gjGmDBAlK/MYIC4DUB1dOlMvR4XQHuifML3YDFAvKGObIwJFEDsfCOEZSkxQA==",
          "dtype": "f8"
         },
         "yaxis": "y"
        },
        {
         "hovertemplate": "team=Manchester City<br>Game Week=%{x}<br>Expected Points=%{y}<extra></extra>",
         "legendgroup": "Manchester City",
         "line": {
          "color": "#00cc96",
          "dash": "solid"
         },
         "marker": {
          "symbol": "circle"
         },
         "mode": "lines+markers",
         "name": "Manchester City",
         "orientation": "v",
         "showlegend": true,
         "type": "scatter",
         "x": {
          "bdata": "AAAAAAAAOUAAAAAAAAA6QAAAAAAAADtAAAAAAAAAPEAAAAAAAAA9QAAAAAAAAD5AAAAAAAAAP0AAAAAAAABAQAAAAAAAgEBAAAAAAAAAQUAAAAAAAIBBQAAAAAAAAEJAAAAAAACAQkAAAAAAAABDQA==",
          "dtype": "f8"
         },
         "xaxis": "x",
         "y": {
          "bdata": "BPIkmPC4GUDd+V2ZfTcUQAhFt7Jp1RlAAcnb2XKAGEAN7unSKCQeQNFgnQ0piCJASfNBESpfG0ANPeOr4NMYQEPOzOarohpAoCJIFfNkHkCVcYvL+xAhQFSNJcfqKyJAXqkudhGfGUDIyW0NXtIZQA==",
          "dtype": "f8"
         },
         "yaxis": "y"
        },
        {
         "hovertemplate": "team=Manchester Utd<br>Game Week=%{x}<br>Expected Points=%{y}<extra></extra>",
         "legendgroup": "Manchester Utd",
         "line": {
          "color": "#ab63fa",
          "dash": "solid"
         },
         "marker": {
          "symbol": "circle"
         },
         "mode": "lines+markers",
         "name": "Manchester Utd",
         "orientation": "v",
         "showlegend": true,
         "type": "scatter",
         "x": {
          "bdata": "AAAAAAAAOUAAAAAAAAA6QAAAAAAAADtAAAAAAAAAPEAAAAAAAAA9QAAAAAAAAD5AAAAAAAAAP0AAAAAAAABAQAAAAAAAgEBAAAAAAAAAQUAAAAAAAIBBQAAAAAAAAEJAAAAAAACAQkAAAAAAAABDQA==",
          "dtype": "f8"
         },
         "xaxis": "x",
         "y": {
          "bdata": "q7fgZehPDkDhs6GwjjQSQLyIOH6kNBpA4jBFK7YhMUA3Z8rnqZIYQDzgLJsawjJAex+L2L/JMUDPyI25yE8yQFbD53o/pBdA1oGIqtd/MkDwEi0kDiIRQNUHGudnxBZAgzE7YxcPMkBzSV3LCuQzQA==",
          "dtype": "f8"
         },
         "yaxis": "y"
        },
        {
         "hovertemplate": "team=Newcastle Utd<br>Game Week=%{x}<br>Expected Points=%{y}<extra></extra>",
         "legendgroup": "Newcastle Utd",
         "line": {
          "color": "#FFA15A",
          "dash": "solid"
         },
         "marker": {
          "symbol": "circle"
         },
         "mode": "lines+markers",
         "name": "Newcastle Utd",
         "orientation": "v",
         "showlegend": true,
         "type": "scatter",
         "x": {
          "bdata": "AAAAAAAAOUAAAAAAAAA6QAAAAAAAADtAAAAAAAAAPEAAAAAAAAA+QAAAAAAAAD9AAAAAAAAAQEAAAAAAAIBAQAAAAAAAAEFAAAAAAACAQUAAAAAAAABCQAAAAAAAgEJAAAAAAAAAQ0A=",
          "dtype": "f8"
         },
         "xaxis": "x",
         "y": {
          "bdata": "BuLsKflsC0D/Z0NIo2wWQDMzwNMWZzJACyRtXJr0GkDYeDatXbEZQFey8FNXAB9AfiALQBhcGUDeHt9sn2oXQD8qJZ9lISBA/92BEYzUF0Cft8THQ/sTQAK9/MMhnwRAXL8p/MHyGEA=",
          "dtype": "f8"
         },
         "yaxis": "y"
        },
        {
         "hovertemplate": "team=Nott'ham Forest<br>Game Week=%{x}<br>Expected Points=%{y}<extra></extra>",
         "legendgroup": "Nott'ham Forest",
         "line": {
          "color": "#19d3f3",
          "dash": "solid"
         },
         "marker": {
          "symbol": "circle"
         },
         "mode": "lines+markers",
         "name": "Nott'ham Forest",
         "orientation": "v",
         "showlegend": true,
         "type": "scatter",
         "x": {
          "bdata": "AAAAAAAAOUAAAAAAAAA6QAAAAAAAADtAAAAAAAAAPEAAAAAAAAA9QAAAAAAAAD5AAAAAAAAAP0AAAAAAAABAQAAAAAAAgEBAAAAAAAAAQUAAAAAAAIBBQAAAAAAAAEJAAAAAAACAQkAAAAAAAABDQA==",
          "dtype": "f8"
         },
         "xaxis": "x",
         "y": {
          "bdata": "ymPrhkJgEkBM5BAr6iUPQP53vuzqkARAfZOjXJmSCkA4OnEnoVYaQOaD8GEg1BVAqL1TD8/VE0CGFqW2j+wVQBIjFWeFnhFAikjBRLzaFUDVdxmLguAPQOLGQQgjBR1Abp+5ARb+FkAmJsl3Lq0QQA==",
          "dtype": "f8"
         },
         "yaxis": "y"
        },
        {
         "hovertemplate": "team=Southampton<br>Game Week=%{x}<br>Expected Points=%{y}<extra></extra>",
         "legendgroup": "Southampton",
         "line": {
          "color": "#FF6692",
          "dash": "solid"
         },
         "marker": {
          "symbol": "circle"
         },
         "mode": "lines+markers",
         "name": "Southampton",
         "orientation": "v",
         "showlegend": true,
         "type": "scatter",
         "x": {
          "bdata": "AAAAAAAAOUAAAAAAAAA6QAAAAAAAADtAAAAAAAAAPEAAAAAAAAA9QAAAAAAAAD5AAAAAAAAAP0AAAAAAAABAQAAAAAAAgEBAAAAAAAAAQUAAAAAAAIBBQAAAAAAAAEJAAAAAAACAQkAAAAAAAABDQA==",
          "dtype": "f8"
         },
         "xaxis": "x",
         "y": {
          "bdata": "SmeA7BjoMED9jnde8bExQF1G1fiXQTBAB3JJi0TlL0D1K/t9z9IJQDwVjJNY7jBAYd+OerWpMEARFl59UWYxQAynPyLnijFAEZvuWFhHMUBEM0XPonQLQLfkNa6ZKDBAVqU/RtuCBEDoV/Ho8cQvQA==",
          "dtype": "f8"
         },
         "yaxis": "y"
        },
        {
         "hovertemplate": "team=Tottenham<br>Game Week=%{x}<br>Expected Points=%{y}<extra></extra>",
         "legendgroup": "Tottenham",
         "line": {
          "color": "#B6E880",
          "dash": "solid"
         },
         "marker": {
          "symbol": "circle"
         },
         "mode": "lines+markers",
         "name": "Tottenham",
         "orientation": "v",
         "showlegend": true,
         "type": "scatter",
         "x": {
          "bdata": "AAAAAAAAOUAAAAAAAAA6QAAAAAAAADtAAAAAAAAAPEAAAAAAAAA9QAAAAAAAAD5AAAAAAAAAP0AAAAAAAABAQAAAAAAAgEBAAAAAAAAAQUAAAAAAAIBBQAAAAAAAAEJAAAAAAACAQkAAAAAAAABDQA==",
          "dtype": "f8"
         },
         "xaxis": "x",
         "y": {
          "bdata": "CQlPUqOSF0B6eM8e+pQcQBD5/QYZgDJABmL8VTvcM0B+OdEOxOkzQBA1KYhK4zJAWLBGWkrJIEDp8xIvuOoZQMPosUx0JzRA0ixIxgT5MUCrZ1nZYwoZQLq4Mq+P7hJAhNX24ttcNEBfFh++w1cYQA==",
          "dtype": "f8"
         },
         "yaxis": "y"
        },
        {
         "hovertemplate": "team=West Ham<br>Game Week=%{x}<br>Expected Points=%{y}<extra></extra>",
         "legendgroup": "West Ham",
         "line": {
          "color": "#FF97FF",
          "dash": "solid"
         },
         "marker": {
          "symbol": "circle"
         },
         "mode": "lines+markers",
         "name": "West Ham",
         "orientation": "v",
         "showlegend": true,
         "type": "scatter",
         "x": {
          "bdata": "AAAAAAAAOUAAAAAAAAA6QAAAAAAAADtAAAAAAAAAPEAAAAAAAAA9QAAAAAAAAD5AAAAAAAAAP0AAAAAAAABAQAAAAAAAgEBAAAAAAAAAQUAAAAAAAIBBQAAAAAAAAEJAAAAAAACAQkAAAAAAAABDQA==",
          "dtype": "f8"
         },
         "xaxis": "x",
         "y": {
          "bdata": "um52OEqCEUBxT2rQwW8wQOCBUNJGkhlAxWkUfwZVMkDxcPJx7p4QQN0splBTxxNAPr4ODlmDMkAir4UAPfEwQB25Xs+yJhxAKKfe3o0dM0B/+PbyE8kOQPzaohyNRA9AYbDZ2erJMkDjrhTiAdwWQA==",
          "dtype": "f8"
         },
         "yaxis": "y"
        },
        {
         "hovertemplate": "team=Wolves<br>Game Week=%{x}<br>Expected Points=%{y}<extra></extra>",
         "legendgroup": "Wolves",
         "line": {
          "color": "#FECB52",
          "dash": "solid"
         },
         "marker": {
          "symbol": "circle"
         },
         "mode": "lines+markers",
         "name": "Wolves",
         "orientation": "v",
         "showlegend": true,
         "type": "scatter",
         "x": {
          "bdata": "AAAAAAAAOUAAAAAAAAA6QAAAAAAAADtAAAAAAAAAPEAAAAAAAAA9QAAAAAAAAD5AAAAAAAAAP0AAAAAAAABAQAAAAAAAgEBAAAAAAAAAQUAAAAAAAIBBQAAAAAAAAEJAAAAAAACAQkAAAAAAAABDQA==",
          "dtype": "f8"
         },
         "xaxis": "x",
         "y": {
          "bdata": "9jfRCMO8MEB8nFy29b0xQOO+UjJytjJAPtbo2gMjEUDFal65IyQYQMxkkCjDOBNAUB/VXtUPFUDf0fFBDq0LQGqjqabxagxA3CqupX+GF0CvKONHCMAwQEMguP5hQTNAfwklekq5MUAC2IPkwPQyQA==",
          "dtype": "f8"
         },
         "yaxis": "y"
        }
       ],
       "layout": {
        "legend": {
         "title": {
          "text": "team"
         },
         "tracegroupgap": 0
        },
        "template": {
         "data": {
          "bar": [
           {
            "error_x": {
             "color": "#2a3f5f"
            },
            "error_y": {
             "color": "#2a3f5f"
            },
            "marker": {
             "line": {
              "color": "#E5ECF6",
              "width": 0.5
             },
             "pattern": {
              "fillmode": "overlay",
              "size": 10,
              "solidity": 0.2
             }
            },
            "type": "bar"
           }
          ],
          "barpolar": [
           {
            "marker": {
             "line": {
              "color": "#E5ECF6",
              "width": 0.5
             },
             "pattern": {
              "fillmode": "overlay",
              "size": 10,
              "solidity": 0.2
             }
            },
            "type": "barpolar"
           }
          ],
          "carpet": [
           {
            "aaxis": {
             "endlinecolor": "#2a3f5f",
             "gridcolor": "white",
             "linecolor": "white",
             "minorgridcolor": "white",
             "startlinecolor": "#2a3f5f"
            },
            "baxis": {
             "endlinecolor": "#2a3f5f",
             "gridcolor": "white",
             "linecolor": "white",
             "minorgridcolor": "white",
             "startlinecolor": "#2a3f5f"
            },
            "type": "carpet"
           }
          ],
          "choropleth": [
           {
            "colorbar": {
             "outlinewidth": 0,
             "ticks": ""
            },
            "type": "choropleth"
           }
          ],
          "contour": [
           {
            "colorbar": {
             "outlinewidth": 0,
             "ticks": ""
            },
            "colorscale": [
             [
              0,
              "#0d0887"
             ],
             [
              0.1111111111111111,
              "#46039f"
             ],
             [
              0.2222222222222222,
              "#7201a8"
             ],
             [
              0.3333333333333333,
              "#9c179e"
             ],
             [
              0.4444444444444444,
              "#bd3786"
             ],
             [
              0.5555555555555556,
              "#d8576b"
             ],
             [
              0.6666666666666666,
              "#ed7953"
             ],
             [
              0.7777777777777778,
              "#fb9f3a"
             ],
             [
              0.8888888888888888,
              "#fdca26"
             ],
             [
              1,
              "#f0f921"
             ]
            ],
            "type": "contour"
           }
          ],
          "contourcarpet": [
           {
            "colorbar": {
             "outlinewidth": 0,
             "ticks": ""
            },
            "type": "contourcarpet"
           }
          ],
          "heatmap": [
           {
            "colorbar": {
             "outlinewidth": 0,
             "ticks": ""
            },
            "colorscale": [
             [
              0,
              "#0d0887"
             ],
             [
              0.1111111111111111,
              "#46039f"
             ],
             [
              0.2222222222222222,
              "#7201a8"
             ],
             [
              0.3333333333333333,
              "#9c179e"
             ],
             [
              0.4444444444444444,
              "#bd3786"
             ],
             [
              0.5555555555555556,
              "#d8576b"
             ],
             [
              0.6666666666666666,
              "#ed7953"
             ],
             [
              0.7777777777777778,
              "#fb9f3a"
             ],
             [
              0.8888888888888888,
              "#fdca26"
             ],
             [
              1,
              "#f0f921"
             ]
            ],
            "type": "heatmap"
           }
          ],
          "histogram": [
           {
            "marker": {
             "pattern": {
              "fillmode": "overlay",
              "size": 10,
              "solidity": 0.2
             }
            },
            "type": "histogram"
           }
          ],
          "histogram2d": [
           {
            "colorbar": {
             "outlinewidth": 0,
             "ticks": ""
            },
            "colorscale": [
             [
              0,
              "#0d0887"
             ],
             [
              0.1111111111111111,
              "#46039f"
             ],
             [
              0.2222222222222222,
              "#7201a8"
             ],
             [
              0.3333333333333333,
              "#9c179e"
             ],
             [
              0.4444444444444444,
              "#bd3786"
             ],
             [
              0.5555555555555556,
              "#d8576b"
             ],
             [
              0.6666666666666666,
              "#ed7953"
             ],
             [
              0.7777777777777778,
              "#fb9f3a"
             ],
             [
              0.8888888888888888,
              "#fdca26"
             ],
             [
              1,
              "#f0f921"
             ]
            ],
            "type": "histogram2d"
           }
          ],
          "histogram2dcontour": [
           {
            "colorbar": {
             "outlinewidth": 0,
             "ticks": ""
            },
            "colorscale": [
             [
              0,
              "#0d0887"
             ],
             [
              0.1111111111111111,
              "#46039f"
             ],
             [
              0.2222222222222222,
              "#7201a8"
             ],
             [
              0.3333333333333333,
              "#9c179e"
             ],
             [
              0.4444444444444444,
              "#bd3786"
             ],
             [
              0.5555555555555556,
              "#d8576b"
             ],
             [
              0.6666666666666666,
              "#ed7953"
             ],
             [
              0.7777777777777778,
              "#fb9f3a"
             ],
             [
              0.8888888888888888,
              "#fdca26"
             ],
             [
              1,
              "#f0f921"
             ]
            ],
            "type": "histogram2dcontour"
           }
          ],
          "mesh3d": [
           {
            "colorbar": {
             "outlinewidth": 0,
             "ticks": ""
            },
            "type": "mesh3d"
           }
          ],
          "parcoords": [
           {
            "line": {
             "colorbar": {
              "outlinewidth": 0,
              "ticks": ""
             }
            },
            "type": "parcoords"
           }
          ],
          "pie": [
           {
            "automargin": true,
            "type": "pie"
           }
          ],
          "scatter": [
           {
            "fillpattern": {
             "fillmode": "overlay",
             "size": 10,
             "solidity": 0.2
            },
            "type": "scatter"
           }
          ],
          "scatter3d": [
           {
            "line": {
             "colorbar": {
              "outlinewidth": 0,
              "ticks": ""
             }
            },
            "marker": {
             "colorbar": {
              "outlinewidth": 0,
              "ticks": ""
             }
            },
            "type": "scatter3d"
           }
          ],
          "scattercarpet": [
           {
            "marker": {
             "colorbar": {
              "outlinewidth": 0,
              "ticks": ""
             }
            },
            "type": "scattercarpet"
           }
          ],
          "scattergeo": [
           {
            "marker": {
             "colorbar": {
              "outlinewidth": 0,
              "ticks": ""
             }
            },
            "type": "scattergeo"
           }
          ],
          "scattergl": [
           {
            "marker": {
             "colorbar": {
              "outlinewidth": 0,
              "ticks": ""
             }
            },
            "type": "scattergl"
           }
          ],
          "scattermap": [
           {
            "marker": {
             "colorbar": {
              "outlinewidth": 0,
              "ticks": ""
             }
            },
            "type": "scattermap"
           }
          ],
          "scattermapbox": [
           {
            "marker": {
             "colorbar": {
              "outlinewidth": 0,
              "ticks": ""
             }
            },
            "type": "scattermapbox"
           }
          ],
          "scatterpolar": [
           {
            "marker": {
             "colorbar": {
              "outlinewidth": 0,
              "ticks": ""
             }
            },
            "type": "scatterpolar"
           }
          ],
          "scatterpolargl": [
           {
            "marker": {
             "colorbar": {
              "outlinewidth": 0,
              "ticks": ""
             }
            },
            "type": "scatterpolargl"
           }
          ],
          "scatterternary": [
           {
            "marker": {
             "colorbar": {
              "outlinewidth": 0,
              "ticks": ""
             }
            },
            "type": "scatterternary"
           }
          ],
          "surface": [
           {
            "colorbar": {
             "outlinewidth": 0,
             "ticks": ""
            },
            "colorscale": [
             [
              0,
              "#0d0887"
             ],
             [
              0.1111111111111111,
              "#46039f"
             ],
             [
              0.2222222222222222,
              "#7201a8"
             ],
             [
              0.3333333333333333,
              "#9c179e"
             ],
             [
              0.4444444444444444,
              "#bd3786"
             ],
             [
              0.5555555555555556,
              "#d8576b"
             ],
             [
              0.6666666666666666,
              "#ed7953"
             ],
             [
              0.7777777777777778,
              "#fb9f3a"
             ],
             [
              0.8888888888888888,
              "#fdca26"
             ],
             [
              1,
              "#f0f921"
             ]
            ],
            "type": "surface"
           }
          ],
          "table": [
           {
            "cells": {
             "fill": {
              "color": "#EBF0F8"
             },
             "line": {
              "color": "white"
             }
            },
            "header": {
             "fill": {
              "color": "#C8D4E3"
             },
             "line": {
              "color": "white"
             }
            },
            "type": "table"
           }
          ]
         },
         "layout": {
          "annotationdefaults": {
           "arrowcolor": "#2a3f5f",
           "arrowhead": 0,
           "arrowwidth": 1
          },
          "autotypenumbers": "strict",
          "coloraxis": {
           "colorbar": {
            "outlinewidth": 0,
            "ticks": ""
           }
          },
          "colorscale": {
           "diverging": [
            [
             0,
             "#8e0152"
            ],
            [
             0.1,
             "#c51b7d"
            ],
            [
             0.2,
             "#de77ae"
            ],
            [
             0.3,
             "#f1b6da"
            ],
            [
             0.4,
             "#fde0ef"
            ],
            [
             0.5,
             "#f7f7f7"
            ],
            [
             0.6,
             "#e6f5d0"
            ],
            [
             0.7,
             "#b8e186"
            ],
            [
             0.8,
             "#7fbc41"
            ],
            [
             0.9,
             "#4d9221"
            ],
            [
             1,
             "#276419"
            ]
           ],
           "sequential": [
            [
             0,
             "#0d0887"
            ],
            [
             0.1111111111111111,
             "#46039f"
            ],
            [
             0.2222222222222222,
             "#7201a8"
            ],
            [
             0.3333333333333333,
             "#9c179e"
            ],
            [
             0.4444444444444444,
             "#bd3786"
            ],
            [
             0.5555555555555556,
             "#d8576b"
            ],
            [
             0.6666666666666666,
             "#ed7953"
            ],
            [
             0.7777777777777778,
             "#fb9f3a"
            ],
            [
             0.8888888888888888,
             "#fdca26"
            ],
            [
             1,
             "#f0f921"
            ]
           ],
           "sequentialminus": [
            [
             0,
             "#0d0887"
            ],
            [
             0.1111111111111111,
             "#46039f"
            ],
            [
             0.2222222222222222,
             "#7201a8"
            ],
            [
             0.3333333333333333,
             "#9c179e"
            ],
            [
             0.4444444444444444,
             "#bd3786"
            ],
            [
             0.5555555555555556,
             "#d8576b"
            ],
            [
             0.6666666666666666,
             "#ed7953"
            ],
            [
             0.7777777777777778,
             "#fb9f3a"
            ],
            [
             0.8888888888888888,
             "#fdca26"
            ],
            [
             1,
             "#f0f921"
            ]
           ]
          },
          "colorway": [
           "#636efa",
           "#EF553B",
           "#00cc96",
           "#ab63fa",
           "#FFA15A",
           "#19d3f3",
           "#FF6692",
           "#B6E880",
           "#FF97FF",
           "#FECB52"
          ],
          "font": {
           "color": "#2a3f5f"
          },
          "geo": {
           "bgcolor": "white",
           "lakecolor": "white",
           "landcolor": "#E5ECF6",
           "showlakes": true,
           "showland": true,
           "subunitcolor": "white"
          },
          "hoverlabel": {
           "align": "left"
          },
          "hovermode": "closest",
          "mapbox": {
           "style": "light"
          },
          "paper_bgcolor": "white",
          "plot_bgcolor": "#E5ECF6",
          "polar": {
           "angularaxis": {
            "gridcolor": "white",
            "linecolor": "white",
            "ticks": ""
           },
           "bgcolor": "#E5ECF6",
           "radialaxis": {
            "gridcolor": "white",
            "linecolor": "white",
            "ticks": ""
           }
          },
          "scene": {
           "xaxis": {
            "backgroundcolor": "#E5ECF6",
            "gridcolor": "white",
            "gridwidth": 2,
            "linecolor": "white",
            "showbackground": true,
            "ticks": "",
            "zerolinecolor": "white"
           },
           "yaxis": {
            "backgroundcolor": "#E5ECF6",
            "gridcolor": "white",
            "gridwidth": 2,
            "linecolor": "white",
            "showbackground": true,
            "ticks": "",
            "zerolinecolor": "white"
           },
           "zaxis": {
            "backgroundcolor": "#E5ECF6",
            "gridcolor": "white",
            "gridwidth": 2,
            "linecolor": "white",
            "showbackground": true,
            "ticks": "",
            "zerolinecolor": "white"
           }
          },
          "shapedefaults": {
           "line": {
            "color": "#2a3f5f"
           }
          },
          "ternary": {
           "aaxis": {
            "gridcolor": "white",
            "linecolor": "white",
            "ticks": ""
           },
           "baxis": {
            "gridcolor": "white",
            "linecolor": "white",
            "ticks": ""
           },
           "bgcolor": "#E5ECF6",
           "caxis": {
            "gridcolor": "white",
            "linecolor": "white",
            "ticks": ""
           }
          },
          "title": {
           "x": 0.05
          },
          "xaxis": {
           "automargin": true,
           "gridcolor": "white",
           "linecolor": "white",
           "ticks": "",
           "title": {
            "standoff": 15
           },
           "zerolinecolor": "white",
           "zerolinewidth": 2
          },
          "yaxis": {
           "automargin": true,
           "gridcolor": "white",
           "linecolor": "white",
           "ticks": "",
           "title": {
            "standoff": 15
           },
           "zerolinecolor": "white",
           "zerolinewidth": 2
          }
         }
        },
        "title": {
         "text": "Expected Points per Game Week"
        },
        "xaxis": {
         "anchor": "y",
         "domain": [
          0,
          1
         ],
         "title": {
          "text": "Game Week"
         }
        },
        "yaxis": {
         "anchor": "x",
         "domain": [
          0,
          1
         ],
         "title": {
          "text": "Expected Points"
         }
        }
       }
      }
     },
     "metadata": {},
     "output_type": "display_data"
    }
   ],
   "source": [
    "fig = px.line(weekly_scores, x='gameweek', y='expected_points', color='team', markers=True,\n",
    "              title=\"Expected Points per Game Week\",\n",
    "              labels={\"expected_points\": \"Expected Points\", \"gameweek\": \"Game Week\"})\n",
    "\n",
    "fig.show()"
   ]
  },
  {
   "cell_type": "code",
   "execution_count": 41,
   "metadata": {},
   "outputs": [
    {
     "data": {
      "application/vnd.plotly.v1+json": {
       "config": {
        "plotlyServerURL": "https://plot.ly"
       },
       "data": [
        {
         "line": {
          "color": "blue"
         },
         "mode": "lines+markers",
         "name": "Arsenal",
         "opacity": 1,
         "type": "scatter",
         "visible": true,
         "x": {
          "bdata": "AAAAAAAAOUAAAAAAAAA6QAAAAAAAADtAAAAAAAAAPEAAAAAAAAA9QAAAAAAAAD5AAAAAAAAAP0AAAAAAAABAQAAAAAAAgEBAAAAAAAAAQUAAAAAAAIBBQAAAAAAAAEJAAAAAAACAQkAAAAAAAABDQA==",
          "dtype": "f8"
         },
         "y": {
          "bdata": "lB4ezynhIUAbicSwTmMhQPiore1IeBpATNGJ+RYGHUDKY0zWlSgbQAE/5cJakB1Aq5SXW9b5G0DQWfJdgLwfQKiLIlFPUiFA2OKrVzeoGkBqK2yicXsbQPLcdev8xBRAmY3JA1/KG0DUEIyz6mQiQA==",
          "dtype": "f8"
         }
        },
        {
         "line": {
          "color": "gray"
         },
         "mode": "lines+markers",
         "name": "Aston Villa",
         "opacity": 0.3,
         "type": "scatter",
         "visible": true,
         "x": {
          "bdata": "AAAAAAAAOUAAAAAAAAA6QAAAAAAAADtAAAAAAAAAPEAAAAAAAAA+QAAAAAAAAD9AAAAAAAAAQEAAAAAAAIBAQAAAAAAAAEFAAAAAAACAQUAAAAAAAABCQAAAAAAAgEJAAAAAAAAAQ0A=",
          "dtype": "f8"
         },
         "y": {
          "bdata": "pDFURxblOEB4/BjuIVcOQMJFlR/j+wxAeZXD00JJEkCYMYA4YFUTQOOfz/ErfjNAEO9L1T6/HEAADmtppDwQQFSRVDbM5gNAcp03voE2E0BlbbatqX8NQO/bj8s6gxJATBvWr1mEEkA=",
          "dtype": "f8"
         }
        },
        {
         "line": {
          "color": "gray"
         },
         "mode": "lines+markers",
         "name": "Bournemouth",
         "opacity": 0.3,
         "type": "scatter",
         "visible": true,
         "x": {
          "bdata": "AAAAAAAAOUAAAAAAAAA6QAAAAAAAADtAAAAAAAAAPEAAAAAAAAA9QAAAAAAAAD5AAAAAAAAAP0AAAAAAAABAQAAAAAAAgEBAAAAAAAAAQUAAAAAAAIBBQAAAAAAAAEJAAAAAAACAQkAAAAAAAABDQA==",
          "dtype": "f8"
         },
         "y": {
          "bdata": "PZdfeMRNHkDI5z9omm0bQNVH1zRwxxVAC2gYB9/5EkAIlCfZ0kkXQHN1BPb/oh1AvcVLdl5yGECmDUANkLEVQBO0r4aQDRFAg7KUSA4mF0B/f/1AlGcxQEtsmmHwexdATsOkePgCCUDHBB7UEHAeQA==",
          "dtype": "f8"
         }
        },
        {
         "line": {
          "color": "gray"
         },
         "mode": "lines+markers",
         "name": "Brentford",
         "opacity": 0.3,
         "type": "scatter",
         "visible": true,
         "x": {
          "bdata": "AAAAAAAAOUAAAAAAAAA6QAAAAAAAADtAAAAAAAAAPEAAAAAAAAA9QAAAAAAAAD5AAAAAAAAAP0AAAAAAAABAQAAAAAAAgEBAAAAAAAAAQUAAAAAAAIBBQAAAAAAAAEJAAAAAAACAQkAAAAAAAABDQA==",
          "dtype": "f8"
         },
         "y": {
          "bdata": "Kkpl7RVWFkCYswHNPrQaQMBRwEvOWxVAEKo1hd5QFUAJuzH2GhUOQK2f7Oq3ljJAW5UIEV3gMkAv0Plsu+IwQGUOAYCx6RVA+gs3CGEKM0Aaqb7dGh4VQMkxcbzxIxpAF45J36aPE0DCHeI1A04XQA==",
          "dtype": "f8"
         }
        },
        {
         "line": {
          "color": "gray"
         },
         "mode": "lines+markers",
         "name": "Brighton",
         "opacity": 0.3,
         "type": "scatter",
         "visible": true,
         "x": {
          "bdata": "AAAAAAAAOUAAAAAAAAA6QAAAAAAAADtAAAAAAAAAPEAAAAAAAAA9QAAAAAAAAD5AAAAAAAAAP0AAAAAAAABAQAAAAAAAgEBAAAAAAAAAQUAAAAAAAIBBQAAAAAAAAEJAAAAAAACAQkAAAAAAAABDQA==",
          "dtype": "f8"
         },
         "y": {
          "bdata": "/Zz6l8xRMkAXpXbhL+QZQEwunS31AA5AT8hxlrMdEUCe1TggSTUxQKJ+HxYfcxJAal+lWvwQCkAX4Ro7VIkZQFC45zXSFxBAecGYicyOFUD5AW7X0ZYMQHfzpHc3ThRANr9SjWWVMUA4hXyZ3VoMQA==",
          "dtype": "f8"
         }
        },
        {
         "line": {
          "color": "gray"
         },
         "mode": "lines+markers",
         "name": "Chelsea",
         "opacity": 0.3,
         "type": "scatter",
         "visible": true,
         "x": {
          "bdata": "AAAAAAAAOUAAAAAAAAA6QAAAAAAAADtAAAAAAAAAPEAAAAAAAAA9QAAAAAAAAD5AAAAAAAAAP0AAAAAAAABAQAAAAAAAgEBAAAAAAAAAQUAAAAAAAIBBQAAAAAAAAEJAAAAAAACAQkAAAAAAAABDQA==",
          "dtype": "f8"
         },
         "y": {
          "bdata": "0mXp8zGoGUDMlL2yLmcZQPgRu7G7ciJAzdP5iyWzIUDia1q7vo8GQDUsCmK8kBlA3p85sfkxGUDbciy6WCEhQBCzUIPePhdAxMGQRiOTGkDwrjSRwzwRQP6OlZLeVxRAzSjIwCRFG0AID2ti3t0VQA==",
          "dtype": "f8"
         }
        },
        {
         "line": {
          "color": "gray"
         },
         "mode": "lines+markers",
         "name": "Crystal Palace",
         "opacity": 0.3,
         "type": "scatter",
         "visible": true,
         "x": {
          "bdata": "AAAAAAAAOUAAAAAAAAA6QAAAAAAAADtAAAAAAAAAPEAAAAAAAAA+QAAAAAAAAD9AAAAAAAAAQEAAAAAAAIBAQAAAAAAAAEFAAAAAAACAQUAAAAAAAABCQAAAAAAAgEJAAAAAAAAAQ0A=",
          "dtype": "f8"
         },
         "y": {
          "bdata": "e9GMmz2bFkAzoO8Gx1ATQNqW+pGH8xZA4ZVyupjYHEAIuA4HF34dQA1NSdy7UxdAULDP4WkgMkDiY6t0jMgzQP7c6d2lcTFAGDb3UnoJNEAaIk+V46gSQMpq1YGYthpAb7UJol4bMkA=",
          "dtype": "f8"
         }
        },
        {
         "line": {
          "color": "gray"
         },
         "mode": "lines+markers",
         "name": "Everton",
         "opacity": 0.3,
         "type": "scatter",
         "visible": true,
         "x": {
          "bdata": "AAAAAAAAOEAAAAAAAAA5QAAAAAAAADpAAAAAAAAAO0AAAAAAAAA8QAAAAAAAAD1AAAAAAAAAPkAAAAAAAAA/QAAAAAAAAEBAAAAAAACAQEAAAAAAAABBQAAAAAAAgEFAAAAAAAAAQkAAAAAAAIBCQAAAAAAAAENA",
          "dtype": "f8"
         },
         "y": {
          "bdata": "GsoVf1F1MUCVvGF1mb0IQGSAokTl6RBA9+UJUzeuMkAFtlbZmWMSQN5xohsjXxNA+XSc48McMUBWFlk7K/0wQAClamFlUTJAWy5jl594MUArCxvUg6YxQPmbkHN3mxZAehPPU5uHMkCr5namzgcZQDaCyVh14jFA",
          "dtype": "f8"
         }
        },
        {
         "line": {
          "color": "gray"
         },
         "mode": "lines+markers",
         "name": "Fulham",
         "opacity": 0.3,
         "type": "scatter",
         "visible": true,
         "x": {
          "bdata": "AAAAAAAAOUAAAAAAAAA6QAAAAAAAADtAAAAAAAAAPEAAAAAAAAA9QAAAAAAAAD5AAAAAAAAAP0AAAAAAAABAQAAAAAAAgEBAAAAAAAAAQUAAAAAAAIBBQAAAAAAAAEJAAAAAAACAQkAAAAAAAABDQA==",
          "dtype": "f8"
         },
         "y": {
          "bdata": "feT1vtqQM0A0iP0TPN4QQJP5mKpO1BZA0+9lHXaHE0ATogErJ8ESQH6aHMaIBTFAiP+GIMEPMkCiipNK9HkOQJFnPlJs5jJAQCyjoaMzHED8gzI4ysQSQKOGZBM9GBVAoqczLr6LEkCVGShNk6gIQA==",
          "dtype": "f8"
         }
        },
        {
         "line": {
          "color": "gray"
         },
         "mode": "lines+markers",
         "name": "Ipswich Town",
         "opacity": 0.3,
         "type": "scatter",
         "visible": true,
         "x": {
          "bdata": "AAAAAAAAOUAAAAAAAAA6QAAAAAAAADtAAAAAAAAAPEAAAAAAAAA9QAAAAAAAAD5AAAAAAAAAP0AAAAAAAABAQAAAAAAAgEBAAAAAAAAAQUAAAAAAAIBBQAAAAAAAAEJAAAAAAACAQkAAAAAAAABDQA==",
          "dtype": "f8"
         },
         "y": {
          "bdata": "nhvl4UCnMUAKSEf/WJ0xQLnTSTF9wzFAbUd3LGMdMUCJft6zULAxQEPof5GNGTFA82BXPF8UEEBib+et2LIwQCUBv6a3LzBA8BHvn8jkMEBq0xxO0w8JQKa1MRpwCTJAq0YgBzT4EECGLwAkdAkOQA==",
          "dtype": "f8"
         }
        },
        {
         "line": {
          "color": "gray"
         },
         "mode": "lines+markers",
         "name": "Leicester City",
         "opacity": 0.3,
         "type": "scatter",
         "visible": true,
         "x": {
          "bdata": "AAAAAAAAOUAAAAAAAAA6QAAAAAAAADtAAAAAAAAAPEAAAAAAAAA9QAAAAAAAAD5AAAAAAAAAP0AAAAAAAABAQAAAAAAAgEBAAAAAAAAAQUAAAAAAAIBBQAAAAAAAAEJAAAAAAACAQkAAAAAAAABDQA==",
          "dtype": "f8"
         },
         "y": {
          "bdata": "gL2YcHwxMED7l/5c7jAyQCwEW/bkgwtAgI3+XAbGMEDxB0jOxFMyQNcT+sUKVTBAuFLI/StZMUDRZF0Qqg8yQDhC9gjGmDBAlK/MYIC4DUB1dOlMvR4XQHuifML3YDFAvKGObIwJFEDsfCOEZSkxQA==",
          "dtype": "f8"
         }
        },
        {
         "line": {
          "color": "gray"
         },
         "mode": "lines+markers",
         "name": "Liverpool",
         "opacity": 0.3,
         "type": "scatter",
         "visible": true,
         "x": {
          "bdata": "AAAAAAAAOEAAAAAAAAA5QAAAAAAAADpAAAAAAAAAO0AAAAAAAAA8QAAAAAAAAD5AAAAAAAAAP0AAAAAAAABAQAAAAAAAgEBAAAAAAAAAQUAAAAAAAIBBQAAAAAAAAEJAAAAAAACAQkAAAAAAAABDQA==",
          "dtype": "f8"
         },
         "y": {
          "bdata": "yDlP1HGmGkB8eC5hzBgvQJLY3CdCJhJAVRpKcwLBGUCb5mwCEBkjQEqZaQiPfBxADZ2WDDrZGUBfPTHFrdwgQDYNLuFceiFAYLjXqgxMHECUc7rcOHEWQC4l0BugzQ9AX/gv0n4IHEDiSKYRRtsYQA==",
          "dtype": "f8"
         }
        },
        {
         "line": {
          "color": "gray"
         },
         "mode": "lines+markers",
         "name": "Manchester City",
         "opacity": 0.3,
         "type": "scatter",
         "visible": true,
         "x": {
          "bdata": "AAAAAAAAOUAAAAAAAAA6QAAAAAAAADtAAAAAAAAAPEAAAAAAAAA9QAAAAAAAAD5AAAAAAAAAP0AAAAAAAABAQAAAAAAAgEBAAAAAAAAAQUAAAAAAAIBBQAAAAAAAAEJAAAAAAACAQkAAAAAAAABDQA==",
          "dtype": "f8"
         },
         "y": {
          "bdata": "BPIkmPC4GUDd+V2ZfTcUQAhFt7Jp1RlAAcnb2XKAGEAN7unSKCQeQNFgnQ0piCJASfNBESpfG0ANPeOr4NMYQEPOzOarohpAoCJIFfNkHkCVcYvL+xAhQFSNJcfqKyJAXqkudhGfGUDIyW0NXtIZQA==",
          "dtype": "f8"
         }
        },
        {
         "line": {
          "color": "gray"
         },
         "mode": "lines+markers",
         "name": "Manchester Utd",
         "opacity": 0.3,
         "type": "scatter",
         "visible": true,
         "x": {
          "bdata": "AAAAAAAAOUAAAAAAAAA6QAAAAAAAADtAAAAAAAAAPEAAAAAAAAA9QAAAAAAAAD5AAAAAAAAAP0AAAAAAAABAQAAAAAAAgEBAAAAAAAAAQUAAAAAAAIBBQAAAAAAAAEJAAAAAAACAQkAAAAAAAABDQA==",
          "dtype": "f8"
         },
         "y": {
          "bdata": "q7fgZehPDkDhs6GwjjQSQLyIOH6kNBpA4jBFK7YhMUA3Z8rnqZIYQDzgLJsawjJAex+L2L/JMUDPyI25yE8yQFbD53o/pBdA1oGIqtd/MkDwEi0kDiIRQNUHGudnxBZAgzE7YxcPMkBzSV3LCuQzQA==",
          "dtype": "f8"
         }
        },
        {
         "line": {
          "color": "gray"
         },
         "mode": "lines+markers",
         "name": "Newcastle Utd",
         "opacity": 0.3,
         "type": "scatter",
         "visible": true,
         "x": {
          "bdata": "AAAAAAAAOUAAAAAAAAA6QAAAAAAAADtAAAAAAAAAPEAAAAAAAAA+QAAAAAAAAD9AAAAAAAAAQEAAAAAAAIBAQAAAAAAAAEFAAAAAAACAQUAAAAAAAABCQAAAAAAAgEJAAAAAAAAAQ0A=",
          "dtype": "f8"
         },
         "y": {
          "bdata": "BuLsKflsC0D/Z0NIo2wWQDMzwNMWZzJACyRtXJr0GkDYeDatXbEZQFey8FNXAB9AfiALQBhcGUDeHt9sn2oXQD8qJZ9lISBA/92BEYzUF0Cft8THQ/sTQAK9/MMhnwRAXL8p/MHyGEA=",
          "dtype": "f8"
         }
        },
        {
         "line": {
          "color": "gray"
         },
         "mode": "lines+markers",
         "name": "Nott'ham Forest",
         "opacity": 0.3,
         "type": "scatter",
         "visible": true,
         "x": {
          "bdata": "AAAAAAAAOUAAAAAAAAA6QAAAAAAAADtAAAAAAAAAPEAAAAAAAAA9QAAAAAAAAD5AAAAAAAAAP0AAAAAAAABAQAAAAAAAgEBAAAAAAAAAQUAAAAAAAIBBQAAAAAAAAEJAAAAAAACAQkAAAAAAAABDQA==",
          "dtype": "f8"
         },
         "y": {
          "bdata": "ymPrhkJgEkBM5BAr6iUPQP53vuzqkARAfZOjXJmSCkA4OnEnoVYaQOaD8GEg1BVAqL1TD8/VE0CGFqW2j+wVQBIjFWeFnhFAikjBRLzaFUDVdxmLguAPQOLGQQgjBR1Abp+5ARb+FkAmJsl3Lq0QQA==",
          "dtype": "f8"
         }
        },
        {
         "line": {
          "color": "gray"
         },
         "mode": "lines+markers",
         "name": "Southampton",
         "opacity": 0.3,
         "type": "scatter",
         "visible": true,
         "x": {
          "bdata": "AAAAAAAAOUAAAAAAAAA6QAAAAAAAADtAAAAAAAAAPEAAAAAAAAA9QAAAAAAAAD5AAAAAAAAAP0AAAAAAAABAQAAAAAAAgEBAAAAAAAAAQUAAAAAAAIBBQAAAAAAAAEJAAAAAAACAQkAAAAAAAABDQA==",
          "dtype": "f8"
         },
         "y": {
          "bdata": "SmeA7BjoMED9jnde8bExQF1G1fiXQTBAB3JJi0TlL0D1K/t9z9IJQDwVjJNY7jBAYd+OerWpMEARFl59UWYxQAynPyLnijFAEZvuWFhHMUBEM0XPonQLQLfkNa6ZKDBAVqU/RtuCBEDoV/Ho8cQvQA==",
          "dtype": "f8"
         }
        },
        {
         "line": {
          "color": "gray"
         },
         "mode": "lines+markers",
         "name": "Tottenham",
         "opacity": 0.3,
         "type": "scatter",
         "visible": true,
         "x": {
          "bdata": "AAAAAAAAOUAAAAAAAAA6QAAAAAAAADtAAAAAAAAAPEAAAAAAAAA9QAAAAAAAAD5AAAAAAAAAP0AAAAAAAABAQAAAAAAAgEBAAAAAAAAAQUAAAAAAAIBBQAAAAAAAAEJAAAAAAACAQkAAAAAAAABDQA==",
          "dtype": "f8"
         },
         "y": {
          "bdata": "CQlPUqOSF0B6eM8e+pQcQBD5/QYZgDJABmL8VTvcM0B+OdEOxOkzQBA1KYhK4zJAWLBGWkrJIEDp8xIvuOoZQMPosUx0JzRA0ixIxgT5MUCrZ1nZYwoZQLq4Mq+P7hJAhNX24ttcNEBfFh++w1cYQA==",
          "dtype": "f8"
         }
        },
        {
         "line": {
          "color": "gray"
         },
         "mode": "lines+markers",
         "name": "West Ham",
         "opacity": 0.3,
         "type": "scatter",
         "visible": true,
         "x": {
          "bdata": "AAAAAAAAOUAAAAAAAAA6QAAAAAAAADtAAAAAAAAAPEAAAAAAAAA9QAAAAAAAAD5AAAAAAAAAP0AAAAAAAABAQAAAAAAAgEBAAAAAAAAAQUAAAAAAAIBBQAAAAAAAAEJAAAAAAACAQkAAAAAAAABDQA==",
          "dtype": "f8"
         },
         "y": {
          "bdata": "um52OEqCEUBxT2rQwW8wQOCBUNJGkhlAxWkUfwZVMkDxcPJx7p4QQN0splBTxxNAPr4ODlmDMkAir4UAPfEwQB25Xs+yJhxAKKfe3o0dM0B/+PbyE8kOQPzaohyNRA9AYbDZ2erJMkDjrhTiAdwWQA==",
          "dtype": "f8"
         }
        },
        {
         "line": {
          "color": "gray"
         },
         "mode": "lines+markers",
         "name": "Wolves",
         "opacity": 0.3,
         "type": "scatter",
         "visible": true,
         "x": {
          "bdata": "AAAAAAAAOUAAAAAAAAA6QAAAAAAAADtAAAAAAAAAPEAAAAAAAAA9QAAAAAAAAD5AAAAAAAAAP0AAAAAAAABAQAAAAAAAgEBAAAAAAAAAQUAAAAAAAIBBQAAAAAAAAEJAAAAAAACAQkAAAAAAAABDQA==",
          "dtype": "f8"
         },
         "y": {
          "bdata": "9jfRCMO8MEB8nFy29b0xQOO+UjJytjJAPtbo2gMjEUDFal65IyQYQMxkkCjDOBNAUB/VXtUPFUDf0fFBDq0LQGqjqabxagxA3CqupX+GF0CvKONHCMAwQEMguP5hQTNAfwklekq5MUAC2IPkwPQyQA==",
          "dtype": "f8"
         }
        }
       ],
       "layout": {
        "template": {
         "data": {
          "bar": [
           {
            "error_x": {
             "color": "#2a3f5f"
            },
            "error_y": {
             "color": "#2a3f5f"
            },
            "marker": {
             "line": {
              "color": "#E5ECF6",
              "width": 0.5
             },
             "pattern": {
              "fillmode": "overlay",
              "size": 10,
              "solidity": 0.2
             }
            },
            "type": "bar"
           }
          ],
          "barpolar": [
           {
            "marker": {
             "line": {
              "color": "#E5ECF6",
              "width": 0.5
             },
             "pattern": {
              "fillmode": "overlay",
              "size": 10,
              "solidity": 0.2
             }
            },
            "type": "barpolar"
           }
          ],
          "carpet": [
           {
            "aaxis": {
             "endlinecolor": "#2a3f5f",
             "gridcolor": "white",
             "linecolor": "white",
             "minorgridcolor": "white",
             "startlinecolor": "#2a3f5f"
            },
            "baxis": {
             "endlinecolor": "#2a3f5f",
             "gridcolor": "white",
             "linecolor": "white",
             "minorgridcolor": "white",
             "startlinecolor": "#2a3f5f"
            },
            "type": "carpet"
           }
          ],
          "choropleth": [
           {
            "colorbar": {
             "outlinewidth": 0,
             "ticks": ""
            },
            "type": "choropleth"
           }
          ],
          "contour": [
           {
            "colorbar": {
             "outlinewidth": 0,
             "ticks": ""
            },
            "colorscale": [
             [
              0,
              "#0d0887"
             ],
             [
              0.1111111111111111,
              "#46039f"
             ],
             [
              0.2222222222222222,
              "#7201a8"
             ],
             [
              0.3333333333333333,
              "#9c179e"
             ],
             [
              0.4444444444444444,
              "#bd3786"
             ],
             [
              0.5555555555555556,
              "#d8576b"
             ],
             [
              0.6666666666666666,
              "#ed7953"
             ],
             [
              0.7777777777777778,
              "#fb9f3a"
             ],
             [
              0.8888888888888888,
              "#fdca26"
             ],
             [
              1,
              "#f0f921"
             ]
            ],
            "type": "contour"
           }
          ],
          "contourcarpet": [
           {
            "colorbar": {
             "outlinewidth": 0,
             "ticks": ""
            },
            "type": "contourcarpet"
           }
          ],
          "heatmap": [
           {
            "colorbar": {
             "outlinewidth": 0,
             "ticks": ""
            },
            "colorscale": [
             [
              0,
              "#0d0887"
             ],
             [
              0.1111111111111111,
              "#46039f"
             ],
             [
              0.2222222222222222,
              "#7201a8"
             ],
             [
              0.3333333333333333,
              "#9c179e"
             ],
             [
              0.4444444444444444,
              "#bd3786"
             ],
             [
              0.5555555555555556,
              "#d8576b"
             ],
             [
              0.6666666666666666,
              "#ed7953"
             ],
             [
              0.7777777777777778,
              "#fb9f3a"
             ],
             [
              0.8888888888888888,
              "#fdca26"
             ],
             [
              1,
              "#f0f921"
             ]
            ],
            "type": "heatmap"
           }
          ],
          "histogram": [
           {
            "marker": {
             "pattern": {
              "fillmode": "overlay",
              "size": 10,
              "solidity": 0.2
             }
            },
            "type": "histogram"
           }
          ],
          "histogram2d": [
           {
            "colorbar": {
             "outlinewidth": 0,
             "ticks": ""
            },
            "colorscale": [
             [
              0,
              "#0d0887"
             ],
             [
              0.1111111111111111,
              "#46039f"
             ],
             [
              0.2222222222222222,
              "#7201a8"
             ],
             [
              0.3333333333333333,
              "#9c179e"
             ],
             [
              0.4444444444444444,
              "#bd3786"
             ],
             [
              0.5555555555555556,
              "#d8576b"
             ],
             [
              0.6666666666666666,
              "#ed7953"
             ],
             [
              0.7777777777777778,
              "#fb9f3a"
             ],
             [
              0.8888888888888888,
              "#fdca26"
             ],
             [
              1,
              "#f0f921"
             ]
            ],
            "type": "histogram2d"
           }
          ],
          "histogram2dcontour": [
           {
            "colorbar": {
             "outlinewidth": 0,
             "ticks": ""
            },
            "colorscale": [
             [
              0,
              "#0d0887"
             ],
             [
              0.1111111111111111,
              "#46039f"
             ],
             [
              0.2222222222222222,
              "#7201a8"
             ],
             [
              0.3333333333333333,
              "#9c179e"
             ],
             [
              0.4444444444444444,
              "#bd3786"
             ],
             [
              0.5555555555555556,
              "#d8576b"
             ],
             [
              0.6666666666666666,
              "#ed7953"
             ],
             [
              0.7777777777777778,
              "#fb9f3a"
             ],
             [
              0.8888888888888888,
              "#fdca26"
             ],
             [
              1,
              "#f0f921"
             ]
            ],
            "type": "histogram2dcontour"
           }
          ],
          "mesh3d": [
           {
            "colorbar": {
             "outlinewidth": 0,
             "ticks": ""
            },
            "type": "mesh3d"
           }
          ],
          "parcoords": [
           {
            "line": {
             "colorbar": {
              "outlinewidth": 0,
              "ticks": ""
             }
            },
            "type": "parcoords"
           }
          ],
          "pie": [
           {
            "automargin": true,
            "type": "pie"
           }
          ],
          "scatter": [
           {
            "fillpattern": {
             "fillmode": "overlay",
             "size": 10,
             "solidity": 0.2
            },
            "type": "scatter"
           }
          ],
          "scatter3d": [
           {
            "line": {
             "colorbar": {
              "outlinewidth": 0,
              "ticks": ""
             }
            },
            "marker": {
             "colorbar": {
              "outlinewidth": 0,
              "ticks": ""
             }
            },
            "type": "scatter3d"
           }
          ],
          "scattercarpet": [
           {
            "marker": {
             "colorbar": {
              "outlinewidth": 0,
              "ticks": ""
             }
            },
            "type": "scattercarpet"
           }
          ],
          "scattergeo": [
           {
            "marker": {
             "colorbar": {
              "outlinewidth": 0,
              "ticks": ""
             }
            },
            "type": "scattergeo"
           }
          ],
          "scattergl": [
           {
            "marker": {
             "colorbar": {
              "outlinewidth": 0,
              "ticks": ""
             }
            },
            "type": "scattergl"
           }
          ],
          "scattermap": [
           {
            "marker": {
             "colorbar": {
              "outlinewidth": 0,
              "ticks": ""
             }
            },
            "type": "scattermap"
           }
          ],
          "scattermapbox": [
           {
            "marker": {
             "colorbar": {
              "outlinewidth": 0,
              "ticks": ""
             }
            },
            "type": "scattermapbox"
           }
          ],
          "scatterpolar": [
           {
            "marker": {
             "colorbar": {
              "outlinewidth": 0,
              "ticks": ""
             }
            },
            "type": "scatterpolar"
           }
          ],
          "scatterpolargl": [
           {
            "marker": {
             "colorbar": {
              "outlinewidth": 0,
              "ticks": ""
             }
            },
            "type": "scatterpolargl"
           }
          ],
          "scatterternary": [
           {
            "marker": {
             "colorbar": {
              "outlinewidth": 0,
              "ticks": ""
             }
            },
            "type": "scatterternary"
           }
          ],
          "surface": [
           {
            "colorbar": {
             "outlinewidth": 0,
             "ticks": ""
            },
            "colorscale": [
             [
              0,
              "#0d0887"
             ],
             [
              0.1111111111111111,
              "#46039f"
             ],
             [
              0.2222222222222222,
              "#7201a8"
             ],
             [
              0.3333333333333333,
              "#9c179e"
             ],
             [
              0.4444444444444444,
              "#bd3786"
             ],
             [
              0.5555555555555556,
              "#d8576b"
             ],
             [
              0.6666666666666666,
              "#ed7953"
             ],
             [
              0.7777777777777778,
              "#fb9f3a"
             ],
             [
              0.8888888888888888,
              "#fdca26"
             ],
             [
              1,
              "#f0f921"
             ]
            ],
            "type": "surface"
           }
          ],
          "table": [
           {
            "cells": {
             "fill": {
              "color": "#EBF0F8"
             },
             "line": {
              "color": "white"
             }
            },
            "header": {
             "fill": {
              "color": "#C8D4E3"
             },
             "line": {
              "color": "white"
             }
            },
            "type": "table"
           }
          ]
         },
         "layout": {
          "annotationdefaults": {
           "arrowcolor": "#2a3f5f",
           "arrowhead": 0,
           "arrowwidth": 1
          },
          "autotypenumbers": "strict",
          "coloraxis": {
           "colorbar": {
            "outlinewidth": 0,
            "ticks": ""
           }
          },
          "colorscale": {
           "diverging": [
            [
             0,
             "#8e0152"
            ],
            [
             0.1,
             "#c51b7d"
            ],
            [
             0.2,
             "#de77ae"
            ],
            [
             0.3,
             "#f1b6da"
            ],
            [
             0.4,
             "#fde0ef"
            ],
            [
             0.5,
             "#f7f7f7"
            ],
            [
             0.6,
             "#e6f5d0"
            ],
            [
             0.7,
             "#b8e186"
            ],
            [
             0.8,
             "#7fbc41"
            ],
            [
             0.9,
             "#4d9221"
            ],
            [
             1,
             "#276419"
            ]
           ],
           "sequential": [
            [
             0,
             "#0d0887"
            ],
            [
             0.1111111111111111,
             "#46039f"
            ],
            [
             0.2222222222222222,
             "#7201a8"
            ],
            [
             0.3333333333333333,
             "#9c179e"
            ],
            [
             0.4444444444444444,
             "#bd3786"
            ],
            [
             0.5555555555555556,
             "#d8576b"
            ],
            [
             0.6666666666666666,
             "#ed7953"
            ],
            [
             0.7777777777777778,
             "#fb9f3a"
            ],
            [
             0.8888888888888888,
             "#fdca26"
            ],
            [
             1,
             "#f0f921"
            ]
           ],
           "sequentialminus": [
            [
             0,
             "#0d0887"
            ],
            [
             0.1111111111111111,
             "#46039f"
            ],
            [
             0.2222222222222222,
             "#7201a8"
            ],
            [
             0.3333333333333333,
             "#9c179e"
            ],
            [
             0.4444444444444444,
             "#bd3786"
            ],
            [
             0.5555555555555556,
             "#d8576b"
            ],
            [
             0.6666666666666666,
             "#ed7953"
            ],
            [
             0.7777777777777778,
             "#fb9f3a"
            ],
            [
             0.8888888888888888,
             "#fdca26"
            ],
            [
             1,
             "#f0f921"
            ]
           ]
          },
          "colorway": [
           "#636efa",
           "#EF553B",
           "#00cc96",
           "#ab63fa",
           "#FFA15A",
           "#19d3f3",
           "#FF6692",
           "#B6E880",
           "#FF97FF",
           "#FECB52"
          ],
          "font": {
           "color": "#2a3f5f"
          },
          "geo": {
           "bgcolor": "white",
           "lakecolor": "white",
           "landcolor": "#E5ECF6",
           "showlakes": true,
           "showland": true,
           "subunitcolor": "white"
          },
          "hoverlabel": {
           "align": "left"
          },
          "hovermode": "closest",
          "mapbox": {
           "style": "light"
          },
          "paper_bgcolor": "white",
          "plot_bgcolor": "#E5ECF6",
          "polar": {
           "angularaxis": {
            "gridcolor": "white",
            "linecolor": "white",
            "ticks": ""
           },
           "bgcolor": "#E5ECF6",
           "radialaxis": {
            "gridcolor": "white",
            "linecolor": "white",
            "ticks": ""
           }
          },
          "scene": {
           "xaxis": {
            "backgroundcolor": "#E5ECF6",
            "gridcolor": "white",
            "gridwidth": 2,
            "linecolor": "white",
            "showbackground": true,
            "ticks": "",
            "zerolinecolor": "white"
           },
           "yaxis": {
            "backgroundcolor": "#E5ECF6",
            "gridcolor": "white",
            "gridwidth": 2,
            "linecolor": "white",
            "showbackground": true,
            "ticks": "",
            "zerolinecolor": "white"
           },
           "zaxis": {
            "backgroundcolor": "#E5ECF6",
            "gridcolor": "white",
            "gridwidth": 2,
            "linecolor": "white",
            "showbackground": true,
            "ticks": "",
            "zerolinecolor": "white"
           }
          },
          "shapedefaults": {
           "line": {
            "color": "#2a3f5f"
           }
          },
          "ternary": {
           "aaxis": {
            "gridcolor": "white",
            "linecolor": "white",
            "ticks": ""
           },
           "baxis": {
            "gridcolor": "white",
            "linecolor": "white",
            "ticks": ""
           },
           "bgcolor": "#E5ECF6",
           "caxis": {
            "gridcolor": "white",
            "linecolor": "white",
            "ticks": ""
           }
          },
          "title": {
           "x": 0.05
          },
          "xaxis": {
           "automargin": true,
           "gridcolor": "white",
           "linecolor": "white",
           "ticks": "",
           "title": {
            "standoff": 15
           },
           "zerolinecolor": "white",
           "zerolinewidth": 2
          },
          "yaxis": {
           "automargin": true,
           "gridcolor": "white",
           "linecolor": "white",
           "ticks": "",
           "title": {
            "standoff": 15
           },
           "zerolinecolor": "white",
           "zerolinewidth": 2
          }
         }
        },
        "title": {
         "text": "Expected Points per Game Week - Arsenal"
        },
        "updatemenus": [
         {
          "buttons": [
           {
            "args": [
             {
              "line": [
               {
                "color": "blue"
               },
               {
                "color": "gray"
               },
               {
                "color": "gray"
               },
               {
                "color": "gray"
               },
               {
                "color": "gray"
               },
               {
                "color": "gray"
               },
               {
                "color": "gray"
               },
               {
                "color": "gray"
               },
               {
                "color": "gray"
               },
               {
                "color": "gray"
               },
               {
                "color": "gray"
               },
               {
                "color": "gray"
               },
               {
                "color": "gray"
               },
               {
                "color": "gray"
               },
               {
                "color": "gray"
               },
               {
                "color": "gray"
               },
               {
                "color": "gray"
               },
               {
                "color": "gray"
               },
               {
                "color": "gray"
               },
               {
                "color": "gray"
               }
              ],
              "opacity": [
               1,
               0.3,
               0.3,
               0.3,
               0.3,
               0.3,
               0.3,
               0.3,
               0.3,
               0.3,
               0.3,
               0.3,
               0.3,
               0.3,
               0.3,
               0.3,
               0.3,
               0.3,
               0.3,
               0.3
              ]
             },
             {
              "title": "Expected Points per Game Week - Arsenal"
             }
            ],
            "label": "Arsenal",
            "method": "update"
           },
           {
            "args": [
             {
              "line": [
               {
                "color": "gray"
               },
               {
                "color": "blue"
               },
               {
                "color": "gray"
               },
               {
                "color": "gray"
               },
               {
                "color": "gray"
               },
               {
                "color": "gray"
               },
               {
                "color": "gray"
               },
               {
                "color": "gray"
               },
               {
                "color": "gray"
               },
               {
                "color": "gray"
               },
               {
                "color": "gray"
               },
               {
                "color": "gray"
               },
               {
                "color": "gray"
               },
               {
                "color": "gray"
               },
               {
                "color": "gray"
               },
               {
                "color": "gray"
               },
               {
                "color": "gray"
               },
               {
                "color": "gray"
               },
               {
                "color": "gray"
               },
               {
                "color": "gray"
               }
              ],
              "opacity": [
               0.3,
               1,
               0.3,
               0.3,
               0.3,
               0.3,
               0.3,
               0.3,
               0.3,
               0.3,
               0.3,
               0.3,
               0.3,
               0.3,
               0.3,
               0.3,
               0.3,
               0.3,
               0.3,
               0.3
              ]
             },
             {
              "title": "Expected Points per Game Week - Aston Villa"
             }
            ],
            "label": "Aston Villa",
            "method": "update"
           },
           {
            "args": [
             {
              "line": [
               {
                "color": "gray"
               },
               {
                "color": "gray"
               },
               {
                "color": "blue"
               },
               {
                "color": "gray"
               },
               {
                "color": "gray"
               },
               {
                "color": "gray"
               },
               {
                "color": "gray"
               },
               {
                "color": "gray"
               },
               {
                "color": "gray"
               },
               {
                "color": "gray"
               },
               {
                "color": "gray"
               },
               {
                "color": "gray"
               },
               {
                "color": "gray"
               },
               {
                "color": "gray"
               },
               {
                "color": "gray"
               },
               {
                "color": "gray"
               },
               {
                "color": "gray"
               },
               {
                "color": "gray"
               },
               {
                "color": "gray"
               },
               {
                "color": "gray"
               }
              ],
              "opacity": [
               0.3,
               0.3,
               1,
               0.3,
               0.3,
               0.3,
               0.3,
               0.3,
               0.3,
               0.3,
               0.3,
               0.3,
               0.3,
               0.3,
               0.3,
               0.3,
               0.3,
               0.3,
               0.3,
               0.3
              ]
             },
             {
              "title": "Expected Points per Game Week - Bournemouth"
             }
            ],
            "label": "Bournemouth",
            "method": "update"
           },
           {
            "args": [
             {
              "line": [
               {
                "color": "gray"
               },
               {
                "color": "gray"
               },
               {
                "color": "gray"
               },
               {
                "color": "blue"
               },
               {
                "color": "gray"
               },
               {
                "color": "gray"
               },
               {
                "color": "gray"
               },
               {
                "color": "gray"
               },
               {
                "color": "gray"
               },
               {
                "color": "gray"
               },
               {
                "color": "gray"
               },
               {
                "color": "gray"
               },
               {
                "color": "gray"
               },
               {
                "color": "gray"
               },
               {
                "color": "gray"
               },
               {
                "color": "gray"
               },
               {
                "color": "gray"
               },
               {
                "color": "gray"
               },
               {
                "color": "gray"
               },
               {
                "color": "gray"
               }
              ],
              "opacity": [
               0.3,
               0.3,
               0.3,
               1,
               0.3,
               0.3,
               0.3,
               0.3,
               0.3,
               0.3,
               0.3,
               0.3,
               0.3,
               0.3,
               0.3,
               0.3,
               0.3,
               0.3,
               0.3,
               0.3
              ]
             },
             {
              "title": "Expected Points per Game Week - Brentford"
             }
            ],
            "label": "Brentford",
            "method": "update"
           },
           {
            "args": [
             {
              "line": [
               {
                "color": "gray"
               },
               {
                "color": "gray"
               },
               {
                "color": "gray"
               },
               {
                "color": "gray"
               },
               {
                "color": "blue"
               },
               {
                "color": "gray"
               },
               {
                "color": "gray"
               },
               {
                "color": "gray"
               },
               {
                "color": "gray"
               },
               {
                "color": "gray"
               },
               {
                "color": "gray"
               },
               {
                "color": "gray"
               },
               {
                "color": "gray"
               },
               {
                "color": "gray"
               },
               {
                "color": "gray"
               },
               {
                "color": "gray"
               },
               {
                "color": "gray"
               },
               {
                "color": "gray"
               },
               {
                "color": "gray"
               },
               {
                "color": "gray"
               }
              ],
              "opacity": [
               0.3,
               0.3,
               0.3,
               0.3,
               1,
               0.3,
               0.3,
               0.3,
               0.3,
               0.3,
               0.3,
               0.3,
               0.3,
               0.3,
               0.3,
               0.3,
               0.3,
               0.3,
               0.3,
               0.3
              ]
             },
             {
              "title": "Expected Points per Game Week - Brighton"
             }
            ],
            "label": "Brighton",
            "method": "update"
           },
           {
            "args": [
             {
              "line": [
               {
                "color": "gray"
               },
               {
                "color": "gray"
               },
               {
                "color": "gray"
               },
               {
                "color": "gray"
               },
               {
                "color": "gray"
               },
               {
                "color": "blue"
               },
               {
                "color": "gray"
               },
               {
                "color": "gray"
               },
               {
                "color": "gray"
               },
               {
                "color": "gray"
               },
               {
                "color": "gray"
               },
               {
                "color": "gray"
               },
               {
                "color": "gray"
               },
               {
                "color": "gray"
               },
               {
                "color": "gray"
               },
               {
                "color": "gray"
               },
               {
                "color": "gray"
               },
               {
                "color": "gray"
               },
               {
                "color": "gray"
               },
               {
                "color": "gray"
               }
              ],
              "opacity": [
               0.3,
               0.3,
               0.3,
               0.3,
               0.3,
               1,
               0.3,
               0.3,
               0.3,
               0.3,
               0.3,
               0.3,
               0.3,
               0.3,
               0.3,
               0.3,
               0.3,
               0.3,
               0.3,
               0.3
              ]
             },
             {
              "title": "Expected Points per Game Week - Chelsea"
             }
            ],
            "label": "Chelsea",
            "method": "update"
           },
           {
            "args": [
             {
              "line": [
               {
                "color": "gray"
               },
               {
                "color": "gray"
               },
               {
                "color": "gray"
               },
               {
                "color": "gray"
               },
               {
                "color": "gray"
               },
               {
                "color": "gray"
               },
               {
                "color": "blue"
               },
               {
                "color": "gray"
               },
               {
                "color": "gray"
               },
               {
                "color": "gray"
               },
               {
                "color": "gray"
               },
               {
                "color": "gray"
               },
               {
                "color": "gray"
               },
               {
                "color": "gray"
               },
               {
                "color": "gray"
               },
               {
                "color": "gray"
               },
               {
                "color": "gray"
               },
               {
                "color": "gray"
               },
               {
                "color": "gray"
               },
               {
                "color": "gray"
               }
              ],
              "opacity": [
               0.3,
               0.3,
               0.3,
               0.3,
               0.3,
               0.3,
               1,
               0.3,
               0.3,
               0.3,
               0.3,
               0.3,
               0.3,
               0.3,
               0.3,
               0.3,
               0.3,
               0.3,
               0.3,
               0.3
              ]
             },
             {
              "title": "Expected Points per Game Week - Crystal Palace"
             }
            ],
            "label": "Crystal Palace",
            "method": "update"
           },
           {
            "args": [
             {
              "line": [
               {
                "color": "gray"
               },
               {
                "color": "gray"
               },
               {
                "color": "gray"
               },
               {
                "color": "gray"
               },
               {
                "color": "gray"
               },
               {
                "color": "gray"
               },
               {
                "color": "gray"
               },
               {
                "color": "blue"
               },
               {
                "color": "gray"
               },
               {
                "color": "gray"
               },
               {
                "color": "gray"
               },
               {
                "color": "gray"
               },
               {
                "color": "gray"
               },
               {
                "color": "gray"
               },
               {
                "color": "gray"
               },
               {
                "color": "gray"
               },
               {
                "color": "gray"
               },
               {
                "color": "gray"
               },
               {
                "color": "gray"
               },
               {
                "color": "gray"
               }
              ],
              "opacity": [
               0.3,
               0.3,
               0.3,
               0.3,
               0.3,
               0.3,
               0.3,
               1,
               0.3,
               0.3,
               0.3,
               0.3,
               0.3,
               0.3,
               0.3,
               0.3,
               0.3,
               0.3,
               0.3,
               0.3
              ]
             },
             {
              "title": "Expected Points per Game Week - Everton"
             }
            ],
            "label": "Everton",
            "method": "update"
           },
           {
            "args": [
             {
              "line": [
               {
                "color": "gray"
               },
               {
                "color": "gray"
               },
               {
                "color": "gray"
               },
               {
                "color": "gray"
               },
               {
                "color": "gray"
               },
               {
                "color": "gray"
               },
               {
                "color": "gray"
               },
               {
                "color": "gray"
               },
               {
                "color": "blue"
               },
               {
                "color": "gray"
               },
               {
                "color": "gray"
               },
               {
                "color": "gray"
               },
               {
                "color": "gray"
               },
               {
                "color": "gray"
               },
               {
                "color": "gray"
               },
               {
                "color": "gray"
               },
               {
                "color": "gray"
               },
               {
                "color": "gray"
               },
               {
                "color": "gray"
               },
               {
                "color": "gray"
               }
              ],
              "opacity": [
               0.3,
               0.3,
               0.3,
               0.3,
               0.3,
               0.3,
               0.3,
               0.3,
               1,
               0.3,
               0.3,
               0.3,
               0.3,
               0.3,
               0.3,
               0.3,
               0.3,
               0.3,
               0.3,
               0.3
              ]
             },
             {
              "title": "Expected Points per Game Week - Fulham"
             }
            ],
            "label": "Fulham",
            "method": "update"
           },
           {
            "args": [
             {
              "line": [
               {
                "color": "gray"
               },
               {
                "color": "gray"
               },
               {
                "color": "gray"
               },
               {
                "color": "gray"
               },
               {
                "color": "gray"
               },
               {
                "color": "gray"
               },
               {
                "color": "gray"
               },
               {
                "color": "gray"
               },
               {
                "color": "gray"
               },
               {
                "color": "blue"
               },
               {
                "color": "gray"
               },
               {
                "color": "gray"
               },
               {
                "color": "gray"
               },
               {
                "color": "gray"
               },
               {
                "color": "gray"
               },
               {
                "color": "gray"
               },
               {
                "color": "gray"
               },
               {
                "color": "gray"
               },
               {
                "color": "gray"
               },
               {
                "color": "gray"
               }
              ],
              "opacity": [
               0.3,
               0.3,
               0.3,
               0.3,
               0.3,
               0.3,
               0.3,
               0.3,
               0.3,
               1,
               0.3,
               0.3,
               0.3,
               0.3,
               0.3,
               0.3,
               0.3,
               0.3,
               0.3,
               0.3
              ]
             },
             {
              "title": "Expected Points per Game Week - Ipswich Town"
             }
            ],
            "label": "Ipswich Town",
            "method": "update"
           },
           {
            "args": [
             {
              "line": [
               {
                "color": "gray"
               },
               {
                "color": "gray"
               },
               {
                "color": "gray"
               },
               {
                "color": "gray"
               },
               {
                "color": "gray"
               },
               {
                "color": "gray"
               },
               {
                "color": "gray"
               },
               {
                "color": "gray"
               },
               {
                "color": "gray"
               },
               {
                "color": "gray"
               },
               {
                "color": "blue"
               },
               {
                "color": "gray"
               },
               {
                "color": "gray"
               },
               {
                "color": "gray"
               },
               {
                "color": "gray"
               },
               {
                "color": "gray"
               },
               {
                "color": "gray"
               },
               {
                "color": "gray"
               },
               {
                "color": "gray"
               },
               {
                "color": "gray"
               }
              ],
              "opacity": [
               0.3,
               0.3,
               0.3,
               0.3,
               0.3,
               0.3,
               0.3,
               0.3,
               0.3,
               0.3,
               1,
               0.3,
               0.3,
               0.3,
               0.3,
               0.3,
               0.3,
               0.3,
               0.3,
               0.3
              ]
             },
             {
              "title": "Expected Points per Game Week - Leicester City"
             }
            ],
            "label": "Leicester City",
            "method": "update"
           },
           {
            "args": [
             {
              "line": [
               {
                "color": "gray"
               },
               {
                "color": "gray"
               },
               {
                "color": "gray"
               },
               {
                "color": "gray"
               },
               {
                "color": "gray"
               },
               {
                "color": "gray"
               },
               {
                "color": "gray"
               },
               {
                "color": "gray"
               },
               {
                "color": "gray"
               },
               {
                "color": "gray"
               },
               {
                "color": "gray"
               },
               {
                "color": "blue"
               },
               {
                "color": "gray"
               },
               {
                "color": "gray"
               },
               {
                "color": "gray"
               },
               {
                "color": "gray"
               },
               {
                "color": "gray"
               },
               {
                "color": "gray"
               },
               {
                "color": "gray"
               },
               {
                "color": "gray"
               }
              ],
              "opacity": [
               0.3,
               0.3,
               0.3,
               0.3,
               0.3,
               0.3,
               0.3,
               0.3,
               0.3,
               0.3,
               0.3,
               1,
               0.3,
               0.3,
               0.3,
               0.3,
               0.3,
               0.3,
               0.3,
               0.3
              ]
             },
             {
              "title": "Expected Points per Game Week - Liverpool"
             }
            ],
            "label": "Liverpool",
            "method": "update"
           },
           {
            "args": [
             {
              "line": [
               {
                "color": "gray"
               },
               {
                "color": "gray"
               },
               {
                "color": "gray"
               },
               {
                "color": "gray"
               },
               {
                "color": "gray"
               },
               {
                "color": "gray"
               },
               {
                "color": "gray"
               },
               {
                "color": "gray"
               },
               {
                "color": "gray"
               },
               {
                "color": "gray"
               },
               {
                "color": "gray"
               },
               {
                "color": "gray"
               },
               {
                "color": "blue"
               },
               {
                "color": "gray"
               },
               {
                "color": "gray"
               },
               {
                "color": "gray"
               },
               {
                "color": "gray"
               },
               {
                "color": "gray"
               },
               {
                "color": "gray"
               },
               {
                "color": "gray"
               }
              ],
              "opacity": [
               0.3,
               0.3,
               0.3,
               0.3,
               0.3,
               0.3,
               0.3,
               0.3,
               0.3,
               0.3,
               0.3,
               0.3,
               1,
               0.3,
               0.3,
               0.3,
               0.3,
               0.3,
               0.3,
               0.3
              ]
             },
             {
              "title": "Expected Points per Game Week - Manchester City"
             }
            ],
            "label": "Manchester City",
            "method": "update"
           },
           {
            "args": [
             {
              "line": [
               {
                "color": "gray"
               },
               {
                "color": "gray"
               },
               {
                "color": "gray"
               },
               {
                "color": "gray"
               },
               {
                "color": "gray"
               },
               {
                "color": "gray"
               },
               {
                "color": "gray"
               },
               {
                "color": "gray"
               },
               {
                "color": "gray"
               },
               {
                "color": "gray"
               },
               {
                "color": "gray"
               },
               {
                "color": "gray"
               },
               {
                "color": "gray"
               },
               {
                "color": "blue"
               },
               {
                "color": "gray"
               },
               {
                "color": "gray"
               },
               {
                "color": "gray"
               },
               {
                "color": "gray"
               },
               {
                "color": "gray"
               },
               {
                "color": "gray"
               }
              ],
              "opacity": [
               0.3,
               0.3,
               0.3,
               0.3,
               0.3,
               0.3,
               0.3,
               0.3,
               0.3,
               0.3,
               0.3,
               0.3,
               0.3,
               1,
               0.3,
               0.3,
               0.3,
               0.3,
               0.3,
               0.3
              ]
             },
             {
              "title": "Expected Points per Game Week - Manchester Utd"
             }
            ],
            "label": "Manchester Utd",
            "method": "update"
           },
           {
            "args": [
             {
              "line": [
               {
                "color": "gray"
               },
               {
                "color": "gray"
               },
               {
                "color": "gray"
               },
               {
                "color": "gray"
               },
               {
                "color": "gray"
               },
               {
                "color": "gray"
               },
               {
                "color": "gray"
               },
               {
                "color": "gray"
               },
               {
                "color": "gray"
               },
               {
                "color": "gray"
               },
               {
                "color": "gray"
               },
               {
                "color": "gray"
               },
               {
                "color": "gray"
               },
               {
                "color": "gray"
               },
               {
                "color": "blue"
               },
               {
                "color": "gray"
               },
               {
                "color": "gray"
               },
               {
                "color": "gray"
               },
               {
                "color": "gray"
               },
               {
                "color": "gray"
               }
              ],
              "opacity": [
               0.3,
               0.3,
               0.3,
               0.3,
               0.3,
               0.3,
               0.3,
               0.3,
               0.3,
               0.3,
               0.3,
               0.3,
               0.3,
               0.3,
               1,
               0.3,
               0.3,
               0.3,
               0.3,
               0.3
              ]
             },
             {
              "title": "Expected Points per Game Week - Newcastle Utd"
             }
            ],
            "label": "Newcastle Utd",
            "method": "update"
           },
           {
            "args": [
             {
              "line": [
               {
                "color": "gray"
               },
               {
                "color": "gray"
               },
               {
                "color": "gray"
               },
               {
                "color": "gray"
               },
               {
                "color": "gray"
               },
               {
                "color": "gray"
               },
               {
                "color": "gray"
               },
               {
                "color": "gray"
               },
               {
                "color": "gray"
               },
               {
                "color": "gray"
               },
               {
                "color": "gray"
               },
               {
                "color": "gray"
               },
               {
                "color": "gray"
               },
               {
                "color": "gray"
               },
               {
                "color": "gray"
               },
               {
                "color": "blue"
               },
               {
                "color": "gray"
               },
               {
                "color": "gray"
               },
               {
                "color": "gray"
               },
               {
                "color": "gray"
               }
              ],
              "opacity": [
               0.3,
               0.3,
               0.3,
               0.3,
               0.3,
               0.3,
               0.3,
               0.3,
               0.3,
               0.3,
               0.3,
               0.3,
               0.3,
               0.3,
               0.3,
               1,
               0.3,
               0.3,
               0.3,
               0.3
              ]
             },
             {
              "title": "Expected Points per Game Week - Nott'ham Forest"
             }
            ],
            "label": "Nott'ham Forest",
            "method": "update"
           },
           {
            "args": [
             {
              "line": [
               {
                "color": "gray"
               },
               {
                "color": "gray"
               },
               {
                "color": "gray"
               },
               {
                "color": "gray"
               },
               {
                "color": "gray"
               },
               {
                "color": "gray"
               },
               {
                "color": "gray"
               },
               {
                "color": "gray"
               },
               {
                "color": "gray"
               },
               {
                "color": "gray"
               },
               {
                "color": "gray"
               },
               {
                "color": "gray"
               },
               {
                "color": "gray"
               },
               {
                "color": "gray"
               },
               {
                "color": "gray"
               },
               {
                "color": "gray"
               },
               {
                "color": "blue"
               },
               {
                "color": "gray"
               },
               {
                "color": "gray"
               },
               {
                "color": "gray"
               }
              ],
              "opacity": [
               0.3,
               0.3,
               0.3,
               0.3,
               0.3,
               0.3,
               0.3,
               0.3,
               0.3,
               0.3,
               0.3,
               0.3,
               0.3,
               0.3,
               0.3,
               0.3,
               1,
               0.3,
               0.3,
               0.3
              ]
             },
             {
              "title": "Expected Points per Game Week - Southampton"
             }
            ],
            "label": "Southampton",
            "method": "update"
           },
           {
            "args": [
             {
              "line": [
               {
                "color": "gray"
               },
               {
                "color": "gray"
               },
               {
                "color": "gray"
               },
               {
                "color": "gray"
               },
               {
                "color": "gray"
               },
               {
                "color": "gray"
               },
               {
                "color": "gray"
               },
               {
                "color": "gray"
               },
               {
                "color": "gray"
               },
               {
                "color": "gray"
               },
               {
                "color": "gray"
               },
               {
                "color": "gray"
               },
               {
                "color": "gray"
               },
               {
                "color": "gray"
               },
               {
                "color": "gray"
               },
               {
                "color": "gray"
               },
               {
                "color": "gray"
               },
               {
                "color": "blue"
               },
               {
                "color": "gray"
               },
               {
                "color": "gray"
               }
              ],
              "opacity": [
               0.3,
               0.3,
               0.3,
               0.3,
               0.3,
               0.3,
               0.3,
               0.3,
               0.3,
               0.3,
               0.3,
               0.3,
               0.3,
               0.3,
               0.3,
               0.3,
               0.3,
               1,
               0.3,
               0.3
              ]
             },
             {
              "title": "Expected Points per Game Week - Tottenham"
             }
            ],
            "label": "Tottenham",
            "method": "update"
           },
           {
            "args": [
             {
              "line": [
               {
                "color": "gray"
               },
               {
                "color": "gray"
               },
               {
                "color": "gray"
               },
               {
                "color": "gray"
               },
               {
                "color": "gray"
               },
               {
                "color": "gray"
               },
               {
                "color": "gray"
               },
               {
                "color": "gray"
               },
               {
                "color": "gray"
               },
               {
                "color": "gray"
               },
               {
                "color": "gray"
               },
               {
                "color": "gray"
               },
               {
                "color": "gray"
               },
               {
                "color": "gray"
               },
               {
                "color": "gray"
               },
               {
                "color": "gray"
               },
               {
                "color": "gray"
               },
               {
                "color": "gray"
               },
               {
                "color": "blue"
               },
               {
                "color": "gray"
               }
              ],
              "opacity": [
               0.3,
               0.3,
               0.3,
               0.3,
               0.3,
               0.3,
               0.3,
               0.3,
               0.3,
               0.3,
               0.3,
               0.3,
               0.3,
               0.3,
               0.3,
               0.3,
               0.3,
               0.3,
               1,
               0.3
              ]
             },
             {
              "title": "Expected Points per Game Week - West Ham"
             }
            ],
            "label": "West Ham",
            "method": "update"
           },
           {
            "args": [
             {
              "line": [
               {
                "color": "gray"
               },
               {
                "color": "gray"
               },
               {
                "color": "gray"
               },
               {
                "color": "gray"
               },
               {
                "color": "gray"
               },
               {
                "color": "gray"
               },
               {
                "color": "gray"
               },
               {
                "color": "gray"
               },
               {
                "color": "gray"
               },
               {
                "color": "gray"
               },
               {
                "color": "gray"
               },
               {
                "color": "gray"
               },
               {
                "color": "gray"
               },
               {
                "color": "gray"
               },
               {
                "color": "gray"
               },
               {
                "color": "gray"
               },
               {
                "color": "gray"
               },
               {
                "color": "gray"
               },
               {
                "color": "gray"
               },
               {
                "color": "blue"
               }
              ],
              "opacity": [
               0.3,
               0.3,
               0.3,
               0.3,
               0.3,
               0.3,
               0.3,
               0.3,
               0.3,
               0.3,
               0.3,
               0.3,
               0.3,
               0.3,
               0.3,
               0.3,
               0.3,
               0.3,
               0.3,
               1
              ]
             },
             {
              "title": "Expected Points per Game Week - Wolves"
             }
            ],
            "label": "Wolves",
            "method": "update"
           }
          ],
          "direction": "down",
          "showactive": true
         }
        ],
        "xaxis": {
         "title": {
          "text": "Game Week"
         }
        },
        "yaxis": {
         "title": {
          "text": "Expected Points"
         }
        }
       }
      }
     },
     "metadata": {},
     "output_type": "display_data"
    }
   ],
   "source": [
    "# Get unique teams\n",
    "teams = np.sort(weekly_scores['team'].unique())\n",
    "default_team = teams[0]  # Default highlighted team\n",
    "\n",
    "# Create figure\n",
    "fig = go.Figure()\n",
    "\n",
    "for team in teams:\n",
    "    fig.add_trace(go.Scatter(\n",
    "        x=weekly_scores[weekly_scores['team'] == team]['gameweek'],\n",
    "        y=weekly_scores[weekly_scores['team'] == team]['expected_points'],\n",
    "        mode='lines+markers',\n",
    "        name=team,\n",
    "        line=dict(color='blue' if team == default_team else 'gray'),\n",
    "        opacity=1 if team == default_team else 0.3,\n",
    "        visible=True\n",
    "    ))\n",
    "\n",
    "# Create dropdown menu\n",
    "dropdown_buttons = []\n",
    "for selected_team in teams:\n",
    "    button = {\n",
    "        \"label\": selected_team,\n",
    "        \"method\": \"update\",\n",
    "        \"args\": [\n",
    "            {\n",
    "                \"opacity\": [1 if team == selected_team else 0.3 for team in teams],\n",
    "                \"line\": [dict(color=\"blue\" if team == selected_team else \"gray\") for team in teams],\n",
    "            },\n",
    "            {\"title\": f\"Expected Points per Game Week - {selected_team}\"}\n",
    "        ]\n",
    "    }\n",
    "    dropdown_buttons.append(button)\n",
    "\n",
    "# Add dropdown menu\n",
    "fig.update_layout(\n",
    "    title=f\"Expected Points per Game Week - {default_team}\",\n",
    "    xaxis_title=\"Game Week\",\n",
    "    yaxis_title=\"Expected Points\",\n",
    "    updatemenus=[{\n",
    "        \"buttons\": dropdown_buttons,\n",
    "        \"direction\": \"down\",\n",
    "        \"showactive\": True,\n",
    "    }]\n",
    ")\n",
    "\n",
    "fig.show()"
   ]
  },
  {
   "cell_type": "code",
   "execution_count": 81,
   "metadata": {},
   "outputs": [
    {
     "data": {
      "text/html": [
       "<div>\n",
       "<style scoped>\n",
       "    .dataframe tbody tr th:only-of-type {\n",
       "        vertical-align: middle;\n",
       "    }\n",
       "\n",
       "    .dataframe tbody tr th {\n",
       "        vertical-align: top;\n",
       "    }\n",
       "\n",
       "    .dataframe thead th {\n",
       "        text-align: right;\n",
       "    }\n",
       "</style>\n",
       "<table border=\"1\" class=\"dataframe\">\n",
       "  <thead>\n",
       "    <tr style=\"text-align: right;\">\n",
       "      <th></th>\n",
       "      <th>gameweek</th>\n",
       "      <th>team</th>\n",
       "      <th>expected_points</th>\n",
       "      <th>3_week_rolling_sum_xp</th>\n",
       "    </tr>\n",
       "  </thead>\n",
       "  <tbody>\n",
       "    <tr>\n",
       "      <th>0</th>\n",
       "      <td>24.0</td>\n",
       "      <td>Everton</td>\n",
       "      <td>17.458275</td>\n",
       "      <td>NaN</td>\n",
       "    </tr>\n",
       "    <tr>\n",
       "      <th>1</th>\n",
       "      <td>24.0</td>\n",
       "      <td>Liverpool</td>\n",
       "      <td>6.662544</td>\n",
       "      <td>NaN</td>\n",
       "    </tr>\n",
       "    <tr>\n",
       "      <th>2</th>\n",
       "      <td>25.0</td>\n",
       "      <td>Arsenal</td>\n",
       "      <td>8.939772</td>\n",
       "      <td>NaN</td>\n",
       "    </tr>\n",
       "    <tr>\n",
       "      <th>3</th>\n",
       "      <td>25.0</td>\n",
       "      <td>Aston Villa</td>\n",
       "      <td>24.894871</td>\n",
       "      <td>NaN</td>\n",
       "    </tr>\n",
       "    <tr>\n",
       "      <th>4</th>\n",
       "      <td>25.0</td>\n",
       "      <td>Bournemouth</td>\n",
       "      <td>7.575945</td>\n",
       "      <td>NaN</td>\n",
       "    </tr>\n",
       "    <tr>\n",
       "      <th>...</th>\n",
       "      <td>...</td>\n",
       "      <td>...</td>\n",
       "      <td>...</td>\n",
       "      <td>...</td>\n",
       "    </tr>\n",
       "    <tr>\n",
       "      <th>273</th>\n",
       "      <td>38.0</td>\n",
       "      <td>Nott'ham Forest</td>\n",
       "      <td>4.169123</td>\n",
       "      <td>17.172270</td>\n",
       "    </tr>\n",
       "    <tr>\n",
       "      <th>274</th>\n",
       "      <td>38.0</td>\n",
       "      <td>Southampton</td>\n",
       "      <td>15.884658</td>\n",
       "      <td>34.607148</td>\n",
       "    </tr>\n",
       "    <tr>\n",
       "      <th>275</th>\n",
       "      <td>38.0</td>\n",
       "      <td>Tottenham</td>\n",
       "      <td>6.085708</td>\n",
       "      <td>31.181408</td>\n",
       "    </tr>\n",
       "    <tr>\n",
       "      <th>276</th>\n",
       "      <td>38.0</td>\n",
       "      <td>West Ham</td>\n",
       "      <td>5.714851</td>\n",
       "      <td>28.412063</td>\n",
       "    </tr>\n",
       "    <tr>\n",
       "      <th>277</th>\n",
       "      <td>38.0</td>\n",
       "      <td>Wolves</td>\n",
       "      <td>18.956068</td>\n",
       "      <td>55.935263</td>\n",
       "    </tr>\n",
       "  </tbody>\n",
       "</table>\n",
       "<p>278 rows × 4 columns</p>\n",
       "</div>"
      ],
      "text/plain": [
       "     gameweek             team  expected_points  3_week_rolling_sum_xp\n",
       "0        24.0          Everton        17.458275                    NaN\n",
       "1        24.0        Liverpool         6.662544                    NaN\n",
       "2        25.0          Arsenal         8.939772                    NaN\n",
       "3        25.0      Aston Villa        24.894871                    NaN\n",
       "4        25.0      Bournemouth         7.575945                    NaN\n",
       "..        ...              ...              ...                    ...\n",
       "273      38.0  Nott'ham Forest         4.169123              17.172270\n",
       "274      38.0      Southampton        15.884658              34.607148\n",
       "275      38.0        Tottenham         6.085708              31.181408\n",
       "276      38.0         West Ham         5.714851              28.412063\n",
       "277      38.0           Wolves        18.956068              55.935263\n",
       "\n",
       "[278 rows x 4 columns]"
      ]
     },
     "execution_count": 81,
     "metadata": {},
     "output_type": "execute_result"
    }
   ],
   "source": [
    "weekly_scores['3_week_rolling_sum_xp'] = weekly_scores.groupby(\"team\")[\"expected_points\"].rolling(3).sum().reset_index(level=0, drop=True)\n",
    "weekly_scores"
   ]
  },
  {
   "cell_type": "code",
   "execution_count": 82,
   "metadata": {},
   "outputs": [
    {
     "data": {
      "application/vnd.plotly.v1+json": {
       "config": {
        "plotlyServerURL": "https://plot.ly"
       },
       "data": [
        {
         "line": {
          "color": "blue"
         },
         "mode": "lines+markers",
         "name": "Arsenal",
         "opacity": 1,
         "type": "scatter",
         "visible": true,
         "x": {
          "bdata": "AAAAAAAAOUAAAAAAAAA6QAAAAAAAADtAAAAAAAAAPEAAAAAAAAA9QAAAAAAAAD5AAAAAAAAAP0AAAAAAAABAQAAAAAAAgEBAAAAAAAAAQUAAAAAAAIBBQAAAAAAAAEJAAAAAAACAQkAAAAAAAABDQA==",
          "dtype": "f8"
         },
         "y": {
          "bdata": "AAAAAAAA+H8AAAAAAAD4fxa+XHtOQDhAHiMwUj+RNkCE92Bvvak0QAbdruTBbzVA3k0yvbEsNUBfyxtfrFE2QHPB81a9ljdA/tT4lVVCN0BkSRfnETI2QM16Y3kpujJAfeVqZLMCM0AM45VVTFY1QA==",
          "dtype": "f8"
         }
        },
        {
         "line": {
          "color": "gray"
         },
         "mode": "lines+markers",
         "name": "Aston Villa",
         "opacity": 0.3,
         "type": "scatter",
         "visible": true,
         "x": {
          "bdata": "AAAAAAAAOUAAAAAAAAA6QAAAAAAAADtAAAAAAAAAPEAAAAAAAAA+QAAAAAAAAD9AAAAAAAAAQEAAAAAAAIBAQAAAAAAAAEFAAAAAAACAQUAAAAAAAABCQAAAAAAAgEJAAAAAAAAAQ0A=",
          "dtype": "f8"
         },
         "y": {
          "bdata": "AAAAAAAA+H8AAAAAAAD4f/b8hHS7J0BAS1tNrWL5J0D5NAdOSg4qQKeR4LTU5TxADahCtVODP0AnX33BJL0+QN2i8KykdytADnpmIUazJkBnjh5Y3vQlQApYUbDIPCpA95YgqbTjKUA=",
          "dtype": "f8"
         }
        },
        {
         "line": {
          "color": "gray"
         },
         "mode": "lines+markers",
         "name": "Bournemouth",
         "opacity": 0.3,
         "type": "scatter",
         "visible": true,
         "x": {
          "bdata": "AAAAAAAAOUAAAAAAAAA6QAAAAAAAADtAAAAAAAAAPEAAAAAAAAA9QAAAAAAAAD5AAAAAAAAAP0AAAAAAAABAQAAAAAAAgEBAAAAAAAAAQUAAAAAAAIBBQAAAAAAAAEJAAAAAAACAQkAAAAAAAABDQA==",
          "dtype": "f8"
         },
         "y": {
          "bdata": "AAAAAAAA+H8AAAAAAAD4f7axXcWz4DNA6uULaboLMUD60EWFyAIwQGIckXWs+TFAzvNdUcxXM0A1EmSeu/EyQLvDHYW/mC9AHjpCbpfyLkAlmc70e3Q7QDNHiesTED1A/LJ4aO9mOkCutIJcX5swQA==",
          "dtype": "f8"
         }
        },
        {
         "line": {
          "color": "gray"
         },
         "mode": "lines+markers",
         "name": "Brentford",
         "opacity": 0.3,
         "type": "scatter",
         "visible": true,
         "x": {
          "bdata": "AAAAAAAAOUAAAAAAAAA6QAAAAAAAADtAAAAAAAAAPEAAAAAAAAA9QAAAAAAAAD5AAAAAAAAAP0AAAAAAAABAQAAAAAAAgEBAAAAAAAAAQUAAAAAAAIBBQAAAAAAAAEJAAAAAAACAQkAAAAAAAABDQA==",
          "dtype": "f8"
         },
         "y": {
          "bdata": "AAAAAAAA+H8AAAAAAAD4f+DTicGImTFA2ut95zpYMUCqbAcmndssQJJBAOuSrTtANLZdLdycRECbgnc06CxLQJJUAW/CnkRA4Y+YasSzREDa+aYfVMw9QLMCwy7k2j5APlpe3my0MEBoN2f0ZkAxQA==",
          "dtype": "f8"
         }
        },
        {
         "line": {
          "color": "gray"
         },
         "mode": "lines+markers",
         "name": "Brighton",
         "opacity": 0.3,
         "type": "scatter",
         "visible": true,
         "x": {
          "bdata": "AAAAAAAAOUAAAAAAAAA6QAAAAAAAADtAAAAAAAAAPEAAAAAAAAA9QAAAAAAAAD5AAAAAAAAAP0AAAAAAAABAQAAAAAAAgEBAAAAAAAAAQUAAAAAAAIBBQAAAAAAAAEJAAAAAAACAQkAAAAAAAABDQA==",
          "dtype": "f8"
         },
         "y": {
          "bdata": "AAAAAAAA+H8AAAAAAAD4fwzsCzb3ijxARoJbBy8BLUB77Yir1Dw5QFonXct9GTpANGEVcTAUOUC3h0a/eIIsQI6kKk/SVCtAcK1NffmXL0BjvZvVA/kpQPZaenY2FCxAU7wpps07OkC7jGseTzQ6QA==",
          "dtype": "f8"
         }
        },
        {
         "line": {
          "color": "gray"
         },
         "mode": "lines+markers",
         "name": "Chelsea",
         "opacity": 0.3,
         "type": "scatter",
         "visible": true,
         "x": {
          "bdata": "AAAAAAAAOUAAAAAAAAA6QAAAAAAAADtAAAAAAAAAPEAAAAAAAAA9QAAAAAAAAD5AAAAAAAAAP0AAAAAAAABAQAAAAAAAgEBAAAAAAAAAQUAAAAAAAIBBQAAAAAAAAEJAAAAAAACAQkAAAAAAAABDQA==",
          "dtype": "f8"
         },
         "y": {
          "bdata": "AAAAAAAA+H8AAAAAAAD4f6RHhwI2/TVAFtiJS7xsOEBfwEV26OQ0QHDC6rW5DzJAAoF4uEoFL0ByLOfhWUE1QCnOOGrirDRAopaOzywFNUDxiMVWscMwQOy/llrxCTBAr5kkuXE2MEC1MXJtuF4xQA==",
          "dtype": "f8"
         }
        },
        {
         "line": {
          "color": "gray"
         },
         "mode": "lines+markers",
         "name": "Crystal Palace",
         "opacity": 0.3,
         "type": "scatter",
         "visible": true,
         "x": {
          "bdata": "AAAAAAAAOUAAAAAAAAA6QAAAAAAAADtAAAAAAAAAPEAAAAAAAAA+QAAAAAAAAD9AAAAAAAAAQEAAAAAAAIBAQAAAAAAAAEFAAAAAAACAQUAAAAAAAABCQAAAAAAAgEJAAAAAAAAAQ0A=",
          "dtype": "f8"
         },
         "y": {
          "bdata": "AAAAAAAA+H8AAAAAAAD4fyLCHQ3jNzBAOzPX1DnHMUAx+d7UjVI0QL6mcueaajRAlrGlmt5UP0C7s8am8t5FQJh4MhpOrUtAfDvGUtahTEDObRqLrBJFQFFZwFhZYT9AqNjSpz1zPUA=",
          "dtype": "f8"
         }
        },
        {
         "line": {
          "color": "gray"
         },
         "mode": "lines+markers",
         "name": "Everton",
         "opacity": 0.3,
         "type": "scatter",
         "visible": true,
         "x": {
          "bdata": "AAAAAAAAOEAAAAAAAAA5QAAAAAAAADpAAAAAAAAAO0AAAAAAAAA8QAAAAAAAAD1AAAAAAAAAPkAAAAAAAAA/QAAAAAAAAEBAAAAAAACAQEAAAAAAAABBQAAAAAAAgEFAAAAAAAAAQkAAAAAAAIBCQAAAAAAAAENA",
          "dtype": "f8"
         },
         "y": {
          "bdata": "AAAAAAAA+H8AAAAAAAD4f8ah6v59xzhAor3e0mMAOkCQM4gal4E7QPAvSJDmHjxA8b7aIHONOkDjE+/y23hDQCcYMECqNUpA2HQTGphjSkBDb3RmRLhKQEEwMaQAY0RA0SJngn7qREAi9FDabHA+QK0nGysCVkVA",
          "dtype": "f8"
         }
        },
        {
         "line": {
          "color": "gray"
         },
         "mode": "lines+markers",
         "name": "Fulham",
         "opacity": 0.3,
         "type": "scatter",
         "visible": true,
         "x": {
          "bdata": "AAAAAAAAOUAAAAAAAAA6QAAAAAAAADtAAAAAAAAAPEAAAAAAAAA9QAAAAAAAAD5AAAAAAAAAP0AAAAAAAABAQAAAAAAAgEBAAAAAAAAAQUAAAAAAAIBBQAAAAAAAAEJAAAAAAACAQkAAAAAAAABDQA==",
          "dtype": "f8"
         },
         "y": {
          "bdata": "AAAAAAAA+H8AAAAAAAD4f++Em259fT1AzTj+bQCdLUC8RYD5dY4uQPd+NhiwlzpARQGy2MniQ0CtBfs3RHJDQDbsC/61YkRA9aP5w5PCPUCg07PIh6Q+QLiNTrsqBDFAIFnlvGI0LUCIHRZ0IvwpQA==",
          "dtype": "f8"
         }
        },
        {
         "line": {
          "color": "gray"
         },
         "mode": "lines+markers",
         "name": "Ipswich Town",
         "opacity": 0.3,
         "type": "scatter",
         "visible": true,
         "x": {
          "bdata": "AAAAAAAAOUAAAAAAAAA6QAAAAAAAADtAAAAAAAAAPEAAAAAAAAA9QAAAAAAAAD5AAAAAAAAAP0AAAAAAAABAQAAAAAAAgEBAAAAAAAAAQUAAAAAAAIBBQAAAAAAAAEJAAAAAAACAQkAAAAAAAABDQA==",
          "dtype": "f8"
         },
         "y": {
          "bdata": "AAAAAAAA+H8AAAAAAAD4f7AbO4kLhEpAmDGErhw/SkDYzM+ImEhKQB3X6rig80lAhB86CntnQ0Dxlz4Hv+hCQGIk3hHUc0JAPMFKeqzjSEDB1jhYPRtCQAIx8pEZCENAvmG9hXdpOUBCzXmgqwg6QA==",
          "dtype": "f8"
         }
        },
        {
         "line": {
          "color": "gray"
         },
         "mode": "lines+markers",
         "name": "Leicester City",
         "opacity": 0.3,
         "type": "scatter",
         "visible": true,
         "x": {
          "bdata": "AAAAAAAAOUAAAAAAAAA6QAAAAAAAADtAAAAAAAAAPEAAAAAAAAA9QAAAAAAAAD5AAAAAAAAAP0AAAAAAAABAQAAAAAAAgEBAAAAAAAAAQUAAAAAAAIBBQAAAAAAAAEJAAAAAAACAQkAAAAAAAABDQA==",
          "dtype": "f8"
         },
         "y": {
          "bdata": "AAAAAAAA+H8AAAAAAAD4fwBbMbZz6UJAAENkrLgzQ0D7+gjlI0VDQKRUoPhqt0lAQDcFyf0ASkCw5Q9q8N5JQOD8jQvOAEpAfZ62EsAvQ0BHNUpohRc6QIqV0CG33zpAB6jaMAorPEDq4+EwYMZDQA==",
          "dtype": "f8"
         }
        },
        {
         "line": {
          "color": "gray"
         },
         "mode": "lines+markers",
         "name": "Liverpool",
         "opacity": 0.3,
         "type": "scatter",
         "visible": true,
         "x": {
          "bdata": "AAAAAAAAOEAAAAAAAAA5QAAAAAAAADpAAAAAAAAAO0AAAAAAAAA8QAAAAAAAAD5AAAAAAAAAP0AAAAAAAABAQAAAAAAAgEBAAAAAAAAAQUAAAAAAAIBBQAAAAAAAAEJAAAAAAACAQkAAAAAAAABDQA==",
          "dtype": "f8"
         },
         "y": {
          "bdata": "AAAAAAAA+H8AAAAAAAD4f9RAoi+TvzpA+PhgVzeGOkAHMAAoWYY0QDVgI2DsGzdA44B2RvohN0BFrNgnyQM2QI5MVdbToTdAYpPlfYg+OECYkXvSf2w1QKKPXmUFqTBAop807yGYMED2lG88pTIxQA==",
          "dtype": "f8"
         }
        },
        {
         "line": {
          "color": "gray"
         },
         "mode": "lines+markers",
         "name": "Manchester City",
         "opacity": 0.3,
         "type": "scatter",
         "visible": true,
         "x": {
          "bdata": "AAAAAAAAOUAAAAAAAAA6QAAAAAAAADtAAAAAAAAAPEAAAAAAAAA9QAAAAAAAAD5AAAAAAAAAP0AAAAAAAABAQAAAAAAAgEBAAAAAAAAAQUAAAAAAAIBBQAAAAAAAAEJAAAAAAACAQkAAAAAAAABDQA==",
          "dtype": "f8"
         },
         "y": {
          "bdata": "AAAAAAAA+H8AAAAAAAD4fzqMDvl18TFA+kF8iVajMUAGP99XgR40QCweAHI77TZAvqjZP+mkN0B+/Bc211A2QKZ//KhttTNAfAv+6d92NEAE9cqkZco2QByIqg6wNzlAzCnkpjcGOEB043lEUfI1QA==",
          "dtype": "f8"
         }
        },
        {
         "line": {
          "color": "gray"
         },
         "mode": "lines+markers",
         "name": "Manchester Utd",
         "opacity": 0.3,
         "type": "scatter",
         "visible": true,
         "x": {
          "bdata": "AAAAAAAAOUAAAAAAAAA6QAAAAAAAADtAAAAAAAAAPEAAAAAAAAA9QAAAAAAAAD5AAAAAAAAAP0AAAAAAAABAQAAAAAAAgEBAAAAAAAAAQUAAAAAAAIBBQAAAAAAAAEJAAAAAAACAQkAAAAAAAABDQA==",
          "dtype": "f8"
         },
         "y": {
          "bdata": "AAAAAAAA+H8AAAAAAAD4fzpM5bCTyC1ACsD79gI8PEDg7MXEidM9QHZVMqA9BEVAw0zVdkJYRUBE5KKW0W1LQJBsaThMAUVAvh1oIVhcRUBot00Sa7E8QIdIWi11eTxANPgM5rQIPEB2fi8UHtJFQA==",
          "dtype": "f8"
         }
        },
        {
         "line": {
          "color": "gray"
         },
         "mode": "lines+markers",
         "name": "Newcastle Utd",
         "opacity": 0.3,
         "type": "scatter",
         "visible": true,
         "x": {
          "bdata": "AAAAAAAAOUAAAAAAAAA6QAAAAAAAADtAAAAAAAAAPEAAAAAAAAA+QAAAAAAAAD9AAAAAAAAAQEAAAAAAAIBAQAAAAAAAAEFAAAAAAACAQUAAAAAAAABCQAAAAAAAgEJAAAAAAAAAQ0A=",
          "dtype": "f8"
         },
         "y": {
          "bdata": "AAAAAAAA+H8AAAAAAAD4f3SpDsvebztANVbsPGa/PkBsGinWlJA/QM4TZdeT6TRA6pJMUHODNEBsvDbAw/EzQPYkzbpgQjRAVtQqr33gM0CGOuTFpgQzQA56ol2wDytAvGr2UsueK0A=",
          "dtype": "f8"
         }
        },
        {
         "line": {
          "color": "gray"
         },
         "mode": "lines+markers",
         "name": "Nott'ham Forest",
         "opacity": 0.3,
         "type": "scatter",
         "visible": true,
         "x": {
          "bdata": "AAAAAAAAOUAAAAAAAAA6QAAAAAAAADtAAAAAAAAAPEAAAAAAAAA9QAAAAAAAAD5AAAAAAAAAP0AAAAAAAABAQAAAAAAAgEBAAAAAAAAAQUAAAAAAAIBBQAAAAAAAAEJAAAAAAACAQkAAAAAAAABDQA==",
          "dtype": "f8"
         },
         "y": {
          "bdata": "AAAAAAAA+H8AAAAAAAD4f/iIaYnWHSZA8rscnVuSI0D7HxGmMfQoQO/D2RsHui5A8l4tJiQAMUAKrPSTP8svQKD7hhZysC1AEcE9seiyLkDDk7F4wbQrQNbyoyQItDBAjgjik978MEAeI3HgGSwxQA==",
          "dtype": "f8"
         }
        },
        {
         "line": {
          "color": "gray"
         },
         "mode": "lines+markers",
         "name": "Southampton",
         "opacity": 0.3,
         "type": "scatter",
         "visible": true,
         "x": {
          "bdata": "AAAAAAAAOUAAAAAAAAA6QAAAAAAAADtAAAAAAAAAPEAAAAAAAAA9QAAAAAAAAD5AAAAAAAAAP0AAAAAAAABAQAAAAAAAgEBAAAAAAAAAQUAAAAAAAIBBQAAAAAAAAEJAAAAAAACAQkAAAAAAAABDQA==",
          "dtype": "f8"
         },
         "y": {
          "bdata": "AAAAAAAA+H8AAAAAAAD4f1Ke5iHRbUlAL8d4zhXzSEBvshwXSrdBQN8ZeGSqDUJADi3t/jNpQkBXhbzFL39JQD9OFg13zUlAFixGfEgcSkBDdIvqaSBDQBiThjBDb0JAyn/mcIknNkCrQrsFt01BQA==",
          "dtype": "f8"
         }
        },
        {
         "line": {
          "color": "gray"
         },
         "mode": "lines+markers",
         "name": "Tottenham",
         "opacity": 0.3,
         "type": "scatter",
         "visible": true,
         "x": {
          "bdata": "AAAAAAAAOUAAAAAAAAA6QAAAAAAAADtAAAAAAAAAPEAAAAAAAAA9QAAAAAAAAD5AAAAAAAAAP0AAAAAAAABAQAAAAAAAgEBAAAAAAAAAQUAAAAAAAIBBQAAAAAAAAEJAAAAAAACAQkAAAAAAAABDQA==",
          "dtype": "f8"
         },
         "y": {
          "bdata": "AAAAAAAA+H8AAAAAAAD4f3GZRWMAij9AmhxXcsnARkBKyuU1DCNNQEpoe/akVE1AXOMO4tmYR0AbpYjgTuFAQPT+zMJjg0FASGlfj5NNRkDAN6gEiTFGQOs0a6hB9zxAnd0ZxRhbP0BKSUu+cC4/QA==",
          "dtype": "f8"
         }
        },
        {
         "line": {
          "color": "gray"
         },
         "mode": "lines+markers",
         "name": "West Ham",
         "opacity": 0.3,
         "type": "scatter",
         "visible": true,
         "x": {
          "bdata": "AAAAAAAAOUAAAAAAAAA6QAAAAAAAADtAAAAAAAAAPEAAAAAAAAA9QAAAAAAAAD5AAAAAAAAAP0AAAAAAAABAQAAAAAAAgEBAAAAAAAAAQUAAAAAAAIBBQAAAAAAAAEJAAAAAAACAQkAAAAAAAABDQA==",
          "dtype": "f8"
         },
         "y": {
          "bdata": "AAAAAAAA+H8AAAAAAAD4f5cLHBPmNDtA1mwJAq2UREB5JiXQU+E8QDiRuu+WbjtAseW0fumcO0BM/F5xNTNEQNMNNmEhP0VASAKeyTuMRUB+NBURXQA+QJbh0QBC3zpAz+rM+56LOkB4N/P1fGk8QA==",
          "dtype": "f8"
         }
        },
        {
         "line": {
          "color": "gray"
         },
         "mode": "lines+markers",
         "name": "Wolves",
         "opacity": 0.3,
         "type": "scatter",
         "visible": true,
         "x": {
          "bdata": "AAAAAAAAOUAAAAAAAAA6QAAAAAAAADtAAAAAAAAAPEAAAAAAAAA9QAAAAAAAAD5AAAAAAAAAP0AAAAAAAABAQAAAAAAAgEBAAAAAAAAAQUAAAAAAAIBBQAAAAAAAAEJAAAAAAACAQkAAAAAAAABDQA==",
          "dtype": "f8"
         },
         "y": {
          "bdata": "AAAAAAAA+H8AAAAAAAD4f6pJwHiVmEpAd8i0b5ReREAkj2QXPAg9QOjSa171Py5AuPswEC8bMECGNi/Ujw8rQPtskanqjShAwPL9zD/JKUDT5yNmBi86QNRpAxiF8URAOClgYFrdSkDigLCutvdLQA==",
          "dtype": "f8"
         }
        }
       ],
       "layout": {
        "template": {
         "data": {
          "bar": [
           {
            "error_x": {
             "color": "#2a3f5f"
            },
            "error_y": {
             "color": "#2a3f5f"
            },
            "marker": {
             "line": {
              "color": "#E5ECF6",
              "width": 0.5
             },
             "pattern": {
              "fillmode": "overlay",
              "size": 10,
              "solidity": 0.2
             }
            },
            "type": "bar"
           }
          ],
          "barpolar": [
           {
            "marker": {
             "line": {
              "color": "#E5ECF6",
              "width": 0.5
             },
             "pattern": {
              "fillmode": "overlay",
              "size": 10,
              "solidity": 0.2
             }
            },
            "type": "barpolar"
           }
          ],
          "carpet": [
           {
            "aaxis": {
             "endlinecolor": "#2a3f5f",
             "gridcolor": "white",
             "linecolor": "white",
             "minorgridcolor": "white",
             "startlinecolor": "#2a3f5f"
            },
            "baxis": {
             "endlinecolor": "#2a3f5f",
             "gridcolor": "white",
             "linecolor": "white",
             "minorgridcolor": "white",
             "startlinecolor": "#2a3f5f"
            },
            "type": "carpet"
           }
          ],
          "choropleth": [
           {
            "colorbar": {
             "outlinewidth": 0,
             "ticks": ""
            },
            "type": "choropleth"
           }
          ],
          "contour": [
           {
            "colorbar": {
             "outlinewidth": 0,
             "ticks": ""
            },
            "colorscale": [
             [
              0,
              "#0d0887"
             ],
             [
              0.1111111111111111,
              "#46039f"
             ],
             [
              0.2222222222222222,
              "#7201a8"
             ],
             [
              0.3333333333333333,
              "#9c179e"
             ],
             [
              0.4444444444444444,
              "#bd3786"
             ],
             [
              0.5555555555555556,
              "#d8576b"
             ],
             [
              0.6666666666666666,
              "#ed7953"
             ],
             [
              0.7777777777777778,
              "#fb9f3a"
             ],
             [
              0.8888888888888888,
              "#fdca26"
             ],
             [
              1,
              "#f0f921"
             ]
            ],
            "type": "contour"
           }
          ],
          "contourcarpet": [
           {
            "colorbar": {
             "outlinewidth": 0,
             "ticks": ""
            },
            "type": "contourcarpet"
           }
          ],
          "heatmap": [
           {
            "colorbar": {
             "outlinewidth": 0,
             "ticks": ""
            },
            "colorscale": [
             [
              0,
              "#0d0887"
             ],
             [
              0.1111111111111111,
              "#46039f"
             ],
             [
              0.2222222222222222,
              "#7201a8"
             ],
             [
              0.3333333333333333,
              "#9c179e"
             ],
             [
              0.4444444444444444,
              "#bd3786"
             ],
             [
              0.5555555555555556,
              "#d8576b"
             ],
             [
              0.6666666666666666,
              "#ed7953"
             ],
             [
              0.7777777777777778,
              "#fb9f3a"
             ],
             [
              0.8888888888888888,
              "#fdca26"
             ],
             [
              1,
              "#f0f921"
             ]
            ],
            "type": "heatmap"
           }
          ],
          "histogram": [
           {
            "marker": {
             "pattern": {
              "fillmode": "overlay",
              "size": 10,
              "solidity": 0.2
             }
            },
            "type": "histogram"
           }
          ],
          "histogram2d": [
           {
            "colorbar": {
             "outlinewidth": 0,
             "ticks": ""
            },
            "colorscale": [
             [
              0,
              "#0d0887"
             ],
             [
              0.1111111111111111,
              "#46039f"
             ],
             [
              0.2222222222222222,
              "#7201a8"
             ],
             [
              0.3333333333333333,
              "#9c179e"
             ],
             [
              0.4444444444444444,
              "#bd3786"
             ],
             [
              0.5555555555555556,
              "#d8576b"
             ],
             [
              0.6666666666666666,
              "#ed7953"
             ],
             [
              0.7777777777777778,
              "#fb9f3a"
             ],
             [
              0.8888888888888888,
              "#fdca26"
             ],
             [
              1,
              "#f0f921"
             ]
            ],
            "type": "histogram2d"
           }
          ],
          "histogram2dcontour": [
           {
            "colorbar": {
             "outlinewidth": 0,
             "ticks": ""
            },
            "colorscale": [
             [
              0,
              "#0d0887"
             ],
             [
              0.1111111111111111,
              "#46039f"
             ],
             [
              0.2222222222222222,
              "#7201a8"
             ],
             [
              0.3333333333333333,
              "#9c179e"
             ],
             [
              0.4444444444444444,
              "#bd3786"
             ],
             [
              0.5555555555555556,
              "#d8576b"
             ],
             [
              0.6666666666666666,
              "#ed7953"
             ],
             [
              0.7777777777777778,
              "#fb9f3a"
             ],
             [
              0.8888888888888888,
              "#fdca26"
             ],
             [
              1,
              "#f0f921"
             ]
            ],
            "type": "histogram2dcontour"
           }
          ],
          "mesh3d": [
           {
            "colorbar": {
             "outlinewidth": 0,
             "ticks": ""
            },
            "type": "mesh3d"
           }
          ],
          "parcoords": [
           {
            "line": {
             "colorbar": {
              "outlinewidth": 0,
              "ticks": ""
             }
            },
            "type": "parcoords"
           }
          ],
          "pie": [
           {
            "automargin": true,
            "type": "pie"
           }
          ],
          "scatter": [
           {
            "fillpattern": {
             "fillmode": "overlay",
             "size": 10,
             "solidity": 0.2
            },
            "type": "scatter"
           }
          ],
          "scatter3d": [
           {
            "line": {
             "colorbar": {
              "outlinewidth": 0,
              "ticks": ""
             }
            },
            "marker": {
             "colorbar": {
              "outlinewidth": 0,
              "ticks": ""
             }
            },
            "type": "scatter3d"
           }
          ],
          "scattercarpet": [
           {
            "marker": {
             "colorbar": {
              "outlinewidth": 0,
              "ticks": ""
             }
            },
            "type": "scattercarpet"
           }
          ],
          "scattergeo": [
           {
            "marker": {
             "colorbar": {
              "outlinewidth": 0,
              "ticks": ""
             }
            },
            "type": "scattergeo"
           }
          ],
          "scattergl": [
           {
            "marker": {
             "colorbar": {
              "outlinewidth": 0,
              "ticks": ""
             }
            },
            "type": "scattergl"
           }
          ],
          "scattermap": [
           {
            "marker": {
             "colorbar": {
              "outlinewidth": 0,
              "ticks": ""
             }
            },
            "type": "scattermap"
           }
          ],
          "scattermapbox": [
           {
            "marker": {
             "colorbar": {
              "outlinewidth": 0,
              "ticks": ""
             }
            },
            "type": "scattermapbox"
           }
          ],
          "scatterpolar": [
           {
            "marker": {
             "colorbar": {
              "outlinewidth": 0,
              "ticks": ""
             }
            },
            "type": "scatterpolar"
           }
          ],
          "scatterpolargl": [
           {
            "marker": {
             "colorbar": {
              "outlinewidth": 0,
              "ticks": ""
             }
            },
            "type": "scatterpolargl"
           }
          ],
          "scatterternary": [
           {
            "marker": {
             "colorbar": {
              "outlinewidth": 0,
              "ticks": ""
             }
            },
            "type": "scatterternary"
           }
          ],
          "surface": [
           {
            "colorbar": {
             "outlinewidth": 0,
             "ticks": ""
            },
            "colorscale": [
             [
              0,
              "#0d0887"
             ],
             [
              0.1111111111111111,
              "#46039f"
             ],
             [
              0.2222222222222222,
              "#7201a8"
             ],
             [
              0.3333333333333333,
              "#9c179e"
             ],
             [
              0.4444444444444444,
              "#bd3786"
             ],
             [
              0.5555555555555556,
              "#d8576b"
             ],
             [
              0.6666666666666666,
              "#ed7953"
             ],
             [
              0.7777777777777778,
              "#fb9f3a"
             ],
             [
              0.8888888888888888,
              "#fdca26"
             ],
             [
              1,
              "#f0f921"
             ]
            ],
            "type": "surface"
           }
          ],
          "table": [
           {
            "cells": {
             "fill": {
              "color": "#EBF0F8"
             },
             "line": {
              "color": "white"
             }
            },
            "header": {
             "fill": {
              "color": "#C8D4E3"
             },
             "line": {
              "color": "white"
             }
            },
            "type": "table"
           }
          ]
         },
         "layout": {
          "annotationdefaults": {
           "arrowcolor": "#2a3f5f",
           "arrowhead": 0,
           "arrowwidth": 1
          },
          "autotypenumbers": "strict",
          "coloraxis": {
           "colorbar": {
            "outlinewidth": 0,
            "ticks": ""
           }
          },
          "colorscale": {
           "diverging": [
            [
             0,
             "#8e0152"
            ],
            [
             0.1,
             "#c51b7d"
            ],
            [
             0.2,
             "#de77ae"
            ],
            [
             0.3,
             "#f1b6da"
            ],
            [
             0.4,
             "#fde0ef"
            ],
            [
             0.5,
             "#f7f7f7"
            ],
            [
             0.6,
             "#e6f5d0"
            ],
            [
             0.7,
             "#b8e186"
            ],
            [
             0.8,
             "#7fbc41"
            ],
            [
             0.9,
             "#4d9221"
            ],
            [
             1,
             "#276419"
            ]
           ],
           "sequential": [
            [
             0,
             "#0d0887"
            ],
            [
             0.1111111111111111,
             "#46039f"
            ],
            [
             0.2222222222222222,
             "#7201a8"
            ],
            [
             0.3333333333333333,
             "#9c179e"
            ],
            [
             0.4444444444444444,
             "#bd3786"
            ],
            [
             0.5555555555555556,
             "#d8576b"
            ],
            [
             0.6666666666666666,
             "#ed7953"
            ],
            [
             0.7777777777777778,
             "#fb9f3a"
            ],
            [
             0.8888888888888888,
             "#fdca26"
            ],
            [
             1,
             "#f0f921"
            ]
           ],
           "sequentialminus": [
            [
             0,
             "#0d0887"
            ],
            [
             0.1111111111111111,
             "#46039f"
            ],
            [
             0.2222222222222222,
             "#7201a8"
            ],
            [
             0.3333333333333333,
             "#9c179e"
            ],
            [
             0.4444444444444444,
             "#bd3786"
            ],
            [
             0.5555555555555556,
             "#d8576b"
            ],
            [
             0.6666666666666666,
             "#ed7953"
            ],
            [
             0.7777777777777778,
             "#fb9f3a"
            ],
            [
             0.8888888888888888,
             "#fdca26"
            ],
            [
             1,
             "#f0f921"
            ]
           ]
          },
          "colorway": [
           "#636efa",
           "#EF553B",
           "#00cc96",
           "#ab63fa",
           "#FFA15A",
           "#19d3f3",
           "#FF6692",
           "#B6E880",
           "#FF97FF",
           "#FECB52"
          ],
          "font": {
           "color": "#2a3f5f"
          },
          "geo": {
           "bgcolor": "white",
           "lakecolor": "white",
           "landcolor": "#E5ECF6",
           "showlakes": true,
           "showland": true,
           "subunitcolor": "white"
          },
          "hoverlabel": {
           "align": "left"
          },
          "hovermode": "closest",
          "mapbox": {
           "style": "light"
          },
          "paper_bgcolor": "white",
          "plot_bgcolor": "#E5ECF6",
          "polar": {
           "angularaxis": {
            "gridcolor": "white",
            "linecolor": "white",
            "ticks": ""
           },
           "bgcolor": "#E5ECF6",
           "radialaxis": {
            "gridcolor": "white",
            "linecolor": "white",
            "ticks": ""
           }
          },
          "scene": {
           "xaxis": {
            "backgroundcolor": "#E5ECF6",
            "gridcolor": "white",
            "gridwidth": 2,
            "linecolor": "white",
            "showbackground": true,
            "ticks": "",
            "zerolinecolor": "white"
           },
           "yaxis": {
            "backgroundcolor": "#E5ECF6",
            "gridcolor": "white",
            "gridwidth": 2,
            "linecolor": "white",
            "showbackground": true,
            "ticks": "",
            "zerolinecolor": "white"
           },
           "zaxis": {
            "backgroundcolor": "#E5ECF6",
            "gridcolor": "white",
            "gridwidth": 2,
            "linecolor": "white",
            "showbackground": true,
            "ticks": "",
            "zerolinecolor": "white"
           }
          },
          "shapedefaults": {
           "line": {
            "color": "#2a3f5f"
           }
          },
          "ternary": {
           "aaxis": {
            "gridcolor": "white",
            "linecolor": "white",
            "ticks": ""
           },
           "baxis": {
            "gridcolor": "white",
            "linecolor": "white",
            "ticks": ""
           },
           "bgcolor": "#E5ECF6",
           "caxis": {
            "gridcolor": "white",
            "linecolor": "white",
            "ticks": ""
           }
          },
          "title": {
           "x": 0.05
          },
          "xaxis": {
           "automargin": true,
           "gridcolor": "white",
           "linecolor": "white",
           "ticks": "",
           "title": {
            "standoff": 15
           },
           "zerolinecolor": "white",
           "zerolinewidth": 2
          },
          "yaxis": {
           "automargin": true,
           "gridcolor": "white",
           "linecolor": "white",
           "ticks": "",
           "title": {
            "standoff": 15
           },
           "zerolinecolor": "white",
           "zerolinewidth": 2
          }
         }
        },
        "title": {
         "text": "3-week Rolling Sum of Expected Points - Arsenal"
        },
        "updatemenus": [
         {
          "buttons": [
           {
            "args": [
             {
              "line": [
               {
                "color": "blue"
               },
               {
                "color": "gray"
               },
               {
                "color": "gray"
               },
               {
                "color": "gray"
               },
               {
                "color": "gray"
               },
               {
                "color": "gray"
               },
               {
                "color": "gray"
               },
               {
                "color": "gray"
               },
               {
                "color": "gray"
               },
               {
                "color": "gray"
               },
               {
                "color": "gray"
               },
               {
                "color": "gray"
               },
               {
                "color": "gray"
               },
               {
                "color": "gray"
               },
               {
                "color": "gray"
               },
               {
                "color": "gray"
               },
               {
                "color": "gray"
               },
               {
                "color": "gray"
               },
               {
                "color": "gray"
               },
               {
                "color": "gray"
               }
              ],
              "opacity": [
               1,
               0.3,
               0.3,
               0.3,
               0.3,
               0.3,
               0.3,
               0.3,
               0.3,
               0.3,
               0.3,
               0.3,
               0.3,
               0.3,
               0.3,
               0.3,
               0.3,
               0.3,
               0.3,
               0.3
              ]
             },
             {
              "title": "3-week Rolling Sum of Expected Points - Arsenal"
             }
            ],
            "label": "Arsenal",
            "method": "update"
           },
           {
            "args": [
             {
              "line": [
               {
                "color": "gray"
               },
               {
                "color": "blue"
               },
               {
                "color": "gray"
               },
               {
                "color": "gray"
               },
               {
                "color": "gray"
               },
               {
                "color": "gray"
               },
               {
                "color": "gray"
               },
               {
                "color": "gray"
               },
               {
                "color": "gray"
               },
               {
                "color": "gray"
               },
               {
                "color": "gray"
               },
               {
                "color": "gray"
               },
               {
                "color": "gray"
               },
               {
                "color": "gray"
               },
               {
                "color": "gray"
               },
               {
                "color": "gray"
               },
               {
                "color": "gray"
               },
               {
                "color": "gray"
               },
               {
                "color": "gray"
               },
               {
                "color": "gray"
               }
              ],
              "opacity": [
               0.3,
               1,
               0.3,
               0.3,
               0.3,
               0.3,
               0.3,
               0.3,
               0.3,
               0.3,
               0.3,
               0.3,
               0.3,
               0.3,
               0.3,
               0.3,
               0.3,
               0.3,
               0.3,
               0.3
              ]
             },
             {
              "title": "3-week Rolling Sum of Expected Points - Aston Villa"
             }
            ],
            "label": "Aston Villa",
            "method": "update"
           },
           {
            "args": [
             {
              "line": [
               {
                "color": "gray"
               },
               {
                "color": "gray"
               },
               {
                "color": "blue"
               },
               {
                "color": "gray"
               },
               {
                "color": "gray"
               },
               {
                "color": "gray"
               },
               {
                "color": "gray"
               },
               {
                "color": "gray"
               },
               {
                "color": "gray"
               },
               {
                "color": "gray"
               },
               {
                "color": "gray"
               },
               {
                "color": "gray"
               },
               {
                "color": "gray"
               },
               {
                "color": "gray"
               },
               {
                "color": "gray"
               },
               {
                "color": "gray"
               },
               {
                "color": "gray"
               },
               {
                "color": "gray"
               },
               {
                "color": "gray"
               },
               {
                "color": "gray"
               }
              ],
              "opacity": [
               0.3,
               0.3,
               1,
               0.3,
               0.3,
               0.3,
               0.3,
               0.3,
               0.3,
               0.3,
               0.3,
               0.3,
               0.3,
               0.3,
               0.3,
               0.3,
               0.3,
               0.3,
               0.3,
               0.3
              ]
             },
             {
              "title": "3-week Rolling Sum of Expected Points - Bournemouth"
             }
            ],
            "label": "Bournemouth",
            "method": "update"
           },
           {
            "args": [
             {
              "line": [
               {
                "color": "gray"
               },
               {
                "color": "gray"
               },
               {
                "color": "gray"
               },
               {
                "color": "blue"
               },
               {
                "color": "gray"
               },
               {
                "color": "gray"
               },
               {
                "color": "gray"
               },
               {
                "color": "gray"
               },
               {
                "color": "gray"
               },
               {
                "color": "gray"
               },
               {
                "color": "gray"
               },
               {
                "color": "gray"
               },
               {
                "color": "gray"
               },
               {
                "color": "gray"
               },
               {
                "color": "gray"
               },
               {
                "color": "gray"
               },
               {
                "color": "gray"
               },
               {
                "color": "gray"
               },
               {
                "color": "gray"
               },
               {
                "color": "gray"
               }
              ],
              "opacity": [
               0.3,
               0.3,
               0.3,
               1,
               0.3,
               0.3,
               0.3,
               0.3,
               0.3,
               0.3,
               0.3,
               0.3,
               0.3,
               0.3,
               0.3,
               0.3,
               0.3,
               0.3,
               0.3,
               0.3
              ]
             },
             {
              "title": "3-week Rolling Sum of Expected Points - Brentford"
             }
            ],
            "label": "Brentford",
            "method": "update"
           },
           {
            "args": [
             {
              "line": [
               {
                "color": "gray"
               },
               {
                "color": "gray"
               },
               {
                "color": "gray"
               },
               {
                "color": "gray"
               },
               {
                "color": "blue"
               },
               {
                "color": "gray"
               },
               {
                "color": "gray"
               },
               {
                "color": "gray"
               },
               {
                "color": "gray"
               },
               {
                "color": "gray"
               },
               {
                "color": "gray"
               },
               {
                "color": "gray"
               },
               {
                "color": "gray"
               },
               {
                "color": "gray"
               },
               {
                "color": "gray"
               },
               {
                "color": "gray"
               },
               {
                "color": "gray"
               },
               {
                "color": "gray"
               },
               {
                "color": "gray"
               },
               {
                "color": "gray"
               }
              ],
              "opacity": [
               0.3,
               0.3,
               0.3,
               0.3,
               1,
               0.3,
               0.3,
               0.3,
               0.3,
               0.3,
               0.3,
               0.3,
               0.3,
               0.3,
               0.3,
               0.3,
               0.3,
               0.3,
               0.3,
               0.3
              ]
             },
             {
              "title": "3-week Rolling Sum of Expected Points - Brighton"
             }
            ],
            "label": "Brighton",
            "method": "update"
           },
           {
            "args": [
             {
              "line": [
               {
                "color": "gray"
               },
               {
                "color": "gray"
               },
               {
                "color": "gray"
               },
               {
                "color": "gray"
               },
               {
                "color": "gray"
               },
               {
                "color": "blue"
               },
               {
                "color": "gray"
               },
               {
                "color": "gray"
               },
               {
                "color": "gray"
               },
               {
                "color": "gray"
               },
               {
                "color": "gray"
               },
               {
                "color": "gray"
               },
               {
                "color": "gray"
               },
               {
                "color": "gray"
               },
               {
                "color": "gray"
               },
               {
                "color": "gray"
               },
               {
                "color": "gray"
               },
               {
                "color": "gray"
               },
               {
                "color": "gray"
               },
               {
                "color": "gray"
               }
              ],
              "opacity": [
               0.3,
               0.3,
               0.3,
               0.3,
               0.3,
               1,
               0.3,
               0.3,
               0.3,
               0.3,
               0.3,
               0.3,
               0.3,
               0.3,
               0.3,
               0.3,
               0.3,
               0.3,
               0.3,
               0.3
              ]
             },
             {
              "title": "3-week Rolling Sum of Expected Points - Chelsea"
             }
            ],
            "label": "Chelsea",
            "method": "update"
           },
           {
            "args": [
             {
              "line": [
               {
                "color": "gray"
               },
               {
                "color": "gray"
               },
               {
                "color": "gray"
               },
               {
                "color": "gray"
               },
               {
                "color": "gray"
               },
               {
                "color": "gray"
               },
               {
                "color": "blue"
               },
               {
                "color": "gray"
               },
               {
                "color": "gray"
               },
               {
                "color": "gray"
               },
               {
                "color": "gray"
               },
               {
                "color": "gray"
               },
               {
                "color": "gray"
               },
               {
                "color": "gray"
               },
               {
                "color": "gray"
               },
               {
                "color": "gray"
               },
               {
                "color": "gray"
               },
               {
                "color": "gray"
               },
               {
                "color": "gray"
               },
               {
                "color": "gray"
               }
              ],
              "opacity": [
               0.3,
               0.3,
               0.3,
               0.3,
               0.3,
               0.3,
               1,
               0.3,
               0.3,
               0.3,
               0.3,
               0.3,
               0.3,
               0.3,
               0.3,
               0.3,
               0.3,
               0.3,
               0.3,
               0.3
              ]
             },
             {
              "title": "3-week Rolling Sum of Expected Points - Crystal Palace"
             }
            ],
            "label": "Crystal Palace",
            "method": "update"
           },
           {
            "args": [
             {
              "line": [
               {
                "color": "gray"
               },
               {
                "color": "gray"
               },
               {
                "color": "gray"
               },
               {
                "color": "gray"
               },
               {
                "color": "gray"
               },
               {
                "color": "gray"
               },
               {
                "color": "gray"
               },
               {
                "color": "blue"
               },
               {
                "color": "gray"
               },
               {
                "color": "gray"
               },
               {
                "color": "gray"
               },
               {
                "color": "gray"
               },
               {
                "color": "gray"
               },
               {
                "color": "gray"
               },
               {
                "color": "gray"
               },
               {
                "color": "gray"
               },
               {
                "color": "gray"
               },
               {
                "color": "gray"
               },
               {
                "color": "gray"
               },
               {
                "color": "gray"
               }
              ],
              "opacity": [
               0.3,
               0.3,
               0.3,
               0.3,
               0.3,
               0.3,
               0.3,
               1,
               0.3,
               0.3,
               0.3,
               0.3,
               0.3,
               0.3,
               0.3,
               0.3,
               0.3,
               0.3,
               0.3,
               0.3
              ]
             },
             {
              "title": "3-week Rolling Sum of Expected Points - Everton"
             }
            ],
            "label": "Everton",
            "method": "update"
           },
           {
            "args": [
             {
              "line": [
               {
                "color": "gray"
               },
               {
                "color": "gray"
               },
               {
                "color": "gray"
               },
               {
                "color": "gray"
               },
               {
                "color": "gray"
               },
               {
                "color": "gray"
               },
               {
                "color": "gray"
               },
               {
                "color": "gray"
               },
               {
                "color": "blue"
               },
               {
                "color": "gray"
               },
               {
                "color": "gray"
               },
               {
                "color": "gray"
               },
               {
                "color": "gray"
               },
               {
                "color": "gray"
               },
               {
                "color": "gray"
               },
               {
                "color": "gray"
               },
               {
                "color": "gray"
               },
               {
                "color": "gray"
               },
               {
                "color": "gray"
               },
               {
                "color": "gray"
               }
              ],
              "opacity": [
               0.3,
               0.3,
               0.3,
               0.3,
               0.3,
               0.3,
               0.3,
               0.3,
               1,
               0.3,
               0.3,
               0.3,
               0.3,
               0.3,
               0.3,
               0.3,
               0.3,
               0.3,
               0.3,
               0.3
              ]
             },
             {
              "title": "3-week Rolling Sum of Expected Points - Fulham"
             }
            ],
            "label": "Fulham",
            "method": "update"
           },
           {
            "args": [
             {
              "line": [
               {
                "color": "gray"
               },
               {
                "color": "gray"
               },
               {
                "color": "gray"
               },
               {
                "color": "gray"
               },
               {
                "color": "gray"
               },
               {
                "color": "gray"
               },
               {
                "color": "gray"
               },
               {
                "color": "gray"
               },
               {
                "color": "gray"
               },
               {
                "color": "blue"
               },
               {
                "color": "gray"
               },
               {
                "color": "gray"
               },
               {
                "color": "gray"
               },
               {
                "color": "gray"
               },
               {
                "color": "gray"
               },
               {
                "color": "gray"
               },
               {
                "color": "gray"
               },
               {
                "color": "gray"
               },
               {
                "color": "gray"
               },
               {
                "color": "gray"
               }
              ],
              "opacity": [
               0.3,
               0.3,
               0.3,
               0.3,
               0.3,
               0.3,
               0.3,
               0.3,
               0.3,
               1,
               0.3,
               0.3,
               0.3,
               0.3,
               0.3,
               0.3,
               0.3,
               0.3,
               0.3,
               0.3
              ]
             },
             {
              "title": "3-week Rolling Sum of Expected Points - Ipswich Town"
             }
            ],
            "label": "Ipswich Town",
            "method": "update"
           },
           {
            "args": [
             {
              "line": [
               {
                "color": "gray"
               },
               {
                "color": "gray"
               },
               {
                "color": "gray"
               },
               {
                "color": "gray"
               },
               {
                "color": "gray"
               },
               {
                "color": "gray"
               },
               {
                "color": "gray"
               },
               {
                "color": "gray"
               },
               {
                "color": "gray"
               },
               {
                "color": "gray"
               },
               {
                "color": "blue"
               },
               {
                "color": "gray"
               },
               {
                "color": "gray"
               },
               {
                "color": "gray"
               },
               {
                "color": "gray"
               },
               {
                "color": "gray"
               },
               {
                "color": "gray"
               },
               {
                "color": "gray"
               },
               {
                "color": "gray"
               },
               {
                "color": "gray"
               }
              ],
              "opacity": [
               0.3,
               0.3,
               0.3,
               0.3,
               0.3,
               0.3,
               0.3,
               0.3,
               0.3,
               0.3,
               1,
               0.3,
               0.3,
               0.3,
               0.3,
               0.3,
               0.3,
               0.3,
               0.3,
               0.3
              ]
             },
             {
              "title": "3-week Rolling Sum of Expected Points - Leicester City"
             }
            ],
            "label": "Leicester City",
            "method": "update"
           },
           {
            "args": [
             {
              "line": [
               {
                "color": "gray"
               },
               {
                "color": "gray"
               },
               {
                "color": "gray"
               },
               {
                "color": "gray"
               },
               {
                "color": "gray"
               },
               {
                "color": "gray"
               },
               {
                "color": "gray"
               },
               {
                "color": "gray"
               },
               {
                "color": "gray"
               },
               {
                "color": "gray"
               },
               {
                "color": "gray"
               },
               {
                "color": "blue"
               },
               {
                "color": "gray"
               },
               {
                "color": "gray"
               },
               {
                "color": "gray"
               },
               {
                "color": "gray"
               },
               {
                "color": "gray"
               },
               {
                "color": "gray"
               },
               {
                "color": "gray"
               },
               {
                "color": "gray"
               }
              ],
              "opacity": [
               0.3,
               0.3,
               0.3,
               0.3,
               0.3,
               0.3,
               0.3,
               0.3,
               0.3,
               0.3,
               0.3,
               1,
               0.3,
               0.3,
               0.3,
               0.3,
               0.3,
               0.3,
               0.3,
               0.3
              ]
             },
             {
              "title": "3-week Rolling Sum of Expected Points - Liverpool"
             }
            ],
            "label": "Liverpool",
            "method": "update"
           },
           {
            "args": [
             {
              "line": [
               {
                "color": "gray"
               },
               {
                "color": "gray"
               },
               {
                "color": "gray"
               },
               {
                "color": "gray"
               },
               {
                "color": "gray"
               },
               {
                "color": "gray"
               },
               {
                "color": "gray"
               },
               {
                "color": "gray"
               },
               {
                "color": "gray"
               },
               {
                "color": "gray"
               },
               {
                "color": "gray"
               },
               {
                "color": "gray"
               },
               {
                "color": "blue"
               },
               {
                "color": "gray"
               },
               {
                "color": "gray"
               },
               {
                "color": "gray"
               },
               {
                "color": "gray"
               },
               {
                "color": "gray"
               },
               {
                "color": "gray"
               },
               {
                "color": "gray"
               }
              ],
              "opacity": [
               0.3,
               0.3,
               0.3,
               0.3,
               0.3,
               0.3,
               0.3,
               0.3,
               0.3,
               0.3,
               0.3,
               0.3,
               1,
               0.3,
               0.3,
               0.3,
               0.3,
               0.3,
               0.3,
               0.3
              ]
             },
             {
              "title": "3-week Rolling Sum of Expected Points - Manchester City"
             }
            ],
            "label": "Manchester City",
            "method": "update"
           },
           {
            "args": [
             {
              "line": [
               {
                "color": "gray"
               },
               {
                "color": "gray"
               },
               {
                "color": "gray"
               },
               {
                "color": "gray"
               },
               {
                "color": "gray"
               },
               {
                "color": "gray"
               },
               {
                "color": "gray"
               },
               {
                "color": "gray"
               },
               {
                "color": "gray"
               },
               {
                "color": "gray"
               },
               {
                "color": "gray"
               },
               {
                "color": "gray"
               },
               {
                "color": "gray"
               },
               {
                "color": "blue"
               },
               {
                "color": "gray"
               },
               {
                "color": "gray"
               },
               {
                "color": "gray"
               },
               {
                "color": "gray"
               },
               {
                "color": "gray"
               },
               {
                "color": "gray"
               }
              ],
              "opacity": [
               0.3,
               0.3,
               0.3,
               0.3,
               0.3,
               0.3,
               0.3,
               0.3,
               0.3,
               0.3,
               0.3,
               0.3,
               0.3,
               1,
               0.3,
               0.3,
               0.3,
               0.3,
               0.3,
               0.3
              ]
             },
             {
              "title": "3-week Rolling Sum of Expected Points - Manchester Utd"
             }
            ],
            "label": "Manchester Utd",
            "method": "update"
           },
           {
            "args": [
             {
              "line": [
               {
                "color": "gray"
               },
               {
                "color": "gray"
               },
               {
                "color": "gray"
               },
               {
                "color": "gray"
               },
               {
                "color": "gray"
               },
               {
                "color": "gray"
               },
               {
                "color": "gray"
               },
               {
                "color": "gray"
               },
               {
                "color": "gray"
               },
               {
                "color": "gray"
               },
               {
                "color": "gray"
               },
               {
                "color": "gray"
               },
               {
                "color": "gray"
               },
               {
                "color": "gray"
               },
               {
                "color": "blue"
               },
               {
                "color": "gray"
               },
               {
                "color": "gray"
               },
               {
                "color": "gray"
               },
               {
                "color": "gray"
               },
               {
                "color": "gray"
               }
              ],
              "opacity": [
               0.3,
               0.3,
               0.3,
               0.3,
               0.3,
               0.3,
               0.3,
               0.3,
               0.3,
               0.3,
               0.3,
               0.3,
               0.3,
               0.3,
               1,
               0.3,
               0.3,
               0.3,
               0.3,
               0.3
              ]
             },
             {
              "title": "3-week Rolling Sum of Expected Points - Newcastle Utd"
             }
            ],
            "label": "Newcastle Utd",
            "method": "update"
           },
           {
            "args": [
             {
              "line": [
               {
                "color": "gray"
               },
               {
                "color": "gray"
               },
               {
                "color": "gray"
               },
               {
                "color": "gray"
               },
               {
                "color": "gray"
               },
               {
                "color": "gray"
               },
               {
                "color": "gray"
               },
               {
                "color": "gray"
               },
               {
                "color": "gray"
               },
               {
                "color": "gray"
               },
               {
                "color": "gray"
               },
               {
                "color": "gray"
               },
               {
                "color": "gray"
               },
               {
                "color": "gray"
               },
               {
                "color": "gray"
               },
               {
                "color": "blue"
               },
               {
                "color": "gray"
               },
               {
                "color": "gray"
               },
               {
                "color": "gray"
               },
               {
                "color": "gray"
               }
              ],
              "opacity": [
               0.3,
               0.3,
               0.3,
               0.3,
               0.3,
               0.3,
               0.3,
               0.3,
               0.3,
               0.3,
               0.3,
               0.3,
               0.3,
               0.3,
               0.3,
               1,
               0.3,
               0.3,
               0.3,
               0.3
              ]
             },
             {
              "title": "3-week Rolling Sum of Expected Points - Nott'ham Forest"
             }
            ],
            "label": "Nott'ham Forest",
            "method": "update"
           },
           {
            "args": [
             {
              "line": [
               {
                "color": "gray"
               },
               {
                "color": "gray"
               },
               {
                "color": "gray"
               },
               {
                "color": "gray"
               },
               {
                "color": "gray"
               },
               {
                "color": "gray"
               },
               {
                "color": "gray"
               },
               {
                "color": "gray"
               },
               {
                "color": "gray"
               },
               {
                "color": "gray"
               },
               {
                "color": "gray"
               },
               {
                "color": "gray"
               },
               {
                "color": "gray"
               },
               {
                "color": "gray"
               },
               {
                "color": "gray"
               },
               {
                "color": "gray"
               },
               {
                "color": "blue"
               },
               {
                "color": "gray"
               },
               {
                "color": "gray"
               },
               {
                "color": "gray"
               }
              ],
              "opacity": [
               0.3,
               0.3,
               0.3,
               0.3,
               0.3,
               0.3,
               0.3,
               0.3,
               0.3,
               0.3,
               0.3,
               0.3,
               0.3,
               0.3,
               0.3,
               0.3,
               1,
               0.3,
               0.3,
               0.3
              ]
             },
             {
              "title": "3-week Rolling Sum of Expected Points - Southampton"
             }
            ],
            "label": "Southampton",
            "method": "update"
           },
           {
            "args": [
             {
              "line": [
               {
                "color": "gray"
               },
               {
                "color": "gray"
               },
               {
                "color": "gray"
               },
               {
                "color": "gray"
               },
               {
                "color": "gray"
               },
               {
                "color": "gray"
               },
               {
                "color": "gray"
               },
               {
                "color": "gray"
               },
               {
                "color": "gray"
               },
               {
                "color": "gray"
               },
               {
                "color": "gray"
               },
               {
                "color": "gray"
               },
               {
                "color": "gray"
               },
               {
                "color": "gray"
               },
               {
                "color": "gray"
               },
               {
                "color": "gray"
               },
               {
                "color": "gray"
               },
               {
                "color": "blue"
               },
               {
                "color": "gray"
               },
               {
                "color": "gray"
               }
              ],
              "opacity": [
               0.3,
               0.3,
               0.3,
               0.3,
               0.3,
               0.3,
               0.3,
               0.3,
               0.3,
               0.3,
               0.3,
               0.3,
               0.3,
               0.3,
               0.3,
               0.3,
               0.3,
               1,
               0.3,
               0.3
              ]
             },
             {
              "title": "3-week Rolling Sum of Expected Points - Tottenham"
             }
            ],
            "label": "Tottenham",
            "method": "update"
           },
           {
            "args": [
             {
              "line": [
               {
                "color": "gray"
               },
               {
                "color": "gray"
               },
               {
                "color": "gray"
               },
               {
                "color": "gray"
               },
               {
                "color": "gray"
               },
               {
                "color": "gray"
               },
               {
                "color": "gray"
               },
               {
                "color": "gray"
               },
               {
                "color": "gray"
               },
               {
                "color": "gray"
               },
               {
                "color": "gray"
               },
               {
                "color": "gray"
               },
               {
                "color": "gray"
               },
               {
                "color": "gray"
               },
               {
                "color": "gray"
               },
               {
                "color": "gray"
               },
               {
                "color": "gray"
               },
               {
                "color": "gray"
               },
               {
                "color": "blue"
               },
               {
                "color": "gray"
               }
              ],
              "opacity": [
               0.3,
               0.3,
               0.3,
               0.3,
               0.3,
               0.3,
               0.3,
               0.3,
               0.3,
               0.3,
               0.3,
               0.3,
               0.3,
               0.3,
               0.3,
               0.3,
               0.3,
               0.3,
               1,
               0.3
              ]
             },
             {
              "title": "3-week Rolling Sum of Expected Points - West Ham"
             }
            ],
            "label": "West Ham",
            "method": "update"
           },
           {
            "args": [
             {
              "line": [
               {
                "color": "gray"
               },
               {
                "color": "gray"
               },
               {
                "color": "gray"
               },
               {
                "color": "gray"
               },
               {
                "color": "gray"
               },
               {
                "color": "gray"
               },
               {
                "color": "gray"
               },
               {
                "color": "gray"
               },
               {
                "color": "gray"
               },
               {
                "color": "gray"
               },
               {
                "color": "gray"
               },
               {
                "color": "gray"
               },
               {
                "color": "gray"
               },
               {
                "color": "gray"
               },
               {
                "color": "gray"
               },
               {
                "color": "gray"
               },
               {
                "color": "gray"
               },
               {
                "color": "gray"
               },
               {
                "color": "gray"
               },
               {
                "color": "blue"
               }
              ],
              "opacity": [
               0.3,
               0.3,
               0.3,
               0.3,
               0.3,
               0.3,
               0.3,
               0.3,
               0.3,
               0.3,
               0.3,
               0.3,
               0.3,
               0.3,
               0.3,
               0.3,
               0.3,
               0.3,
               0.3,
               1
              ]
             },
             {
              "title": "3-week Rolling Sum of Expected Points - Wolves"
             }
            ],
            "label": "Wolves",
            "method": "update"
           }
          ],
          "direction": "down",
          "showactive": true
         }
        ],
        "xaxis": {
         "title": {
          "text": "Gameweek"
         }
        },
        "yaxis": {
         "title": {
          "text": "Expected Points"
         }
        }
       }
      }
     },
     "metadata": {},
     "output_type": "display_data"
    }
   ],
   "source": [
    "# Get unique teams\n",
    "teams = np.sort(weekly_scores['team'].unique())\n",
    "default_team = teams[0]  # Default highlighted team\n",
    "\n",
    "# Create figure\n",
    "fig = go.Figure()\n",
    "\n",
    "for team in teams:\n",
    "    fig.add_trace(go.Scatter(\n",
    "        x=weekly_scores[weekly_scores['team'] == team]['gameweek'],\n",
    "        y=weekly_scores[weekly_scores['team'] == team]['3_week_rolling_sum_xp'],\n",
    "        mode='lines+markers',\n",
    "        name=team,\n",
    "        line=dict(color='blue' if team == default_team else 'gray'),\n",
    "        opacity=1 if team == default_team else 0.3,\n",
    "        visible=True\n",
    "    ))\n",
    "\n",
    "# Create dropdown menu\n",
    "dropdown_buttons = []\n",
    "for selected_team in teams:\n",
    "    button = {\n",
    "        \"label\": selected_team,\n",
    "        \"method\": \"update\",\n",
    "        \"args\": [\n",
    "            {\n",
    "                \"opacity\": [1 if team == selected_team else 0.3 for team in teams],\n",
    "                \"line\": [dict(color=\"blue\" if team == selected_team else \"gray\") for team in teams],\n",
    "            },\n",
    "            {\"title\": f\"3-week Rolling Sum of Expected Points - {selected_team}\"}\n",
    "        ]\n",
    "    }\n",
    "    dropdown_buttons.append(button)\n",
    "\n",
    "# Add dropdown menu\n",
    "fig.update_layout(\n",
    "    title=f\"3-week Rolling Sum of Expected Points - {default_team}\",\n",
    "    xaxis_title=\"Gameweek\",\n",
    "    yaxis_title=\"Expected Points\",\n",
    "    updatemenus=[{\n",
    "        \"buttons\": dropdown_buttons,\n",
    "        \"direction\": \"down\",\n",
    "        \"showactive\": True,\n",
    "    }]\n",
    ")\n",
    "\n",
    "fig.show()"
   ]
  },
  {
   "cell_type": "code",
   "execution_count": null,
   "metadata": {},
   "outputs": [],
   "source": []
  }
 ],
 "metadata": {
  "kernelspec": {
   "display_name": "match_prediction",
   "language": "python",
   "name": "python3"
  },
  "language_info": {
   "codemirror_mode": {
    "name": "ipython",
    "version": 3
   },
   "file_extension": ".py",
   "mimetype": "text/x-python",
   "name": "python",
   "nbconvert_exporter": "python",
   "pygments_lexer": "ipython3",
   "version": "3.12.9"
  }
 },
 "nbformat": 4,
 "nbformat_minor": 2
}
