{
 "cells": [
  {
   "cell_type": "code",
   "execution_count": null,
   "metadata": {},
   "outputs": [],
   "source": [
    "import pandas as pd\n",
    "import numpy as np\n",
    "import datetime as dt\n",
    "from pathlib import Path\n",
    "import logging\n",
    "import penaltyblog as pb\n",
    "from types import SimpleNamespace\n",
    "import time\n",
    "\n",
    "from selenium import webdriver\n",
    "from selenium.webdriver.common.by import By\n",
    "from selenium.webdriver.support.ui import WebDriverWait\n",
    "from selenium.webdriver.support import expected_conditions as EC"
   ]
  },
  {
   "cell_type": "code",
   "execution_count": null,
   "metadata": {},
   "outputs": [],
   "source": [
    "import sys\n",
    "sys.path.append('../src')\n",
    "from dixon_coles import create_team_ratings, simulate_league, process_simulation_results\n",
    "from scraping_utils import initialize_webdriver, scroll_page, get_results, get_fixtures, get_table"
   ]
  },
  {
   "cell_type": "code",
   "execution_count": null,
   "metadata": {},
   "outputs": [],
   "source": [
    "# Set up basic logging\n",
    "logging.basicConfig(\n",
    "    level=logging.INFO,\n",
    "    format=\"%(asctime)s - %(levelname)s - %(message)s\"\n",
    ")"
   ]
  },
  {
   "cell_type": "markdown",
   "metadata": {},
   "source": [
    "# Functions\n",
    "\n",
    "These are now imported from src.scrapeing_utils"
   ]
  },
  {
   "cell_type": "code",
   "execution_count": null,
   "metadata": {},
   "outputs": [],
   "source": [
    "def initialize_webdriver(url):\n",
    "\n",
    "    # initialize webdriver\n",
    "    driver = webdriver.Chrome()\n",
    "    # load the website\n",
    "    driver.get(url)\n",
    "\n",
    "    return driver"
   ]
  },
  {
   "cell_type": "code",
   "execution_count": null,
   "metadata": {},
   "outputs": [],
   "source": [
    "def scroll_page(driver):\n",
    "\n",
    "    # Scroll down repeatedly (to load more content)\n",
    "    last_height = driver.execute_script(\"return document.body.scrollHeight\")\n",
    "    while True:\n",
    "        driver.execute_script(\"window.scrollTo(0, document.body.scrollHeight);\")\n",
    "        time.sleep(2)  # Wait for loading\n",
    "\n",
    "        new_height = driver.execute_script(\"return document.body.scrollHeight\")\n",
    "        if new_height == last_height:\n",
    "            break  # No more content to load\n",
    "        last_height = new_height"
   ]
  },
  {
   "cell_type": "code",
   "execution_count": null,
   "metadata": {},
   "outputs": [],
   "source": [
    "def get_results(driver):\n",
    "\n",
    "    # Get teams\n",
    "    elements = driver.find_elements(By.CLASS_NAME, 'teamname')\n",
    "    teams = [elem.text for elem in elements]\n",
    "\n",
    "    # Get goals\n",
    "    elements = driver.find_elements(By.CLASS_NAME, 'scorefs')\n",
    "    goals = [elem.text for elem in elements]\n",
    "\n",
    "    # Check if the number of teams and goals match and only use games where the result is known\n",
    "    teams = teams[-len(goals):]\n",
    "\n",
    "    # create dataframe\n",
    "    df = pd.DataFrame(columns=['team_home', 'team_away', 'goals_home', 'goals_away'])\n",
    "    df.team_home = teams[0::2]\n",
    "    df.team_away = teams[1::2]\n",
    "    df.goals_home = goals[0::2]\n",
    "    df.goals_away = goals[1::2]\n",
    "\n",
    "    return df"
   ]
  },
  {
   "cell_type": "code",
   "execution_count": null,
   "metadata": {},
   "outputs": [],
   "source": [
    "def get_fixtures(driver):\n",
    "    \n",
    "    # get teams\n",
    "    elements = driver.find_elements(By.CLASS_NAME, 'teamname')\n",
    "    teams = [elem.text for elem in elements]\n",
    "\n",
    "    # re-create fixtures\n",
    "    fixtures = pd.DataFrame(columns=['Home', 'Away'])\n",
    "    fixtures.Home = teams[0::2]\n",
    "    fixtures.Away = teams[1::2]\n",
    "    \n",
    "    return fixtures"
   ]
  },
  {
   "cell_type": "code",
   "execution_count": null,
   "metadata": {},
   "outputs": [],
   "source": [
    "def get_table(driver):\n",
    "\n",
    "    # get teams\n",
    "    elements = driver.find_elements(By.CLASS_NAME, 'text-start')\n",
    "    teams = [elem.text for elem in elements]\n",
    "    teams = teams[7::5]\n",
    "\n",
    "    # get stats\n",
    "    elements = driver.find_elements(By.CLASS_NAME, 'text-center')\n",
    "    stats = [elem.text for elem in elements]\n",
    "    stats = stats[6::]\n",
    "\n",
    "    table = pd.DataFrame(columns=['Rk', 'Squad', 'MP', 'W', 'D', 'L', 'GF', 'GA', 'GD', 'Pts'])\n",
    "    table.Rk = np.arange(1, len(teams)+1)\n",
    "    table.Squad = teams\n",
    "    table.MP = stats[0::6]\n",
    "    table.W = stats[1::6]\n",
    "    table.D = stats[2::6]\n",
    "    table.L = stats[3::6]\n",
    "    table.GF = [x.split('–')[0] for x in stats[4::6]]\n",
    "    table.GA = [x.split('–')[1] for x in stats[4::6]]\n",
    "    table.GD = table['GF'].astype(int) - table['GA'].astype(int)\n",
    "    table.Pts = stats[5::6]\n",
    "\n",
    "    # convert to numeric\n",
    "    table[['Rk', 'MP', 'W', 'D', 'L', 'GF', 'GA', 'GD', 'Pts']] = (\n",
    "        table[['Rk', 'MP', 'W', 'D', 'L', 'GF', 'GA', 'GD', 'Pts']].apply(pd.to_numeric, errors='coerce')\n",
    "    )\n",
    "\n",
    "    return table"
   ]
  },
  {
   "cell_type": "markdown",
   "metadata": {},
   "source": [
    "# Scrape data"
   ]
  },
  {
   "cell_type": "code",
   "execution_count": null,
   "metadata": {},
   "outputs": [],
   "source": [
    "#my_group = 3\n",
    "#driver = initialize_webdriver(f'https://tulospalvelu.palloliitto.fi/category/M7!etejp25/group/{my_group}/results')\n",
    "driver = initialize_webdriver(f'https://tulospalvelu.palloliitto.fi/category/M7!etejp25/results') # all results\n",
    "scroll_page(driver)"
   ]
  },
  {
   "cell_type": "code",
   "execution_count": null,
   "metadata": {},
   "outputs": [],
   "source": [
    "df = get_results(driver)\n",
    "#df.to_csv(f'../data/results_kevat25.csv', index=False)\n",
    "df"
   ]
  },
  {
   "cell_type": "code",
   "execution_count": null,
   "metadata": {},
   "outputs": [],
   "source": [
    "my_group = 4\n",
    "driver = initialize_webdriver(f'https://tulospalvelu.palloliitto.fi/category/M7!etejp25/group/{my_group}/fixtures')\n",
    "scroll_page(driver)"
   ]
  },
  {
   "cell_type": "code",
   "execution_count": null,
   "metadata": {},
   "outputs": [],
   "source": [
    "fixtures = get_fixtures(driver)\n",
    "#fixtures.to_csv(f'../data/fixtures_kevat25.csv', index=False)\n",
    "fixtures"
   ]
  },
  {
   "cell_type": "code",
   "execution_count": null,
   "metadata": {},
   "outputs": [],
   "source": [
    "driver = initialize_webdriver(f'https://tulospalvelu.palloliitto.fi/category/M7!etejp25/group/{my_group}/')"
   ]
  },
  {
   "cell_type": "code",
   "execution_count": null,
   "metadata": {},
   "outputs": [],
   "source": [
    "table = get_table(driver)\n",
    "#table.to_csv(f'../data/table_syksy1_25.csv', index=False)\n",
    "table"
   ]
  },
  {
   "cell_type": "markdown",
   "metadata": {},
   "source": [
    "# Model"
   ]
  },
  {
   "cell_type": "code",
   "execution_count": null,
   "metadata": {},
   "outputs": [],
   "source": [
    "clf = pb.models.DixonColesGoalModel(\n",
    "    df[\"goals_home\"], df[\"goals_away\"], df[\"team_home\"], df[\"team_away\"],\n",
    ")\n",
    "\n",
    "clf.fit()"
   ]
  },
  {
   "cell_type": "code",
   "execution_count": null,
   "metadata": {},
   "outputs": [],
   "source": [
    "clf.get_params()"
   ]
  },
  {
   "cell_type": "markdown",
   "metadata": {},
   "source": [
    "# Ratings"
   ]
  },
  {
   "cell_type": "code",
   "execution_count": null,
   "metadata": {},
   "outputs": [],
   "source": [
    "teams = df['team_home'].unique()\n",
    "args = SimpleNamespace(save_simulation_results=True, league=f'Syksy')\n",
    "ratings_df = create_team_ratings(clf, teams, args, export_ratings=True)"
   ]
  },
  {
   "cell_type": "markdown",
   "metadata": {},
   "source": [
    "# Simulation"
   ]
  },
  {
   "cell_type": "code",
   "execution_count": null,
   "metadata": {},
   "outputs": [],
   "source": [
    "nr_simulations = 1000\n",
    "simulation_results_df = simulate_league(clf, table, fixtures, nr_simulations)"
   ]
  },
  {
   "cell_type": "code",
   "execution_count": null,
   "metadata": {},
   "outputs": [],
   "source": [
    "args = SimpleNamespace(save_simulation_results=True, league='Syksy I')\n",
    "process_simulation_results(simulation_results_df, nr_simulations, args)"
   ]
  },
  {
   "cell_type": "code",
   "execution_count": null,
   "metadata": {},
   "outputs": [],
   "source": [
    "clf.predict('Trikiinit', 'PK-35/Äijät')"
   ]
  },
  {
   "cell_type": "markdown",
   "metadata": {},
   "source": [
    "# Kevät analysis\n",
    "\n",
    "This does not seem to work..."
   ]
  },
  {
   "cell_type": "markdown",
   "metadata": {},
   "source": [
    "### Group 1"
   ]
  },
  {
   "cell_type": "code",
   "execution_count": null,
   "metadata": {},
   "outputs": [],
   "source": [
    "clf_1 = pb.models.DixonColesGoalModel(\n",
    "    df[\"goals_home\"], df[\"goals_away\"], df[\"team_home\"], df[\"team_away\"],\n",
    ")\n",
    "\n",
    "clf_1.fit()\n",
    "\n",
    "display(clf_1.get_params())"
   ]
  },
  {
   "cell_type": "code",
   "execution_count": null,
   "metadata": {},
   "outputs": [],
   "source": [
    "clf.get_params()"
   ]
  },
  {
   "cell_type": "code",
   "execution_count": null,
   "metadata": {},
   "outputs": [],
   "source": [
    "import plotly.graph_objects as go   "
   ]
  },
  {
   "cell_type": "code",
   "execution_count": null,
   "metadata": {},
   "outputs": [],
   "source": [
    "teams = df.team_home.unique()"
   ]
  },
  {
   "cell_type": "code",
   "execution_count": null,
   "metadata": {},
   "outputs": [],
   "source": [
    "string = 'attack_Cosmos'\n",
    "string[7:]"
   ]
  },
  {
   "cell_type": "code",
   "execution_count": null,
   "metadata": {},
   "outputs": [],
   "source": [
    "# Extract values\n",
    "attack_values = [value for key, value in clf_1.get_params().items() if key.startswith('attack')]\n",
    "defence_values = [value for key, value in clf_1.get_params().items() if key.startswith('defence')]\n",
    "\n",
    "# Create a combined figure manually\n",
    "fig = go.Figure()\n",
    "\n",
    "# Add attack histogram\n",
    "fig.add_trace(go.Histogram(\n",
    "    x=attack_values,\n",
    "    name='Attack',\n",
    "    opacity=0.6,\n",
    "    marker_color='blue'\n",
    "))\n",
    "\n",
    "# Add defence histogram\n",
    "fig.add_trace(go.Histogram(\n",
    "    x=defence_values,\n",
    "    name='Defence',\n",
    "    opacity=0.6,\n",
    "    marker_color='red'\n",
    "))\n",
    "\n",
    "# Update layout\n",
    "fig.update_layout(\n",
    "    barmode='overlay',  # or 'group' if you want them side by side\n",
    "    title='Attack vs Defence Parameter Distributions',\n",
    "    xaxis_title='Value',\n",
    "    yaxis_title='Count',\n",
    "    legend_title='Parameter Type'\n",
    ")\n",
    "\n",
    "fig.show()\n"
   ]
  },
  {
   "cell_type": "code",
   "execution_count": null,
   "metadata": {},
   "outputs": [],
   "source": [
    "# Extract values\n",
    "attack_values = [value for key, value in clf.get_params().items() if ((key[7:] in teams) & (key.startswith('attack_')))]\n",
    "defence_values = [value for key, value in clf.get_params().items() if ((key[8:] in teams) & (key.startswith('defence_')))]\n",
    "\n",
    "# Create a combined figure manually\n",
    "fig = go.Figure()\n",
    "\n",
    "# Add attack histogram\n",
    "fig.add_trace(go.Histogram(\n",
    "    x=attack_values,\n",
    "    name='Attack',\n",
    "    opacity=0.6,\n",
    "    marker_color='blue'\n",
    "))\n",
    "\n",
    "# Add defence histogram\n",
    "fig.add_trace(go.Histogram(\n",
    "    x=defence_values,\n",
    "    name='Defence',\n",
    "    opacity=0.6,\n",
    "    marker_color='red'\n",
    "))\n",
    "\n",
    "# Update layout\n",
    "fig.update_layout(\n",
    "    barmode='overlay',  # or 'group' if you want them side by side\n",
    "    title='Attack vs Defence Parameter Distributions',\n",
    "    xaxis_title='Value',\n",
    "    yaxis_title='Count',\n",
    "    legend_title='Parameter Type'\n",
    ")\n",
    "\n",
    "fig.show()\n"
   ]
  },
  {
   "cell_type": "code",
   "execution_count": null,
   "metadata": {},
   "outputs": [],
   "source": [
    "attack_values = [value for key, value in clf.get_params().items() if ((key[7:] in teams) & (key.startswith('attack_')))]\n",
    "defence_values = [value for key, value in clf.get_params().items() if ((key[8:] in teams) & (key.startswith('defence_')))]\n",
    "\n",
    "attack_values_1 = [value for key, value in clf_1.get_params().items() if key.startswith('attack')]\n",
    "defence_values_1 = [value for key, value in clf_1.get_params().items() if key.startswith('defence')]\n",
    "\n",
    "team_keys = [key[7:] for key, value in clf.get_params().items() if ((key[7:] in teams) & (key.startswith('attack_')))]\n",
    "team_keys_1 = [key[7:] for key, value in clf_1.get_params().items() if ((key.startswith('attack_')))]\n",
    "\n",
    "fig = go.Figure()\n",
    "\n",
    "fig.add_trace(go.Scatter(\n",
    "    x=attack_values,\n",
    "    y=defence_values,\n",
    "    opacity=0.6,\n",
    "    marker_color='blue',\n",
    "    mode='markers',\n",
    "    hovertext=team_keys,\n",
    "    name='clf'\n",
    "))\n",
    "\n",
    "fig.add_trace(go.Scatter(\n",
    "    x=attack_values_1,\n",
    "    y=defence_values_1,\n",
    "    opacity=0.6,\n",
    "    marker_color='red',\n",
    "    mode='markers',\n",
    "    hovertext=team_keys_1,\n",
    "    name='clf_1'\n",
    "))"
   ]
  },
  {
   "cell_type": "code",
   "execution_count": null,
   "metadata": {},
   "outputs": [],
   "source": [
    "display(clf.get_params()['rho'])\n",
    "display(clf_1.get_params()['rho'])"
   ]
  },
  {
   "cell_type": "code",
   "execution_count": null,
   "metadata": {},
   "outputs": [],
   "source": [
    "display(clf.get_params()['home_advantage'])\n",
    "display(clf_1.get_params()['home_advantage'])"
   ]
  },
  {
   "cell_type": "code",
   "execution_count": null,
   "metadata": {},
   "outputs": [],
   "source": [
    "display(np.mean(attack_values))\n",
    "display(np.mean(attack_values_1))"
   ]
  },
  {
   "cell_type": "code",
   "execution_count": null,
   "metadata": {},
   "outputs": [],
   "source": [
    "attack_values_clf = [value for key, value in clf.get_params().items() if ((key.startswith('attack_')))]\n",
    "display(np.mean(attack_values_clf))"
   ]
  },
  {
   "cell_type": "markdown",
   "metadata": {},
   "source": [
    "### Group 2"
   ]
  },
  {
   "cell_type": "code",
   "execution_count": null,
   "metadata": {},
   "outputs": [],
   "source": [
    "clf_2 = pb.models.DixonColesGoalModel(\n",
    "    df[\"goals_home\"], df[\"goals_away\"], df[\"team_home\"], df[\"team_away\"],\n",
    ")\n",
    "\n",
    "clf_2.fit()\n",
    "\n",
    "display(clf_2.get_params())"
   ]
  },
  {
   "cell_type": "markdown",
   "metadata": {},
   "source": [
    "### Group 3"
   ]
  },
  {
   "cell_type": "code",
   "execution_count": null,
   "metadata": {},
   "outputs": [],
   "source": [
    "clf_3 = pb.models.DixonColesGoalModel(\n",
    "    df[\"goals_home\"], df[\"goals_away\"], df[\"team_home\"], df[\"team_away\"],\n",
    ")\n",
    "\n",
    "clf_3.fit()\n",
    "\n",
    "display(clf_3.get_params())"
   ]
  },
  {
   "cell_type": "markdown",
   "metadata": {},
   "source": [
    "### Group comparison"
   ]
  },
  {
   "cell_type": "code",
   "execution_count": null,
   "metadata": {},
   "outputs": [],
   "source": [
    "attack_values_list = []\n",
    "defence_values_list = []\n",
    "for my_clf in [clf_1, clf_2, clf_3]:\n",
    "    attack_values_list.append([value for key, value in my_clf.get_params().items() if key.startswith('attack')])\n",
    "    defence_values_list.append([value for key, value in my_clf.get_params().items() if key.startswith('defence')])"
   ]
  },
  {
   "cell_type": "code",
   "execution_count": null,
   "metadata": {},
   "outputs": [],
   "source": [
    "print('Individual group models')\n",
    "for i in range(3):\n",
    "    group_mean_attack = np.mean(attack_values_list[i])\n",
    "    group_mean_defence = np.mean(defence_values_list[i])\n",
    "    print(f'Group {i+1} mean attack: {group_mean_attack}, mean defence: {group_mean_defence}')"
   ]
  },
  {
   "cell_type": "code",
   "execution_count": null,
   "metadata": {},
   "outputs": [],
   "source": [
    "team_list = []\n",
    "for my_clf in [clf_1, clf_2, clf_3]:\n",
    "    team_list.append([key[7:] for key, value in my_clf.get_params().items() if key.startswith('attack')])"
   ]
  },
  {
   "cell_type": "code",
   "execution_count": null,
   "metadata": {},
   "outputs": [],
   "source": [
    "attack_values_list = []\n",
    "defence_values_list = []\n",
    "for i in range(3):\n",
    "    attack_values_list.append([value for key, value in clf.get_params().items() if ((key.startswith('attack')) & (key[7:] in team_list[i]))])\n",
    "    defence_values_list.append([value for key, value in clf.get_params().items() if ((key.startswith('defence')) & (key[8:] in team_list[i]))])"
   ]
  },
  {
   "cell_type": "code",
   "execution_count": null,
   "metadata": {},
   "outputs": [],
   "source": [
    "print('Total model')\n",
    "for i in range(3):\n",
    "    group_mean_attack = np.mean(attack_values_list[i])\n",
    "    group_mean_defence = np.mean(defence_values_list[i])\n",
    "    print(f'Group {i+1} mean attack: {group_mean_attack}, mean defence: {group_mean_defence}')"
   ]
  },
  {
   "cell_type": "code",
   "execution_count": null,
   "metadata": {},
   "outputs": [],
   "source": [
    "clf_1.predict('Trikiinit', 'Kullervo')"
   ]
  },
  {
   "cell_type": "code",
   "execution_count": null,
   "metadata": {},
   "outputs": [],
   "source": [
    "clf.predict('Trikiinit', 'Kullervo')"
   ]
  },
  {
   "cell_type": "code",
   "execution_count": null,
   "metadata": {},
   "outputs": [],
   "source": [
    "clf_2.predict('Valtti/TDJ', 'FC Lähiö')"
   ]
  },
  {
   "cell_type": "code",
   "execution_count": null,
   "metadata": {},
   "outputs": [],
   "source": [
    "clf.predict('Valtti/TDJ', 'FC Lähiö')"
   ]
  },
  {
   "cell_type": "code",
   "execution_count": null,
   "metadata": {},
   "outputs": [],
   "source": [
    "clf_3.predict('Valtti/4', 'LPS/7')"
   ]
  },
  {
   "cell_type": "code",
   "execution_count": null,
   "metadata": {},
   "outputs": [],
   "source": [
    "clf.predict('Valtti/4', 'LPS/7')"
   ]
  },
  {
   "cell_type": "markdown",
   "metadata": {},
   "source": [
    "## Combined model"
   ]
  },
  {
   "cell_type": "code",
   "execution_count": null,
   "metadata": {},
   "outputs": [],
   "source": [
    "display(clf.get_params())"
   ]
  },
  {
   "cell_type": "code",
   "execution_count": null,
   "metadata": {},
   "outputs": [],
   "source": [
    "keys_to_exclude = {'home_advantage', 'rho'}\n",
    "aux_dict = {\n",
    "    **{k: v for k, v in clf_1.get_params().items() if k not in keys_to_exclude},\n",
    "    **{k: v for k, v in clf_2.get_params().items() if k not in keys_to_exclude},\n",
    "    **{k: v for k, v in clf_3.get_params().items() if k not in keys_to_exclude},\n",
    "}\n",
    "\n",
    "# Sort the dictionary by keys\n",
    "aux_dict_sorted = {key: aux_dict[key] for key in sorted(aux_dict)}\n",
    "\n",
    "aux_dict_sorted"
   ]
  },
  {
   "cell_type": "code",
   "execution_count": null,
   "metadata": {},
   "outputs": [],
   "source": [
    "np.array(list(aux_dict_sorted.values()))"
   ]
  },
  {
   "cell_type": "code",
   "execution_count": null,
   "metadata": {},
   "outputs": [],
   "source": [
    "clf._params[:-2] = np.array(list(aux_dict_sorted.values()))"
   ]
  },
  {
   "cell_type": "code",
   "execution_count": null,
   "metadata": {},
   "outputs": [],
   "source": [
    "clf.get_params()"
   ]
  },
  {
   "cell_type": "code",
   "execution_count": null,
   "metadata": {},
   "outputs": [],
   "source": [
    "clf.__dict__['teams_home']"
   ]
  },
  {
   "cell_type": "code",
   "execution_count": null,
   "metadata": {},
   "outputs": [],
   "source": [
    "teams = fixtures.Home.unique()\n",
    "args = SimpleNamespace(save_simulation_results=False, league=f'Kevät')\n",
    "ratings_df = create_team_ratings(clf, teams, args, export_ratings=False)"
   ]
  },
  {
   "cell_type": "markdown",
   "metadata": {},
   "source": [
    "# Misc"
   ]
  },
  {
   "cell_type": "code",
   "execution_count": null,
   "metadata": {},
   "outputs": [],
   "source": [
    "all_ratings = []"
   ]
  },
  {
   "cell_type": "code",
   "execution_count": null,
   "metadata": {},
   "outputs": [],
   "source": [
    "all_ratings.append(ratings_df)"
   ]
  },
  {
   "cell_type": "code",
   "execution_count": null,
   "metadata": {},
   "outputs": [],
   "source": [
    "all_ratings_df = pd.concat(all_ratings).sort_values(by='goal_difference_rating', ascending=False).reset_index(drop=True)\n",
    "all_ratings_df"
   ]
  },
  {
   "cell_type": "code",
   "execution_count": null,
   "metadata": {},
   "outputs": [],
   "source": [
    "all_ratings_df.to_csv('../output/ratings_Kevät.csv', index=False)"
   ]
  },
  {
   "cell_type": "code",
   "execution_count": null,
   "metadata": {},
   "outputs": [],
   "source": [
    "import dataframe_image as dfi\n",
    "dfi.export(all_ratings_df, f\"../output/ratings_Kevät.png\", table_conversion='matplotlib',)"
   ]
  },
  {
   "cell_type": "markdown",
   "metadata": {},
   "source": [
    "# Development"
   ]
  },
  {
   "cell_type": "markdown",
   "metadata": {},
   "source": [
    "## results"
   ]
  },
  {
   "cell_type": "code",
   "execution_count": null,
   "metadata": {},
   "outputs": [],
   "source": [
    "# Initialize the Chrome driver\n",
    "driver = webdriver.Chrome()\n",
    "\n",
    "# Load the website\n",
    "driver.get('https://tulospalvelu.palloliitto.fi/category/M7!etejp25/group/1/results')"
   ]
  },
  {
   "cell_type": "code",
   "execution_count": null,
   "metadata": {},
   "outputs": [],
   "source": [
    "elements = driver.find_elements(By.CLASS_NAME, 'teamname')\n",
    "teams = [elem.text for elem in elements]\n",
    "print(teams)"
   ]
  },
  {
   "cell_type": "code",
   "execution_count": null,
   "metadata": {},
   "outputs": [],
   "source": [
    "elements = driver.find_elements(By.CLASS_NAME, 'scorefs')\n",
    "goals = [elem.text for elem in elements]\n",
    "print(goals)"
   ]
  },
  {
   "cell_type": "code",
   "execution_count": null,
   "metadata": {},
   "outputs": [],
   "source": [
    "elements = driver.find_elements(By.CLASS_NAME, 'match_status')\n",
    "status = [elem.text for elem in elements]\n",
    "print(status)"
   ]
  },
  {
   "cell_type": "code",
   "execution_count": null,
   "metadata": {},
   "outputs": [],
   "source": [
    "df = pd.DataFrame(columns=['team_home', 'team_away', 'goals_home', 'goals_away'])\n",
    "df"
   ]
  },
  {
   "cell_type": "code",
   "execution_count": null,
   "metadata": {},
   "outputs": [],
   "source": [
    "df.team_home = teams[0::2]\n",
    "df.team_away = teams[1::2]\n",
    "df.goals_home = goals[0::2]\n",
    "df.goals_away = goals[1::2]\n",
    "df"
   ]
  },
  {
   "cell_type": "markdown",
   "metadata": {},
   "source": [
    "## fixtures"
   ]
  },
  {
   "cell_type": "code",
   "execution_count": null,
   "metadata": {},
   "outputs": [],
   "source": [
    "# Initialize the Chrome driver\n",
    "driver = webdriver.Chrome()\n",
    "\n",
    "# Load the website\n",
    "driver.get('https://tulospalvelu.palloliitto.fi/category/M7!etejp25/group/1/fixtures')"
   ]
  },
  {
   "cell_type": "code",
   "execution_count": null,
   "metadata": {},
   "outputs": [],
   "source": [
    "elements = driver.find_elements(By.CLASS_NAME, 'teamname')\n",
    "teams = [elem.text for elem in elements]\n",
    "print(teams)"
   ]
  },
  {
   "cell_type": "code",
   "execution_count": null,
   "metadata": {},
   "outputs": [],
   "source": [
    "fixtures = pd.DataFrame(columns=['Home', 'Away'])\n",
    "fixtures.Home = teams[0::2]\n",
    "fixtures.Away = teams[1::2]\n",
    "fixtures"
   ]
  },
  {
   "cell_type": "markdown",
   "metadata": {},
   "source": [
    "## table"
   ]
  },
  {
   "cell_type": "code",
   "execution_count": null,
   "metadata": {},
   "outputs": [],
   "source": [
    "# Initialize the Chrome driver\n",
    "driver = webdriver.Chrome()\n",
    "\n",
    "# Load the website\n",
    "driver.get('https://tulospalvelu.palloliitto.fi/category/M7!etejp25/group/1/')"
   ]
  },
  {
   "cell_type": "code",
   "execution_count": null,
   "metadata": {},
   "outputs": [],
   "source": [
    "elements = driver.find_elements(By.CLASS_NAME, 'text-start')\n",
    "teams = [elem.text for elem in elements]\n",
    "teams = teams[7::5]\n",
    "print(teams)"
   ]
  },
  {
   "cell_type": "code",
   "execution_count": null,
   "metadata": {},
   "outputs": [],
   "source": [
    "elements = driver.find_elements(By.CLASS_NAME, 'text-center')\n",
    "stats = [elem.text for elem in elements]\n",
    "stats = stats[6::]\n",
    "print(stats)"
   ]
  },
  {
   "cell_type": "code",
   "execution_count": null,
   "metadata": {},
   "outputs": [],
   "source": [
    "table = pd.DataFrame(columns=['Rk', 'Squad', 'MP', 'W', 'D', 'L', 'GF', 'GA', 'GD', 'Pts'])\n",
    "table"
   ]
  },
  {
   "cell_type": "code",
   "execution_count": null,
   "metadata": {},
   "outputs": [],
   "source": [
    "stats[4::6][0].split('–')[0]"
   ]
  },
  {
   "cell_type": "code",
   "execution_count": null,
   "metadata": {},
   "outputs": [],
   "source": [
    "[x.split('–')[0] for x in stats[4::6]]"
   ]
  },
  {
   "cell_type": "code",
   "execution_count": null,
   "metadata": {},
   "outputs": [],
   "source": [
    "table.Rk = np.arange(1, len(teams)+1)\n",
    "table.Squad = teams\n",
    "table.MP = stats[0::6]\n",
    "table.W = stats[1::6]\n",
    "table.D = stats[2::6]\n",
    "table.L = stats[3::6]\n",
    "table.GF = [x.split('–')[0] for x in stats[4::6]]\n",
    "table.GA = [x.split('–')[1] for x in stats[4::6]]\n",
    "table.GD = table['GF'].astype(int) - table['GA'].astype(int)\n",
    "table.Pts = stats[5::6]\n",
    "table"
   ]
  },
  {
   "cell_type": "markdown",
   "metadata": {},
   "source": [
    "## lineups"
   ]
  },
  {
   "cell_type": "markdown",
   "metadata": {},
   "source": [
    "### Get match ids"
   ]
  },
  {
   "cell_type": "code",
   "execution_count": null,
   "metadata": {},
   "outputs": [],
   "source": [
    "# Initialize the Chrome driver\n",
    "driver = webdriver.Chrome()\n",
    "\n",
    "# Load the website\n",
    "driver.get('https://tulospalvelu.palloliitto.fi/category/M7!etejp25/results')"
   ]
  },
  {
   "cell_type": "code",
   "execution_count": null,
   "metadata": {},
   "outputs": [],
   "source": [
    "# Scroll down repeatedly (to load more content)\n",
    "\n",
    "last_height = driver.execute_script(\"return document.body.scrollHeight\")\n",
    "while True:\n",
    "    driver.execute_script(\"window.scrollTo(0, document.body.scrollHeight);\")\n",
    "    time.sleep(2)  # Wait for loading\n",
    "\n",
    "    new_height = driver.execute_script(\"return document.body.scrollHeight\")\n",
    "    if new_height == last_height:\n",
    "        break  # No more content to load\n",
    "    last_height = new_height"
   ]
  },
  {
   "cell_type": "code",
   "execution_count": null,
   "metadata": {},
   "outputs": [],
   "source": [
    "# Find all elements with a 'matchid' attribute\n",
    "elements = driver.find_elements(By.XPATH, '//*[@matchid]')\n",
    "# Extract all match IDs\n",
    "match_ids = [el.get_attribute(\"matchid\") for el in elements]\n",
    "print(len(np.unique(match_ids)))"
   ]
  },
  {
   "cell_type": "markdown",
   "metadata": {},
   "source": [
    "### Get lineups"
   ]
  },
  {
   "cell_type": "code",
   "execution_count": null,
   "metadata": {},
   "outputs": [],
   "source": [
    "# Initialize the Chrome driver\n",
    "driver = webdriver.Chrome()\n",
    "wait = WebDriverWait(driver, 10)  # wait up to 10 seconds\n",
    "\n",
    "all_game_data = []\n",
    "for match_id in np.unique(match_ids):\n",
    "    # Load the website\n",
    "    driver.get(f'https://tulospalvelu.palloliitto.fi/match/{match_id}/lineups')\n",
    "    wait.until(EC.presence_of_element_located((By.ID, \"matchscore\")))\n",
    "    \n",
    "    # Extract team names\n",
    "    home_team = driver.find_element(By.CSS_SELECTOR, \"#A_team .teamname\").text.strip()\n",
    "    away_team = driver.find_element(By.CSS_SELECTOR, \"#B_team .teamname\").text.strip()\n",
    "\n",
    "    # Extract match score (e.g., \"2 – 1\")\n",
    "    score = driver.find_element(By.ID, \"matchscore\").text.strip().split(\"\\n\")[0]  # Remove subscore like (0–0)\n",
    "\n",
    "    home_team_goals = int(score.split('–')[0])\n",
    "    away_team_goals = int(score.split('–')[1])\n",
    "\n",
    "    # Print result\n",
    "    print(f\"{home_team} vs {away_team}: {home_team_goals} – {away_team_goals}\")\n",
    "\n",
    "    # Find both player tables\n",
    "    player_tables = driver.find_elements(By.XPATH, '//div[contains(@class, \"playerlist\")]')\n",
    "    \n",
    "    all_players = []\n",
    "    teams = [home_team, away_team]\n",
    "    goals = [home_team_goals, away_team_goals]\n",
    "    # Iterate through each player table (0 = first team, 1 = second team)\n",
    "    for idx, table in enumerate(player_tables):\n",
    "        team_label = teams[idx]\n",
    "        \n",
    "        # Find all player rows in this table\n",
    "        rows = table.find_elements(By.XPATH, './/table//tr')\n",
    "        \n",
    "        for row in rows:\n",
    "            try:\n",
    "                # Extract shirt number\n",
    "                shirt_number = row.find_element(By.XPATH, './/span[contains(@class, \"shirtnumber\")]').text.strip()\n",
    "            except:\n",
    "                shirt_number = \"\"\n",
    "\n",
    "            try:\n",
    "                # Extract name (text from the namenarrow span)\n",
    "                name_elem = row.find_element(By.XPATH, './/span[contains(@class, \"undefined\")]')\n",
    "                name_text = name_elem.text.strip()\n",
    "\n",
    "                # Remove \"| MV\", \"| C\", etc. if present\n",
    "                player_name = name_text.split('|')[0].strip()\n",
    "            except:\n",
    "                player_name = \"Unknown\"\n",
    "\n",
    "            all_players.append({\n",
    "                \"team\": team_label,\n",
    "                \"shirt_number\": shirt_number,\n",
    "                \"name\": player_name,\n",
    "                \"goals_scored\": goals[idx],\n",
    "                \"goals_conceded\": goals[1 - idx]  # Goals conceded is the other team's score\n",
    "            })\n",
    "\n",
    "    # Print all players\n",
    "    for player in all_players:\n",
    "        print(f\"{player['team']} - {player['shirt_number']} {player['name']}: Team goals scored: {player['goals_scored']}, Goals conceded: {player['goals_conceded']}\")\n",
    "\n",
    "    # Append to all game data\n",
    "    all_game_data.append({\n",
    "        \"match_id\": match_id,\n",
    "        \"home_team\": home_team,\n",
    "        \"away_team\": away_team,\n",
    "        \"home_goals\": home_team_goals,\n",
    "        \"away_goals\": away_team_goals,\n",
    "        \"players\": all_players\n",
    "    })\n",
    "\n",
    "# Close the driver after scraping\n",
    "driver.quit()"
   ]
  },
  {
   "cell_type": "code",
   "execution_count": null,
   "metadata": {},
   "outputs": [],
   "source": [
    "len(all_game_data)"
   ]
  },
  {
   "cell_type": "code",
   "execution_count": null,
   "metadata": {},
   "outputs": [],
   "source": [
    "df = pd.DataFrame(all_game_data)\n",
    "df"
   ]
  },
  {
   "cell_type": "code",
   "execution_count": null,
   "metadata": {},
   "outputs": [],
   "source": [
    "df_exploded = df.explode('players').reset_index(drop=True)\n",
    "df_exploded"
   ]
  },
  {
   "cell_type": "code",
   "execution_count": null,
   "metadata": {},
   "outputs": [],
   "source": [
    "# Normalize the dictionary into columns\n",
    "df_normalized = pd.concat(\n",
    "    [df_exploded.drop(columns=['players']),\n",
    "     pd.json_normalize(df_exploded['players'])],\n",
    "    axis=1\n",
    ")\n",
    "df_normalized"
   ]
  },
  {
   "cell_type": "code",
   "execution_count": null,
   "metadata": {},
   "outputs": [],
   "source": [
    "df_normalized.to_csv('../data/player_data_kevat.csv', index=False)"
   ]
  },
  {
   "cell_type": "code",
   "execution_count": null,
   "metadata": {},
   "outputs": [],
   "source": []
  }
 ],
 "metadata": {
  "kernelspec": {
   "display_name": "match_prediction",
   "language": "python",
   "name": "python3"
  },
  "language_info": {
   "codemirror_mode": {
    "name": "ipython",
    "version": 3
   },
   "file_extension": ".py",
   "mimetype": "text/x-python",
   "name": "python",
   "nbconvert_exporter": "python",
   "pygments_lexer": "ipython3",
   "version": "3.12.9"
  }
 },
 "nbformat": 4,
 "nbformat_minor": 2
}
