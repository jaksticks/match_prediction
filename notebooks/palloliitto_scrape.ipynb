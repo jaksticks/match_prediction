{
 "cells": [
  {
   "cell_type": "code",
   "execution_count": 1,
   "metadata": {},
   "outputs": [],
   "source": [
    "import pandas as pd\n",
    "import numpy as np\n",
    "import datetime as dt\n",
    "from pathlib import Path\n",
    "import logging\n",
    "import penaltyblog as pb\n",
    "from types import SimpleNamespace\n",
    "import time\n",
    "\n",
    "from selenium import webdriver\n",
    "from selenium.webdriver.common.by import By\n",
    "from selenium.webdriver.support.ui import WebDriverWait\n",
    "from selenium.webdriver.support import expected_conditions as EC"
   ]
  },
  {
   "cell_type": "code",
   "execution_count": 2,
   "metadata": {},
   "outputs": [],
   "source": [
    "import sys\n",
    "sys.path.append('../src')\n",
    "from dixon_coles import create_team_ratings, simulate_league, process_simulation_results"
   ]
  },
  {
   "cell_type": "code",
   "execution_count": 3,
   "metadata": {},
   "outputs": [],
   "source": [
    "# Set up basic logging\n",
    "logging.basicConfig(\n",
    "    level=logging.INFO,\n",
    "    format=\"%(asctime)s - %(levelname)s - %(message)s\"\n",
    ")"
   ]
  },
  {
   "cell_type": "markdown",
   "metadata": {},
   "source": [
    "# Functions"
   ]
  },
  {
   "cell_type": "code",
   "execution_count": 4,
   "metadata": {},
   "outputs": [],
   "source": [
    "def initialize_webdriver(url):\n",
    "\n",
    "    # initialize webdriver\n",
    "    driver = webdriver.Chrome()\n",
    "    # load the website\n",
    "    driver.get(url)\n",
    "\n",
    "    return driver"
   ]
  },
  {
   "cell_type": "code",
   "execution_count": 5,
   "metadata": {},
   "outputs": [],
   "source": [
    "def scroll_page(driver):\n",
    "\n",
    "    # Scroll down repeatedly (to load more content)\n",
    "    last_height = driver.execute_script(\"return document.body.scrollHeight\")\n",
    "    while True:\n",
    "        driver.execute_script(\"window.scrollTo(0, document.body.scrollHeight);\")\n",
    "        time.sleep(2)  # Wait for loading\n",
    "\n",
    "        new_height = driver.execute_script(\"return document.body.scrollHeight\")\n",
    "        if new_height == last_height:\n",
    "            break  # No more content to load\n",
    "        last_height = new_height"
   ]
  },
  {
   "cell_type": "code",
   "execution_count": 6,
   "metadata": {},
   "outputs": [],
   "source": [
    "def get_results(driver):\n",
    "\n",
    "    # Get teams\n",
    "    elements = driver.find_elements(By.CLASS_NAME, 'teamname')\n",
    "    teams = [elem.text for elem in elements]\n",
    "\n",
    "    # Get goals\n",
    "    elements = driver.find_elements(By.CLASS_NAME, 'scorefs')\n",
    "    goals = [elem.text for elem in elements]\n",
    "\n",
    "    # Check if the number of teams and goals match and only use games where the result is known\n",
    "    teams = teams[-len(goals):]\n",
    "\n",
    "    # create dataframe\n",
    "    df = pd.DataFrame(columns=['team_home', 'team_away', 'goals_home', 'goals_away'])\n",
    "    df.team_home = teams[0::2]\n",
    "    df.team_away = teams[1::2]\n",
    "    df.goals_home = goals[0::2]\n",
    "    df.goals_away = goals[1::2]\n",
    "\n",
    "    return df"
   ]
  },
  {
   "cell_type": "code",
   "execution_count": 7,
   "metadata": {},
   "outputs": [],
   "source": [
    "def get_fixtures(driver):\n",
    "    \n",
    "    # get teams\n",
    "    elements = driver.find_elements(By.CLASS_NAME, 'teamname')\n",
    "    teams = [elem.text for elem in elements]\n",
    "\n",
    "    # re-create fixtures\n",
    "    fixtures = pd.DataFrame(columns=['Home', 'Away'])\n",
    "    fixtures.Home = teams[0::2]\n",
    "    fixtures.Away = teams[1::2]\n",
    "    \n",
    "    return fixtures"
   ]
  },
  {
   "cell_type": "code",
   "execution_count": 8,
   "metadata": {},
   "outputs": [],
   "source": [
    "def get_table(driver):\n",
    "\n",
    "    # get teams\n",
    "    elements = driver.find_elements(By.CLASS_NAME, 'text-start')\n",
    "    teams = [elem.text for elem in elements]\n",
    "    teams = teams[7::5]\n",
    "\n",
    "    # get stats\n",
    "    elements = driver.find_elements(By.CLASS_NAME, 'text-center')\n",
    "    stats = [elem.text for elem in elements]\n",
    "    stats = stats[6::]\n",
    "\n",
    "    table = pd.DataFrame(columns=['Rk', 'Squad', 'MP', 'W', 'D', 'L', 'GF', 'GA', 'GD', 'Pts'])\n",
    "    table.Rk = np.arange(1, len(teams)+1)\n",
    "    table.Squad = teams\n",
    "    table.MP = stats[0::6]\n",
    "    table.W = stats[1::6]\n",
    "    table.D = stats[2::6]\n",
    "    table.L = stats[3::6]\n",
    "    table.GF = [x.split('–')[0] for x in stats[4::6]]\n",
    "    table.GA = [x.split('–')[1] for x in stats[4::6]]\n",
    "    table.GD = table['GF'].astype(int) - table['GA'].astype(int)\n",
    "    table.Pts = stats[5::6]\n",
    "\n",
    "    # convert to numeric\n",
    "    table[['Rk', 'MP', 'W', 'D', 'L', 'GF', 'GA', 'GD', 'Pts']] = (\n",
    "        table[['Rk', 'MP', 'W', 'D', 'L', 'GF', 'GA', 'GD', 'Pts']].apply(pd.to_numeric, errors='coerce')\n",
    "    )\n",
    "\n",
    "    return table"
   ]
  },
  {
   "cell_type": "markdown",
   "metadata": {},
   "source": [
    "# Scrape data"
   ]
  },
  {
   "cell_type": "code",
   "execution_count": 9,
   "metadata": {},
   "outputs": [],
   "source": [
    "#my_group = 3\n",
    "#driver = initialize_webdriver(f'https://tulospalvelu.palloliitto.fi/category/M7!etejp25/group/{my_group}/results')\n",
    "driver = initialize_webdriver(f'https://tulospalvelu.palloliitto.fi/category/M7!etejp25/results') # all results\n",
    "scroll_page(driver)"
   ]
  },
  {
   "cell_type": "code",
   "execution_count": 10,
   "metadata": {},
   "outputs": [
    {
     "data": {
      "text/html": [
       "<div>\n",
       "<style scoped>\n",
       "    .dataframe tbody tr th:only-of-type {\n",
       "        vertical-align: middle;\n",
       "    }\n",
       "\n",
       "    .dataframe tbody tr th {\n",
       "        vertical-align: top;\n",
       "    }\n",
       "\n",
       "    .dataframe thead th {\n",
       "        text-align: right;\n",
       "    }\n",
       "</style>\n",
       "<table border=\"1\" class=\"dataframe\">\n",
       "  <thead>\n",
       "    <tr style=\"text-align: right;\">\n",
       "      <th></th>\n",
       "      <th>team_home</th>\n",
       "      <th>team_away</th>\n",
       "      <th>goals_home</th>\n",
       "      <th>goals_away</th>\n",
       "    </tr>\n",
       "  </thead>\n",
       "  <tbody>\n",
       "    <tr>\n",
       "      <th>0</th>\n",
       "      <td>Kullervo/Überkleber</td>\n",
       "      <td>JJ Vepo</td>\n",
       "      <td>3</td>\n",
       "      <td>0</td>\n",
       "    </tr>\n",
       "    <tr>\n",
       "      <th>1</th>\n",
       "      <td>Trikiinit</td>\n",
       "      <td>Kullervo</td>\n",
       "      <td>4</td>\n",
       "      <td>1</td>\n",
       "    </tr>\n",
       "    <tr>\n",
       "      <th>2</th>\n",
       "      <td>PK-35/Äijät</td>\n",
       "      <td>Cosmos</td>\n",
       "      <td>2</td>\n",
       "      <td>1</td>\n",
       "    </tr>\n",
       "    <tr>\n",
       "      <th>3</th>\n",
       "      <td>FC Pakila</td>\n",
       "      <td>MoPo</td>\n",
       "      <td>5</td>\n",
       "      <td>1</td>\n",
       "    </tr>\n",
       "    <tr>\n",
       "      <th>4</th>\n",
       "      <td>Kilo IF/2</td>\n",
       "      <td>OT-77</td>\n",
       "      <td>3</td>\n",
       "      <td>2</td>\n",
       "    </tr>\n",
       "    <tr>\n",
       "      <th>...</th>\n",
       "      <td>...</td>\n",
       "      <td>...</td>\n",
       "      <td>...</td>\n",
       "      <td>...</td>\n",
       "    </tr>\n",
       "    <tr>\n",
       "      <th>125</th>\n",
       "      <td>FC Lähiö</td>\n",
       "      <td>Valtti/TDJ</td>\n",
       "      <td>1</td>\n",
       "      <td>1</td>\n",
       "    </tr>\n",
       "    <tr>\n",
       "      <th>126</th>\n",
       "      <td>JJ Vepo</td>\n",
       "      <td>LPS/7</td>\n",
       "      <td>1</td>\n",
       "      <td>2</td>\n",
       "    </tr>\n",
       "    <tr>\n",
       "      <th>127</th>\n",
       "      <td>Ponnistus/TK</td>\n",
       "      <td>Tavastia/FC Mojo</td>\n",
       "      <td>2</td>\n",
       "      <td>6</td>\n",
       "    </tr>\n",
       "    <tr>\n",
       "      <th>128</th>\n",
       "      <td>Valtti/4</td>\n",
       "      <td>KOPSE/CRPS FC</td>\n",
       "      <td>3</td>\n",
       "      <td>0</td>\n",
       "    </tr>\n",
       "    <tr>\n",
       "      <th>129</th>\n",
       "      <td>Valtti/4</td>\n",
       "      <td>PK-35/Äijät</td>\n",
       "      <td>2</td>\n",
       "      <td>0</td>\n",
       "    </tr>\n",
       "  </tbody>\n",
       "</table>\n",
       "<p>130 rows × 4 columns</p>\n",
       "</div>"
      ],
      "text/plain": [
       "               team_home         team_away goals_home goals_away\n",
       "0    Kullervo/Überkleber           JJ Vepo          3          0\n",
       "1              Trikiinit          Kullervo          4          1\n",
       "2            PK-35/Äijät            Cosmos          2          1\n",
       "3              FC Pakila              MoPo          5          1\n",
       "4              Kilo IF/2             OT-77          3          2\n",
       "..                   ...               ...        ...        ...\n",
       "125             FC Lähiö        Valtti/TDJ          1          1\n",
       "126              JJ Vepo             LPS/7          1          2\n",
       "127         Ponnistus/TK  Tavastia/FC Mojo          2          6\n",
       "128             Valtti/4     KOPSE/CRPS FC          3          0\n",
       "129             Valtti/4       PK-35/Äijät          2          0\n",
       "\n",
       "[130 rows x 4 columns]"
      ]
     },
     "execution_count": 10,
     "metadata": {},
     "output_type": "execute_result"
    }
   ],
   "source": [
    "df = get_results(driver)\n",
    "#df.to_csv(f'../data/results_kevat25.csv', index=False)\n",
    "df"
   ]
  },
  {
   "cell_type": "code",
   "execution_count": 11,
   "metadata": {},
   "outputs": [],
   "source": [
    "my_group = 4\n",
    "driver = initialize_webdriver(f'https://tulospalvelu.palloliitto.fi/category/M7!etejp25/group/{my_group}/fixtures')\n",
    "scroll_page(driver)"
   ]
  },
  {
   "cell_type": "code",
   "execution_count": 12,
   "metadata": {},
   "outputs": [
    {
     "data": {
      "text/html": [
       "<div>\n",
       "<style scoped>\n",
       "    .dataframe tbody tr th:only-of-type {\n",
       "        vertical-align: middle;\n",
       "    }\n",
       "\n",
       "    .dataframe tbody tr th {\n",
       "        vertical-align: top;\n",
       "    }\n",
       "\n",
       "    .dataframe thead th {\n",
       "        text-align: right;\n",
       "    }\n",
       "</style>\n",
       "<table border=\"1\" class=\"dataframe\">\n",
       "  <thead>\n",
       "    <tr style=\"text-align: right;\">\n",
       "      <th></th>\n",
       "      <th>Home</th>\n",
       "      <th>Away</th>\n",
       "    </tr>\n",
       "  </thead>\n",
       "  <tbody>\n",
       "    <tr>\n",
       "      <th>0</th>\n",
       "      <td>Käpylän Sekunda</td>\n",
       "      <td>PK-35/Äijät</td>\n",
       "    </tr>\n",
       "    <tr>\n",
       "      <th>1</th>\n",
       "      <td>Cosmos</td>\n",
       "      <td>Valtti/4</td>\n",
       "    </tr>\n",
       "    <tr>\n",
       "      <th>2</th>\n",
       "      <td>MLHF/Reserves</td>\n",
       "      <td>Trikiinit</td>\n",
       "    </tr>\n",
       "    <tr>\n",
       "      <th>3</th>\n",
       "      <td>Kullervo</td>\n",
       "      <td>Valtti/TDJ</td>\n",
       "    </tr>\n",
       "    <tr>\n",
       "      <th>4</th>\n",
       "      <td>Cosmos</td>\n",
       "      <td>Käpylän Sekunda</td>\n",
       "    </tr>\n",
       "    <tr>\n",
       "      <th>5</th>\n",
       "      <td>MLHF/Reserves</td>\n",
       "      <td>Valtti/TDJ</td>\n",
       "    </tr>\n",
       "    <tr>\n",
       "      <th>6</th>\n",
       "      <td>PK-35/Äijät</td>\n",
       "      <td>FC Lähiö</td>\n",
       "    </tr>\n",
       "    <tr>\n",
       "      <th>7</th>\n",
       "      <td>Valtti/4</td>\n",
       "      <td>Trikiinit</td>\n",
       "    </tr>\n",
       "    <tr>\n",
       "      <th>8</th>\n",
       "      <td>Trikiinit</td>\n",
       "      <td>PK-35/Äijät</td>\n",
       "    </tr>\n",
       "    <tr>\n",
       "      <th>9</th>\n",
       "      <td>Kullervo</td>\n",
       "      <td>MLHF/Reserves</td>\n",
       "    </tr>\n",
       "    <tr>\n",
       "      <th>10</th>\n",
       "      <td>FC Lähiö</td>\n",
       "      <td>Valtti/4</td>\n",
       "    </tr>\n",
       "    <tr>\n",
       "      <th>11</th>\n",
       "      <td>Valtti/TDJ</td>\n",
       "      <td>Cosmos</td>\n",
       "    </tr>\n",
       "    <tr>\n",
       "      <th>12</th>\n",
       "      <td>PK-35/Äijät</td>\n",
       "      <td>MLHF/Reserves</td>\n",
       "    </tr>\n",
       "    <tr>\n",
       "      <th>13</th>\n",
       "      <td>Cosmos</td>\n",
       "      <td>Trikiinit</td>\n",
       "    </tr>\n",
       "    <tr>\n",
       "      <th>14</th>\n",
       "      <td>Käpylän Sekunda</td>\n",
       "      <td>FC Lähiö</td>\n",
       "    </tr>\n",
       "    <tr>\n",
       "      <th>15</th>\n",
       "      <td>Valtti/4</td>\n",
       "      <td>Kullervo</td>\n",
       "    </tr>\n",
       "    <tr>\n",
       "      <th>16</th>\n",
       "      <td>Trikiinit</td>\n",
       "      <td>FC Lähiö</td>\n",
       "    </tr>\n",
       "    <tr>\n",
       "      <th>17</th>\n",
       "      <td>Kullervo</td>\n",
       "      <td>Cosmos</td>\n",
       "    </tr>\n",
       "    <tr>\n",
       "      <th>18</th>\n",
       "      <td>MLHF/Reserves</td>\n",
       "      <td>Käpylän Sekunda</td>\n",
       "    </tr>\n",
       "    <tr>\n",
       "      <th>19</th>\n",
       "      <td>Valtti/TDJ</td>\n",
       "      <td>Valtti/4</td>\n",
       "    </tr>\n",
       "    <tr>\n",
       "      <th>20</th>\n",
       "      <td>Käpylän Sekunda</td>\n",
       "      <td>Kullervo</td>\n",
       "    </tr>\n",
       "    <tr>\n",
       "      <th>21</th>\n",
       "      <td>Cosmos</td>\n",
       "      <td>MLHF/Reserves</td>\n",
       "    </tr>\n",
       "    <tr>\n",
       "      <th>22</th>\n",
       "      <td>FC Lähiö</td>\n",
       "      <td>Valtti/TDJ</td>\n",
       "    </tr>\n",
       "    <tr>\n",
       "      <th>23</th>\n",
       "      <td>Valtti/4</td>\n",
       "      <td>PK-35/Äijät</td>\n",
       "    </tr>\n",
       "    <tr>\n",
       "      <th>24</th>\n",
       "      <td>Kullervo</td>\n",
       "      <td>FC Lähiö</td>\n",
       "    </tr>\n",
       "    <tr>\n",
       "      <th>25</th>\n",
       "      <td>Valtti/TDJ</td>\n",
       "      <td>PK-35/Äijät</td>\n",
       "    </tr>\n",
       "    <tr>\n",
       "      <th>26</th>\n",
       "      <td>PK-35/Äijät</td>\n",
       "      <td>Kullervo</td>\n",
       "    </tr>\n",
       "    <tr>\n",
       "      <th>27</th>\n",
       "      <td>FC Lähiö</td>\n",
       "      <td>Cosmos</td>\n",
       "    </tr>\n",
       "    <tr>\n",
       "      <th>28</th>\n",
       "      <td>Trikiinit</td>\n",
       "      <td>Valtti/TDJ</td>\n",
       "    </tr>\n",
       "    <tr>\n",
       "      <th>29</th>\n",
       "      <td>Valtti/4</td>\n",
       "      <td>Käpylän Sekunda</td>\n",
       "    </tr>\n",
       "    <tr>\n",
       "      <th>30</th>\n",
       "      <td>Käpylän Sekunda</td>\n",
       "      <td>Trikiinit</td>\n",
       "    </tr>\n",
       "    <tr>\n",
       "      <th>31</th>\n",
       "      <td>MLHF/Reserves</td>\n",
       "      <td>Valtti/4</td>\n",
       "    </tr>\n",
       "  </tbody>\n",
       "</table>\n",
       "</div>"
      ],
      "text/plain": [
       "               Home             Away\n",
       "0   Käpylän Sekunda      PK-35/Äijät\n",
       "1            Cosmos         Valtti/4\n",
       "2     MLHF/Reserves        Trikiinit\n",
       "3          Kullervo       Valtti/TDJ\n",
       "4            Cosmos  Käpylän Sekunda\n",
       "5     MLHF/Reserves       Valtti/TDJ\n",
       "6       PK-35/Äijät         FC Lähiö\n",
       "7          Valtti/4        Trikiinit\n",
       "8         Trikiinit      PK-35/Äijät\n",
       "9          Kullervo    MLHF/Reserves\n",
       "10         FC Lähiö         Valtti/4\n",
       "11       Valtti/TDJ           Cosmos\n",
       "12      PK-35/Äijät    MLHF/Reserves\n",
       "13           Cosmos        Trikiinit\n",
       "14  Käpylän Sekunda         FC Lähiö\n",
       "15         Valtti/4         Kullervo\n",
       "16        Trikiinit         FC Lähiö\n",
       "17         Kullervo           Cosmos\n",
       "18    MLHF/Reserves  Käpylän Sekunda\n",
       "19       Valtti/TDJ         Valtti/4\n",
       "20  Käpylän Sekunda         Kullervo\n",
       "21           Cosmos    MLHF/Reserves\n",
       "22         FC Lähiö       Valtti/TDJ\n",
       "23         Valtti/4      PK-35/Äijät\n",
       "24         Kullervo         FC Lähiö\n",
       "25       Valtti/TDJ      PK-35/Äijät\n",
       "26      PK-35/Äijät         Kullervo\n",
       "27         FC Lähiö           Cosmos\n",
       "28        Trikiinit       Valtti/TDJ\n",
       "29         Valtti/4  Käpylän Sekunda\n",
       "30  Käpylän Sekunda        Trikiinit\n",
       "31    MLHF/Reserves         Valtti/4"
      ]
     },
     "execution_count": 12,
     "metadata": {},
     "output_type": "execute_result"
    }
   ],
   "source": [
    "fixtures = get_fixtures(driver)\n",
    "#fixtures.to_csv(f'../data/fixtures_kevat25.csv', index=False)\n",
    "fixtures"
   ]
  },
  {
   "cell_type": "code",
   "execution_count": 13,
   "metadata": {},
   "outputs": [],
   "source": [
    "driver = initialize_webdriver(f'https://tulospalvelu.palloliitto.fi/category/M7!etejp25/group/{my_group}/')"
   ]
  },
  {
   "cell_type": "code",
   "execution_count": 14,
   "metadata": {},
   "outputs": [
    {
     "data": {
      "text/html": [
       "<div>\n",
       "<style scoped>\n",
       "    .dataframe tbody tr th:only-of-type {\n",
       "        vertical-align: middle;\n",
       "    }\n",
       "\n",
       "    .dataframe tbody tr th {\n",
       "        vertical-align: top;\n",
       "    }\n",
       "\n",
       "    .dataframe thead th {\n",
       "        text-align: right;\n",
       "    }\n",
       "</style>\n",
       "<table border=\"1\" class=\"dataframe\">\n",
       "  <thead>\n",
       "    <tr style=\"text-align: right;\">\n",
       "      <th></th>\n",
       "      <th>Rk</th>\n",
       "      <th>Squad</th>\n",
       "      <th>MP</th>\n",
       "      <th>W</th>\n",
       "      <th>D</th>\n",
       "      <th>L</th>\n",
       "      <th>GF</th>\n",
       "      <th>GA</th>\n",
       "      <th>GD</th>\n",
       "      <th>Pts</th>\n",
       "    </tr>\n",
       "  </thead>\n",
       "  <tbody>\n",
       "    <tr>\n",
       "      <th>0</th>\n",
       "      <td>1</td>\n",
       "      <td>Valtti/TDJ</td>\n",
       "      <td>1</td>\n",
       "      <td>1</td>\n",
       "      <td>0</td>\n",
       "      <td>0</td>\n",
       "      <td>5</td>\n",
       "      <td>0</td>\n",
       "      <td>5</td>\n",
       "      <td>3</td>\n",
       "    </tr>\n",
       "    <tr>\n",
       "      <th>1</th>\n",
       "      <td>2</td>\n",
       "      <td>Trikiinit</td>\n",
       "      <td>1</td>\n",
       "      <td>1</td>\n",
       "      <td>0</td>\n",
       "      <td>0</td>\n",
       "      <td>4</td>\n",
       "      <td>1</td>\n",
       "      <td>3</td>\n",
       "      <td>3</td>\n",
       "    </tr>\n",
       "    <tr>\n",
       "      <th>2</th>\n",
       "      <td>3</td>\n",
       "      <td>PK-35/Äijät</td>\n",
       "      <td>1</td>\n",
       "      <td>1</td>\n",
       "      <td>0</td>\n",
       "      <td>0</td>\n",
       "      <td>2</td>\n",
       "      <td>1</td>\n",
       "      <td>1</td>\n",
       "      <td>3</td>\n",
       "    </tr>\n",
       "    <tr>\n",
       "      <th>3</th>\n",
       "      <td>4</td>\n",
       "      <td>FC Lähiö</td>\n",
       "      <td>1</td>\n",
       "      <td>1</td>\n",
       "      <td>0</td>\n",
       "      <td>0</td>\n",
       "      <td>2</td>\n",
       "      <td>1</td>\n",
       "      <td>1</td>\n",
       "      <td>3</td>\n",
       "    </tr>\n",
       "    <tr>\n",
       "      <th>4</th>\n",
       "      <td>5</td>\n",
       "      <td>Cosmos</td>\n",
       "      <td>1</td>\n",
       "      <td>0</td>\n",
       "      <td>0</td>\n",
       "      <td>1</td>\n",
       "      <td>1</td>\n",
       "      <td>2</td>\n",
       "      <td>-1</td>\n",
       "      <td>0</td>\n",
       "    </tr>\n",
       "    <tr>\n",
       "      <th>5</th>\n",
       "      <td>6</td>\n",
       "      <td>MLHF/Reserves</td>\n",
       "      <td>1</td>\n",
       "      <td>0</td>\n",
       "      <td>0</td>\n",
       "      <td>1</td>\n",
       "      <td>1</td>\n",
       "      <td>2</td>\n",
       "      <td>-1</td>\n",
       "      <td>0</td>\n",
       "    </tr>\n",
       "    <tr>\n",
       "      <th>6</th>\n",
       "      <td>7</td>\n",
       "      <td>Kullervo</td>\n",
       "      <td>1</td>\n",
       "      <td>0</td>\n",
       "      <td>0</td>\n",
       "      <td>1</td>\n",
       "      <td>1</td>\n",
       "      <td>4</td>\n",
       "      <td>-3</td>\n",
       "      <td>0</td>\n",
       "    </tr>\n",
       "    <tr>\n",
       "      <th>7</th>\n",
       "      <td>8</td>\n",
       "      <td>Käpylän Sekunda</td>\n",
       "      <td>1</td>\n",
       "      <td>0</td>\n",
       "      <td>0</td>\n",
       "      <td>1</td>\n",
       "      <td>0</td>\n",
       "      <td>5</td>\n",
       "      <td>-5</td>\n",
       "      <td>0</td>\n",
       "    </tr>\n",
       "    <tr>\n",
       "      <th>8</th>\n",
       "      <td>9</td>\n",
       "      <td>Valtti/4</td>\n",
       "      <td>0</td>\n",
       "      <td>0</td>\n",
       "      <td>0</td>\n",
       "      <td>0</td>\n",
       "      <td>0</td>\n",
       "      <td>0</td>\n",
       "      <td>0</td>\n",
       "      <td>0</td>\n",
       "    </tr>\n",
       "  </tbody>\n",
       "</table>\n",
       "</div>"
      ],
      "text/plain": [
       "   Rk            Squad  MP  W  D  L  GF  GA  GD  Pts\n",
       "0   1       Valtti/TDJ   1  1  0  0   5   0   5    3\n",
       "1   2        Trikiinit   1  1  0  0   4   1   3    3\n",
       "2   3      PK-35/Äijät   1  1  0  0   2   1   1    3\n",
       "3   4         FC Lähiö   1  1  0  0   2   1   1    3\n",
       "4   5           Cosmos   1  0  0  1   1   2  -1    0\n",
       "5   6    MLHF/Reserves   1  0  0  1   1   2  -1    0\n",
       "6   7         Kullervo   1  0  0  1   1   4  -3    0\n",
       "7   8  Käpylän Sekunda   1  0  0  1   0   5  -5    0\n",
       "8   9         Valtti/4   0  0  0  0   0   0   0    0"
      ]
     },
     "execution_count": 14,
     "metadata": {},
     "output_type": "execute_result"
    }
   ],
   "source": [
    "table = get_table(driver)\n",
    "#table.to_csv(f'../data/table_syksy1_25.csv', index=False)\n",
    "table"
   ]
  },
  {
   "cell_type": "markdown",
   "metadata": {},
   "source": [
    "# Model"
   ]
  },
  {
   "cell_type": "code",
   "execution_count": 15,
   "metadata": {},
   "outputs": [],
   "source": [
    "clf = pb.models.DixonColesGoalModel(\n",
    "    df[\"goals_home\"], df[\"goals_away\"], df[\"team_home\"], df[\"team_away\"],\n",
    ")\n",
    "\n",
    "clf.fit()"
   ]
  },
  {
   "cell_type": "code",
   "execution_count": 16,
   "metadata": {},
   "outputs": [
    {
     "data": {
      "text/plain": [
       "{'attack_AC StaSi/Europort': np.float64(1.11857491809398),\n",
       " 'attack_AFC EMU': np.float64(1.2010479534613931),\n",
       " 'attack_Cosmos': np.float64(0.9723693489895427),\n",
       " 'attack_FC Lähiö': np.float64(1.7431603253578927),\n",
       " 'attack_FC POHU/Kova Kamppi': np.float64(1.5244651289601279),\n",
       " 'attack_FC POHU/Sober': np.float64(0.47920992371981935),\n",
       " 'attack_FC Pakila': np.float64(0.859072941514227),\n",
       " 'attack_FC Puimur': np.float64(0.4574153685815606),\n",
       " 'attack_HPS/Rangers': np.float64(1.6175283976044876),\n",
       " 'attack_HeKuLa': np.float64(0.18566228360194162),\n",
       " 'attack_JJ Vepo': np.float64(0.6144218351439167),\n",
       " 'attack_KOPSE/CRPS FC': np.float64(0.9308300777132376),\n",
       " 'attack_Kasiysi/3': np.float64(-0.031034366149256244),\n",
       " 'attack_Kilo IF/2': np.float64(0.6269916268782275),\n",
       " 'attack_Kullervo': np.float64(0.916092654580319),\n",
       " 'attack_Kullervo/Überkleber': np.float64(1.34319384374409),\n",
       " 'attack_Käpylän Sekunda': np.float64(1.4627451216829823),\n",
       " 'attack_LPS/7': np.float64(0.7157305473660058),\n",
       " 'attack_MLHF/Reserves': np.float64(1.4488100817970637),\n",
       " 'attack_MoPo': np.float64(0.25804174872211566),\n",
       " 'attack_OT-77': np.float64(-0.4586592696805273),\n",
       " 'attack_PK-35/Äijät': np.float64(1.4296812582164293),\n",
       " 'attack_Ponnistus/TK': np.float64(1.4611588684155983),\n",
       " 'attack_Tavastia/FC Mojo': np.float64(1.7029625923850575),\n",
       " 'attack_ToTe/Arabia': np.float64(1.2971178366672311),\n",
       " 'attack_Trikiinit': np.float64(1.4086078754662363),\n",
       " 'attack_Valtti/4': np.float64(0.8931355932085713),\n",
       " 'attack_Valtti/TDJ': np.float64(1.821665483957726),\n",
       " 'defence_AC StaSi/Europort': np.float64(0.1585970264547613),\n",
       " 'defence_AFC EMU': np.float64(-0.7249685165088398),\n",
       " 'defence_Cosmos': np.float64(-0.4452289599865369),\n",
       " 'defence_FC Lähiö': np.float64(-1.2202293228948151),\n",
       " 'defence_FC POHU/Kova Kamppi': np.float64(-0.8012504074487299),\n",
       " 'defence_FC POHU/Sober': np.float64(-0.09838470957257708),\n",
       " 'defence_FC Pakila': np.float64(-0.21048434364817142),\n",
       " 'defence_FC Puimur': np.float64(-0.1589163730558243),\n",
       " 'defence_HPS/Rangers': np.float64(-0.8670962580856925),\n",
       " 'defence_HeKuLa': np.float64(-0.06781816115019615),\n",
       " 'defence_JJ Vepo': np.float64(0.39751216386446386),\n",
       " 'defence_KOPSE/CRPS FC': np.float64(0.005342527326383315),\n",
       " 'defence_Kasiysi/3': np.float64(-0.1413759795590481),\n",
       " 'defence_Kilo IF/2': np.float64(0.48822672124337696),\n",
       " 'defence_Kullervo': np.float64(-0.37831975699833037),\n",
       " 'defence_Kullervo/Überkleber': np.float64(-0.40589062197182973),\n",
       " 'defence_Käpylän Sekunda': np.float64(-0.5620526600657482),\n",
       " 'defence_LPS/7': np.float64(-0.45833703291181555),\n",
       " 'defence_MLHF/Reserves': np.float64(-1.0150039798488415),\n",
       " 'defence_MoPo': np.float64(0.44360665373438357),\n",
       " 'defence_OT-77': np.float64(0.38151234285808844),\n",
       " 'defence_PK-35/Äijät': np.float64(-0.7532839712064847),\n",
       " 'defence_Ponnistus/TK': np.float64(-0.760081473664692),\n",
       " 'defence_Tavastia/FC Mojo': np.float64(-0.615113458071196),\n",
       " 'defence_ToTe/Arabia': np.float64(-0.34152831362234604),\n",
       " 'defence_Trikiinit': np.float64(-0.4450945085677673),\n",
       " 'defence_Valtti/4': np.float64(-1.5019935642632347),\n",
       " 'defence_Valtti/TDJ': np.float64(-1.3780222160944273),\n",
       " 'home_advantage': np.float64(1.733769699395335e-15),\n",
       " 'rho': np.float64(-0.6156107913168419)}"
      ]
     },
     "execution_count": 16,
     "metadata": {},
     "output_type": "execute_result"
    }
   ],
   "source": [
    "clf.get_params()"
   ]
  },
  {
   "cell_type": "markdown",
   "metadata": {},
   "source": [
    "# Ratings"
   ]
  },
  {
   "cell_type": "code",
   "execution_count": 17,
   "metadata": {},
   "outputs": [
    {
     "name": "stderr",
     "output_type": "stream",
     "text": [
      "2025-08-11 17:58:32,041 - INFO - Creating team ratings...\n",
      "2025-08-11 17:58:32,042 - INFO - Median attack value: 1.11857491809398, Team(s): ['AC StaSi/Europort']\n",
      "2025-08-11 17:58:32,042 - INFO - Median defense value: -0.40589062197182973, Team(s): ['Kullervo/Überkleber']\n",
      "2025-08-11 17:58:32,051 - INFO - Team ratings:\n",
      "                   team  attack_rating  defense_rating  goal_difference_rating\n",
      "1            Valtti/TDJ       4.119677        0.771478                3.348200\n",
      "2              FC Lähiö       3.808631        0.903342                2.905289\n",
      "3           HPS/Rangers       3.358981        1.285925                2.073056\n",
      "4      Tavastia/FC Mojo       3.658569        1.654438                2.004130\n",
      "5         MLHF/Reserves       2.837489        1.109124                1.728364\n",
      "6   FC POHU/Kova Kamppi       3.060488        1.373448                1.687040\n",
      "7          Ponnistus/TK       2.872746        1.431172                1.441574\n",
      "8           PK-35/Äijät       2.783727        1.440933                1.342794\n",
      "9       Käpylän Sekunda       2.877306        1.744595                1.132711\n",
      "10             Valtti/4       1.627825        0.681528                0.946298\n",
      "11            Trikiinit       2.725678        1.961051                0.764627\n",
      "12              AFC EMU       2.214789        1.482317                0.732472\n",
      "13  Kullervo/Überkleber       2.553087        2.039458                0.513629\n",
      "14          ToTe/Arabia       2.438120        2.175039                0.263081\n",
      "15               Cosmos       1.762051        1.960787               -0.198736\n",
      "16             Kullervo       1.665628        2.096470               -0.430843\n",
      "17                LPS/7       1.363207        1.935253               -0.572046\n",
      "18            FC Pakila       1.573311        2.479583               -0.906272\n",
      "19        KOPSE/CRPS FC       1.690357        3.076884               -1.386528\n",
      "20    AC StaSi/Europort       2.039458        3.586483               -1.547024\n",
      "21            FC Puimur       1.052875        2.610805               -1.557930\n",
      "22        FC POHU/Sober       1.076074        2.773722               -1.697648\n",
      "23            Kasiysi/3       0.646020        2.657003               -2.010983\n",
      "24               HeKuLa       0.802336        2.859814               -2.057479\n",
      "25              JJ Vepo       1.231867        4.554369               -3.322502\n",
      "26            Kilo IF/2       1.247449        4.986836               -3.739387\n",
      "27                 MoPo       0.862561        4.769214               -3.906653\n",
      "28                OT-77       0.421241        4.482080               -4.060839\n"
     ]
    }
   ],
   "source": [
    "teams = df['team_home'].unique()\n",
    "args = SimpleNamespace(save_simulation_results=True, league=f'Syksy')\n",
    "ratings_df = create_team_ratings(clf, teams, args, export_ratings=True)"
   ]
  },
  {
   "cell_type": "markdown",
   "metadata": {},
   "source": [
    "# Simulation"
   ]
  },
  {
   "cell_type": "code",
   "execution_count": 18,
   "metadata": {},
   "outputs": [
    {
     "name": "stderr",
     "output_type": "stream",
     "text": [
      "2025-08-11 17:59:44,228 - INFO - Starting to run simulations...\n",
      "Simulating...: 100%|██████████| 1000/1000 [01:18<00:00, 12.79it/s]\n",
      "2025-08-11 18:01:02,436 - INFO - Simulations finished.\n"
     ]
    }
   ],
   "source": [
    "nr_simulations = 1000\n",
    "simulation_results_df = simulate_league(clf, table, fixtures, nr_simulations)"
   ]
  },
  {
   "cell_type": "code",
   "execution_count": 19,
   "metadata": {},
   "outputs": [
    {
     "name": "stderr",
     "output_type": "stream",
     "text": [
      "2025-08-11 18:01:07,595 - INFO - Processing simulation results...\n"
     ]
    },
    {
     "data": {
      "image/png": "[encoded data removed]",
      "text/plain": [
       "<Figure size 1000x600 with 2 Axes>"
      ]
     },
     "metadata": {},
     "output_type": "display_data"
    }
   ],
   "source": [
    "args = SimpleNamespace(save_simulation_results=True, league='Syksy I')\n",
    "process_simulation_results(simulation_results_df, nr_simulations, args)"
   ]
  },
  {
   "cell_type": "markdown",
   "metadata": {},
   "source": [
    "# Kevät analysis\n",
    "\n",
    "This does not seem to work..."
   ]
  },
  {
   "cell_type": "markdown",
   "metadata": {},
   "source": [
    "### Group 1"
   ]
  },
  {
   "cell_type": "code",
   "execution_count": null,
   "metadata": {},
   "outputs": [],
   "source": [
    "clf_1 = pb.models.DixonColesGoalModel(\n",
    "    df[\"goals_home\"], df[\"goals_away\"], df[\"team_home\"], df[\"team_away\"],\n",
    ")\n",
    "\n",
    "clf_1.fit()\n",
    "\n",
    "display(clf_1.get_params())"
   ]
  },
  {
   "cell_type": "code",
   "execution_count": null,
   "metadata": {},
   "outputs": [],
   "source": [
    "clf.get_params()"
   ]
  },
  {
   "cell_type": "code",
   "execution_count": null,
   "metadata": {},
   "outputs": [],
   "source": [
    "import plotly.graph_objects as go   "
   ]
  },
  {
   "cell_type": "code",
   "execution_count": null,
   "metadata": {},
   "outputs": [],
   "source": [
    "teams = df.team_home.unique()"
   ]
  },
  {
   "cell_type": "code",
   "execution_count": null,
   "metadata": {},
   "outputs": [],
   "source": [
    "string = 'attack_Cosmos'\n",
    "string[7:]"
   ]
  },
  {
   "cell_type": "code",
   "execution_count": null,
   "metadata": {},
   "outputs": [],
   "source": [
    "# Extract values\n",
    "attack_values = [value for key, value in clf_1.get_params().items() if key.startswith('attack')]\n",
    "defence_values = [value for key, value in clf_1.get_params().items() if key.startswith('defence')]\n",
    "\n",
    "# Create a combined figure manually\n",
    "fig = go.Figure()\n",
    "\n",
    "# Add attack histogram\n",
    "fig.add_trace(go.Histogram(\n",
    "    x=attack_values,\n",
    "    name='Attack',\n",
    "    opacity=0.6,\n",
    "    marker_color='blue'\n",
    "))\n",
    "\n",
    "# Add defence histogram\n",
    "fig.add_trace(go.Histogram(\n",
    "    x=defence_values,\n",
    "    name='Defence',\n",
    "    opacity=0.6,\n",
    "    marker_color='red'\n",
    "))\n",
    "\n",
    "# Update layout\n",
    "fig.update_layout(\n",
    "    barmode='overlay',  # or 'group' if you want them side by side\n",
    "    title='Attack vs Defence Parameter Distributions',\n",
    "    xaxis_title='Value',\n",
    "    yaxis_title='Count',\n",
    "    legend_title='Parameter Type'\n",
    ")\n",
    "\n",
    "fig.show()\n"
   ]
  },
  {
   "cell_type": "code",
   "execution_count": null,
   "metadata": {},
   "outputs": [],
   "source": [
    "# Extract values\n",
    "attack_values = [value for key, value in clf.get_params().items() if ((key[7:] in teams) & (key.startswith('attack_')))]\n",
    "defence_values = [value for key, value in clf.get_params().items() if ((key[8:] in teams) & (key.startswith('defence_')))]\n",
    "\n",
    "# Create a combined figure manually\n",
    "fig = go.Figure()\n",
    "\n",
    "# Add attack histogram\n",
    "fig.add_trace(go.Histogram(\n",
    "    x=attack_values,\n",
    "    name='Attack',\n",
    "    opacity=0.6,\n",
    "    marker_color='blue'\n",
    "))\n",
    "\n",
    "# Add defence histogram\n",
    "fig.add_trace(go.Histogram(\n",
    "    x=defence_values,\n",
    "    name='Defence',\n",
    "    opacity=0.6,\n",
    "    marker_color='red'\n",
    "))\n",
    "\n",
    "# Update layout\n",
    "fig.update_layout(\n",
    "    barmode='overlay',  # or 'group' if you want them side by side\n",
    "    title='Attack vs Defence Parameter Distributions',\n",
    "    xaxis_title='Value',\n",
    "    yaxis_title='Count',\n",
    "    legend_title='Parameter Type'\n",
    ")\n",
    "\n",
    "fig.show()\n"
   ]
  },
  {
   "cell_type": "code",
   "execution_count": null,
   "metadata": {},
   "outputs": [],
   "source": [
    "attack_values = [value for key, value in clf.get_params().items() if ((key[7:] in teams) & (key.startswith('attack_')))]\n",
    "defence_values = [value for key, value in clf.get_params().items() if ((key[8:] in teams) & (key.startswith('defence_')))]\n",
    "\n",
    "attack_values_1 = [value for key, value in clf_1.get_params().items() if key.startswith('attack')]\n",
    "defence_values_1 = [value for key, value in clf_1.get_params().items() if key.startswith('defence')]\n",
    "\n",
    "team_keys = [key[7:] for key, value in clf.get_params().items() if ((key[7:] in teams) & (key.startswith('attack_')))]\n",
    "team_keys_1 = [key[7:] for key, value in clf_1.get_params().items() if ((key.startswith('attack_')))]\n",
    "\n",
    "fig = go.Figure()\n",
    "\n",
    "fig.add_trace(go.Scatter(\n",
    "    x=attack_values,\n",
    "    y=defence_values,\n",
    "    opacity=0.6,\n",
    "    marker_color='blue',\n",
    "    mode='markers',\n",
    "    hovertext=team_keys,\n",
    "    name='clf'\n",
    "))\n",
    "\n",
    "fig.add_trace(go.Scatter(\n",
    "    x=attack_values_1,\n",
    "    y=defence_values_1,\n",
    "    opacity=0.6,\n",
    "    marker_color='red',\n",
    "    mode='markers',\n",
    "    hovertext=team_keys_1,\n",
    "    name='clf_1'\n",
    "))"
   ]
  },
  {
   "cell_type": "code",
   "execution_count": null,
   "metadata": {},
   "outputs": [],
   "source": [
    "display(clf.get_params()['rho'])\n",
    "display(clf_1.get_params()['rho'])"
   ]
  },
  {
   "cell_type": "code",
   "execution_count": null,
   "metadata": {},
   "outputs": [],
   "source": [
    "display(clf.get_params()['home_advantage'])\n",
    "display(clf_1.get_params()['home_advantage'])"
   ]
  },
  {
   "cell_type": "code",
   "execution_count": null,
   "metadata": {},
   "outputs": [],
   "source": [
    "display(np.mean(attack_values))\n",
    "display(np.mean(attack_values_1))"
   ]
  },
  {
   "cell_type": "code",
   "execution_count": null,
   "metadata": {},
   "outputs": [],
   "source": [
    "attack_values_clf = [value for key, value in clf.get_params().items() if ((key.startswith('attack_')))]\n",
    "display(np.mean(attack_values_clf))"
   ]
  },
  {
   "cell_type": "markdown",
   "metadata": {},
   "source": [
    "### Group 2"
   ]
  },
  {
   "cell_type": "code",
   "execution_count": null,
   "metadata": {},
   "outputs": [],
   "source": [
    "clf_2 = pb.models.DixonColesGoalModel(\n",
    "    df[\"goals_home\"], df[\"goals_away\"], df[\"team_home\"], df[\"team_away\"],\n",
    ")\n",
    "\n",
    "clf_2.fit()\n",
    "\n",
    "display(clf_2.get_params())"
   ]
  },
  {
   "cell_type": "markdown",
   "metadata": {},
   "source": [
    "### Group 3"
   ]
  },
  {
   "cell_type": "code",
   "execution_count": null,
   "metadata": {},
   "outputs": [],
   "source": [
    "clf_3 = pb.models.DixonColesGoalModel(\n",
    "    df[\"goals_home\"], df[\"goals_away\"], df[\"team_home\"], df[\"team_away\"],\n",
    ")\n",
    "\n",
    "clf_3.fit()\n",
    "\n",
    "display(clf_3.get_params())"
   ]
  },
  {
   "cell_type": "markdown",
   "metadata": {},
   "source": [
    "### Group comparison"
   ]
  },
  {
   "cell_type": "code",
   "execution_count": null,
   "metadata": {},
   "outputs": [],
   "source": [
    "attack_values_list = []\n",
    "defence_values_list = []\n",
    "for my_clf in [clf_1, clf_2, clf_3]:\n",
    "    attack_values_list.append([value for key, value in my_clf.get_params().items() if key.startswith('attack')])\n",
    "    defence_values_list.append([value for key, value in my_clf.get_params().items() if key.startswith('defence')])"
   ]
  },
  {
   "cell_type": "code",
   "execution_count": null,
   "metadata": {},
   "outputs": [],
   "source": [
    "print('Individual group models')\n",
    "for i in range(3):\n",
    "    group_mean_attack = np.mean(attack_values_list[i])\n",
    "    group_mean_defence = np.mean(defence_values_list[i])\n",
    "    print(f'Group {i+1} mean attack: {group_mean_attack}, mean defence: {group_mean_defence}')"
   ]
  },
  {
   "cell_type": "code",
   "execution_count": null,
   "metadata": {},
   "outputs": [],
   "source": [
    "team_list = []\n",
    "for my_clf in [clf_1, clf_2, clf_3]:\n",
    "    team_list.append([key[7:] for key, value in my_clf.get_params().items() if key.startswith('attack')])"
   ]
  },
  {
   "cell_type": "code",
   "execution_count": null,
   "metadata": {},
   "outputs": [],
   "source": [
    "attack_values_list = []\n",
    "defence_values_list = []\n",
    "for i in range(3):\n",
    "    attack_values_list.append([value for key, value in clf.get_params().items() if ((key.startswith('attack')) & (key[7:] in team_list[i]))])\n",
    "    defence_values_list.append([value for key, value in clf.get_params().items() if ((key.startswith('defence')) & (key[8:] in team_list[i]))])"
   ]
  },
  {
   "cell_type": "code",
   "execution_count": null,
   "metadata": {},
   "outputs": [],
   "source": [
    "print('Total model')\n",
    "for i in range(3):\n",
    "    group_mean_attack = np.mean(attack_values_list[i])\n",
    "    group_mean_defence = np.mean(defence_values_list[i])\n",
    "    print(f'Group {i+1} mean attack: {group_mean_attack}, mean defence: {group_mean_defence}')"
   ]
  },
  {
   "cell_type": "code",
   "execution_count": null,
   "metadata": {},
   "outputs": [],
   "source": [
    "clf_1.predict('Trikiinit', 'Kullervo')"
   ]
  },
  {
   "cell_type": "code",
   "execution_count": null,
   "metadata": {},
   "outputs": [],
   "source": [
    "clf.predict('Trikiinit', 'Kullervo')"
   ]
  },
  {
   "cell_type": "code",
   "execution_count": null,
   "metadata": {},
   "outputs": [],
   "source": [
    "clf_2.predict('Valtti/TDJ', 'FC Lähiö')"
   ]
  },
  {
   "cell_type": "code",
   "execution_count": null,
   "metadata": {},
   "outputs": [],
   "source": [
    "clf.predict('Valtti/TDJ', 'FC Lähiö')"
   ]
  },
  {
   "cell_type": "code",
   "execution_count": null,
   "metadata": {},
   "outputs": [],
   "source": [
    "clf_3.predict('Valtti/4', 'LPS/7')"
   ]
  },
  {
   "cell_type": "code",
   "execution_count": null,
   "metadata": {},
   "outputs": [],
   "source": [
    "clf.predict('Valtti/4', 'LPS/7')"
   ]
  },
  {
   "cell_type": "markdown",
   "metadata": {},
   "source": [
    "## Combined model"
   ]
  },
  {
   "cell_type": "code",
   "execution_count": null,
   "metadata": {},
   "outputs": [],
   "source": [
    "display(clf.get_params())"
   ]
  },
  {
   "cell_type": "code",
   "execution_count": null,
   "metadata": {},
   "outputs": [],
   "source": [
    "keys_to_exclude = {'home_advantage', 'rho'}\n",
    "aux_dict = {\n",
    "    **{k: v for k, v in clf_1.get_params().items() if k not in keys_to_exclude},\n",
    "    **{k: v for k, v in clf_2.get_params().items() if k not in keys_to_exclude},\n",
    "    **{k: v for k, v in clf_3.get_params().items() if k not in keys_to_exclude},\n",
    "}\n",
    "\n",
    "# Sort the dictionary by keys\n",
    "aux_dict_sorted = {key: aux_dict[key] for key in sorted(aux_dict)}\n",
    "\n",
    "aux_dict_sorted"
   ]
  },
  {
   "cell_type": "code",
   "execution_count": null,
   "metadata": {},
   "outputs": [],
   "source": [
    "np.array(list(aux_dict_sorted.values()))"
   ]
  },
  {
   "cell_type": "code",
   "execution_count": null,
   "metadata": {},
   "outputs": [],
   "source": [
    "clf._params[:-2] = np.array(list(aux_dict_sorted.values()))"
   ]
  },
  {
   "cell_type": "code",
   "execution_count": null,
   "metadata": {},
   "outputs": [],
   "source": [
    "clf.get_params()"
   ]
  },
  {
   "cell_type": "code",
   "execution_count": null,
   "metadata": {},
   "outputs": [],
   "source": [
    "clf.__dict__['teams_home']"
   ]
  },
  {
   "cell_type": "code",
   "execution_count": null,
   "metadata": {},
   "outputs": [],
   "source": [
    "teams = fixtures.Home.unique()\n",
    "args = SimpleNamespace(save_simulation_results=False, league=f'Kevät')\n",
    "ratings_df = create_team_ratings(clf, teams, args, export_ratings=False)"
   ]
  },
  {
   "cell_type": "markdown",
   "metadata": {},
   "source": [
    "# Misc"
   ]
  },
  {
   "cell_type": "code",
   "execution_count": null,
   "metadata": {},
   "outputs": [],
   "source": [
    "all_ratings = []"
   ]
  },
  {
   "cell_type": "code",
   "execution_count": null,
   "metadata": {},
   "outputs": [],
   "source": [
    "all_ratings.append(ratings_df)"
   ]
  },
  {
   "cell_type": "code",
   "execution_count": null,
   "metadata": {},
   "outputs": [],
   "source": [
    "all_ratings_df = pd.concat(all_ratings).sort_values(by='goal_difference_rating', ascending=False).reset_index(drop=True)\n",
    "all_ratings_df"
   ]
  },
  {
   "cell_type": "code",
   "execution_count": null,
   "metadata": {},
   "outputs": [],
   "source": [
    "all_ratings_df.to_csv('../output/ratings_Kevät.csv', index=False)"
   ]
  },
  {
   "cell_type": "code",
   "execution_count": null,
   "metadata": {},
   "outputs": [],
   "source": [
    "import dataframe_image as dfi\n",
    "dfi.export(all_ratings_df, f\"../output/ratings_Kevät.png\", table_conversion='matplotlib',)"
   ]
  },
  {
   "cell_type": "markdown",
   "metadata": {},
   "source": [
    "# Development"
   ]
  },
  {
   "cell_type": "markdown",
   "metadata": {},
   "source": [
    "## results"
   ]
  },
  {
   "cell_type": "code",
   "execution_count": null,
   "metadata": {},
   "outputs": [],
   "source": [
    "# Initialize the Chrome driver\n",
    "driver = webdriver.Chrome()\n",
    "\n",
    "# Load the website\n",
    "driver.get('https://tulospalvelu.palloliitto.fi/category/M7!etejp25/group/1/results')"
   ]
  },
  {
   "cell_type": "code",
   "execution_count": null,
   "metadata": {},
   "outputs": [],
   "source": [
    "elements = driver.find_elements(By.CLASS_NAME, 'teamname')\n",
    "teams = [elem.text for elem in elements]\n",
    "print(teams)"
   ]
  },
  {
   "cell_type": "code",
   "execution_count": null,
   "metadata": {},
   "outputs": [],
   "source": [
    "elements = driver.find_elements(By.CLASS_NAME, 'scorefs')\n",
    "goals = [elem.text for elem in elements]\n",
    "print(goals)"
   ]
  },
  {
   "cell_type": "code",
   "execution_count": null,
   "metadata": {},
   "outputs": [],
   "source": [
    "elements = driver.find_elements(By.CLASS_NAME, 'match_status')\n",
    "status = [elem.text for elem in elements]\n",
    "print(status)"
   ]
  },
  {
   "cell_type": "code",
   "execution_count": null,
   "metadata": {},
   "outputs": [],
   "source": [
    "df = pd.DataFrame(columns=['team_home', 'team_away', 'goals_home', 'goals_away'])\n",
    "df"
   ]
  },
  {
   "cell_type": "code",
   "execution_count": null,
   "metadata": {},
   "outputs": [],
   "source": [
    "df.team_home = teams[0::2]\n",
    "df.team_away = teams[1::2]\n",
    "df.goals_home = goals[0::2]\n",
    "df.goals_away = goals[1::2]\n",
    "df"
   ]
  },
  {
   "cell_type": "markdown",
   "metadata": {},
   "source": [
    "## fixtures"
   ]
  },
  {
   "cell_type": "code",
   "execution_count": null,
   "metadata": {},
   "outputs": [],
   "source": [
    "# Initialize the Chrome driver\n",
    "driver = webdriver.Chrome()\n",
    "\n",
    "# Load the website\n",
    "driver.get('https://tulospalvelu.palloliitto.fi/category/M7!etejp25/group/1/fixtures')"
   ]
  },
  {
   "cell_type": "code",
   "execution_count": null,
   "metadata": {},
   "outputs": [],
   "source": [
    "elements = driver.find_elements(By.CLASS_NAME, 'teamname')\n",
    "teams = [elem.text for elem in elements]\n",
    "print(teams)"
   ]
  },
  {
   "cell_type": "code",
   "execution_count": null,
   "metadata": {},
   "outputs": [],
   "source": [
    "fixtures = pd.DataFrame(columns=['Home', 'Away'])\n",
    "fixtures.Home = teams[0::2]\n",
    "fixtures.Away = teams[1::2]\n",
    "fixtures"
   ]
  },
  {
   "cell_type": "markdown",
   "metadata": {},
   "source": [
    "## table"
   ]
  },
  {
   "cell_type": "code",
   "execution_count": null,
   "metadata": {},
   "outputs": [],
   "source": [
    "# Initialize the Chrome driver\n",
    "driver = webdriver.Chrome()\n",
    "\n",
    "# Load the website\n",
    "driver.get('https://tulospalvelu.palloliitto.fi/category/M7!etejp25/group/1/')"
   ]
  },
  {
   "cell_type": "code",
   "execution_count": null,
   "metadata": {},
   "outputs": [],
   "source": [
    "elements = driver.find_elements(By.CLASS_NAME, 'text-start')\n",
    "teams = [elem.text for elem in elements]\n",
    "teams = teams[7::5]\n",
    "print(teams)"
   ]
  },
  {
   "cell_type": "code",
   "execution_count": null,
   "metadata": {},
   "outputs": [],
   "source": [
    "elements = driver.find_elements(By.CLASS_NAME, 'text-center')\n",
    "stats = [elem.text for elem in elements]\n",
    "stats = stats[6::]\n",
    "print(stats)"
   ]
  },
  {
   "cell_type": "code",
   "execution_count": null,
   "metadata": {},
   "outputs": [],
   "source": [
    "table = pd.DataFrame(columns=['Rk', 'Squad', 'MP', 'W', 'D', 'L', 'GF', 'GA', 'GD', 'Pts'])\n",
    "table"
   ]
  },
  {
   "cell_type": "code",
   "execution_count": null,
   "metadata": {},
   "outputs": [],
   "source": [
    "stats[4::6][0].split('–')[0]"
   ]
  },
  {
   "cell_type": "code",
   "execution_count": null,
   "metadata": {},
   "outputs": [],
   "source": [
    "[x.split('–')[0] for x in stats[4::6]]"
   ]
  },
  {
   "cell_type": "code",
   "execution_count": null,
   "metadata": {},
   "outputs": [],
   "source": [
    "table.Rk = np.arange(1, len(teams)+1)\n",
    "table.Squad = teams\n",
    "table.MP = stats[0::6]\n",
    "table.W = stats[1::6]\n",
    "table.D = stats[2::6]\n",
    "table.L = stats[3::6]\n",
    "table.GF = [x.split('–')[0] for x in stats[4::6]]\n",
    "table.GA = [x.split('–')[1] for x in stats[4::6]]\n",
    "table.GD = table['GF'].astype(int) - table['GA'].astype(int)\n",
    "table.Pts = stats[5::6]\n",
    "table"
   ]
  },
  {
   "cell_type": "markdown",
   "metadata": {},
   "source": [
    "## lineups"
   ]
  },
  {
   "cell_type": "markdown",
   "metadata": {},
   "source": [
    "### Get match ids"
   ]
  },
  {
   "cell_type": "code",
   "execution_count": null,
   "metadata": {},
   "outputs": [],
   "source": [
    "# Initialize the Chrome driver\n",
    "driver = webdriver.Chrome()\n",
    "\n",
    "# Load the website\n",
    "driver.get('https://tulospalvelu.palloliitto.fi/category/M7!etejp25/results')"
   ]
  },
  {
   "cell_type": "code",
   "execution_count": null,
   "metadata": {},
   "outputs": [],
   "source": [
    "# Scroll down repeatedly (to load more content)\n",
    "\n",
    "last_height = driver.execute_script(\"return document.body.scrollHeight\")\n",
    "while True:\n",
    "    driver.execute_script(\"window.scrollTo(0, document.body.scrollHeight);\")\n",
    "    time.sleep(2)  # Wait for loading\n",
    "\n",
    "    new_height = driver.execute_script(\"return document.body.scrollHeight\")\n",
    "    if new_height == last_height:\n",
    "        break  # No more content to load\n",
    "    last_height = new_height"
   ]
  },
  {
   "cell_type": "code",
   "execution_count": null,
   "metadata": {},
   "outputs": [],
   "source": [
    "# Find all elements with a 'matchid' attribute\n",
    "elements = driver.find_elements(By.XPATH, '//*[@matchid]')\n",
    "# Extract all match IDs\n",
    "match_ids = [el.get_attribute(\"matchid\") for el in elements]\n",
    "print(len(np.unique(match_ids)))"
   ]
  },
  {
   "cell_type": "markdown",
   "metadata": {},
   "source": [
    "### Get lineups"
   ]
  },
  {
   "cell_type": "code",
   "execution_count": null,
   "metadata": {},
   "outputs": [],
   "source": [
    "# Initialize the Chrome driver\n",
    "driver = webdriver.Chrome()\n",
    "wait = WebDriverWait(driver, 10)  # wait up to 10 seconds\n",
    "\n",
    "all_game_data = []\n",
    "for match_id in np.unique(match_ids):\n",
    "    # Load the website\n",
    "    driver.get(f'https://tulospalvelu.palloliitto.fi/match/{match_id}/lineups')\n",
    "    wait.until(EC.presence_of_element_located((By.ID, \"matchscore\")))\n",
    "    \n",
    "    # Extract team names\n",
    "    home_team = driver.find_element(By.CSS_SELECTOR, \"#A_team .teamname\").text.strip()\n",
    "    away_team = driver.find_element(By.CSS_SELECTOR, \"#B_team .teamname\").text.strip()\n",
    "\n",
    "    # Extract match score (e.g., \"2 – 1\")\n",
    "    score = driver.find_element(By.ID, \"matchscore\").text.strip().split(\"\\n\")[0]  # Remove subscore like (0–0)\n",
    "\n",
    "    home_team_goals = int(score.split('–')[0])\n",
    "    away_team_goals = int(score.split('–')[1])\n",
    "\n",
    "    # Print result\n",
    "    print(f\"{home_team} vs {away_team}: {home_team_goals} – {away_team_goals}\")\n",
    "\n",
    "    # Find both player tables\n",
    "    player_tables = driver.find_elements(By.XPATH, '//div[contains(@class, \"playerlist\")]')\n",
    "    \n",
    "    all_players = []\n",
    "    teams = [home_team, away_team]\n",
    "    goals = [home_team_goals, away_team_goals]\n",
    "    # Iterate through each player table (0 = first team, 1 = second team)\n",
    "    for idx, table in enumerate(player_tables):\n",
    "        team_label = teams[idx]\n",
    "        \n",
    "        # Find all player rows in this table\n",
    "        rows = table.find_elements(By.XPATH, './/table//tr')\n",
    "        \n",
    "        for row in rows:\n",
    "            try:\n",
    "                # Extract shirt number\n",
    "                shirt_number = row.find_element(By.XPATH, './/span[contains(@class, \"shirtnumber\")]').text.strip()\n",
    "            except:\n",
    "                shirt_number = \"\"\n",
    "\n",
    "            try:\n",
    "                # Extract name (text from the namenarrow span)\n",
    "                name_elem = row.find_element(By.XPATH, './/span[contains(@class, \"undefined\")]')\n",
    "                name_text = name_elem.text.strip()\n",
    "\n",
    "                # Remove \"| MV\", \"| C\", etc. if present\n",
    "                player_name = name_text.split('|')[0].strip()\n",
    "            except:\n",
    "                player_name = \"Unknown\"\n",
    "\n",
    "            all_players.append({\n",
    "                \"team\": team_label,\n",
    "                \"shirt_number\": shirt_number,\n",
    "                \"name\": player_name,\n",
    "                \"goals_scored\": goals[idx],\n",
    "                \"goals_conceded\": goals[1 - idx]  # Goals conceded is the other team's score\n",
    "            })\n",
    "\n",
    "    # Print all players\n",
    "    for player in all_players:\n",
    "        print(f\"{player['team']} - {player['shirt_number']} {player['name']}: Team goals scored: {player['goals_scored']}, Goals conceded: {player['goals_conceded']}\")\n",
    "\n",
    "    # Append to all game data\n",
    "    all_game_data.append({\n",
    "        \"match_id\": match_id,\n",
    "        \"home_team\": home_team,\n",
    "        \"away_team\": away_team,\n",
    "        \"home_goals\": home_team_goals,\n",
    "        \"away_goals\": away_team_goals,\n",
    "        \"players\": all_players\n",
    "    })\n",
    "\n",
    "# Close the driver after scraping\n",
    "driver.quit()"
   ]
  },
  {
   "cell_type": "code",
   "execution_count": null,
   "metadata": {},
   "outputs": [],
   "source": [
    "len(all_game_data)"
   ]
  },
  {
   "cell_type": "code",
   "execution_count": null,
   "metadata": {},
   "outputs": [],
   "source": [
    "df = pd.DataFrame(all_game_data)\n",
    "df"
   ]
  },
  {
   "cell_type": "code",
   "execution_count": null,
   "metadata": {},
   "outputs": [],
   "source": [
    "df_exploded = df.explode('players').reset_index(drop=True)\n",
    "df_exploded"
   ]
  },
  {
   "cell_type": "code",
   "execution_count": null,
   "metadata": {},
   "outputs": [],
   "source": [
    "# Normalize the dictionary into columns\n",
    "df_normalized = pd.concat(\n",
    "    [df_exploded.drop(columns=['players']),\n",
    "     pd.json_normalize(df_exploded['players'])],\n",
    "    axis=1\n",
    ")\n",
    "df_normalized"
   ]
  },
  {
   "cell_type": "code",
   "execution_count": null,
   "metadata": {},
   "outputs": [],
   "source": [
    "df_normalized.to_csv('../data/player_data_kevat.csv', index=False)"
   ]
  },
  {
   "cell_type": "code",
   "execution_count": null,
   "metadata": {},
   "outputs": [],
   "source": []
  }
 ],
 "metadata": {
  "kernelspec": {
   "display_name": "match_prediction",
   "language": "python",
   "name": "python3"
  },
  "language_info": {
   "codemirror_mode": {
    "name": "ipython",
    "version": 3
   },
   "file_extension": ".py",
   "mimetype": "text/x-python",
   "name": "python",
   "nbconvert_exporter": "python",
   "pygments_lexer": "ipython3",
   "version": "3.12.9"
  }
 },
 "nbformat": 4,
 "nbformat_minor": 2
}
