{
 "cells": [
  {
   "cell_type": "code",
   "execution_count": null,
   "metadata": {},
   "outputs": [],
   "source": [
    "import pandas as pd\n",
    "import numpy as np\n",
    "import tqdm\n",
    "\n",
    "pd.set_option('display.max_columns', None)"
   ]
  },
  {
   "cell_type": "code",
   "execution_count": null,
   "metadata": {},
   "outputs": [],
   "source": [
    "df = pd.read_csv('../data/player_data_kevat.csv')\n",
    "df['nameTeamCombined'] = df['name'] + '_' + df['team']\n",
    "df['nameTeamCombined'] = df['nameTeamCombined'].str.replace(' ', '')\n",
    "df"
   ]
  },
  {
   "cell_type": "code",
   "execution_count": null,
   "metadata": {},
   "outputs": [],
   "source": [
    "df[df['name']=='Toivonen Jaakko']"
   ]
  },
  {
   "cell_type": "code",
   "execution_count": null,
   "metadata": {},
   "outputs": [],
   "source": [
    "unique_combos = df[['nameTeamCombined']].drop_duplicates().reset_index(drop=True)\n",
    "unique_combos"
   ]
  },
  {
   "cell_type": "code",
   "execution_count": null,
   "metadata": {},
   "outputs": [],
   "source": [
    "attack_cols = unique_combos.apply(lambda row: f\"{row['nameTeamCombined']}_attack\", axis=1)\n",
    "defense_cols = unique_combos.apply(lambda row: f\"{row['nameTeamCombined']}_defense\", axis=1)\n",
    "\n",
    "all_cols = attack_cols.tolist() + defense_cols.tolist()\n",
    "\n",
    "input_df = pd.DataFrame(columns=all_cols)\n",
    "input_df"
   ]
  },
  {
   "cell_type": "code",
   "execution_count": null,
   "metadata": {},
   "outputs": [],
   "source": [
    "target_df = pd.DataFrame(columns=['goals_scored'])\n",
    "target_df"
   ]
  },
  {
   "cell_type": "code",
   "execution_count": null,
   "metadata": {},
   "outputs": [],
   "source": [
    "match_ids = df['match_id'].unique()\n",
    "len(match_ids)"
   ]
  },
  {
   "cell_type": "code",
   "execution_count": null,
   "metadata": {},
   "outputs": [],
   "source": [
    "for match_id in tqdm.tqdm(match_ids):\n",
    "\n",
    "    match_df = df[df['match_id'] == match_id]\n",
    "    home_team = match_df['home_team'].iloc[0]\n",
    "    away_team = match_df['away_team'].iloc[0]\n",
    "    \n",
    "    home_players = match_df.loc[match_df['team'] == home_team, 'nameTeamCombined'].values\n",
    "    away_players = match_df.loc[match_df['team'] == away_team, 'nameTeamCombined'].values\n",
    "\n",
    "    aux1 = np.array([1 if player in home_players+'_attack' else 0 for player in input_df.columns])\n",
    "    aux2 = np.array([1 if player in away_players+'_defense' else 0 for player in input_df.columns])\n",
    "    aux = aux1 + aux2\n",
    "    input_df.loc[len(input_df)] = aux\n",
    "    target_df.loc[len(target_df)] = [match_df['home_goals'].iloc[0]]\n",
    "\n",
    "    aux1 = np.array([1 if player in away_players+'_attack' else 0 for player in input_df.columns])\n",
    "    aux2 = np.array([1 if player in home_players+'_defense' else 0 for player in input_df.columns])\n",
    "    aux = aux1 + aux2\n",
    "    input_df.loc[len(input_df)] = aux\n",
    "    target_df.loc[len(target_df)] = [match_df['away_goals'].iloc[0]]"
   ]
  },
  {
   "cell_type": "code",
   "execution_count": null,
   "metadata": {},
   "outputs": [],
   "source": [
    "input_df"
   ]
  },
  {
   "cell_type": "code",
   "execution_count": null,
   "metadata": {},
   "outputs": [],
   "source": [
    "target_df"
   ]
  },
  {
   "cell_type": "markdown",
   "metadata": {},
   "source": [
    "### Ridge regression for player impact"
   ]
  },
  {
   "cell_type": "code",
   "execution_count": null,
   "metadata": {},
   "outputs": [],
   "source": [
    "from sklearn.linear_model import Ridge\n",
    "import matplotlib.pyplot as plt\n",
    "import plotly.express as px"
   ]
  },
  {
   "cell_type": "code",
   "execution_count": null,
   "metadata": {},
   "outputs": [],
   "source": [
    "clf = Ridge(alpha=100.0, fit_intercept=False,)"
   ]
  },
  {
   "cell_type": "code",
   "execution_count": null,
   "metadata": {},
   "outputs": [],
   "source": [
    "clf.fit(input_df, target_df)"
   ]
  },
  {
   "cell_type": "code",
   "execution_count": null,
   "metadata": {},
   "outputs": [],
   "source": [
    "clf.coef_"
   ]
  },
  {
   "cell_type": "code",
   "execution_count": null,
   "metadata": {},
   "outputs": [],
   "source": [
    "plt.hist(clf.coef_.flatten(), bins=50);"
   ]
  },
  {
   "cell_type": "code",
   "execution_count": null,
   "metadata": {},
   "outputs": [],
   "source": [
    "plt.hist(clf.coef_[0:746].flatten(), bins=50);\n",
    "plt.title('Attack coefficients')"
   ]
  },
  {
   "cell_type": "code",
   "execution_count": null,
   "metadata": {},
   "outputs": [],
   "source": [
    "plt.hist(clf.coef_[746:].flatten(), bins=50);\n",
    "plt.title('Defense coefficients')"
   ]
  },
  {
   "cell_type": "code",
   "execution_count": null,
   "metadata": {},
   "outputs": [],
   "source": [
    "print(input_df.columns[np.argmax(clf.coef_)])\n",
    "print(np.max(clf.coef_))"
   ]
  },
  {
   "cell_type": "code",
   "execution_count": null,
   "metadata": {},
   "outputs": [],
   "source": [
    "print(input_df.columns[np.argmin(clf.coef_)])\n",
    "print(np.min(clf.coef_))"
   ]
  },
  {
   "cell_type": "code",
   "execution_count": null,
   "metadata": {},
   "outputs": [],
   "source": [
    "df[df['name']=='Keskinen Antti']"
   ]
  },
  {
   "cell_type": "code",
   "execution_count": null,
   "metadata": {},
   "outputs": [],
   "source": [
    "df[df['name']=='Kazmi Muhammad Mujtaba']"
   ]
  },
  {
   "cell_type": "code",
   "execution_count": null,
   "metadata": {},
   "outputs": [],
   "source": [
    "print(input_df.columns[np.argmax(clf.coef_[0:746])])\n",
    "print(np.max(clf.coef_[0:746]))"
   ]
  },
  {
   "cell_type": "code",
   "execution_count": null,
   "metadata": {},
   "outputs": [],
   "source": [
    "df[df['name']=='Chekurov Alexander']"
   ]
  },
  {
   "cell_type": "code",
   "execution_count": null,
   "metadata": {},
   "outputs": [],
   "source": [
    "top_indices_attack = np.argsort(clf.coef_[0:746])[-20:][::-1]\n",
    "top_indices_defense = np.argsort(clf.coef_[746:])[:20]"
   ]
  },
  {
   "cell_type": "code",
   "execution_count": null,
   "metadata": {},
   "outputs": [],
   "source": [
    "print(\"Top 20 attack players:\")\n",
    "print(input_df.columns[top_indices_attack])"
   ]
  },
  {
   "cell_type": "code",
   "execution_count": null,
   "metadata": {},
   "outputs": [],
   "source": [
    "print(\"Top 20 defense players:\")\n",
    "display(input_df.columns[top_indices_defense+746])"
   ]
  },
  {
   "cell_type": "code",
   "execution_count": null,
   "metadata": {},
   "outputs": [],
   "source": [
    "df[df['name']=='Eiskop Hindrek']"
   ]
  },
  {
   "cell_type": "code",
   "execution_count": null,
   "metadata": {},
   "outputs": [],
   "source": [
    "df[df['name']=='Vikström Valtteri']"
   ]
  },
  {
   "cell_type": "code",
   "execution_count": null,
   "metadata": {},
   "outputs": [],
   "source": [
    "df[df['name']=='Hurme Tommi']"
   ]
  },
  {
   "cell_type": "code",
   "execution_count": null,
   "metadata": {},
   "outputs": [],
   "source": [
    "clf.coef_[np.argsort(clf.coef_[746:])[:20]+746]"
   ]
  },
  {
   "cell_type": "code",
   "execution_count": null,
   "metadata": {},
   "outputs": [],
   "source": [
    "22/8"
   ]
  },
  {
   "cell_type": "code",
   "execution_count": null,
   "metadata": {},
   "outputs": [],
   "source": [
    "7/4"
   ]
  },
  {
   "cell_type": "code",
   "execution_count": null,
   "metadata": {},
   "outputs": [],
   "source": [
    "substring = 'ToivonenJaakko'\n",
    "matches = [i for i, col in enumerate(input_df.columns) if substring in col]\n",
    "matches"
   ]
  },
  {
   "cell_type": "code",
   "execution_count": null,
   "metadata": {},
   "outputs": [],
   "source": [
    "print(f\"{substring}\")\n",
    "print(f\"Attacking coefficient: {clf.coef_[matches[0]]}\")\n",
    "print(f\"Defending coefficient: {clf.coef_[matches[1]]}\")"
   ]
  },
  {
   "cell_type": "code",
   "execution_count": null,
   "metadata": {},
   "outputs": [],
   "source": [
    "substring = 'Trikiinit'\n",
    "matches = [i for i, col in enumerate(input_df.columns) if substring in col]"
   ]
  },
  {
   "cell_type": "code",
   "execution_count": null,
   "metadata": {},
   "outputs": [],
   "source": [
    "len(matches) / 2"
   ]
  },
  {
   "cell_type": "code",
   "execution_count": null,
   "metadata": {},
   "outputs": [],
   "source": [
    "attack_list = []\n",
    "defense_list = []\n",
    "\n",
    "print(f\"{substring}\")\n",
    "print()\n",
    "print(f\"Attacking coefficients\")\n",
    "for i in range(int(len(matches)/2)):\n",
    "    attack_list.append((input_df.columns[matches[i]], clf.coef_[matches[i]]))\n",
    "    print(f\"{input_df.columns[matches[i]]}: {clf.coef_[matches[i]]:.2f}\")\n",
    "\n",
    "print()\n",
    "print(f\"Defensive coefficients\")\n",
    "for i in range(int(len(matches)/2), len(matches)):\n",
    "    defense_list.append((input_df.columns[matches[i]], clf.coef_[matches[i]]))\n",
    "    print(f\"{input_df.columns[matches[i]]}: {clf.coef_[matches[i]]:.2f}\")"
   ]
  },
  {
   "cell_type": "code",
   "execution_count": null,
   "metadata": {},
   "outputs": [],
   "source": [
    "aux_df = pd.DataFrame(columns=['name', 'team', 'attack_coef', 'defense_coef'])\n",
    "aux_df['name'] = [name[:-17] for name, coefficinet in attack_list]\n",
    "aux_df['attack_coef'] = [coefficinet for name, coefficinet in attack_list]\n",
    "aux_df['defense_coef'] = [coefficinet for name, coefficinet in defense_list]\n",
    "aux_df['team'] = substring\n",
    "aux_df"
   ]
  },
  {
   "cell_type": "code",
   "execution_count": null,
   "metadata": {},
   "outputs": [],
   "source": [
    "fig = px.scatter(aux_df, x='attack_coef', y='defense_coef', text='name')\n",
    "fig.update_yaxes(autorange=\"reversed\")"
   ]
  },
  {
   "cell_type": "code",
   "execution_count": null,
   "metadata": {},
   "outputs": [],
   "source": [
    "input_df.columns"
   ]
  },
  {
   "cell_type": "code",
   "execution_count": null,
   "metadata": {},
   "outputs": [],
   "source": [
    "aux_list = input_df.columns[:746].str.split('_').to_list()\n",
    "aux_list"
   ]
  },
  {
   "cell_type": "code",
   "execution_count": null,
   "metadata": {},
   "outputs": [],
   "source": [
    "coeff_df = pd.DataFrame(columns=['name', 'team', 'attack_coef', 'defense_coef', 'coef_diff'])\n",
    "\n",
    "names = []\n",
    "teams = []\n",
    "for item in aux_list:\n",
    "    names.append(item[0])\n",
    "    teams.append(item[1])\n",
    "coeff_df['name'] = names\n",
    "coeff_df['team'] = teams\n",
    "coeff_df['attack_coef'] = clf.coef_[:746]\n",
    "coeff_df['defense_coef'] = clf.coef_[746:]\n",
    "coeff_df['coef_diff'] = coeff_df['attack_coef'] - coeff_df['defense_coef']\n",
    "coeff_df"
   ]
  },
  {
   "cell_type": "code",
   "execution_count": null,
   "metadata": {},
   "outputs": [],
   "source": [
    "coeff_df.loc[coeff_df['team']=='Trikiinit', 'color_name'] = 'Trikiinit'\n",
    "coeff_df.loc[coeff_df['team']!='Trikiinit', 'color_name'] = 'other'"
   ]
  },
  {
   "cell_type": "code",
   "execution_count": null,
   "metadata": {},
   "outputs": [],
   "source": [
    "(\n",
    "px.scatter(\n",
    "    coeff_df, \n",
    "    x='attack_coef', \n",
    "    y='defense_coef', \n",
    "    hover_name='name', \n",
    "    color='color_name')\n",
    ".update_yaxes(autorange=\"reversed\")\n",
    ")"
   ]
  },
  {
   "cell_type": "code",
   "execution_count": null,
   "metadata": {},
   "outputs": [],
   "source": [
    "coeff_df[(coeff_df['name']=='ToivonenJaakko') | (coeff_df['name']=='WinbergMatias')]"
   ]
  },
  {
   "cell_type": "code",
   "execution_count": null,
   "metadata": {},
   "outputs": [],
   "source": [
    "df[df['name']=='Vattulainen Taisto']"
   ]
  },
  {
   "cell_type": "code",
   "execution_count": null,
   "metadata": {},
   "outputs": [],
   "source": [
    "coeff_df[coeff_df['team']=='Trikiinit'].sort_values(by='coef_diff', ascending=False)"
   ]
  },
  {
   "cell_type": "code",
   "execution_count": null,
   "metadata": {},
   "outputs": [],
   "source": [
    "coeff_df.sort_values(by='coef_diff', ascending=False).head(20)"
   ]
  },
  {
   "cell_type": "code",
   "execution_count": null,
   "metadata": {},
   "outputs": [],
   "source": [
    "df[df['name']=='Kolovrat Denial']"
   ]
  },
  {
   "cell_type": "code",
   "execution_count": null,
   "metadata": {},
   "outputs": [],
   "source": [
    "coeff_df[coeff_df['team']=='Trikiinit']['attack_coef'].sum()"
   ]
  },
  {
   "cell_type": "code",
   "execution_count": null,
   "metadata": {},
   "outputs": [],
   "source": [
    "coeff_df[coeff_df['team']=='Trikiinit']['defense_coef'].sum()"
   ]
  },
  {
   "cell_type": "code",
   "execution_count": null,
   "metadata": {},
   "outputs": [],
   "source": []
  }
 ],
 "metadata": {
  "kernelspec": {
   "display_name": "match_prediction",
   "language": "python",
   "name": "python3"
  },
  "language_info": {
   "codemirror_mode": {
    "name": "ipython",
    "version": 3
   },
   "file_extension": ".py",
   "mimetype": "text/x-python",
   "name": "python",
   "nbconvert_exporter": "python",
   "pygments_lexer": "ipython3",
   "version": "3.12.9"
  }
 },
 "nbformat": 4,
 "nbformat_minor": 2
}
