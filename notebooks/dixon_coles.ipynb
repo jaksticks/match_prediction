{
 "cells": [
  {
   "cell_type": "code",
   "execution_count": null,
   "metadata": {},
   "outputs": [],
   "source": [
    "import penaltyblog as pb\n",
    "import pandas as pd\n",
    "import numpy as np\n",
    "import datetime as dt\n",
    "import dataframe_image as dfi\n",
    "from random import choices\n",
    "import json\n",
    "import requests\n",
    "from tqdm import tqdm\n",
    "\n",
    "import matplotlib.pyplot as plt\n",
    "import seaborn as sns\n",
    "import plotly.express as px\n",
    "import plotly.graph_objects as go\n",
    "\n",
    "pd.set_option('display.max_columns', None)"
   ]
  },
  {
   "cell_type": "code",
   "execution_count": null,
   "metadata": {},
   "outputs": [],
   "source": [
    "import sys\n",
    "sys.path.append('../')\n",
    "from src.utils import (simulate_match, analyse_match, table_bonus_check, calculate_manager_points, simulate_season_fpl)"
   ]
  },
  {
   "cell_type": "markdown",
   "metadata": {},
   "source": [
    "# Data"
   ]
  },
  {
   "cell_type": "code",
   "execution_count": null,
   "metadata": {},
   "outputs": [],
   "source": [
    "#fb = pb.scrapers.FootballData(\"ENG Premier League\", \"2023-2024\")\n",
    "#df_list = [fb.get_fixtures()]\n",
    "#fb = pb.scrapers.FootballData(\"ENG Premier League\", \"2024-2025\")\n",
    "#df_list.append(fb.get_fixtures())\n",
    "\n",
    "#df = pd.concat(df_list)\n",
    "#display(df)"
   ]
  },
  {
   "cell_type": "code",
   "execution_count": null,
   "metadata": {},
   "outputs": [],
   "source": [
    "matches24_25 = pd.read_html('https://fbref.com/en/comps/9/schedule/Premier-League-Scores-and-Fixtures')[0]\n",
    "matches23_24 = pd.read_html('https://fbref.com/en/comps/9/2023-2024/schedule/2023-2024-Premier-League-Scores-and-Fixtures')[0]\n",
    "fixtures_fbref = pd.concat([matches23_24, matches24_25], ignore_index=True)\n",
    "fixtures_fbref['Date'] = pd.to_datetime(fixtures_fbref['Date'])\n",
    "\n",
    "df = fixtures_fbref[fixtures_fbref['Score'].notnull()]\n",
    "df = df.reset_index()\n",
    "\n",
    "df['goals_home'] = df['Score'].apply(lambda x: x.split('–')[0])\n",
    "df['goals_away'] = df['Score'].apply(lambda x: x.split('–')[1])\n",
    "\n",
    "df.rename(columns={'Home': 'team_home', 'Away': 'team_away', 'Date': 'date'}, inplace=True)\n",
    "\n",
    "df"
   ]
  },
  {
   "cell_type": "code",
   "execution_count": null,
   "metadata": {},
   "outputs": [],
   "source": [
    "current_date = dt.datetime.today()\n",
    "df['days_since'] = df['date'].apply(lambda x: (current_date-x).days)\n",
    "df = df[df.days_since <= 365].copy()\n",
    "df"
   ]
  },
  {
   "cell_type": "code",
   "execution_count": null,
   "metadata": {},
   "outputs": [],
   "source": [
    "league_table = pd.read_html('https://fbref.com/en/comps/9/Premier-League-Stats')[0]\n",
    "#league_table['Squad'] = league_table['Squad'].replace(team_name_dict)\n",
    "league_table"
   ]
  },
  {
   "cell_type": "code",
   "execution_count": null,
   "metadata": {},
   "outputs": [],
   "source": [
    "teams = np.sort(league_table['Squad'].unique())\n",
    "teams"
   ]
  },
  {
   "cell_type": "code",
   "execution_count": null,
   "metadata": {},
   "outputs": [],
   "source": [
    "fpl_fixtures_data = json.loads(requests.get('https://fantasy.premierleague.com/api/fixtures/').text)\n",
    "fpl_fixtures = pd.DataFrame(fpl_fixtures_data)\n",
    "fpl_fixtures['home_team'] = [teams[i] for i in fpl_fixtures['team_h']-1]\n",
    "fpl_fixtures['away_team'] = [teams[i] for i in fpl_fixtures['team_a']-1]\n",
    "#fpl_fixtures\n",
    "display(fpl_fixtures.shape)"
   ]
  },
  {
   "cell_type": "code",
   "execution_count": null,
   "metadata": {},
   "outputs": [],
   "source": [
    "fixtures = fpl_fixtures[fpl_fixtures['team_h_score'].isnull()].reset_index(drop=True)\n",
    "#fixtures\n",
    "display(fixtures.shape)"
   ]
  },
  {
   "cell_type": "markdown",
   "metadata": {},
   "source": [
    "# Model"
   ]
  },
  {
   "cell_type": "code",
   "execution_count": null,
   "metadata": {},
   "outputs": [],
   "source": [
    "xi = 0.0018\n",
    "weights = pb.models.dixon_coles_weights(df[\"date\"], xi)\n",
    "\n",
    "clf = pb.models.DixonColesGoalModel(\n",
    "    df[\"goals_home\"], df[\"goals_away\"], df[\"team_home\"], df[\"team_away\"], weights\n",
    ")\n",
    "clf.fit()"
   ]
  },
  {
   "cell_type": "code",
   "execution_count": null,
   "metadata": {},
   "outputs": [],
   "source": [
    "homeTeam = \"Wolves\"\n",
    "awayTeam = \"Tottenham\"\n",
    "analyse_match(clf, homeTeam, awayTeam)"
   ]
  },
  {
   "cell_type": "markdown",
   "metadata": {},
   "source": [
    "# Team ratings"
   ]
  },
  {
   "cell_type": "code",
   "execution_count": null,
   "metadata": {},
   "outputs": [],
   "source": [
    "#teams = \"Arsenal,Aston Villa,Bournemouth,Brentford,Brighton,Chelsea,Crystal Palace,Everton,Fulham,Ipswich Town,Leicester City,Liverpool,Manchester City,Manchester Utd,Newcastle Utd,Nott'ham Forest,Southampton,Tottenham,West Ham,Wolves\" \n",
    "#teams = teams.split(',')"
   ]
  },
  {
   "cell_type": "code",
   "execution_count": null,
   "metadata": {},
   "outputs": [],
   "source": [
    "# Extract attack and defense parameters\n",
    "params = clf.get_params()\n",
    "attack_params = {k: v for k, v in params.items() if k.startswith('attack_')}\n",
    "defense_params = {k: v for k, v in params.items() if k.startswith('defence_')}\n",
    "\n",
    "# Compute median values\n",
    "median_attack = np.median(list(attack_params.values()))\n",
    "median_defense = np.median(list(defense_params.values()))\n",
    "\n",
    "# Find teams with median values\n",
    "median_attack_team = [team.split('attack_')[1] for team, value in attack_params.items() if value == median_attack]\n",
    "median_defense_team = [team.split('defence_')[1] for team, value in defense_params.items() if value == median_defense]\n",
    "\n",
    "print(f\"Median attack value: {median_attack}, Team(s): {median_attack_team}\")\n",
    "print(f\"Median defense value: {median_defense}, Team(s): {median_defense_team}\")"
   ]
  },
  {
   "cell_type": "code",
   "execution_count": null,
   "metadata": {},
   "outputs": [],
   "source": [
    "ratings = []\n",
    "for team in teams:\n",
    "    team_attack_rating_home =  clf.predict(team, median_defense_team[0]).home_goal_expectation\n",
    "    team_attack_rating_away = clf.predict(median_defense_team[0], team).away_goal_expectation\n",
    "    team_attack_rating = np.mean((team_attack_rating_home, team_attack_rating_away))\n",
    "    \n",
    "    team_defense_rating_home = clf.predict(team, median_attack_team[0]).away_goal_expectation\n",
    "    team_defense_rating_away = clf.predict(median_attack_team[0], team).home_goal_expectation\n",
    "    team_defense_rating = np.mean((team_defense_rating_home, team_defense_rating_away))\n",
    "    \n",
    "    team_goal_difference_rating = team_attack_rating - team_defense_rating\n",
    "    ratings.append((team, team_attack_rating, team_defense_rating, team_goal_difference_rating))\n",
    "\n",
    "ratings_df = pd.DataFrame(ratings, columns=['team', 'attack_rating', 'defense_rating', 'goal_difference_rating']).sort_values(by='goal_difference_rating', ascending=False).reset_index(drop=True)\n",
    "ratings_df.index += 1\n",
    "\n",
    "#dfi.export(ratings_df, \"../ratings.png\", table_conversion='matplotlib',)\n",
    "\n",
    "display(ratings_df)"
   ]
  },
  {
   "cell_type": "markdown",
   "metadata": {},
   "source": [
    "# Simulate season"
   ]
  },
  {
   "cell_type": "code",
   "execution_count": null,
   "metadata": {},
   "outputs": [],
   "source": [
    "#team_name_dict = {\"Nott'ham Forest\": \"Nott'm Forest\",\n",
    "#                  'Manchester City': 'Man City',\n",
    "#                  'Manchester Utd': 'Man United',\n",
    "#                  'Newcastle Utd': 'Newcastle',\n",
    "#                  'Ipswich Town': 'Ipswich',\n",
    "#                  'Leicester City': 'Leicester',\n",
    "#                  }"
   ]
  },
  {
   "cell_type": "code",
   "execution_count": null,
   "metadata": {},
   "outputs": [],
   "source": [
    "nr_simulations = 1000\n",
    "simulation_results = []\n",
    "manager_results = []\n",
    "final_gameweek = 38\n",
    "for i in tqdm(range(nr_simulations), desc='Simulating...'):\n",
    "    simulated_table = league_table[['Rk', 'Squad', 'MP', 'W', 'D', 'L', 'GF', 'GA', 'GD', 'Pts']].copy()\n",
    "    simulated_table, manager_xp = simulate_season_fpl(simulated_table, fixtures, clf, final_gameweek)\n",
    "    simulated_table['simulation_nr'] = i\n",
    "    simulation_results.append(simulated_table)\n",
    "\n",
    "    manager_df = pd.DataFrame(manager_xp, columns=['gameweek', 'team', 'expected_points'])\n",
    "    manager_df['simulation_nr'] = i\n",
    "    manager_results.append(manager_df)\n",
    "\n",
    "print('Done!')\n",
    "\n",
    "simulation_results_df = pd.concat(simulation_results).reset_index(drop=True)\n",
    "manager_results_df = pd.concat(manager_results).reset_index(drop=True)"
   ]
  },
  {
   "cell_type": "code",
   "execution_count": null,
   "metadata": {},
   "outputs": [],
   "source": [
    "result_matrix = (\n",
    "    simulation_results_df.groupby(['Squad', 'Rk'])\n",
    "    .size()\n",
    "    .unstack(fill_value=0)\n",
    "    .reindex(columns=range(1, 21), fill_value=0)  # Ensure columns go from 1 to 20\n",
    ")\n",
    "\n",
    "# normalize to percentage\n",
    "result_matrix = 100 * (result_matrix / nr_simulations)"
   ]
  },
  {
   "cell_type": "code",
   "execution_count": null,
   "metadata": {},
   "outputs": [],
   "source": [
    "# Reorder the matrix based on average final league position\n",
    "sorted_teams = simulation_results_df.groupby(['Squad'])['Rk'].mean().sort_values().index\n",
    "sorted_matrix = result_matrix.loc[sorted_teams]\n",
    "\n",
    "# Plot the reordered heatmap\n",
    "plt.figure(figsize=(10, 6))\n",
    "sns.heatmap(sorted_matrix, annot=True, cmap=\"Blues\", linewidths=0.5, cbar_kws={'label': 'Probability'})\n",
    "\n",
    "timestamp = dt.datetime.now().strftime(\"%d.%m.%Y\")\n",
    "if final_gameweek == 38:\n",
    "    plt.title(f\"Distribution of Final League Positions \\n(forecast on {timestamp} with a Dixon-Coles model)\")\n",
    "else:\n",
    "    plt.title(f\"Distribution of League Positions after gameweek {final_gameweek} \\n(forecast on {timestamp} with a Dixon-Coles model)\")\n",
    "plt.xlabel(\"Final League Position\")\n",
    "plt.ylabel(\"Team\")\n",
    "\n",
    "#plt.savefig('league_distribution.png')\n",
    "\n",
    "plt.show()"
   ]
  },
  {
   "cell_type": "markdown",
   "metadata": {},
   "source": [
    "# FPL Assistant Manager analysis"
   ]
  },
  {
   "cell_type": "code",
   "execution_count": null,
   "metadata": {},
   "outputs": [],
   "source": [
    "weekly_scores = (manager_results_df.groupby(['gameweek', 'team']).sum() / nr_simulations).reset_index()"
   ]
  },
  {
   "cell_type": "code",
   "execution_count": null,
   "metadata": {},
   "outputs": [],
   "source": [
    "# fill weeks with no game with 0 manager points\n",
    "# Get all unique gameweeks and teams\n",
    "all_gameweeks = range(int(weekly_scores['gameweek'].min()), int(weekly_scores['gameweek'].max()) + 1)\n",
    "all_teams = weekly_scores['team'].unique()\n",
    "\n",
    "# Create a MultiIndex for all possible gameweek-team combinations\n",
    "idx = pd.MultiIndex.from_product([all_gameweeks, all_teams], names=['gameweek', 'team'])\n",
    "\n",
    "# Reindex the DataFrame to include missing gameweeks for each team\n",
    "weekly_scores = weekly_scores.set_index(['gameweek', 'team']).reindex(idx, fill_value=0).reset_index()\n",
    "\n",
    "weekly_scores[[\"rolling_expected_points\"]] = weekly_scores.groupby(\"team\").rolling(3, on='gameweek').sum().reset_index(level=0, drop=True)[[\"expected_points\"]]\n",
    "#weekly_scores[[\"rolling_quantile_10\", \"rolling_quantile_30\", \"rolling_expected_points\", \"rolling_quantile_70\", \"rolling_quantile_90\"]] = weekly_scores.groupby(\"team\").rolling(3, on='gameweek').sum().reset_index(level=0, drop=True)[[\"quantile_10\", \"quantile_30\", \"expected_points\", \"quantile_70\", \"quantile_90\"]]\n",
    "\n",
    "weekly_scores"
   ]
  },
  {
   "cell_type": "code",
   "execution_count": null,
   "metadata": {},
   "outputs": [],
   "source": [
    "# Get unique teams\n",
    "teams = np.sort(weekly_scores['team'].unique())\n",
    "default_team = teams[0]  # Default highlighted team\n",
    "\n",
    "# Create figure\n",
    "fig = go.Figure()\n",
    "\n",
    "for team in teams:\n",
    "    fig.add_trace(go.Scatter(\n",
    "        x=weekly_scores[weekly_scores['team'] == team]['gameweek'],\n",
    "        y=weekly_scores[weekly_scores['team'] == team]['expected_points'],\n",
    "        mode='lines+markers',\n",
    "        name=team,\n",
    "        line=dict(color='blue' if team == default_team else 'gray'),\n",
    "        opacity=1 if team == default_team else 0.3,\n",
    "        visible=True\n",
    "    ))\n",
    "\n",
    "# Create dropdown menu\n",
    "dropdown_buttons = []\n",
    "for selected_team in teams:\n",
    "    button = {\n",
    "        \"label\": selected_team,\n",
    "        \"method\": \"update\",\n",
    "        \"args\": [\n",
    "            {\n",
    "                \"opacity\": [1 if team == selected_team else 0.3 for team in teams],\n",
    "                \"line\": [dict(color=\"blue\" if team == selected_team else \"gray\") for team in teams],\n",
    "            },\n",
    "            {\"title\": f\"Expected Points per Game Week - {selected_team}\"}\n",
    "        ]\n",
    "    }\n",
    "    dropdown_buttons.append(button)\n",
    "\n",
    "# Add dropdown menu\n",
    "fig.update_layout(\n",
    "    title=f\"Expected Points per Game Week - {default_team}\",\n",
    "    xaxis_title=\"Game Week\",\n",
    "    yaxis_title=\"Expected Points\",\n",
    "    updatemenus=[{\n",
    "        \"buttons\": dropdown_buttons,\n",
    "        \"direction\": \"down\",\n",
    "        \"showactive\": True,\n",
    "    }]\n",
    ")\n",
    "\n",
    "fig.show()"
   ]
  },
  {
   "cell_type": "code",
   "execution_count": null,
   "metadata": {},
   "outputs": [],
   "source": [
    "# Get unique teams\n",
    "teams = np.sort(weekly_scores['team'].unique())\n",
    "default_team = teams[0]  # Default highlighted team\n",
    "\n",
    "# Create figure\n",
    "fig = go.Figure()\n",
    "\n",
    "for team in teams:\n",
    "    fig.add_trace(go.Scatter(\n",
    "        x=weekly_scores[weekly_scores['team'] == team]['gameweek'],\n",
    "        y=weekly_scores[weekly_scores['team'] == team]['rolling_expected_points'],\n",
    "        mode='lines+markers',\n",
    "        name=team,\n",
    "        line=dict(color='blue' if team == default_team else 'gray'),\n",
    "        opacity=1 if team == default_team else 0.3,\n",
    "        visible=True\n",
    "    ))\n",
    "\n",
    "# Create dropdown menu\n",
    "dropdown_buttons = []\n",
    "for selected_team in teams:\n",
    "    button = {\n",
    "        \"label\": selected_team,\n",
    "        \"method\": \"update\",\n",
    "        \"args\": [\n",
    "            {\n",
    "                \"opacity\": [1 if team == selected_team else 0.3 for team in teams],\n",
    "                \"line\": [dict(color=\"blue\" if team == selected_team else \"gray\") for team in teams],\n",
    "            },\n",
    "            {\"title\": f\"3-week Rolling Sum of Expected Points - {selected_team}\"}\n",
    "        ]\n",
    "    }\n",
    "    dropdown_buttons.append(button)\n",
    "\n",
    "# Add dropdown menu\n",
    "fig.update_layout(\n",
    "    title=f\"3-week Rolling Sum of Expected Points - {default_team}\",\n",
    "    xaxis_title=\"Gameweek\",\n",
    "    yaxis_title=\"Expected Points\",\n",
    "    updatemenus=[{\n",
    "        \"buttons\": dropdown_buttons,\n",
    "        \"direction\": \"down\",\n",
    "        \"showactive\": True,\n",
    "    }]\n",
    ")\n",
    "\n",
    "fig.show()"
   ]
  },
  {
   "cell_type": "code",
   "execution_count": null,
   "metadata": {},
   "outputs": [],
   "source": []
  }
 ],
 "metadata": {
  "kernelspec": {
   "display_name": "match_prediction",
   "language": "python",
   "name": "python3"
  },
  "language_info": {
   "codemirror_mode": {
    "name": "ipython",
    "version": 3
   },
   "file_extension": ".py",
   "mimetype": "text/x-python",
   "name": "python",
   "nbconvert_exporter": "python",
   "pygments_lexer": "ipython3",
   "version": "3.12.9"
  }
 },
 "nbformat": 4,
 "nbformat_minor": 2
}
