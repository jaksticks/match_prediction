{
 "cells": [
  {
   "cell_type": "markdown",
   "metadata": {},
   "source": [
    "This notebook was inspired by this blog post: https://dashee87.github.io/football/python/predicting-football-results-with-statistical-modelling/\n",
    "The Poisson model essentially follows the initial part of above blog. The rest of the notebook applies the results to estimating Fantasy Premier League Assistant Manager chip expected points for each manager. "
   ]
  },
  {
   "cell_type": "code",
   "execution_count": null,
   "metadata": {},
   "outputs": [],
   "source": [
    "import pandas as pd\n",
    "import numpy as np\n",
    "import datetime as dt\n",
    "import json\n",
    "import requests\n",
    "from tqdm import tqdm\n",
    "from datetime import datetime\n",
    "import dataframe_image as dfi\n",
    "\n",
    "from scipy.stats import poisson\n",
    "import statsmodels.api as sm\n",
    "import statsmodels.formula.api as smf\n",
    "from random import choices\n",
    "\n",
    "import matplotlib.pyplot as plt\n",
    "import seaborn as sns\n",
    "import plotly.express as px\n",
    "import plotly.graph_objects as go"
   ]
  },
  {
   "cell_type": "markdown",
   "metadata": {},
   "source": [
    "# Fetch data"
   ]
  },
  {
   "cell_type": "code",
   "execution_count": null,
   "metadata": {},
   "outputs": [],
   "source": [
    "matches24_25 = pd.read_html('https://fbref.com/en/comps/9/schedule/Premier-League-Scores-and-Fixtures')[0]\n",
    "matches23_24 = pd.read_html('https://fbref.com/en/comps/9/2023-2024/schedule/2023-2024-Premier-League-Scores-and-Fixtures')[0]\n",
    "fixtures_fbref = pd.concat([matches23_24, matches24_25], ignore_index=True)\n",
    "#fixtures_fbref = matches24_25.copy()\n",
    "fixtures_fbref['Date'] = pd.to_datetime(fixtures_fbref['Date'])\n",
    "display(fixtures_fbref)"
   ]
  },
  {
   "cell_type": "code",
   "execution_count": null,
   "metadata": {},
   "outputs": [],
   "source": [
    "results = fixtures_fbref[fixtures_fbref['Score'].notnull()]\n",
    "results = results.reset_index()\n",
    "results"
   ]
  },
  {
   "cell_type": "markdown",
   "metadata": {},
   "source": [
    "# Process data"
   ]
  },
  {
   "cell_type": "code",
   "execution_count": null,
   "metadata": {},
   "outputs": [],
   "source": [
    "results['home_goals'] = results['Score'].apply(lambda x: x.split('–')[0])\n",
    "results['away_goals'] = results['Score'].apply(lambda x: x.split('–')[1])\n",
    "results"
   ]
  },
  {
   "cell_type": "code",
   "execution_count": null,
   "metadata": {},
   "outputs": [],
   "source": [
    "current_date = dt.datetime.today()\n",
    "results['days_since'] = results['Date'].apply(lambda x: (current_date-x).days)\n",
    "results"
   ]
  },
  {
   "cell_type": "code",
   "execution_count": null,
   "metadata": {},
   "outputs": [],
   "source": [
    "results = results[results.days_since <= 365]\n",
    "results"
   ]
  },
  {
   "cell_type": "markdown",
   "metadata": {},
   "source": [
    "# Model"
   ]
  },
  {
   "cell_type": "code",
   "execution_count": null,
   "metadata": {},
   "outputs": [],
   "source": [
    "def predict_average_goals(foot_model, homeTeam, awayTeam):\n",
    "    home_goals_avg = foot_model.predict(pd.DataFrame(data={'team': homeTeam, \n",
    "                                                            'opponent': awayTeam,'home':1},\n",
    "                                                      index=[1])).values[0]\n",
    "    away_goals_avg = foot_model.predict(pd.DataFrame(data={'team': awayTeam, \n",
    "                                                            'opponent': homeTeam,'home':0},\n",
    "                                                      index=[1])).values[0]\n",
    "    return home_goals_avg, away_goals_avg"
   ]
  },
  {
   "cell_type": "code",
   "execution_count": null,
   "metadata": {},
   "outputs": [],
   "source": [
    "goal_model_data = pd.concat([results[['Home','Away','home_goals']].assign(home=1).rename(\n",
    "            columns={'Home':'team', 'Away':'opponent','home_goals':'goals'}),\n",
    "           results[['Away','Home','away_goals']].assign(home=0).rename(\n",
    "            columns={'Away':'team', 'Home':'opponent','away_goals':'goals'})]).reset_index(drop=True)\n",
    "\n",
    "goal_model_data['goals'] = goal_model_data['goals'].apply(lambda x: int(x))\n",
    "\n",
    "goal_model_data"
   ]
  },
  {
   "cell_type": "code",
   "execution_count": null,
   "metadata": {},
   "outputs": [],
   "source": [
    "poisson_model = smf.glm(formula=\"goals ~ home + team + opponent\", \n",
    "                        data=goal_model_data, \n",
    "                        family=sm.families.Poisson()).fit()\n",
    "\n",
    "print(poisson_model.summary())"
   ]
  },
  {
   "cell_type": "code",
   "execution_count": null,
   "metadata": {},
   "outputs": [],
   "source": [
    "median_attack_value = poisson_model.params.iloc[1:23].median()\n",
    "median_attack_team = (poisson_model.params.iloc[1:23] - median_attack_value).abs().idxmin()\n",
    "median_defense_value = poisson_model.params.iloc[23:45].median()\n",
    "median_defense_team = (poisson_model.params.iloc[23:45] - median_defense_value).abs().idxmin()\n",
    "print(f'Median attack: {median_attack_team}')\n",
    "print(f'Median defense: {median_defense_team}')"
   ]
  },
  {
   "cell_type": "code",
   "execution_count": null,
   "metadata": {},
   "outputs": [],
   "source": [
    "teams = \"Arsenal,Aston Villa,Bournemouth,Brentford,Brighton,Chelsea,Crystal Palace,Everton,Fulham,Ipswich Town,Leicester City,Liverpool,Manchester City,Manchester Utd,Newcastle Utd,Nott'ham Forest,Southampton,Tottenham,West Ham,Wolves\" \n",
    "teams = teams.split(',')"
   ]
  },
  {
   "cell_type": "code",
   "execution_count": null,
   "metadata": {},
   "outputs": [],
   "source": [
    "ratings = []\n",
    "for team in teams:\n",
    "    home_goals_avg, _ = predict_average_goals(poisson_model, team, median_defense_team.split('.')[1][:-1])\n",
    "    _, away_goals_avg = predict_average_goals(poisson_model, median_defense_team.split('.')[1][:-1], team)\n",
    "    team_attack_rating = np.mean((home_goals_avg, away_goals_avg))\n",
    "   \n",
    "\n",
    "    _, away_goals_avg = predict_average_goals(poisson_model, team, median_attack_team.split('.')[1][:-1])\n",
    "    home_goals_avg,_  = predict_average_goals(poisson_model, median_attack_team.split('.')[1][:-1], team)\n",
    "    team_defense_rating = np.mean((home_goals_avg, away_goals_avg))\n",
    "\n",
    "    team_goal_difference_rating = team_attack_rating - team_defense_rating\n",
    "\n",
    "    ratings.append((team, team_attack_rating, team_defense_rating, team_goal_difference_rating))\n",
    "\n",
    "ratings_df = pd.DataFrame(ratings, columns=['team', 'attack_rating', 'defense_rating', 'goal_difference_rating']).sort_values(by='goal_difference_rating', ascending=False).reset_index(drop=True)\n",
    "ratings_df.index += 1\n",
    "\n",
    "dfi.export(ratings_df, \"ratings.png\", table_conversion='matplotlib',)\n",
    "\n",
    "display(ratings_df)"
   ]
  },
  {
   "cell_type": "markdown",
   "metadata": {},
   "source": [
    "# Predict fixtures"
   ]
  },
  {
   "cell_type": "code",
   "execution_count": null,
   "metadata": {},
   "outputs": [],
   "source": [
    "def scoreline_probabilities(foot_model, homeTeam, awayTeam, max_goals=10):\n",
    "    home_goals_avg, away_goals_avg = predict_average_goals(foot_model, homeTeam, awayTeam)\n",
    "    team_pred = [[poisson.pmf(i, team_avg) for i in range(0, max_goals+1)] for team_avg in [home_goals_avg, away_goals_avg]]\n",
    "    return(np.outer(np.array(team_pred[0]), np.array(team_pred[1])))"
   ]
  },
  {
   "cell_type": "code",
   "execution_count": null,
   "metadata": {},
   "outputs": [],
   "source": [
    "fixtures = fixtures_fbref[(fixtures_fbref['Score'].isnull()) & (fixtures_fbref['Wk'].notnull())].reset_index()\n",
    "fixtures"
   ]
  },
  {
   "cell_type": "code",
   "execution_count": null,
   "metadata": {},
   "outputs": [],
   "source": [
    "home_team = 'Chelsea'\n",
    "away_team = 'Tottenham'\n",
    "outcome_matrix = scoreline_probabilities(poisson_model, home_team, away_team)"
   ]
  },
  {
   "cell_type": "code",
   "execution_count": null,
   "metadata": {},
   "outputs": [],
   "source": [
    "ax = sns.heatmap(outcome_matrix, annot=True, fmt=\".2f\")\n",
    "ax.set(xlabel=away_team, ylabel=home_team)\n",
    "ax.xaxis.tick_top()\n",
    "ax.xaxis.set_label_position('top')"
   ]
  },
  {
   "cell_type": "code",
   "execution_count": null,
   "metadata": {},
   "outputs": [],
   "source": [
    "poisson_model.predict(pd.DataFrame(data={'team': 'Everton', 'opponent': 'Liverpool', 'home':1},index=[1]))"
   ]
  },
  {
   "cell_type": "code",
   "execution_count": null,
   "metadata": {},
   "outputs": [],
   "source": [
    "poisson_model.predict(pd.DataFrame(data={'team': 'Tottenham', 'opponent': 'Chelsea', 'home':0},index=[1]))"
   ]
  },
  {
   "cell_type": "code",
   "execution_count": null,
   "metadata": {},
   "outputs": [],
   "source": [
    "all_probabilities = []\n",
    "for _, fixture in fixtures.iterrows():\n",
    "    # probability of different scorelines\n",
    "    outcome_matrix = scoreline_probabilities(poisson_model, fixture['Home'], fixture['Away'])\n",
    "    # match outcome probabilities\n",
    "    probability_home_win = outcome_matrix[np.tril_indices_from(outcome_matrix, k=-1)].sum()\n",
    "    probability_draw = np.trace(outcome_matrix)\n",
    "    probability_away_win = outcome_matrix[np.triu_indices_from(outcome_matrix, k=1)].sum()\n",
    "    # add probabilities to list\n",
    "    all_probabilities.append([probability_home_win, probability_draw, probability_away_win])\n",
    "\n",
    "# add all probabilites to fixtures df\n",
    "fixtures[['home_win_probability', 'draw_probability', 'away_win_probability']] = all_probabilities\n",
    "\n",
    "display(fixtures)"
   ]
  },
  {
   "cell_type": "markdown",
   "metadata": {},
   "source": [
    "# FPL Assistant Manager Chip"
   ]
  },
  {
   "cell_type": "code",
   "execution_count": null,
   "metadata": {},
   "outputs": [],
   "source": [
    "def simulate_match(foot_model, homeTeam, awayTeam):\n",
    "    '''\n",
    "    Simulate the outcome of a single match.\n",
    "    '''\n",
    "    \n",
    "    # simulate scoreline\n",
    "    home_goals_avg_, away_goals_avg_ = predict_average_goals(foot_model, homeTeam, awayTeam)\n",
    "    home_goals = poisson.rvs(home_goals_avg_)\n",
    "    away_goals = poisson.rvs(away_goals_avg_)\n",
    "\n",
    "    if home_goals > away_goals:\n",
    "        outcome = 'home_win'\n",
    "    elif home_goals == away_goals:   \n",
    "        outcome = 'draw'\n",
    "    else:\n",
    "        outcome = 'away_win'\n",
    "\n",
    "    return outcome, home_goals, away_goals\n",
    "    #return choices(['home_win', 'draw', 'away_win'], probabilities)[0]"
   ]
  },
  {
   "cell_type": "code",
   "execution_count": null,
   "metadata": {},
   "outputs": [],
   "source": [
    "def table_bonus_check(focal_team, opponent, league_table):\n",
    "    focal_team_rank = league_table.loc[league_table.Squad==focal_team, 'Rk'].values[0]\n",
    "    opponent_rank = league_table.loc[league_table.Squad==opponent, 'Rk'].values[0]\n",
    "    if focal_team_rank - opponent_rank >= 5:\n",
    "        return 1.0\n",
    "    else:\n",
    "        return 0.0"
   ]
  },
  {
   "cell_type": "code",
   "execution_count": null,
   "metadata": {},
   "outputs": [],
   "source": [
    "def calculate_manager_points(outcome, home_goals, away_goals, home_team, away_team, gameweek, league_table, manager_xp):\n",
    "    # CALCULATE EXPECTED MANAGER POINTS FOR HOME TEAM\n",
    "    new_row1 = [gameweek, home_team, 0]\n",
    "    table_bonus_coefficient = table_bonus_check(home_team, away_team, league_table) # 1 or 0\n",
    "    # points for win\n",
    "    if outcome=='home_win':\n",
    "        new_row1[2] = (6 + 10*table_bonus_coefficient)\n",
    "    # points for draw\n",
    "    elif outcome=='draw':\n",
    "        new_row1[2] = (3 + 5*table_bonus_coefficient)\n",
    "    # goals scored\n",
    "    new_row1[2] += home_goals\n",
    "    # points for clean sheet\n",
    "    if away_goals==0:\n",
    "        new_row1[2] += 2\n",
    "\n",
    "    # CALCULATE EXPECTED MANAGER POINTS FOR AWAY TEAM\n",
    "    new_row2 = [gameweek, away_team, 0]\n",
    "    table_bonus_coefficient = table_bonus_check(away_team, home_team, league_table) # 1 or 0\n",
    "    # points for win\n",
    "    if outcome=='away_win':\n",
    "        new_row2[2] += (6 + 10*table_bonus_coefficient)\n",
    "    # points for draw\n",
    "    elif outcome=='draw':\n",
    "        new_row2[2] += (3 + 5*table_bonus_coefficient)\n",
    "    # goals scored\n",
    "    new_row2[2] += away_goals\n",
    "    # points for clean sheet\n",
    "    if home_goals==0:\n",
    "        new_row2[2] += 2\n",
    "\n",
    "    # add rows to manager_xp\n",
    "    manager_xp.extend([new_row1, new_row2])\n",
    "\n",
    "    return manager_xp"
   ]
  },
  {
   "cell_type": "code",
   "execution_count": null,
   "metadata": {},
   "outputs": [],
   "source": [
    "def simulate_season(league_table, fixtures, foot_model, final_gameweek=38):\n",
    "    '''Simulate a whole season or up to certain gameweek.'''\n",
    "    first_index = fixtures.event.first_valid_index()\n",
    "    current_week = fixtures.loc[first_index,'event'].copy()\n",
    "    league_table_snapshot = league_table.copy()\n",
    "    fixtures = fixtures[fixtures.event<=final_gameweek].copy()\n",
    "    manager_xp = []\n",
    "    for _, fixture in fixtures.iterrows():\n",
    "        fixture_week = fixture.event\n",
    "        if np.isnan(fixture_week):\n",
    "            continue\n",
    "        elif fixture_week == current_week:\n",
    "            pass  \n",
    "        elif fixture_week == (current_week + 1):\n",
    "            league_table = league_table.sort_values(by=['Pts', 'GD', 'GF'], ascending=False)\n",
    "            league_table['Rk'] = np.arange(1,21)\n",
    "            league_table_snapshot = league_table.copy()\n",
    "            current_week += 1\n",
    "        else:\n",
    "            print('Incorrect gameweek!')\n",
    "            break\n",
    "\n",
    "        home_team_ = fixture.home_team\n",
    "        away_team_ = fixture.away_team\n",
    "        # simulate match outcome\n",
    "        outcome, home_goals, away_goals = simulate_match(foot_model, home_team_, away_team_)\n",
    "\n",
    "        # calculate manager points\n",
    "        manager_xp = calculate_manager_points(outcome, home_goals, away_goals, home_team_, away_team_, current_week, league_table_snapshot, manager_xp)\n",
    "\n",
    "        # update matches played\n",
    "        league_table.loc[league_table['Squad']==home_team_, 'MP'] += 1\n",
    "        league_table.loc[league_table['Squad']==away_team_, 'MP'] += 1\n",
    "        # update league table \n",
    "        league_table.loc[league_table['Squad']==home_team_, 'GF'] += home_goals\n",
    "        league_table.loc[league_table['Squad']==home_team_, 'GA'] += away_goals\n",
    "        league_table.loc[league_table['Squad']==home_team_, 'GD'] += home_goals - away_goals\n",
    "        league_table.loc[league_table['Squad']==away_team_, 'GF'] += away_goals\n",
    "        league_table.loc[league_table['Squad']==away_team_, 'GA'] += home_goals\n",
    "        league_table.loc[league_table['Squad']==away_team_, 'GD'] += away_goals - home_goals\n",
    "        if outcome=='home_win':\n",
    "            league_table.loc[league_table['Squad']==home_team_, 'Pts'] += 3\n",
    "            league_table.loc[league_table['Squad']==home_team_, 'W'] += 1\n",
    "            league_table.loc[league_table['Squad']==away_team_, 'L'] += 1\n",
    "        elif outcome=='draw':\n",
    "            league_table.loc[league_table['Squad']==home_team_, 'Pts'] += 1\n",
    "            league_table.loc[league_table['Squad']==away_team_, 'Pts'] += 1\n",
    "            league_table.loc[league_table['Squad']==home_team_, 'D'] += 1\n",
    "            league_table.loc[league_table['Squad']==away_team_, 'D'] += 1\n",
    "        elif outcome=='away_win':\n",
    "            league_table.loc[league_table['Squad']==away_team_, 'Pts'] += 3\n",
    "            league_table.loc[league_table['Squad']==away_team_, 'W'] += 1\n",
    "            league_table.loc[league_table['Squad']==home_team_, 'L'] += 1\n",
    "        else: \n",
    "            print('No valid result for:')\n",
    "            print(fixture)\n",
    "    \n",
    "    if final_gameweek==38:\n",
    "        assert np.all(league_table['MP']==38), 'All teams have not played 38 games!'\n",
    "\n",
    "    league_table = league_table.sort_values(by=['Pts', 'GD', 'GF'], ascending=False)\n",
    "    league_table['Rk'] = np.arange(1,21)\n",
    "\n",
    "    return league_table, manager_xp"
   ]
  },
  {
   "cell_type": "code",
   "execution_count": null,
   "metadata": {},
   "outputs": [],
   "source": [
    "league_table = pd.read_html('https://fbref.com/en/comps/9/Premier-League-Stats')[0]\n",
    "league_table"
   ]
  },
  {
   "cell_type": "code",
   "execution_count": null,
   "metadata": {},
   "outputs": [],
   "source": [
    "fpl_fixtures_data = json.loads(requests.get('https://fantasy.premierleague.com/api/fixtures/').text)\n",
    "fpl_fixtures = pd.DataFrame(fpl_fixtures_data)\n",
    "fpl_fixtures['home_team'] = [teams[i] for i in fpl_fixtures['team_h']-1]\n",
    "fpl_fixtures['away_team'] = [teams[i] for i in fpl_fixtures['team_a']-1]\n",
    "fpl_fixtures"
   ]
  },
  {
   "cell_type": "code",
   "execution_count": null,
   "metadata": {},
   "outputs": [],
   "source": [
    "fixtures = fpl_fixtures[fpl_fixtures['team_h_score'].isnull()].reset_index(drop=True)\n",
    "fixtures"
   ]
  },
  {
   "cell_type": "code",
   "execution_count": null,
   "metadata": {},
   "outputs": [],
   "source": [
    "all_probabilities = []\n",
    "for _, fixture in fixtures.iterrows():\n",
    "    # probability of different scorelines\n",
    "    outcome_matrix = scoreline_probabilities(poisson_model, fixture['home_team'], fixture['away_team'])\n",
    "    # match outcome probabilities\n",
    "    probability_home_win = outcome_matrix[np.tril_indices_from(outcome_matrix, k=-1)].sum()\n",
    "    probability_draw = np.trace(outcome_matrix)\n",
    "    probability_away_win = outcome_matrix[np.triu_indices_from(outcome_matrix, k=1)].sum()\n",
    "    # add probabilities to list\n",
    "    all_probabilities.append([probability_home_win, probability_draw, probability_away_win])\n",
    "\n",
    "# add all probabilites to fixtures df\n",
    "fixtures[['home_win_probability', 'draw_probability', 'away_win_probability']] = all_probabilities\n",
    "\n",
    "fixtures"
   ]
  },
  {
   "cell_type": "code",
   "execution_count": null,
   "metadata": {},
   "outputs": [],
   "source": [
    "nr_simulations = 1000\n",
    "simulation_results = []\n",
    "manager_results = []\n",
    "final_gameweek = 38\n",
    "for i in tqdm(range(nr_simulations), desc='Simulating...'):\n",
    "    simulated_table = league_table[['Rk', 'Squad', 'MP', 'W', 'D', 'L', 'GF', 'GA', 'GD', 'Pts']].copy()\n",
    "    simulated_table, manager_xp = simulate_season(simulated_table, fixtures, poisson_model, final_gameweek)\n",
    "    simulated_table['simulation_nr'] = i\n",
    "    simulation_results.append(simulated_table)\n",
    "\n",
    "    manager_df = pd.DataFrame(manager_xp, columns=['gameweek', 'team', 'expected_points'])\n",
    "    manager_df['simulation_nr'] = i\n",
    "    manager_results.append(manager_df)\n",
    "\n",
    "print('Done!')\n",
    "\n",
    "simulation_results_df = pd.concat(simulation_results).reset_index(drop=True)\n",
    "manager_results_df = pd.concat(manager_results).reset_index(drop=True)"
   ]
  },
  {
   "cell_type": "code",
   "execution_count": null,
   "metadata": {},
   "outputs": [],
   "source": [
    "result_matrix = (\n",
    "    simulation_results_df.groupby(['Squad', 'Rk'])\n",
    "    .size()\n",
    "    .unstack(fill_value=0)\n",
    "    .reindex(columns=range(1, 21), fill_value=0)  # Ensure columns go from 1 to 20\n",
    ")\n",
    "\n",
    "# normalize to percentage\n",
    "result_matrix = 100 * (result_matrix / nr_simulations)"
   ]
  },
  {
   "cell_type": "code",
   "execution_count": null,
   "metadata": {},
   "outputs": [],
   "source": [
    "# Determine the most common position for each team (highest count)\n",
    "#dominant_positions = result_matrix.idxmax(axis=1)\n",
    "# Sort teams based on their most common position\n",
    "#sorted_teams = dominant_positions.sort_values().index\n",
    "\n",
    "# Reorder the matrix based on average final league position\n",
    "sorted_teams = simulation_results_df.groupby(['Squad'])['Rk'].mean().sort_values().index\n",
    "sorted_matrix = result_matrix.loc[sorted_teams]\n",
    "\n",
    "# Plot the reordered heatmap\n",
    "plt.figure(figsize=(10, 6))\n",
    "sns.heatmap(sorted_matrix, annot=True, cmap=\"Blues\", linewidths=0.5, cbar_kws={'label': 'Probability'})\n",
    "\n",
    "timestamp = datetime.now().strftime(\"%d.%m.%Y\")\n",
    "plt.title(f\"Distribution of Final League Positions (forecast on {timestamp})\")\n",
    "plt.xlabel(\"Final League Position\")\n",
    "plt.ylabel(\"Team\")\n",
    "\n",
    "plt.savefig('league_distribution.png')\n",
    "\n",
    "plt.show()"
   ]
  },
  {
   "cell_type": "code",
   "execution_count": null,
   "metadata": {},
   "outputs": [],
   "source": [
    "weekly_scores = (manager_results_df.groupby(['gameweek', 'team']).sum() / nr_simulations).reset_index()\n",
    "#weekly_scores['quantile_10'] = manager_results_df.groupby(['gameweek', 'team']).quantile(0.10).reset_index()['expected_points']\n",
    "#weekly_scores['quantile_30'] = manager_results_df.groupby(['gameweek', 'team']).quantile(0.30).reset_index()['expected_points']\n",
    "#weekly_scores['quantile_70'] = manager_results_df.groupby(['gameweek', 'team']).quantile(0.70).reset_index()['expected_points']\n",
    "#weekly_scores['quantile_90'] = manager_results_df.groupby(['gameweek', 'team']).quantile(0.90).reset_index()['expected_points']\n",
    "#weekly_scores"
   ]
  },
  {
   "cell_type": "code",
   "execution_count": null,
   "metadata": {},
   "outputs": [],
   "source": [
    "# fill weeks with no game with 0 manager points\n",
    "# Get all unique gameweeks and teams\n",
    "all_gameweeks = range(int(weekly_scores['gameweek'].min()), int(weekly_scores['gameweek'].max()) + 1)\n",
    "all_teams = weekly_scores['team'].unique()\n",
    "\n",
    "# Create a MultiIndex for all possible gameweek-team combinations\n",
    "idx = pd.MultiIndex.from_product([all_gameweeks, all_teams], names=['gameweek', 'team'])\n",
    "\n",
    "# Reindex the DataFrame to include missing gameweeks for each team\n",
    "weekly_scores = weekly_scores.set_index(['gameweek', 'team']).reindex(idx, fill_value=0).reset_index()\n",
    "\n",
    "weekly_scores"
   ]
  },
  {
   "cell_type": "code",
   "execution_count": null,
   "metadata": {},
   "outputs": [],
   "source": [
    "fig = px.line(weekly_scores, x='gameweek', y='expected_points', color='team', markers=True,\n",
    "              title=\"Expected Points per Game Week\",\n",
    "              labels={\"expected_points\": \"Expected Points\", \"gameweek\": \"Game Week\"})\n",
    "\n",
    "fig.show()"
   ]
  },
  {
   "cell_type": "code",
   "execution_count": null,
   "metadata": {},
   "outputs": [],
   "source": [
    "# Get unique teams\n",
    "teams = np.sort(weekly_scores['team'].unique())\n",
    "default_team = teams[0]  # Default highlighted team\n",
    "\n",
    "# Create figure\n",
    "fig = go.Figure()\n",
    "\n",
    "for team in teams:\n",
    "    fig.add_trace(go.Scatter(\n",
    "        x=weekly_scores[weekly_scores['team'] == team]['gameweek'],\n",
    "        y=weekly_scores[weekly_scores['team'] == team]['expected_points'],\n",
    "        mode='lines+markers',\n",
    "        name=team,\n",
    "        line=dict(color='blue' if team == default_team else 'gray'),\n",
    "        opacity=1 if team == default_team else 0.3,\n",
    "        visible=True\n",
    "    ))\n",
    "\n",
    "# Create dropdown menu\n",
    "dropdown_buttons = []\n",
    "for selected_team in teams:\n",
    "    button = {\n",
    "        \"label\": selected_team,\n",
    "        \"method\": \"update\",\n",
    "        \"args\": [\n",
    "            {\n",
    "                \"opacity\": [1 if team == selected_team else 0.3 for team in teams],\n",
    "                \"line\": [dict(color=\"blue\" if team == selected_team else \"gray\") for team in teams],\n",
    "            },\n",
    "            {\"title\": f\"Expected Points per Game Week - {selected_team}\"}\n",
    "        ]\n",
    "    }\n",
    "    dropdown_buttons.append(button)\n",
    "\n",
    "# Add dropdown menu\n",
    "fig.update_layout(\n",
    "    title=f\"Expected Points per Game Week - {default_team}\",\n",
    "    xaxis_title=\"Game Week\",\n",
    "    yaxis_title=\"Expected Points\",\n",
    "    updatemenus=[{\n",
    "        \"buttons\": dropdown_buttons,\n",
    "        \"direction\": \"down\",\n",
    "        \"showactive\": True,\n",
    "    }]\n",
    ")\n",
    "\n",
    "fig.show()"
   ]
  },
  {
   "cell_type": "code",
   "execution_count": null,
   "metadata": {},
   "outputs": [],
   "source": [
    "weekly_scores[[\"rolling_expected_points\"]] = weekly_scores.groupby(\"team\").rolling(3, on='gameweek').sum().reset_index(level=0, drop=True)[[\"expected_points\"]]\n",
    "#weekly_scores[[\"rolling_quantile_10\", \"rolling_quantile_30\", \"rolling_expected_points\", \"rolling_quantile_70\", \"rolling_quantile_90\"]] = weekly_scores.groupby(\"team\").rolling(3, on='gameweek').sum().reset_index(level=0, drop=True)[[\"quantile_10\", \"quantile_30\", \"expected_points\", \"quantile_70\", \"quantile_90\"]]\n",
    "weekly_scores"
   ]
  },
  {
   "cell_type": "code",
   "execution_count": null,
   "metadata": {},
   "outputs": [],
   "source": [
    "# Get unique teams\n",
    "teams = np.sort(weekly_scores['team'].unique())\n",
    "default_team = teams[0]  # Default highlighted team\n",
    "\n",
    "# Create figure\n",
    "fig = go.Figure()\n",
    "\n",
    "for team in teams:\n",
    "    fig.add_trace(go.Scatter(\n",
    "        x=weekly_scores[weekly_scores['team'] == team]['gameweek'],\n",
    "        y=weekly_scores[weekly_scores['team'] == team]['rolling_expected_points'],\n",
    "        mode='lines+markers',\n",
    "        name=team,\n",
    "        line=dict(color='blue' if team == default_team else 'gray'),\n",
    "        opacity=1 if team == default_team else 0.3,\n",
    "        visible=True\n",
    "    ))\n",
    "\n",
    "# Create dropdown menu\n",
    "dropdown_buttons = []\n",
    "for selected_team in teams:\n",
    "    button = {\n",
    "        \"label\": selected_team,\n",
    "        \"method\": \"update\",\n",
    "        \"args\": [\n",
    "            {\n",
    "                \"opacity\": [1 if team == selected_team else 0.3 for team in teams],\n",
    "                \"line\": [dict(color=\"blue\" if team == selected_team else \"gray\") for team in teams],\n",
    "            },\n",
    "            {\"title\": f\"3-week Rolling Sum of Expected Points - {selected_team}\"}\n",
    "        ]\n",
    "    }\n",
    "    dropdown_buttons.append(button)\n",
    "\n",
    "# Add dropdown menu\n",
    "fig.update_layout(\n",
    "    title=f\"3-week Rolling Sum of Expected Points - {default_team}\",\n",
    "    xaxis_title=\"Gameweek\",\n",
    "    yaxis_title=\"Expected Points\",\n",
    "    updatemenus=[{\n",
    "        \"buttons\": dropdown_buttons,\n",
    "        \"direction\": \"down\",\n",
    "        \"showactive\": True,\n",
    "    }]\n",
    ")\n",
    "\n",
    "fig.show()"
   ]
  },
  {
   "cell_type": "markdown",
   "metadata": {},
   "source": [
    "# Development"
   ]
  },
  {
   "cell_type": "code",
   "execution_count": null,
   "metadata": {},
   "outputs": [],
   "source": [
    "manager_xp = []\n",
    "for _, row in fixtures.iterrows():\n",
    "    if np.isnan(row.event):\n",
    "        continue\n",
    "    else:\n",
    "        # calculate expected goals for both teams\n",
    "        home_team_xg = poisson_model.predict(pd.DataFrame(data={'team': row.home_team, 'opponent': row.away_team, 'home':1},index=[1])).values[0]\n",
    "        away_team_xg = poisson_model.predict(pd.DataFrame(data={'team': row.away_team, 'opponent': row.home_team, 'home':0},index=[1])).values[0]\n",
    "        \n",
    "        # CALCULATE EXPECTED MANAGER POINTS FOR HOME TEAM\n",
    "        new_row1 = [row.event, row.home_team, 0]\n",
    "        table_bonus_coefficient = table_bonus_check(row.home_team, row.away_team, league_table) # 1 or 0\n",
    "        # points for win\n",
    "        new_row1[2] += (6 + 10*table_bonus_coefficient)*row.home_win_probability\n",
    "        # points for draw\n",
    "        new_row1[2] += (3 + 5*table_bonus_coefficient)*row.draw_probability\n",
    "        # expected goals scored\n",
    "        new_row1[2] += home_team_xg\n",
    "        # points for clean sheet\n",
    "        new_row1[2] += 2*poisson.pmf(0, away_team_xg)\n",
    "\n",
    "        # CALCULATE EXPECTED MANAGER POINTS FOR AWAY TEAM\n",
    "        new_row2 = [row.event, row.away_team, 0]\n",
    "        table_bonus_coefficient = table_bonus_check(row.away_team, row.home_team, league_table) # 1 or 0\n",
    "        # points for win\n",
    "        new_row2[2] += (6 + 10*table_bonus_coefficient)*row.away_win_probability\n",
    "        # points for draw\n",
    "        new_row2[2] += (3 + 5*table_bonus_coefficient)*row.draw_probability\n",
    "        # expected goals scored\n",
    "        new_row2[2] += away_team_xg\n",
    "        # points for clean sheet\n",
    "        new_row2[2] += 2*poisson.pmf(0, home_team_xg)\n",
    "\n",
    "        # add rows to manager_xp\n",
    "        manager_xp.extend([new_row1, new_row2])\n",
    "        \n",
    "manager_df = pd.DataFrame(manager_xp, columns=['gameweek', 'team', 'expected_points'])\n",
    "manager_df"
   ]
  },
  {
   "cell_type": "code",
   "execution_count": null,
   "metadata": {},
   "outputs": [],
   "source": [
    "weekly_scores = manager_df.groupby(['gameweek', 'team']).sum().reset_index()\n",
    "weekly_scores"
   ]
  },
  {
   "cell_type": "markdown",
   "metadata": {},
   "source": [
    "## Simulate season"
   ]
  },
  {
   "cell_type": "code",
   "execution_count": null,
   "metadata": {},
   "outputs": [],
   "source": [
    "def simulate_match(foot_model, homeTeam, awayTeam):\n",
    "    '''\n",
    "    Simulate the outcome of a single match.\n",
    "    '''\n",
    "    \n",
    "    # simulate scoreline\n",
    "    home_goals_avg_, away_goals_avg_ = predict_average_goals(foot_model, homeTeam, awayTeam)\n",
    "    home_goals = poisson.rvs(home_goals_avg_)\n",
    "    away_goals = poisson.rvs(away_goals_avg_)\n",
    "\n",
    "    if home_goals > away_goals:\n",
    "        outcome = 'home_win'\n",
    "    elif home_goals == away_goals:   \n",
    "        outcome = 'draw'\n",
    "    else:\n",
    "        outcome = 'away_win'\n",
    "\n",
    "    return outcome, home_goals, away_goals\n",
    "    #return choices(['home_win', 'draw', 'away_win'], probabilities)[0]"
   ]
  },
  {
   "cell_type": "code",
   "execution_count": null,
   "metadata": {},
   "outputs": [],
   "source": [
    "def simulate_season(league_table, fixtures, foot_model):\n",
    "    '''Simulate a whole season.'''\n",
    "    for _, fixture in fixtures.iterrows():\n",
    "        home_team_ = fixture.Home\n",
    "        away_team_ = fixture.Away\n",
    "        # simulate match outcome\n",
    "        outcome, home_goals, away_goals = simulate_match(foot_model, home_team_, away_team_)\n",
    "        # update matches played\n",
    "        league_table.loc[league_table['Squad']==home_team_, 'MP'] += 1\n",
    "        league_table.loc[league_table['Squad']==away_team_, 'MP'] += 1\n",
    "        # update league table \n",
    "        league_table.loc[league_table['Squad']==home_team_, 'GF'] += home_goals\n",
    "        league_table.loc[league_table['Squad']==home_team_, 'GA'] += away_goals\n",
    "        league_table.loc[league_table['Squad']==home_team_, 'GD'] += home_goals - away_goals\n",
    "        league_table.loc[league_table['Squad']==away_team_, 'GF'] += away_goals\n",
    "        league_table.loc[league_table['Squad']==away_team_, 'GA'] += home_goals\n",
    "        league_table.loc[league_table['Squad']==away_team_, 'GD'] += away_goals - home_goals\n",
    "        if outcome=='home_win':\n",
    "            league_table.loc[league_table['Squad']==home_team_, 'Pts'] += 3\n",
    "            league_table.loc[league_table['Squad']==home_team_, 'W'] += 1\n",
    "            league_table.loc[league_table['Squad']==away_team_, 'L'] += 1\n",
    "        elif outcome=='draw':\n",
    "            league_table.loc[league_table['Squad']==home_team_, 'Pts'] += 1\n",
    "            league_table.loc[league_table['Squad']==away_team_, 'Pts'] += 1\n",
    "            league_table.loc[league_table['Squad']==home_team_, 'D'] += 1\n",
    "            league_table.loc[league_table['Squad']==away_team_, 'D'] += 1\n",
    "        elif outcome=='away_win':\n",
    "            league_table.loc[league_table['Squad']==away_team_, 'Pts'] += 3\n",
    "            league_table.loc[league_table['Squad']==away_team_, 'W'] += 1\n",
    "            league_table.loc[league_table['Squad']==home_team_, 'L'] += 1\n",
    "        else: \n",
    "            print('No valid result for:')\n",
    "            print(fixture)\n",
    "    \n",
    "    assert np.all(league_table['MP']==38), 'All teams have not played 38 games!'\n",
    "\n",
    "    league_table = league_table.sort_values(by=['Pts', 'GD', 'GF'], ascending=False)\n",
    "    league_table['Rk'] = np.arange(1,21)\n",
    "\n",
    "    return league_table"
   ]
  },
  {
   "cell_type": "code",
   "execution_count": null,
   "metadata": {},
   "outputs": [],
   "source": [
    "league_table = pd.read_html('https://fbref.com/en/comps/9/Premier-League-Stats')[0]\n",
    "league_table"
   ]
  },
  {
   "cell_type": "code",
   "execution_count": null,
   "metadata": {},
   "outputs": [],
   "source": [
    "simulated_table = simulate_season(league_table[['Squad', 'MP', 'W', 'D', 'L', 'GF', 'GA', 'GD', 'Pts']].copy(), fixtures, poisson_model)\n",
    "display(simulated_table)"
   ]
  },
  {
   "cell_type": "code",
   "execution_count": null,
   "metadata": {},
   "outputs": [],
   "source": [
    "nr_simulations = 1000\n",
    "simulation_results = []\n",
    "for i in tqdm(range(nr_simulations), desc='Simulating...'):\n",
    "    simulated_table = simulate_season(league_table[['Squad', 'MP', 'W', 'D', 'L', 'GF', 'GA', 'GD', 'Pts']].copy(), fixtures, poisson_model)\n",
    "    simulated_table['simulation_nr'] = i\n",
    "    simulation_results.append(simulated_table)\n",
    "print('Done!')\n",
    "\n",
    "simulation_results_df = pd.concat(simulation_results).reset_index(drop=True)"
   ]
  },
  {
   "cell_type": "code",
   "execution_count": null,
   "metadata": {},
   "outputs": [],
   "source": [
    "result_matrix = (\n",
    "    simulation_results_df.groupby(['Squad', 'Rk'])\n",
    "    .size()\n",
    "    .unstack(fill_value=0)\n",
    "    .reindex(columns=range(1, 21), fill_value=0)  # Ensure columns go from 1 to 20\n",
    ")\n",
    "\n",
    "# normalize to percentage\n",
    "result_matrix = 100 * (result_matrix / nr_simulations)"
   ]
  },
  {
   "cell_type": "code",
   "execution_count": null,
   "metadata": {},
   "outputs": [],
   "source": [
    "# Determine the most common position for each team (highest count)\n",
    "#dominant_positions = result_matrix.idxmax(axis=1)\n",
    "# Sort teams based on their most common position\n",
    "#sorted_teams = dominant_positions.sort_values().index\n",
    "\n",
    "# Reorder the matrix based on average final league position\n",
    "sorted_teams = simulation_results_df.groupby(['Squad'])['Rk'].mean().sort_values().index\n",
    "sorted_matrix = result_matrix.loc[sorted_teams]\n",
    "\n",
    "# Plot the reordered heatmap\n",
    "plt.figure(figsize=(10, 6))\n",
    "sns.heatmap(sorted_matrix, annot=True, cmap=\"Blues\", linewidths=0.5, cbar_kws={'label': 'Probability'})\n",
    "\n",
    "timestamp = datetime.now().strftime(\"%d.%m.%Y\")\n",
    "plt.title(f\"Distribution of Final League Positions (forecast on {timestamp})\")\n",
    "plt.xlabel(\"Final League Position\")\n",
    "plt.ylabel(\"Team\")\n",
    "\n",
    "plt.show()"
   ]
  }
 ],
 "metadata": {
  "kernelspec": {
   "display_name": "match_prediction",
   "language": "python",
   "name": "python3"
  },
  "language_info": {
   "codemirror_mode": {
    "name": "ipython",
    "version": 3
   },
   "file_extension": ".py",
   "mimetype": "text/x-python",
   "name": "python",
   "nbconvert_exporter": "python",
   "pygments_lexer": "ipython3",
   "version": "3.12.9"
  }
 },
 "nbformat": 4,
 "nbformat_minor": 2
}
