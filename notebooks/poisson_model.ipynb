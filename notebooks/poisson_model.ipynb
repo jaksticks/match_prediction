{
 "cells": [
  {
   "cell_type": "markdown",
   "metadata": {},
   "source": [
    "This notebook was inspired by this blog post: https://dashee87.github.io/football/python/predicting-football-results-with-statistical-modelling/\n",
    "The Poisson model essentially follows the initial part of above blog. The rest of the notebook applies the results to estimating Fantasy Premier League Assistant Manager chip expected points for each manager. "
   ]
  },
  {
   "cell_type": "code",
   "execution_count": 1,
   "metadata": {},
   "outputs": [],
   "source": [
    "import pandas as pd\n",
    "import numpy as np\n",
    "import datetime as dt\n",
    "import json\n",
    "import requests\n",
    "from tqdm import tqdm\n",
    "from datetime import datetime\n",
    "import dataframe_image as dfi\n",
    "\n",
    "from scipy.stats import poisson\n",
    "import statsmodels.api as sm\n",
    "import statsmodels.formula.api as smf\n",
    "from random import choices\n",
    "\n",
    "import matplotlib.pyplot as plt\n",
    "import seaborn as sns\n",
    "import plotly.express as px\n",
    "import plotly.graph_objects as go"
   ]
  },
  {
   "cell_type": "markdown",
   "metadata": {},
   "source": [
    "# Fetch data"
   ]
  },
  {
   "cell_type": "code",
   "execution_count": 2,
   "metadata": {},
   "outputs": [
    {
     "data": {
      "text/html": [
       "<div>\n",
       "<style scoped>\n",
       "    .dataframe tbody tr th:only-of-type {\n",
       "        vertical-align: middle;\n",
       "    }\n",
       "\n",
       "    .dataframe tbody tr th {\n",
       "        vertical-align: top;\n",
       "    }\n",
       "\n",
       "    .dataframe thead th {\n",
       "        text-align: right;\n",
       "    }\n",
       "</style>\n",
       "<table border=\"1\" class=\"dataframe\">\n",
       "  <thead>\n",
       "    <tr style=\"text-align: right;\">\n",
       "      <th></th>\n",
       "      <th>Wk</th>\n",
       "      <th>Day</th>\n",
       "      <th>Date</th>\n",
       "      <th>Time</th>\n",
       "      <th>Home</th>\n",
       "      <th>xG</th>\n",
       "      <th>Score</th>\n",
       "      <th>xG.1</th>\n",
       "      <th>Away</th>\n",
       "      <th>Attendance</th>\n",
       "      <th>Venue</th>\n",
       "      <th>Referee</th>\n",
       "      <th>Match Report</th>\n",
       "      <th>Notes</th>\n",
       "    </tr>\n",
       "  </thead>\n",
       "  <tbody>\n",
       "    <tr>\n",
       "      <th>0</th>\n",
       "      <td>1.0</td>\n",
       "      <td>Fri</td>\n",
       "      <td>2023-08-11</td>\n",
       "      <td>20:00</td>\n",
       "      <td>Burnley</td>\n",
       "      <td>0.3</td>\n",
       "      <td>0–3</td>\n",
       "      <td>1.9</td>\n",
       "      <td>Manchester City</td>\n",
       "      <td>21572.0</td>\n",
       "      <td>Turf Moor</td>\n",
       "      <td>Craig Pawson</td>\n",
       "      <td>Match Report</td>\n",
       "      <td>NaN</td>\n",
       "    </tr>\n",
       "    <tr>\n",
       "      <th>1</th>\n",
       "      <td>1.0</td>\n",
       "      <td>Sat</td>\n",
       "      <td>2023-08-12</td>\n",
       "      <td>12:30</td>\n",
       "      <td>Arsenal</td>\n",
       "      <td>0.8</td>\n",
       "      <td>2–1</td>\n",
       "      <td>1.2</td>\n",
       "      <td>Nott'ham Forest</td>\n",
       "      <td>59984.0</td>\n",
       "      <td>Emirates Stadium</td>\n",
       "      <td>Michael Oliver</td>\n",
       "      <td>Match Report</td>\n",
       "      <td>NaN</td>\n",
       "    </tr>\n",
       "    <tr>\n",
       "      <th>2</th>\n",
       "      <td>1.0</td>\n",
       "      <td>Sat</td>\n",
       "      <td>2023-08-12</td>\n",
       "      <td>15:00</td>\n",
       "      <td>Everton</td>\n",
       "      <td>2.7</td>\n",
       "      <td>0–1</td>\n",
       "      <td>1.5</td>\n",
       "      <td>Fulham</td>\n",
       "      <td>39940.0</td>\n",
       "      <td>Goodison Park</td>\n",
       "      <td>Stuart Attwell</td>\n",
       "      <td>Match Report</td>\n",
       "      <td>NaN</td>\n",
       "    </tr>\n",
       "    <tr>\n",
       "      <th>3</th>\n",
       "      <td>1.0</td>\n",
       "      <td>Sat</td>\n",
       "      <td>2023-08-12</td>\n",
       "      <td>15:00</td>\n",
       "      <td>Brighton</td>\n",
       "      <td>4.0</td>\n",
       "      <td>4–1</td>\n",
       "      <td>1.5</td>\n",
       "      <td>Luton Town</td>\n",
       "      <td>31872.0</td>\n",
       "      <td>The American Express Community Stadium</td>\n",
       "      <td>David Coote</td>\n",
       "      <td>Match Report</td>\n",
       "      <td>NaN</td>\n",
       "    </tr>\n",
       "    <tr>\n",
       "      <th>4</th>\n",
       "      <td>1.0</td>\n",
       "      <td>Sat</td>\n",
       "      <td>2023-08-12</td>\n",
       "      <td>15:00</td>\n",
       "      <td>Sheffield Utd</td>\n",
       "      <td>0.5</td>\n",
       "      <td>0–1</td>\n",
       "      <td>1.9</td>\n",
       "      <td>Crystal Palace</td>\n",
       "      <td>31194.0</td>\n",
       "      <td>Bramall Lane</td>\n",
       "      <td>John Brooks</td>\n",
       "      <td>Match Report</td>\n",
       "      <td>NaN</td>\n",
       "    </tr>\n",
       "    <tr>\n",
       "      <th>...</th>\n",
       "      <td>...</td>\n",
       "      <td>...</td>\n",
       "      <td>...</td>\n",
       "      <td>...</td>\n",
       "      <td>...</td>\n",
       "      <td>...</td>\n",
       "      <td>...</td>\n",
       "      <td>...</td>\n",
       "      <td>...</td>\n",
       "      <td>...</td>\n",
       "      <td>...</td>\n",
       "      <td>...</td>\n",
       "      <td>...</td>\n",
       "      <td>...</td>\n",
       "    </tr>\n",
       "    <tr>\n",
       "      <th>838</th>\n",
       "      <td>38.0</td>\n",
       "      <td>Sun</td>\n",
       "      <td>2025-05-25</td>\n",
       "      <td>16:00</td>\n",
       "      <td>Nott'ham Forest</td>\n",
       "      <td>NaN</td>\n",
       "      <td>NaN</td>\n",
       "      <td>NaN</td>\n",
       "      <td>Chelsea</td>\n",
       "      <td>NaN</td>\n",
       "      <td>The City Ground</td>\n",
       "      <td>NaN</td>\n",
       "      <td>Head-to-Head</td>\n",
       "      <td>NaN</td>\n",
       "    </tr>\n",
       "    <tr>\n",
       "      <th>839</th>\n",
       "      <td>38.0</td>\n",
       "      <td>Sun</td>\n",
       "      <td>2025-05-25</td>\n",
       "      <td>16:00</td>\n",
       "      <td>Fulham</td>\n",
       "      <td>NaN</td>\n",
       "      <td>NaN</td>\n",
       "      <td>NaN</td>\n",
       "      <td>Manchester City</td>\n",
       "      <td>NaN</td>\n",
       "      <td>Craven Cottage</td>\n",
       "      <td>NaN</td>\n",
       "      <td>Head-to-Head</td>\n",
       "      <td>NaN</td>\n",
       "    </tr>\n",
       "    <tr>\n",
       "      <th>840</th>\n",
       "      <td>38.0</td>\n",
       "      <td>Sun</td>\n",
       "      <td>2025-05-25</td>\n",
       "      <td>16:00</td>\n",
       "      <td>Newcastle Utd</td>\n",
       "      <td>NaN</td>\n",
       "      <td>NaN</td>\n",
       "      <td>NaN</td>\n",
       "      <td>Everton</td>\n",
       "      <td>NaN</td>\n",
       "      <td>St James' Park</td>\n",
       "      <td>NaN</td>\n",
       "      <td>Head-to-Head</td>\n",
       "      <td>NaN</td>\n",
       "    </tr>\n",
       "    <tr>\n",
       "      <th>841</th>\n",
       "      <td>38.0</td>\n",
       "      <td>Sun</td>\n",
       "      <td>2025-05-25</td>\n",
       "      <td>16:00</td>\n",
       "      <td>Bournemouth</td>\n",
       "      <td>NaN</td>\n",
       "      <td>NaN</td>\n",
       "      <td>NaN</td>\n",
       "      <td>Leicester City</td>\n",
       "      <td>NaN</td>\n",
       "      <td>Vitality Stadium</td>\n",
       "      <td>NaN</td>\n",
       "      <td>Head-to-Head</td>\n",
       "      <td>NaN</td>\n",
       "    </tr>\n",
       "    <tr>\n",
       "      <th>842</th>\n",
       "      <td>38.0</td>\n",
       "      <td>Sun</td>\n",
       "      <td>2025-05-25</td>\n",
       "      <td>16:00</td>\n",
       "      <td>Tottenham</td>\n",
       "      <td>NaN</td>\n",
       "      <td>NaN</td>\n",
       "      <td>NaN</td>\n",
       "      <td>Brighton</td>\n",
       "      <td>NaN</td>\n",
       "      <td>Tottenham Hotspur Stadium</td>\n",
       "      <td>NaN</td>\n",
       "      <td>Head-to-Head</td>\n",
       "      <td>NaN</td>\n",
       "    </tr>\n",
       "  </tbody>\n",
       "</table>\n",
       "<p>843 rows × 14 columns</p>\n",
       "</div>"
      ],
      "text/plain": [
       "       Wk  Day       Date   Time             Home   xG Score  xG.1  \\\n",
       "0     1.0  Fri 2023-08-11  20:00          Burnley  0.3   0–3   1.9   \n",
       "1     1.0  Sat 2023-08-12  12:30          Arsenal  0.8   2–1   1.2   \n",
       "2     1.0  Sat 2023-08-12  15:00          Everton  2.7   0–1   1.5   \n",
       "3     1.0  Sat 2023-08-12  15:00         Brighton  4.0   4–1   1.5   \n",
       "4     1.0  Sat 2023-08-12  15:00    Sheffield Utd  0.5   0–1   1.9   \n",
       "..    ...  ...        ...    ...              ...  ...   ...   ...   \n",
       "838  38.0  Sun 2025-05-25  16:00  Nott'ham Forest  NaN   NaN   NaN   \n",
       "839  38.0  Sun 2025-05-25  16:00           Fulham  NaN   NaN   NaN   \n",
       "840  38.0  Sun 2025-05-25  16:00    Newcastle Utd  NaN   NaN   NaN   \n",
       "841  38.0  Sun 2025-05-25  16:00      Bournemouth  NaN   NaN   NaN   \n",
       "842  38.0  Sun 2025-05-25  16:00        Tottenham  NaN   NaN   NaN   \n",
       "\n",
       "                Away  Attendance                                   Venue  \\\n",
       "0    Manchester City     21572.0                               Turf Moor   \n",
       "1    Nott'ham Forest     59984.0                        Emirates Stadium   \n",
       "2             Fulham     39940.0                           Goodison Park   \n",
       "3         Luton Town     31872.0  The American Express Community Stadium   \n",
       "4     Crystal Palace     31194.0                            Bramall Lane   \n",
       "..               ...         ...                                     ...   \n",
       "838          Chelsea         NaN                         The City Ground   \n",
       "839  Manchester City         NaN                          Craven Cottage   \n",
       "840          Everton         NaN                          St James' Park   \n",
       "841   Leicester City         NaN                        Vitality Stadium   \n",
       "842         Brighton         NaN               Tottenham Hotspur Stadium   \n",
       "\n",
       "            Referee  Match Report  Notes  \n",
       "0      Craig Pawson  Match Report    NaN  \n",
       "1    Michael Oliver  Match Report    NaN  \n",
       "2    Stuart Attwell  Match Report    NaN  \n",
       "3       David Coote  Match Report    NaN  \n",
       "4       John Brooks  Match Report    NaN  \n",
       "..              ...           ...    ...  \n",
       "838             NaN  Head-to-Head    NaN  \n",
       "839             NaN  Head-to-Head    NaN  \n",
       "840             NaN  Head-to-Head    NaN  \n",
       "841             NaN  Head-to-Head    NaN  \n",
       "842             NaN  Head-to-Head    NaN  \n",
       "\n",
       "[843 rows x 14 columns]"
      ]
     },
     "metadata": {},
     "output_type": "display_data"
    }
   ],
   "source": [
    "matches24_25 = pd.read_html('https://fbref.com/en/comps/9/schedule/Premier-League-Scores-and-Fixtures')[0]\n",
    "matches23_24 = pd.read_html('https://fbref.com/en/comps/9/2023-2024/schedule/2023-2024-Premier-League-Scores-and-Fixtures')[0]\n",
    "fixtures_fbref = pd.concat([matches23_24, matches24_25], ignore_index=True)\n",
    "#fixtures_fbref = matches24_25.copy()\n",
    "fixtures_fbref['Date'] = pd.to_datetime(fixtures_fbref['Date'])\n",
    "display(fixtures_fbref)"
   ]
  },
  {
   "cell_type": "code",
   "execution_count": 3,
   "metadata": {},
   "outputs": [
    {
     "data": {
      "text/html": [
       "<div>\n",
       "<style scoped>\n",
       "    .dataframe tbody tr th:only-of-type {\n",
       "        vertical-align: middle;\n",
       "    }\n",
       "\n",
       "    .dataframe tbody tr th {\n",
       "        vertical-align: top;\n",
       "    }\n",
       "\n",
       "    .dataframe thead th {\n",
       "        text-align: right;\n",
       "    }\n",
       "</style>\n",
       "<table border=\"1\" class=\"dataframe\">\n",
       "  <thead>\n",
       "    <tr style=\"text-align: right;\">\n",
       "      <th></th>\n",
       "      <th>index</th>\n",
       "      <th>Wk</th>\n",
       "      <th>Day</th>\n",
       "      <th>Date</th>\n",
       "      <th>Time</th>\n",
       "      <th>Home</th>\n",
       "      <th>xG</th>\n",
       "      <th>Score</th>\n",
       "      <th>xG.1</th>\n",
       "      <th>Away</th>\n",
       "      <th>Attendance</th>\n",
       "      <th>Venue</th>\n",
       "      <th>Referee</th>\n",
       "      <th>Match Report</th>\n",
       "      <th>Notes</th>\n",
       "    </tr>\n",
       "  </thead>\n",
       "  <tbody>\n",
       "    <tr>\n",
       "      <th>0</th>\n",
       "      <td>0</td>\n",
       "      <td>1.0</td>\n",
       "      <td>Fri</td>\n",
       "      <td>2023-08-11</td>\n",
       "      <td>20:00</td>\n",
       "      <td>Burnley</td>\n",
       "      <td>0.3</td>\n",
       "      <td>0–3</td>\n",
       "      <td>1.9</td>\n",
       "      <td>Manchester City</td>\n",
       "      <td>21572.0</td>\n",
       "      <td>Turf Moor</td>\n",
       "      <td>Craig Pawson</td>\n",
       "      <td>Match Report</td>\n",
       "      <td>NaN</td>\n",
       "    </tr>\n",
       "    <tr>\n",
       "      <th>1</th>\n",
       "      <td>1</td>\n",
       "      <td>1.0</td>\n",
       "      <td>Sat</td>\n",
       "      <td>2023-08-12</td>\n",
       "      <td>12:30</td>\n",
       "      <td>Arsenal</td>\n",
       "      <td>0.8</td>\n",
       "      <td>2–1</td>\n",
       "      <td>1.2</td>\n",
       "      <td>Nott'ham Forest</td>\n",
       "      <td>59984.0</td>\n",
       "      <td>Emirates Stadium</td>\n",
       "      <td>Michael Oliver</td>\n",
       "      <td>Match Report</td>\n",
       "      <td>NaN</td>\n",
       "    </tr>\n",
       "    <tr>\n",
       "      <th>2</th>\n",
       "      <td>2</td>\n",
       "      <td>1.0</td>\n",
       "      <td>Sat</td>\n",
       "      <td>2023-08-12</td>\n",
       "      <td>15:00</td>\n",
       "      <td>Everton</td>\n",
       "      <td>2.7</td>\n",
       "      <td>0–1</td>\n",
       "      <td>1.5</td>\n",
       "      <td>Fulham</td>\n",
       "      <td>39940.0</td>\n",
       "      <td>Goodison Park</td>\n",
       "      <td>Stuart Attwell</td>\n",
       "      <td>Match Report</td>\n",
       "      <td>NaN</td>\n",
       "    </tr>\n",
       "    <tr>\n",
       "      <th>3</th>\n",
       "      <td>3</td>\n",
       "      <td>1.0</td>\n",
       "      <td>Sat</td>\n",
       "      <td>2023-08-12</td>\n",
       "      <td>15:00</td>\n",
       "      <td>Brighton</td>\n",
       "      <td>4.0</td>\n",
       "      <td>4–1</td>\n",
       "      <td>1.5</td>\n",
       "      <td>Luton Town</td>\n",
       "      <td>31872.0</td>\n",
       "      <td>The American Express Community Stadium</td>\n",
       "      <td>David Coote</td>\n",
       "      <td>Match Report</td>\n",
       "      <td>NaN</td>\n",
       "    </tr>\n",
       "    <tr>\n",
       "      <th>4</th>\n",
       "      <td>4</td>\n",
       "      <td>1.0</td>\n",
       "      <td>Sat</td>\n",
       "      <td>2023-08-12</td>\n",
       "      <td>15:00</td>\n",
       "      <td>Sheffield Utd</td>\n",
       "      <td>0.5</td>\n",
       "      <td>0–1</td>\n",
       "      <td>1.9</td>\n",
       "      <td>Crystal Palace</td>\n",
       "      <td>31194.0</td>\n",
       "      <td>Bramall Lane</td>\n",
       "      <td>John Brooks</td>\n",
       "      <td>Match Report</td>\n",
       "      <td>NaN</td>\n",
       "    </tr>\n",
       "    <tr>\n",
       "      <th>...</th>\n",
       "      <td>...</td>\n",
       "      <td>...</td>\n",
       "      <td>...</td>\n",
       "      <td>...</td>\n",
       "      <td>...</td>\n",
       "      <td>...</td>\n",
       "      <td>...</td>\n",
       "      <td>...</td>\n",
       "      <td>...</td>\n",
       "      <td>...</td>\n",
       "      <td>...</td>\n",
       "      <td>...</td>\n",
       "      <td>...</td>\n",
       "      <td>...</td>\n",
       "      <td>...</td>\n",
       "    </tr>\n",
       "    <tr>\n",
       "      <th>674</th>\n",
       "      <td>748</td>\n",
       "      <td>30.0</td>\n",
       "      <td>Wed</td>\n",
       "      <td>2025-04-02</td>\n",
       "      <td>19:45</td>\n",
       "      <td>Southampton</td>\n",
       "      <td>0.7</td>\n",
       "      <td>1–1</td>\n",
       "      <td>0.7</td>\n",
       "      <td>Crystal Palace</td>\n",
       "      <td>30158.0</td>\n",
       "      <td>St Mary's Stadium</td>\n",
       "      <td>Andy Madley</td>\n",
       "      <td>Match Report</td>\n",
       "      <td>NaN</td>\n",
       "    </tr>\n",
       "    <tr>\n",
       "      <th>675</th>\n",
       "      <td>749</td>\n",
       "      <td>30.0</td>\n",
       "      <td>Wed</td>\n",
       "      <td>2025-04-02</td>\n",
       "      <td>19:45</td>\n",
       "      <td>Bournemouth</td>\n",
       "      <td>1.8</td>\n",
       "      <td>1–2</td>\n",
       "      <td>1.2</td>\n",
       "      <td>Ipswich Town</td>\n",
       "      <td>11192.0</td>\n",
       "      <td>Vitality Stadium</td>\n",
       "      <td>Robert Jones</td>\n",
       "      <td>Match Report</td>\n",
       "      <td>NaN</td>\n",
       "    </tr>\n",
       "    <tr>\n",
       "      <th>676</th>\n",
       "      <td>750</td>\n",
       "      <td>30.0</td>\n",
       "      <td>Wed</td>\n",
       "      <td>2025-04-02</td>\n",
       "      <td>19:45</td>\n",
       "      <td>Brighton</td>\n",
       "      <td>0.9</td>\n",
       "      <td>0–3</td>\n",
       "      <td>1.2</td>\n",
       "      <td>Aston Villa</td>\n",
       "      <td>27895.0</td>\n",
       "      <td>The American Express Stadium</td>\n",
       "      <td>Stuart Attwell</td>\n",
       "      <td>Match Report</td>\n",
       "      <td>NaN</td>\n",
       "    </tr>\n",
       "    <tr>\n",
       "      <th>677</th>\n",
       "      <td>751</td>\n",
       "      <td>30.0</td>\n",
       "      <td>Wed</td>\n",
       "      <td>2025-04-02</td>\n",
       "      <td>20:00</td>\n",
       "      <td>Liverpool</td>\n",
       "      <td>1.5</td>\n",
       "      <td>1–0</td>\n",
       "      <td>0.9</td>\n",
       "      <td>Everton</td>\n",
       "      <td>60457.0</td>\n",
       "      <td>Anfield</td>\n",
       "      <td>Samuel Barrott</td>\n",
       "      <td>Match Report</td>\n",
       "      <td>NaN</td>\n",
       "    </tr>\n",
       "    <tr>\n",
       "      <th>678</th>\n",
       "      <td>752</td>\n",
       "      <td>30.0</td>\n",
       "      <td>Thu</td>\n",
       "      <td>2025-04-03</td>\n",
       "      <td>20:00</td>\n",
       "      <td>Chelsea</td>\n",
       "      <td>1.1</td>\n",
       "      <td>1–0</td>\n",
       "      <td>0.8</td>\n",
       "      <td>Tottenham</td>\n",
       "      <td>NaN</td>\n",
       "      <td>Stamford Bridge</td>\n",
       "      <td>Craig Pawson</td>\n",
       "      <td>Match Report</td>\n",
       "      <td>NaN</td>\n",
       "    </tr>\n",
       "  </tbody>\n",
       "</table>\n",
       "<p>679 rows × 15 columns</p>\n",
       "</div>"
      ],
      "text/plain": [
       "     index    Wk  Day       Date   Time           Home   xG Score  xG.1  \\\n",
       "0        0   1.0  Fri 2023-08-11  20:00        Burnley  0.3   0–3   1.9   \n",
       "1        1   1.0  Sat 2023-08-12  12:30        Arsenal  0.8   2–1   1.2   \n",
       "2        2   1.0  Sat 2023-08-12  15:00        Everton  2.7   0–1   1.5   \n",
       "3        3   1.0  Sat 2023-08-12  15:00       Brighton  4.0   4–1   1.5   \n",
       "4        4   1.0  Sat 2023-08-12  15:00  Sheffield Utd  0.5   0–1   1.9   \n",
       "..     ...   ...  ...        ...    ...            ...  ...   ...   ...   \n",
       "674    748  30.0  Wed 2025-04-02  19:45    Southampton  0.7   1–1   0.7   \n",
       "675    749  30.0  Wed 2025-04-02  19:45    Bournemouth  1.8   1–2   1.2   \n",
       "676    750  30.0  Wed 2025-04-02  19:45       Brighton  0.9   0–3   1.2   \n",
       "677    751  30.0  Wed 2025-04-02  20:00      Liverpool  1.5   1–0   0.9   \n",
       "678    752  30.0  Thu 2025-04-03  20:00        Chelsea  1.1   1–0   0.8   \n",
       "\n",
       "                Away  Attendance                                   Venue  \\\n",
       "0    Manchester City     21572.0                               Turf Moor   \n",
       "1    Nott'ham Forest     59984.0                        Emirates Stadium   \n",
       "2             Fulham     39940.0                           Goodison Park   \n",
       "3         Luton Town     31872.0  The American Express Community Stadium   \n",
       "4     Crystal Palace     31194.0                            Bramall Lane   \n",
       "..               ...         ...                                     ...   \n",
       "674   Crystal Palace     30158.0                       St Mary's Stadium   \n",
       "675     Ipswich Town     11192.0                        Vitality Stadium   \n",
       "676      Aston Villa     27895.0            The American Express Stadium   \n",
       "677          Everton     60457.0                                 Anfield   \n",
       "678        Tottenham         NaN                         Stamford Bridge   \n",
       "\n",
       "            Referee  Match Report  Notes  \n",
       "0      Craig Pawson  Match Report    NaN  \n",
       "1    Michael Oliver  Match Report    NaN  \n",
       "2    Stuart Attwell  Match Report    NaN  \n",
       "3       David Coote  Match Report    NaN  \n",
       "4       John Brooks  Match Report    NaN  \n",
       "..              ...           ...    ...  \n",
       "674     Andy Madley  Match Report    NaN  \n",
       "675    Robert Jones  Match Report    NaN  \n",
       "676  Stuart Attwell  Match Report    NaN  \n",
       "677  Samuel Barrott  Match Report    NaN  \n",
       "678    Craig Pawson  Match Report    NaN  \n",
       "\n",
       "[679 rows x 15 columns]"
      ]
     },
     "execution_count": 3,
     "metadata": {},
     "output_type": "execute_result"
    }
   ],
   "source": [
    "results = fixtures_fbref[fixtures_fbref['Score'].notnull()]\n",
    "results = results.reset_index()\n",
    "results"
   ]
  },
  {
   "cell_type": "markdown",
   "metadata": {},
   "source": [
    "# Process data"
   ]
  },
  {
   "cell_type": "code",
   "execution_count": 4,
   "metadata": {},
   "outputs": [
    {
     "data": {
      "text/html": [
       "<div>\n",
       "<style scoped>\n",
       "    .dataframe tbody tr th:only-of-type {\n",
       "        vertical-align: middle;\n",
       "    }\n",
       "\n",
       "    .dataframe tbody tr th {\n",
       "        vertical-align: top;\n",
       "    }\n",
       "\n",
       "    .dataframe thead th {\n",
       "        text-align: right;\n",
       "    }\n",
       "</style>\n",
       "<table border=\"1\" class=\"dataframe\">\n",
       "  <thead>\n",
       "    <tr style=\"text-align: right;\">\n",
       "      <th></th>\n",
       "      <th>index</th>\n",
       "      <th>Wk</th>\n",
       "      <th>Day</th>\n",
       "      <th>Date</th>\n",
       "      <th>Time</th>\n",
       "      <th>Home</th>\n",
       "      <th>xG</th>\n",
       "      <th>Score</th>\n",
       "      <th>xG.1</th>\n",
       "      <th>Away</th>\n",
       "      <th>Attendance</th>\n",
       "      <th>Venue</th>\n",
       "      <th>Referee</th>\n",
       "      <th>Match Report</th>\n",
       "      <th>Notes</th>\n",
       "      <th>home_goals</th>\n",
       "      <th>away_goals</th>\n",
       "    </tr>\n",
       "  </thead>\n",
       "  <tbody>\n",
       "    <tr>\n",
       "      <th>0</th>\n",
       "      <td>0</td>\n",
       "      <td>1.0</td>\n",
       "      <td>Fri</td>\n",
       "      <td>2023-08-11</td>\n",
       "      <td>20:00</td>\n",
       "      <td>Burnley</td>\n",
       "      <td>0.3</td>\n",
       "      <td>0–3</td>\n",
       "      <td>1.9</td>\n",
       "      <td>Manchester City</td>\n",
       "      <td>21572.0</td>\n",
       "      <td>Turf Moor</td>\n",
       "      <td>Craig Pawson</td>\n",
       "      <td>Match Report</td>\n",
       "      <td>NaN</td>\n",
       "      <td>0</td>\n",
       "      <td>3</td>\n",
       "    </tr>\n",
       "    <tr>\n",
       "      <th>1</th>\n",
       "      <td>1</td>\n",
       "      <td>1.0</td>\n",
       "      <td>Sat</td>\n",
       "      <td>2023-08-12</td>\n",
       "      <td>12:30</td>\n",
       "      <td>Arsenal</td>\n",
       "      <td>0.8</td>\n",
       "      <td>2–1</td>\n",
       "      <td>1.2</td>\n",
       "      <td>Nott'ham Forest</td>\n",
       "      <td>59984.0</td>\n",
       "      <td>Emirates Stadium</td>\n",
       "      <td>Michael Oliver</td>\n",
       "      <td>Match Report</td>\n",
       "      <td>NaN</td>\n",
       "      <td>2</td>\n",
       "      <td>1</td>\n",
       "    </tr>\n",
       "    <tr>\n",
       "      <th>2</th>\n",
       "      <td>2</td>\n",
       "      <td>1.0</td>\n",
       "      <td>Sat</td>\n",
       "      <td>2023-08-12</td>\n",
       "      <td>15:00</td>\n",
       "      <td>Everton</td>\n",
       "      <td>2.7</td>\n",
       "      <td>0–1</td>\n",
       "      <td>1.5</td>\n",
       "      <td>Fulham</td>\n",
       "      <td>39940.0</td>\n",
       "      <td>Goodison Park</td>\n",
       "      <td>Stuart Attwell</td>\n",
       "      <td>Match Report</td>\n",
       "      <td>NaN</td>\n",
       "      <td>0</td>\n",
       "      <td>1</td>\n",
       "    </tr>\n",
       "    <tr>\n",
       "      <th>3</th>\n",
       "      <td>3</td>\n",
       "      <td>1.0</td>\n",
       "      <td>Sat</td>\n",
       "      <td>2023-08-12</td>\n",
       "      <td>15:00</td>\n",
       "      <td>Brighton</td>\n",
       "      <td>4.0</td>\n",
       "      <td>4–1</td>\n",
       "      <td>1.5</td>\n",
       "      <td>Luton Town</td>\n",
       "      <td>31872.0</td>\n",
       "      <td>The American Express Community Stadium</td>\n",
       "      <td>David Coote</td>\n",
       "      <td>Match Report</td>\n",
       "      <td>NaN</td>\n",
       "      <td>4</td>\n",
       "      <td>1</td>\n",
       "    </tr>\n",
       "    <tr>\n",
       "      <th>4</th>\n",
       "      <td>4</td>\n",
       "      <td>1.0</td>\n",
       "      <td>Sat</td>\n",
       "      <td>2023-08-12</td>\n",
       "      <td>15:00</td>\n",
       "      <td>Sheffield Utd</td>\n",
       "      <td>0.5</td>\n",
       "      <td>0–1</td>\n",
       "      <td>1.9</td>\n",
       "      <td>Crystal Palace</td>\n",
       "      <td>31194.0</td>\n",
       "      <td>Bramall Lane</td>\n",
       "      <td>John Brooks</td>\n",
       "      <td>Match Report</td>\n",
       "      <td>NaN</td>\n",
       "      <td>0</td>\n",
       "      <td>1</td>\n",
       "    </tr>\n",
       "    <tr>\n",
       "      <th>...</th>\n",
       "      <td>...</td>\n",
       "      <td>...</td>\n",
       "      <td>...</td>\n",
       "      <td>...</td>\n",
       "      <td>...</td>\n",
       "      <td>...</td>\n",
       "      <td>...</td>\n",
       "      <td>...</td>\n",
       "      <td>...</td>\n",
       "      <td>...</td>\n",
       "      <td>...</td>\n",
       "      <td>...</td>\n",
       "      <td>...</td>\n",
       "      <td>...</td>\n",
       "      <td>...</td>\n",
       "      <td>...</td>\n",
       "      <td>...</td>\n",
       "    </tr>\n",
       "    <tr>\n",
       "      <th>674</th>\n",
       "      <td>748</td>\n",
       "      <td>30.0</td>\n",
       "      <td>Wed</td>\n",
       "      <td>2025-04-02</td>\n",
       "      <td>19:45</td>\n",
       "      <td>Southampton</td>\n",
       "      <td>0.7</td>\n",
       "      <td>1–1</td>\n",
       "      <td>0.7</td>\n",
       "      <td>Crystal Palace</td>\n",
       "      <td>30158.0</td>\n",
       "      <td>St Mary's Stadium</td>\n",
       "      <td>Andy Madley</td>\n",
       "      <td>Match Report</td>\n",
       "      <td>NaN</td>\n",
       "      <td>1</td>\n",
       "      <td>1</td>\n",
       "    </tr>\n",
       "    <tr>\n",
       "      <th>675</th>\n",
       "      <td>749</td>\n",
       "      <td>30.0</td>\n",
       "      <td>Wed</td>\n",
       "      <td>2025-04-02</td>\n",
       "      <td>19:45</td>\n",
       "      <td>Bournemouth</td>\n",
       "      <td>1.8</td>\n",
       "      <td>1–2</td>\n",
       "      <td>1.2</td>\n",
       "      <td>Ipswich Town</td>\n",
       "      <td>11192.0</td>\n",
       "      <td>Vitality Stadium</td>\n",
       "      <td>Robert Jones</td>\n",
       "      <td>Match Report</td>\n",
       "      <td>NaN</td>\n",
       "      <td>1</td>\n",
       "      <td>2</td>\n",
       "    </tr>\n",
       "    <tr>\n",
       "      <th>676</th>\n",
       "      <td>750</td>\n",
       "      <td>30.0</td>\n",
       "      <td>Wed</td>\n",
       "      <td>2025-04-02</td>\n",
       "      <td>19:45</td>\n",
       "      <td>Brighton</td>\n",
       "      <td>0.9</td>\n",
       "      <td>0–3</td>\n",
       "      <td>1.2</td>\n",
       "      <td>Aston Villa</td>\n",
       "      <td>27895.0</td>\n",
       "      <td>The American Express Stadium</td>\n",
       "      <td>Stuart Attwell</td>\n",
       "      <td>Match Report</td>\n",
       "      <td>NaN</td>\n",
       "      <td>0</td>\n",
       "      <td>3</td>\n",
       "    </tr>\n",
       "    <tr>\n",
       "      <th>677</th>\n",
       "      <td>751</td>\n",
       "      <td>30.0</td>\n",
       "      <td>Wed</td>\n",
       "      <td>2025-04-02</td>\n",
       "      <td>20:00</td>\n",
       "      <td>Liverpool</td>\n",
       "      <td>1.5</td>\n",
       "      <td>1–0</td>\n",
       "      <td>0.9</td>\n",
       "      <td>Everton</td>\n",
       "      <td>60457.0</td>\n",
       "      <td>Anfield</td>\n",
       "      <td>Samuel Barrott</td>\n",
       "      <td>Match Report</td>\n",
       "      <td>NaN</td>\n",
       "      <td>1</td>\n",
       "      <td>0</td>\n",
       "    </tr>\n",
       "    <tr>\n",
       "      <th>678</th>\n",
       "      <td>752</td>\n",
       "      <td>30.0</td>\n",
       "      <td>Thu</td>\n",
       "      <td>2025-04-03</td>\n",
       "      <td>20:00</td>\n",
       "      <td>Chelsea</td>\n",
       "      <td>1.1</td>\n",
       "      <td>1–0</td>\n",
       "      <td>0.8</td>\n",
       "      <td>Tottenham</td>\n",
       "      <td>NaN</td>\n",
       "      <td>Stamford Bridge</td>\n",
       "      <td>Craig Pawson</td>\n",
       "      <td>Match Report</td>\n",
       "      <td>NaN</td>\n",
       "      <td>1</td>\n",
       "      <td>0</td>\n",
       "    </tr>\n",
       "  </tbody>\n",
       "</table>\n",
       "<p>679 rows × 17 columns</p>\n",
       "</div>"
      ],
      "text/plain": [
       "     index    Wk  Day       Date   Time           Home   xG Score  xG.1  \\\n",
       "0        0   1.0  Fri 2023-08-11  20:00        Burnley  0.3   0–3   1.9   \n",
       "1        1   1.0  Sat 2023-08-12  12:30        Arsenal  0.8   2–1   1.2   \n",
       "2        2   1.0  Sat 2023-08-12  15:00        Everton  2.7   0–1   1.5   \n",
       "3        3   1.0  Sat 2023-08-12  15:00       Brighton  4.0   4–1   1.5   \n",
       "4        4   1.0  Sat 2023-08-12  15:00  Sheffield Utd  0.5   0–1   1.9   \n",
       "..     ...   ...  ...        ...    ...            ...  ...   ...   ...   \n",
       "674    748  30.0  Wed 2025-04-02  19:45    Southampton  0.7   1–1   0.7   \n",
       "675    749  30.0  Wed 2025-04-02  19:45    Bournemouth  1.8   1–2   1.2   \n",
       "676    750  30.0  Wed 2025-04-02  19:45       Brighton  0.9   0–3   1.2   \n",
       "677    751  30.0  Wed 2025-04-02  20:00      Liverpool  1.5   1–0   0.9   \n",
       "678    752  30.0  Thu 2025-04-03  20:00        Chelsea  1.1   1–0   0.8   \n",
       "\n",
       "                Away  Attendance                                   Venue  \\\n",
       "0    Manchester City     21572.0                               Turf Moor   \n",
       "1    Nott'ham Forest     59984.0                        Emirates Stadium   \n",
       "2             Fulham     39940.0                           Goodison Park   \n",
       "3         Luton Town     31872.0  The American Express Community Stadium   \n",
       "4     Crystal Palace     31194.0                            Bramall Lane   \n",
       "..               ...         ...                                     ...   \n",
       "674   Crystal Palace     30158.0                       St Mary's Stadium   \n",
       "675     Ipswich Town     11192.0                        Vitality Stadium   \n",
       "676      Aston Villa     27895.0            The American Express Stadium   \n",
       "677          Everton     60457.0                                 Anfield   \n",
       "678        Tottenham         NaN                         Stamford Bridge   \n",
       "\n",
       "            Referee  Match Report  Notes home_goals away_goals  \n",
       "0      Craig Pawson  Match Report    NaN          0          3  \n",
       "1    Michael Oliver  Match Report    NaN          2          1  \n",
       "2    Stuart Attwell  Match Report    NaN          0          1  \n",
       "3       David Coote  Match Report    NaN          4          1  \n",
       "4       John Brooks  Match Report    NaN          0          1  \n",
       "..              ...           ...    ...        ...        ...  \n",
       "674     Andy Madley  Match Report    NaN          1          1  \n",
       "675    Robert Jones  Match Report    NaN          1          2  \n",
       "676  Stuart Attwell  Match Report    NaN          0          3  \n",
       "677  Samuel Barrott  Match Report    NaN          1          0  \n",
       "678    Craig Pawson  Match Report    NaN          1          0  \n",
       "\n",
       "[679 rows x 17 columns]"
      ]
     },
     "execution_count": 4,
     "metadata": {},
     "output_type": "execute_result"
    }
   ],
   "source": [
    "results['home_goals'] = results['Score'].apply(lambda x: x.split('–')[0])\n",
    "results['away_goals'] = results['Score'].apply(lambda x: x.split('–')[1])\n",
    "results"
   ]
  },
  {
   "cell_type": "code",
   "execution_count": 5,
   "metadata": {},
   "outputs": [
    {
     "data": {
      "text/html": [
       "<div>\n",
       "<style scoped>\n",
       "    .dataframe tbody tr th:only-of-type {\n",
       "        vertical-align: middle;\n",
       "    }\n",
       "\n",
       "    .dataframe tbody tr th {\n",
       "        vertical-align: top;\n",
       "    }\n",
       "\n",
       "    .dataframe thead th {\n",
       "        text-align: right;\n",
       "    }\n",
       "</style>\n",
       "<table border=\"1\" class=\"dataframe\">\n",
       "  <thead>\n",
       "    <tr style=\"text-align: right;\">\n",
       "      <th></th>\n",
       "      <th>index</th>\n",
       "      <th>Wk</th>\n",
       "      <th>Day</th>\n",
       "      <th>Date</th>\n",
       "      <th>Time</th>\n",
       "      <th>Home</th>\n",
       "      <th>xG</th>\n",
       "      <th>Score</th>\n",
       "      <th>xG.1</th>\n",
       "      <th>Away</th>\n",
       "      <th>Attendance</th>\n",
       "      <th>Venue</th>\n",
       "      <th>Referee</th>\n",
       "      <th>Match Report</th>\n",
       "      <th>Notes</th>\n",
       "      <th>home_goals</th>\n",
       "      <th>away_goals</th>\n",
       "      <th>days_since</th>\n",
       "    </tr>\n",
       "  </thead>\n",
       "  <tbody>\n",
       "    <tr>\n",
       "      <th>0</th>\n",
       "      <td>0</td>\n",
       "      <td>1.0</td>\n",
       "      <td>Fri</td>\n",
       "      <td>2023-08-11</td>\n",
       "      <td>20:00</td>\n",
       "      <td>Burnley</td>\n",
       "      <td>0.3</td>\n",
       "      <td>0–3</td>\n",
       "      <td>1.9</td>\n",
       "      <td>Manchester City</td>\n",
       "      <td>21572.0</td>\n",
       "      <td>Turf Moor</td>\n",
       "      <td>Craig Pawson</td>\n",
       "      <td>Match Report</td>\n",
       "      <td>NaN</td>\n",
       "      <td>0</td>\n",
       "      <td>3</td>\n",
       "      <td>602</td>\n",
       "    </tr>\n",
       "    <tr>\n",
       "      <th>1</th>\n",
       "      <td>1</td>\n",
       "      <td>1.0</td>\n",
       "      <td>Sat</td>\n",
       "      <td>2023-08-12</td>\n",
       "      <td>12:30</td>\n",
       "      <td>Arsenal</td>\n",
       "      <td>0.8</td>\n",
       "      <td>2–1</td>\n",
       "      <td>1.2</td>\n",
       "      <td>Nott'ham Forest</td>\n",
       "      <td>59984.0</td>\n",
       "      <td>Emirates Stadium</td>\n",
       "      <td>Michael Oliver</td>\n",
       "      <td>Match Report</td>\n",
       "      <td>NaN</td>\n",
       "      <td>2</td>\n",
       "      <td>1</td>\n",
       "      <td>601</td>\n",
       "    </tr>\n",
       "    <tr>\n",
       "      <th>2</th>\n",
       "      <td>2</td>\n",
       "      <td>1.0</td>\n",
       "      <td>Sat</td>\n",
       "      <td>2023-08-12</td>\n",
       "      <td>15:00</td>\n",
       "      <td>Everton</td>\n",
       "      <td>2.7</td>\n",
       "      <td>0–1</td>\n",
       "      <td>1.5</td>\n",
       "      <td>Fulham</td>\n",
       "      <td>39940.0</td>\n",
       "      <td>Goodison Park</td>\n",
       "      <td>Stuart Attwell</td>\n",
       "      <td>Match Report</td>\n",
       "      <td>NaN</td>\n",
       "      <td>0</td>\n",
       "      <td>1</td>\n",
       "      <td>601</td>\n",
       "    </tr>\n",
       "    <tr>\n",
       "      <th>3</th>\n",
       "      <td>3</td>\n",
       "      <td>1.0</td>\n",
       "      <td>Sat</td>\n",
       "      <td>2023-08-12</td>\n",
       "      <td>15:00</td>\n",
       "      <td>Brighton</td>\n",
       "      <td>4.0</td>\n",
       "      <td>4–1</td>\n",
       "      <td>1.5</td>\n",
       "      <td>Luton Town</td>\n",
       "      <td>31872.0</td>\n",
       "      <td>The American Express Community Stadium</td>\n",
       "      <td>David Coote</td>\n",
       "      <td>Match Report</td>\n",
       "      <td>NaN</td>\n",
       "      <td>4</td>\n",
       "      <td>1</td>\n",
       "      <td>601</td>\n",
       "    </tr>\n",
       "    <tr>\n",
       "      <th>4</th>\n",
       "      <td>4</td>\n",
       "      <td>1.0</td>\n",
       "      <td>Sat</td>\n",
       "      <td>2023-08-12</td>\n",
       "      <td>15:00</td>\n",
       "      <td>Sheffield Utd</td>\n",
       "      <td>0.5</td>\n",
       "      <td>0–1</td>\n",
       "      <td>1.9</td>\n",
       "      <td>Crystal Palace</td>\n",
       "      <td>31194.0</td>\n",
       "      <td>Bramall Lane</td>\n",
       "      <td>John Brooks</td>\n",
       "      <td>Match Report</td>\n",
       "      <td>NaN</td>\n",
       "      <td>0</td>\n",
       "      <td>1</td>\n",
       "      <td>601</td>\n",
       "    </tr>\n",
       "    <tr>\n",
       "      <th>...</th>\n",
       "      <td>...</td>\n",
       "      <td>...</td>\n",
       "      <td>...</td>\n",
       "      <td>...</td>\n",
       "      <td>...</td>\n",
       "      <td>...</td>\n",
       "      <td>...</td>\n",
       "      <td>...</td>\n",
       "      <td>...</td>\n",
       "      <td>...</td>\n",
       "      <td>...</td>\n",
       "      <td>...</td>\n",
       "      <td>...</td>\n",
       "      <td>...</td>\n",
       "      <td>...</td>\n",
       "      <td>...</td>\n",
       "      <td>...</td>\n",
       "      <td>...</td>\n",
       "    </tr>\n",
       "    <tr>\n",
       "      <th>674</th>\n",
       "      <td>748</td>\n",
       "      <td>30.0</td>\n",
       "      <td>Wed</td>\n",
       "      <td>2025-04-02</td>\n",
       "      <td>19:45</td>\n",
       "      <td>Southampton</td>\n",
       "      <td>0.7</td>\n",
       "      <td>1–1</td>\n",
       "      <td>0.7</td>\n",
       "      <td>Crystal Palace</td>\n",
       "      <td>30158.0</td>\n",
       "      <td>St Mary's Stadium</td>\n",
       "      <td>Andy Madley</td>\n",
       "      <td>Match Report</td>\n",
       "      <td>NaN</td>\n",
       "      <td>1</td>\n",
       "      <td>1</td>\n",
       "      <td>2</td>\n",
       "    </tr>\n",
       "    <tr>\n",
       "      <th>675</th>\n",
       "      <td>749</td>\n",
       "      <td>30.0</td>\n",
       "      <td>Wed</td>\n",
       "      <td>2025-04-02</td>\n",
       "      <td>19:45</td>\n",
       "      <td>Bournemouth</td>\n",
       "      <td>1.8</td>\n",
       "      <td>1–2</td>\n",
       "      <td>1.2</td>\n",
       "      <td>Ipswich Town</td>\n",
       "      <td>11192.0</td>\n",
       "      <td>Vitality Stadium</td>\n",
       "      <td>Robert Jones</td>\n",
       "      <td>Match Report</td>\n",
       "      <td>NaN</td>\n",
       "      <td>1</td>\n",
       "      <td>2</td>\n",
       "      <td>2</td>\n",
       "    </tr>\n",
       "    <tr>\n",
       "      <th>676</th>\n",
       "      <td>750</td>\n",
       "      <td>30.0</td>\n",
       "      <td>Wed</td>\n",
       "      <td>2025-04-02</td>\n",
       "      <td>19:45</td>\n",
       "      <td>Brighton</td>\n",
       "      <td>0.9</td>\n",
       "      <td>0–3</td>\n",
       "      <td>1.2</td>\n",
       "      <td>Aston Villa</td>\n",
       "      <td>27895.0</td>\n",
       "      <td>The American Express Stadium</td>\n",
       "      <td>Stuart Attwell</td>\n",
       "      <td>Match Report</td>\n",
       "      <td>NaN</td>\n",
       "      <td>0</td>\n",
       "      <td>3</td>\n",
       "      <td>2</td>\n",
       "    </tr>\n",
       "    <tr>\n",
       "      <th>677</th>\n",
       "      <td>751</td>\n",
       "      <td>30.0</td>\n",
       "      <td>Wed</td>\n",
       "      <td>2025-04-02</td>\n",
       "      <td>20:00</td>\n",
       "      <td>Liverpool</td>\n",
       "      <td>1.5</td>\n",
       "      <td>1–0</td>\n",
       "      <td>0.9</td>\n",
       "      <td>Everton</td>\n",
       "      <td>60457.0</td>\n",
       "      <td>Anfield</td>\n",
       "      <td>Samuel Barrott</td>\n",
       "      <td>Match Report</td>\n",
       "      <td>NaN</td>\n",
       "      <td>1</td>\n",
       "      <td>0</td>\n",
       "      <td>2</td>\n",
       "    </tr>\n",
       "    <tr>\n",
       "      <th>678</th>\n",
       "      <td>752</td>\n",
       "      <td>30.0</td>\n",
       "      <td>Thu</td>\n",
       "      <td>2025-04-03</td>\n",
       "      <td>20:00</td>\n",
       "      <td>Chelsea</td>\n",
       "      <td>1.1</td>\n",
       "      <td>1–0</td>\n",
       "      <td>0.8</td>\n",
       "      <td>Tottenham</td>\n",
       "      <td>NaN</td>\n",
       "      <td>Stamford Bridge</td>\n",
       "      <td>Craig Pawson</td>\n",
       "      <td>Match Report</td>\n",
       "      <td>NaN</td>\n",
       "      <td>1</td>\n",
       "      <td>0</td>\n",
       "      <td>1</td>\n",
       "    </tr>\n",
       "  </tbody>\n",
       "</table>\n",
       "<p>679 rows × 18 columns</p>\n",
       "</div>"
      ],
      "text/plain": [
       "     index    Wk  Day       Date   Time           Home   xG Score  xG.1  \\\n",
       "0        0   1.0  Fri 2023-08-11  20:00        Burnley  0.3   0–3   1.9   \n",
       "1        1   1.0  Sat 2023-08-12  12:30        Arsenal  0.8   2–1   1.2   \n",
       "2        2   1.0  Sat 2023-08-12  15:00        Everton  2.7   0–1   1.5   \n",
       "3        3   1.0  Sat 2023-08-12  15:00       Brighton  4.0   4–1   1.5   \n",
       "4        4   1.0  Sat 2023-08-12  15:00  Sheffield Utd  0.5   0–1   1.9   \n",
       "..     ...   ...  ...        ...    ...            ...  ...   ...   ...   \n",
       "674    748  30.0  Wed 2025-04-02  19:45    Southampton  0.7   1–1   0.7   \n",
       "675    749  30.0  Wed 2025-04-02  19:45    Bournemouth  1.8   1–2   1.2   \n",
       "676    750  30.0  Wed 2025-04-02  19:45       Brighton  0.9   0–3   1.2   \n",
       "677    751  30.0  Wed 2025-04-02  20:00      Liverpool  1.5   1–0   0.9   \n",
       "678    752  30.0  Thu 2025-04-03  20:00        Chelsea  1.1   1–0   0.8   \n",
       "\n",
       "                Away  Attendance                                   Venue  \\\n",
       "0    Manchester City     21572.0                               Turf Moor   \n",
       "1    Nott'ham Forest     59984.0                        Emirates Stadium   \n",
       "2             Fulham     39940.0                           Goodison Park   \n",
       "3         Luton Town     31872.0  The American Express Community Stadium   \n",
       "4     Crystal Palace     31194.0                            Bramall Lane   \n",
       "..               ...         ...                                     ...   \n",
       "674   Crystal Palace     30158.0                       St Mary's Stadium   \n",
       "675     Ipswich Town     11192.0                        Vitality Stadium   \n",
       "676      Aston Villa     27895.0            The American Express Stadium   \n",
       "677          Everton     60457.0                                 Anfield   \n",
       "678        Tottenham         NaN                         Stamford Bridge   \n",
       "\n",
       "            Referee  Match Report  Notes home_goals away_goals  days_since  \n",
       "0      Craig Pawson  Match Report    NaN          0          3         602  \n",
       "1    Michael Oliver  Match Report    NaN          2          1         601  \n",
       "2    Stuart Attwell  Match Report    NaN          0          1         601  \n",
       "3       David Coote  Match Report    NaN          4          1         601  \n",
       "4       John Brooks  Match Report    NaN          0          1         601  \n",
       "..              ...           ...    ...        ...        ...         ...  \n",
       "674     Andy Madley  Match Report    NaN          1          1           2  \n",
       "675    Robert Jones  Match Report    NaN          1          2           2  \n",
       "676  Stuart Attwell  Match Report    NaN          0          3           2  \n",
       "677  Samuel Barrott  Match Report    NaN          1          0           2  \n",
       "678    Craig Pawson  Match Report    NaN          1          0           1  \n",
       "\n",
       "[679 rows x 18 columns]"
      ]
     },
     "execution_count": 5,
     "metadata": {},
     "output_type": "execute_result"
    }
   ],
   "source": [
    "current_date = dt.datetime.today()\n",
    "results['days_since'] = results['Date'].apply(lambda x: (current_date-x).days)\n",
    "results"
   ]
  },
  {
   "cell_type": "code",
   "execution_count": 6,
   "metadata": {},
   "outputs": [
    {
     "data": {
      "text/html": [
       "<div>\n",
       "<style scoped>\n",
       "    .dataframe tbody tr th:only-of-type {\n",
       "        vertical-align: middle;\n",
       "    }\n",
       "\n",
       "    .dataframe tbody tr th {\n",
       "        vertical-align: top;\n",
       "    }\n",
       "\n",
       "    .dataframe thead th {\n",
       "        text-align: right;\n",
       "    }\n",
       "</style>\n",
       "<table border=\"1\" class=\"dataframe\">\n",
       "  <thead>\n",
       "    <tr style=\"text-align: right;\">\n",
       "      <th></th>\n",
       "      <th>index</th>\n",
       "      <th>Wk</th>\n",
       "      <th>Day</th>\n",
       "      <th>Date</th>\n",
       "      <th>Time</th>\n",
       "      <th>Home</th>\n",
       "      <th>xG</th>\n",
       "      <th>Score</th>\n",
       "      <th>xG.1</th>\n",
       "      <th>Away</th>\n",
       "      <th>Attendance</th>\n",
       "      <th>Venue</th>\n",
       "      <th>Referee</th>\n",
       "      <th>Match Report</th>\n",
       "      <th>Notes</th>\n",
       "      <th>home_goals</th>\n",
       "      <th>away_goals</th>\n",
       "      <th>days_since</th>\n",
       "    </tr>\n",
       "  </thead>\n",
       "  <tbody>\n",
       "    <tr>\n",
       "      <th>301</th>\n",
       "      <td>334</td>\n",
       "      <td>31.0</td>\n",
       "      <td>Thu</td>\n",
       "      <td>2024-04-04</td>\n",
       "      <td>19:30</td>\n",
       "      <td>Liverpool</td>\n",
       "      <td>1.8</td>\n",
       "      <td>3–1</td>\n",
       "      <td>0.6</td>\n",
       "      <td>Sheffield Utd</td>\n",
       "      <td>60055.0</td>\n",
       "      <td>Anfield</td>\n",
       "      <td>Stuart Attwell</td>\n",
       "      <td>Match Report</td>\n",
       "      <td>NaN</td>\n",
       "      <td>3</td>\n",
       "      <td>1</td>\n",
       "      <td>365</td>\n",
       "    </tr>\n",
       "    <tr>\n",
       "      <th>302</th>\n",
       "      <td>335</td>\n",
       "      <td>31.0</td>\n",
       "      <td>Thu</td>\n",
       "      <td>2024-04-04</td>\n",
       "      <td>20:15</td>\n",
       "      <td>Chelsea</td>\n",
       "      <td>3.0</td>\n",
       "      <td>4–3</td>\n",
       "      <td>1.5</td>\n",
       "      <td>Manchester Utd</td>\n",
       "      <td>39694.0</td>\n",
       "      <td>Stamford Bridge</td>\n",
       "      <td>Jarred Gillett</td>\n",
       "      <td>Match Report</td>\n",
       "      <td>NaN</td>\n",
       "      <td>4</td>\n",
       "      <td>3</td>\n",
       "      <td>365</td>\n",
       "    </tr>\n",
       "    <tr>\n",
       "      <th>303</th>\n",
       "      <td>337</td>\n",
       "      <td>32.0</td>\n",
       "      <td>Sat</td>\n",
       "      <td>2024-04-06</td>\n",
       "      <td>12:30</td>\n",
       "      <td>Crystal Palace</td>\n",
       "      <td>1.1</td>\n",
       "      <td>2–4</td>\n",
       "      <td>1.9</td>\n",
       "      <td>Manchester City</td>\n",
       "      <td>25132.0</td>\n",
       "      <td>Selhurst Park</td>\n",
       "      <td>Paul Tierney</td>\n",
       "      <td>Match Report</td>\n",
       "      <td>NaN</td>\n",
       "      <td>2</td>\n",
       "      <td>4</td>\n",
       "      <td>363</td>\n",
       "    </tr>\n",
       "    <tr>\n",
       "      <th>304</th>\n",
       "      <td>338</td>\n",
       "      <td>32.0</td>\n",
       "      <td>Sat</td>\n",
       "      <td>2024-04-06</td>\n",
       "      <td>15:00</td>\n",
       "      <td>Luton Town</td>\n",
       "      <td>1.5</td>\n",
       "      <td>2–1</td>\n",
       "      <td>0.4</td>\n",
       "      <td>Bournemouth</td>\n",
       "      <td>11797.0</td>\n",
       "      <td>Kenilworth Road Stadium</td>\n",
       "      <td>Andy Madley</td>\n",
       "      <td>Match Report</td>\n",
       "      <td>NaN</td>\n",
       "      <td>2</td>\n",
       "      <td>1</td>\n",
       "      <td>363</td>\n",
       "    </tr>\n",
       "    <tr>\n",
       "      <th>305</th>\n",
       "      <td>339</td>\n",
       "      <td>32.0</td>\n",
       "      <td>Sat</td>\n",
       "      <td>2024-04-06</td>\n",
       "      <td>15:00</td>\n",
       "      <td>Everton</td>\n",
       "      <td>0.9</td>\n",
       "      <td>1–0</td>\n",
       "      <td>0.5</td>\n",
       "      <td>Burnley</td>\n",
       "      <td>39125.0</td>\n",
       "      <td>Goodison Park</td>\n",
       "      <td>Michael Oliver</td>\n",
       "      <td>Match Report</td>\n",
       "      <td>NaN</td>\n",
       "      <td>1</td>\n",
       "      <td>0</td>\n",
       "      <td>363</td>\n",
       "    </tr>\n",
       "    <tr>\n",
       "      <th>...</th>\n",
       "      <td>...</td>\n",
       "      <td>...</td>\n",
       "      <td>...</td>\n",
       "      <td>...</td>\n",
       "      <td>...</td>\n",
       "      <td>...</td>\n",
       "      <td>...</td>\n",
       "      <td>...</td>\n",
       "      <td>...</td>\n",
       "      <td>...</td>\n",
       "      <td>...</td>\n",
       "      <td>...</td>\n",
       "      <td>...</td>\n",
       "      <td>...</td>\n",
       "      <td>...</td>\n",
       "      <td>...</td>\n",
       "      <td>...</td>\n",
       "      <td>...</td>\n",
       "    </tr>\n",
       "    <tr>\n",
       "      <th>674</th>\n",
       "      <td>748</td>\n",
       "      <td>30.0</td>\n",
       "      <td>Wed</td>\n",
       "      <td>2025-04-02</td>\n",
       "      <td>19:45</td>\n",
       "      <td>Southampton</td>\n",
       "      <td>0.7</td>\n",
       "      <td>1–1</td>\n",
       "      <td>0.7</td>\n",
       "      <td>Crystal Palace</td>\n",
       "      <td>30158.0</td>\n",
       "      <td>St Mary's Stadium</td>\n",
       "      <td>Andy Madley</td>\n",
       "      <td>Match Report</td>\n",
       "      <td>NaN</td>\n",
       "      <td>1</td>\n",
       "      <td>1</td>\n",
       "      <td>2</td>\n",
       "    </tr>\n",
       "    <tr>\n",
       "      <th>675</th>\n",
       "      <td>749</td>\n",
       "      <td>30.0</td>\n",
       "      <td>Wed</td>\n",
       "      <td>2025-04-02</td>\n",
       "      <td>19:45</td>\n",
       "      <td>Bournemouth</td>\n",
       "      <td>1.8</td>\n",
       "      <td>1–2</td>\n",
       "      <td>1.2</td>\n",
       "      <td>Ipswich Town</td>\n",
       "      <td>11192.0</td>\n",
       "      <td>Vitality Stadium</td>\n",
       "      <td>Robert Jones</td>\n",
       "      <td>Match Report</td>\n",
       "      <td>NaN</td>\n",
       "      <td>1</td>\n",
       "      <td>2</td>\n",
       "      <td>2</td>\n",
       "    </tr>\n",
       "    <tr>\n",
       "      <th>676</th>\n",
       "      <td>750</td>\n",
       "      <td>30.0</td>\n",
       "      <td>Wed</td>\n",
       "      <td>2025-04-02</td>\n",
       "      <td>19:45</td>\n",
       "      <td>Brighton</td>\n",
       "      <td>0.9</td>\n",
       "      <td>0–3</td>\n",
       "      <td>1.2</td>\n",
       "      <td>Aston Villa</td>\n",
       "      <td>27895.0</td>\n",
       "      <td>The American Express Stadium</td>\n",
       "      <td>Stuart Attwell</td>\n",
       "      <td>Match Report</td>\n",
       "      <td>NaN</td>\n",
       "      <td>0</td>\n",
       "      <td>3</td>\n",
       "      <td>2</td>\n",
       "    </tr>\n",
       "    <tr>\n",
       "      <th>677</th>\n",
       "      <td>751</td>\n",
       "      <td>30.0</td>\n",
       "      <td>Wed</td>\n",
       "      <td>2025-04-02</td>\n",
       "      <td>20:00</td>\n",
       "      <td>Liverpool</td>\n",
       "      <td>1.5</td>\n",
       "      <td>1–0</td>\n",
       "      <td>0.9</td>\n",
       "      <td>Everton</td>\n",
       "      <td>60457.0</td>\n",
       "      <td>Anfield</td>\n",
       "      <td>Samuel Barrott</td>\n",
       "      <td>Match Report</td>\n",
       "      <td>NaN</td>\n",
       "      <td>1</td>\n",
       "      <td>0</td>\n",
       "      <td>2</td>\n",
       "    </tr>\n",
       "    <tr>\n",
       "      <th>678</th>\n",
       "      <td>752</td>\n",
       "      <td>30.0</td>\n",
       "      <td>Thu</td>\n",
       "      <td>2025-04-03</td>\n",
       "      <td>20:00</td>\n",
       "      <td>Chelsea</td>\n",
       "      <td>1.1</td>\n",
       "      <td>1–0</td>\n",
       "      <td>0.8</td>\n",
       "      <td>Tottenham</td>\n",
       "      <td>NaN</td>\n",
       "      <td>Stamford Bridge</td>\n",
       "      <td>Craig Pawson</td>\n",
       "      <td>Match Report</td>\n",
       "      <td>NaN</td>\n",
       "      <td>1</td>\n",
       "      <td>0</td>\n",
       "      <td>1</td>\n",
       "    </tr>\n",
       "  </tbody>\n",
       "</table>\n",
       "<p>378 rows × 18 columns</p>\n",
       "</div>"
      ],
      "text/plain": [
       "     index    Wk  Day       Date   Time            Home   xG Score  xG.1  \\\n",
       "301    334  31.0  Thu 2024-04-04  19:30       Liverpool  1.8   3–1   0.6   \n",
       "302    335  31.0  Thu 2024-04-04  20:15         Chelsea  3.0   4–3   1.5   \n",
       "303    337  32.0  Sat 2024-04-06  12:30  Crystal Palace  1.1   2–4   1.9   \n",
       "304    338  32.0  Sat 2024-04-06  15:00      Luton Town  1.5   2–1   0.4   \n",
       "305    339  32.0  Sat 2024-04-06  15:00         Everton  0.9   1–0   0.5   \n",
       "..     ...   ...  ...        ...    ...             ...  ...   ...   ...   \n",
       "674    748  30.0  Wed 2025-04-02  19:45     Southampton  0.7   1–1   0.7   \n",
       "675    749  30.0  Wed 2025-04-02  19:45     Bournemouth  1.8   1–2   1.2   \n",
       "676    750  30.0  Wed 2025-04-02  19:45        Brighton  0.9   0–3   1.2   \n",
       "677    751  30.0  Wed 2025-04-02  20:00       Liverpool  1.5   1–0   0.9   \n",
       "678    752  30.0  Thu 2025-04-03  20:00         Chelsea  1.1   1–0   0.8   \n",
       "\n",
       "                Away  Attendance                         Venue  \\\n",
       "301    Sheffield Utd     60055.0                       Anfield   \n",
       "302   Manchester Utd     39694.0               Stamford Bridge   \n",
       "303  Manchester City     25132.0                 Selhurst Park   \n",
       "304      Bournemouth     11797.0       Kenilworth Road Stadium   \n",
       "305          Burnley     39125.0                 Goodison Park   \n",
       "..               ...         ...                           ...   \n",
       "674   Crystal Palace     30158.0             St Mary's Stadium   \n",
       "675     Ipswich Town     11192.0              Vitality Stadium   \n",
       "676      Aston Villa     27895.0  The American Express Stadium   \n",
       "677          Everton     60457.0                       Anfield   \n",
       "678        Tottenham         NaN               Stamford Bridge   \n",
       "\n",
       "            Referee  Match Report  Notes home_goals away_goals  days_since  \n",
       "301  Stuart Attwell  Match Report    NaN          3          1         365  \n",
       "302  Jarred Gillett  Match Report    NaN          4          3         365  \n",
       "303    Paul Tierney  Match Report    NaN          2          4         363  \n",
       "304     Andy Madley  Match Report    NaN          2          1         363  \n",
       "305  Michael Oliver  Match Report    NaN          1          0         363  \n",
       "..              ...           ...    ...        ...        ...         ...  \n",
       "674     Andy Madley  Match Report    NaN          1          1           2  \n",
       "675    Robert Jones  Match Report    NaN          1          2           2  \n",
       "676  Stuart Attwell  Match Report    NaN          0          3           2  \n",
       "677  Samuel Barrott  Match Report    NaN          1          0           2  \n",
       "678    Craig Pawson  Match Report    NaN          1          0           1  \n",
       "\n",
       "[378 rows x 18 columns]"
      ]
     },
     "execution_count": 6,
     "metadata": {},
     "output_type": "execute_result"
    }
   ],
   "source": [
    "results = results[results.days_since <= 365]\n",
    "results"
   ]
  },
  {
   "cell_type": "markdown",
   "metadata": {},
   "source": [
    "# Model"
   ]
  },
  {
   "cell_type": "code",
   "execution_count": 7,
   "metadata": {},
   "outputs": [],
   "source": [
    "def predict_average_goals(foot_model, homeTeam, awayTeam):\n",
    "    home_goals_avg = foot_model.predict(pd.DataFrame(data={'team': homeTeam, \n",
    "                                                            'opponent': awayTeam,'home':1},\n",
    "                                                      index=[1])).values[0]\n",
    "    away_goals_avg = foot_model.predict(pd.DataFrame(data={'team': awayTeam, \n",
    "                                                            'opponent': homeTeam,'home':0},\n",
    "                                                      index=[1])).values[0]\n",
    "    return home_goals_avg, away_goals_avg"
   ]
  },
  {
   "cell_type": "code",
   "execution_count": 8,
   "metadata": {},
   "outputs": [
    {
     "data": {
      "text/html": [
       "<div>\n",
       "<style scoped>\n",
       "    .dataframe tbody tr th:only-of-type {\n",
       "        vertical-align: middle;\n",
       "    }\n",
       "\n",
       "    .dataframe tbody tr th {\n",
       "        vertical-align: top;\n",
       "    }\n",
       "\n",
       "    .dataframe thead th {\n",
       "        text-align: right;\n",
       "    }\n",
       "</style>\n",
       "<table border=\"1\" class=\"dataframe\">\n",
       "  <thead>\n",
       "    <tr style=\"text-align: right;\">\n",
       "      <th></th>\n",
       "      <th>team</th>\n",
       "      <th>opponent</th>\n",
       "      <th>goals</th>\n",
       "      <th>home</th>\n",
       "    </tr>\n",
       "  </thead>\n",
       "  <tbody>\n",
       "    <tr>\n",
       "      <th>0</th>\n",
       "      <td>Liverpool</td>\n",
       "      <td>Sheffield Utd</td>\n",
       "      <td>3</td>\n",
       "      <td>1</td>\n",
       "    </tr>\n",
       "    <tr>\n",
       "      <th>1</th>\n",
       "      <td>Chelsea</td>\n",
       "      <td>Manchester Utd</td>\n",
       "      <td>4</td>\n",
       "      <td>1</td>\n",
       "    </tr>\n",
       "    <tr>\n",
       "      <th>2</th>\n",
       "      <td>Crystal Palace</td>\n",
       "      <td>Manchester City</td>\n",
       "      <td>2</td>\n",
       "      <td>1</td>\n",
       "    </tr>\n",
       "    <tr>\n",
       "      <th>3</th>\n",
       "      <td>Luton Town</td>\n",
       "      <td>Bournemouth</td>\n",
       "      <td>2</td>\n",
       "      <td>1</td>\n",
       "    </tr>\n",
       "    <tr>\n",
       "      <th>4</th>\n",
       "      <td>Everton</td>\n",
       "      <td>Burnley</td>\n",
       "      <td>1</td>\n",
       "      <td>1</td>\n",
       "    </tr>\n",
       "    <tr>\n",
       "      <th>...</th>\n",
       "      <td>...</td>\n",
       "      <td>...</td>\n",
       "      <td>...</td>\n",
       "      <td>...</td>\n",
       "    </tr>\n",
       "    <tr>\n",
       "      <th>751</th>\n",
       "      <td>Crystal Palace</td>\n",
       "      <td>Southampton</td>\n",
       "      <td>1</td>\n",
       "      <td>0</td>\n",
       "    </tr>\n",
       "    <tr>\n",
       "      <th>752</th>\n",
       "      <td>Ipswich Town</td>\n",
       "      <td>Bournemouth</td>\n",
       "      <td>2</td>\n",
       "      <td>0</td>\n",
       "    </tr>\n",
       "    <tr>\n",
       "      <th>753</th>\n",
       "      <td>Aston Villa</td>\n",
       "      <td>Brighton</td>\n",
       "      <td>3</td>\n",
       "      <td>0</td>\n",
       "    </tr>\n",
       "    <tr>\n",
       "      <th>754</th>\n",
       "      <td>Everton</td>\n",
       "      <td>Liverpool</td>\n",
       "      <td>0</td>\n",
       "      <td>0</td>\n",
       "    </tr>\n",
       "    <tr>\n",
       "      <th>755</th>\n",
       "      <td>Tottenham</td>\n",
       "      <td>Chelsea</td>\n",
       "      <td>0</td>\n",
       "      <td>0</td>\n",
       "    </tr>\n",
       "  </tbody>\n",
       "</table>\n",
       "<p>756 rows × 4 columns</p>\n",
       "</div>"
      ],
      "text/plain": [
       "               team         opponent  goals  home\n",
       "0         Liverpool    Sheffield Utd      3     1\n",
       "1           Chelsea   Manchester Utd      4     1\n",
       "2    Crystal Palace  Manchester City      2     1\n",
       "3        Luton Town      Bournemouth      2     1\n",
       "4           Everton          Burnley      1     1\n",
       "..              ...              ...    ...   ...\n",
       "751  Crystal Palace      Southampton      1     0\n",
       "752    Ipswich Town      Bournemouth      2     0\n",
       "753     Aston Villa         Brighton      3     0\n",
       "754         Everton        Liverpool      0     0\n",
       "755       Tottenham          Chelsea      0     0\n",
       "\n",
       "[756 rows x 4 columns]"
      ]
     },
     "execution_count": 8,
     "metadata": {},
     "output_type": "execute_result"
    }
   ],
   "source": [
    "goal_model_data = pd.concat([results[['Home','Away','home_goals']].assign(home=1).rename(\n",
    "            columns={'Home':'team', 'Away':'opponent','home_goals':'goals'}),\n",
    "           results[['Away','Home','away_goals']].assign(home=0).rename(\n",
    "            columns={'Away':'team', 'Home':'opponent','away_goals':'goals'})]).reset_index(drop=True)\n",
    "\n",
    "goal_model_data['goals'] = goal_model_data['goals'].apply(lambda x: int(x))\n",
    "\n",
    "goal_model_data"
   ]
  },
  {
   "cell_type": "code",
   "execution_count": 9,
   "metadata": {},
   "outputs": [
    {
     "name": "stdout",
     "output_type": "stream",
     "text": [
      "                 Generalized Linear Model Regression Results                  \n",
      "==============================================================================\n",
      "Dep. Variable:                  goals   No. Observations:                  756\n",
      "Model:                            GLM   Df Residuals:                      710\n",
      "Model Family:                 Poisson   Df Model:                           45\n",
      "Link Function:                    Log   Scale:                          1.0000\n",
      "Method:                          IRLS   Log-Likelihood:                -1108.4\n",
      "Date:                Fri, 04 Apr 2025   Deviance:                       761.39\n",
      "Time:                        15:18:27   Pearson chi2:                     649.\n",
      "No. Iterations:                     5   Pseudo R-squ. (CS):             0.2010\n",
      "Covariance Type:            nonrobust                                         \n",
      "===============================================================================================\n",
      "                                  coef    std err          z      P>|z|      [0.025      0.975]\n",
      "-----------------------------------------------------------------------------------------------\n",
      "Intercept                      -0.0432      0.222     -0.195      0.845      -0.478       0.391\n",
      "team[T.Aston Villa]            -0.1813      0.178     -1.021      0.307      -0.529       0.167\n",
      "team[T.Bournemouth]            -0.2351      0.176     -1.338      0.181      -0.579       0.109\n",
      "team[T.Brentford]              -0.1142      0.172     -0.665      0.506      -0.451       0.222\n",
      "team[T.Brighton]               -0.2969      0.182     -1.629      0.103      -0.654       0.060\n",
      "team[T.Burnley]                -0.4417      0.358     -1.234      0.217      -1.143       0.260\n",
      "team[T.Chelsea]                 0.0568      0.161      0.352      0.725      -0.259       0.373\n",
      "team[T.Crystal Palace]         -0.1920      0.174     -1.100      0.271      -0.534       0.150\n",
      "team[T.Everton]                -0.6139      0.196     -3.131      0.002      -0.998      -0.230\n",
      "team[T.Fulham]                 -0.3260      0.182     -1.788      0.074      -0.683       0.031\n",
      "team[T.Ipswich Town]           -0.6158      0.217     -2.837      0.005      -1.041      -0.190\n",
      "team[T.Leicester City]         -0.7741      0.232     -3.337      0.001      -1.229      -0.319\n",
      "team[T.Liverpool]               0.1433      0.158      0.905      0.365      -0.167       0.453\n",
      "team[T.Luton Town]             -0.3751      0.356     -1.055      0.291      -1.072       0.322\n",
      "team[T.Manchester City]         0.1403      0.160      0.877      0.380      -0.173       0.454\n",
      "team[T.Manchester Utd]         -0.3098      0.181     -1.714      0.086      -0.664       0.044\n",
      "team[T.Newcastle Utd]          -0.0329      0.168     -0.196      0.845      -0.362       0.297\n",
      "team[T.Nott'ham Forest]        -0.1785      0.175     -1.020      0.308      -0.521       0.164\n",
      "team[T.Sheffield Utd]          -0.6951      0.376     -1.847      0.065      -1.433       0.043\n",
      "team[T.Southampton]            -0.9287      0.243     -3.814      0.000      -1.406      -0.452\n",
      "team[T.Tottenham]              -0.0519      0.171     -0.304      0.761      -0.386       0.282\n",
      "team[T.West Ham]               -0.4804      0.193     -2.487      0.013      -0.859      -0.102\n",
      "team[T.Wolves]                 -0.3779      0.187     -2.019      0.043      -0.745      -0.011\n",
      "opponent[T.Aston Villa]         0.6947      0.225      3.088      0.002       0.254       1.136\n",
      "opponent[T.Bournemouth]         0.5338      0.230      2.320      0.020       0.083       0.985\n",
      "opponent[T.Brentford]           0.6856      0.227      3.025      0.002       0.241       1.130\n",
      "opponent[T.Brighton]            0.6842      0.224      3.053      0.002       0.245       1.123\n",
      "opponent[T.Burnley]             0.8233      0.346      2.382      0.017       0.146       1.501\n",
      "opponent[T.Chelsea]             0.5436      0.229      2.371      0.018       0.094       0.993\n",
      "opponent[T.Crystal Palace]      0.3870      0.240      1.614      0.106      -0.083       0.857\n",
      "opponent[T.Everton]             0.4049      0.236      1.718      0.086      -0.057       0.867\n",
      "opponent[T.Fulham]              0.5393      0.231      2.333      0.020       0.086       0.993\n",
      "opponent[T.Ipswich Town]        0.9464      0.222      4.256      0.000       0.511       1.382\n",
      "opponent[T.Leicester City]      0.9972      0.220      4.525      0.000       0.565       1.429\n",
      "opponent[T.Liverpool]           0.3292      0.241      1.367      0.172      -0.143       0.801\n",
      "opponent[T.Luton Town]          1.3637      0.288      4.737      0.000       0.799       1.928\n",
      "opponent[T.Manchester City]     0.4023      0.237      1.700      0.089      -0.061       0.866\n",
      "opponent[T.Manchester Utd]      0.6466      0.226      2.866      0.004       0.204       1.089\n",
      "opponent[T.Newcastle Utd]       0.5187      0.233      2.229      0.026       0.063       0.975\n",
      "opponent[T.Nott'ham Forest]     0.5110      0.233      2.196      0.028       0.055       0.967\n",
      "opponent[T.Sheffield Utd]       1.2425      0.269      4.622      0.000       0.716       1.769\n",
      "opponent[T.Southampton]         1.0547      0.218      4.827      0.000       0.626       1.483\n",
      "opponent[T.Tottenham]           0.6756      0.224      3.011      0.003       0.236       1.115\n",
      "opponent[T.West Ham]            0.8105      0.220      3.688      0.000       0.380       1.241\n",
      "opponent[T.Wolves]              0.8937      0.217      4.118      0.000       0.468       1.319\n",
      "home                            0.0810      0.059      1.376      0.169      -0.034       0.196\n",
      "===============================================================================================\n"
     ]
    }
   ],
   "source": [
    "poisson_model = smf.glm(formula=\"goals ~ home + team + opponent\", \n",
    "                        data=goal_model_data, \n",
    "                        family=sm.families.Poisson()).fit()\n",
    "\n",
    "print(poisson_model.summary())"
   ]
  },
  {
   "cell_type": "code",
   "execution_count": 10,
   "metadata": {},
   "outputs": [
    {
     "name": "stdout",
     "output_type": "stream",
     "text": [
      "Median attack: team[T.Brighton]\n",
      "Median defense: opponent[T.Brighton]\n"
     ]
    }
   ],
   "source": [
    "median_attack_value = poisson_model.params.iloc[1:23].median()\n",
    "median_attack_team = (poisson_model.params.iloc[1:23] - median_attack_value).abs().idxmin()\n",
    "median_defense_value = poisson_model.params.iloc[23:45].median()\n",
    "median_defense_team = (poisson_model.params.iloc[23:45] - median_defense_value).abs().idxmin()\n",
    "print(f'Median attack: {median_attack_team}')\n",
    "print(f'Median defense: {median_defense_team}')"
   ]
  },
  {
   "cell_type": "code",
   "execution_count": 11,
   "metadata": {},
   "outputs": [],
   "source": [
    "teams = \"Arsenal,Aston Villa,Bournemouth,Brentford,Brighton,Chelsea,Crystal Palace,Everton,Fulham,Ipswich Town,Leicester City,Liverpool,Manchester City,Manchester Utd,Newcastle Utd,Nott'ham Forest,Southampton,Tottenham,West Ham,Wolves\" \n",
    "teams = teams.split(',')"
   ]
  },
  {
   "cell_type": "code",
   "execution_count": 12,
   "metadata": {},
   "outputs": [
    {
     "data": {
      "text/html": [
       "<div>\n",
       "<style scoped>\n",
       "    .dataframe tbody tr th:only-of-type {\n",
       "        vertical-align: middle;\n",
       "    }\n",
       "\n",
       "    .dataframe tbody tr th {\n",
       "        vertical-align: top;\n",
       "    }\n",
       "\n",
       "    .dataframe thead th {\n",
       "        text-align: right;\n",
       "    }\n",
       "</style>\n",
       "<table border=\"1\" class=\"dataframe\">\n",
       "  <thead>\n",
       "    <tr style=\"text-align: right;\">\n",
       "      <th></th>\n",
       "      <th>team</th>\n",
       "      <th>attack_rating</th>\n",
       "      <th>defense_rating</th>\n",
       "      <th>goal_difference_rating</th>\n",
       "    </tr>\n",
       "  </thead>\n",
       "  <tbody>\n",
       "    <tr>\n",
       "      <th>1</th>\n",
       "      <td>Liverpool</td>\n",
       "      <td>2.283136</td>\n",
       "      <td>1.030811</td>\n",
       "      <td>1.252326</td>\n",
       "    </tr>\n",
       "    <tr>\n",
       "      <th>2</th>\n",
       "      <td>Arsenal</td>\n",
       "      <td>1.978376</td>\n",
       "      <td>0.741694</td>\n",
       "      <td>1.236682</td>\n",
       "    </tr>\n",
       "    <tr>\n",
       "      <th>3</th>\n",
       "      <td>Manchester City</td>\n",
       "      <td>2.276290</td>\n",
       "      <td>1.109062</td>\n",
       "      <td>1.167227</td>\n",
       "    </tr>\n",
       "    <tr>\n",
       "      <th>4</th>\n",
       "      <td>Chelsea</td>\n",
       "      <td>2.094037</td>\n",
       "      <td>1.277353</td>\n",
       "      <td>0.816684</td>\n",
       "    </tr>\n",
       "    <tr>\n",
       "      <th>5</th>\n",
       "      <td>Newcastle Utd</td>\n",
       "      <td>1.914273</td>\n",
       "      <td>1.245920</td>\n",
       "      <td>0.668353</td>\n",
       "    </tr>\n",
       "    <tr>\n",
       "      <th>6</th>\n",
       "      <td>Crystal Palace</td>\n",
       "      <td>1.632780</td>\n",
       "      <td>1.092139</td>\n",
       "      <td>0.540641</td>\n",
       "    </tr>\n",
       "    <tr>\n",
       "      <th>7</th>\n",
       "      <td>Tottenham</td>\n",
       "      <td>1.878353</td>\n",
       "      <td>1.457630</td>\n",
       "      <td>0.420724</td>\n",
       "    </tr>\n",
       "    <tr>\n",
       "      <th>8</th>\n",
       "      <td>Nott'ham Forest</td>\n",
       "      <td>1.655022</td>\n",
       "      <td>1.236428</td>\n",
       "      <td>0.418593</td>\n",
       "    </tr>\n",
       "    <tr>\n",
       "      <th>9</th>\n",
       "      <td>Bournemouth</td>\n",
       "      <td>1.563902</td>\n",
       "      <td>1.264937</td>\n",
       "      <td>0.298966</td>\n",
       "    </tr>\n",
       "    <tr>\n",
       "      <th>10</th>\n",
       "      <td>Brentford</td>\n",
       "      <td>1.764941</td>\n",
       "      <td>1.472223</td>\n",
       "      <td>0.292718</td>\n",
       "    </tr>\n",
       "    <tr>\n",
       "      <th>11</th>\n",
       "      <td>Aston Villa</td>\n",
       "      <td>1.650314</td>\n",
       "      <td>1.485690</td>\n",
       "      <td>0.164624</td>\n",
       "    </tr>\n",
       "    <tr>\n",
       "      <th>12</th>\n",
       "      <td>Fulham</td>\n",
       "      <td>1.427980</td>\n",
       "      <td>1.271901</td>\n",
       "      <td>0.156079</td>\n",
       "    </tr>\n",
       "    <tr>\n",
       "      <th>13</th>\n",
       "      <td>Manchester Utd</td>\n",
       "      <td>1.451316</td>\n",
       "      <td>1.415988</td>\n",
       "      <td>0.035329</td>\n",
       "    </tr>\n",
       "    <tr>\n",
       "      <th>14</th>\n",
       "      <td>Brighton</td>\n",
       "      <td>1.470130</td>\n",
       "      <td>1.470130</td>\n",
       "      <td>0.000000</td>\n",
       "    </tr>\n",
       "    <tr>\n",
       "      <th>15</th>\n",
       "      <td>Everton</td>\n",
       "      <td>1.070754</td>\n",
       "      <td>1.111877</td>\n",
       "      <td>-0.041123</td>\n",
       "    </tr>\n",
       "    <tr>\n",
       "      <th>16</th>\n",
       "      <td>West Ham</td>\n",
       "      <td>1.223709</td>\n",
       "      <td>1.668020</td>\n",
       "      <td>-0.444312</td>\n",
       "    </tr>\n",
       "    <tr>\n",
       "      <th>17</th>\n",
       "      <td>Wolves</td>\n",
       "      <td>1.355784</td>\n",
       "      <td>1.812771</td>\n",
       "      <td>-0.456987</td>\n",
       "    </tr>\n",
       "    <tr>\n",
       "      <th>18</th>\n",
       "      <td>Ipswich Town</td>\n",
       "      <td>1.068751</td>\n",
       "      <td>1.910869</td>\n",
       "      <td>-0.842117</td>\n",
       "    </tr>\n",
       "    <tr>\n",
       "      <th>19</th>\n",
       "      <td>Leicester City</td>\n",
       "      <td>0.912288</td>\n",
       "      <td>2.010573</td>\n",
       "      <td>-1.098285</td>\n",
       "    </tr>\n",
       "    <tr>\n",
       "      <th>20</th>\n",
       "      <td>Southampton</td>\n",
       "      <td>0.781569</td>\n",
       "      <td>2.129441</td>\n",
       "      <td>-1.347872</td>\n",
       "    </tr>\n",
       "  </tbody>\n",
       "</table>\n",
       "</div>"
      ],
      "text/plain": [
       "               team  attack_rating  defense_rating  goal_difference_rating\n",
       "1         Liverpool       2.283136        1.030811                1.252326\n",
       "2           Arsenal       1.978376        0.741694                1.236682\n",
       "3   Manchester City       2.276290        1.109062                1.167227\n",
       "4           Chelsea       2.094037        1.277353                0.816684\n",
       "5     Newcastle Utd       1.914273        1.245920                0.668353\n",
       "6    Crystal Palace       1.632780        1.092139                0.540641\n",
       "7         Tottenham       1.878353        1.457630                0.420724\n",
       "8   Nott'ham Forest       1.655022        1.236428                0.418593\n",
       "9       Bournemouth       1.563902        1.264937                0.298966\n",
       "10        Brentford       1.764941        1.472223                0.292718\n",
       "11      Aston Villa       1.650314        1.485690                0.164624\n",
       "12           Fulham       1.427980        1.271901                0.156079\n",
       "13   Manchester Utd       1.451316        1.415988                0.035329\n",
       "14         Brighton       1.470130        1.470130                0.000000\n",
       "15          Everton       1.070754        1.111877               -0.041123\n",
       "16         West Ham       1.223709        1.668020               -0.444312\n",
       "17           Wolves       1.355784        1.812771               -0.456987\n",
       "18     Ipswich Town       1.068751        1.910869               -0.842117\n",
       "19   Leicester City       0.912288        2.010573               -1.098285\n",
       "20      Southampton       0.781569        2.129441               -1.347872"
      ]
     },
     "metadata": {},
     "output_type": "display_data"
    }
   ],
   "source": [
    "ratings = []\n",
    "for team in teams:\n",
    "    home_goals_avg, _ = predict_average_goals(poisson_model, team, median_defense_team.split('.')[1][:-1])\n",
    "    _, away_goals_avg = predict_average_goals(poisson_model, median_defense_team.split('.')[1][:-1], team)\n",
    "    team_attack_rating = np.mean((home_goals_avg, away_goals_avg))\n",
    "   \n",
    "\n",
    "    _, away_goals_avg = predict_average_goals(poisson_model, team, median_attack_team.split('.')[1][:-1])\n",
    "    home_goals_avg,_  = predict_average_goals(poisson_model, median_attack_team.split('.')[1][:-1], team)\n",
    "    team_defense_rating = np.mean((home_goals_avg, away_goals_avg))\n",
    "\n",
    "    team_goal_difference_rating = team_attack_rating - team_defense_rating\n",
    "\n",
    "    ratings.append((team, team_attack_rating, team_defense_rating, team_goal_difference_rating))\n",
    "\n",
    "ratings_df = pd.DataFrame(ratings, columns=['team', 'attack_rating', 'defense_rating', 'goal_difference_rating']).sort_values(by='goal_difference_rating', ascending=False).reset_index(drop=True)\n",
    "ratings_df.index += 1\n",
    "\n",
    "dfi.export(ratings_df, \"ratings.png\", table_conversion='matplotlib',)\n",
    "\n",
    "display(ratings_df)"
   ]
  },
  {
   "cell_type": "markdown",
   "metadata": {},
   "source": [
    "# Predict fixtures"
   ]
  },
  {
   "cell_type": "code",
   "execution_count": 13,
   "metadata": {},
   "outputs": [],
   "source": [
    "def scoreline_probabilities(foot_model, homeTeam, awayTeam, max_goals=10):\n",
    "    home_goals_avg, away_goals_avg = predict_average_goals(foot_model, homeTeam, awayTeam)\n",
    "    team_pred = [[poisson.pmf(i, team_avg) for i in range(0, max_goals+1)] for team_avg in [home_goals_avg, away_goals_avg]]\n",
    "    return(np.outer(np.array(team_pred[0]), np.array(team_pred[1])))"
   ]
  },
  {
   "cell_type": "code",
   "execution_count": 14,
   "metadata": {},
   "outputs": [
    {
     "data": {
      "text/html": [
       "<div>\n",
       "<style scoped>\n",
       "    .dataframe tbody tr th:only-of-type {\n",
       "        vertical-align: middle;\n",
       "    }\n",
       "\n",
       "    .dataframe tbody tr th {\n",
       "        vertical-align: top;\n",
       "    }\n",
       "\n",
       "    .dataframe thead th {\n",
       "        text-align: right;\n",
       "    }\n",
       "</style>\n",
       "<table border=\"1\" class=\"dataframe\">\n",
       "  <thead>\n",
       "    <tr style=\"text-align: right;\">\n",
       "      <th></th>\n",
       "      <th>index</th>\n",
       "      <th>Wk</th>\n",
       "      <th>Day</th>\n",
       "      <th>Date</th>\n",
       "      <th>Time</th>\n",
       "      <th>Home</th>\n",
       "      <th>xG</th>\n",
       "      <th>Score</th>\n",
       "      <th>xG.1</th>\n",
       "      <th>Away</th>\n",
       "      <th>Attendance</th>\n",
       "      <th>Venue</th>\n",
       "      <th>Referee</th>\n",
       "      <th>Match Report</th>\n",
       "      <th>Notes</th>\n",
       "    </tr>\n",
       "  </thead>\n",
       "  <tbody>\n",
       "    <tr>\n",
       "      <th>0</th>\n",
       "      <td>754</td>\n",
       "      <td>31.0</td>\n",
       "      <td>Sat</td>\n",
       "      <td>2025-04-05</td>\n",
       "      <td>12:30</td>\n",
       "      <td>Everton</td>\n",
       "      <td>NaN</td>\n",
       "      <td>NaN</td>\n",
       "      <td>NaN</td>\n",
       "      <td>Arsenal</td>\n",
       "      <td>NaN</td>\n",
       "      <td>Goodison Park</td>\n",
       "      <td>NaN</td>\n",
       "      <td>Head-to-Head</td>\n",
       "      <td>NaN</td>\n",
       "    </tr>\n",
       "    <tr>\n",
       "      <th>1</th>\n",
       "      <td>755</td>\n",
       "      <td>31.0</td>\n",
       "      <td>Sat</td>\n",
       "      <td>2025-04-05</td>\n",
       "      <td>15:00</td>\n",
       "      <td>Crystal Palace</td>\n",
       "      <td>NaN</td>\n",
       "      <td>NaN</td>\n",
       "      <td>NaN</td>\n",
       "      <td>Brighton</td>\n",
       "      <td>NaN</td>\n",
       "      <td>Selhurst Park</td>\n",
       "      <td>NaN</td>\n",
       "      <td>Head-to-Head</td>\n",
       "      <td>NaN</td>\n",
       "    </tr>\n",
       "    <tr>\n",
       "      <th>2</th>\n",
       "      <td>756</td>\n",
       "      <td>31.0</td>\n",
       "      <td>Sat</td>\n",
       "      <td>2025-04-05</td>\n",
       "      <td>15:00</td>\n",
       "      <td>Ipswich Town</td>\n",
       "      <td>NaN</td>\n",
       "      <td>NaN</td>\n",
       "      <td>NaN</td>\n",
       "      <td>Wolves</td>\n",
       "      <td>NaN</td>\n",
       "      <td>Portman Road Stadium</td>\n",
       "      <td>NaN</td>\n",
       "      <td>Head-to-Head</td>\n",
       "      <td>NaN</td>\n",
       "    </tr>\n",
       "    <tr>\n",
       "      <th>3</th>\n",
       "      <td>757</td>\n",
       "      <td>31.0</td>\n",
       "      <td>Sat</td>\n",
       "      <td>2025-04-05</td>\n",
       "      <td>15:00</td>\n",
       "      <td>West Ham</td>\n",
       "      <td>NaN</td>\n",
       "      <td>NaN</td>\n",
       "      <td>NaN</td>\n",
       "      <td>Bournemouth</td>\n",
       "      <td>NaN</td>\n",
       "      <td>London Stadium</td>\n",
       "      <td>NaN</td>\n",
       "      <td>Head-to-Head</td>\n",
       "      <td>NaN</td>\n",
       "    </tr>\n",
       "    <tr>\n",
       "      <th>4</th>\n",
       "      <td>758</td>\n",
       "      <td>31.0</td>\n",
       "      <td>Sat</td>\n",
       "      <td>2025-04-05</td>\n",
       "      <td>17:30</td>\n",
       "      <td>Aston Villa</td>\n",
       "      <td>NaN</td>\n",
       "      <td>NaN</td>\n",
       "      <td>NaN</td>\n",
       "      <td>Nott'ham Forest</td>\n",
       "      <td>NaN</td>\n",
       "      <td>Villa Park</td>\n",
       "      <td>NaN</td>\n",
       "      <td>Head-to-Head</td>\n",
       "      <td>NaN</td>\n",
       "    </tr>\n",
       "    <tr>\n",
       "      <th>...</th>\n",
       "      <td>...</td>\n",
       "      <td>...</td>\n",
       "      <td>...</td>\n",
       "      <td>...</td>\n",
       "      <td>...</td>\n",
       "      <td>...</td>\n",
       "      <td>...</td>\n",
       "      <td>...</td>\n",
       "      <td>...</td>\n",
       "      <td>...</td>\n",
       "      <td>...</td>\n",
       "      <td>...</td>\n",
       "      <td>...</td>\n",
       "      <td>...</td>\n",
       "      <td>...</td>\n",
       "    </tr>\n",
       "    <tr>\n",
       "      <th>76</th>\n",
       "      <td>838</td>\n",
       "      <td>38.0</td>\n",
       "      <td>Sun</td>\n",
       "      <td>2025-05-25</td>\n",
       "      <td>16:00</td>\n",
       "      <td>Nott'ham Forest</td>\n",
       "      <td>NaN</td>\n",
       "      <td>NaN</td>\n",
       "      <td>NaN</td>\n",
       "      <td>Chelsea</td>\n",
       "      <td>NaN</td>\n",
       "      <td>The City Ground</td>\n",
       "      <td>NaN</td>\n",
       "      <td>Head-to-Head</td>\n",
       "      <td>NaN</td>\n",
       "    </tr>\n",
       "    <tr>\n",
       "      <th>77</th>\n",
       "      <td>839</td>\n",
       "      <td>38.0</td>\n",
       "      <td>Sun</td>\n",
       "      <td>2025-05-25</td>\n",
       "      <td>16:00</td>\n",
       "      <td>Fulham</td>\n",
       "      <td>NaN</td>\n",
       "      <td>NaN</td>\n",
       "      <td>NaN</td>\n",
       "      <td>Manchester City</td>\n",
       "      <td>NaN</td>\n",
       "      <td>Craven Cottage</td>\n",
       "      <td>NaN</td>\n",
       "      <td>Head-to-Head</td>\n",
       "      <td>NaN</td>\n",
       "    </tr>\n",
       "    <tr>\n",
       "      <th>78</th>\n",
       "      <td>840</td>\n",
       "      <td>38.0</td>\n",
       "      <td>Sun</td>\n",
       "      <td>2025-05-25</td>\n",
       "      <td>16:00</td>\n",
       "      <td>Newcastle Utd</td>\n",
       "      <td>NaN</td>\n",
       "      <td>NaN</td>\n",
       "      <td>NaN</td>\n",
       "      <td>Everton</td>\n",
       "      <td>NaN</td>\n",
       "      <td>St James' Park</td>\n",
       "      <td>NaN</td>\n",
       "      <td>Head-to-Head</td>\n",
       "      <td>NaN</td>\n",
       "    </tr>\n",
       "    <tr>\n",
       "      <th>79</th>\n",
       "      <td>841</td>\n",
       "      <td>38.0</td>\n",
       "      <td>Sun</td>\n",
       "      <td>2025-05-25</td>\n",
       "      <td>16:00</td>\n",
       "      <td>Bournemouth</td>\n",
       "      <td>NaN</td>\n",
       "      <td>NaN</td>\n",
       "      <td>NaN</td>\n",
       "      <td>Leicester City</td>\n",
       "      <td>NaN</td>\n",
       "      <td>Vitality Stadium</td>\n",
       "      <td>NaN</td>\n",
       "      <td>Head-to-Head</td>\n",
       "      <td>NaN</td>\n",
       "    </tr>\n",
       "    <tr>\n",
       "      <th>80</th>\n",
       "      <td>842</td>\n",
       "      <td>38.0</td>\n",
       "      <td>Sun</td>\n",
       "      <td>2025-05-25</td>\n",
       "      <td>16:00</td>\n",
       "      <td>Tottenham</td>\n",
       "      <td>NaN</td>\n",
       "      <td>NaN</td>\n",
       "      <td>NaN</td>\n",
       "      <td>Brighton</td>\n",
       "      <td>NaN</td>\n",
       "      <td>Tottenham Hotspur Stadium</td>\n",
       "      <td>NaN</td>\n",
       "      <td>Head-to-Head</td>\n",
       "      <td>NaN</td>\n",
       "    </tr>\n",
       "  </tbody>\n",
       "</table>\n",
       "<p>81 rows × 15 columns</p>\n",
       "</div>"
      ],
      "text/plain": [
       "    index    Wk  Day       Date   Time             Home  xG Score  xG.1  \\\n",
       "0     754  31.0  Sat 2025-04-05  12:30          Everton NaN   NaN   NaN   \n",
       "1     755  31.0  Sat 2025-04-05  15:00   Crystal Palace NaN   NaN   NaN   \n",
       "2     756  31.0  Sat 2025-04-05  15:00     Ipswich Town NaN   NaN   NaN   \n",
       "3     757  31.0  Sat 2025-04-05  15:00         West Ham NaN   NaN   NaN   \n",
       "4     758  31.0  Sat 2025-04-05  17:30      Aston Villa NaN   NaN   NaN   \n",
       "..    ...   ...  ...        ...    ...              ...  ..   ...   ...   \n",
       "76    838  38.0  Sun 2025-05-25  16:00  Nott'ham Forest NaN   NaN   NaN   \n",
       "77    839  38.0  Sun 2025-05-25  16:00           Fulham NaN   NaN   NaN   \n",
       "78    840  38.0  Sun 2025-05-25  16:00    Newcastle Utd NaN   NaN   NaN   \n",
       "79    841  38.0  Sun 2025-05-25  16:00      Bournemouth NaN   NaN   NaN   \n",
       "80    842  38.0  Sun 2025-05-25  16:00        Tottenham NaN   NaN   NaN   \n",
       "\n",
       "               Away  Attendance                      Venue Referee  \\\n",
       "0           Arsenal         NaN              Goodison Park     NaN   \n",
       "1          Brighton         NaN              Selhurst Park     NaN   \n",
       "2            Wolves         NaN       Portman Road Stadium     NaN   \n",
       "3       Bournemouth         NaN             London Stadium     NaN   \n",
       "4   Nott'ham Forest         NaN                 Villa Park     NaN   \n",
       "..              ...         ...                        ...     ...   \n",
       "76          Chelsea         NaN            The City Ground     NaN   \n",
       "77  Manchester City         NaN             Craven Cottage     NaN   \n",
       "78          Everton         NaN             St James' Park     NaN   \n",
       "79   Leicester City         NaN           Vitality Stadium     NaN   \n",
       "80         Brighton         NaN  Tottenham Hotspur Stadium     NaN   \n",
       "\n",
       "    Match Report  Notes  \n",
       "0   Head-to-Head    NaN  \n",
       "1   Head-to-Head    NaN  \n",
       "2   Head-to-Head    NaN  \n",
       "3   Head-to-Head    NaN  \n",
       "4   Head-to-Head    NaN  \n",
       "..           ...    ...  \n",
       "76  Head-to-Head    NaN  \n",
       "77  Head-to-Head    NaN  \n",
       "78  Head-to-Head    NaN  \n",
       "79  Head-to-Head    NaN  \n",
       "80  Head-to-Head    NaN  \n",
       "\n",
       "[81 rows x 15 columns]"
      ]
     },
     "execution_count": 14,
     "metadata": {},
     "output_type": "execute_result"
    }
   ],
   "source": [
    "fixtures = fixtures_fbref[(fixtures_fbref['Score'].isnull()) & (fixtures_fbref['Wk'].notnull())].reset_index()\n",
    "fixtures"
   ]
  },
  {
   "cell_type": "code",
   "execution_count": 15,
   "metadata": {},
   "outputs": [],
   "source": [
    "home_team = 'Chelsea'\n",
    "away_team = 'Tottenham'\n",
    "outcome_matrix = scoreline_probabilities(poisson_model, home_team, away_team)"
   ]
  },
  {
   "cell_type": "code",
   "execution_count": 16,
   "metadata": {},
   "outputs": [
    {
     "data": {
      "image/png": "[encoded data removed]",
      "text/plain": [
       "<Figure size 640x480 with 2 Axes>"
      ]
     },
     "metadata": {},
     "output_type": "display_data"
    }
   ],
   "source": [
    "ax = sns.heatmap(outcome_matrix, annot=True, fmt=\".2f\")\n",
    "ax.set(xlabel=away_team, ylabel=home_team)\n",
    "ax.xaxis.tick_top()\n",
    "ax.xaxis.set_label_position('top')"
   ]
  },
  {
   "cell_type": "code",
   "execution_count": 17,
   "metadata": {},
   "outputs": [
    {
     "data": {
      "text/plain": [
       "1    0.781174\n",
       "dtype: float64"
      ]
     },
     "execution_count": 17,
     "metadata": {},
     "output_type": "execute_result"
    }
   ],
   "source": [
    "poisson_model.predict(pd.DataFrame(data={'team': 'Everton', 'opponent': 'Liverpool', 'home':1},index=[1]))"
   ]
  },
  {
   "cell_type": "code",
   "execution_count": 18,
   "metadata": {},
   "outputs": [
    {
     "data": {
      "text/plain": [
       "1    1.565974\n",
       "dtype: float64"
      ]
     },
     "execution_count": 18,
     "metadata": {},
     "output_type": "execute_result"
    }
   ],
   "source": [
    "poisson_model.predict(pd.DataFrame(data={'team': 'Tottenham', 'opponent': 'Chelsea', 'home':0},index=[1]))"
   ]
  },
  {
   "cell_type": "code",
   "execution_count": 19,
   "metadata": {},
   "outputs": [
    {
     "data": {
      "text/html": [
       "<div>\n",
       "<style scoped>\n",
       "    .dataframe tbody tr th:only-of-type {\n",
       "        vertical-align: middle;\n",
       "    }\n",
       "\n",
       "    .dataframe tbody tr th {\n",
       "        vertical-align: top;\n",
       "    }\n",
       "\n",
       "    .dataframe thead th {\n",
       "        text-align: right;\n",
       "    }\n",
       "</style>\n",
       "<table border=\"1\" class=\"dataframe\">\n",
       "  <thead>\n",
       "    <tr style=\"text-align: right;\">\n",
       "      <th></th>\n",
       "      <th>index</th>\n",
       "      <th>Wk</th>\n",
       "      <th>Day</th>\n",
       "      <th>Date</th>\n",
       "      <th>Time</th>\n",
       "      <th>Home</th>\n",
       "      <th>xG</th>\n",
       "      <th>Score</th>\n",
       "      <th>xG.1</th>\n",
       "      <th>Away</th>\n",
       "      <th>Attendance</th>\n",
       "      <th>Venue</th>\n",
       "      <th>Referee</th>\n",
       "      <th>Match Report</th>\n",
       "      <th>Notes</th>\n",
       "      <th>home_win_probability</th>\n",
       "      <th>draw_probability</th>\n",
       "      <th>away_win_probability</th>\n",
       "    </tr>\n",
       "  </thead>\n",
       "  <tbody>\n",
       "    <tr>\n",
       "      <th>0</th>\n",
       "      <td>754</td>\n",
       "      <td>31.0</td>\n",
       "      <td>Sat</td>\n",
       "      <td>2025-04-05</td>\n",
       "      <td>12:30</td>\n",
       "      <td>Everton</td>\n",
       "      <td>NaN</td>\n",
       "      <td>NaN</td>\n",
       "      <td>NaN</td>\n",
       "      <td>Arsenal</td>\n",
       "      <td>NaN</td>\n",
       "      <td>Goodison Park</td>\n",
       "      <td>NaN</td>\n",
       "      <td>Head-to-Head</td>\n",
       "      <td>NaN</td>\n",
       "      <td>0.144863</td>\n",
       "      <td>0.269257</td>\n",
       "      <td>0.585879</td>\n",
       "    </tr>\n",
       "    <tr>\n",
       "      <th>1</th>\n",
       "      <td>755</td>\n",
       "      <td>31.0</td>\n",
       "      <td>Sat</td>\n",
       "      <td>2025-04-05</td>\n",
       "      <td>15:00</td>\n",
       "      <td>Crystal Palace</td>\n",
       "      <td>NaN</td>\n",
       "      <td>NaN</td>\n",
       "      <td>NaN</td>\n",
       "      <td>Brighton</td>\n",
       "      <td>NaN</td>\n",
       "      <td>Selhurst Park</td>\n",
       "      <td>NaN</td>\n",
       "      <td>Head-to-Head</td>\n",
       "      <td>NaN</td>\n",
       "      <td>0.526115</td>\n",
       "      <td>0.240378</td>\n",
       "      <td>0.233505</td>\n",
       "    </tr>\n",
       "    <tr>\n",
       "      <th>2</th>\n",
       "      <td>756</td>\n",
       "      <td>31.0</td>\n",
       "      <td>Sat</td>\n",
       "      <td>2025-04-05</td>\n",
       "      <td>15:00</td>\n",
       "      <td>Ipswich Town</td>\n",
       "      <td>NaN</td>\n",
       "      <td>NaN</td>\n",
       "      <td>NaN</td>\n",
       "      <td>Wolves</td>\n",
       "      <td>NaN</td>\n",
       "      <td>Portman Road Stadium</td>\n",
       "      <td>NaN</td>\n",
       "      <td>Head-to-Head</td>\n",
       "      <td>NaN</td>\n",
       "      <td>0.312141</td>\n",
       "      <td>0.236935</td>\n",
       "      <td>0.450922</td>\n",
       "    </tr>\n",
       "    <tr>\n",
       "      <th>3</th>\n",
       "      <td>757</td>\n",
       "      <td>31.0</td>\n",
       "      <td>Sat</td>\n",
       "      <td>2025-04-05</td>\n",
       "      <td>15:00</td>\n",
       "      <td>West Ham</td>\n",
       "      <td>NaN</td>\n",
       "      <td>NaN</td>\n",
       "      <td>NaN</td>\n",
       "      <td>Bournemouth</td>\n",
       "      <td>NaN</td>\n",
       "      <td>London Stadium</td>\n",
       "      <td>NaN</td>\n",
       "      <td>Head-to-Head</td>\n",
       "      <td>NaN</td>\n",
       "      <td>0.244386</td>\n",
       "      <td>0.239918</td>\n",
       "      <td>0.515694</td>\n",
       "    </tr>\n",
       "    <tr>\n",
       "      <th>4</th>\n",
       "      <td>758</td>\n",
       "      <td>31.0</td>\n",
       "      <td>Sat</td>\n",
       "      <td>2025-04-05</td>\n",
       "      <td>17:30</td>\n",
       "      <td>Aston Villa</td>\n",
       "      <td>NaN</td>\n",
       "      <td>NaN</td>\n",
       "      <td>NaN</td>\n",
       "      <td>Nott'ham Forest</td>\n",
       "      <td>NaN</td>\n",
       "      <td>Villa Park</td>\n",
       "      <td>NaN</td>\n",
       "      <td>Head-to-Head</td>\n",
       "      <td>NaN</td>\n",
       "      <td>0.344986</td>\n",
       "      <td>0.239942</td>\n",
       "      <td>0.415071</td>\n",
       "    </tr>\n",
       "    <tr>\n",
       "      <th>...</th>\n",
       "      <td>...</td>\n",
       "      <td>...</td>\n",
       "      <td>...</td>\n",
       "      <td>...</td>\n",
       "      <td>...</td>\n",
       "      <td>...</td>\n",
       "      <td>...</td>\n",
       "      <td>...</td>\n",
       "      <td>...</td>\n",
       "      <td>...</td>\n",
       "      <td>...</td>\n",
       "      <td>...</td>\n",
       "      <td>...</td>\n",
       "      <td>...</td>\n",
       "      <td>...</td>\n",
       "      <td>...</td>\n",
       "      <td>...</td>\n",
       "      <td>...</td>\n",
       "    </tr>\n",
       "    <tr>\n",
       "      <th>76</th>\n",
       "      <td>838</td>\n",
       "      <td>38.0</td>\n",
       "      <td>Sun</td>\n",
       "      <td>2025-05-25</td>\n",
       "      <td>16:00</td>\n",
       "      <td>Nott'ham Forest</td>\n",
       "      <td>NaN</td>\n",
       "      <td>NaN</td>\n",
       "      <td>NaN</td>\n",
       "      <td>Chelsea</td>\n",
       "      <td>NaN</td>\n",
       "      <td>The City Ground</td>\n",
       "      <td>NaN</td>\n",
       "      <td>Head-to-Head</td>\n",
       "      <td>NaN</td>\n",
       "      <td>0.341755</td>\n",
       "      <td>0.233711</td>\n",
       "      <td>0.424532</td>\n",
       "    </tr>\n",
       "    <tr>\n",
       "      <th>77</th>\n",
       "      <td>839</td>\n",
       "      <td>38.0</td>\n",
       "      <td>Sun</td>\n",
       "      <td>2025-05-25</td>\n",
       "      <td>16:00</td>\n",
       "      <td>Fulham</td>\n",
       "      <td>NaN</td>\n",
       "      <td>NaN</td>\n",
       "      <td>NaN</td>\n",
       "      <td>Manchester City</td>\n",
       "      <td>NaN</td>\n",
       "      <td>Craven Cottage</td>\n",
       "      <td>NaN</td>\n",
       "      <td>Head-to-Head</td>\n",
       "      <td>NaN</td>\n",
       "      <td>0.223151</td>\n",
       "      <td>0.223749</td>\n",
       "      <td>0.553095</td>\n",
       "    </tr>\n",
       "    <tr>\n",
       "      <th>78</th>\n",
       "      <td>840</td>\n",
       "      <td>38.0</td>\n",
       "      <td>Sun</td>\n",
       "      <td>2025-05-25</td>\n",
       "      <td>16:00</td>\n",
       "      <td>Newcastle Utd</td>\n",
       "      <td>NaN</td>\n",
       "      <td>NaN</td>\n",
       "      <td>NaN</td>\n",
       "      <td>Everton</td>\n",
       "      <td>NaN</td>\n",
       "      <td>St James' Park</td>\n",
       "      <td>NaN</td>\n",
       "      <td>Head-to-Head</td>\n",
       "      <td>NaN</td>\n",
       "      <td>0.521647</td>\n",
       "      <td>0.260805</td>\n",
       "      <td>0.217548</td>\n",
       "    </tr>\n",
       "    <tr>\n",
       "      <th>79</th>\n",
       "      <td>841</td>\n",
       "      <td>38.0</td>\n",
       "      <td>Sun</td>\n",
       "      <td>2025-05-25</td>\n",
       "      <td>16:00</td>\n",
       "      <td>Bournemouth</td>\n",
       "      <td>NaN</td>\n",
       "      <td>NaN</td>\n",
       "      <td>NaN</td>\n",
       "      <td>Leicester City</td>\n",
       "      <td>NaN</td>\n",
       "      <td>Vitality Stadium</td>\n",
       "      <td>NaN</td>\n",
       "      <td>Head-to-Head</td>\n",
       "      <td>NaN</td>\n",
       "      <td>0.709086</td>\n",
       "      <td>0.179245</td>\n",
       "      <td>0.111647</td>\n",
       "    </tr>\n",
       "    <tr>\n",
       "      <th>80</th>\n",
       "      <td>842</td>\n",
       "      <td>38.0</td>\n",
       "      <td>Sun</td>\n",
       "      <td>2025-05-25</td>\n",
       "      <td>16:00</td>\n",
       "      <td>Tottenham</td>\n",
       "      <td>NaN</td>\n",
       "      <td>NaN</td>\n",
       "      <td>NaN</td>\n",
       "      <td>Brighton</td>\n",
       "      <td>NaN</td>\n",
       "      <td>Tottenham Hotspur Stadium</td>\n",
       "      <td>NaN</td>\n",
       "      <td>Head-to-Head</td>\n",
       "      <td>NaN</td>\n",
       "      <td>0.505161</td>\n",
       "      <td>0.219565</td>\n",
       "      <td>0.275267</td>\n",
       "    </tr>\n",
       "  </tbody>\n",
       "</table>\n",
       "<p>81 rows × 18 columns</p>\n",
       "</div>"
      ],
      "text/plain": [
       "    index    Wk  Day       Date   Time             Home  xG Score  xG.1  \\\n",
       "0     754  31.0  Sat 2025-04-05  12:30          Everton NaN   NaN   NaN   \n",
       "1     755  31.0  Sat 2025-04-05  15:00   Crystal Palace NaN   NaN   NaN   \n",
       "2     756  31.0  Sat 2025-04-05  15:00     Ipswich Town NaN   NaN   NaN   \n",
       "3     757  31.0  Sat 2025-04-05  15:00         West Ham NaN   NaN   NaN   \n",
       "4     758  31.0  Sat 2025-04-05  17:30      Aston Villa NaN   NaN   NaN   \n",
       "..    ...   ...  ...        ...    ...              ...  ..   ...   ...   \n",
       "76    838  38.0  Sun 2025-05-25  16:00  Nott'ham Forest NaN   NaN   NaN   \n",
       "77    839  38.0  Sun 2025-05-25  16:00           Fulham NaN   NaN   NaN   \n",
       "78    840  38.0  Sun 2025-05-25  16:00    Newcastle Utd NaN   NaN   NaN   \n",
       "79    841  38.0  Sun 2025-05-25  16:00      Bournemouth NaN   NaN   NaN   \n",
       "80    842  38.0  Sun 2025-05-25  16:00        Tottenham NaN   NaN   NaN   \n",
       "\n",
       "               Away  Attendance                      Venue Referee  \\\n",
       "0           Arsenal         NaN              Goodison Park     NaN   \n",
       "1          Brighton         NaN              Selhurst Park     NaN   \n",
       "2            Wolves         NaN       Portman Road Stadium     NaN   \n",
       "3       Bournemouth         NaN             London Stadium     NaN   \n",
       "4   Nott'ham Forest         NaN                 Villa Park     NaN   \n",
       "..              ...         ...                        ...     ...   \n",
       "76          Chelsea         NaN            The City Ground     NaN   \n",
       "77  Manchester City         NaN             Craven Cottage     NaN   \n",
       "78          Everton         NaN             St James' Park     NaN   \n",
       "79   Leicester City         NaN           Vitality Stadium     NaN   \n",
       "80         Brighton         NaN  Tottenham Hotspur Stadium     NaN   \n",
       "\n",
       "    Match Report  Notes  home_win_probability  draw_probability  \\\n",
       "0   Head-to-Head    NaN              0.144863          0.269257   \n",
       "1   Head-to-Head    NaN              0.526115          0.240378   \n",
       "2   Head-to-Head    NaN              0.312141          0.236935   \n",
       "3   Head-to-Head    NaN              0.244386          0.239918   \n",
       "4   Head-to-Head    NaN              0.344986          0.239942   \n",
       "..           ...    ...                   ...               ...   \n",
       "76  Head-to-Head    NaN              0.341755          0.233711   \n",
       "77  Head-to-Head    NaN              0.223151          0.223749   \n",
       "78  Head-to-Head    NaN              0.521647          0.260805   \n",
       "79  Head-to-Head    NaN              0.709086          0.179245   \n",
       "80  Head-to-Head    NaN              0.505161          0.219565   \n",
       "\n",
       "    away_win_probability  \n",
       "0               0.585879  \n",
       "1               0.233505  \n",
       "2               0.450922  \n",
       "3               0.515694  \n",
       "4               0.415071  \n",
       "..                   ...  \n",
       "76              0.424532  \n",
       "77              0.553095  \n",
       "78              0.217548  \n",
       "79              0.111647  \n",
       "80              0.275267  \n",
       "\n",
       "[81 rows x 18 columns]"
      ]
     },
     "metadata": {},
     "output_type": "display_data"
    }
   ],
   "source": [
    "all_probabilities = []\n",
    "for _, fixture in fixtures.iterrows():\n",
    "    # probability of different scorelines\n",
    "    outcome_matrix = scoreline_probabilities(poisson_model, fixture['Home'], fixture['Away'])\n",
    "    # match outcome probabilities\n",
    "    probability_home_win = outcome_matrix[np.tril_indices_from(outcome_matrix, k=-1)].sum()\n",
    "    probability_draw = np.trace(outcome_matrix)\n",
    "    probability_away_win = outcome_matrix[np.triu_indices_from(outcome_matrix, k=1)].sum()\n",
    "    # add probabilities to list\n",
    "    all_probabilities.append([probability_home_win, probability_draw, probability_away_win])\n",
    "\n",
    "# add all probabilites to fixtures df\n",
    "fixtures[['home_win_probability', 'draw_probability', 'away_win_probability']] = all_probabilities\n",
    "\n",
    "display(fixtures)"
   ]
  },
  {
   "cell_type": "markdown",
   "metadata": {},
   "source": [
    "# FPL Assistant Manager Chip"
   ]
  },
  {
   "cell_type": "code",
   "execution_count": 20,
   "metadata": {},
   "outputs": [],
   "source": [
    "def simulate_match(foot_model, homeTeam, awayTeam):\n",
    "    '''\n",
    "    Simulate the outcome of a single match.\n",
    "    '''\n",
    "    \n",
    "    # simulate scoreline\n",
    "    home_goals_avg_, away_goals_avg_ = predict_average_goals(foot_model, homeTeam, awayTeam)\n",
    "    home_goals = poisson.rvs(home_goals_avg_)\n",
    "    away_goals = poisson.rvs(away_goals_avg_)\n",
    "\n",
    "    if home_goals > away_goals:\n",
    "        outcome = 'home_win'\n",
    "    elif home_goals == away_goals:   \n",
    "        outcome = 'draw'\n",
    "    else:\n",
    "        outcome = 'away_win'\n",
    "\n",
    "    return outcome, home_goals, away_goals\n",
    "    #return choices(['home_win', 'draw', 'away_win'], probabilities)[0]"
   ]
  },
  {
   "cell_type": "code",
   "execution_count": 21,
   "metadata": {},
   "outputs": [],
   "source": [
    "def table_bonus_check(focal_team, opponent, league_table):\n",
    "    focal_team_rank = league_table.loc[league_table.Squad==focal_team, 'Rk'].values[0]\n",
    "    opponent_rank = league_table.loc[league_table.Squad==opponent, 'Rk'].values[0]\n",
    "    if focal_team_rank - opponent_rank >= 5:\n",
    "        return 1.0\n",
    "    else:\n",
    "        return 0.0"
   ]
  },
  {
   "cell_type": "code",
   "execution_count": 22,
   "metadata": {},
   "outputs": [],
   "source": [
    "def calculate_manager_points(outcome, home_goals, away_goals, home_team, away_team, gameweek, league_table, manager_xp):\n",
    "    # CALCULATE EXPECTED MANAGER POINTS FOR HOME TEAM\n",
    "    new_row1 = [gameweek, home_team, 0]\n",
    "    table_bonus_coefficient = table_bonus_check(home_team, away_team, league_table) # 1 or 0\n",
    "    # points for win\n",
    "    if outcome=='home_win':\n",
    "        new_row1[2] = (6 + 10*table_bonus_coefficient)\n",
    "    # points for draw\n",
    "    elif outcome=='draw':\n",
    "        new_row1[2] = (3 + 5*table_bonus_coefficient)\n",
    "    # goals scored\n",
    "    new_row1[2] += home_goals\n",
    "    # points for clean sheet\n",
    "    if away_goals==0:\n",
    "        new_row1[2] += 2\n",
    "\n",
    "    # CALCULATE EXPECTED MANAGER POINTS FOR AWAY TEAM\n",
    "    new_row2 = [gameweek, away_team, 0]\n",
    "    table_bonus_coefficient = table_bonus_check(away_team, home_team, league_table) # 1 or 0\n",
    "    # points for win\n",
    "    if outcome=='away_win':\n",
    "        new_row2[2] += (6 + 10*table_bonus_coefficient)\n",
    "    # points for draw\n",
    "    elif outcome=='draw':\n",
    "        new_row2[2] += (3 + 5*table_bonus_coefficient)\n",
    "    # goals scored\n",
    "    new_row2[2] += away_goals\n",
    "    # points for clean sheet\n",
    "    if home_goals==0:\n",
    "        new_row2[2] += 2\n",
    "\n",
    "    # add rows to manager_xp\n",
    "    manager_xp.extend([new_row1, new_row2])\n",
    "\n",
    "    return manager_xp"
   ]
  },
  {
   "cell_type": "code",
   "execution_count": 23,
   "metadata": {},
   "outputs": [],
   "source": [
    "def simulate_season(league_table, fixtures, foot_model, final_gameweek=38):\n",
    "    '''Simulate a whole season or up to certain gameweek.'''\n",
    "    first_index = fixtures.event.first_valid_index()\n",
    "    current_week = fixtures.loc[first_index,'event'].copy()\n",
    "    league_table_snapshot = league_table.copy()\n",
    "    fixtures = fixtures[fixtures.event<=final_gameweek].copy()\n",
    "    manager_xp = []\n",
    "    for _, fixture in fixtures.iterrows():\n",
    "        fixture_week = fixture.event\n",
    "        if np.isnan(fixture_week):\n",
    "            continue\n",
    "        elif fixture_week == current_week:\n",
    "            pass  \n",
    "        elif fixture_week == (current_week + 1):\n",
    "            league_table = league_table.sort_values(by=['Pts', 'GD', 'GF'], ascending=False)\n",
    "            league_table['Rk'] = np.arange(1,21)\n",
    "            league_table_snapshot = league_table.copy()\n",
    "            current_week += 1\n",
    "        else:\n",
    "            print('Incorrect gameweek!')\n",
    "            break\n",
    "\n",
    "        home_team_ = fixture.home_team\n",
    "        away_team_ = fixture.away_team\n",
    "        # simulate match outcome\n",
    "        outcome, home_goals, away_goals = simulate_match(foot_model, home_team_, away_team_)\n",
    "\n",
    "        # calculate manager points\n",
    "        manager_xp = calculate_manager_points(outcome, home_goals, away_goals, home_team_, away_team_, current_week, league_table_snapshot, manager_xp)\n",
    "\n",
    "        # update matches played\n",
    "        league_table.loc[league_table['Squad']==home_team_, 'MP'] += 1\n",
    "        league_table.loc[league_table['Squad']==away_team_, 'MP'] += 1\n",
    "        # update league table \n",
    "        league_table.loc[league_table['Squad']==home_team_, 'GF'] += home_goals\n",
    "        league_table.loc[league_table['Squad']==home_team_, 'GA'] += away_goals\n",
    "        league_table.loc[league_table['Squad']==home_team_, 'GD'] += home_goals - away_goals\n",
    "        league_table.loc[league_table['Squad']==away_team_, 'GF'] += away_goals\n",
    "        league_table.loc[league_table['Squad']==away_team_, 'GA'] += home_goals\n",
    "        league_table.loc[league_table['Squad']==away_team_, 'GD'] += away_goals - home_goals\n",
    "        if outcome=='home_win':\n",
    "            league_table.loc[league_table['Squad']==home_team_, 'Pts'] += 3\n",
    "            league_table.loc[league_table['Squad']==home_team_, 'W'] += 1\n",
    "            league_table.loc[league_table['Squad']==away_team_, 'L'] += 1\n",
    "        elif outcome=='draw':\n",
    "            league_table.loc[league_table['Squad']==home_team_, 'Pts'] += 1\n",
    "            league_table.loc[league_table['Squad']==away_team_, 'Pts'] += 1\n",
    "            league_table.loc[league_table['Squad']==home_team_, 'D'] += 1\n",
    "            league_table.loc[league_table['Squad']==away_team_, 'D'] += 1\n",
    "        elif outcome=='away_win':\n",
    "            league_table.loc[league_table['Squad']==away_team_, 'Pts'] += 3\n",
    "            league_table.loc[league_table['Squad']==away_team_, 'W'] += 1\n",
    "            league_table.loc[league_table['Squad']==home_team_, 'L'] += 1\n",
    "        else: \n",
    "            print('No valid result for:')\n",
    "            print(fixture)\n",
    "    \n",
    "    if final_gameweek==38:\n",
    "        assert np.all(league_table['MP']==38), 'All teams have not played 38 games!'\n",
    "\n",
    "    league_table = league_table.sort_values(by=['Pts', 'GD', 'GF'], ascending=False)\n",
    "    league_table['Rk'] = np.arange(1,21)\n",
    "\n",
    "    return league_table, manager_xp"
   ]
  },
  {
   "cell_type": "code",
   "execution_count": 24,
   "metadata": {},
   "outputs": [
    {
     "data": {
      "text/html": [
       "<div>\n",
       "<style scoped>\n",
       "    .dataframe tbody tr th:only-of-type {\n",
       "        vertical-align: middle;\n",
       "    }\n",
       "\n",
       "    .dataframe tbody tr th {\n",
       "        vertical-align: top;\n",
       "    }\n",
       "\n",
       "    .dataframe thead th {\n",
       "        text-align: right;\n",
       "    }\n",
       "</style>\n",
       "<table border=\"1\" class=\"dataframe\">\n",
       "  <thead>\n",
       "    <tr style=\"text-align: right;\">\n",
       "      <th></th>\n",
       "      <th>Rk</th>\n",
       "      <th>Squad</th>\n",
       "      <th>MP</th>\n",
       "      <th>W</th>\n",
       "      <th>D</th>\n",
       "      <th>L</th>\n",
       "      <th>GF</th>\n",
       "      <th>GA</th>\n",
       "      <th>GD</th>\n",
       "      <th>Pts</th>\n",
       "      <th>Pts/MP</th>\n",
       "      <th>xG</th>\n",
       "      <th>xGA</th>\n",
       "      <th>xGD</th>\n",
       "      <th>xGD/90</th>\n",
       "      <th>Last 5</th>\n",
       "      <th>Attendance</th>\n",
       "      <th>Top Team Scorer</th>\n",
       "      <th>Goalkeeper</th>\n",
       "      <th>Notes</th>\n",
       "    </tr>\n",
       "  </thead>\n",
       "  <tbody>\n",
       "    <tr>\n",
       "      <th>0</th>\n",
       "      <td>1</td>\n",
       "      <td>Liverpool</td>\n",
       "      <td>30</td>\n",
       "      <td>22</td>\n",
       "      <td>7</td>\n",
       "      <td>1</td>\n",
       "      <td>70</td>\n",
       "      <td>27</td>\n",
       "      <td>43</td>\n",
       "      <td>73</td>\n",
       "      <td>2.43</td>\n",
       "      <td>66.4</td>\n",
       "      <td>26.0</td>\n",
       "      <td>40.4</td>\n",
       "      <td>1.35</td>\n",
       "      <td>D W W W W</td>\n",
       "      <td>60311</td>\n",
       "      <td>Mohamed Salah - 27</td>\n",
       "      <td>Alisson</td>\n",
       "      <td>NaN</td>\n",
       "    </tr>\n",
       "    <tr>\n",
       "      <th>1</th>\n",
       "      <td>2</td>\n",
       "      <td>Arsenal</td>\n",
       "      <td>30</td>\n",
       "      <td>17</td>\n",
       "      <td>10</td>\n",
       "      <td>3</td>\n",
       "      <td>55</td>\n",
       "      <td>25</td>\n",
       "      <td>30</td>\n",
       "      <td>61</td>\n",
       "      <td>2.03</td>\n",
       "      <td>46.7</td>\n",
       "      <td>25.7</td>\n",
       "      <td>21.0</td>\n",
       "      <td>0.70</td>\n",
       "      <td>L D D W W</td>\n",
       "      <td>60276</td>\n",
       "      <td>Kai Havertz - 9</td>\n",
       "      <td>David Raya</td>\n",
       "      <td>NaN</td>\n",
       "    </tr>\n",
       "    <tr>\n",
       "      <th>2</th>\n",
       "      <td>3</td>\n",
       "      <td>Nott'ham Forest</td>\n",
       "      <td>30</td>\n",
       "      <td>17</td>\n",
       "      <td>6</td>\n",
       "      <td>7</td>\n",
       "      <td>50</td>\n",
       "      <td>35</td>\n",
       "      <td>15</td>\n",
       "      <td>57</td>\n",
       "      <td>1.90</td>\n",
       "      <td>37.0</td>\n",
       "      <td>35.6</td>\n",
       "      <td>1.4</td>\n",
       "      <td>0.05</td>\n",
       "      <td>L D W W W</td>\n",
       "      <td>30091</td>\n",
       "      <td>Chris Wood - 18</td>\n",
       "      <td>Matz Sels</td>\n",
       "      <td>NaN</td>\n",
       "    </tr>\n",
       "    <tr>\n",
       "      <th>3</th>\n",
       "      <td>4</td>\n",
       "      <td>Chelsea</td>\n",
       "      <td>30</td>\n",
       "      <td>15</td>\n",
       "      <td>7</td>\n",
       "      <td>8</td>\n",
       "      <td>54</td>\n",
       "      <td>37</td>\n",
       "      <td>17</td>\n",
       "      <td>52</td>\n",
       "      <td>1.73</td>\n",
       "      <td>57.0</td>\n",
       "      <td>40.3</td>\n",
       "      <td>16.7</td>\n",
       "      <td>0.56</td>\n",
       "      <td>L W W L W</td>\n",
       "      <td>39610</td>\n",
       "      <td>Cole Palmer - 14</td>\n",
       "      <td>Robert Sánchez</td>\n",
       "      <td>NaN</td>\n",
       "    </tr>\n",
       "    <tr>\n",
       "      <th>4</th>\n",
       "      <td>5</td>\n",
       "      <td>Manchester City</td>\n",
       "      <td>30</td>\n",
       "      <td>15</td>\n",
       "      <td>6</td>\n",
       "      <td>9</td>\n",
       "      <td>57</td>\n",
       "      <td>40</td>\n",
       "      <td>17</td>\n",
       "      <td>51</td>\n",
       "      <td>1.70</td>\n",
       "      <td>53.6</td>\n",
       "      <td>39.5</td>\n",
       "      <td>14.1</td>\n",
       "      <td>0.47</td>\n",
       "      <td>L W L D W</td>\n",
       "      <td>52819</td>\n",
       "      <td>Erling Haaland - 21</td>\n",
       "      <td>Ederson</td>\n",
       "      <td>NaN</td>\n",
       "    </tr>\n",
       "    <tr>\n",
       "      <th>5</th>\n",
       "      <td>6</td>\n",
       "      <td>Newcastle Utd</td>\n",
       "      <td>29</td>\n",
       "      <td>15</td>\n",
       "      <td>5</td>\n",
       "      <td>9</td>\n",
       "      <td>49</td>\n",
       "      <td>39</td>\n",
       "      <td>10</td>\n",
       "      <td>50</td>\n",
       "      <td>1.72</td>\n",
       "      <td>47.5</td>\n",
       "      <td>36.9</td>\n",
       "      <td>10.6</td>\n",
       "      <td>0.37</td>\n",
       "      <td>L W L W W</td>\n",
       "      <td>52177</td>\n",
       "      <td>Alexander Isak - 20</td>\n",
       "      <td>Nick Pope</td>\n",
       "      <td>NaN</td>\n",
       "    </tr>\n",
       "    <tr>\n",
       "      <th>6</th>\n",
       "      <td>7</td>\n",
       "      <td>Aston Villa</td>\n",
       "      <td>30</td>\n",
       "      <td>13</td>\n",
       "      <td>9</td>\n",
       "      <td>8</td>\n",
       "      <td>44</td>\n",
       "      <td>45</td>\n",
       "      <td>-1</td>\n",
       "      <td>48</td>\n",
       "      <td>1.60</td>\n",
       "      <td>42.4</td>\n",
       "      <td>40.9</td>\n",
       "      <td>1.5</td>\n",
       "      <td>0.05</td>\n",
       "      <td>D W L W W</td>\n",
       "      <td>41958</td>\n",
       "      <td>Ollie Watkins - 13</td>\n",
       "      <td>Emiliano Martínez</td>\n",
       "      <td>NaN</td>\n",
       "    </tr>\n",
       "    <tr>\n",
       "      <th>7</th>\n",
       "      <td>8</td>\n",
       "      <td>Brighton</td>\n",
       "      <td>30</td>\n",
       "      <td>12</td>\n",
       "      <td>11</td>\n",
       "      <td>7</td>\n",
       "      <td>48</td>\n",
       "      <td>45</td>\n",
       "      <td>3</td>\n",
       "      <td>47</td>\n",
       "      <td>1.57</td>\n",
       "      <td>44.5</td>\n",
       "      <td>42.3</td>\n",
       "      <td>2.2</td>\n",
       "      <td>0.07</td>\n",
       "      <td>W W W D L</td>\n",
       "      <td>31888</td>\n",
       "      <td>João Pedro - 8</td>\n",
       "      <td>Bart Verbruggen</td>\n",
       "      <td>NaN</td>\n",
       "    </tr>\n",
       "    <tr>\n",
       "      <th>8</th>\n",
       "      <td>9</td>\n",
       "      <td>Fulham</td>\n",
       "      <td>30</td>\n",
       "      <td>12</td>\n",
       "      <td>9</td>\n",
       "      <td>9</td>\n",
       "      <td>44</td>\n",
       "      <td>40</td>\n",
       "      <td>4</td>\n",
       "      <td>45</td>\n",
       "      <td>1.50</td>\n",
       "      <td>40.8</td>\n",
       "      <td>35.2</td>\n",
       "      <td>5.6</td>\n",
       "      <td>0.19</td>\n",
       "      <td>L W L W L</td>\n",
       "      <td>26592</td>\n",
       "      <td>Raúl Jiménez - 10</td>\n",
       "      <td>Bernd Leno</td>\n",
       "      <td>NaN</td>\n",
       "    </tr>\n",
       "    <tr>\n",
       "      <th>9</th>\n",
       "      <td>10</td>\n",
       "      <td>Bournemouth</td>\n",
       "      <td>30</td>\n",
       "      <td>12</td>\n",
       "      <td>8</td>\n",
       "      <td>10</td>\n",
       "      <td>49</td>\n",
       "      <td>38</td>\n",
       "      <td>11</td>\n",
       "      <td>44</td>\n",
       "      <td>1.47</td>\n",
       "      <td>54.8</td>\n",
       "      <td>39.9</td>\n",
       "      <td>14.9</td>\n",
       "      <td>0.50</td>\n",
       "      <td>L L D L L</td>\n",
       "      <td>11209</td>\n",
       "      <td>Justin Kluivert - 12</td>\n",
       "      <td>Kepa Arrizabalaga</td>\n",
       "      <td>NaN</td>\n",
       "    </tr>\n",
       "    <tr>\n",
       "      <th>10</th>\n",
       "      <td>11</td>\n",
       "      <td>Brentford</td>\n",
       "      <td>30</td>\n",
       "      <td>12</td>\n",
       "      <td>5</td>\n",
       "      <td>13</td>\n",
       "      <td>51</td>\n",
       "      <td>47</td>\n",
       "      <td>4</td>\n",
       "      <td>41</td>\n",
       "      <td>1.37</td>\n",
       "      <td>46.2</td>\n",
       "      <td>46.5</td>\n",
       "      <td>-0.3</td>\n",
       "      <td>-0.01</td>\n",
       "      <td>W D L W L</td>\n",
       "      <td>19052</td>\n",
       "      <td>Bryan Mbeumo - 16</td>\n",
       "      <td>Mark Flekken</td>\n",
       "      <td>NaN</td>\n",
       "    </tr>\n",
       "    <tr>\n",
       "      <th>11</th>\n",
       "      <td>12</td>\n",
       "      <td>Crystal Palace</td>\n",
       "      <td>29</td>\n",
       "      <td>10</td>\n",
       "      <td>10</td>\n",
       "      <td>9</td>\n",
       "      <td>37</td>\n",
       "      <td>34</td>\n",
       "      <td>3</td>\n",
       "      <td>40</td>\n",
       "      <td>1.38</td>\n",
       "      <td>44.9</td>\n",
       "      <td>36.0</td>\n",
       "      <td>8.8</td>\n",
       "      <td>0.31</td>\n",
       "      <td>L W W W D</td>\n",
       "      <td>25108</td>\n",
       "      <td>Jean-Philippe Mateta - 12</td>\n",
       "      <td>Dean Henderson</td>\n",
       "      <td>NaN</td>\n",
       "    </tr>\n",
       "    <tr>\n",
       "      <th>12</th>\n",
       "      <td>13</td>\n",
       "      <td>Manchester Utd</td>\n",
       "      <td>30</td>\n",
       "      <td>10</td>\n",
       "      <td>7</td>\n",
       "      <td>13</td>\n",
       "      <td>37</td>\n",
       "      <td>41</td>\n",
       "      <td>-4</td>\n",
       "      <td>37</td>\n",
       "      <td>1.23</td>\n",
       "      <td>40.5</td>\n",
       "      <td>44.8</td>\n",
       "      <td>-4.3</td>\n",
       "      <td>-0.14</td>\n",
       "      <td>D W D W L</td>\n",
       "      <td>73733</td>\n",
       "      <td>Bruno Fernandes - 8</td>\n",
       "      <td>André Onana</td>\n",
       "      <td>NaN</td>\n",
       "    </tr>\n",
       "    <tr>\n",
       "      <th>13</th>\n",
       "      <td>14</td>\n",
       "      <td>Tottenham</td>\n",
       "      <td>30</td>\n",
       "      <td>10</td>\n",
       "      <td>4</td>\n",
       "      <td>16</td>\n",
       "      <td>55</td>\n",
       "      <td>44</td>\n",
       "      <td>11</td>\n",
       "      <td>34</td>\n",
       "      <td>1.13</td>\n",
       "      <td>48.1</td>\n",
       "      <td>49.5</td>\n",
       "      <td>-1.4</td>\n",
       "      <td>-0.05</td>\n",
       "      <td>W L D L L</td>\n",
       "      <td>61294</td>\n",
       "      <td>James Maddison, Brennan Johnson - 9</td>\n",
       "      <td>Guglielmo Vicario</td>\n",
       "      <td>NaN</td>\n",
       "    </tr>\n",
       "    <tr>\n",
       "      <th>14</th>\n",
       "      <td>15</td>\n",
       "      <td>Everton</td>\n",
       "      <td>30</td>\n",
       "      <td>7</td>\n",
       "      <td>13</td>\n",
       "      <td>10</td>\n",
       "      <td>32</td>\n",
       "      <td>37</td>\n",
       "      <td>-5</td>\n",
       "      <td>34</td>\n",
       "      <td>1.13</td>\n",
       "      <td>32.5</td>\n",
       "      <td>37.1</td>\n",
       "      <td>-4.6</td>\n",
       "      <td>-0.15</td>\n",
       "      <td>D D D D L</td>\n",
       "      <td>38213</td>\n",
       "      <td>Iliman Ndiaye, Beto - 6</td>\n",
       "      <td>Jordan Pickford</td>\n",
       "      <td>NaN</td>\n",
       "    </tr>\n",
       "    <tr>\n",
       "      <th>15</th>\n",
       "      <td>16</td>\n",
       "      <td>West Ham</td>\n",
       "      <td>30</td>\n",
       "      <td>9</td>\n",
       "      <td>7</td>\n",
       "      <td>14</td>\n",
       "      <td>33</td>\n",
       "      <td>50</td>\n",
       "      <td>-17</td>\n",
       "      <td>34</td>\n",
       "      <td>1.13</td>\n",
       "      <td>37.9</td>\n",
       "      <td>48.3</td>\n",
       "      <td>-10.4</td>\n",
       "      <td>-0.35</td>\n",
       "      <td>W W L D L</td>\n",
       "      <td>62463</td>\n",
       "      <td>Tomáš Souček, Jarrod Bowen - 7</td>\n",
       "      <td>Alphonse Areola</td>\n",
       "      <td>NaN</td>\n",
       "    </tr>\n",
       "    <tr>\n",
       "      <th>16</th>\n",
       "      <td>17</td>\n",
       "      <td>Wolves</td>\n",
       "      <td>30</td>\n",
       "      <td>8</td>\n",
       "      <td>5</td>\n",
       "      <td>17</td>\n",
       "      <td>41</td>\n",
       "      <td>58</td>\n",
       "      <td>-17</td>\n",
       "      <td>29</td>\n",
       "      <td>0.97</td>\n",
       "      <td>32.8</td>\n",
       "      <td>47.6</td>\n",
       "      <td>-14.8</td>\n",
       "      <td>-0.49</td>\n",
       "      <td>W L D W W</td>\n",
       "      <td>30505</td>\n",
       "      <td>Matheus Cunha - 13</td>\n",
       "      <td>José Sá</td>\n",
       "      <td>NaN</td>\n",
       "    </tr>\n",
       "    <tr>\n",
       "      <th>17</th>\n",
       "      <td>18</td>\n",
       "      <td>Ipswich Town</td>\n",
       "      <td>30</td>\n",
       "      <td>4</td>\n",
       "      <td>8</td>\n",
       "      <td>18</td>\n",
       "      <td>30</td>\n",
       "      <td>63</td>\n",
       "      <td>-33</td>\n",
       "      <td>20</td>\n",
       "      <td>0.67</td>\n",
       "      <td>28.3</td>\n",
       "      <td>59.3</td>\n",
       "      <td>-30.9</td>\n",
       "      <td>-1.03</td>\n",
       "      <td>L L L L W</td>\n",
       "      <td>29781</td>\n",
       "      <td>Liam Delap - 11</td>\n",
       "      <td>Arijanet Muric</td>\n",
       "      <td>NaN</td>\n",
       "    </tr>\n",
       "    <tr>\n",
       "      <th>18</th>\n",
       "      <td>19</td>\n",
       "      <td>Leicester City</td>\n",
       "      <td>30</td>\n",
       "      <td>4</td>\n",
       "      <td>5</td>\n",
       "      <td>21</td>\n",
       "      <td>25</td>\n",
       "      <td>67</td>\n",
       "      <td>-42</td>\n",
       "      <td>17</td>\n",
       "      <td>0.57</td>\n",
       "      <td>25.8</td>\n",
       "      <td>55.6</td>\n",
       "      <td>-29.9</td>\n",
       "      <td>-1.00</td>\n",
       "      <td>L L L L L</td>\n",
       "      <td>31566</td>\n",
       "      <td>Jamie Vardy - 7</td>\n",
       "      <td>Mads Hermansen</td>\n",
       "      <td>NaN</td>\n",
       "    </tr>\n",
       "    <tr>\n",
       "      <th>19</th>\n",
       "      <td>20</td>\n",
       "      <td>Southampton</td>\n",
       "      <td>30</td>\n",
       "      <td>2</td>\n",
       "      <td>4</td>\n",
       "      <td>24</td>\n",
       "      <td>22</td>\n",
       "      <td>71</td>\n",
       "      <td>-49</td>\n",
       "      <td>10</td>\n",
       "      <td>0.33</td>\n",
       "      <td>27.6</td>\n",
       "      <td>68.3</td>\n",
       "      <td>-40.7</td>\n",
       "      <td>-1.36</td>\n",
       "      <td>L L L L D</td>\n",
       "      <td>31025</td>\n",
       "      <td>Paul Onuachu - 4</td>\n",
       "      <td>Aaron Ramsdale</td>\n",
       "      <td>NaN</td>\n",
       "    </tr>\n",
       "  </tbody>\n",
       "</table>\n",
       "</div>"
      ],
      "text/plain": [
       "    Rk            Squad  MP   W   D   L  GF  GA  GD  Pts  Pts/MP    xG   xGA  \\\n",
       "0    1        Liverpool  30  22   7   1  70  27  43   73    2.43  66.4  26.0   \n",
       "1    2          Arsenal  30  17  10   3  55  25  30   61    2.03  46.7  25.7   \n",
       "2    3  Nott'ham Forest  30  17   6   7  50  35  15   57    1.90  37.0  35.6   \n",
       "3    4          Chelsea  30  15   7   8  54  37  17   52    1.73  57.0  40.3   \n",
       "4    5  Manchester City  30  15   6   9  57  40  17   51    1.70  53.6  39.5   \n",
       "5    6    Newcastle Utd  29  15   5   9  49  39  10   50    1.72  47.5  36.9   \n",
       "6    7      Aston Villa  30  13   9   8  44  45  -1   48    1.60  42.4  40.9   \n",
       "7    8         Brighton  30  12  11   7  48  45   3   47    1.57  44.5  42.3   \n",
       "8    9           Fulham  30  12   9   9  44  40   4   45    1.50  40.8  35.2   \n",
       "9   10      Bournemouth  30  12   8  10  49  38  11   44    1.47  54.8  39.9   \n",
       "10  11        Brentford  30  12   5  13  51  47   4   41    1.37  46.2  46.5   \n",
       "11  12   Crystal Palace  29  10  10   9  37  34   3   40    1.38  44.9  36.0   \n",
       "12  13   Manchester Utd  30  10   7  13  37  41  -4   37    1.23  40.5  44.8   \n",
       "13  14        Tottenham  30  10   4  16  55  44  11   34    1.13  48.1  49.5   \n",
       "14  15          Everton  30   7  13  10  32  37  -5   34    1.13  32.5  37.1   \n",
       "15  16         West Ham  30   9   7  14  33  50 -17   34    1.13  37.9  48.3   \n",
       "16  17           Wolves  30   8   5  17  41  58 -17   29    0.97  32.8  47.6   \n",
       "17  18     Ipswich Town  30   4   8  18  30  63 -33   20    0.67  28.3  59.3   \n",
       "18  19   Leicester City  30   4   5  21  25  67 -42   17    0.57  25.8  55.6   \n",
       "19  20      Southampton  30   2   4  24  22  71 -49   10    0.33  27.6  68.3   \n",
       "\n",
       "     xGD  xGD/90     Last 5  Attendance                      Top Team Scorer  \\\n",
       "0   40.4    1.35  D W W W W       60311                   Mohamed Salah - 27   \n",
       "1   21.0    0.70  L D D W W       60276                      Kai Havertz - 9   \n",
       "2    1.4    0.05  L D W W W       30091                      Chris Wood - 18   \n",
       "3   16.7    0.56  L W W L W       39610                     Cole Palmer - 14   \n",
       "4   14.1    0.47  L W L D W       52819                  Erling Haaland - 21   \n",
       "5   10.6    0.37  L W L W W       52177                  Alexander Isak - 20   \n",
       "6    1.5    0.05  D W L W W       41958                   Ollie Watkins - 13   \n",
       "7    2.2    0.07  W W W D L       31888                       João Pedro - 8   \n",
       "8    5.6    0.19  L W L W L       26592                    Raúl Jiménez - 10   \n",
       "9   14.9    0.50  L L D L L       11209                 Justin Kluivert - 12   \n",
       "10  -0.3   -0.01  W D L W L       19052                    Bryan Mbeumo - 16   \n",
       "11   8.8    0.31  L W W W D       25108            Jean-Philippe Mateta - 12   \n",
       "12  -4.3   -0.14  D W D W L       73733                  Bruno Fernandes - 8   \n",
       "13  -1.4   -0.05  W L D L L       61294  James Maddison, Brennan Johnson - 9   \n",
       "14  -4.6   -0.15  D D D D L       38213              Iliman Ndiaye, Beto - 6   \n",
       "15 -10.4   -0.35  W W L D L       62463       Tomáš Souček, Jarrod Bowen - 7   \n",
       "16 -14.8   -0.49  W L D W W       30505                   Matheus Cunha - 13   \n",
       "17 -30.9   -1.03  L L L L W       29781                      Liam Delap - 11   \n",
       "18 -29.9   -1.00  L L L L L       31566                      Jamie Vardy - 7   \n",
       "19 -40.7   -1.36  L L L L D       31025                     Paul Onuachu - 4   \n",
       "\n",
       "           Goalkeeper  Notes  \n",
       "0             Alisson    NaN  \n",
       "1          David Raya    NaN  \n",
       "2           Matz Sels    NaN  \n",
       "3      Robert Sánchez    NaN  \n",
       "4             Ederson    NaN  \n",
       "5           Nick Pope    NaN  \n",
       "6   Emiliano Martínez    NaN  \n",
       "7     Bart Verbruggen    NaN  \n",
       "8          Bernd Leno    NaN  \n",
       "9   Kepa Arrizabalaga    NaN  \n",
       "10       Mark Flekken    NaN  \n",
       "11     Dean Henderson    NaN  \n",
       "12        André Onana    NaN  \n",
       "13  Guglielmo Vicario    NaN  \n",
       "14    Jordan Pickford    NaN  \n",
       "15    Alphonse Areola    NaN  \n",
       "16            José Sá    NaN  \n",
       "17     Arijanet Muric    NaN  \n",
       "18     Mads Hermansen    NaN  \n",
       "19     Aaron Ramsdale    NaN  "
      ]
     },
     "execution_count": 24,
     "metadata": {},
     "output_type": "execute_result"
    }
   ],
   "source": [
    "league_table = pd.read_html('https://fbref.com/en/comps/9/Premier-League-Stats')[0]\n",
    "league_table"
   ]
  },
  {
   "cell_type": "code",
   "execution_count": 25,
   "metadata": {},
   "outputs": [
    {
     "data": {
      "text/html": [
       "<div>\n",
       "<style scoped>\n",
       "    .dataframe tbody tr th:only-of-type {\n",
       "        vertical-align: middle;\n",
       "    }\n",
       "\n",
       "    .dataframe tbody tr th {\n",
       "        vertical-align: top;\n",
       "    }\n",
       "\n",
       "    .dataframe thead th {\n",
       "        text-align: right;\n",
       "    }\n",
       "</style>\n",
       "<table border=\"1\" class=\"dataframe\">\n",
       "  <thead>\n",
       "    <tr style=\"text-align: right;\">\n",
       "      <th></th>\n",
       "      <th>code</th>\n",
       "      <th>event</th>\n",
       "      <th>finished</th>\n",
       "      <th>finished_provisional</th>\n",
       "      <th>id</th>\n",
       "      <th>kickoff_time</th>\n",
       "      <th>minutes</th>\n",
       "      <th>provisional_start_time</th>\n",
       "      <th>started</th>\n",
       "      <th>team_a</th>\n",
       "      <th>team_a_score</th>\n",
       "      <th>team_h</th>\n",
       "      <th>team_h_score</th>\n",
       "      <th>stats</th>\n",
       "      <th>team_h_difficulty</th>\n",
       "      <th>team_a_difficulty</th>\n",
       "      <th>pulse_id</th>\n",
       "      <th>home_team</th>\n",
       "      <th>away_team</th>\n",
       "    </tr>\n",
       "  </thead>\n",
       "  <tbody>\n",
       "    <tr>\n",
       "      <th>0</th>\n",
       "      <td>2444470</td>\n",
       "      <td>1</td>\n",
       "      <td>True</td>\n",
       "      <td>True</td>\n",
       "      <td>1</td>\n",
       "      <td>2024-08-16T19:00:00Z</td>\n",
       "      <td>90</td>\n",
       "      <td>False</td>\n",
       "      <td>True</td>\n",
       "      <td>9</td>\n",
       "      <td>0.0</td>\n",
       "      <td>14</td>\n",
       "      <td>1.0</td>\n",
       "      <td>[{'identifier': 'goals_scored', 'a': [], 'h': ...</td>\n",
       "      <td>3</td>\n",
       "      <td>3</td>\n",
       "      <td>115827</td>\n",
       "      <td>Manchester Utd</td>\n",
       "      <td>Fulham</td>\n",
       "    </tr>\n",
       "    <tr>\n",
       "      <th>1</th>\n",
       "      <td>2444473</td>\n",
       "      <td>1</td>\n",
       "      <td>True</td>\n",
       "      <td>True</td>\n",
       "      <td>4</td>\n",
       "      <td>2024-08-17T11:30:00Z</td>\n",
       "      <td>90</td>\n",
       "      <td>False</td>\n",
       "      <td>True</td>\n",
       "      <td>12</td>\n",
       "      <td>2.0</td>\n",
       "      <td>10</td>\n",
       "      <td>0.0</td>\n",
       "      <td>[{'identifier': 'goals_scored', 'a': [{'value'...</td>\n",
       "      <td>5</td>\n",
       "      <td>2</td>\n",
       "      <td>115830</td>\n",
       "      <td>Ipswich Town</td>\n",
       "      <td>Liverpool</td>\n",
       "    </tr>\n",
       "    <tr>\n",
       "      <th>2</th>\n",
       "      <td>2444471</td>\n",
       "      <td>1</td>\n",
       "      <td>True</td>\n",
       "      <td>True</td>\n",
       "      <td>2</td>\n",
       "      <td>2024-08-17T14:00:00Z</td>\n",
       "      <td>90</td>\n",
       "      <td>False</td>\n",
       "      <td>True</td>\n",
       "      <td>20</td>\n",
       "      <td>0.0</td>\n",
       "      <td>1</td>\n",
       "      <td>2.0</td>\n",
       "      <td>[{'identifier': 'goals_scored', 'a': [], 'h': ...</td>\n",
       "      <td>2</td>\n",
       "      <td>4</td>\n",
       "      <td>115828</td>\n",
       "      <td>Arsenal</td>\n",
       "      <td>Wolves</td>\n",
       "    </tr>\n",
       "    <tr>\n",
       "      <th>3</th>\n",
       "      <td>2444472</td>\n",
       "      <td>1</td>\n",
       "      <td>True</td>\n",
       "      <td>True</td>\n",
       "      <td>3</td>\n",
       "      <td>2024-08-17T14:00:00Z</td>\n",
       "      <td>90</td>\n",
       "      <td>False</td>\n",
       "      <td>True</td>\n",
       "      <td>5</td>\n",
       "      <td>3.0</td>\n",
       "      <td>8</td>\n",
       "      <td>0.0</td>\n",
       "      <td>[{'identifier': 'goals_scored', 'a': [{'value'...</td>\n",
       "      <td>3</td>\n",
       "      <td>3</td>\n",
       "      <td>115829</td>\n",
       "      <td>Everton</td>\n",
       "      <td>Brighton</td>\n",
       "    </tr>\n",
       "    <tr>\n",
       "      <th>4</th>\n",
       "      <td>2444474</td>\n",
       "      <td>1</td>\n",
       "      <td>True</td>\n",
       "      <td>True</td>\n",
       "      <td>5</td>\n",
       "      <td>2024-08-17T14:00:00Z</td>\n",
       "      <td>90</td>\n",
       "      <td>False</td>\n",
       "      <td>True</td>\n",
       "      <td>17</td>\n",
       "      <td>0.0</td>\n",
       "      <td>15</td>\n",
       "      <td>1.0</td>\n",
       "      <td>[{'identifier': 'goals_scored', 'a': [], 'h': ...</td>\n",
       "      <td>2</td>\n",
       "      <td>4</td>\n",
       "      <td>115831</td>\n",
       "      <td>Newcastle Utd</td>\n",
       "      <td>Southampton</td>\n",
       "    </tr>\n",
       "    <tr>\n",
       "      <th>...</th>\n",
       "      <td>...</td>\n",
       "      <td>...</td>\n",
       "      <td>...</td>\n",
       "      <td>...</td>\n",
       "      <td>...</td>\n",
       "      <td>...</td>\n",
       "      <td>...</td>\n",
       "      <td>...</td>\n",
       "      <td>...</td>\n",
       "      <td>...</td>\n",
       "      <td>...</td>\n",
       "      <td>...</td>\n",
       "      <td>...</td>\n",
       "      <td>...</td>\n",
       "      <td>...</td>\n",
       "      <td>...</td>\n",
       "      <td>...</td>\n",
       "      <td>...</td>\n",
       "      <td>...</td>\n",
       "    </tr>\n",
       "    <tr>\n",
       "      <th>375</th>\n",
       "      <td>2444845</td>\n",
       "      <td>38</td>\n",
       "      <td>False</td>\n",
       "      <td>False</td>\n",
       "      <td>376</td>\n",
       "      <td>2025-05-25T15:00:00Z</td>\n",
       "      <td>0</td>\n",
       "      <td>False</td>\n",
       "      <td>False</td>\n",
       "      <td>8</td>\n",
       "      <td>NaN</td>\n",
       "      <td>15</td>\n",
       "      <td>NaN</td>\n",
       "      <td>[]</td>\n",
       "      <td>2</td>\n",
       "      <td>4</td>\n",
       "      <td>116202</td>\n",
       "      <td>Newcastle Utd</td>\n",
       "      <td>Everton</td>\n",
       "    </tr>\n",
       "    <tr>\n",
       "      <th>376</th>\n",
       "      <td>2444846</td>\n",
       "      <td>38</td>\n",
       "      <td>False</td>\n",
       "      <td>False</td>\n",
       "      <td>377</td>\n",
       "      <td>2025-05-25T15:00:00Z</td>\n",
       "      <td>0</td>\n",
       "      <td>False</td>\n",
       "      <td>False</td>\n",
       "      <td>6</td>\n",
       "      <td>NaN</td>\n",
       "      <td>16</td>\n",
       "      <td>NaN</td>\n",
       "      <td>[]</td>\n",
       "      <td>4</td>\n",
       "      <td>4</td>\n",
       "      <td>116203</td>\n",
       "      <td>Nott'ham Forest</td>\n",
       "      <td>Chelsea</td>\n",
       "    </tr>\n",
       "    <tr>\n",
       "      <th>377</th>\n",
       "      <td>2444847</td>\n",
       "      <td>38</td>\n",
       "      <td>False</td>\n",
       "      <td>False</td>\n",
       "      <td>378</td>\n",
       "      <td>2025-05-25T15:00:00Z</td>\n",
       "      <td>0</td>\n",
       "      <td>False</td>\n",
       "      <td>False</td>\n",
       "      <td>1</td>\n",
       "      <td>NaN</td>\n",
       "      <td>17</td>\n",
       "      <td>NaN</td>\n",
       "      <td>[]</td>\n",
       "      <td>4</td>\n",
       "      <td>2</td>\n",
       "      <td>116204</td>\n",
       "      <td>Southampton</td>\n",
       "      <td>Arsenal</td>\n",
       "    </tr>\n",
       "    <tr>\n",
       "      <th>378</th>\n",
       "      <td>2444848</td>\n",
       "      <td>38</td>\n",
       "      <td>False</td>\n",
       "      <td>False</td>\n",
       "      <td>379</td>\n",
       "      <td>2025-05-25T15:00:00Z</td>\n",
       "      <td>0</td>\n",
       "      <td>False</td>\n",
       "      <td>False</td>\n",
       "      <td>5</td>\n",
       "      <td>NaN</td>\n",
       "      <td>18</td>\n",
       "      <td>NaN</td>\n",
       "      <td>[]</td>\n",
       "      <td>3</td>\n",
       "      <td>3</td>\n",
       "      <td>116205</td>\n",
       "      <td>Tottenham</td>\n",
       "      <td>Brighton</td>\n",
       "    </tr>\n",
       "    <tr>\n",
       "      <th>379</th>\n",
       "      <td>2444849</td>\n",
       "      <td>38</td>\n",
       "      <td>False</td>\n",
       "      <td>False</td>\n",
       "      <td>380</td>\n",
       "      <td>2025-05-25T15:00:00Z</td>\n",
       "      <td>0</td>\n",
       "      <td>False</td>\n",
       "      <td>False</td>\n",
       "      <td>4</td>\n",
       "      <td>NaN</td>\n",
       "      <td>20</td>\n",
       "      <td>NaN</td>\n",
       "      <td>[]</td>\n",
       "      <td>2</td>\n",
       "      <td>2</td>\n",
       "      <td>116206</td>\n",
       "      <td>Wolves</td>\n",
       "      <td>Brentford</td>\n",
       "    </tr>\n",
       "  </tbody>\n",
       "</table>\n",
       "<p>380 rows × 19 columns</p>\n",
       "</div>"
      ],
      "text/plain": [
       "        code  event  finished  finished_provisional   id  \\\n",
       "0    2444470      1      True                  True    1   \n",
       "1    2444473      1      True                  True    4   \n",
       "2    2444471      1      True                  True    2   \n",
       "3    2444472      1      True                  True    3   \n",
       "4    2444474      1      True                  True    5   \n",
       "..       ...    ...       ...                   ...  ...   \n",
       "375  2444845     38     False                 False  376   \n",
       "376  2444846     38     False                 False  377   \n",
       "377  2444847     38     False                 False  378   \n",
       "378  2444848     38     False                 False  379   \n",
       "379  2444849     38     False                 False  380   \n",
       "\n",
       "             kickoff_time  minutes  provisional_start_time  started  team_a  \\\n",
       "0    2024-08-16T19:00:00Z       90                   False     True       9   \n",
       "1    2024-08-17T11:30:00Z       90                   False     True      12   \n",
       "2    2024-08-17T14:00:00Z       90                   False     True      20   \n",
       "3    2024-08-17T14:00:00Z       90                   False     True       5   \n",
       "4    2024-08-17T14:00:00Z       90                   False     True      17   \n",
       "..                    ...      ...                     ...      ...     ...   \n",
       "375  2025-05-25T15:00:00Z        0                   False    False       8   \n",
       "376  2025-05-25T15:00:00Z        0                   False    False       6   \n",
       "377  2025-05-25T15:00:00Z        0                   False    False       1   \n",
       "378  2025-05-25T15:00:00Z        0                   False    False       5   \n",
       "379  2025-05-25T15:00:00Z        0                   False    False       4   \n",
       "\n",
       "     team_a_score  team_h  team_h_score  \\\n",
       "0             0.0      14           1.0   \n",
       "1             2.0      10           0.0   \n",
       "2             0.0       1           2.0   \n",
       "3             3.0       8           0.0   \n",
       "4             0.0      15           1.0   \n",
       "..            ...     ...           ...   \n",
       "375           NaN      15           NaN   \n",
       "376           NaN      16           NaN   \n",
       "377           NaN      17           NaN   \n",
       "378           NaN      18           NaN   \n",
       "379           NaN      20           NaN   \n",
       "\n",
       "                                                 stats  team_h_difficulty  \\\n",
       "0    [{'identifier': 'goals_scored', 'a': [], 'h': ...                  3   \n",
       "1    [{'identifier': 'goals_scored', 'a': [{'value'...                  5   \n",
       "2    [{'identifier': 'goals_scored', 'a': [], 'h': ...                  2   \n",
       "3    [{'identifier': 'goals_scored', 'a': [{'value'...                  3   \n",
       "4    [{'identifier': 'goals_scored', 'a': [], 'h': ...                  2   \n",
       "..                                                 ...                ...   \n",
       "375                                                 []                  2   \n",
       "376                                                 []                  4   \n",
       "377                                                 []                  4   \n",
       "378                                                 []                  3   \n",
       "379                                                 []                  2   \n",
       "\n",
       "     team_a_difficulty  pulse_id        home_team    away_team  \n",
       "0                    3    115827   Manchester Utd       Fulham  \n",
       "1                    2    115830     Ipswich Town    Liverpool  \n",
       "2                    4    115828          Arsenal       Wolves  \n",
       "3                    3    115829          Everton     Brighton  \n",
       "4                    4    115831    Newcastle Utd  Southampton  \n",
       "..                 ...       ...              ...          ...  \n",
       "375                  4    116202    Newcastle Utd      Everton  \n",
       "376                  4    116203  Nott'ham Forest      Chelsea  \n",
       "377                  2    116204      Southampton      Arsenal  \n",
       "378                  3    116205        Tottenham     Brighton  \n",
       "379                  2    116206           Wolves    Brentford  \n",
       "\n",
       "[380 rows x 19 columns]"
      ]
     },
     "execution_count": 25,
     "metadata": {},
     "output_type": "execute_result"
    }
   ],
   "source": [
    "fpl_fixtures_data = json.loads(requests.get('https://fantasy.premierleague.com/api/fixtures/').text)\n",
    "fpl_fixtures = pd.DataFrame(fpl_fixtures_data)\n",
    "fpl_fixtures['home_team'] = [teams[i] for i in fpl_fixtures['team_h']-1]\n",
    "fpl_fixtures['away_team'] = [teams[i] for i in fpl_fixtures['team_a']-1]\n",
    "fpl_fixtures"
   ]
  },
  {
   "cell_type": "code",
   "execution_count": 26,
   "metadata": {},
   "outputs": [
    {
     "data": {
      "text/html": [
       "<div>\n",
       "<style scoped>\n",
       "    .dataframe tbody tr th:only-of-type {\n",
       "        vertical-align: middle;\n",
       "    }\n",
       "\n",
       "    .dataframe tbody tr th {\n",
       "        vertical-align: top;\n",
       "    }\n",
       "\n",
       "    .dataframe thead th {\n",
       "        text-align: right;\n",
       "    }\n",
       "</style>\n",
       "<table border=\"1\" class=\"dataframe\">\n",
       "  <thead>\n",
       "    <tr style=\"text-align: right;\">\n",
       "      <th></th>\n",
       "      <th>code</th>\n",
       "      <th>event</th>\n",
       "      <th>finished</th>\n",
       "      <th>finished_provisional</th>\n",
       "      <th>id</th>\n",
       "      <th>kickoff_time</th>\n",
       "      <th>minutes</th>\n",
       "      <th>provisional_start_time</th>\n",
       "      <th>started</th>\n",
       "      <th>team_a</th>\n",
       "      <th>team_a_score</th>\n",
       "      <th>team_h</th>\n",
       "      <th>team_h_score</th>\n",
       "      <th>stats</th>\n",
       "      <th>team_h_difficulty</th>\n",
       "      <th>team_a_difficulty</th>\n",
       "      <th>pulse_id</th>\n",
       "      <th>home_team</th>\n",
       "      <th>away_team</th>\n",
       "    </tr>\n",
       "  </thead>\n",
       "  <tbody>\n",
       "    <tr>\n",
       "      <th>0</th>\n",
       "      <td>2444773</td>\n",
       "      <td>31</td>\n",
       "      <td>False</td>\n",
       "      <td>False</td>\n",
       "      <td>304</td>\n",
       "      <td>2025-04-05T11:30:00Z</td>\n",
       "      <td>0</td>\n",
       "      <td>False</td>\n",
       "      <td>False</td>\n",
       "      <td>1</td>\n",
       "      <td>NaN</td>\n",
       "      <td>8</td>\n",
       "      <td>NaN</td>\n",
       "      <td>[]</td>\n",
       "      <td>4</td>\n",
       "      <td>3</td>\n",
       "      <td>116130</td>\n",
       "      <td>Everton</td>\n",
       "      <td>Arsenal</td>\n",
       "    </tr>\n",
       "    <tr>\n",
       "      <th>1</th>\n",
       "      <td>2444772</td>\n",
       "      <td>31</td>\n",
       "      <td>False</td>\n",
       "      <td>False</td>\n",
       "      <td>303</td>\n",
       "      <td>2025-04-05T14:00:00Z</td>\n",
       "      <td>0</td>\n",
       "      <td>False</td>\n",
       "      <td>False</td>\n",
       "      <td>5</td>\n",
       "      <td>NaN</td>\n",
       "      <td>7</td>\n",
       "      <td>NaN</td>\n",
       "      <td>[]</td>\n",
       "      <td>3</td>\n",
       "      <td>3</td>\n",
       "      <td>116129</td>\n",
       "      <td>Crystal Palace</td>\n",
       "      <td>Brighton</td>\n",
       "    </tr>\n",
       "    <tr>\n",
       "      <th>2</th>\n",
       "      <td>2444775</td>\n",
       "      <td>31</td>\n",
       "      <td>False</td>\n",
       "      <td>False</td>\n",
       "      <td>306</td>\n",
       "      <td>2025-04-05T14:00:00Z</td>\n",
       "      <td>0</td>\n",
       "      <td>False</td>\n",
       "      <td>False</td>\n",
       "      <td>20</td>\n",
       "      <td>NaN</td>\n",
       "      <td>10</td>\n",
       "      <td>NaN</td>\n",
       "      <td>[]</td>\n",
       "      <td>2</td>\n",
       "      <td>2</td>\n",
       "      <td>116132</td>\n",
       "      <td>Ipswich Town</td>\n",
       "      <td>Wolves</td>\n",
       "    </tr>\n",
       "    <tr>\n",
       "      <th>3</th>\n",
       "      <td>2444779</td>\n",
       "      <td>31</td>\n",
       "      <td>False</td>\n",
       "      <td>False</td>\n",
       "      <td>310</td>\n",
       "      <td>2025-04-05T14:00:00Z</td>\n",
       "      <td>0</td>\n",
       "      <td>False</td>\n",
       "      <td>False</td>\n",
       "      <td>3</td>\n",
       "      <td>NaN</td>\n",
       "      <td>19</td>\n",
       "      <td>NaN</td>\n",
       "      <td>[]</td>\n",
       "      <td>3</td>\n",
       "      <td>2</td>\n",
       "      <td>116136</td>\n",
       "      <td>West Ham</td>\n",
       "      <td>Bournemouth</td>\n",
       "    </tr>\n",
       "    <tr>\n",
       "      <th>4</th>\n",
       "      <td>2444770</td>\n",
       "      <td>31</td>\n",
       "      <td>False</td>\n",
       "      <td>False</td>\n",
       "      <td>301</td>\n",
       "      <td>2025-04-05T16:30:00Z</td>\n",
       "      <td>0</td>\n",
       "      <td>False</td>\n",
       "      <td>False</td>\n",
       "      <td>16</td>\n",
       "      <td>NaN</td>\n",
       "      <td>2</td>\n",
       "      <td>NaN</td>\n",
       "      <td>[]</td>\n",
       "      <td>3</td>\n",
       "      <td>3</td>\n",
       "      <td>116127</td>\n",
       "      <td>Aston Villa</td>\n",
       "      <td>Nott'ham Forest</td>\n",
       "    </tr>\n",
       "    <tr>\n",
       "      <th>...</th>\n",
       "      <td>...</td>\n",
       "      <td>...</td>\n",
       "      <td>...</td>\n",
       "      <td>...</td>\n",
       "      <td>...</td>\n",
       "      <td>...</td>\n",
       "      <td>...</td>\n",
       "      <td>...</td>\n",
       "      <td>...</td>\n",
       "      <td>...</td>\n",
       "      <td>...</td>\n",
       "      <td>...</td>\n",
       "      <td>...</td>\n",
       "      <td>...</td>\n",
       "      <td>...</td>\n",
       "      <td>...</td>\n",
       "      <td>...</td>\n",
       "      <td>...</td>\n",
       "      <td>...</td>\n",
       "    </tr>\n",
       "    <tr>\n",
       "      <th>76</th>\n",
       "      <td>2444845</td>\n",
       "      <td>38</td>\n",
       "      <td>False</td>\n",
       "      <td>False</td>\n",
       "      <td>376</td>\n",
       "      <td>2025-05-25T15:00:00Z</td>\n",
       "      <td>0</td>\n",
       "      <td>False</td>\n",
       "      <td>False</td>\n",
       "      <td>8</td>\n",
       "      <td>NaN</td>\n",
       "      <td>15</td>\n",
       "      <td>NaN</td>\n",
       "      <td>[]</td>\n",
       "      <td>2</td>\n",
       "      <td>4</td>\n",
       "      <td>116202</td>\n",
       "      <td>Newcastle Utd</td>\n",
       "      <td>Everton</td>\n",
       "    </tr>\n",
       "    <tr>\n",
       "      <th>77</th>\n",
       "      <td>2444846</td>\n",
       "      <td>38</td>\n",
       "      <td>False</td>\n",
       "      <td>False</td>\n",
       "      <td>377</td>\n",
       "      <td>2025-05-25T15:00:00Z</td>\n",
       "      <td>0</td>\n",
       "      <td>False</td>\n",
       "      <td>False</td>\n",
       "      <td>6</td>\n",
       "      <td>NaN</td>\n",
       "      <td>16</td>\n",
       "      <td>NaN</td>\n",
       "      <td>[]</td>\n",
       "      <td>4</td>\n",
       "      <td>4</td>\n",
       "      <td>116203</td>\n",
       "      <td>Nott'ham Forest</td>\n",
       "      <td>Chelsea</td>\n",
       "    </tr>\n",
       "    <tr>\n",
       "      <th>78</th>\n",
       "      <td>2444847</td>\n",
       "      <td>38</td>\n",
       "      <td>False</td>\n",
       "      <td>False</td>\n",
       "      <td>378</td>\n",
       "      <td>2025-05-25T15:00:00Z</td>\n",
       "      <td>0</td>\n",
       "      <td>False</td>\n",
       "      <td>False</td>\n",
       "      <td>1</td>\n",
       "      <td>NaN</td>\n",
       "      <td>17</td>\n",
       "      <td>NaN</td>\n",
       "      <td>[]</td>\n",
       "      <td>4</td>\n",
       "      <td>2</td>\n",
       "      <td>116204</td>\n",
       "      <td>Southampton</td>\n",
       "      <td>Arsenal</td>\n",
       "    </tr>\n",
       "    <tr>\n",
       "      <th>79</th>\n",
       "      <td>2444848</td>\n",
       "      <td>38</td>\n",
       "      <td>False</td>\n",
       "      <td>False</td>\n",
       "      <td>379</td>\n",
       "      <td>2025-05-25T15:00:00Z</td>\n",
       "      <td>0</td>\n",
       "      <td>False</td>\n",
       "      <td>False</td>\n",
       "      <td>5</td>\n",
       "      <td>NaN</td>\n",
       "      <td>18</td>\n",
       "      <td>NaN</td>\n",
       "      <td>[]</td>\n",
       "      <td>3</td>\n",
       "      <td>3</td>\n",
       "      <td>116205</td>\n",
       "      <td>Tottenham</td>\n",
       "      <td>Brighton</td>\n",
       "    </tr>\n",
       "    <tr>\n",
       "      <th>80</th>\n",
       "      <td>2444849</td>\n",
       "      <td>38</td>\n",
       "      <td>False</td>\n",
       "      <td>False</td>\n",
       "      <td>380</td>\n",
       "      <td>2025-05-25T15:00:00Z</td>\n",
       "      <td>0</td>\n",
       "      <td>False</td>\n",
       "      <td>False</td>\n",
       "      <td>4</td>\n",
       "      <td>NaN</td>\n",
       "      <td>20</td>\n",
       "      <td>NaN</td>\n",
       "      <td>[]</td>\n",
       "      <td>2</td>\n",
       "      <td>2</td>\n",
       "      <td>116206</td>\n",
       "      <td>Wolves</td>\n",
       "      <td>Brentford</td>\n",
       "    </tr>\n",
       "  </tbody>\n",
       "</table>\n",
       "<p>81 rows × 19 columns</p>\n",
       "</div>"
      ],
      "text/plain": [
       "       code  event  finished  finished_provisional   id          kickoff_time  \\\n",
       "0   2444773     31     False                 False  304  2025-04-05T11:30:00Z   \n",
       "1   2444772     31     False                 False  303  2025-04-05T14:00:00Z   \n",
       "2   2444775     31     False                 False  306  2025-04-05T14:00:00Z   \n",
       "3   2444779     31     False                 False  310  2025-04-05T14:00:00Z   \n",
       "4   2444770     31     False                 False  301  2025-04-05T16:30:00Z   \n",
       "..      ...    ...       ...                   ...  ...                   ...   \n",
       "76  2444845     38     False                 False  376  2025-05-25T15:00:00Z   \n",
       "77  2444846     38     False                 False  377  2025-05-25T15:00:00Z   \n",
       "78  2444847     38     False                 False  378  2025-05-25T15:00:00Z   \n",
       "79  2444848     38     False                 False  379  2025-05-25T15:00:00Z   \n",
       "80  2444849     38     False                 False  380  2025-05-25T15:00:00Z   \n",
       "\n",
       "    minutes  provisional_start_time  started  team_a  team_a_score  team_h  \\\n",
       "0         0                   False    False       1           NaN       8   \n",
       "1         0                   False    False       5           NaN       7   \n",
       "2         0                   False    False      20           NaN      10   \n",
       "3         0                   False    False       3           NaN      19   \n",
       "4         0                   False    False      16           NaN       2   \n",
       "..      ...                     ...      ...     ...           ...     ...   \n",
       "76        0                   False    False       8           NaN      15   \n",
       "77        0                   False    False       6           NaN      16   \n",
       "78        0                   False    False       1           NaN      17   \n",
       "79        0                   False    False       5           NaN      18   \n",
       "80        0                   False    False       4           NaN      20   \n",
       "\n",
       "    team_h_score stats  team_h_difficulty  team_a_difficulty  pulse_id  \\\n",
       "0            NaN    []                  4                  3    116130   \n",
       "1            NaN    []                  3                  3    116129   \n",
       "2            NaN    []                  2                  2    116132   \n",
       "3            NaN    []                  3                  2    116136   \n",
       "4            NaN    []                  3                  3    116127   \n",
       "..           ...   ...                ...                ...       ...   \n",
       "76           NaN    []                  2                  4    116202   \n",
       "77           NaN    []                  4                  4    116203   \n",
       "78           NaN    []                  4                  2    116204   \n",
       "79           NaN    []                  3                  3    116205   \n",
       "80           NaN    []                  2                  2    116206   \n",
       "\n",
       "          home_team        away_team  \n",
       "0           Everton          Arsenal  \n",
       "1    Crystal Palace         Brighton  \n",
       "2      Ipswich Town           Wolves  \n",
       "3          West Ham      Bournemouth  \n",
       "4       Aston Villa  Nott'ham Forest  \n",
       "..              ...              ...  \n",
       "76    Newcastle Utd          Everton  \n",
       "77  Nott'ham Forest          Chelsea  \n",
       "78      Southampton          Arsenal  \n",
       "79        Tottenham         Brighton  \n",
       "80           Wolves        Brentford  \n",
       "\n",
       "[81 rows x 19 columns]"
      ]
     },
     "execution_count": 26,
     "metadata": {},
     "output_type": "execute_result"
    }
   ],
   "source": [
    "fixtures = fpl_fixtures[fpl_fixtures['team_h_score'].isnull()].reset_index(drop=True)\n",
    "fixtures"
   ]
  },
  {
   "cell_type": "code",
   "execution_count": 27,
   "metadata": {},
   "outputs": [
    {
     "data": {
      "text/html": [
       "<div>\n",
       "<style scoped>\n",
       "    .dataframe tbody tr th:only-of-type {\n",
       "        vertical-align: middle;\n",
       "    }\n",
       "\n",
       "    .dataframe tbody tr th {\n",
       "        vertical-align: top;\n",
       "    }\n",
       "\n",
       "    .dataframe thead th {\n",
       "        text-align: right;\n",
       "    }\n",
       "</style>\n",
       "<table border=\"1\" class=\"dataframe\">\n",
       "  <thead>\n",
       "    <tr style=\"text-align: right;\">\n",
       "      <th></th>\n",
       "      <th>code</th>\n",
       "      <th>event</th>\n",
       "      <th>finished</th>\n",
       "      <th>finished_provisional</th>\n",
       "      <th>id</th>\n",
       "      <th>kickoff_time</th>\n",
       "      <th>minutes</th>\n",
       "      <th>provisional_start_time</th>\n",
       "      <th>started</th>\n",
       "      <th>team_a</th>\n",
       "      <th>...</th>\n",
       "      <th>team_h_score</th>\n",
       "      <th>stats</th>\n",
       "      <th>team_h_difficulty</th>\n",
       "      <th>team_a_difficulty</th>\n",
       "      <th>pulse_id</th>\n",
       "      <th>home_team</th>\n",
       "      <th>away_team</th>\n",
       "      <th>home_win_probability</th>\n",
       "      <th>draw_probability</th>\n",
       "      <th>away_win_probability</th>\n",
       "    </tr>\n",
       "  </thead>\n",
       "  <tbody>\n",
       "    <tr>\n",
       "      <th>0</th>\n",
       "      <td>2444773</td>\n",
       "      <td>31</td>\n",
       "      <td>False</td>\n",
       "      <td>False</td>\n",
       "      <td>304</td>\n",
       "      <td>2025-04-05T11:30:00Z</td>\n",
       "      <td>0</td>\n",
       "      <td>False</td>\n",
       "      <td>False</td>\n",
       "      <td>1</td>\n",
       "      <td>...</td>\n",
       "      <td>NaN</td>\n",
       "      <td>[]</td>\n",
       "      <td>4</td>\n",
       "      <td>3</td>\n",
       "      <td>116130</td>\n",
       "      <td>Everton</td>\n",
       "      <td>Arsenal</td>\n",
       "      <td>0.144863</td>\n",
       "      <td>0.269257</td>\n",
       "      <td>0.585879</td>\n",
       "    </tr>\n",
       "    <tr>\n",
       "      <th>1</th>\n",
       "      <td>2444772</td>\n",
       "      <td>31</td>\n",
       "      <td>False</td>\n",
       "      <td>False</td>\n",
       "      <td>303</td>\n",
       "      <td>2025-04-05T14:00:00Z</td>\n",
       "      <td>0</td>\n",
       "      <td>False</td>\n",
       "      <td>False</td>\n",
       "      <td>5</td>\n",
       "      <td>...</td>\n",
       "      <td>NaN</td>\n",
       "      <td>[]</td>\n",
       "      <td>3</td>\n",
       "      <td>3</td>\n",
       "      <td>116129</td>\n",
       "      <td>Crystal Palace</td>\n",
       "      <td>Brighton</td>\n",
       "      <td>0.526115</td>\n",
       "      <td>0.240378</td>\n",
       "      <td>0.233505</td>\n",
       "    </tr>\n",
       "    <tr>\n",
       "      <th>2</th>\n",
       "      <td>2444775</td>\n",
       "      <td>31</td>\n",
       "      <td>False</td>\n",
       "      <td>False</td>\n",
       "      <td>306</td>\n",
       "      <td>2025-04-05T14:00:00Z</td>\n",
       "      <td>0</td>\n",
       "      <td>False</td>\n",
       "      <td>False</td>\n",
       "      <td>20</td>\n",
       "      <td>...</td>\n",
       "      <td>NaN</td>\n",
       "      <td>[]</td>\n",
       "      <td>2</td>\n",
       "      <td>2</td>\n",
       "      <td>116132</td>\n",
       "      <td>Ipswich Town</td>\n",
       "      <td>Wolves</td>\n",
       "      <td>0.312141</td>\n",
       "      <td>0.236935</td>\n",
       "      <td>0.450922</td>\n",
       "    </tr>\n",
       "    <tr>\n",
       "      <th>3</th>\n",
       "      <td>2444779</td>\n",
       "      <td>31</td>\n",
       "      <td>False</td>\n",
       "      <td>False</td>\n",
       "      <td>310</td>\n",
       "      <td>2025-04-05T14:00:00Z</td>\n",
       "      <td>0</td>\n",
       "      <td>False</td>\n",
       "      <td>False</td>\n",
       "      <td>3</td>\n",
       "      <td>...</td>\n",
       "      <td>NaN</td>\n",
       "      <td>[]</td>\n",
       "      <td>3</td>\n",
       "      <td>2</td>\n",
       "      <td>116136</td>\n",
       "      <td>West Ham</td>\n",
       "      <td>Bournemouth</td>\n",
       "      <td>0.244386</td>\n",
       "      <td>0.239918</td>\n",
       "      <td>0.515694</td>\n",
       "    </tr>\n",
       "    <tr>\n",
       "      <th>4</th>\n",
       "      <td>2444770</td>\n",
       "      <td>31</td>\n",
       "      <td>False</td>\n",
       "      <td>False</td>\n",
       "      <td>301</td>\n",
       "      <td>2025-04-05T16:30:00Z</td>\n",
       "      <td>0</td>\n",
       "      <td>False</td>\n",
       "      <td>False</td>\n",
       "      <td>16</td>\n",
       "      <td>...</td>\n",
       "      <td>NaN</td>\n",
       "      <td>[]</td>\n",
       "      <td>3</td>\n",
       "      <td>3</td>\n",
       "      <td>116127</td>\n",
       "      <td>Aston Villa</td>\n",
       "      <td>Nott'ham Forest</td>\n",
       "      <td>0.344986</td>\n",
       "      <td>0.239942</td>\n",
       "      <td>0.415071</td>\n",
       "    </tr>\n",
       "    <tr>\n",
       "      <th>...</th>\n",
       "      <td>...</td>\n",
       "      <td>...</td>\n",
       "      <td>...</td>\n",
       "      <td>...</td>\n",
       "      <td>...</td>\n",
       "      <td>...</td>\n",
       "      <td>...</td>\n",
       "      <td>...</td>\n",
       "      <td>...</td>\n",
       "      <td>...</td>\n",
       "      <td>...</td>\n",
       "      <td>...</td>\n",
       "      <td>...</td>\n",
       "      <td>...</td>\n",
       "      <td>...</td>\n",
       "      <td>...</td>\n",
       "      <td>...</td>\n",
       "      <td>...</td>\n",
       "      <td>...</td>\n",
       "      <td>...</td>\n",
       "      <td>...</td>\n",
       "    </tr>\n",
       "    <tr>\n",
       "      <th>76</th>\n",
       "      <td>2444845</td>\n",
       "      <td>38</td>\n",
       "      <td>False</td>\n",
       "      <td>False</td>\n",
       "      <td>376</td>\n",
       "      <td>2025-05-25T15:00:00Z</td>\n",
       "      <td>0</td>\n",
       "      <td>False</td>\n",
       "      <td>False</td>\n",
       "      <td>8</td>\n",
       "      <td>...</td>\n",
       "      <td>NaN</td>\n",
       "      <td>[]</td>\n",
       "      <td>2</td>\n",
       "      <td>4</td>\n",
       "      <td>116202</td>\n",
       "      <td>Newcastle Utd</td>\n",
       "      <td>Everton</td>\n",
       "      <td>0.521647</td>\n",
       "      <td>0.260805</td>\n",
       "      <td>0.217548</td>\n",
       "    </tr>\n",
       "    <tr>\n",
       "      <th>77</th>\n",
       "      <td>2444846</td>\n",
       "      <td>38</td>\n",
       "      <td>False</td>\n",
       "      <td>False</td>\n",
       "      <td>377</td>\n",
       "      <td>2025-05-25T15:00:00Z</td>\n",
       "      <td>0</td>\n",
       "      <td>False</td>\n",
       "      <td>False</td>\n",
       "      <td>6</td>\n",
       "      <td>...</td>\n",
       "      <td>NaN</td>\n",
       "      <td>[]</td>\n",
       "      <td>4</td>\n",
       "      <td>4</td>\n",
       "      <td>116203</td>\n",
       "      <td>Nott'ham Forest</td>\n",
       "      <td>Chelsea</td>\n",
       "      <td>0.341755</td>\n",
       "      <td>0.233711</td>\n",
       "      <td>0.424532</td>\n",
       "    </tr>\n",
       "    <tr>\n",
       "      <th>78</th>\n",
       "      <td>2444847</td>\n",
       "      <td>38</td>\n",
       "      <td>False</td>\n",
       "      <td>False</td>\n",
       "      <td>378</td>\n",
       "      <td>2025-05-25T15:00:00Z</td>\n",
       "      <td>0</td>\n",
       "      <td>False</td>\n",
       "      <td>False</td>\n",
       "      <td>1</td>\n",
       "      <td>...</td>\n",
       "      <td>NaN</td>\n",
       "      <td>[]</td>\n",
       "      <td>4</td>\n",
       "      <td>2</td>\n",
       "      <td>116204</td>\n",
       "      <td>Southampton</td>\n",
       "      <td>Arsenal</td>\n",
       "      <td>0.035086</td>\n",
       "      <td>0.105613</td>\n",
       "      <td>0.859162</td>\n",
       "    </tr>\n",
       "    <tr>\n",
       "      <th>79</th>\n",
       "      <td>2444848</td>\n",
       "      <td>38</td>\n",
       "      <td>False</td>\n",
       "      <td>False</td>\n",
       "      <td>379</td>\n",
       "      <td>2025-05-25T15:00:00Z</td>\n",
       "      <td>0</td>\n",
       "      <td>False</td>\n",
       "      <td>False</td>\n",
       "      <td>5</td>\n",
       "      <td>...</td>\n",
       "      <td>NaN</td>\n",
       "      <td>[]</td>\n",
       "      <td>3</td>\n",
       "      <td>3</td>\n",
       "      <td>116205</td>\n",
       "      <td>Tottenham</td>\n",
       "      <td>Brighton</td>\n",
       "      <td>0.505161</td>\n",
       "      <td>0.219565</td>\n",
       "      <td>0.275267</td>\n",
       "    </tr>\n",
       "    <tr>\n",
       "      <th>80</th>\n",
       "      <td>2444849</td>\n",
       "      <td>38</td>\n",
       "      <td>False</td>\n",
       "      <td>False</td>\n",
       "      <td>380</td>\n",
       "      <td>2025-05-25T15:00:00Z</td>\n",
       "      <td>0</td>\n",
       "      <td>False</td>\n",
       "      <td>False</td>\n",
       "      <td>4</td>\n",
       "      <td>...</td>\n",
       "      <td>NaN</td>\n",
       "      <td>[]</td>\n",
       "      <td>2</td>\n",
       "      <td>2</td>\n",
       "      <td>116206</td>\n",
       "      <td>Wolves</td>\n",
       "      <td>Brentford</td>\n",
       "      <td>0.258266</td>\n",
       "      <td>0.210803</td>\n",
       "      <td>0.530918</td>\n",
       "    </tr>\n",
       "  </tbody>\n",
       "</table>\n",
       "<p>81 rows × 22 columns</p>\n",
       "</div>"
      ],
      "text/plain": [
       "       code  event  finished  finished_provisional   id          kickoff_time  \\\n",
       "0   2444773     31     False                 False  304  2025-04-05T11:30:00Z   \n",
       "1   2444772     31     False                 False  303  2025-04-05T14:00:00Z   \n",
       "2   2444775     31     False                 False  306  2025-04-05T14:00:00Z   \n",
       "3   2444779     31     False                 False  310  2025-04-05T14:00:00Z   \n",
       "4   2444770     31     False                 False  301  2025-04-05T16:30:00Z   \n",
       "..      ...    ...       ...                   ...  ...                   ...   \n",
       "76  2444845     38     False                 False  376  2025-05-25T15:00:00Z   \n",
       "77  2444846     38     False                 False  377  2025-05-25T15:00:00Z   \n",
       "78  2444847     38     False                 False  378  2025-05-25T15:00:00Z   \n",
       "79  2444848     38     False                 False  379  2025-05-25T15:00:00Z   \n",
       "80  2444849     38     False                 False  380  2025-05-25T15:00:00Z   \n",
       "\n",
       "    minutes  provisional_start_time  started  team_a  ...  team_h_score  \\\n",
       "0         0                   False    False       1  ...           NaN   \n",
       "1         0                   False    False       5  ...           NaN   \n",
       "2         0                   False    False      20  ...           NaN   \n",
       "3         0                   False    False       3  ...           NaN   \n",
       "4         0                   False    False      16  ...           NaN   \n",
       "..      ...                     ...      ...     ...  ...           ...   \n",
       "76        0                   False    False       8  ...           NaN   \n",
       "77        0                   False    False       6  ...           NaN   \n",
       "78        0                   False    False       1  ...           NaN   \n",
       "79        0                   False    False       5  ...           NaN   \n",
       "80        0                   False    False       4  ...           NaN   \n",
       "\n",
       "    stats  team_h_difficulty team_a_difficulty  pulse_id        home_team  \\\n",
       "0      []                  4                 3    116130          Everton   \n",
       "1      []                  3                 3    116129   Crystal Palace   \n",
       "2      []                  2                 2    116132     Ipswich Town   \n",
       "3      []                  3                 2    116136         West Ham   \n",
       "4      []                  3                 3    116127      Aston Villa   \n",
       "..    ...                ...               ...       ...              ...   \n",
       "76     []                  2                 4    116202    Newcastle Utd   \n",
       "77     []                  4                 4    116203  Nott'ham Forest   \n",
       "78     []                  4                 2    116204      Southampton   \n",
       "79     []                  3                 3    116205        Tottenham   \n",
       "80     []                  2                 2    116206           Wolves   \n",
       "\n",
       "          away_team home_win_probability draw_probability  \\\n",
       "0           Arsenal             0.144863         0.269257   \n",
       "1          Brighton             0.526115         0.240378   \n",
       "2            Wolves             0.312141         0.236935   \n",
       "3       Bournemouth             0.244386         0.239918   \n",
       "4   Nott'ham Forest             0.344986         0.239942   \n",
       "..              ...                  ...              ...   \n",
       "76          Everton             0.521647         0.260805   \n",
       "77          Chelsea             0.341755         0.233711   \n",
       "78          Arsenal             0.035086         0.105613   \n",
       "79         Brighton             0.505161         0.219565   \n",
       "80        Brentford             0.258266         0.210803   \n",
       "\n",
       "    away_win_probability  \n",
       "0               0.585879  \n",
       "1               0.233505  \n",
       "2               0.450922  \n",
       "3               0.515694  \n",
       "4               0.415071  \n",
       "..                   ...  \n",
       "76              0.217548  \n",
       "77              0.424532  \n",
       "78              0.859162  \n",
       "79              0.275267  \n",
       "80              0.530918  \n",
       "\n",
       "[81 rows x 22 columns]"
      ]
     },
     "execution_count": 27,
     "metadata": {},
     "output_type": "execute_result"
    }
   ],
   "source": [
    "all_probabilities = []\n",
    "for _, fixture in fixtures.iterrows():\n",
    "    # probability of different scorelines\n",
    "    outcome_matrix = scoreline_probabilities(poisson_model, fixture['home_team'], fixture['away_team'])\n",
    "    # match outcome probabilities\n",
    "    probability_home_win = outcome_matrix[np.tril_indices_from(outcome_matrix, k=-1)].sum()\n",
    "    probability_draw = np.trace(outcome_matrix)\n",
    "    probability_away_win = outcome_matrix[np.triu_indices_from(outcome_matrix, k=1)].sum()\n",
    "    # add probabilities to list\n",
    "    all_probabilities.append([probability_home_win, probability_draw, probability_away_win])\n",
    "\n",
    "# add all probabilites to fixtures df\n",
    "fixtures[['home_win_probability', 'draw_probability', 'away_win_probability']] = all_probabilities\n",
    "\n",
    "fixtures"
   ]
  },
  {
   "cell_type": "code",
   "execution_count": 28,
   "metadata": {},
   "outputs": [
    {
     "name": "stderr",
     "output_type": "stream",
     "text": [
      "Simulating...: 100%|██████████| 1000/1000 [06:34<00:00,  2.54it/s]"
     ]
    },
    {
     "name": "stdout",
     "output_type": "stream",
     "text": [
      "Done!\n"
     ]
    },
    {
     "name": "stderr",
     "output_type": "stream",
     "text": [
      "\n"
     ]
    }
   ],
   "source": [
    "nr_simulations = 1000\n",
    "simulation_results = []\n",
    "manager_results = []\n",
    "final_gameweek = 38\n",
    "for i in tqdm(range(nr_simulations), desc='Simulating...'):\n",
    "    simulated_table = league_table[['Rk', 'Squad', 'MP', 'W', 'D', 'L', 'GF', 'GA', 'GD', 'Pts']].copy()\n",
    "    simulated_table, manager_xp = simulate_season(simulated_table, fixtures, poisson_model, final_gameweek)\n",
    "    simulated_table['simulation_nr'] = i\n",
    "    simulation_results.append(simulated_table)\n",
    "\n",
    "    manager_df = pd.DataFrame(manager_xp, columns=['gameweek', 'team', 'expected_points'])\n",
    "    manager_df['simulation_nr'] = i\n",
    "    manager_results.append(manager_df)\n",
    "\n",
    "print('Done!')\n",
    "\n",
    "simulation_results_df = pd.concat(simulation_results).reset_index(drop=True)\n",
    "manager_results_df = pd.concat(manager_results).reset_index(drop=True)"
   ]
  },
  {
   "cell_type": "code",
   "execution_count": 29,
   "metadata": {},
   "outputs": [],
   "source": [
    "result_matrix = (\n",
    "    simulation_results_df.groupby(['Squad', 'Rk'])\n",
    "    .size()\n",
    "    .unstack(fill_value=0)\n",
    "    .reindex(columns=range(1, 21), fill_value=0)  # Ensure columns go from 1 to 20\n",
    ")\n",
    "\n",
    "# normalize to percentage\n",
    "result_matrix = 100 * (result_matrix / nr_simulations)"
   ]
  },
  {
   "cell_type": "code",
   "execution_count": 30,
   "metadata": {},
   "outputs": [
    {
     "data": {
      "image/png": "[encoded data removed]",
      "text/plain": [
       "<Figure size 1000x600 with 2 Axes>"
      ]
     },
     "metadata": {},
     "output_type": "display_data"
    }
   ],
   "source": [
    "# Determine the most common position for each team (highest count)\n",
    "#dominant_positions = result_matrix.idxmax(axis=1)\n",
    "# Sort teams based on their most common position\n",
    "#sorted_teams = dominant_positions.sort_values().index\n",
    "\n",
    "# Reorder the matrix based on average final league position\n",
    "sorted_teams = simulation_results_df.groupby(['Squad'])['Rk'].mean().sort_values().index\n",
    "sorted_matrix = result_matrix.loc[sorted_teams]\n",
    "\n",
    "# Plot the reordered heatmap\n",
    "plt.figure(figsize=(10, 6))\n",
    "sns.heatmap(sorted_matrix, annot=True, cmap=\"Blues\", linewidths=0.5, cbar_kws={'label': 'Probability'})\n",
    "\n",
    "timestamp = datetime.now().strftime(\"%d.%m.%Y\")\n",
    "plt.title(f\"Distribution of Final League Positions (forecast on {timestamp})\")\n",
    "plt.xlabel(\"Final League Position\")\n",
    "plt.ylabel(\"Team\")\n",
    "\n",
    "plt.savefig('league_distribution.png')\n",
    "\n",
    "plt.show()"
   ]
  },
  {
   "cell_type": "code",
   "execution_count": 31,
   "metadata": {},
   "outputs": [],
   "source": [
    "weekly_scores = (manager_results_df.groupby(['gameweek', 'team']).sum() / nr_simulations).reset_index()\n",
    "#weekly_scores['quantile_10'] = manager_results_df.groupby(['gameweek', 'team']).quantile(0.10).reset_index()['expected_points']\n",
    "#weekly_scores['quantile_30'] = manager_results_df.groupby(['gameweek', 'team']).quantile(0.30).reset_index()['expected_points']\n",
    "#weekly_scores['quantile_70'] = manager_results_df.groupby(['gameweek', 'team']).quantile(0.70).reset_index()['expected_points']\n",
    "#weekly_scores['quantile_90'] = manager_results_df.groupby(['gameweek', 'team']).quantile(0.90).reset_index()['expected_points']\n",
    "#weekly_scores"
   ]
  },
  {
   "cell_type": "code",
   "execution_count": 32,
   "metadata": {},
   "outputs": [
    {
     "data": {
      "text/html": [
       "<div>\n",
       "<style scoped>\n",
       "    .dataframe tbody tr th:only-of-type {\n",
       "        vertical-align: middle;\n",
       "    }\n",
       "\n",
       "    .dataframe tbody tr th {\n",
       "        vertical-align: top;\n",
       "    }\n",
       "\n",
       "    .dataframe thead th {\n",
       "        text-align: right;\n",
       "    }\n",
       "</style>\n",
       "<table border=\"1\" class=\"dataframe\">\n",
       "  <thead>\n",
       "    <tr style=\"text-align: right;\">\n",
       "      <th></th>\n",
       "      <th>gameweek</th>\n",
       "      <th>team</th>\n",
       "      <th>expected_points</th>\n",
       "      <th>simulation_nr</th>\n",
       "    </tr>\n",
       "  </thead>\n",
       "  <tbody>\n",
       "    <tr>\n",
       "      <th>0</th>\n",
       "      <td>31</td>\n",
       "      <td>Arsenal</td>\n",
       "      <td>6.891</td>\n",
       "      <td>499.5</td>\n",
       "    </tr>\n",
       "    <tr>\n",
       "      <th>1</th>\n",
       "      <td>31</td>\n",
       "      <td>Aston Villa</td>\n",
       "      <td>4.691</td>\n",
       "      <td>499.5</td>\n",
       "    </tr>\n",
       "    <tr>\n",
       "      <th>2</th>\n",
       "      <td>31</td>\n",
       "      <td>Bournemouth</td>\n",
       "      <td>6.053</td>\n",
       "      <td>499.5</td>\n",
       "    </tr>\n",
       "    <tr>\n",
       "      <th>3</th>\n",
       "      <td>31</td>\n",
       "      <td>Brentford</td>\n",
       "      <td>8.814</td>\n",
       "      <td>499.5</td>\n",
       "    </tr>\n",
       "    <tr>\n",
       "      <th>4</th>\n",
       "      <td>31</td>\n",
       "      <td>Brighton</td>\n",
       "      <td>3.664</td>\n",
       "      <td>499.5</td>\n",
       "    </tr>\n",
       "    <tr>\n",
       "      <th>...</th>\n",
       "      <td>...</td>\n",
       "      <td>...</td>\n",
       "      <td>...</td>\n",
       "      <td>...</td>\n",
       "    </tr>\n",
       "    <tr>\n",
       "      <th>155</th>\n",
       "      <td>38</td>\n",
       "      <td>Nott'ham Forest</td>\n",
       "      <td>4.336</td>\n",
       "      <td>499.5</td>\n",
       "    </tr>\n",
       "    <tr>\n",
       "      <th>156</th>\n",
       "      <td>38</td>\n",
       "      <td>Southampton</td>\n",
       "      <td>2.004</td>\n",
       "      <td>499.5</td>\n",
       "    </tr>\n",
       "    <tr>\n",
       "      <th>157</th>\n",
       "      <td>38</td>\n",
       "      <td>Tottenham</td>\n",
       "      <td>9.867</td>\n",
       "      <td>499.5</td>\n",
       "    </tr>\n",
       "    <tr>\n",
       "      <th>158</th>\n",
       "      <td>38</td>\n",
       "      <td>West Ham</td>\n",
       "      <td>5.393</td>\n",
       "      <td>499.5</td>\n",
       "    </tr>\n",
       "    <tr>\n",
       "      <th>159</th>\n",
       "      <td>38</td>\n",
       "      <td>Wolves</td>\n",
       "      <td>6.937</td>\n",
       "      <td>499.5</td>\n",
       "    </tr>\n",
       "  </tbody>\n",
       "</table>\n",
       "<p>160 rows × 4 columns</p>\n",
       "</div>"
      ],
      "text/plain": [
       "     gameweek             team  expected_points  simulation_nr\n",
       "0          31          Arsenal            6.891          499.5\n",
       "1          31      Aston Villa            4.691          499.5\n",
       "2          31      Bournemouth            6.053          499.5\n",
       "3          31        Brentford            8.814          499.5\n",
       "4          31         Brighton            3.664          499.5\n",
       "..        ...              ...              ...            ...\n",
       "155        38  Nott'ham Forest            4.336          499.5\n",
       "156        38      Southampton            2.004          499.5\n",
       "157        38        Tottenham            9.867          499.5\n",
       "158        38         West Ham            5.393          499.5\n",
       "159        38           Wolves            6.937          499.5\n",
       "\n",
       "[160 rows x 4 columns]"
      ]
     },
     "execution_count": 32,
     "metadata": {},
     "output_type": "execute_result"
    }
   ],
   "source": [
    "# fill weeks with no game with 0 manager points\n",
    "# Get all unique gameweeks and teams\n",
    "all_gameweeks = range(int(weekly_scores['gameweek'].min()), int(weekly_scores['gameweek'].max()) + 1)\n",
    "all_teams = weekly_scores['team'].unique()\n",
    "\n",
    "# Create a MultiIndex for all possible gameweek-team combinations\n",
    "idx = pd.MultiIndex.from_product([all_gameweeks, all_teams], names=['gameweek', 'team'])\n",
    "\n",
    "# Reindex the DataFrame to include missing gameweeks for each team\n",
    "weekly_scores = weekly_scores.set_index(['gameweek', 'team']).reindex(idx, fill_value=0).reset_index()\n",
    "\n",
    "weekly_scores"
   ]
  },
  {
   "cell_type": "code",
   "execution_count": 33,
   "metadata": {},
   "outputs": [
    {
     "data": {
      "application/vnd.plotly.v1+json": {
       "config": {
        "plotlyServerURL": "https://plot.ly"
       },
       "data": [
        {
         "hovertemplate": "team=Arsenal<br>Game Week=%{x}<br>Expected Points=%{y}<extra></extra>",
         "legendgroup": "Arsenal",
         "line": {
          "color": "#636efa",
          "dash": "solid"
         },
         "marker": {
          "symbol": "circle"
         },
         "mode": "lines+markers",
         "name": "Arsenal",
         "orientation": "v",
         "showlegend": true,
         "type": "scatter",
         "x": {
          "bdata": "HyAhIiMkJSY=",
          "dtype": "i1"
         },
         "xaxis": "x",
         "y": {
          "bdata": "qvHSTWKQG0B7FK5H4XodQCPb+X5qfC5AAAAAAAAAAABg5dAi23kbQJZDi2zn+xRAppvEILByG0BWDi2yne8iQA==",
          "dtype": "f8"
         },
         "yaxis": "y"
        },
        {
         "hovertemplate": "team=Aston Villa<br>Game Week=%{x}<br>Expected Points=%{y}<extra></extra>",
         "legendgroup": "Aston Villa",
         "line": {
          "color": "#EF553B",
          "dash": "solid"
         },
         "marker": {
          "symbol": "circle"
         },
         "mode": "lines+markers",
         "name": "Aston Villa",
         "orientation": "v",
         "showlegend": true,
         "type": "scatter",
         "x": {
          "bdata": "HyAhIiMkJSY=",
          "dtype": "i1"
         },
         "xaxis": "x",
         "y": {
          "bdata": "3SQGgZXDEkC+nxov3SQfQNv5fmq89B5AAAAAAAAAAAC8dJMYBFYUQMP1KFyPwhBA/tR46SYxFEBI4XoUrscTQA==",
          "dtype": "f8"
         },
         "yaxis": "y"
        },
        {
         "hovertemplate": "team=Bournemouth<br>Game Week=%{x}<br>Expected Points=%{y}<extra></extra>",
         "legendgroup": "Bournemouth",
         "line": {
          "color": "#00cc96",
          "dash": "solid"
         },
         "marker": {
          "symbol": "circle"
         },
         "mode": "lines+markers",
         "name": "Bournemouth",
         "orientation": "v",
         "showlegend": true,
         "type": "scatter",
         "x": {
          "bdata": "HyAhIiMkJSY=",
          "dtype": "i1"
         },
         "xaxis": "x",
         "y": {
          "bdata": "g8DKoUU2GEA9CtejcL0VQPLSTWIQ2BBABFYOLbIdF0AIrBxaZLsWQHe+nxov3RhA16NwPQrXE0AOLbKd76cfQA==",
          "dtype": "f8"
         },
         "yaxis": "y"
        },
        {
         "hovertemplate": "team=Brentford<br>Game Week=%{x}<br>Expected Points=%{y}<extra></extra>",
         "legendgroup": "Brentford",
         "line": {
          "color": "#ab63fa",
          "dash": "solid"
         },
         "marker": {
          "symbol": "circle"
         },
         "mode": "lines+markers",
         "name": "Brentford",
         "orientation": "v",
         "showlegend": true,
         "type": "scatter",
         "x": {
          "bdata": "HyAhIiMkJSY=",
          "dtype": "i1"
         },
         "xaxis": "x",
         "y": {
          "bdata": "VOOlm8SgIUD4U+Olm8QUQLKd76fGyxpA2/l+arw0IUASg8DKocUWQIts5/up8RxAqMZLN4lBGEBOYhBYObQYQA==",
          "dtype": "f8"
         },
         "yaxis": "y"
        },
        {
         "hovertemplate": "team=Brighton<br>Game Week=%{x}<br>Expected Points=%{y}<extra></extra>",
         "legendgroup": "Brighton",
         "line": {
          "color": "#FFA15A",
          "dash": "solid"
         },
         "marker": {
          "symbol": "circle"
         },
         "mode": "lines+markers",
         "name": "Brighton",
         "orientation": "v",
         "showlegend": true,
         "type": "scatter",
         "x": {
          "bdata": "HyAhIiMkJSY=",
          "dtype": "i1"
         },
         "xaxis": "x",
         "y": {
          "bdata": "HVpkO99PDUC8dJMYBNYdQEa28/3U+BBAZDvfT40XGECuR+F6FK4RQClcj8L1KBZAnMQgsHLoFUBWDi2yne8PQA==",
          "dtype": "f8"
         },
         "yaxis": "y"
        },
        {
         "hovertemplate": "team=Chelsea<br>Game Week=%{x}<br>Expected Points=%{y}<extra></extra>",
         "legendgroup": "Chelsea",
         "line": {
          "color": "#19d3f3",
          "dash": "solid"
         },
         "marker": {
          "symbol": "circle"
         },
         "mode": "lines+markers",
         "name": "Chelsea",
         "orientation": "v",
         "showlegend": true,
         "type": "scatter",
         "x": {
          "bdata": "HyAhIiMkJSY=",
          "dtype": "i1"
         },
         "xaxis": "x",
         "y": {
          "bdata": "MzMzMzMzF0BSuB6F65EhQC2yne+nRhdA8KfGSzcJG0Dy0k1iEFgWQPLSTWIQWBNAN4lBYOXQGkBiEFg5tEgXQA==",
          "dtype": "f8"
         },
         "yaxis": "y"
        },
        {
         "hovertemplate": "team=Crystal Palace<br>Game Week=%{x}<br>Expected Points=%{y}<extra></extra>",
         "legendgroup": "Crystal Palace",
         "line": {
          "color": "#FF6692",
          "dash": "solid"
         },
         "marker": {
          "symbol": "circle"
         },
         "mode": "lines+markers",
         "name": "Crystal Palace",
         "orientation": "v",
         "showlegend": true,
         "type": "scatter",
         "x": {
          "bdata": "HyAhIiMkJSY=",
          "dtype": "i1"
         },
         "xaxis": "x",
         "y": {
          "bdata": "d76fGi9dGEBvEoPAygExQFpkO99PDSdAAAAAAAAAAACoxks3icEkQPp+arx0ExRALbKd76dGHUCkcD0K16MbQA==",
          "dtype": "f8"
         },
         "yaxis": "y"
        },
        {
         "hovertemplate": "team=Everton<br>Game Week=%{x}<br>Expected Points=%{y}<extra></extra>",
         "legendgroup": "Everton",
         "line": {
          "color": "#B6E880",
          "dash": "solid"
         },
         "marker": {
          "symbol": "circle"
         },
         "mode": "lines+markers",
         "name": "Everton",
         "orientation": "v",
         "showlegend": true,
         "type": "scatter",
         "x": {
          "bdata": "HyAhIiMkJSY=",
          "dtype": "i1"
         },
         "xaxis": "x",
         "y": {
          "bdata": "UrgehevRFUBCYOXQItseQNNNYhBYuRlAIbByaJHtF0Ce76fGSzcaQMUgsHJokR1AK4cW2c53HUBMN4lBYOUbQA==",
          "dtype": "f8"
         },
         "yaxis": "y"
        },
        {
         "hovertemplate": "team=Fulham<br>Game Week=%{x}<br>Expected Points=%{y}<extra></extra>",
         "legendgroup": "Fulham",
         "line": {
          "color": "#FF97FF",
          "dash": "solid"
         },
         "marker": {
          "symbol": "circle"
         },
         "mode": "lines+markers",
         "name": "Fulham",
         "orientation": "v",
         "showlegend": true,
         "type": "scatter",
         "x": {
          "bdata": "HyAhIiMkJSY=",
          "dtype": "i1"
         },
         "xaxis": "x",
         "y": {
          "bdata": "0SLb+X5qGEBWDi2yne8QQLgehetRuBpAtvP91HjpHkBWDi2yne8TQMl2vp8arxVAObTIdr4fEkAdWmQ7388WQA==",
          "dtype": "f8"
         },
         "yaxis": "y"
        },
        {
         "hovertemplate": "team=Ipswich Town<br>Game Week=%{x}<br>Expected Points=%{y}<extra></extra>",
         "legendgroup": "Ipswich Town",
         "line": {
          "color": "#FECB52",
          "dash": "solid"
         },
         "marker": {
          "symbol": "circle"
         },
         "mode": "lines+markers",
         "name": "Ipswich Town",
         "orientation": "v",
         "showlegend": true,
         "type": "scatter",
         "x": {
          "bdata": "HyAhIiMkJSY=",
          "dtype": "i1"
         },
         "xaxis": "x",
         "y": {
          "bdata": "x0s3iUHgEEAbL90kBoEKQMdLN4lBYAlAaJHtfD81EEAtsp3vp8YJQEjhehSuxxVAjZduEoNAFEDVeOkmMYgTQA==",
          "dtype": "f8"
         },
         "yaxis": "y"
        },
        {
         "hovertemplate": "team=Leicester City<br>Game Week=%{x}<br>Expected Points=%{y}<extra></extra>",
         "legendgroup": "Leicester City",
         "line": {
          "color": "#636efa",
          "dash": "solid"
         },
         "marker": {
          "symbol": "circle"
         },
         "mode": "lines+markers",
         "name": "Leicester City",
         "orientation": "v",
         "showlegend": true,
         "type": "scatter",
         "x": {
          "bdata": "HyAhIiMkJSY=",
          "dtype": "i1"
         },
         "xaxis": "x",
         "y": {
          "bdata": "dZMYBFYODkC6SQwCKwcUQPp+arx0kwJACKwcWmQ7CkD+1HjpJrEWQH0/NV66SQ5AkxgEVg6tEkAxCKwcWuQQQA==",
          "dtype": "f8"
         },
         "yaxis": "y"
        },
        {
         "hovertemplate": "team=Liverpool<br>Game Week=%{x}<br>Expected Points=%{y}<extra></extra>",
         "legendgroup": "Liverpool",
         "line": {
          "color": "#EF553B",
          "dash": "solid"
         },
         "marker": {
          "symbol": "circle"
         },
         "mode": "lines+markers",
         "name": "Liverpool",
         "orientation": "v",
         "showlegend": true,
         "type": "scatter",
         "x": {
          "bdata": "HyAhIiMkJSY=",
          "dtype": "i1"
         },
         "xaxis": "x",
         "y": {
          "bdata": "ZmZmZmZmG0B/arx0k1ghQPyp8dJN4iJA16NwPQpXHEDFILByaBEXQD81XrpJjBFAAiuHFtnOHEBeukkMAqsZQA==",
          "dtype": "f8"
         },
         "yaxis": "y"
        },
        {
         "hovertemplate": "team=Manchester City<br>Game Week=%{x}<br>Expected Points=%{y}<extra></extra>",
         "legendgroup": "Manchester City",
         "line": {
          "color": "#00cc96",
          "dash": "solid"
         },
         "marker": {
          "symbol": "circle"
         },
         "mode": "lines+markers",
         "name": "Manchester City",
         "orientation": "v",
         "showlegend": true,
         "type": "scatter",
         "x": {
          "bdata": "HyAhIiMkJSY=",
          "dtype": "i1"
         },
         "xaxis": "x",
         "y": {
          "bdata": "Rrbz/dT4G0BEi2zn+6kXQNEi2/l+qitAAAAAAAAAAABaZDvfTw0hQLx0kxgEViNAtvP91HhpG0A5tMh2vh8ZQA==",
          "dtype": "f8"
         },
         "yaxis": "y"
        },
        {
         "hovertemplate": "team=Manchester Utd<br>Game Week=%{x}<br>Expected Points=%{y}<extra></extra>",
         "legendgroup": "Manchester Utd",
         "line": {
          "color": "#ab63fa",
          "dash": "solid"
         },
         "marker": {
          "symbol": "circle"
         },
         "mode": "lines+markers",
         "name": "Manchester Utd",
         "orientation": "v",
         "showlegend": true,
         "type": "scatter",
         "x": {
          "bdata": "HyAhIiMkJSY=",
          "dtype": "i1"
         },
         "xaxis": "x",
         "y": {
          "bdata": "kxgEVg4tGEAGgZVDi2wbQOOlm8QgMBlAzczMzMzMFkBMN4lBYGUSQKAaL90khhdAF9nO91PjGkB1kxgEVk4hQA==",
          "dtype": "f8"
         },
         "yaxis": "y"
        },
        {
         "hovertemplate": "team=Newcastle Utd<br>Game Week=%{x}<br>Expected Points=%{y}<extra></extra>",
         "legendgroup": "Newcastle Utd",
         "line": {
          "color": "#FFA15A",
          "dash": "solid"
         },
         "marker": {
          "symbol": "circle"
         },
         "mode": "lines+markers",
         "name": "Newcastle Utd",
         "orientation": "v",
         "showlegend": true,
         "type": "scatter",
         "x": {
          "bdata": "HyAhIiMkJSY=",
          "dtype": "i1"
         },
         "xaxis": "x",
         "y": {
          "bdata": "ppvEILCyIECe76fGS7cnQMUgsHJokRZAcT0K16OwIECuR+F6FC4ZQCuHFtnOdxVAXrpJDAIrCkCR7Xw/Nd4YQA==",
          "dtype": "f8"
         },
         "yaxis": "y"
        },
        {
         "hovertemplate": "team=Nott'ham Forest<br>Game Week=%{x}<br>Expected Points=%{y}<extra></extra>",
         "legendgroup": "Nott'ham Forest",
         "line": {
          "color": "#19d3f3",
          "dash": "solid"
         },
         "marker": {
          "symbol": "circle"
         },
         "mode": "lines+markers",
         "name": "Nott'ham Forest",
         "orientation": "v",
         "showlegend": true,
         "type": "scatter",
         "x": {
          "bdata": "HyAhIiMkJSY=",
          "dtype": "i1"
         },
         "xaxis": "x",
         "y": {
          "bdata": "Vg4tsp3vFECamZmZmRkXQMP1KFyPQhRArkfhehSuFkACK4cW2c4RQBfZzvdTYyBAhetRuB6FGUDy0k1iEFgRQA==",
          "dtype": "f8"
         },
         "yaxis": "y"
        },
        {
         "hovertemplate": "team=Southampton<br>Game Week=%{x}<br>Expected Points=%{y}<extra></extra>",
         "legendgroup": "Southampton",
         "line": {
          "color": "#FF6692",
          "dash": "solid"
         },
         "marker": {
          "symbol": "circle"
         },
         "mode": "lines+markers",
         "name": "Southampton",
         "orientation": "v",
         "showlegend": true,
         "type": "scatter",
         "x": {
          "bdata": "HyAhIiMkJSY=",
          "dtype": "i1"
         },
         "xaxis": "x",
         "y": {
          "bdata": "PQrXo3A9B0B3vp8aL10SQHe+nxov3Q1AH4XrUbieEUACK4cW2c4PQOxRuB6F6wFAZmZmZmZmDUDVeOkmMQgAQA==",
          "dtype": "f8"
         },
         "yaxis": "y"
        },
        {
         "hovertemplate": "team=Tottenham<br>Game Week=%{x}<br>Expected Points=%{y}<extra></extra>",
         "legendgroup": "Tottenham",
         "line": {
          "color": "#B6E880",
          "dash": "solid"
         },
         "marker": {
          "symbol": "circle"
         },
         "mode": "lines+markers",
         "name": "Tottenham",
         "orientation": "v",
         "showlegend": true,
         "type": "scatter",
         "x": {
          "bdata": "HyAhIiMkJSY=",
          "dtype": "i1"
         },
         "xaxis": "x",
         "y": {
          "bdata": "UI2XbhIDIkCNl24Sg8AaQGZmZmZm5iNAPzVeukkMGUAv3SQGgZUaQK5H4XoUrhZAUrgeheuRIUCWQ4ts57sjQA==",
          "dtype": "f8"
         },
         "yaxis": "y"
        },
        {
         "hovertemplate": "team=West Ham<br>Game Week=%{x}<br>Expected Points=%{y}<extra></extra>",
         "legendgroup": "West Ham",
         "line": {
          "color": "#FF97FF",
          "dash": "solid"
         },
         "marker": {
          "symbol": "circle"
         },
         "mode": "lines+markers",
         "name": "West Ham",
         "orientation": "v",
         "showlegend": true,
         "type": "scatter",
         "x": {
          "bdata": "HyAhIiMkJSY=",
          "dtype": "i1"
         },
         "xaxis": "x",
         "y": {
          "bdata": "sp3vp8ZLHkB7FK5H4XoLQFg5tMh2PhxAz/dT46UbHkDpJjEIrBwMQEa28/3UeBBAWmQ730+NG0DfT42XbpIVQA==",
          "dtype": "f8"
         },
         "yaxis": "y"
        },
        {
         "hovertemplate": "team=Wolves<br>Game Week=%{x}<br>Expected Points=%{y}<extra></extra>",
         "legendgroup": "Wolves",
         "line": {
          "color": "#FECB52",
          "dash": "solid"
         },
         "marker": {
          "symbol": "circle"
         },
         "mode": "lines+markers",
         "name": "Wolves",
         "orientation": "v",
         "showlegend": true,
         "type": "scatter",
         "x": {
          "bdata": "HyAhIiMkJSY=",
          "dtype": "i1"
         },
         "xaxis": "x",
         "y": {
          "bdata": "DAIrhxbZFkCDwMqhRbYNQL6fGi/dJA9ATDeJQWDlGkAbL90kBoEPQKjGSzeJgSFAcT0K16NwEkBzaJHtfL8bQA==",
          "dtype": "f8"
         },
         "yaxis": "y"
        }
       ],
       "layout": {
        "legend": {
         "title": {
          "text": "team"
         },
         "tracegroupgap": 0
        },
        "template": {
         "data": {
          "bar": [
           {
            "error_x": {
             "color": "#2a3f5f"
            },
            "error_y": {
             "color": "#2a3f5f"
            },
            "marker": {
             "line": {
              "color": "#E5ECF6",
              "width": 0.5
             },
             "pattern": {
              "fillmode": "overlay",
              "size": 10,
              "solidity": 0.2
             }
            },
            "type": "bar"
           }
          ],
          "barpolar": [
           {
            "marker": {
             "line": {
              "color": "#E5ECF6",
              "width": 0.5
             },
             "pattern": {
              "fillmode": "overlay",
              "size": 10,
              "solidity": 0.2
             }
            },
            "type": "barpolar"
           }
          ],
          "carpet": [
           {
            "aaxis": {
             "endlinecolor": "#2a3f5f",
             "gridcolor": "white",
             "linecolor": "white",
             "minorgridcolor": "white",
             "startlinecolor": "#2a3f5f"
            },
            "baxis": {
             "endlinecolor": "#2a3f5f",
             "gridcolor": "white",
             "linecolor": "white",
             "minorgridcolor": "white",
             "startlinecolor": "#2a3f5f"
            },
            "type": "carpet"
           }
          ],
          "choropleth": [
           {
            "colorbar": {
             "outlinewidth": 0,
             "ticks": ""
            },
            "type": "choropleth"
           }
          ],
          "contour": [
           {
            "colorbar": {
             "outlinewidth": 0,
             "ticks": ""
            },
            "colorscale": [
             [
              0,
              "#0d0887"
             ],
             [
              0.1111111111111111,
              "#46039f"
             ],
             [
              0.2222222222222222,
              "#7201a8"
             ],
             [
              0.3333333333333333,
              "#9c179e"
             ],
             [
              0.4444444444444444,
              "#bd3786"
             ],
             [
              0.5555555555555556,
              "#d8576b"
             ],
             [
              0.6666666666666666,
              "#ed7953"
             ],
             [
              0.7777777777777778,
              "#fb9f3a"
             ],
             [
              0.8888888888888888,
              "#fdca26"
             ],
             [
              1,
              "#f0f921"
             ]
            ],
            "type": "contour"
           }
          ],
          "contourcarpet": [
           {
            "colorbar": {
             "outlinewidth": 0,
             "ticks": ""
            },
            "type": "contourcarpet"
           }
          ],
          "heatmap": [
           {
            "colorbar": {
             "outlinewidth": 0,
             "ticks": ""
            },
            "colorscale": [
             [
              0,
              "#0d0887"
             ],
             [
              0.1111111111111111,
              "#46039f"
             ],
             [
              0.2222222222222222,
              "#7201a8"
             ],
             [
              0.3333333333333333,
              "#9c179e"
             ],
             [
              0.4444444444444444,
              "#bd3786"
             ],
             [
              0.5555555555555556,
              "#d8576b"
             ],
             [
              0.6666666666666666,
              "#ed7953"
             ],
             [
              0.7777777777777778,
              "#fb9f3a"
             ],
             [
              0.8888888888888888,
              "#fdca26"
             ],
             [
              1,
              "#f0f921"
             ]
            ],
            "type": "heatmap"
           }
          ],
          "histogram": [
           {
            "marker": {
             "pattern": {
              "fillmode": "overlay",
              "size": 10,
              "solidity": 0.2
             }
            },
            "type": "histogram"
           }
          ],
          "histogram2d": [
           {
            "colorbar": {
             "outlinewidth": 0,
             "ticks": ""
            },
            "colorscale": [
             [
              0,
              "#0d0887"
             ],
             [
              0.1111111111111111,
              "#46039f"
             ],
             [
              0.2222222222222222,
              "#7201a8"
             ],
             [
              0.3333333333333333,
              "#9c179e"
             ],
             [
              0.4444444444444444,
              "#bd3786"
             ],
             [
              0.5555555555555556,
              "#d8576b"
             ],
             [
              0.6666666666666666,
              "#ed7953"
             ],
             [
              0.7777777777777778,
              "#fb9f3a"
             ],
             [
              0.8888888888888888,
              "#fdca26"
             ],
             [
              1,
              "#f0f921"
             ]
            ],
            "type": "histogram2d"
           }
          ],
          "histogram2dcontour": [
           {
            "colorbar": {
             "outlinewidth": 0,
             "ticks": ""
            },
            "colorscale": [
             [
              0,
              "#0d0887"
             ],
             [
              0.1111111111111111,
              "#46039f"
             ],
             [
              0.2222222222222222,
              "#7201a8"
             ],
             [
              0.3333333333333333,
              "#9c179e"
             ],
             [
              0.4444444444444444,
              "#bd3786"
             ],
             [
              0.5555555555555556,
              "#d8576b"
             ],
             [
              0.6666666666666666,
              "#ed7953"
             ],
             [
              0.7777777777777778,
              "#fb9f3a"
             ],
             [
              0.8888888888888888,
              "#fdca26"
             ],
             [
              1,
              "#f0f921"
             ]
            ],
            "type": "histogram2dcontour"
           }
          ],
          "mesh3d": [
           {
            "colorbar": {
             "outlinewidth": 0,
             "ticks": ""
            },
            "type": "mesh3d"
           }
          ],
          "parcoords": [
           {
            "line": {
             "colorbar": {
              "outlinewidth": 0,
              "ticks": ""
             }
            },
            "type": "parcoords"
           }
          ],
          "pie": [
           {
            "automargin": true,
            "type": "pie"
           }
          ],
          "scatter": [
           {
            "fillpattern": {
             "fillmode": "overlay",
             "size": 10,
             "solidity": 0.2
            },
            "type": "scatter"
           }
          ],
          "scatter3d": [
           {
            "line": {
             "colorbar": {
              "outlinewidth": 0,
              "ticks": ""
             }
            },
            "marker": {
             "colorbar": {
              "outlinewidth": 0,
              "ticks": ""
             }
            },
            "type": "scatter3d"
           }
          ],
          "scattercarpet": [
           {
            "marker": {
             "colorbar": {
              "outlinewidth": 0,
              "ticks": ""
             }
            },
            "type": "scattercarpet"
           }
          ],
          "scattergeo": [
           {
            "marker": {
             "colorbar": {
              "outlinewidth": 0,
              "ticks": ""
             }
            },
            "type": "scattergeo"
           }
          ],
          "scattergl": [
           {
            "marker": {
             "colorbar": {
              "outlinewidth": 0,
              "ticks": ""
             }
            },
            "type": "scattergl"
           }
          ],
          "scattermap": [
           {
            "marker": {
             "colorbar": {
              "outlinewidth": 0,
              "ticks": ""
             }
            },
            "type": "scattermap"
           }
          ],
          "scattermapbox": [
           {
            "marker": {
             "colorbar": {
              "outlinewidth": 0,
              "ticks": ""
             }
            },
            "type": "scattermapbox"
           }
          ],
          "scatterpolar": [
           {
            "marker": {
             "colorbar": {
              "outlinewidth": 0,
              "ticks": ""
             }
            },
            "type": "scatterpolar"
           }
          ],
          "scatterpolargl": [
           {
            "marker": {
             "colorbar": {
              "outlinewidth": 0,
              "ticks": ""
             }
            },
            "type": "scatterpolargl"
           }
          ],
          "scatterternary": [
           {
            "marker": {
             "colorbar": {
              "outlinewidth": 0,
              "ticks": ""
             }
            },
            "type": "scatterternary"
           }
          ],
          "surface": [
           {
            "colorbar": {
             "outlinewidth": 0,
             "ticks": ""
            },
            "colorscale": [
             [
              0,
              "#0d0887"
             ],
             [
              0.1111111111111111,
              "#46039f"
             ],
             [
              0.2222222222222222,
              "#7201a8"
             ],
             [
              0.3333333333333333,
              "#9c179e"
             ],
             [
              0.4444444444444444,
              "#bd3786"
             ],
             [
              0.5555555555555556,
              "#d8576b"
             ],
             [
              0.6666666666666666,
              "#ed7953"
             ],
             [
              0.7777777777777778,
              "#fb9f3a"
             ],
             [
              0.8888888888888888,
              "#fdca26"
             ],
             [
              1,
              "#f0f921"
             ]
            ],
            "type": "surface"
           }
          ],
          "table": [
           {
            "cells": {
             "fill": {
              "color": "#EBF0F8"
             },
             "line": {
              "color": "white"
             }
            },
            "header": {
             "fill": {
              "color": "#C8D4E3"
             },
             "line": {
              "color": "white"
             }
            },
            "type": "table"
           }
          ]
         },
         "layout": {
          "annotationdefaults": {
           "arrowcolor": "#2a3f5f",
           "arrowhead": 0,
           "arrowwidth": 1
          },
          "autotypenumbers": "strict",
          "coloraxis": {
           "colorbar": {
            "outlinewidth": 0,
            "ticks": ""
           }
          },
          "colorscale": {
           "diverging": [
            [
             0,
             "#8e0152"
            ],
            [
             0.1,
             "#c51b7d"
            ],
            [
             0.2,
             "#de77ae"
            ],
            [
             0.3,
             "#f1b6da"
            ],
            [
             0.4,
             "#fde0ef"
            ],
            [
             0.5,
             "#f7f7f7"
            ],
            [
             0.6,
             "#e6f5d0"
            ],
            [
             0.7,
             "#b8e186"
            ],
            [
             0.8,
             "#7fbc41"
            ],
            [
             0.9,
             "#4d9221"
            ],
            [
             1,
             "#276419"
            ]
           ],
           "sequential": [
            [
             0,
             "#0d0887"
            ],
            [
             0.1111111111111111,
             "#46039f"
            ],
            [
             0.2222222222222222,
             "#7201a8"
            ],
            [
             0.3333333333333333,
             "#9c179e"
            ],
            [
             0.4444444444444444,
             "#bd3786"
            ],
            [
             0.5555555555555556,
             "#d8576b"
            ],
            [
             0.6666666666666666,
             "#ed7953"
            ],
            [
             0.7777777777777778,
             "#fb9f3a"
            ],
            [
             0.8888888888888888,
             "#fdca26"
            ],
            [
             1,
             "#f0f921"
            ]
           ],
           "sequentialminus": [
            [
             0,
             "#0d0887"
            ],
            [
             0.1111111111111111,
             "#46039f"
            ],
            [
             0.2222222222222222,
             "#7201a8"
            ],
            [
             0.3333333333333333,
             "#9c179e"
            ],
            [
             0.4444444444444444,
             "#bd3786"
            ],
            [
             0.5555555555555556,
             "#d8576b"
            ],
            [
             0.6666666666666666,
             "#ed7953"
            ],
            [
             0.7777777777777778,
             "#fb9f3a"
            ],
            [
             0.8888888888888888,
             "#fdca26"
            ],
            [
             1,
             "#f0f921"
            ]
           ]
          },
          "colorway": [
           "#636efa",
           "#EF553B",
           "#00cc96",
           "#ab63fa",
           "#FFA15A",
           "#19d3f3",
           "#FF6692",
           "#B6E880",
           "#FF97FF",
           "#FECB52"
          ],
          "font": {
           "color": "#2a3f5f"
          },
          "geo": {
           "bgcolor": "white",
           "lakecolor": "white",
           "landcolor": "#E5ECF6",
           "showlakes": true,
           "showland": true,
           "subunitcolor": "white"
          },
          "hoverlabel": {
           "align": "left"
          },
          "hovermode": "closest",
          "mapbox": {
           "style": "light"
          },
          "paper_bgcolor": "white",
          "plot_bgcolor": "#E5ECF6",
          "polar": {
           "angularaxis": {
            "gridcolor": "white",
            "linecolor": "white",
            "ticks": ""
           },
           "bgcolor": "#E5ECF6",
           "radialaxis": {
            "gridcolor": "white",
            "linecolor": "white",
            "ticks": ""
           }
          },
          "scene": {
           "xaxis": {
            "backgroundcolor": "#E5ECF6",
            "gridcolor": "white",
            "gridwidth": 2,
            "linecolor": "white",
            "showbackground": true,
            "ticks": "",
            "zerolinecolor": "white"
           },
           "yaxis": {
            "backgroundcolor": "#E5ECF6",
            "gridcolor": "white",
            "gridwidth": 2,
            "linecolor": "white",
            "showbackground": true,
            "ticks": "",
            "zerolinecolor": "white"
           },
           "zaxis": {
            "backgroundcolor": "#E5ECF6",
            "gridcolor": "white",
            "gridwidth": 2,
            "linecolor": "white",
            "showbackground": true,
            "ticks": "",
            "zerolinecolor": "white"
           }
          },
          "shapedefaults": {
           "line": {
            "color": "#2a3f5f"
           }
          },
          "ternary": {
           "aaxis": {
            "gridcolor": "white",
            "linecolor": "white",
            "ticks": ""
           },
           "baxis": {
            "gridcolor": "white",
            "linecolor": "white",
            "ticks": ""
           },
           "bgcolor": "#E5ECF6",
           "caxis": {
            "gridcolor": "white",
            "linecolor": "white",
            "ticks": ""
           }
          },
          "title": {
           "x": 0.05
          },
          "xaxis": {
           "automargin": true,
           "gridcolor": "white",
           "linecolor": "white",
           "ticks": "",
           "title": {
            "standoff": 15
           },
           "zerolinecolor": "white",
           "zerolinewidth": 2
          },
          "yaxis": {
           "automargin": true,
           "gridcolor": "white",
           "linecolor": "white",
           "ticks": "",
           "title": {
            "standoff": 15
           },
           "zerolinecolor": "white",
           "zerolinewidth": 2
          }
         }
        },
        "title": {
         "text": "Expected Points per Game Week"
        },
        "xaxis": {
         "anchor": "y",
         "domain": [
          0,
          1
         ],
         "title": {
          "text": "Game Week"
         }
        },
        "yaxis": {
         "anchor": "x",
         "domain": [
          0,
          1
         ],
         "title": {
          "text": "Expected Points"
         }
        }
       }
      }
     },
     "metadata": {},
     "output_type": "display_data"
    }
   ],
   "source": [
    "fig = px.line(weekly_scores, x='gameweek', y='expected_points', color='team', markers=True,\n",
    "              title=\"Expected Points per Game Week\",\n",
    "              labels={\"expected_points\": \"Expected Points\", \"gameweek\": \"Game Week\"})\n",
    "\n",
    "fig.show()"
   ]
  },
  {
   "cell_type": "code",
   "execution_count": 34,
   "metadata": {},
   "outputs": [
    {
     "data": {
      "application/vnd.plotly.v1+json": {
       "config": {
        "plotlyServerURL": "https://plot.ly"
       },
       "data": [
        {
         "line": {
          "color": "blue"
         },
         "mode": "lines+markers",
         "name": "Arsenal",
         "opacity": 1,
         "type": "scatter",
         "visible": true,
         "x": {
          "bdata": "HyAhIiMkJSY=",
          "dtype": "i1"
         },
         "y": {
          "bdata": "qvHSTWKQG0B7FK5H4XodQCPb+X5qfC5AAAAAAAAAAABg5dAi23kbQJZDi2zn+xRAppvEILByG0BWDi2yne8iQA==",
          "dtype": "f8"
         }
        },
        {
         "line": {
          "color": "gray"
         },
         "mode": "lines+markers",
         "name": "Aston Villa",
         "opacity": 0.3,
         "type": "scatter",
         "visible": true,
         "x": {
          "bdata": "HyAhIiMkJSY=",
          "dtype": "i1"
         },
         "y": {
          "bdata": "3SQGgZXDEkC+nxov3SQfQNv5fmq89B5AAAAAAAAAAAC8dJMYBFYUQMP1KFyPwhBA/tR46SYxFEBI4XoUrscTQA==",
          "dtype": "f8"
         }
        },
        {
         "line": {
          "color": "gray"
         },
         "mode": "lines+markers",
         "name": "Bournemouth",
         "opacity": 0.3,
         "type": "scatter",
         "visible": true,
         "x": {
          "bdata": "HyAhIiMkJSY=",
          "dtype": "i1"
         },
         "y": {
          "bdata": "g8DKoUU2GEA9CtejcL0VQPLSTWIQ2BBABFYOLbIdF0AIrBxaZLsWQHe+nxov3RhA16NwPQrXE0AOLbKd76cfQA==",
          "dtype": "f8"
         }
        },
        {
         "line": {
          "color": "gray"
         },
         "mode": "lines+markers",
         "name": "Brentford",
         "opacity": 0.3,
         "type": "scatter",
         "visible": true,
         "x": {
          "bdata": "HyAhIiMkJSY=",
          "dtype": "i1"
         },
         "y": {
          "bdata": "VOOlm8SgIUD4U+Olm8QUQLKd76fGyxpA2/l+arw0IUASg8DKocUWQIts5/up8RxAqMZLN4lBGEBOYhBYObQYQA==",
          "dtype": "f8"
         }
        },
        {
         "line": {
          "color": "gray"
         },
         "mode": "lines+markers",
         "name": "Brighton",
         "opacity": 0.3,
         "type": "scatter",
         "visible": true,
         "x": {
          "bdata": "HyAhIiMkJSY=",
          "dtype": "i1"
         },
         "y": {
          "bdata": "HVpkO99PDUC8dJMYBNYdQEa28/3U+BBAZDvfT40XGECuR+F6FK4RQClcj8L1KBZAnMQgsHLoFUBWDi2yne8PQA==",
          "dtype": "f8"
         }
        },
        {
         "line": {
          "color": "gray"
         },
         "mode": "lines+markers",
         "name": "Chelsea",
         "opacity": 0.3,
         "type": "scatter",
         "visible": true,
         "x": {
          "bdata": "HyAhIiMkJSY=",
          "dtype": "i1"
         },
         "y": {
          "bdata": "MzMzMzMzF0BSuB6F65EhQC2yne+nRhdA8KfGSzcJG0Dy0k1iEFgWQPLSTWIQWBNAN4lBYOXQGkBiEFg5tEgXQA==",
          "dtype": "f8"
         }
        },
        {
         "line": {
          "color": "gray"
         },
         "mode": "lines+markers",
         "name": "Crystal Palace",
         "opacity": 0.3,
         "type": "scatter",
         "visible": true,
         "x": {
          "bdata": "HyAhIiMkJSY=",
          "dtype": "i1"
         },
         "y": {
          "bdata": "d76fGi9dGEBvEoPAygExQFpkO99PDSdAAAAAAAAAAACoxks3icEkQPp+arx0ExRALbKd76dGHUCkcD0K16MbQA==",
          "dtype": "f8"
         }
        },
        {
         "line": {
          "color": "gray"
         },
         "mode": "lines+markers",
         "name": "Everton",
         "opacity": 0.3,
         "type": "scatter",
         "visible": true,
         "x": {
          "bdata": "HyAhIiMkJSY=",
          "dtype": "i1"
         },
         "y": {
          "bdata": "UrgehevRFUBCYOXQItseQNNNYhBYuRlAIbByaJHtF0Ce76fGSzcaQMUgsHJokR1AK4cW2c53HUBMN4lBYOUbQA==",
          "dtype": "f8"
         }
        },
        {
         "line": {
          "color": "gray"
         },
         "mode": "lines+markers",
         "name": "Fulham",
         "opacity": 0.3,
         "type": "scatter",
         "visible": true,
         "x": {
          "bdata": "HyAhIiMkJSY=",
          "dtype": "i1"
         },
         "y": {
          "bdata": "0SLb+X5qGEBWDi2yne8QQLgehetRuBpAtvP91HjpHkBWDi2yne8TQMl2vp8arxVAObTIdr4fEkAdWmQ7388WQA==",
          "dtype": "f8"
         }
        },
        {
         "line": {
          "color": "gray"
         },
         "mode": "lines+markers",
         "name": "Ipswich Town",
         "opacity": 0.3,
         "type": "scatter",
         "visible": true,
         "x": {
          "bdata": "HyAhIiMkJSY=",
          "dtype": "i1"
         },
         "y": {
          "bdata": "x0s3iUHgEEAbL90kBoEKQMdLN4lBYAlAaJHtfD81EEAtsp3vp8YJQEjhehSuxxVAjZduEoNAFEDVeOkmMYgTQA==",
          "dtype": "f8"
         }
        },
        {
         "line": {
          "color": "gray"
         },
         "mode": "lines+markers",
         "name": "Leicester City",
         "opacity": 0.3,
         "type": "scatter",
         "visible": true,
         "x": {
          "bdata": "HyAhIiMkJSY=",
          "dtype": "i1"
         },
         "y": {
          "bdata": "dZMYBFYODkC6SQwCKwcUQPp+arx0kwJACKwcWmQ7CkD+1HjpJrEWQH0/NV66SQ5AkxgEVg6tEkAxCKwcWuQQQA==",
          "dtype": "f8"
         }
        },
        {
         "line": {
          "color": "gray"
         },
         "mode": "lines+markers",
         "name": "Liverpool",
         "opacity": 0.3,
         "type": "scatter",
         "visible": true,
         "x": {
          "bdata": "HyAhIiMkJSY=",
          "dtype": "i1"
         },
         "y": {
          "bdata": "ZmZmZmZmG0B/arx0k1ghQPyp8dJN4iJA16NwPQpXHEDFILByaBEXQD81XrpJjBFAAiuHFtnOHEBeukkMAqsZQA==",
          "dtype": "f8"
         }
        },
        {
         "line": {
          "color": "gray"
         },
         "mode": "lines+markers",
         "name": "Manchester City",
         "opacity": 0.3,
         "type": "scatter",
         "visible": true,
         "x": {
          "bdata": "HyAhIiMkJSY=",
          "dtype": "i1"
         },
         "y": {
          "bdata": "Rrbz/dT4G0BEi2zn+6kXQNEi2/l+qitAAAAAAAAAAABaZDvfTw0hQLx0kxgEViNAtvP91HhpG0A5tMh2vh8ZQA==",
          "dtype": "f8"
         }
        },
        {
         "line": {
          "color": "gray"
         },
         "mode": "lines+markers",
         "name": "Manchester Utd",
         "opacity": 0.3,
         "type": "scatter",
         "visible": true,
         "x": {
          "bdata": "HyAhIiMkJSY=",
          "dtype": "i1"
         },
         "y": {
          "bdata": "kxgEVg4tGEAGgZVDi2wbQOOlm8QgMBlAzczMzMzMFkBMN4lBYGUSQKAaL90khhdAF9nO91PjGkB1kxgEVk4hQA==",
          "dtype": "f8"
         }
        },
        {
         "line": {
          "color": "gray"
         },
         "mode": "lines+markers",
         "name": "Newcastle Utd",
         "opacity": 0.3,
         "type": "scatter",
         "visible": true,
         "x": {
          "bdata": "HyAhIiMkJSY=",
          "dtype": "i1"
         },
         "y": {
          "bdata": "ppvEILCyIECe76fGS7cnQMUgsHJokRZAcT0K16OwIECuR+F6FC4ZQCuHFtnOdxVAXrpJDAIrCkCR7Xw/Nd4YQA==",
          "dtype": "f8"
         }
        },
        {
         "line": {
          "color": "gray"
         },
         "mode": "lines+markers",
         "name": "Nott'ham Forest",
         "opacity": 0.3,
         "type": "scatter",
         "visible": true,
         "x": {
          "bdata": "HyAhIiMkJSY=",
          "dtype": "i1"
         },
         "y": {
          "bdata": "Vg4tsp3vFECamZmZmRkXQMP1KFyPQhRArkfhehSuFkACK4cW2c4RQBfZzvdTYyBAhetRuB6FGUDy0k1iEFgRQA==",
          "dtype": "f8"
         }
        },
        {
         "line": {
          "color": "gray"
         },
         "mode": "lines+markers",
         "name": "Southampton",
         "opacity": 0.3,
         "type": "scatter",
         "visible": true,
         "x": {
          "bdata": "HyAhIiMkJSY=",
          "dtype": "i1"
         },
         "y": {
          "bdata": "PQrXo3A9B0B3vp8aL10SQHe+nxov3Q1AH4XrUbieEUACK4cW2c4PQOxRuB6F6wFAZmZmZmZmDUDVeOkmMQgAQA==",
          "dtype": "f8"
         }
        },
        {
         "line": {
          "color": "gray"
         },
         "mode": "lines+markers",
         "name": "Tottenham",
         "opacity": 0.3,
         "type": "scatter",
         "visible": true,
         "x": {
          "bdata": "HyAhIiMkJSY=",
          "dtype": "i1"
         },
         "y": {
          "bdata": "UI2XbhIDIkCNl24Sg8AaQGZmZmZm5iNAPzVeukkMGUAv3SQGgZUaQK5H4XoUrhZAUrgeheuRIUCWQ4ts57sjQA==",
          "dtype": "f8"
         }
        },
        {
         "line": {
          "color": "gray"
         },
         "mode": "lines+markers",
         "name": "West Ham",
         "opacity": 0.3,
         "type": "scatter",
         "visible": true,
         "x": {
          "bdata": "HyAhIiMkJSY=",
          "dtype": "i1"
         },
         "y": {
          "bdata": "sp3vp8ZLHkB7FK5H4XoLQFg5tMh2PhxAz/dT46UbHkDpJjEIrBwMQEa28/3UeBBAWmQ730+NG0DfT42XbpIVQA==",
          "dtype": "f8"
         }
        },
        {
         "line": {
          "color": "gray"
         },
         "mode": "lines+markers",
         "name": "Wolves",
         "opacity": 0.3,
         "type": "scatter",
         "visible": true,
         "x": {
          "bdata": "HyAhIiMkJSY=",
          "dtype": "i1"
         },
         "y": {
          "bdata": "DAIrhxbZFkCDwMqhRbYNQL6fGi/dJA9ATDeJQWDlGkAbL90kBoEPQKjGSzeJgSFAcT0K16NwEkBzaJHtfL8bQA==",
          "dtype": "f8"
         }
        }
       ],
       "layout": {
        "template": {
         "data": {
          "bar": [
           {
            "error_x": {
             "color": "#2a3f5f"
            },
            "error_y": {
             "color": "#2a3f5f"
            },
            "marker": {
             "line": {
              "color": "#E5ECF6",
              "width": 0.5
             },
             "pattern": {
              "fillmode": "overlay",
              "size": 10,
              "solidity": 0.2
             }
            },
            "type": "bar"
           }
          ],
          "barpolar": [
           {
            "marker": {
             "line": {
              "color": "#E5ECF6",
              "width": 0.5
             },
             "pattern": {
              "fillmode": "overlay",
              "size": 10,
              "solidity": 0.2
             }
            },
            "type": "barpolar"
           }
          ],
          "carpet": [
           {
            "aaxis": {
             "endlinecolor": "#2a3f5f",
             "gridcolor": "white",
             "linecolor": "white",
             "minorgridcolor": "white",
             "startlinecolor": "#2a3f5f"
            },
            "baxis": {
             "endlinecolor": "#2a3f5f",
             "gridcolor": "white",
             "linecolor": "white",
             "minorgridcolor": "white",
             "startlinecolor": "#2a3f5f"
            },
            "type": "carpet"
           }
          ],
          "choropleth": [
           {
            "colorbar": {
             "outlinewidth": 0,
             "ticks": ""
            },
            "type": "choropleth"
           }
          ],
          "contour": [
           {
            "colorbar": {
             "outlinewidth": 0,
             "ticks": ""
            },
            "colorscale": [
             [
              0,
              "#0d0887"
             ],
             [
              0.1111111111111111,
              "#46039f"
             ],
             [
              0.2222222222222222,
              "#7201a8"
             ],
             [
              0.3333333333333333,
              "#9c179e"
             ],
             [
              0.4444444444444444,
              "#bd3786"
             ],
             [
              0.5555555555555556,
              "#d8576b"
             ],
             [
              0.6666666666666666,
              "#ed7953"
             ],
             [
              0.7777777777777778,
              "#fb9f3a"
             ],
             [
              0.8888888888888888,
              "#fdca26"
             ],
             [
              1,
              "#f0f921"
             ]
            ],
            "type": "contour"
           }
          ],
          "contourcarpet": [
           {
            "colorbar": {
             "outlinewidth": 0,
             "ticks": ""
            },
            "type": "contourcarpet"
           }
          ],
          "heatmap": [
           {
            "colorbar": {
             "outlinewidth": 0,
             "ticks": ""
            },
            "colorscale": [
             [
              0,
              "#0d0887"
             ],
             [
              0.1111111111111111,
              "#46039f"
             ],
             [
              0.2222222222222222,
              "#7201a8"
             ],
             [
              0.3333333333333333,
              "#9c179e"
             ],
             [
              0.4444444444444444,
              "#bd3786"
             ],
             [
              0.5555555555555556,
              "#d8576b"
             ],
             [
              0.6666666666666666,
              "#ed7953"
             ],
             [
              0.7777777777777778,
              "#fb9f3a"
             ],
             [
              0.8888888888888888,
              "#fdca26"
             ],
             [
              1,
              "#f0f921"
             ]
            ],
            "type": "heatmap"
           }
          ],
          "histogram": [
           {
            "marker": {
             "pattern": {
              "fillmode": "overlay",
              "size": 10,
              "solidity": 0.2
             }
            },
            "type": "histogram"
           }
          ],
          "histogram2d": [
           {
            "colorbar": {
             "outlinewidth": 0,
             "ticks": ""
            },
            "colorscale": [
             [
              0,
              "#0d0887"
             ],
             [
              0.1111111111111111,
              "#46039f"
             ],
             [
              0.2222222222222222,
              "#7201a8"
             ],
             [
              0.3333333333333333,
              "#9c179e"
             ],
             [
              0.4444444444444444,
              "#bd3786"
             ],
             [
              0.5555555555555556,
              "#d8576b"
             ],
             [
              0.6666666666666666,
              "#ed7953"
             ],
             [
              0.7777777777777778,
              "#fb9f3a"
             ],
             [
              0.8888888888888888,
              "#fdca26"
             ],
             [
              1,
              "#f0f921"
             ]
            ],
            "type": "histogram2d"
           }
          ],
          "histogram2dcontour": [
           {
            "colorbar": {
             "outlinewidth": 0,
             "ticks": ""
            },
            "colorscale": [
             [
              0,
              "#0d0887"
             ],
             [
              0.1111111111111111,
              "#46039f"
             ],
             [
              0.2222222222222222,
              "#7201a8"
             ],
             [
              0.3333333333333333,
              "#9c179e"
             ],
             [
              0.4444444444444444,
              "#bd3786"
             ],
             [
              0.5555555555555556,
              "#d8576b"
             ],
             [
              0.6666666666666666,
              "#ed7953"
             ],
             [
              0.7777777777777778,
              "#fb9f3a"
             ],
             [
              0.8888888888888888,
              "#fdca26"
             ],
             [
              1,
              "#f0f921"
             ]
            ],
            "type": "histogram2dcontour"
           }
          ],
          "mesh3d": [
           {
            "colorbar": {
             "outlinewidth": 0,
             "ticks": ""
            },
            "type": "mesh3d"
           }
          ],
          "parcoords": [
           {
            "line": {
             "colorbar": {
              "outlinewidth": 0,
              "ticks": ""
             }
            },
            "type": "parcoords"
           }
          ],
          "pie": [
           {
            "automargin": true,
            "type": "pie"
           }
          ],
          "scatter": [
           {
            "fillpattern": {
             "fillmode": "overlay",
             "size": 10,
             "solidity": 0.2
            },
            "type": "scatter"
           }
          ],
          "scatter3d": [
           {
            "line": {
             "colorbar": {
              "outlinewidth": 0,
              "ticks": ""
             }
            },
            "marker": {
             "colorbar": {
              "outlinewidth": 0,
              "ticks": ""
             }
            },
            "type": "scatter3d"
           }
          ],
          "scattercarpet": [
           {
            "marker": {
             "colorbar": {
              "outlinewidth": 0,
              "ticks": ""
             }
            },
            "type": "scattercarpet"
           }
          ],
          "scattergeo": [
           {
            "marker": {
             "colorbar": {
              "outlinewidth": 0,
              "ticks": ""
             }
            },
            "type": "scattergeo"
           }
          ],
          "scattergl": [
           {
            "marker": {
             "colorbar": {
              "outlinewidth": 0,
              "ticks": ""
             }
            },
            "type": "scattergl"
           }
          ],
          "scattermap": [
           {
            "marker": {
             "colorbar": {
              "outlinewidth": 0,
              "ticks": ""
             }
            },
            "type": "scattermap"
           }
          ],
          "scattermapbox": [
           {
            "marker": {
             "colorbar": {
              "outlinewidth": 0,
              "ticks": ""
             }
            },
            "type": "scattermapbox"
           }
          ],
          "scatterpolar": [
           {
            "marker": {
             "colorbar": {
              "outlinewidth": 0,
              "ticks": ""
             }
            },
            "type": "scatterpolar"
           }
          ],
          "scatterpolargl": [
           {
            "marker": {
             "colorbar": {
              "outlinewidth": 0,
              "ticks": ""
             }
            },
            "type": "scatterpolargl"
           }
          ],
          "scatterternary": [
           {
            "marker": {
             "colorbar": {
              "outlinewidth": 0,
              "ticks": ""
             }
            },
            "type": "scatterternary"
           }
          ],
          "surface": [
           {
            "colorbar": {
             "outlinewidth": 0,
             "ticks": ""
            },
            "colorscale": [
             [
              0,
              "#0d0887"
             ],
             [
              0.1111111111111111,
              "#46039f"
             ],
             [
              0.2222222222222222,
              "#7201a8"
             ],
             [
              0.3333333333333333,
              "#9c179e"
             ],
             [
              0.4444444444444444,
              "#bd3786"
             ],
             [
              0.5555555555555556,
              "#d8576b"
             ],
             [
              0.6666666666666666,
              "#ed7953"
             ],
             [
              0.7777777777777778,
              "#fb9f3a"
             ],
             [
              0.8888888888888888,
              "#fdca26"
             ],
             [
              1,
              "#f0f921"
             ]
            ],
            "type": "surface"
           }
          ],
          "table": [
           {
            "cells": {
             "fill": {
              "color": "#EBF0F8"
             },
             "line": {
              "color": "white"
             }
            },
            "header": {
             "fill": {
              "color": "#C8D4E3"
             },
             "line": {
              "color": "white"
             }
            },
            "type": "table"
           }
          ]
         },
         "layout": {
          "annotationdefaults": {
           "arrowcolor": "#2a3f5f",
           "arrowhead": 0,
           "arrowwidth": 1
          },
          "autotypenumbers": "strict",
          "coloraxis": {
           "colorbar": {
            "outlinewidth": 0,
            "ticks": ""
           }
          },
          "colorscale": {
           "diverging": [
            [
             0,
             "#8e0152"
            ],
            [
             0.1,
             "#c51b7d"
            ],
            [
             0.2,
             "#de77ae"
            ],
            [
             0.3,
             "#f1b6da"
            ],
            [
             0.4,
             "#fde0ef"
            ],
            [
             0.5,
             "#f7f7f7"
            ],
            [
             0.6,
             "#e6f5d0"
            ],
            [
             0.7,
             "#b8e186"
            ],
            [
             0.8,
             "#7fbc41"
            ],
            [
             0.9,
             "#4d9221"
            ],
            [
             1,
             "#276419"
            ]
           ],
           "sequential": [
            [
             0,
             "#0d0887"
            ],
            [
             0.1111111111111111,
             "#46039f"
            ],
            [
             0.2222222222222222,
             "#7201a8"
            ],
            [
             0.3333333333333333,
             "#9c179e"
            ],
            [
             0.4444444444444444,
             "#bd3786"
            ],
            [
             0.5555555555555556,
             "#d8576b"
            ],
            [
             0.6666666666666666,
             "#ed7953"
            ],
            [
             0.7777777777777778,
             "#fb9f3a"
            ],
            [
             0.8888888888888888,
             "#fdca26"
            ],
            [
             1,
             "#f0f921"
            ]
           ],
           "sequentialminus": [
            [
             0,
             "#0d0887"
            ],
            [
             0.1111111111111111,
             "#46039f"
            ],
            [
             0.2222222222222222,
             "#7201a8"
            ],
            [
             0.3333333333333333,
             "#9c179e"
            ],
            [
             0.4444444444444444,
             "#bd3786"
            ],
            [
             0.5555555555555556,
             "#d8576b"
            ],
            [
             0.6666666666666666,
             "#ed7953"
            ],
            [
             0.7777777777777778,
             "#fb9f3a"
            ],
            [
             0.8888888888888888,
             "#fdca26"
            ],
            [
             1,
             "#f0f921"
            ]
           ]
          },
          "colorway": [
           "#636efa",
           "#EF553B",
           "#00cc96",
           "#ab63fa",
           "#FFA15A",
           "#19d3f3",
           "#FF6692",
           "#B6E880",
           "#FF97FF",
           "#FECB52"
          ],
          "font": {
           "color": "#2a3f5f"
          },
          "geo": {
           "bgcolor": "white",
           "lakecolor": "white",
           "landcolor": "#E5ECF6",
           "showlakes": true,
           "showland": true,
           "subunitcolor": "white"
          },
          "hoverlabel": {
           "align": "left"
          },
          "hovermode": "closest",
          "mapbox": {
           "style": "light"
          },
          "paper_bgcolor": "white",
          "plot_bgcolor": "#E5ECF6",
          "polar": {
           "angularaxis": {
            "gridcolor": "white",
            "linecolor": "white",
            "ticks": ""
           },
           "bgcolor": "#E5ECF6",
           "radialaxis": {
            "gridcolor": "white",
            "linecolor": "white",
            "ticks": ""
           }
          },
          "scene": {
           "xaxis": {
            "backgroundcolor": "#E5ECF6",
            "gridcolor": "white",
            "gridwidth": 2,
            "linecolor": "white",
            "showbackground": true,
            "ticks": "",
            "zerolinecolor": "white"
           },
           "yaxis": {
            "backgroundcolor": "#E5ECF6",
            "gridcolor": "white",
            "gridwidth": 2,
            "linecolor": "white",
            "showbackground": true,
            "ticks": "",
            "zerolinecolor": "white"
           },
           "zaxis": {
            "backgroundcolor": "#E5ECF6",
            "gridcolor": "white",
            "gridwidth": 2,
            "linecolor": "white",
            "showbackground": true,
            "ticks": "",
            "zerolinecolor": "white"
           }
          },
          "shapedefaults": {
           "line": {
            "color": "#2a3f5f"
           }
          },
          "ternary": {
           "aaxis": {
            "gridcolor": "white",
            "linecolor": "white",
            "ticks": ""
           },
           "baxis": {
            "gridcolor": "white",
            "linecolor": "white",
            "ticks": ""
           },
           "bgcolor": "#E5ECF6",
           "caxis": {
            "gridcolor": "white",
            "linecolor": "white",
            "ticks": ""
           }
          },
          "title": {
           "x": 0.05
          },
          "xaxis": {
           "automargin": true,
           "gridcolor": "white",
           "linecolor": "white",
           "ticks": "",
           "title": {
            "standoff": 15
           },
           "zerolinecolor": "white",
           "zerolinewidth": 2
          },
          "yaxis": {
           "automargin": true,
           "gridcolor": "white",
           "linecolor": "white",
           "ticks": "",
           "title": {
            "standoff": 15
           },
           "zerolinecolor": "white",
           "zerolinewidth": 2
          }
         }
        },
        "title": {
         "text": "Expected Points per Game Week - Arsenal"
        },
        "updatemenus": [
         {
          "buttons": [
           {
            "args": [
             {
              "line": [
               {
                "color": "blue"
               },
               {
                "color": "gray"
               },
               {
                "color": "gray"
               },
               {
                "color": "gray"
               },
               {
                "color": "gray"
               },
               {
                "color": "gray"
               },
               {
                "color": "gray"
               },
               {
                "color": "gray"
               },
               {
                "color": "gray"
               },
               {
                "color": "gray"
               },
               {
                "color": "gray"
               },
               {
                "color": "gray"
               },
               {
                "color": "gray"
               },
               {
                "color": "gray"
               },
               {
                "color": "gray"
               },
               {
                "color": "gray"
               },
               {
                "color": "gray"
               },
               {
                "color": "gray"
               },
               {
                "color": "gray"
               },
               {
                "color": "gray"
               }
              ],
              "opacity": [
               1,
               0.3,
               0.3,
               0.3,
               0.3,
               0.3,
               0.3,
               0.3,
               0.3,
               0.3,
               0.3,
               0.3,
               0.3,
               0.3,
               0.3,
               0.3,
               0.3,
               0.3,
               0.3,
               0.3
              ]
             },
             {
              "title": "Expected Points per Game Week - Arsenal"
             }
            ],
            "label": "Arsenal",
            "method": "update"
           },
           {
            "args": [
             {
              "line": [
               {
                "color": "gray"
               },
               {
                "color": "blue"
               },
               {
                "color": "gray"
               },
               {
                "color": "gray"
               },
               {
                "color": "gray"
               },
               {
                "color": "gray"
               },
               {
                "color": "gray"
               },
               {
                "color": "gray"
               },
               {
                "color": "gray"
               },
               {
                "color": "gray"
               },
               {
                "color": "gray"
               },
               {
                "color": "gray"
               },
               {
                "color": "gray"
               },
               {
                "color": "gray"
               },
               {
                "color": "gray"
               },
               {
                "color": "gray"
               },
               {
                "color": "gray"
               },
               {
                "color": "gray"
               },
               {
                "color": "gray"
               },
               {
                "color": "gray"
               }
              ],
              "opacity": [
               0.3,
               1,
               0.3,
               0.3,
               0.3,
               0.3,
               0.3,
               0.3,
               0.3,
               0.3,
               0.3,
               0.3,
               0.3,
               0.3,
               0.3,
               0.3,
               0.3,
               0.3,
               0.3,
               0.3
              ]
             },
             {
              "title": "Expected Points per Game Week - Aston Villa"
             }
            ],
            "label": "Aston Villa",
            "method": "update"
           },
           {
            "args": [
             {
              "line": [
               {
                "color": "gray"
               },
               {
                "color": "gray"
               },
               {
                "color": "blue"
               },
               {
                "color": "gray"
               },
               {
                "color": "gray"
               },
               {
                "color": "gray"
               },
               {
                "color": "gray"
               },
               {
                "color": "gray"
               },
               {
                "color": "gray"
               },
               {
                "color": "gray"
               },
               {
                "color": "gray"
               },
               {
                "color": "gray"
               },
               {
                "color": "gray"
               },
               {
                "color": "gray"
               },
               {
                "color": "gray"
               },
               {
                "color": "gray"
               },
               {
                "color": "gray"
               },
               {
                "color": "gray"
               },
               {
                "color": "gray"
               },
               {
                "color": "gray"
               }
              ],
              "opacity": [
               0.3,
               0.3,
               1,
               0.3,
               0.3,
               0.3,
               0.3,
               0.3,
               0.3,
               0.3,
               0.3,
               0.3,
               0.3,
               0.3,
               0.3,
               0.3,
               0.3,
               0.3,
               0.3,
               0.3
              ]
             },
             {
              "title": "Expected Points per Game Week - Bournemouth"
             }
            ],
            "label": "Bournemouth",
            "method": "update"
           },
           {
            "args": [
             {
              "line": [
               {
                "color": "gray"
               },
               {
                "color": "gray"
               },
               {
                "color": "gray"
               },
               {
                "color": "blue"
               },
               {
                "color": "gray"
               },
               {
                "color": "gray"
               },
               {
                "color": "gray"
               },
               {
                "color": "gray"
               },
               {
                "color": "gray"
               },
               {
                "color": "gray"
               },
               {
                "color": "gray"
               },
               {
                "color": "gray"
               },
               {
                "color": "gray"
               },
               {
                "color": "gray"
               },
               {
                "color": "gray"
               },
               {
                "color": "gray"
               },
               {
                "color": "gray"
               },
               {
                "color": "gray"
               },
               {
                "color": "gray"
               },
               {
                "color": "gray"
               }
              ],
              "opacity": [
               0.3,
               0.3,
               0.3,
               1,
               0.3,
               0.3,
               0.3,
               0.3,
               0.3,
               0.3,
               0.3,
               0.3,
               0.3,
               0.3,
               0.3,
               0.3,
               0.3,
               0.3,
               0.3,
               0.3
              ]
             },
             {
              "title": "Expected Points per Game Week - Brentford"
             }
            ],
            "label": "Brentford",
            "method": "update"
           },
           {
            "args": [
             {
              "line": [
               {
                "color": "gray"
               },
               {
                "color": "gray"
               },
               {
                "color": "gray"
               },
               {
                "color": "gray"
               },
               {
                "color": "blue"
               },
               {
                "color": "gray"
               },
               {
                "color": "gray"
               },
               {
                "color": "gray"
               },
               {
                "color": "gray"
               },
               {
                "color": "gray"
               },
               {
                "color": "gray"
               },
               {
                "color": "gray"
               },
               {
                "color": "gray"
               },
               {
                "color": "gray"
               },
               {
                "color": "gray"
               },
               {
                "color": "gray"
               },
               {
                "color": "gray"
               },
               {
                "color": "gray"
               },
               {
                "color": "gray"
               },
               {
                "color": "gray"
               }
              ],
              "opacity": [
               0.3,
               0.3,
               0.3,
               0.3,
               1,
               0.3,
               0.3,
               0.3,
               0.3,
               0.3,
               0.3,
               0.3,
               0.3,
               0.3,
               0.3,
               0.3,
               0.3,
               0.3,
               0.3,
               0.3
              ]
             },
             {
              "title": "Expected Points per Game Week - Brighton"
             }
            ],
            "label": "Brighton",
            "method": "update"
           },
           {
            "args": [
             {
              "line": [
               {
                "color": "gray"
               },
               {
                "color": "gray"
               },
               {
                "color": "gray"
               },
               {
                "color": "gray"
               },
               {
                "color": "gray"
               },
               {
                "color": "blue"
               },
               {
                "color": "gray"
               },
               {
                "color": "gray"
               },
               {
                "color": "gray"
               },
               {
                "color": "gray"
               },
               {
                "color": "gray"
               },
               {
                "color": "gray"
               },
               {
                "color": "gray"
               },
               {
                "color": "gray"
               },
               {
                "color": "gray"
               },
               {
                "color": "gray"
               },
               {
                "color": "gray"
               },
               {
                "color": "gray"
               },
               {
                "color": "gray"
               },
               {
                "color": "gray"
               }
              ],
              "opacity": [
               0.3,
               0.3,
               0.3,
               0.3,
               0.3,
               1,
               0.3,
               0.3,
               0.3,
               0.3,
               0.3,
               0.3,
               0.3,
               0.3,
               0.3,
               0.3,
               0.3,
               0.3,
               0.3,
               0.3
              ]
             },
             {
              "title": "Expected Points per Game Week - Chelsea"
             }
            ],
            "label": "Chelsea",
            "method": "update"
           },
           {
            "args": [
             {
              "line": [
               {
                "color": "gray"
               },
               {
                "color": "gray"
               },
               {
                "color": "gray"
               },
               {
                "color": "gray"
               },
               {
                "color": "gray"
               },
               {
                "color": "gray"
               },
               {
                "color": "blue"
               },
               {
                "color": "gray"
               },
               {
                "color": "gray"
               },
               {
                "color": "gray"
               },
               {
                "color": "gray"
               },
               {
                "color": "gray"
               },
               {
                "color": "gray"
               },
               {
                "color": "gray"
               },
               {
                "color": "gray"
               },
               {
                "color": "gray"
               },
               {
                "color": "gray"
               },
               {
                "color": "gray"
               },
               {
                "color": "gray"
               },
               {
                "color": "gray"
               }
              ],
              "opacity": [
               0.3,
               0.3,
               0.3,
               0.3,
               0.3,
               0.3,
               1,
               0.3,
               0.3,
               0.3,
               0.3,
               0.3,
               0.3,
               0.3,
               0.3,
               0.3,
               0.3,
               0.3,
               0.3,
               0.3
              ]
             },
             {
              "title": "Expected Points per Game Week - Crystal Palace"
             }
            ],
            "label": "Crystal Palace",
            "method": "update"
           },
           {
            "args": [
             {
              "line": [
               {
                "color": "gray"
               },
               {
                "color": "gray"
               },
               {
                "color": "gray"
               },
               {
                "color": "gray"
               },
               {
                "color": "gray"
               },
               {
                "color": "gray"
               },
               {
                "color": "gray"
               },
               {
                "color": "blue"
               },
               {
                "color": "gray"
               },
               {
                "color": "gray"
               },
               {
                "color": "gray"
               },
               {
                "color": "gray"
               },
               {
                "color": "gray"
               },
               {
                "color": "gray"
               },
               {
                "color": "gray"
               },
               {
                "color": "gray"
               },
               {
                "color": "gray"
               },
               {
                "color": "gray"
               },
               {
                "color": "gray"
               },
               {
                "color": "gray"
               }
              ],
              "opacity": [
               0.3,
               0.3,
               0.3,
               0.3,
               0.3,
               0.3,
               0.3,
               1,
               0.3,
               0.3,
               0.3,
               0.3,
               0.3,
               0.3,
               0.3,
               0.3,
               0.3,
               0.3,
               0.3,
               0.3
              ]
             },
             {
              "title": "Expected Points per Game Week - Everton"
             }
            ],
            "label": "Everton",
            "method": "update"
           },
           {
            "args": [
             {
              "line": [
               {
                "color": "gray"
               },
               {
                "color": "gray"
               },
               {
                "color": "gray"
               },
               {
                "color": "gray"
               },
               {
                "color": "gray"
               },
               {
                "color": "gray"
               },
               {
                "color": "gray"
               },
               {
                "color": "gray"
               },
               {
                "color": "blue"
               },
               {
                "color": "gray"
               },
               {
                "color": "gray"
               },
               {
                "color": "gray"
               },
               {
                "color": "gray"
               },
               {
                "color": "gray"
               },
               {
                "color": "gray"
               },
               {
                "color": "gray"
               },
               {
                "color": "gray"
               },
               {
                "color": "gray"
               },
               {
                "color": "gray"
               },
               {
                "color": "gray"
               }
              ],
              "opacity": [
               0.3,
               0.3,
               0.3,
               0.3,
               0.3,
               0.3,
               0.3,
               0.3,
               1,
               0.3,
               0.3,
               0.3,
               0.3,
               0.3,
               0.3,
               0.3,
               0.3,
               0.3,
               0.3,
               0.3
              ]
             },
             {
              "title": "Expected Points per Game Week - Fulham"
             }
            ],
            "label": "Fulham",
            "method": "update"
           },
           {
            "args": [
             {
              "line": [
               {
                "color": "gray"
               },
               {
                "color": "gray"
               },
               {
                "color": "gray"
               },
               {
                "color": "gray"
               },
               {
                "color": "gray"
               },
               {
                "color": "gray"
               },
               {
                "color": "gray"
               },
               {
                "color": "gray"
               },
               {
                "color": "gray"
               },
               {
                "color": "blue"
               },
               {
                "color": "gray"
               },
               {
                "color": "gray"
               },
               {
                "color": "gray"
               },
               {
                "color": "gray"
               },
               {
                "color": "gray"
               },
               {
                "color": "gray"
               },
               {
                "color": "gray"
               },
               {
                "color": "gray"
               },
               {
                "color": "gray"
               },
               {
                "color": "gray"
               }
              ],
              "opacity": [
               0.3,
               0.3,
               0.3,
               0.3,
               0.3,
               0.3,
               0.3,
               0.3,
               0.3,
               1,
               0.3,
               0.3,
               0.3,
               0.3,
               0.3,
               0.3,
               0.3,
               0.3,
               0.3,
               0.3
              ]
             },
             {
              "title": "Expected Points per Game Week - Ipswich Town"
             }
            ],
            "label": "Ipswich Town",
            "method": "update"
           },
           {
            "args": [
             {
              "line": [
               {
                "color": "gray"
               },
               {
                "color": "gray"
               },
               {
                "color": "gray"
               },
               {
                "color": "gray"
               },
               {
                "color": "gray"
               },
               {
                "color": "gray"
               },
               {
                "color": "gray"
               },
               {
                "color": "gray"
               },
               {
                "color": "gray"
               },
               {
                "color": "gray"
               },
               {
                "color": "blue"
               },
               {
                "color": "gray"
               },
               {
                "color": "gray"
               },
               {
                "color": "gray"
               },
               {
                "color": "gray"
               },
               {
                "color": "gray"
               },
               {
                "color": "gray"
               },
               {
                "color": "gray"
               },
               {
                "color": "gray"
               },
               {
                "color": "gray"
               }
              ],
              "opacity": [
               0.3,
               0.3,
               0.3,
               0.3,
               0.3,
               0.3,
               0.3,
               0.3,
               0.3,
               0.3,
               1,
               0.3,
               0.3,
               0.3,
               0.3,
               0.3,
               0.3,
               0.3,
               0.3,
               0.3
              ]
             },
             {
              "title": "Expected Points per Game Week - Leicester City"
             }
            ],
            "label": "Leicester City",
            "method": "update"
           },
           {
            "args": [
             {
              "line": [
               {
                "color": "gray"
               },
               {
                "color": "gray"
               },
               {
                "color": "gray"
               },
               {
                "color": "gray"
               },
               {
                "color": "gray"
               },
               {
                "color": "gray"
               },
               {
                "color": "gray"
               },
               {
                "color": "gray"
               },
               {
                "color": "gray"
               },
               {
                "color": "gray"
               },
               {
                "color": "gray"
               },
               {
                "color": "blue"
               },
               {
                "color": "gray"
               },
               {
                "color": "gray"
               },
               {
                "color": "gray"
               },
               {
                "color": "gray"
               },
               {
                "color": "gray"
               },
               {
                "color": "gray"
               },
               {
                "color": "gray"
               },
               {
                "color": "gray"
               }
              ],
              "opacity": [
               0.3,
               0.3,
               0.3,
               0.3,
               0.3,
               0.3,
               0.3,
               0.3,
               0.3,
               0.3,
               0.3,
               1,
               0.3,
               0.3,
               0.3,
               0.3,
               0.3,
               0.3,
               0.3,
               0.3
              ]
             },
             {
              "title": "Expected Points per Game Week - Liverpool"
             }
            ],
            "label": "Liverpool",
            "method": "update"
           },
           {
            "args": [
             {
              "line": [
               {
                "color": "gray"
               },
               {
                "color": "gray"
               },
               {
                "color": "gray"
               },
               {
                "color": "gray"
               },
               {
                "color": "gray"
               },
               {
                "color": "gray"
               },
               {
                "color": "gray"
               },
               {
                "color": "gray"
               },
               {
                "color": "gray"
               },
               {
                "color": "gray"
               },
               {
                "color": "gray"
               },
               {
                "color": "gray"
               },
               {
                "color": "blue"
               },
               {
                "color": "gray"
               },
               {
                "color": "gray"
               },
               {
                "color": "gray"
               },
               {
                "color": "gray"
               },
               {
                "color": "gray"
               },
               {
                "color": "gray"
               },
               {
                "color": "gray"
               }
              ],
              "opacity": [
               0.3,
               0.3,
               0.3,
               0.3,
               0.3,
               0.3,
               0.3,
               0.3,
               0.3,
               0.3,
               0.3,
               0.3,
               1,
               0.3,
               0.3,
               0.3,
               0.3,
               0.3,
               0.3,
               0.3
              ]
             },
             {
              "title": "Expected Points per Game Week - Manchester City"
             }
            ],
            "label": "Manchester City",
            "method": "update"
           },
           {
            "args": [
             {
              "line": [
               {
                "color": "gray"
               },
               {
                "color": "gray"
               },
               {
                "color": "gray"
               },
               {
                "color": "gray"
               },
               {
                "color": "gray"
               },
               {
                "color": "gray"
               },
               {
                "color": "gray"
               },
               {
                "color": "gray"
               },
               {
                "color": "gray"
               },
               {
                "color": "gray"
               },
               {
                "color": "gray"
               },
               {
                "color": "gray"
               },
               {
                "color": "gray"
               },
               {
                "color": "blue"
               },
               {
                "color": "gray"
               },
               {
                "color": "gray"
               },
               {
                "color": "gray"
               },
               {
                "color": "gray"
               },
               {
                "color": "gray"
               },
               {
                "color": "gray"
               }
              ],
              "opacity": [
               0.3,
               0.3,
               0.3,
               0.3,
               0.3,
               0.3,
               0.3,
               0.3,
               0.3,
               0.3,
               0.3,
               0.3,
               0.3,
               1,
               0.3,
               0.3,
               0.3,
               0.3,
               0.3,
               0.3
              ]
             },
             {
              "title": "Expected Points per Game Week - Manchester Utd"
             }
            ],
            "label": "Manchester Utd",
            "method": "update"
           },
           {
            "args": [
             {
              "line": [
               {
                "color": "gray"
               },
               {
                "color": "gray"
               },
               {
                "color": "gray"
               },
               {
                "color": "gray"
               },
               {
                "color": "gray"
               },
               {
                "color": "gray"
               },
               {
                "color": "gray"
               },
               {
                "color": "gray"
               },
               {
                "color": "gray"
               },
               {
                "color": "gray"
               },
               {
                "color": "gray"
               },
               {
                "color": "gray"
               },
               {
                "color": "gray"
               },
               {
                "color": "gray"
               },
               {
                "color": "blue"
               },
               {
                "color": "gray"
               },
               {
                "color": "gray"
               },
               {
                "color": "gray"
               },
               {
                "color": "gray"
               },
               {
                "color": "gray"
               }
              ],
              "opacity": [
               0.3,
               0.3,
               0.3,
               0.3,
               0.3,
               0.3,
               0.3,
               0.3,
               0.3,
               0.3,
               0.3,
               0.3,
               0.3,
               0.3,
               1,
               0.3,
               0.3,
               0.3,
               0.3,
               0.3
              ]
             },
             {
              "title": "Expected Points per Game Week - Newcastle Utd"
             }
            ],
            "label": "Newcastle Utd",
            "method": "update"
           },
           {
            "args": [
             {
              "line": [
               {
                "color": "gray"
               },
               {
                "color": "gray"
               },
               {
                "color": "gray"
               },
               {
                "color": "gray"
               },
               {
                "color": "gray"
               },
               {
                "color": "gray"
               },
               {
                "color": "gray"
               },
               {
                "color": "gray"
               },
               {
                "color": "gray"
               },
               {
                "color": "gray"
               },
               {
                "color": "gray"
               },
               {
                "color": "gray"
               },
               {
                "color": "gray"
               },
               {
                "color": "gray"
               },
               {
                "color": "gray"
               },
               {
                "color": "blue"
               },
               {
                "color": "gray"
               },
               {
                "color": "gray"
               },
               {
                "color": "gray"
               },
               {
                "color": "gray"
               }
              ],
              "opacity": [
               0.3,
               0.3,
               0.3,
               0.3,
               0.3,
               0.3,
               0.3,
               0.3,
               0.3,
               0.3,
               0.3,
               0.3,
               0.3,
               0.3,
               0.3,
               1,
               0.3,
               0.3,
               0.3,
               0.3
              ]
             },
             {
              "title": "Expected Points per Game Week - Nott'ham Forest"
             }
            ],
            "label": "Nott'ham Forest",
            "method": "update"
           },
           {
            "args": [
             {
              "line": [
               {
                "color": "gray"
               },
               {
                "color": "gray"
               },
               {
                "color": "gray"
               },
               {
                "color": "gray"
               },
               {
                "color": "gray"
               },
               {
                "color": "gray"
               },
               {
                "color": "gray"
               },
               {
                "color": "gray"
               },
               {
                "color": "gray"
               },
               {
                "color": "gray"
               },
               {
                "color": "gray"
               },
               {
                "color": "gray"
               },
               {
                "color": "gray"
               },
               {
                "color": "gray"
               },
               {
                "color": "gray"
               },
               {
                "color": "gray"
               },
               {
                "color": "blue"
               },
               {
                "color": "gray"
               },
               {
                "color": "gray"
               },
               {
                "color": "gray"
               }
              ],
              "opacity": [
               0.3,
               0.3,
               0.3,
               0.3,
               0.3,
               0.3,
               0.3,
               0.3,
               0.3,
               0.3,
               0.3,
               0.3,
               0.3,
               0.3,
               0.3,
               0.3,
               1,
               0.3,
               0.3,
               0.3
              ]
             },
             {
              "title": "Expected Points per Game Week - Southampton"
             }
            ],
            "label": "Southampton",
            "method": "update"
           },
           {
            "args": [
             {
              "line": [
               {
                "color": "gray"
               },
               {
                "color": "gray"
               },
               {
                "color": "gray"
               },
               {
                "color": "gray"
               },
               {
                "color": "gray"
               },
               {
                "color": "gray"
               },
               {
                "color": "gray"
               },
               {
                "color": "gray"
               },
               {
                "color": "gray"
               },
               {
                "color": "gray"
               },
               {
                "color": "gray"
               },
               {
                "color": "gray"
               },
               {
                "color": "gray"
               },
               {
                "color": "gray"
               },
               {
                "color": "gray"
               },
               {
                "color": "gray"
               },
               {
                "color": "gray"
               },
               {
                "color": "blue"
               },
               {
                "color": "gray"
               },
               {
                "color": "gray"
               }
              ],
              "opacity": [
               0.3,
               0.3,
               0.3,
               0.3,
               0.3,
               0.3,
               0.3,
               0.3,
               0.3,
               0.3,
               0.3,
               0.3,
               0.3,
               0.3,
               0.3,
               0.3,
               0.3,
               1,
               0.3,
               0.3
              ]
             },
             {
              "title": "Expected Points per Game Week - Tottenham"
             }
            ],
            "label": "Tottenham",
            "method": "update"
           },
           {
            "args": [
             {
              "line": [
               {
                "color": "gray"
               },
               {
                "color": "gray"
               },
               {
                "color": "gray"
               },
               {
                "color": "gray"
               },
               {
                "color": "gray"
               },
               {
                "color": "gray"
               },
               {
                "color": "gray"
               },
               {
                "color": "gray"
               },
               {
                "color": "gray"
               },
               {
                "color": "gray"
               },
               {
                "color": "gray"
               },
               {
                "color": "gray"
               },
               {
                "color": "gray"
               },
               {
                "color": "gray"
               },
               {
                "color": "gray"
               },
               {
                "color": "gray"
               },
               {
                "color": "gray"
               },
               {
                "color": "gray"
               },
               {
                "color": "blue"
               },
               {
                "color": "gray"
               }
              ],
              "opacity": [
               0.3,
               0.3,
               0.3,
               0.3,
               0.3,
               0.3,
               0.3,
               0.3,
               0.3,
               0.3,
               0.3,
               0.3,
               0.3,
               0.3,
               0.3,
               0.3,
               0.3,
               0.3,
               1,
               0.3
              ]
             },
             {
              "title": "Expected Points per Game Week - West Ham"
             }
            ],
            "label": "West Ham",
            "method": "update"
           },
           {
            "args": [
             {
              "line": [
               {
                "color": "gray"
               },
               {
                "color": "gray"
               },
               {
                "color": "gray"
               },
               {
                "color": "gray"
               },
               {
                "color": "gray"
               },
               {
                "color": "gray"
               },
               {
                "color": "gray"
               },
               {
                "color": "gray"
               },
               {
                "color": "gray"
               },
               {
                "color": "gray"
               },
               {
                "color": "gray"
               },
               {
                "color": "gray"
               },
               {
                "color": "gray"
               },
               {
                "color": "gray"
               },
               {
                "color": "gray"
               },
               {
                "color": "gray"
               },
               {
                "color": "gray"
               },
               {
                "color": "gray"
               },
               {
                "color": "gray"
               },
               {
                "color": "blue"
               }
              ],
              "opacity": [
               0.3,
               0.3,
               0.3,
               0.3,
               0.3,
               0.3,
               0.3,
               0.3,
               0.3,
               0.3,
               0.3,
               0.3,
               0.3,
               0.3,
               0.3,
               0.3,
               0.3,
               0.3,
               0.3,
               1
              ]
             },
             {
              "title": "Expected Points per Game Week - Wolves"
             }
            ],
            "label": "Wolves",
            "method": "update"
           }
          ],
          "direction": "down",
          "showactive": true
         }
        ],
        "xaxis": {
         "title": {
          "text": "Game Week"
         }
        },
        "yaxis": {
         "title": {
          "text": "Expected Points"
         }
        }
       }
      }
     },
     "metadata": {},
     "output_type": "display_data"
    }
   ],
   "source": [
    "# Get unique teams\n",
    "teams = np.sort(weekly_scores['team'].unique())\n",
    "default_team = teams[0]  # Default highlighted team\n",
    "\n",
    "# Create figure\n",
    "fig = go.Figure()\n",
    "\n",
    "for team in teams:\n",
    "    fig.add_trace(go.Scatter(\n",
    "        x=weekly_scores[weekly_scores['team'] == team]['gameweek'],\n",
    "        y=weekly_scores[weekly_scores['team'] == team]['expected_points'],\n",
    "        mode='lines+markers',\n",
    "        name=team,\n",
    "        line=dict(color='blue' if team == default_team else 'gray'),\n",
    "        opacity=1 if team == default_team else 0.3,\n",
    "        visible=True\n",
    "    ))\n",
    "\n",
    "# Create dropdown menu\n",
    "dropdown_buttons = []\n",
    "for selected_team in teams:\n",
    "    button = {\n",
    "        \"label\": selected_team,\n",
    "        \"method\": \"update\",\n",
    "        \"args\": [\n",
    "            {\n",
    "                \"opacity\": [1 if team == selected_team else 0.3 for team in teams],\n",
    "                \"line\": [dict(color=\"blue\" if team == selected_team else \"gray\") for team in teams],\n",
    "            },\n",
    "            {\"title\": f\"Expected Points per Game Week - {selected_team}\"}\n",
    "        ]\n",
    "    }\n",
    "    dropdown_buttons.append(button)\n",
    "\n",
    "# Add dropdown menu\n",
    "fig.update_layout(\n",
    "    title=f\"Expected Points per Game Week - {default_team}\",\n",
    "    xaxis_title=\"Game Week\",\n",
    "    yaxis_title=\"Expected Points\",\n",
    "    updatemenus=[{\n",
    "        \"buttons\": dropdown_buttons,\n",
    "        \"direction\": \"down\",\n",
    "        \"showactive\": True,\n",
    "    }]\n",
    ")\n",
    "\n",
    "fig.show()"
   ]
  },
  {
   "cell_type": "code",
   "execution_count": 35,
   "metadata": {},
   "outputs": [
    {
     "data": {
      "text/html": [
       "<div>\n",
       "<style scoped>\n",
       "    .dataframe tbody tr th:only-of-type {\n",
       "        vertical-align: middle;\n",
       "    }\n",
       "\n",
       "    .dataframe tbody tr th {\n",
       "        vertical-align: top;\n",
       "    }\n",
       "\n",
       "    .dataframe thead th {\n",
       "        text-align: right;\n",
       "    }\n",
       "</style>\n",
       "<table border=\"1\" class=\"dataframe\">\n",
       "  <thead>\n",
       "    <tr style=\"text-align: right;\">\n",
       "      <th></th>\n",
       "      <th>gameweek</th>\n",
       "      <th>team</th>\n",
       "      <th>expected_points</th>\n",
       "      <th>simulation_nr</th>\n",
       "      <th>rolling_expected_points</th>\n",
       "    </tr>\n",
       "  </thead>\n",
       "  <tbody>\n",
       "    <tr>\n",
       "      <th>0</th>\n",
       "      <td>31</td>\n",
       "      <td>Arsenal</td>\n",
       "      <td>6.891</td>\n",
       "      <td>499.5</td>\n",
       "      <td>NaN</td>\n",
       "    </tr>\n",
       "    <tr>\n",
       "      <th>1</th>\n",
       "      <td>31</td>\n",
       "      <td>Aston Villa</td>\n",
       "      <td>4.691</td>\n",
       "      <td>499.5</td>\n",
       "      <td>NaN</td>\n",
       "    </tr>\n",
       "    <tr>\n",
       "      <th>2</th>\n",
       "      <td>31</td>\n",
       "      <td>Bournemouth</td>\n",
       "      <td>6.053</td>\n",
       "      <td>499.5</td>\n",
       "      <td>NaN</td>\n",
       "    </tr>\n",
       "    <tr>\n",
       "      <th>3</th>\n",
       "      <td>31</td>\n",
       "      <td>Brentford</td>\n",
       "      <td>8.814</td>\n",
       "      <td>499.5</td>\n",
       "      <td>NaN</td>\n",
       "    </tr>\n",
       "    <tr>\n",
       "      <th>4</th>\n",
       "      <td>31</td>\n",
       "      <td>Brighton</td>\n",
       "      <td>3.664</td>\n",
       "      <td>499.5</td>\n",
       "      <td>NaN</td>\n",
       "    </tr>\n",
       "    <tr>\n",
       "      <th>...</th>\n",
       "      <td>...</td>\n",
       "      <td>...</td>\n",
       "      <td>...</td>\n",
       "      <td>...</td>\n",
       "      <td>...</td>\n",
       "    </tr>\n",
       "    <tr>\n",
       "      <th>155</th>\n",
       "      <td>38</td>\n",
       "      <td>Nott'ham Forest</td>\n",
       "      <td>4.336</td>\n",
       "      <td>499.5</td>\n",
       "      <td>18.910</td>\n",
       "    </tr>\n",
       "    <tr>\n",
       "      <th>156</th>\n",
       "      <td>38</td>\n",
       "      <td>Southampton</td>\n",
       "      <td>2.004</td>\n",
       "      <td>499.5</td>\n",
       "      <td>7.919</td>\n",
       "    </tr>\n",
       "    <tr>\n",
       "      <th>157</th>\n",
       "      <td>38</td>\n",
       "      <td>Tottenham</td>\n",
       "      <td>9.867</td>\n",
       "      <td>499.5</td>\n",
       "      <td>24.322</td>\n",
       "    </tr>\n",
       "    <tr>\n",
       "      <th>158</th>\n",
       "      <td>38</td>\n",
       "      <td>West Ham</td>\n",
       "      <td>5.393</td>\n",
       "      <td>499.5</td>\n",
       "      <td>16.399</td>\n",
       "    </tr>\n",
       "    <tr>\n",
       "      <th>159</th>\n",
       "      <td>38</td>\n",
       "      <td>Wolves</td>\n",
       "      <td>6.937</td>\n",
       "      <td>499.5</td>\n",
       "      <td>20.300</td>\n",
       "    </tr>\n",
       "  </tbody>\n",
       "</table>\n",
       "<p>160 rows × 5 columns</p>\n",
       "</div>"
      ],
      "text/plain": [
       "     gameweek             team  expected_points  simulation_nr  \\\n",
       "0          31          Arsenal            6.891          499.5   \n",
       "1          31      Aston Villa            4.691          499.5   \n",
       "2          31      Bournemouth            6.053          499.5   \n",
       "3          31        Brentford            8.814          499.5   \n",
       "4          31         Brighton            3.664          499.5   \n",
       "..        ...              ...              ...            ...   \n",
       "155        38  Nott'ham Forest            4.336          499.5   \n",
       "156        38      Southampton            2.004          499.5   \n",
       "157        38        Tottenham            9.867          499.5   \n",
       "158        38         West Ham            5.393          499.5   \n",
       "159        38           Wolves            6.937          499.5   \n",
       "\n",
       "     rolling_expected_points  \n",
       "0                        NaN  \n",
       "1                        NaN  \n",
       "2                        NaN  \n",
       "3                        NaN  \n",
       "4                        NaN  \n",
       "..                       ...  \n",
       "155                   18.910  \n",
       "156                    7.919  \n",
       "157                   24.322  \n",
       "158                   16.399  \n",
       "159                   20.300  \n",
       "\n",
       "[160 rows x 5 columns]"
      ]
     },
     "execution_count": 35,
     "metadata": {},
     "output_type": "execute_result"
    }
   ],
   "source": [
    "weekly_scores[[\"rolling_expected_points\"]] = weekly_scores.groupby(\"team\").rolling(3, on='gameweek').sum().reset_index(level=0, drop=True)[[\"expected_points\"]]\n",
    "#weekly_scores[[\"rolling_quantile_10\", \"rolling_quantile_30\", \"rolling_expected_points\", \"rolling_quantile_70\", \"rolling_quantile_90\"]] = weekly_scores.groupby(\"team\").rolling(3, on='gameweek').sum().reset_index(level=0, drop=True)[[\"quantile_10\", \"quantile_30\", \"expected_points\", \"quantile_70\", \"quantile_90\"]]\n",
    "weekly_scores"
   ]
  },
  {
   "cell_type": "code",
   "execution_count": 36,
   "metadata": {},
   "outputs": [
    {
     "data": {
      "application/vnd.plotly.v1+json": {
       "config": {
        "plotlyServerURL": "https://plot.ly"
       },
       "data": [
        {
         "line": {
          "color": "blue"
         },
         "mode": "lines+markers",
         "name": "Arsenal",
         "opacity": 1,
         "type": "scatter",
         "visible": true,
         "x": {
          "bdata": "HyAhIiMkJSY=",
          "dtype": "i1"
         },
         "y": {
          "bdata": "AAAAAAAA+H8AAAAAAAD4fxsv3SQGgT1AsHJoke2cNkDqJjEIrBw2QHsUrkfhOihAJzEIrBz6MkD6fmq8dJM1QA==",
          "dtype": "f8"
         }
        },
        {
         "line": {
          "color": "gray"
         },
         "mode": "lines+markers",
         "name": "Aston Villa",
         "opacity": 0.3,
         "type": "scatter",
         "visible": true,
         "x": {
          "bdata": "HyAhIiMkJSY=",
          "dtype": "i1"
         },
         "y": {
          "bdata": "AAAAAAAA+H8AAAAAAAD4f57vp8ZLNzRAzczMzMwML0BMN4lBYKUpQEA1XrpJjCJAvp8aL92kLEAEVg4tsl0sQA==",
          "dtype": "f8"
         }
        },
        {
         "line": {
          "color": "gray"
         },
         "mode": "lines+markers",
         "name": "Bournemouth",
         "opacity": 0.3,
         "type": "scatter",
         "visible": true,
         "x": {
          "bdata": "HyAhIiMkJSY=",
          "dtype": "i1"
         },
         "y": {
          "bdata": "AAAAAAAA+H8AAAAAAAD4f9nO91PjZS9AmpmZmZnZLkB/arx0k1gvQCGwcmiRrTFAlkOLbOfbMEDXo3A9ChczQA==",
          "dtype": "f8"
         }
        },
        {
         "line": {
          "color": "gray"
         },
         "mode": "lines+markers",
         "name": "Brentford",
         "opacity": 0.3,
         "type": "scatter",
         "visible": true,
         "x": {
          "bdata": "HyAhIiMkJSY=",
          "dtype": "i1"
         },
         "y": {
          "bdata": "AAAAAAAA+H8AAAAAAAD4fxSuR+F6tDRAWDm0yHZ+NEAehetRuP40QNV46SYxiDVAke18PzX+MkBg5dAi23kzQA==",
          "dtype": "f8"
         }
        },
        {
         "line": {
          "color": "gray"
         },
         "mode": "lines+markers",
         "name": "Brighton",
         "opacity": 0.3,
         "type": "scatter",
         "visible": true,
         "x": {
          "bdata": "HyAhIiMkJSY=",
          "dtype": "i1"
         },
         "y": {
          "bdata": "AAAAAAAA+H8AAAAAAAD4fwisHFpkuy5AmpmZmZm5MUCsHFpkO18tQJ7vp8ZL9y9AOrTIdr7fLkD4U+OlmwQuQA==",
          "dtype": "f8"
         }
        },
        {
         "line": {
          "color": "gray"
         },
         "mode": "lines+markers",
         "name": "Chelsea",
         "opacity": 0.3,
         "type": "scatter",
         "visible": true,
         "x": {
          "bdata": "HyAhIiMkJSY=",
          "dtype": "i1"
         },
         "y": {
          "bdata": "AAAAAAAA+H8AAAAAAAD4f4GVQ4tsZzRAsHJoke1cNUBEi2zn+ykyQHWTGARWLjFAx0s3iUEgMUAi2/l+alwxQA==",
          "dtype": "f8"
         }
        },
        {
         "line": {
          "color": "gray"
         },
         "mode": "lines+markers",
         "name": "Crystal Palace",
         "opacity": 0.3,
         "type": "scatter",
         "visible": true,
         "x": {
          "bdata": "HyAhIiMkJSY=",
          "dtype": "i1"
         },
         "y": {
          "bdata": "AAAAAAAA+H8AAAAAAAD4fx1aZDvfT0FAnMQgsHKIPECBlUOLbOc1QCUGgZVDyy5Anu+nxku3NkBzaJHtfD8zQA==",
          "dtype": "f8"
         }
        },
        {
         "line": {
          "color": "gray"
         },
         "mode": "lines+markers",
         "name": "Everton",
         "opacity": 0.3,
         "type": "scatter",
         "visible": true,
         "x": {
          "bdata": "HyAhIiMkJSY=",
          "dtype": "i1"
         },
         "y": {
          "bdata": "AAAAAAAA+H8AAAAAAAD4f5qZmZmZmTNAjpduEoMgNEBkO99PjfcyQCGwcmiR7TNA5KWbxCBQNUDP91Pjpbs1QA==",
          "dtype": "f8"
         }
        },
        {
         "line": {
          "color": "gray"
         },
         "mode": "lines+markers",
         "name": "Fulham",
         "opacity": 0.3,
         "type": "scatter",
         "visible": true,
         "x": {
          "bdata": "HyAhIiMkJSY=",
          "dtype": "i1"
         },
         "y": {
          "bdata": "AAAAAAAA+H8AAAAAAAD4f/hT46WbBDFAMQisHFqkMkAxCKwcWmQzQDVeukkMIjJArBxaZDvfLUCPwvUoXE8vQA==",
          "dtype": "f8"
         }
        },
        {
         "line": {
          "color": "gray"
         },
         "mode": "lines+markers",
         "name": "Ipswich Town",
         "opacity": 0.3,
         "type": "scatter",
         "visible": true,
         "x": {
          "bdata": "HyAhIiMkJSY=",
          "dtype": "i1"
         },
         "y": {
          "bdata": "AAAAAAAA+H8AAAAAAAD4f5zEILByaCVAbOf7qfESJUAxCKwcWuQkQOSlm8QgcClA9ihcj8J1K0DWeOkmMcguQA==",
          "dtype": "f8"
         }
        },
        {
         "line": {
          "color": "gray"
         },
         "mode": "lines+markers",
         "name": "Leicester City",
         "opacity": 0.3,
         "type": "scatter",
         "visible": true,
         "x": {
          "bdata": "HyAhIiMkJSY=",
          "dtype": "i1"
         },
         "y": {
          "bdata": "AAAAAAAA+H8AAAAAAAD4f3jpJjEILCZAnu+nxks3JUBANV66SYwmQGHl0CLbeSlAp8ZLN4lBLEBAYOXQIlspQA==",
          "dtype": "f8"
         }
        },
        {
         "line": {
          "color": "gray"
         },
         "mode": "lines+markers",
         "name": "Liverpool",
         "opacity": 0.3,
         "type": "scatter",
         "visible": true,
         "x": {
          "bdata": "HyAhIiMkJSY=",
          "dtype": "i1"
         },
         "y": {
          "bdata": "AAAAAAAA+H8AAAAAAAD4f9ejcD0K9zhANDMzMzMzOUAlBoGVQ0s2QHe+nxovPTFAQWDl0CJbMUCoxks3iQEyQA==",
          "dtype": "f8"
         }
        },
        {
         "line": {
          "color": "gray"
         },
         "mode": "lines+markers",
         "name": "Manchester City",
         "opacity": 0.3,
         "type": "scatter",
         "visible": true,
         "x": {
          "bdata": "HyAhIiMkJSY=",
          "dtype": "i1"
         },
         "y": {
          "bdata": "AAAAAAAA+H8AAAAAAAD4f8uhRbbzvTpAOrTIdr6/M0CWQ4ts51s2QIts5/upMTJAeOkmMQgMOUBaZDvfT802QA==",
          "dtype": "f8"
         }
        },
        {
         "line": {
          "color": "gray"
         },
         "mode": "lines+markers",
         "name": "Manchester Utd",
         "opacity": 0.3,
         "type": "scatter",
         "visible": true,
         "x": {
          "bdata": "HyAhIiMkJSY=",
          "dtype": "i1"
         },
         "y": {
          "bdata": "AAAAAAAA+H8AAAAAAAD4f99PjZduMjNA7Xw/NV7aMkB/arx0k5gwQK5H4XoULjBAwcqhRbYzMUCoxks3iUE1QA==",
          "dtype": "f8"
         }
        },
        {
         "line": {
          "color": "gray"
         },
         "mode": "lines+markers",
         "name": "Newcastle Utd",
         "opacity": 0.3,
         "type": "scatter",
         "visible": true,
         "x": {
          "bdata": "HyAhIiMkJSY=",
          "dtype": "i1"
         },
         "y": {
          "bdata": "AAAAAAAA+H8AAAAAAAD4f9NNYhBY2TlAuR6F61HYOUDWeOkmMUg0QG8Sg8DKATRABFYOLbLdLUD2KFyPwrUtQA==",
          "dtype": "f8"
         }
        },
        {
         "line": {
          "color": "gray"
         },
         "mode": "lines+markers",
         "name": "Nott'ham Forest",
         "opacity": 0.3,
         "type": "scatter",
         "visible": true,
         "x": {
          "bdata": "HyAhIiMkJSY=",
          "dtype": "i1"
         },
         "y": {
          "bdata": "AAAAAAAA+H8AAAAAAAD4f23n+6nxEjBAw/UoXI+CMEA6tMh2vl8uQDeJQWDlUDJALbKd76cGM0ApXI/C9egyQA==",
          "dtype": "f8"
         }
        },
        {
         "line": {
          "color": "gray"
         },
         "mode": "lines+markers",
         "name": "Southampton",
         "opacity": 0.3,
         "type": "scatter",
         "visible": true,
         "x": {
          "bdata": "HyAhIiMkJSY=",
          "dtype": "i1"
         },
         "y": {
          "bdata": "AAAAAAAA+H8AAAAAAAD4f2iR7Xw/dSZAaZHtfD91KUDufD81XjooQMqhRbbzPSVA1XjpJjHII0CUGARWDq0fQA==",
          "dtype": "f8"
         }
        },
        {
         "line": {
          "color": "gray"
         },
         "mode": "lines+markers",
         "name": "Tottenham",
         "opacity": 0.3,
         "type": "scatter",
         "visible": true,
         "x": {
          "bdata": "HyAhIiMkJSY=",
          "dtype": "i1"
         },
         "y": {
          "bdata": "AAAAAAAA+H8AAAAAAAD4f76fGi/dpDlAZmZmZmbmNkDO91Pjpds2QIcW2c73kzJAYOXQItsZNUDgT42XblI4QA==",
          "dtype": "f8"
         }
        },
        {
         "line": {
          "color": "gray"
         },
         "mode": "lines+markers",
         "name": "West Ham",
         "opacity": 0.3,
         "type": "scatter",
         "visible": true,
         "x": {
          "bdata": "HyAhIiMkJSY=",
          "dtype": "i1"
         },
         "y": {
          "bdata": "AAAAAAAA+H8AAAAAAAD4f1K4HoXrETJA2c73U+MFMkAnMQisHBoyQMUgsHJoUS5ACtejcD0KLUCgGi/dJGYwQA==",
          "dtype": "f8"
         }
        },
        {
         "line": {
          "color": "gray"
         },
         "mode": "lines+markers",
         "name": "Wolves",
         "opacity": 0.3,
         "type": "scatter",
         "visible": true,
         "x": {
          "bdata": "HyAhIiMkJSY=",
          "dtype": "i1"
         },
         "y": {
          "bdata": "AAAAAAAA+H8AAAAAAAD4fxbZzvdToypAtvP91HipLEBcj8L1KBwtQArXo3A9ajNAlBgEVg5NMUDNzMzMzEw0QA==",
          "dtype": "f8"
         }
        }
       ],
       "layout": {
        "template": {
         "data": {
          "bar": [
           {
            "error_x": {
             "color": "#2a3f5f"
            },
            "error_y": {
             "color": "#2a3f5f"
            },
            "marker": {
             "line": {
              "color": "#E5ECF6",
              "width": 0.5
             },
             "pattern": {
              "fillmode": "overlay",
              "size": 10,
              "solidity": 0.2
             }
            },
            "type": "bar"
           }
          ],
          "barpolar": [
           {
            "marker": {
             "line": {
              "color": "#E5ECF6",
              "width": 0.5
             },
             "pattern": {
              "fillmode": "overlay",
              "size": 10,
              "solidity": 0.2
             }
            },
            "type": "barpolar"
           }
          ],
          "carpet": [
           {
            "aaxis": {
             "endlinecolor": "#2a3f5f",
             "gridcolor": "white",
             "linecolor": "white",
             "minorgridcolor": "white",
             "startlinecolor": "#2a3f5f"
            },
            "baxis": {
             "endlinecolor": "#2a3f5f",
             "gridcolor": "white",
             "linecolor": "white",
             "minorgridcolor": "white",
             "startlinecolor": "#2a3f5f"
            },
            "type": "carpet"
           }
          ],
          "choropleth": [
           {
            "colorbar": {
             "outlinewidth": 0,
             "ticks": ""
            },
            "type": "choropleth"
           }
          ],
          "contour": [
           {
            "colorbar": {
             "outlinewidth": 0,
             "ticks": ""
            },
            "colorscale": [
             [
              0,
              "#0d0887"
             ],
             [
              0.1111111111111111,
              "#46039f"
             ],
             [
              0.2222222222222222,
              "#7201a8"
             ],
             [
              0.3333333333333333,
              "#9c179e"
             ],
             [
              0.4444444444444444,
              "#bd3786"
             ],
             [
              0.5555555555555556,
              "#d8576b"
             ],
             [
              0.6666666666666666,
              "#ed7953"
             ],
             [
              0.7777777777777778,
              "#fb9f3a"
             ],
             [
              0.8888888888888888,
              "#fdca26"
             ],
             [
              1,
              "#f0f921"
             ]
            ],
            "type": "contour"
           }
          ],
          "contourcarpet": [
           {
            "colorbar": {
             "outlinewidth": 0,
             "ticks": ""
            },
            "type": "contourcarpet"
           }
          ],
          "heatmap": [
           {
            "colorbar": {
             "outlinewidth": 0,
             "ticks": ""
            },
            "colorscale": [
             [
              0,
              "#0d0887"
             ],
             [
              0.1111111111111111,
              "#46039f"
             ],
             [
              0.2222222222222222,
              "#7201a8"
             ],
             [
              0.3333333333333333,
              "#9c179e"
             ],
             [
              0.4444444444444444,
              "#bd3786"
             ],
             [
              0.5555555555555556,
              "#d8576b"
             ],
             [
              0.6666666666666666,
              "#ed7953"
             ],
             [
              0.7777777777777778,
              "#fb9f3a"
             ],
             [
              0.8888888888888888,
              "#fdca26"
             ],
             [
              1,
              "#f0f921"
             ]
            ],
            "type": "heatmap"
           }
          ],
          "histogram": [
           {
            "marker": {
             "pattern": {
              "fillmode": "overlay",
              "size": 10,
              "solidity": 0.2
             }
            },
            "type": "histogram"
           }
          ],
          "histogram2d": [
           {
            "colorbar": {
             "outlinewidth": 0,
             "ticks": ""
            },
            "colorscale": [
             [
              0,
              "#0d0887"
             ],
             [
              0.1111111111111111,
              "#46039f"
             ],
             [
              0.2222222222222222,
              "#7201a8"
             ],
             [
              0.3333333333333333,
              "#9c179e"
             ],
             [
              0.4444444444444444,
              "#bd3786"
             ],
             [
              0.5555555555555556,
              "#d8576b"
             ],
             [
              0.6666666666666666,
              "#ed7953"
             ],
             [
              0.7777777777777778,
              "#fb9f3a"
             ],
             [
              0.8888888888888888,
              "#fdca26"
             ],
             [
              1,
              "#f0f921"
             ]
            ],
            "type": "histogram2d"
           }
          ],
          "histogram2dcontour": [
           {
            "colorbar": {
             "outlinewidth": 0,
             "ticks": ""
            },
            "colorscale": [
             [
              0,
              "#0d0887"
             ],
             [
              0.1111111111111111,
              "#46039f"
             ],
             [
              0.2222222222222222,
              "#7201a8"
             ],
             [
              0.3333333333333333,
              "#9c179e"
             ],
             [
              0.4444444444444444,
              "#bd3786"
             ],
             [
              0.5555555555555556,
              "#d8576b"
             ],
             [
              0.6666666666666666,
              "#ed7953"
             ],
             [
              0.7777777777777778,
              "#fb9f3a"
             ],
             [
              0.8888888888888888,
              "#fdca26"
             ],
             [
              1,
              "#f0f921"
             ]
            ],
            "type": "histogram2dcontour"
           }
          ],
          "mesh3d": [
           {
            "colorbar": {
             "outlinewidth": 0,
             "ticks": ""
            },
            "type": "mesh3d"
           }
          ],
          "parcoords": [
           {
            "line": {
             "colorbar": {
              "outlinewidth": 0,
              "ticks": ""
             }
            },
            "type": "parcoords"
           }
          ],
          "pie": [
           {
            "automargin": true,
            "type": "pie"
           }
          ],
          "scatter": [
           {
            "fillpattern": {
             "fillmode": "overlay",
             "size": 10,
             "solidity": 0.2
            },
            "type": "scatter"
           }
          ],
          "scatter3d": [
           {
            "line": {
             "colorbar": {
              "outlinewidth": 0,
              "ticks": ""
             }
            },
            "marker": {
             "colorbar": {
              "outlinewidth": 0,
              "ticks": ""
             }
            },
            "type": "scatter3d"
           }
          ],
          "scattercarpet": [
           {
            "marker": {
             "colorbar": {
              "outlinewidth": 0,
              "ticks": ""
             }
            },
            "type": "scattercarpet"
           }
          ],
          "scattergeo": [
           {
            "marker": {
             "colorbar": {
              "outlinewidth": 0,
              "ticks": ""
             }
            },
            "type": "scattergeo"
           }
          ],
          "scattergl": [
           {
            "marker": {
             "colorbar": {
              "outlinewidth": 0,
              "ticks": ""
             }
            },
            "type": "scattergl"
           }
          ],
          "scattermap": [
           {
            "marker": {
             "colorbar": {
              "outlinewidth": 0,
              "ticks": ""
             }
            },
            "type": "scattermap"
           }
          ],
          "scattermapbox": [
           {
            "marker": {
             "colorbar": {
              "outlinewidth": 0,
              "ticks": ""
             }
            },
            "type": "scattermapbox"
           }
          ],
          "scatterpolar": [
           {
            "marker": {
             "colorbar": {
              "outlinewidth": 0,
              "ticks": ""
             }
            },
            "type": "scatterpolar"
           }
          ],
          "scatterpolargl": [
           {
            "marker": {
             "colorbar": {
              "outlinewidth": 0,
              "ticks": ""
             }
            },
            "type": "scatterpolargl"
           }
          ],
          "scatterternary": [
           {
            "marker": {
             "colorbar": {
              "outlinewidth": 0,
              "ticks": ""
             }
            },
            "type": "scatterternary"
           }
          ],
          "surface": [
           {
            "colorbar": {
             "outlinewidth": 0,
             "ticks": ""
            },
            "colorscale": [
             [
              0,
              "#0d0887"
             ],
             [
              0.1111111111111111,
              "#46039f"
             ],
             [
              0.2222222222222222,
              "#7201a8"
             ],
             [
              0.3333333333333333,
              "#9c179e"
             ],
             [
              0.4444444444444444,
              "#bd3786"
             ],
             [
              0.5555555555555556,
              "#d8576b"
             ],
             [
              0.6666666666666666,
              "#ed7953"
             ],
             [
              0.7777777777777778,
              "#fb9f3a"
             ],
             [
              0.8888888888888888,
              "#fdca26"
             ],
             [
              1,
              "#f0f921"
             ]
            ],
            "type": "surface"
           }
          ],
          "table": [
           {
            "cells": {
             "fill": {
              "color": "#EBF0F8"
             },
             "line": {
              "color": "white"
             }
            },
            "header": {
             "fill": {
              "color": "#C8D4E3"
             },
             "line": {
              "color": "white"
             }
            },
            "type": "table"
           }
          ]
         },
         "layout": {
          "annotationdefaults": {
           "arrowcolor": "#2a3f5f",
           "arrowhead": 0,
           "arrowwidth": 1
          },
          "autotypenumbers": "strict",
          "coloraxis": {
           "colorbar": {
            "outlinewidth": 0,
            "ticks": ""
           }
          },
          "colorscale": {
           "diverging": [
            [
             0,
             "#8e0152"
            ],
            [
             0.1,
             "#c51b7d"
            ],
            [
             0.2,
             "#de77ae"
            ],
            [
             0.3,
             "#f1b6da"
            ],
            [
             0.4,
             "#fde0ef"
            ],
            [
             0.5,
             "#f7f7f7"
            ],
            [
             0.6,
             "#e6f5d0"
            ],
            [
             0.7,
             "#b8e186"
            ],
            [
             0.8,
             "#7fbc41"
            ],
            [
             0.9,
             "#4d9221"
            ],
            [
             1,
             "#276419"
            ]
           ],
           "sequential": [
            [
             0,
             "#0d0887"
            ],
            [
             0.1111111111111111,
             "#46039f"
            ],
            [
             0.2222222222222222,
             "#7201a8"
            ],
            [
             0.3333333333333333,
             "#9c179e"
            ],
            [
             0.4444444444444444,
             "#bd3786"
            ],
            [
             0.5555555555555556,
             "#d8576b"
            ],
            [
             0.6666666666666666,
             "#ed7953"
            ],
            [
             0.7777777777777778,
             "#fb9f3a"
            ],
            [
             0.8888888888888888,
             "#fdca26"
            ],
            [
             1,
             "#f0f921"
            ]
           ],
           "sequentialminus": [
            [
             0,
             "#0d0887"
            ],
            [
             0.1111111111111111,
             "#46039f"
            ],
            [
             0.2222222222222222,
             "#7201a8"
            ],
            [
             0.3333333333333333,
             "#9c179e"
            ],
            [
             0.4444444444444444,
             "#bd3786"
            ],
            [
             0.5555555555555556,
             "#d8576b"
            ],
            [
             0.6666666666666666,
             "#ed7953"
            ],
            [
             0.7777777777777778,
             "#fb9f3a"
            ],
            [
             0.8888888888888888,
             "#fdca26"
            ],
            [
             1,
             "#f0f921"
            ]
           ]
          },
          "colorway": [
           "#636efa",
           "#EF553B",
           "#00cc96",
           "#ab63fa",
           "#FFA15A",
           "#19d3f3",
           "#FF6692",
           "#B6E880",
           "#FF97FF",
           "#FECB52"
          ],
          "font": {
           "color": "#2a3f5f"
          },
          "geo": {
           "bgcolor": "white",
           "lakecolor": "white",
           "landcolor": "#E5ECF6",
           "showlakes": true,
           "showland": true,
           "subunitcolor": "white"
          },
          "hoverlabel": {
           "align": "left"
          },
          "hovermode": "closest",
          "mapbox": {
           "style": "light"
          },
          "paper_bgcolor": "white",
          "plot_bgcolor": "#E5ECF6",
          "polar": {
           "angularaxis": {
            "gridcolor": "white",
            "linecolor": "white",
            "ticks": ""
           },
           "bgcolor": "#E5ECF6",
           "radialaxis": {
            "gridcolor": "white",
            "linecolor": "white",
            "ticks": ""
           }
          },
          "scene": {
           "xaxis": {
            "backgroundcolor": "#E5ECF6",
            "gridcolor": "white",
            "gridwidth": 2,
            "linecolor": "white",
            "showbackground": true,
            "ticks": "",
            "zerolinecolor": "white"
           },
           "yaxis": {
            "backgroundcolor": "#E5ECF6",
            "gridcolor": "white",
            "gridwidth": 2,
            "linecolor": "white",
            "showbackground": true,
            "ticks": "",
            "zerolinecolor": "white"
           },
           "zaxis": {
            "backgroundcolor": "#E5ECF6",
            "gridcolor": "white",
            "gridwidth": 2,
            "linecolor": "white",
            "showbackground": true,
            "ticks": "",
            "zerolinecolor": "white"
           }
          },
          "shapedefaults": {
           "line": {
            "color": "#2a3f5f"
           }
          },
          "ternary": {
           "aaxis": {
            "gridcolor": "white",
            "linecolor": "white",
            "ticks": ""
           },
           "baxis": {
            "gridcolor": "white",
            "linecolor": "white",
            "ticks": ""
           },
           "bgcolor": "#E5ECF6",
           "caxis": {
            "gridcolor": "white",
            "linecolor": "white",
            "ticks": ""
           }
          },
          "title": {
           "x": 0.05
          },
          "xaxis": {
           "automargin": true,
           "gridcolor": "white",
           "linecolor": "white",
           "ticks": "",
           "title": {
            "standoff": 15
           },
           "zerolinecolor": "white",
           "zerolinewidth": 2
          },
          "yaxis": {
           "automargin": true,
           "gridcolor": "white",
           "linecolor": "white",
           "ticks": "",
           "title": {
            "standoff": 15
           },
           "zerolinecolor": "white",
           "zerolinewidth": 2
          }
         }
        },
        "title": {
         "text": "3-week Rolling Sum of Expected Points - Arsenal"
        },
        "updatemenus": [
         {
          "buttons": [
           {
            "args": [
             {
              "line": [
               {
                "color": "blue"
               },
               {
                "color": "gray"
               },
               {
                "color": "gray"
               },
               {
                "color": "gray"
               },
               {
                "color": "gray"
               },
               {
                "color": "gray"
               },
               {
                "color": "gray"
               },
               {
                "color": "gray"
               },
               {
                "color": "gray"
               },
               {
                "color": "gray"
               },
               {
                "color": "gray"
               },
               {
                "color": "gray"
               },
               {
                "color": "gray"
               },
               {
                "color": "gray"
               },
               {
                "color": "gray"
               },
               {
                "color": "gray"
               },
               {
                "color": "gray"
               },
               {
                "color": "gray"
               },
               {
                "color": "gray"
               },
               {
                "color": "gray"
               }
              ],
              "opacity": [
               1,
               0.3,
               0.3,
               0.3,
               0.3,
               0.3,
               0.3,
               0.3,
               0.3,
               0.3,
               0.3,
               0.3,
               0.3,
               0.3,
               0.3,
               0.3,
               0.3,
               0.3,
               0.3,
               0.3
              ]
             },
             {
              "title": "3-week Rolling Sum of Expected Points - Arsenal"
             }
            ],
            "label": "Arsenal",
            "method": "update"
           },
           {
            "args": [
             {
              "line": [
               {
                "color": "gray"
               },
               {
                "color": "blue"
               },
               {
                "color": "gray"
               },
               {
                "color": "gray"
               },
               {
                "color": "gray"
               },
               {
                "color": "gray"
               },
               {
                "color": "gray"
               },
               {
                "color": "gray"
               },
               {
                "color": "gray"
               },
               {
                "color": "gray"
               },
               {
                "color": "gray"
               },
               {
                "color": "gray"
               },
               {
                "color": "gray"
               },
               {
                "color": "gray"
               },
               {
                "color": "gray"
               },
               {
                "color": "gray"
               },
               {
                "color": "gray"
               },
               {
                "color": "gray"
               },
               {
                "color": "gray"
               },
               {
                "color": "gray"
               }
              ],
              "opacity": [
               0.3,
               1,
               0.3,
               0.3,
               0.3,
               0.3,
               0.3,
               0.3,
               0.3,
               0.3,
               0.3,
               0.3,
               0.3,
               0.3,
               0.3,
               0.3,
               0.3,
               0.3,
               0.3,
               0.3
              ]
             },
             {
              "title": "3-week Rolling Sum of Expected Points - Aston Villa"
             }
            ],
            "label": "Aston Villa",
            "method": "update"
           },
           {
            "args": [
             {
              "line": [
               {
                "color": "gray"
               },
               {
                "color": "gray"
               },
               {
                "color": "blue"
               },
               {
                "color": "gray"
               },
               {
                "color": "gray"
               },
               {
                "color": "gray"
               },
               {
                "color": "gray"
               },
               {
                "color": "gray"
               },
               {
                "color": "gray"
               },
               {
                "color": "gray"
               },
               {
                "color": "gray"
               },
               {
                "color": "gray"
               },
               {
                "color": "gray"
               },
               {
                "color": "gray"
               },
               {
                "color": "gray"
               },
               {
                "color": "gray"
               },
               {
                "color": "gray"
               },
               {
                "color": "gray"
               },
               {
                "color": "gray"
               },
               {
                "color": "gray"
               }
              ],
              "opacity": [
               0.3,
               0.3,
               1,
               0.3,
               0.3,
               0.3,
               0.3,
               0.3,
               0.3,
               0.3,
               0.3,
               0.3,
               0.3,
               0.3,
               0.3,
               0.3,
               0.3,
               0.3,
               0.3,
               0.3
              ]
             },
             {
              "title": "3-week Rolling Sum of Expected Points - Bournemouth"
             }
            ],
            "label": "Bournemouth",
            "method": "update"
           },
           {
            "args": [
             {
              "line": [
               {
                "color": "gray"
               },
               {
                "color": "gray"
               },
               {
                "color": "gray"
               },
               {
                "color": "blue"
               },
               {
                "color": "gray"
               },
               {
                "color": "gray"
               },
               {
                "color": "gray"
               },
               {
                "color": "gray"
               },
               {
                "color": "gray"
               },
               {
                "color": "gray"
               },
               {
                "color": "gray"
               },
               {
                "color": "gray"
               },
               {
                "color": "gray"
               },
               {
                "color": "gray"
               },
               {
                "color": "gray"
               },
               {
                "color": "gray"
               },
               {
                "color": "gray"
               },
               {
                "color": "gray"
               },
               {
                "color": "gray"
               },
               {
                "color": "gray"
               }
              ],
              "opacity": [
               0.3,
               0.3,
               0.3,
               1,
               0.3,
               0.3,
               0.3,
               0.3,
               0.3,
               0.3,
               0.3,
               0.3,
               0.3,
               0.3,
               0.3,
               0.3,
               0.3,
               0.3,
               0.3,
               0.3
              ]
             },
             {
              "title": "3-week Rolling Sum of Expected Points - Brentford"
             }
            ],
            "label": "Brentford",
            "method": "update"
           },
           {
            "args": [
             {
              "line": [
               {
                "color": "gray"
               },
               {
                "color": "gray"
               },
               {
                "color": "gray"
               },
               {
                "color": "gray"
               },
               {
                "color": "blue"
               },
               {
                "color": "gray"
               },
               {
                "color": "gray"
               },
               {
                "color": "gray"
               },
               {
                "color": "gray"
               },
               {
                "color": "gray"
               },
               {
                "color": "gray"
               },
               {
                "color": "gray"
               },
               {
                "color": "gray"
               },
               {
                "color": "gray"
               },
               {
                "color": "gray"
               },
               {
                "color": "gray"
               },
               {
                "color": "gray"
               },
               {
                "color": "gray"
               },
               {
                "color": "gray"
               },
               {
                "color": "gray"
               }
              ],
              "opacity": [
               0.3,
               0.3,
               0.3,
               0.3,
               1,
               0.3,
               0.3,
               0.3,
               0.3,
               0.3,
               0.3,
               0.3,
               0.3,
               0.3,
               0.3,
               0.3,
               0.3,
               0.3,
               0.3,
               0.3
              ]
             },
             {
              "title": "3-week Rolling Sum of Expected Points - Brighton"
             }
            ],
            "label": "Brighton",
            "method": "update"
           },
           {
            "args": [
             {
              "line": [
               {
                "color": "gray"
               },
               {
                "color": "gray"
               },
               {
                "color": "gray"
               },
               {
                "color": "gray"
               },
               {
                "color": "gray"
               },
               {
                "color": "blue"
               },
               {
                "color": "gray"
               },
               {
                "color": "gray"
               },
               {
                "color": "gray"
               },
               {
                "color": "gray"
               },
               {
                "color": "gray"
               },
               {
                "color": "gray"
               },
               {
                "color": "gray"
               },
               {
                "color": "gray"
               },
               {
                "color": "gray"
               },
               {
                "color": "gray"
               },
               {
                "color": "gray"
               },
               {
                "color": "gray"
               },
               {
                "color": "gray"
               },
               {
                "color": "gray"
               }
              ],
              "opacity": [
               0.3,
               0.3,
               0.3,
               0.3,
               0.3,
               1,
               0.3,
               0.3,
               0.3,
               0.3,
               0.3,
               0.3,
               0.3,
               0.3,
               0.3,
               0.3,
               0.3,
               0.3,
               0.3,
               0.3
              ]
             },
             {
              "title": "3-week Rolling Sum of Expected Points - Chelsea"
             }
            ],
            "label": "Chelsea",
            "method": "update"
           },
           {
            "args": [
             {
              "line": [
               {
                "color": "gray"
               },
               {
                "color": "gray"
               },
               {
                "color": "gray"
               },
               {
                "color": "gray"
               },
               {
                "color": "gray"
               },
               {
                "color": "gray"
               },
               {
                "color": "blue"
               },
               {
                "color": "gray"
               },
               {
                "color": "gray"
               },
               {
                "color": "gray"
               },
               {
                "color": "gray"
               },
               {
                "color": "gray"
               },
               {
                "color": "gray"
               },
               {
                "color": "gray"
               },
               {
                "color": "gray"
               },
               {
                "color": "gray"
               },
               {
                "color": "gray"
               },
               {
                "color": "gray"
               },
               {
                "color": "gray"
               },
               {
                "color": "gray"
               }
              ],
              "opacity": [
               0.3,
               0.3,
               0.3,
               0.3,
               0.3,
               0.3,
               1,
               0.3,
               0.3,
               0.3,
               0.3,
               0.3,
               0.3,
               0.3,
               0.3,
               0.3,
               0.3,
               0.3,
               0.3,
               0.3
              ]
             },
             {
              "title": "3-week Rolling Sum of Expected Points - Crystal Palace"
             }
            ],
            "label": "Crystal Palace",
            "method": "update"
           },
           {
            "args": [
             {
              "line": [
               {
                "color": "gray"
               },
               {
                "color": "gray"
               },
               {
                "color": "gray"
               },
               {
                "color": "gray"
               },
               {
                "color": "gray"
               },
               {
                "color": "gray"
               },
               {
                "color": "gray"
               },
               {
                "color": "blue"
               },
               {
                "color": "gray"
               },
               {
                "color": "gray"
               },
               {
                "color": "gray"
               },
               {
                "color": "gray"
               },
               {
                "color": "gray"
               },
               {
                "color": "gray"
               },
               {
                "color": "gray"
               },
               {
                "color": "gray"
               },
               {
                "color": "gray"
               },
               {
                "color": "gray"
               },
               {
                "color": "gray"
               },
               {
                "color": "gray"
               }
              ],
              "opacity": [
               0.3,
               0.3,
               0.3,
               0.3,
               0.3,
               0.3,
               0.3,
               1,
               0.3,
               0.3,
               0.3,
               0.3,
               0.3,
               0.3,
               0.3,
               0.3,
               0.3,
               0.3,
               0.3,
               0.3
              ]
             },
             {
              "title": "3-week Rolling Sum of Expected Points - Everton"
             }
            ],
            "label": "Everton",
            "method": "update"
           },
           {
            "args": [
             {
              "line": [
               {
                "color": "gray"
               },
               {
                "color": "gray"
               },
               {
                "color": "gray"
               },
               {
                "color": "gray"
               },
               {
                "color": "gray"
               },
               {
                "color": "gray"
               },
               {
                "color": "gray"
               },
               {
                "color": "gray"
               },
               {
                "color": "blue"
               },
               {
                "color": "gray"
               },
               {
                "color": "gray"
               },
               {
                "color": "gray"
               },
               {
                "color": "gray"
               },
               {
                "color": "gray"
               },
               {
                "color": "gray"
               },
               {
                "color": "gray"
               },
               {
                "color": "gray"
               },
               {
                "color": "gray"
               },
               {
                "color": "gray"
               },
               {
                "color": "gray"
               }
              ],
              "opacity": [
               0.3,
               0.3,
               0.3,
               0.3,
               0.3,
               0.3,
               0.3,
               0.3,
               1,
               0.3,
               0.3,
               0.3,
               0.3,
               0.3,
               0.3,
               0.3,
               0.3,
               0.3,
               0.3,
               0.3
              ]
             },
             {
              "title": "3-week Rolling Sum of Expected Points - Fulham"
             }
            ],
            "label": "Fulham",
            "method": "update"
           },
           {
            "args": [
             {
              "line": [
               {
                "color": "gray"
               },
               {
                "color": "gray"
               },
               {
                "color": "gray"
               },
               {
                "color": "gray"
               },
               {
                "color": "gray"
               },
               {
                "color": "gray"
               },
               {
                "color": "gray"
               },
               {
                "color": "gray"
               },
               {
                "color": "gray"
               },
               {
                "color": "blue"
               },
               {
                "color": "gray"
               },
               {
                "color": "gray"
               },
               {
                "color": "gray"
               },
               {
                "color": "gray"
               },
               {
                "color": "gray"
               },
               {
                "color": "gray"
               },
               {
                "color": "gray"
               },
               {
                "color": "gray"
               },
               {
                "color": "gray"
               },
               {
                "color": "gray"
               }
              ],
              "opacity": [
               0.3,
               0.3,
               0.3,
               0.3,
               0.3,
               0.3,
               0.3,
               0.3,
               0.3,
               1,
               0.3,
               0.3,
               0.3,
               0.3,
               0.3,
               0.3,
               0.3,
               0.3,
               0.3,
               0.3
              ]
             },
             {
              "title": "3-week Rolling Sum of Expected Points - Ipswich Town"
             }
            ],
            "label": "Ipswich Town",
            "method": "update"
           },
           {
            "args": [
             {
              "line": [
               {
                "color": "gray"
               },
               {
                "color": "gray"
               },
               {
                "color": "gray"
               },
               {
                "color": "gray"
               },
               {
                "color": "gray"
               },
               {
                "color": "gray"
               },
               {
                "color": "gray"
               },
               {
                "color": "gray"
               },
               {
                "color": "gray"
               },
               {
                "color": "gray"
               },
               {
                "color": "blue"
               },
               {
                "color": "gray"
               },
               {
                "color": "gray"
               },
               {
                "color": "gray"
               },
               {
                "color": "gray"
               },
               {
                "color": "gray"
               },
               {
                "color": "gray"
               },
               {
                "color": "gray"
               },
               {
                "color": "gray"
               },
               {
                "color": "gray"
               }
              ],
              "opacity": [
               0.3,
               0.3,
               0.3,
               0.3,
               0.3,
               0.3,
               0.3,
               0.3,
               0.3,
               0.3,
               1,
               0.3,
               0.3,
               0.3,
               0.3,
               0.3,
               0.3,
               0.3,
               0.3,
               0.3
              ]
             },
             {
              "title": "3-week Rolling Sum of Expected Points - Leicester City"
             }
            ],
            "label": "Leicester City",
            "method": "update"
           },
           {
            "args": [
             {
              "line": [
               {
                "color": "gray"
               },
               {
                "color": "gray"
               },
               {
                "color": "gray"
               },
               {
                "color": "gray"
               },
               {
                "color": "gray"
               },
               {
                "color": "gray"
               },
               {
                "color": "gray"
               },
               {
                "color": "gray"
               },
               {
                "color": "gray"
               },
               {
                "color": "gray"
               },
               {
                "color": "gray"
               },
               {
                "color": "blue"
               },
               {
                "color": "gray"
               },
               {
                "color": "gray"
               },
               {
                "color": "gray"
               },
               {
                "color": "gray"
               },
               {
                "color": "gray"
               },
               {
                "color": "gray"
               },
               {
                "color": "gray"
               },
               {
                "color": "gray"
               }
              ],
              "opacity": [
               0.3,
               0.3,
               0.3,
               0.3,
               0.3,
               0.3,
               0.3,
               0.3,
               0.3,
               0.3,
               0.3,
               1,
               0.3,
               0.3,
               0.3,
               0.3,
               0.3,
               0.3,
               0.3,
               0.3
              ]
             },
             {
              "title": "3-week Rolling Sum of Expected Points - Liverpool"
             }
            ],
            "label": "Liverpool",
            "method": "update"
           },
           {
            "args": [
             {
              "line": [
               {
                "color": "gray"
               },
               {
                "color": "gray"
               },
               {
                "color": "gray"
               },
               {
                "color": "gray"
               },
               {
                "color": "gray"
               },
               {
                "color": "gray"
               },
               {
                "color": "gray"
               },
               {
                "color": "gray"
               },
               {
                "color": "gray"
               },
               {
                "color": "gray"
               },
               {
                "color": "gray"
               },
               {
                "color": "gray"
               },
               {
                "color": "blue"
               },
               {
                "color": "gray"
               },
               {
                "color": "gray"
               },
               {
                "color": "gray"
               },
               {
                "color": "gray"
               },
               {
                "color": "gray"
               },
               {
                "color": "gray"
               },
               {
                "color": "gray"
               }
              ],
              "opacity": [
               0.3,
               0.3,
               0.3,
               0.3,
               0.3,
               0.3,
               0.3,
               0.3,
               0.3,
               0.3,
               0.3,
               0.3,
               1,
               0.3,
               0.3,
               0.3,
               0.3,
               0.3,
               0.3,
               0.3
              ]
             },
             {
              "title": "3-week Rolling Sum of Expected Points - Manchester City"
             }
            ],
            "label": "Manchester City",
            "method": "update"
           },
           {
            "args": [
             {
              "line": [
               {
                "color": "gray"
               },
               {
                "color": "gray"
               },
               {
                "color": "gray"
               },
               {
                "color": "gray"
               },
               {
                "color": "gray"
               },
               {
                "color": "gray"
               },
               {
                "color": "gray"
               },
               {
                "color": "gray"
               },
               {
                "color": "gray"
               },
               {
                "color": "gray"
               },
               {
                "color": "gray"
               },
               {
                "color": "gray"
               },
               {
                "color": "gray"
               },
               {
                "color": "blue"
               },
               {
                "color": "gray"
               },
               {
                "color": "gray"
               },
               {
                "color": "gray"
               },
               {
                "color": "gray"
               },
               {
                "color": "gray"
               },
               {
                "color": "gray"
               }
              ],
              "opacity": [
               0.3,
               0.3,
               0.3,
               0.3,
               0.3,
               0.3,
               0.3,
               0.3,
               0.3,
               0.3,
               0.3,
               0.3,
               0.3,
               1,
               0.3,
               0.3,
               0.3,
               0.3,
               0.3,
               0.3
              ]
             },
             {
              "title": "3-week Rolling Sum of Expected Points - Manchester Utd"
             }
            ],
            "label": "Manchester Utd",
            "method": "update"
           },
           {
            "args": [
             {
              "line": [
               {
                "color": "gray"
               },
               {
                "color": "gray"
               },
               {
                "color": "gray"
               },
               {
                "color": "gray"
               },
               {
                "color": "gray"
               },
               {
                "color": "gray"
               },
               {
                "color": "gray"
               },
               {
                "color": "gray"
               },
               {
                "color": "gray"
               },
               {
                "color": "gray"
               },
               {
                "color": "gray"
               },
               {
                "color": "gray"
               },
               {
                "color": "gray"
               },
               {
                "color": "gray"
               },
               {
                "color": "blue"
               },
               {
                "color": "gray"
               },
               {
                "color": "gray"
               },
               {
                "color": "gray"
               },
               {
                "color": "gray"
               },
               {
                "color": "gray"
               }
              ],
              "opacity": [
               0.3,
               0.3,
               0.3,
               0.3,
               0.3,
               0.3,
               0.3,
               0.3,
               0.3,
               0.3,
               0.3,
               0.3,
               0.3,
               0.3,
               1,
               0.3,
               0.3,
               0.3,
               0.3,
               0.3
              ]
             },
             {
              "title": "3-week Rolling Sum of Expected Points - Newcastle Utd"
             }
            ],
            "label": "Newcastle Utd",
            "method": "update"
           },
           {
            "args": [
             {
              "line": [
               {
                "color": "gray"
               },
               {
                "color": "gray"
               },
               {
                "color": "gray"
               },
               {
                "color": "gray"
               },
               {
                "color": "gray"
               },
               {
                "color": "gray"
               },
               {
                "color": "gray"
               },
               {
                "color": "gray"
               },
               {
                "color": "gray"
               },
               {
                "color": "gray"
               },
               {
                "color": "gray"
               },
               {
                "color": "gray"
               },
               {
                "color": "gray"
               },
               {
                "color": "gray"
               },
               {
                "color": "gray"
               },
               {
                "color": "blue"
               },
               {
                "color": "gray"
               },
               {
                "color": "gray"
               },
               {
                "color": "gray"
               },
               {
                "color": "gray"
               }
              ],
              "opacity": [
               0.3,
               0.3,
               0.3,
               0.3,
               0.3,
               0.3,
               0.3,
               0.3,
               0.3,
               0.3,
               0.3,
               0.3,
               0.3,
               0.3,
               0.3,
               1,
               0.3,
               0.3,
               0.3,
               0.3
              ]
             },
             {
              "title": "3-week Rolling Sum of Expected Points - Nott'ham Forest"
             }
            ],
            "label": "Nott'ham Forest",
            "method": "update"
           },
           {
            "args": [
             {
              "line": [
               {
                "color": "gray"
               },
               {
                "color": "gray"
               },
               {
                "color": "gray"
               },
               {
                "color": "gray"
               },
               {
                "color": "gray"
               },
               {
                "color": "gray"
               },
               {
                "color": "gray"
               },
               {
                "color": "gray"
               },
               {
                "color": "gray"
               },
               {
                "color": "gray"
               },
               {
                "color": "gray"
               },
               {
                "color": "gray"
               },
               {
                "color": "gray"
               },
               {
                "color": "gray"
               },
               {
                "color": "gray"
               },
               {
                "color": "gray"
               },
               {
                "color": "blue"
               },
               {
                "color": "gray"
               },
               {
                "color": "gray"
               },
               {
                "color": "gray"
               }
              ],
              "opacity": [
               0.3,
               0.3,
               0.3,
               0.3,
               0.3,
               0.3,
               0.3,
               0.3,
               0.3,
               0.3,
               0.3,
               0.3,
               0.3,
               0.3,
               0.3,
               0.3,
               1,
               0.3,
               0.3,
               0.3
              ]
             },
             {
              "title": "3-week Rolling Sum of Expected Points - Southampton"
             }
            ],
            "label": "Southampton",
            "method": "update"
           },
           {
            "args": [
             {
              "line": [
               {
                "color": "gray"
               },
               {
                "color": "gray"
               },
               {
                "color": "gray"
               },
               {
                "color": "gray"
               },
               {
                "color": "gray"
               },
               {
                "color": "gray"
               },
               {
                "color": "gray"
               },
               {
                "color": "gray"
               },
               {
                "color": "gray"
               },
               {
                "color": "gray"
               },
               {
                "color": "gray"
               },
               {
                "color": "gray"
               },
               {
                "color": "gray"
               },
               {
                "color": "gray"
               },
               {
                "color": "gray"
               },
               {
                "color": "gray"
               },
               {
                "color": "gray"
               },
               {
                "color": "blue"
               },
               {
                "color": "gray"
               },
               {
                "color": "gray"
               }
              ],
              "opacity": [
               0.3,
               0.3,
               0.3,
               0.3,
               0.3,
               0.3,
               0.3,
               0.3,
               0.3,
               0.3,
               0.3,
               0.3,
               0.3,
               0.3,
               0.3,
               0.3,
               0.3,
               1,
               0.3,
               0.3
              ]
             },
             {
              "title": "3-week Rolling Sum of Expected Points - Tottenham"
             }
            ],
            "label": "Tottenham",
            "method": "update"
           },
           {
            "args": [
             {
              "line": [
               {
                "color": "gray"
               },
               {
                "color": "gray"
               },
               {
                "color": "gray"
               },
               {
                "color": "gray"
               },
               {
                "color": "gray"
               },
               {
                "color": "gray"
               },
               {
                "color": "gray"
               },
               {
                "color": "gray"
               },
               {
                "color": "gray"
               },
               {
                "color": "gray"
               },
               {
                "color": "gray"
               },
               {
                "color": "gray"
               },
               {
                "color": "gray"
               },
               {
                "color": "gray"
               },
               {
                "color": "gray"
               },
               {
                "color": "gray"
               },
               {
                "color": "gray"
               },
               {
                "color": "gray"
               },
               {
                "color": "blue"
               },
               {
                "color": "gray"
               }
              ],
              "opacity": [
               0.3,
               0.3,
               0.3,
               0.3,
               0.3,
               0.3,
               0.3,
               0.3,
               0.3,
               0.3,
               0.3,
               0.3,
               0.3,
               0.3,
               0.3,
               0.3,
               0.3,
               0.3,
               1,
               0.3
              ]
             },
             {
              "title": "3-week Rolling Sum of Expected Points - West Ham"
             }
            ],
            "label": "West Ham",
            "method": "update"
           },
           {
            "args": [
             {
              "line": [
               {
                "color": "gray"
               },
               {
                "color": "gray"
               },
               {
                "color": "gray"
               },
               {
                "color": "gray"
               },
               {
                "color": "gray"
               },
               {
                "color": "gray"
               },
               {
                "color": "gray"
               },
               {
                "color": "gray"
               },
               {
                "color": "gray"
               },
               {
                "color": "gray"
               },
               {
                "color": "gray"
               },
               {
                "color": "gray"
               },
               {
                "color": "gray"
               },
               {
                "color": "gray"
               },
               {
                "color": "gray"
               },
               {
                "color": "gray"
               },
               {
                "color": "gray"
               },
               {
                "color": "gray"
               },
               {
                "color": "gray"
               },
               {
                "color": "blue"
               }
              ],
              "opacity": [
               0.3,
               0.3,
               0.3,
               0.3,
               0.3,
               0.3,
               0.3,
               0.3,
               0.3,
               0.3,
               0.3,
               0.3,
               0.3,
               0.3,
               0.3,
               0.3,
               0.3,
               0.3,
               0.3,
               1
              ]
             },
             {
              "title": "3-week Rolling Sum of Expected Points - Wolves"
             }
            ],
            "label": "Wolves",
            "method": "update"
           }
          ],
          "direction": "down",
          "showactive": true
         }
        ],
        "xaxis": {
         "title": {
          "text": "Gameweek"
         }
        },
        "yaxis": {
         "title": {
          "text": "Expected Points"
         }
        }
       }
      }
     },
     "metadata": {},
     "output_type": "display_data"
    }
   ],
   "source": [
    "# Get unique teams\n",
    "teams = np.sort(weekly_scores['team'].unique())\n",
    "default_team = teams[0]  # Default highlighted team\n",
    "\n",
    "# Create figure\n",
    "fig = go.Figure()\n",
    "\n",
    "for team in teams:\n",
    "    fig.add_trace(go.Scatter(\n",
    "        x=weekly_scores[weekly_scores['team'] == team]['gameweek'],\n",
    "        y=weekly_scores[weekly_scores['team'] == team]['rolling_expected_points'],\n",
    "        mode='lines+markers',\n",
    "        name=team,\n",
    "        line=dict(color='blue' if team == default_team else 'gray'),\n",
    "        opacity=1 if team == default_team else 0.3,\n",
    "        visible=True\n",
    "    ))\n",
    "\n",
    "# Create dropdown menu\n",
    "dropdown_buttons = []\n",
    "for selected_team in teams:\n",
    "    button = {\n",
    "        \"label\": selected_team,\n",
    "        \"method\": \"update\",\n",
    "        \"args\": [\n",
    "            {\n",
    "                \"opacity\": [1 if team == selected_team else 0.3 for team in teams],\n",
    "                \"line\": [dict(color=\"blue\" if team == selected_team else \"gray\") for team in teams],\n",
    "            },\n",
    "            {\"title\": f\"3-week Rolling Sum of Expected Points - {selected_team}\"}\n",
    "        ]\n",
    "    }\n",
    "    dropdown_buttons.append(button)\n",
    "\n",
    "# Add dropdown menu\n",
    "fig.update_layout(\n",
    "    title=f\"3-week Rolling Sum of Expected Points - {default_team}\",\n",
    "    xaxis_title=\"Gameweek\",\n",
    "    yaxis_title=\"Expected Points\",\n",
    "    updatemenus=[{\n",
    "        \"buttons\": dropdown_buttons,\n",
    "        \"direction\": \"down\",\n",
    "        \"showactive\": True,\n",
    "    }]\n",
    ")\n",
    "\n",
    "fig.show()"
   ]
  },
  {
   "cell_type": "markdown",
   "metadata": {},
   "source": [
    "# Development"
   ]
  },
  {
   "cell_type": "code",
   "execution_count": null,
   "metadata": {},
   "outputs": [],
   "source": [
    "manager_xp = []\n",
    "for _, row in fixtures.iterrows():\n",
    "    if np.isnan(row.event):\n",
    "        continue\n",
    "    else:\n",
    "        # calculate expected goals for both teams\n",
    "        home_team_xg = poisson_model.predict(pd.DataFrame(data={'team': row.home_team, 'opponent': row.away_team, 'home':1},index=[1])).values[0]\n",
    "        away_team_xg = poisson_model.predict(pd.DataFrame(data={'team': row.away_team, 'opponent': row.home_team, 'home':0},index=[1])).values[0]\n",
    "        \n",
    "        # CALCULATE EXPECTED MANAGER POINTS FOR HOME TEAM\n",
    "        new_row1 = [row.event, row.home_team, 0]\n",
    "        table_bonus_coefficient = table_bonus_check(row.home_team, row.away_team, league_table) # 1 or 0\n",
    "        # points for win\n",
    "        new_row1[2] += (6 + 10*table_bonus_coefficient)*row.home_win_probability\n",
    "        # points for draw\n",
    "        new_row1[2] += (3 + 5*table_bonus_coefficient)*row.draw_probability\n",
    "        # expected goals scored\n",
    "        new_row1[2] += home_team_xg\n",
    "        # points for clean sheet\n",
    "        new_row1[2] += 2*poisson.pmf(0, away_team_xg)\n",
    "\n",
    "        # CALCULATE EXPECTED MANAGER POINTS FOR AWAY TEAM\n",
    "        new_row2 = [row.event, row.away_team, 0]\n",
    "        table_bonus_coefficient = table_bonus_check(row.away_team, row.home_team, league_table) # 1 or 0\n",
    "        # points for win\n",
    "        new_row2[2] += (6 + 10*table_bonus_coefficient)*row.away_win_probability\n",
    "        # points for draw\n",
    "        new_row2[2] += (3 + 5*table_bonus_coefficient)*row.draw_probability\n",
    "        # expected goals scored\n",
    "        new_row2[2] += away_team_xg\n",
    "        # points for clean sheet\n",
    "        new_row2[2] += 2*poisson.pmf(0, home_team_xg)\n",
    "\n",
    "        # add rows to manager_xp\n",
    "        manager_xp.extend([new_row1, new_row2])\n",
    "        \n",
    "manager_df = pd.DataFrame(manager_xp, columns=['gameweek', 'team', 'expected_points'])\n",
    "manager_df"
   ]
  },
  {
   "cell_type": "code",
   "execution_count": null,
   "metadata": {},
   "outputs": [],
   "source": [
    "weekly_scores = manager_df.groupby(['gameweek', 'team']).sum().reset_index()\n",
    "weekly_scores"
   ]
  },
  {
   "cell_type": "markdown",
   "metadata": {},
   "source": [
    "## Simulate season"
   ]
  },
  {
   "cell_type": "code",
   "execution_count": null,
   "metadata": {},
   "outputs": [],
   "source": [
    "def simulate_match(foot_model, homeTeam, awayTeam):\n",
    "    '''\n",
    "    Simulate the outcome of a single match.\n",
    "    '''\n",
    "    \n",
    "    # simulate scoreline\n",
    "    home_goals_avg_, away_goals_avg_ = predict_average_goals(foot_model, homeTeam, awayTeam)\n",
    "    home_goals = poisson.rvs(home_goals_avg_)\n",
    "    away_goals = poisson.rvs(away_goals_avg_)\n",
    "\n",
    "    if home_goals > away_goals:\n",
    "        outcome = 'home_win'\n",
    "    elif home_goals == away_goals:   \n",
    "        outcome = 'draw'\n",
    "    else:\n",
    "        outcome = 'away_win'\n",
    "\n",
    "    return outcome, home_goals, away_goals\n",
    "    #return choices(['home_win', 'draw', 'away_win'], probabilities)[0]"
   ]
  },
  {
   "cell_type": "code",
   "execution_count": null,
   "metadata": {},
   "outputs": [],
   "source": [
    "def simulate_season(league_table, fixtures, foot_model):\n",
    "    '''Simulate a whole season.'''\n",
    "    for _, fixture in fixtures.iterrows():\n",
    "        home_team_ = fixture.Home\n",
    "        away_team_ = fixture.Away\n",
    "        # simulate match outcome\n",
    "        outcome, home_goals, away_goals = simulate_match(foot_model, home_team_, away_team_)\n",
    "        # update matches played\n",
    "        league_table.loc[league_table['Squad']==home_team_, 'MP'] += 1\n",
    "        league_table.loc[league_table['Squad']==away_team_, 'MP'] += 1\n",
    "        # update league table \n",
    "        league_table.loc[league_table['Squad']==home_team_, 'GF'] += home_goals\n",
    "        league_table.loc[league_table['Squad']==home_team_, 'GA'] += away_goals\n",
    "        league_table.loc[league_table['Squad']==home_team_, 'GD'] += home_goals - away_goals\n",
    "        league_table.loc[league_table['Squad']==away_team_, 'GF'] += away_goals\n",
    "        league_table.loc[league_table['Squad']==away_team_, 'GA'] += home_goals\n",
    "        league_table.loc[league_table['Squad']==away_team_, 'GD'] += away_goals - home_goals\n",
    "        if outcome=='home_win':\n",
    "            league_table.loc[league_table['Squad']==home_team_, 'Pts'] += 3\n",
    "            league_table.loc[league_table['Squad']==home_team_, 'W'] += 1\n",
    "            league_table.loc[league_table['Squad']==away_team_, 'L'] += 1\n",
    "        elif outcome=='draw':\n",
    "            league_table.loc[league_table['Squad']==home_team_, 'Pts'] += 1\n",
    "            league_table.loc[league_table['Squad']==away_team_, 'Pts'] += 1\n",
    "            league_table.loc[league_table['Squad']==home_team_, 'D'] += 1\n",
    "            league_table.loc[league_table['Squad']==away_team_, 'D'] += 1\n",
    "        elif outcome=='away_win':\n",
    "            league_table.loc[league_table['Squad']==away_team_, 'Pts'] += 3\n",
    "            league_table.loc[league_table['Squad']==away_team_, 'W'] += 1\n",
    "            league_table.loc[league_table['Squad']==home_team_, 'L'] += 1\n",
    "        else: \n",
    "            print('No valid result for:')\n",
    "            print(fixture)\n",
    "    \n",
    "    assert np.all(league_table['MP']==38), 'All teams have not played 38 games!'\n",
    "\n",
    "    league_table = league_table.sort_values(by=['Pts', 'GD', 'GF'], ascending=False)\n",
    "    league_table['Rk'] = np.arange(1,21)\n",
    "\n",
    "    return league_table"
   ]
  },
  {
   "cell_type": "code",
   "execution_count": null,
   "metadata": {},
   "outputs": [],
   "source": [
    "league_table = pd.read_html('https://fbref.com/en/comps/9/Premier-League-Stats')[0]\n",
    "league_table"
   ]
  },
  {
   "cell_type": "code",
   "execution_count": null,
   "metadata": {},
   "outputs": [],
   "source": [
    "simulated_table = simulate_season(league_table[['Squad', 'MP', 'W', 'D', 'L', 'GF', 'GA', 'GD', 'Pts']].copy(), fixtures, poisson_model)\n",
    "display(simulated_table)"
   ]
  },
  {
   "cell_type": "code",
   "execution_count": null,
   "metadata": {},
   "outputs": [],
   "source": [
    "nr_simulations = 1000\n",
    "simulation_results = []\n",
    "for i in tqdm(range(nr_simulations), desc='Simulating...'):\n",
    "    simulated_table = simulate_season(league_table[['Squad', 'MP', 'W', 'D', 'L', 'GF', 'GA', 'GD', 'Pts']].copy(), fixtures, poisson_model)\n",
    "    simulated_table['simulation_nr'] = i\n",
    "    simulation_results.append(simulated_table)\n",
    "print('Done!')\n",
    "\n",
    "simulation_results_df = pd.concat(simulation_results).reset_index(drop=True)"
   ]
  },
  {
   "cell_type": "code",
   "execution_count": null,
   "metadata": {},
   "outputs": [],
   "source": [
    "result_matrix = (\n",
    "    simulation_results_df.groupby(['Squad', 'Rk'])\n",
    "    .size()\n",
    "    .unstack(fill_value=0)\n",
    "    .reindex(columns=range(1, 21), fill_value=0)  # Ensure columns go from 1 to 20\n",
    ")\n",
    "\n",
    "# normalize to percentage\n",
    "result_matrix = 100 * (result_matrix / nr_simulations)"
   ]
  },
  {
   "cell_type": "code",
   "execution_count": null,
   "metadata": {},
   "outputs": [],
   "source": [
    "# Determine the most common position for each team (highest count)\n",
    "#dominant_positions = result_matrix.idxmax(axis=1)\n",
    "# Sort teams based on their most common position\n",
    "#sorted_teams = dominant_positions.sort_values().index\n",
    "\n",
    "# Reorder the matrix based on average final league position\n",
    "sorted_teams = simulation_results_df.groupby(['Squad'])['Rk'].mean().sort_values().index\n",
    "sorted_matrix = result_matrix.loc[sorted_teams]\n",
    "\n",
    "# Plot the reordered heatmap\n",
    "plt.figure(figsize=(10, 6))\n",
    "sns.heatmap(sorted_matrix, annot=True, cmap=\"Blues\", linewidths=0.5, cbar_kws={'label': 'Probability'})\n",
    "\n",
    "timestamp = datetime.now().strftime(\"%d.%m.%Y\")\n",
    "plt.title(f\"Distribution of Final League Positions (forecast on {timestamp})\")\n",
    "plt.xlabel(\"Final League Position\")\n",
    "plt.ylabel(\"Team\")\n",
    "\n",
    "plt.show()"
   ]
  }
 ],
 "metadata": {
  "kernelspec": {
   "display_name": "match_prediction",
   "language": "python",
   "name": "python3"
  },
  "language_info": {
   "codemirror_mode": {
    "name": "ipython",
    "version": 3
   },
   "file_extension": ".py",
   "mimetype": "text/x-python",
   "name": "python",
   "nbconvert_exporter": "python",
   "pygments_lexer": "ipython3",
   "version": "3.12.9"
  }
 },
 "nbformat": 4,
 "nbformat_minor": 2
}
